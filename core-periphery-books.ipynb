{
 "cells": [
  {
   "cell_type": "markdown",
   "metadata": {},
   "source": [
    "## Network Analysis of Shakespeare and Company and Goodreads"
   ]
  },
  {
   "cell_type": "code",
   "execution_count": 18,
   "metadata": {},
   "outputs": [],
   "source": [
    "# import functions from graph.py\n",
    "from graph import get_goodreads_graph, get_sc_graph\n",
    "from core_periphery_sbm import core_periphery as cp\n",
    "import networkx as nx\n",
    "from collections import Counter\n",
    "import operator\n",
    "import pandas as pd"
   ]
  },
  {
   "cell_type": "code",
   "execution_count": 19,
   "metadata": {},
   "outputs": [],
   "source": [
    "# get vertex lists, edge weights, vertex to neighbors, and number of nodes\n",
    "sc_books_in_vertex_order, sc_book_to_vertex_index, sc_edge_to_weight, sc_vertex_to_neighbors, sc_n, sc_book_uri_to_num_events, sc_book_uri_to_text, book_uri_to_year, book_uri_to_title, book_uri_to_author = get_sc_graph()"
   ]
  },
  {
   "cell_type": "code",
   "execution_count": 20,
   "metadata": {},
   "outputs": [],
   "source": [
    "def print_graph_summary(books_in_vertex_order, book_to_vertex_index, edge_to_weight, vertex_to_neighbors, n):\n",
    "    print('# of vertices: {:,}'.format(n))\n",
    "    # all edges are included twice because these are undirected graphs\n",
    "    print('# of unique edges: {:,}'.format(int(len(edge_to_weight)/2)))\n",
    "    print('Total edge weights: {:,}'.format(int(sum(edge_to_weight.values())/2)))\n",
    "\n",
    "    # list the five vertices with highest degree\n",
    "    print('\\nFive books with the most neighbors:')\n",
    "    vertex_to_degree = {v: len(neighbors) for v, neighbors in vertex_to_neighbors.items()}\n",
    "    vertex_to_degree_sorted = sorted(vertex_to_degree.items(), reverse=True, key=operator.itemgetter(1))\n",
    "    for vertex_idx, degree in vertex_to_degree_sorted[:5]:\n",
    "        vertex_book_name = books_in_vertex_order[vertex_idx]\n",
    "        print('{} neighbors: {}'.format(degree, vertex_book_name))"
   ]
  },
  {
   "cell_type": "code",
   "execution_count": 21,
   "metadata": {},
   "outputs": [
    {
     "name": "stdout",
     "output_type": "stream",
     "text": [
      "# of vertices: 1,511\n",
      "# of unique edges: 198,115\n",
      "Total edge weights: 267,207\n",
      "\n",
      "Five books with the most neighbors:\n",
      "926 neighbors: The Sun Also Rises by Hemingway, Ernest (1926)\n",
      "915 neighbors: A Portrait of the Artist as a Young Man by Joyce, James (1916)\n",
      "898 neighbors: Dubliners by Joyce, James (1914)\n",
      "881 neighbors: Pointed Roofs (Pilgrimage 1) by Richardson, Dorothy M. (1915)\n",
      "872 neighbors: A Farewell to Arms by Hemingway, Ernest (1929)\n"
     ]
    }
   ],
   "source": [
    "print_graph_summary(sc_books_in_vertex_order, sc_book_to_vertex_index, sc_edge_to_weight, sc_vertex_to_neighbors, sc_n)"
   ]
  },
  {
   "cell_type": "code",
   "execution_count": 10,
   "metadata": {},
   "outputs": [],
   "source": [
    "def tuple_to_list(edge_to_weight):\n",
    "    fill = []\n",
    "    for i in edge_to_weight.items():\n",
    "        l = list(i)\n",
    "        fill.append(l)\n",
    "    edge_to_weight_list = []\n",
    "    for i in fill:\n",
    "        edges = i[0]\n",
    "        listed_edge = list(edges)\n",
    "        listed_edge.append(i[1])\n",
    "        edge_to_weight_list.append(listed_edge)\n",
    "    return edge_to_weight_list"
   ]
  },
  {
   "cell_type": "code",
   "execution_count": 11,
   "metadata": {},
   "outputs": [],
   "source": [
    "sc_weights_list = tuple_to_list(sc_edge_to_weight)"
   ]
  },
  {
   "cell_type": "code",
   "execution_count": 12,
   "metadata": {},
   "outputs": [
    {
     "data": {
      "text/plain": [
       "[1491, 0, 1]"
      ]
     },
     "execution_count": 12,
     "metadata": {},
     "output_type": "execute_result"
    }
   ],
   "source": [
    "# from edge [0] to edge [1], the weight is [2]\n",
    "sc_weights_list[0]"
   ]
  },
  {
   "cell_type": "markdown",
   "metadata": {},
   "source": [
    "### Shakespeare and Co Analysis"
   ]
  },
  {
   "cell_type": "code",
   "execution_count": 13,
   "metadata": {},
   "outputs": [],
   "source": [
    "# Create SHAKESPEARE AND CO graph\n",
    "sc_G = nx.Graph()\n",
    "sc_G.add_weighted_edges_from(sc_weights_list)"
   ]
  },
  {
   "cell_type": "markdown",
   "metadata": {},
   "source": [
    "Next chunk is optional: I do this only to make the results more interpretable. "
   ]
  },
  {
   "cell_type": "code",
   "execution_count": 14,
   "metadata": {},
   "outputs": [],
   "source": [
    "# optional: change vertex ids to book names\n",
    "sc_dict = {value:key for key, value in sc_book_to_vertex_index.items()}\n",
    "mapping = sc_dict # Dictionary from id to title"
   ]
  },
  {
   "cell_type": "code",
   "execution_count": 15,
   "metadata": {},
   "outputs": [],
   "source": [
    "sc_G = nx.relabel_nodes(sc_G, mapping)"
   ]
  },
  {
   "cell_type": "markdown",
   "metadata": {},
   "source": [
    "### Core-Periphery Structure"
   ]
  },
  {
   "cell_type": "markdown",
   "metadata": {},
   "source": [
    "This section draws from Gallagher et al.'s [\"A clarified typology of core-periphery structure in networks\"](https://advances.sciencemag.org/content/7/12/eabc9800), with code available [here](https://github.com/ryanjgallagher/core_periphery_sbm). Core-periphery structure studies how networks can be divided into a core of densely interconnected nodes, which are highly connected to other core nodes, and periphery nodes that are connected only to core nodes and not each other. This paper develops/assesses two core-periphery model types: the hub-and-spoke model that divides the network into two clean blocks (core vs. periphery) and a layered model that allows for layers of periphery-ness. "
   ]
  },
  {
   "cell_type": "code",
   "execution_count": 16,
   "metadata": {},
   "outputs": [],
   "source": [
    "# Initialize hub-and-spoke model and infer structure\n",
    "hubspoke = cp.HubSpokeCorePeriphery(n_gibbs=100, n_mcmc=10*len(sc_G))\n",
    "hubspoke.infer(sc_G)"
   ]
  },
  {
   "cell_type": "code",
   "execution_count": 116,
   "metadata": {},
   "outputs": [],
   "source": [
    "layered = cp.LayeredCorePeriphery(n_layers=4, n_gibbs=100, n_mcmc=10*len(sc_G))\n",
    "layered.infer(sc_G)"
   ]
  },
  {
   "cell_type": "code",
   "execution_count": 117,
   "metadata": {},
   "outputs": [],
   "source": [
    "# Get core and periphery assignments from hub-and-spoke model\n",
    "node2label_hs = hubspoke.get_labels(last_n_samples=50)\n",
    "\n",
    "# Get layer assignments from the layered model\n",
    "node2label_l = layered.get_labels(last_n_samples=50)"
   ]
  },
  {
   "cell_type": "markdown",
   "metadata": {},
   "source": [
    "**Create dataframes**: the goal is to get this into a nice csv with columns for book title, author, h&s cp label, layered cp label, coreness, and probability."
   ]
  },
  {
   "cell_type": "code",
   "execution_count": 118,
   "metadata": {},
   "outputs": [],
   "source": [
    "sc_hub_spoke_df = pd.DataFrame.from_dict(node2label_hs, orient='index')\n",
    "sc_layered_df = pd.DataFrame.from_dict(node2label_l, orient='index')"
   ]
  },
  {
   "cell_type": "markdown",
   "metadata": {},
   "source": [
    "**Core-Periphery Label:** For both models (hub-and-spoke and layered) the core is 0; for the layered model, the further away from 0 the more peripheral the node. "
   ]
  },
  {
   "cell_type": "code",
   "execution_count": 123,
   "metadata": {},
   "outputs": [],
   "source": [
    "sc_layered_probs_df = pd.DataFrame.from_dict(node2probs_l, orient='index')"
   ]
  },
  {
   "cell_type": "markdown",
   "metadata": {},
   "source": [
    "**Coreness**, where the closer to 1 the more core; closer to 0 the more peripheral."
   ]
  },
  {
   "cell_type": "code",
   "execution_count": 124,
   "metadata": {},
   "outputs": [],
   "source": [
    "# Dictionary of node -> coreness\n",
    "node2coreness_l = layered.get_coreness(last_n_samples=50, return_dict=True)"
   ]
  },
  {
   "cell_type": "code",
   "execution_count": 125,
   "metadata": {},
   "outputs": [],
   "source": [
    "sc_layered_coreness_df = pd.DataFrame.from_dict(node2coreness_l, orient='index')"
   ]
  },
  {
   "cell_type": "code",
   "execution_count": 149,
   "metadata": {},
   "outputs": [],
   "source": [
    "# all books that are especially \"corey\" in the layered model\n",
    "most_core = []\n",
    "for book, coreness in node2coreness_l.items():  # for name, age in dictionary.iteritems():  \n",
    "    if coreness > .92:\n",
    "        most_core.append(book)"
   ]
  },
  {
   "cell_type": "code",
   "execution_count": 150,
   "metadata": {
    "scrolled": true
   },
   "outputs": [
    {
     "data": {
      "text/plain": [
       "['A Farewell to Arms by Hemingway, Ernest (1929)',\n",
       " 'A Handful of Dust by Waugh, Evelyn (1934)',\n",
       " 'A Note in Music by Lehmann, Rosamond (1930)',\n",
       " 'After Many a Summer by Huxley, Aldous (1939)',\n",
       " 'All This and Heaven Too by Field, Rachel (1938)',\n",
       " 'An American Tragedy by Dreiser, Theodore (1925)',\n",
       " 'Angel Pavement by Priestley, J. B. (1930)',\n",
       " 'Antic Hay by Huxley, Aldous (1923)',\n",
       " 'Babbitt by Lewis, Sinclair (1922)',\n",
       " 'Bliss and Other Stories by Mansfield, Katherine (1920)',\n",
       " 'Brave New World by Huxley, Aldous (1932)',\n",
       " 'Buddenbrooks by Mann, Thomas (1924)',\n",
       " \"Busman's Honeymoon by Sayers, Dorothy (1937)\",\n",
       " 'Dead Souls by Gogol, Nikolai (1842)',\n",
       " 'Death of a Hero by Aldington, Richard (1929)',\n",
       " 'Dodsworth by Lewis, Sinclair (1929)',\n",
       " 'Dubliners by Joyce, James (1914)',\n",
       " 'Dusty Answer by Lehmann, Rosamond (1927)',\n",
       " 'Esther Waters by Moore, George (1894)',\n",
       " \"Famine by O'Flaherty, Liam (1937)\",\n",
       " 'Gentlemen Prefer Blondes: The Illuminating Diary of a Professional Lady by Loos, Anita (1925)',\n",
       " 'Gone with the Wind by Mitchell, Margaret (1936)',\n",
       " 'Harriet Hume: A London Fantasy by West, Rebecca (1929)',\n",
       " 'Let the People Sing by Priestley, J. B. (1939)',\n",
       " 'Letters of Jane Austen by Austen, Jane (1884)',\n",
       " 'Light in August by Faulkner, William (1932)',\n",
       " 'Magnolia Street by Golding, Louis (1932)',\n",
       " 'Main Street: The Story of Carol Kennicott by Lewis, Sinclair (1920)',\n",
       " 'Mrs. Dalloway by Woolf, Virginia (1925)',\n",
       " 'Of Human Bondage by Maugham, W. Somerset (1915)',\n",
       " 'Rebecca by Du Maurier, Daphne (1938)',\n",
       " 'Red Sky at Morning by Kennedy, Margaret (1927)',\n",
       " 'Revolving Lights (Pilgrimage 7) by Richardson, Dorothy M. (1923)',\n",
       " 'Sanctuary by Faulkner, William (1931)',\n",
       " 'Scenes of Clerical Life by Eliot, George (1857)',\n",
       " 'So Red the Rose by Young, Stark (1934)',\n",
       " 'Something Childish and Other Stories by Mansfield, Katherine (1924)',\n",
       " 'Sparkenbroke by Morgan, Charles (1936)',\n",
       " 'Staying with Relations by Macaulay, Rose (1930)',\n",
       " 'Summer Lightning by Wodehouse, P. G. (1929)',\n",
       " \"Sylvia's Lovers by Gaskell, Elizabeth (1863)\",\n",
       " 'Thank Heaven Fasting by Delafield, E. M. (1932)',\n",
       " 'The 42nd Parallel by Dos Passos, John (1930)',\n",
       " 'The Ambassadors by James, Henry (1903)',\n",
       " 'The Apes of God by Lewis, Wyndham (1930)',\n",
       " 'The Bertrams by Trollope, Anthony (1859)',\n",
       " 'The Blaze of Noon by Heppenstall, Rayner (1939)',\n",
       " 'The Case of the Lame Canary by Gardner, Erle Stanley (1937)',\n",
       " 'The Constant Nymph by Kennedy, Margaret (1924)',\n",
       " 'The Daring Young Man on the Flying Trapeze by Saroyan, William (1934)',\n",
       " 'The Death of the Heart by Bowen, Elizabeth (1938)',\n",
       " 'The Duchess of Wrexe, Her Decline and Death: A Romantic Commentary by Walpole, Hugh (1924)',\n",
       " 'The Expedition of Humphry Clinker by Smollett, Tobias (1771)',\n",
       " 'The Fruit of the Tree by Wharton, Edith (1907)',\n",
       " 'The Good Earth by Buck, Pearl S. (1931)',\n",
       " 'The House in Paris by Bowen, Elizabeth (1935)',\n",
       " 'The Judge by West, Rebecca (1922)',\n",
       " 'The Ladies of Lyndon by Kennedy, Margaret (1923)',\n",
       " 'The Leavenworth Case by Green, Anna Katharine (1878)',\n",
       " 'The Long Valley by Steinbeck, John (1938)',\n",
       " 'The Longest Journey by Forster, E. M. (1907)',\n",
       " 'The Ordeal of Richard Feverel by Meredith, George (1859)',\n",
       " 'The Problem of the Green Capsule by Carr, John Dickson (1939)',\n",
       " 'The Prodigal Parents by Lewis, Sinclair (1938)',\n",
       " 'The Rainbow by Lawrence, D. H. (1915)',\n",
       " 'The Rains Came by Bromfield, Louis (1937)',\n",
       " 'The Seven Who Fled by Prokosch, Frederic (1937)',\n",
       " 'The Stars Look Down by Cronin, A. J. (1935)',\n",
       " 'The Voyage Out by Woolf, Virginia (1915)',\n",
       " 'The Water Gipsies by Herbert, A. P. (1930)',\n",
       " 'The Well of Loneliness by Hall, Radclyffe (1926)',\n",
       " 'The White Paternoster and Other Stories by Powys, Theodore Francis (1930)',\n",
       " 'Tobacco Road by Caldwell, Erskine Preston (1932)',\n",
       " 'Twilight Sleep by Wharton, Edith (1927)',\n",
       " 'Unnatural Death by Sayers, Dorothy (1927)',\n",
       " 'With Malice Toward Some by Halsey, Margaret (1938)']"
      ]
     },
     "execution_count": 150,
     "metadata": {},
     "output_type": "execute_result"
    }
   ],
   "source": [
    "most_core"
   ]
  },
  {
   "cell_type": "markdown",
   "metadata": {},
   "source": [
    "## Save to csv"
   ]
  },
  {
   "cell_type": "code",
   "execution_count": 129,
   "metadata": {},
   "outputs": [],
   "source": [
    "sc_layered_df['book_info'] = sc_layered_df.index\n",
    "sc_layered_df = sc_layered_df.rename(columns={0: \"layer\"})\n",
    "sc_hub_spoke_df['book_info'] = sc_hub_spoke_df.index\n",
    "sc_hub_spoke_df = sc_hub_spoke_df.rename(columns={0: \"hub_and_spoke\"})\n",
    "sc_layered_coreness_df['book_info'] = sc_layered_coreness_df.index\n",
    "sc_layered_coreness_df = sc_layered_coreness_df.rename(columns={0: \"coreness\"})\n",
    "full_sc_df = sc_layered_df.merge(sc_hub_spoke_df, how='inner', on='book_info').merge(sc_layered_coreness_df, how='inner', on='book_info')\n",
    "full_sc_df = full_sc_df[[\"book_info\", \"hub_and_spoke\", \"layer\", \"coreness\"]]\n",
    "vertex_title = pd.DataFrame.from_dict(sc_dict, orient = \"index\")\n",
    "vertex_title[\"vertex\"] = vertex_title.index\n",
    "vertex_title = vertex_title.rename(columns={0: \"book_info\"})\n",
    "full_sc_df = full_sc_df.merge(vertex_title, how='inner', on='book_info')\n",
    "full_sc_df = full_sc_df[[\"vertex\",\"book_info\", \"layer\", \"hub_and_spoke\", \"coreness\"]]"
   ]
  },
  {
   "cell_type": "code",
   "execution_count": 141,
   "metadata": {},
   "outputs": [],
   "source": [
    "#full_sc_df.to_csv(\"shakespeare-co-core-periphery.csv\")"
   ]
  },
  {
   "cell_type": "code",
   "execution_count": 32,
   "metadata": {},
   "outputs": [],
   "source": [
    "#full_sc_df = pd.read_csv(\"shakespeare-co-core-periphery.csv\")"
   ]
  },
  {
   "cell_type": "code",
   "execution_count": 34,
   "metadata": {},
   "outputs": [
    {
     "data": {
      "text/plain": [
       "Counter({2: 197, 0: 231, 1: 146, 3: 371, 4: 566})"
      ]
     },
     "execution_count": 34,
     "metadata": {},
     "output_type": "execute_result"
    }
   ],
   "source": [
    "Counter(full_sc_df[\"layer\"])"
   ]
  },
  {
   "cell_type": "markdown",
   "metadata": {},
   "source": [
    "# Other metrics"
   ]
  },
  {
   "cell_type": "markdown",
   "metadata": {},
   "source": [
    "### Density"
   ]
  },
  {
   "cell_type": "code",
   "execution_count": 43,
   "metadata": {
    "scrolled": true
   },
   "outputs": [
    {
     "name": "stdout",
     "output_type": "stream",
     "text": [
      "Shakespeare and Co Network Density: 0.17366245765051871\n"
     ]
    }
   ],
   "source": [
    "sc_density = nx.density(sc_G)\n",
    "print(\"Shakespeare and Co Network Density:\", sc_density)"
   ]
  },
  {
   "cell_type": "markdown",
   "metadata": {},
   "source": [
    "### Transitivity"
   ]
  },
  {
   "cell_type": "code",
   "execution_count": 44,
   "metadata": {},
   "outputs": [
    {
     "name": "stdout",
     "output_type": "stream",
     "text": [
      "Triadic closure for S&C: 0.6160527307976547\n"
     ]
    }
   ],
   "source": [
    "triadic_closure = nx.transitivity(sc_G)\n",
    "print(\"Triadic closure for S&C:\", triadic_closure)"
   ]
  },
  {
   "cell_type": "markdown",
   "metadata": {},
   "source": [
    "### Diameter length "
   ]
  },
  {
   "cell_type": "code",
   "execution_count": 45,
   "metadata": {},
   "outputs": [
    {
     "name": "stdout",
     "output_type": "stream",
     "text": [
      "Network diameter of Shakespeare and Co's largest component: 5\n"
     ]
    }
   ],
   "source": [
    "# Get the largest connected component of the graph\n",
    "components = nx.connected_components(sc_G)\n",
    "largest_component = max(components, key=len)\n",
    "\n",
    "# Create a \"subgraph\" of the largest component and find diameter\n",
    "subgraph = sc_G.subgraph(largest_component)\n",
    "diameter = nx.diameter(subgraph)\n",
    "print(\"Network diameter of Shakespeare and Co's largest component:\", diameter)"
   ]
  },
  {
   "cell_type": "markdown",
   "metadata": {},
   "source": [
    "### Centrality Measures\n",
    "There are multiple ways to assess centrality in a network. Centrality measures usually try to capture something similar to significance or importance in a network--but there are different ways to understand importance. This code looks at the following:\n",
    "- **degree centrality:** the sum of all of a node's edges. When considering S&C, a book with the highest number of degrees demonstrates that it was the book most often read with other books in the network. This is a measure of a type of popularity (*but remember -> this isn't the book checked out the most times, it's the book checked out the most times with any other book*).  \n",
    "- **betweeness centrality:** betweenness centrality disregards node degree, and instead focuses on path length for determining the most important nodes. This looks at shortest paths to figure out which nodes connect otherwise disparate parts of the network. \n",
    "- **eigenvector centrality:** eigenvector centrality accounts for whether or not a node is connected to many other high-degree nodes--this would make it a hub, and also accounts for a central node that may not have the highest # of degrees, but is highly important, regardless"
   ]
  },
  {
   "cell_type": "code",
   "execution_count": 46,
   "metadata": {},
   "outputs": [
    {
     "name": "stdout",
     "output_type": "stream",
     "text": [
      "Top 100 nodes by degree in S&C:\n",
      "('The Sun Also Rises by Hemingway, Ernest (1926)', 926)\n",
      "('A Portrait of the Artist as a Young Man by Joyce, James (1916)', 915)\n",
      "('Dubliners by Joyce, James (1914)', 898)\n",
      "('Pointed Roofs (Pilgrimage 1) by Richardson, Dorothy M. (1915)', 881)\n",
      "('A Farewell to Arms by Hemingway, Ernest (1929)', 872)\n",
      "('Sanctuary by Faulkner, William (1931)', 862)\n",
      "('Manhattan Transfer by Dos Passos, John (1925)', 861)\n",
      "('The Garden Party and Other Stories by Mansfield, Katherine (1922)', 857)\n",
      "('Eyeless in Gaza by Huxley, Aldous (1936)', 856)\n",
      "('To the Lighthouse by Woolf, Virginia (1927)', 853)\n",
      "('Mrs. Dalloway by Woolf, Virginia (1925)', 839)\n",
      "('Mr. Norris Changes Trains by Isherwood, Christopher (1935)', 836)\n",
      "('The Citadel by Cronin, A. J. (1937)', 834)\n",
      "('The Rains Came by Bromfield, Louis (1937)', 826)\n",
      "('Exiles by Joyce, James (1918)', 822)\n",
      "('An American Tragedy by Dreiser, Theodore (1925)', 821)\n",
      "('The Years by Woolf, Virginia (1937)', 816)\n",
      "('The Waves by Woolf, Virginia (1931)', 816)\n",
      "('Bliss and Other Stories by Mansfield, Katherine (1920)', 813)\n",
      "('Point Counter Point by Huxley, Aldous (1928)', 812)\n"
     ]
    }
   ],
   "source": [
    "# degree centrality\n",
    "sc_degree_dict = dict(sc_G.degree(sc_G.nodes()))\n",
    "nx.set_node_attributes(sc_G, sc_degree_dict, 'degree')\n",
    "\n",
    "sc_sorted_degree = sorted(sc_degree_dict.items(), key=itemgetter(1), reverse=True)\n",
    "print(\"Top 100 nodes by degree in S&C:\")\n",
    "for d in sc_sorted_degree[:20]:\n",
    "    print(d)"
   ]
  },
  {
   "cell_type": "code",
   "execution_count": 47,
   "metadata": {},
   "outputs": [],
   "source": [
    "sc_degree_df = pd.DataFrame.from_dict(sc_degree_dict, orient='index')\n",
    "sc_degree_df[\"book_info\"] = sc_degree_df.index"
   ]
  },
  {
   "cell_type": "code",
   "execution_count": 48,
   "metadata": {},
   "outputs": [],
   "source": [
    "sc_degree_df = sc_degree_df.rename(columns={0: \"degree_centrality\"})"
   ]
  },
  {
   "cell_type": "code",
   "execution_count": 49,
   "metadata": {},
   "outputs": [
    {
     "name": "stdout",
     "output_type": "stream",
     "text": [
      "Top 20 S&C nodes by betweenness centrality:\n",
      "('A Portrait of the Artist as a Young Man by Joyce, James (1916)', 0.014924835032906583)\n",
      "('Dubliners by Joyce, James (1914)', 0.010156046367298105)\n",
      "('Pointed Roofs (Pilgrimage 1) by Richardson, Dorothy M. (1915)', 0.008879411450326712)\n",
      "('Mr. Norris Changes Trains by Isherwood, Christopher (1935)', 0.00883794691974864)\n",
      "('The Sun Also Rises by Hemingway, Ernest (1926)', 0.008235339008884771)\n",
      "('Moby-Dick; Or, the Whale by Melville, Herman (1851)', 0.008034408237163468)\n",
      "('The Garden Party and Other Stories by Mansfield, Katherine (1922)', 0.008031697753147465)\n",
      "('Exiles by Joyce, James (1918)', 0.00738764971447236)\n",
      "('Manhattan Transfer by Dos Passos, John (1925)', 0.007156264192218229)\n",
      "('Sister Carrie by Dreiser, Theodore (1900)', 0.006408263758941081)\n",
      "('Bliss and Other Stories by Mansfield, Katherine (1920)', 0.006177860270808386)\n",
      "('The Way of All Flesh by Butler, Samuel (1903)', 0.006108800015310316)\n",
      "('Of Human Bondage by Maugham, W. Somerset (1915)', 0.00608543689910433)\n",
      "('The Bridge of San Luis Rey by Wilder, Thornton (1927)', 0.005870533392196489)\n",
      "('Murder in the Cathedral by Eliot, T. S. (1935)', 0.005859305900960767)\n",
      "('Three Lives by Stein, Gertrude (1909)', 0.0056973897040949375)\n",
      "('A Farewell to Arms by Hemingway, Ernest (1929)', 0.005449375349350303)\n",
      "('Sons and Lovers by Lawrence, D. H. (1913)', 0.005444880808383907)\n",
      "('Sanctuary by Faulkner, William (1931)', 0.005251203957641526)\n",
      "(\"The Emperor Jones by O'Neill, Eugene (1921)\", 0.004792576851659059)\n"
     ]
    }
   ],
   "source": [
    "# betweenness centrality\n",
    "betweenness_dict = nx.betweenness_centrality(sc_G) # Run betweenness centrality\n",
    "# Assign each to an attribute in your network\n",
    "nx.set_node_attributes(sc_G, betweenness_dict, 'betweenness')\n",
    "\n",
    "sorted_betweenness = sorted(betweenness_dict.items(), key=itemgetter(1), reverse=True)\n",
    "\n",
    "print(\"Top 20 S&C nodes by betweenness centrality:\")\n",
    "for b in sorted_betweenness[:20]:\n",
    "    print(b)"
   ]
  },
  {
   "cell_type": "code",
   "execution_count": 50,
   "metadata": {},
   "outputs": [],
   "source": [
    "sc_between_df = pd.DataFrame.from_dict(betweenness_dict, orient='index')\n",
    "sc_between_df[\"book_info\"] = sc_between_df.index\n",
    "\n",
    "sc_between_df = sc_between_df.rename(columns={0: \"between_centrality\"})"
   ]
  },
  {
   "cell_type": "code",
   "execution_count": 51,
   "metadata": {},
   "outputs": [
    {
     "name": "stdout",
     "output_type": "stream",
     "text": [
      "Top 20 S&C nodes by eigenvector centrality:\n",
      "('The Sun Also Rises by Hemingway, Ernest (1926)', 0.055801125995367726)\n",
      "('Eyeless in Gaza by Huxley, Aldous (1936)', 0.05548865989154352)\n",
      "('Mrs. Dalloway by Woolf, Virginia (1925)', 0.05516511583917018)\n",
      "('A Farewell to Arms by Hemingway, Ernest (1929)', 0.055121774229754)\n",
      "('To the Lighthouse by Woolf, Virginia (1927)', 0.054963118299115946)\n",
      "('Sanctuary by Faulkner, William (1931)', 0.05472684041384402)\n",
      "('The Citadel by Cronin, A. J. (1937)', 0.054447706240786826)\n",
      "('Sparkenbroke by Morgan, Charles (1936)', 0.054380357944984005)\n",
      "(\"Axel's Castle: A Study in the Imaginative Literature of 1870 – 1930 by Wilson, Edmund (1931)\", 0.054352362709488754)\n",
      "('The Death of the Heart by Bowen, Elizabeth (1938)', 0.05426823855787121)\n",
      "('The Waves by Woolf, Virginia (1931)', 0.05420492470624962)\n",
      "('The Rains Came by Bromfield, Louis (1937)', 0.05416759259919326)\n",
      "('An American Tragedy by Dreiser, Theodore (1925)', 0.05413418327159532)\n",
      "('Manhattan Transfer by Dos Passos, John (1925)', 0.054053134110266236)\n",
      "('The Years by Woolf, Virginia (1937)', 0.05390432804601168)\n",
      "('The Garden Party and Other Stories by Mansfield, Katherine (1922)', 0.05377552091149242)\n",
      "('Point Counter Point by Huxley, Aldous (1928)', 0.05363321090771619)\n",
      "('South Riding: An English Landscape by Holtby, Winifred (1936)', 0.053507199245409594)\n",
      "('Antic Hay by Huxley, Aldous (1923)', 0.05337493843151871)\n",
      "('The Well of Loneliness by Hall, Radclyffe (1926)', 0.05328168292356208)\n"
     ]
    }
   ],
   "source": [
    "# eigenvector centrality\n",
    "eigenvector_dict = nx.eigenvector_centrality(sc_G) # Run eigenvector centrality\n",
    "nx.set_node_attributes(sc_G, eigenvector_dict, 'eigenvector')\n",
    "\n",
    "sorted_eigenvector = sorted(eigenvector_dict.items(), key=itemgetter(1), reverse=True)\n",
    "\n",
    "print(\"Top 20 S&C nodes by eigenvector centrality:\")\n",
    "for b in sorted_eigenvector[:20]:\n",
    "    print(b)"
   ]
  },
  {
   "cell_type": "code",
   "execution_count": 52,
   "metadata": {},
   "outputs": [],
   "source": [
    "sc_eigenvector_df = pd.DataFrame.from_dict(eigenvector_dict, orient='index')\n",
    "sc_eigenvector_df[\"book_info\"] = sc_eigenvector_df.index"
   ]
  },
  {
   "cell_type": "code",
   "execution_count": 53,
   "metadata": {},
   "outputs": [],
   "source": [
    "sc_eigenvector_df = sc_eigenvector_df.rename(columns={0: \"eigenvector_centrality\"})"
   ]
  },
  {
   "cell_type": "markdown",
   "metadata": {},
   "source": [
    "### Combine all"
   ]
  },
  {
   "cell_type": "code",
   "execution_count": 142,
   "metadata": {},
   "outputs": [],
   "source": [
    "full_sc_df = full_sc_df.merge(sc_degree_df, how='inner', on='book_info').merge(sc_between_df, how='inner', on='book_info').merge(sc_eigenvector_df, how='inner', on='book_info')"
   ]
  },
  {
   "cell_type": "code",
   "execution_count": 143,
   "metadata": {},
   "outputs": [
    {
     "data": {
      "text/html": [
       "<div>\n",
       "<style scoped>\n",
       "    .dataframe tbody tr th:only-of-type {\n",
       "        vertical-align: middle;\n",
       "    }\n",
       "\n",
       "    .dataframe tbody tr th {\n",
       "        vertical-align: top;\n",
       "    }\n",
       "\n",
       "    .dataframe thead th {\n",
       "        text-align: right;\n",
       "    }\n",
       "</style>\n",
       "<table border=\"1\" class=\"dataframe\">\n",
       "  <thead>\n",
       "    <tr style=\"text-align: right;\">\n",
       "      <th></th>\n",
       "      <th>vertex</th>\n",
       "      <th>book_info</th>\n",
       "      <th>layer</th>\n",
       "      <th>hub_and_spoke</th>\n",
       "      <th>coreness</th>\n",
       "      <th>degree_centrality</th>\n",
       "      <th>between_centrality</th>\n",
       "      <th>eigenvector_centrality</th>\n",
       "    </tr>\n",
       "  </thead>\n",
       "  <tbody>\n",
       "    <tr>\n",
       "      <th>0</th>\n",
       "      <td>1292</td>\n",
       "      <td>1914 and Other Poems by Brooke, Rupert (1915)</td>\n",
       "      <td>3</td>\n",
       "      <td>1</td>\n",
       "      <td>0.026667</td>\n",
       "      <td>9</td>\n",
       "      <td>0.000000</td>\n",
       "      <td>0.000335</td>\n",
       "    </tr>\n",
       "    <tr>\n",
       "      <th>1</th>\n",
       "      <td>966</td>\n",
       "      <td>1919 by Dos Passos, John (1932)</td>\n",
       "      <td>0</td>\n",
       "      <td>0</td>\n",
       "      <td>0.913333</td>\n",
       "      <td>627</td>\n",
       "      <td>0.001662</td>\n",
       "      <td>0.045174</td>\n",
       "    </tr>\n",
       "    <tr>\n",
       "      <th>2</th>\n",
       "      <td>128</td>\n",
       "      <td>A Backward Glance by Wharton, Edith (1934)</td>\n",
       "      <td>2</td>\n",
       "      <td>1</td>\n",
       "      <td>0.340000</td>\n",
       "      <td>235</td>\n",
       "      <td>0.000264</td>\n",
       "      <td>0.015205</td>\n",
       "    </tr>\n",
       "    <tr>\n",
       "      <th>3</th>\n",
       "      <td>1044</td>\n",
       "      <td>A Book of Nonsense by Lear, Edward (1846)</td>\n",
       "      <td>3</td>\n",
       "      <td>1</td>\n",
       "      <td>0.006667</td>\n",
       "      <td>13</td>\n",
       "      <td>0.000000</td>\n",
       "      <td>0.000778</td>\n",
       "    </tr>\n",
       "    <tr>\n",
       "      <th>4</th>\n",
       "      <td>1088</td>\n",
       "      <td>A Child's Garden of Verses by Stevenson, Rober...</td>\n",
       "      <td>2</td>\n",
       "      <td>1</td>\n",
       "      <td>0.253333</td>\n",
       "      <td>119</td>\n",
       "      <td>0.000000</td>\n",
       "      <td>0.007940</td>\n",
       "    </tr>\n",
       "    <tr>\n",
       "      <th>5</th>\n",
       "      <td>175</td>\n",
       "      <td>A Christmas Garland by Beerbohm, Max (1912)</td>\n",
       "      <td>3</td>\n",
       "      <td>1</td>\n",
       "      <td>0.026667</td>\n",
       "      <td>97</td>\n",
       "      <td>0.000031</td>\n",
       "      <td>0.006165</td>\n",
       "    </tr>\n",
       "    <tr>\n",
       "      <th>6</th>\n",
       "      <td>914</td>\n",
       "      <td>A City of Bells by Goudge, Elizabeth (1936)</td>\n",
       "      <td>1</td>\n",
       "      <td>0</td>\n",
       "      <td>0.620000</td>\n",
       "      <td>336</td>\n",
       "      <td>0.000219</td>\n",
       "      <td>0.026609</td>\n",
       "    </tr>\n",
       "    <tr>\n",
       "      <th>7</th>\n",
       "      <td>286</td>\n",
       "      <td>A Connecticut Yankee in King Arthur's Court by...</td>\n",
       "      <td>3</td>\n",
       "      <td>1</td>\n",
       "      <td>0.000000</td>\n",
       "      <td>11</td>\n",
       "      <td>0.000000</td>\n",
       "      <td>0.000819</td>\n",
       "    </tr>\n",
       "    <tr>\n",
       "      <th>8</th>\n",
       "      <td>841</td>\n",
       "      <td>A Crystal Age by Hudson, W. H. (1887)</td>\n",
       "      <td>2</td>\n",
       "      <td>1</td>\n",
       "      <td>0.320000</td>\n",
       "      <td>188</td>\n",
       "      <td>0.000135</td>\n",
       "      <td>0.011854</td>\n",
       "    </tr>\n",
       "    <tr>\n",
       "      <th>9</th>\n",
       "      <td>322</td>\n",
       "      <td>A Daughter of the Samurai by Sugimoto, Etsuko ...</td>\n",
       "      <td>1</td>\n",
       "      <td>0</td>\n",
       "      <td>0.646667</td>\n",
       "      <td>391</td>\n",
       "      <td>0.000215</td>\n",
       "      <td>0.030789</td>\n",
       "    </tr>\n",
       "  </tbody>\n",
       "</table>\n",
       "</div>"
      ],
      "text/plain": [
       "   vertex                                          book_info  layer  \\\n",
       "0    1292      1914 and Other Poems by Brooke, Rupert (1915)      3   \n",
       "1     966                    1919 by Dos Passos, John (1932)      0   \n",
       "2     128         A Backward Glance by Wharton, Edith (1934)      2   \n",
       "3    1044          A Book of Nonsense by Lear, Edward (1846)      3   \n",
       "4    1088  A Child's Garden of Verses by Stevenson, Rober...      2   \n",
       "5     175        A Christmas Garland by Beerbohm, Max (1912)      3   \n",
       "6     914        A City of Bells by Goudge, Elizabeth (1936)      1   \n",
       "7     286  A Connecticut Yankee in King Arthur's Court by...      3   \n",
       "8     841              A Crystal Age by Hudson, W. H. (1887)      2   \n",
       "9     322  A Daughter of the Samurai by Sugimoto, Etsuko ...      1   \n",
       "\n",
       "   hub_and_spoke  coreness  degree_centrality  between_centrality  \\\n",
       "0              1  0.026667                  9            0.000000   \n",
       "1              0  0.913333                627            0.001662   \n",
       "2              1  0.340000                235            0.000264   \n",
       "3              1  0.006667                 13            0.000000   \n",
       "4              1  0.253333                119            0.000000   \n",
       "5              1  0.026667                 97            0.000031   \n",
       "6              0  0.620000                336            0.000219   \n",
       "7              1  0.000000                 11            0.000000   \n",
       "8              1  0.320000                188            0.000135   \n",
       "9              0  0.646667                391            0.000215   \n",
       "\n",
       "   eigenvector_centrality  \n",
       "0                0.000335  \n",
       "1                0.045174  \n",
       "2                0.015205  \n",
       "3                0.000778  \n",
       "4                0.007940  \n",
       "5                0.006165  \n",
       "6                0.026609  \n",
       "7                0.000819  \n",
       "8                0.011854  \n",
       "9                0.030789  "
      ]
     },
     "execution_count": 143,
     "metadata": {},
     "output_type": "execute_result"
    }
   ],
   "source": [
    "full_sc_df.head(10)"
   ]
  },
  {
   "cell_type": "code",
   "execution_count": 144,
   "metadata": {},
   "outputs": [],
   "source": [
    "full_sc_df.to_csv(\"shakespeare-co-core-periphery.csv\")"
   ]
  },
  {
   "cell_type": "markdown",
   "metadata": {},
   "source": [
    "## Top Users"
   ]
  },
  {
   "cell_type": "code",
   "execution_count": 56,
   "metadata": {},
   "outputs": [],
   "source": [
    "sc_file = 'shakespeare-co-core-periphery.csv'"
   ]
  },
  {
   "cell_type": "code",
   "execution_count": 58,
   "metadata": {},
   "outputs": [],
   "source": [
    "sc_df = pd.read_csv(sc_file)"
   ]
  },
  {
   "cell_type": "code",
   "execution_count": 59,
   "metadata": {},
   "outputs": [],
   "source": [
    "uri_to_text = pd.DataFrame.from_dict(sc_book_uri_to_text, orient = \"index\").reset_index()\n",
    "uri_to_text = uri_to_text.rename(columns = {\"index\":\"uri\", 0: \"sc_info\"})"
   ]
  },
  {
   "cell_type": "code",
   "execution_count": 60,
   "metadata": {},
   "outputs": [
    {
     "data": {
      "text/html": [
       "<div>\n",
       "<style scoped>\n",
       "    .dataframe tbody tr th:only-of-type {\n",
       "        vertical-align: middle;\n",
       "    }\n",
       "\n",
       "    .dataframe tbody tr th {\n",
       "        vertical-align: top;\n",
       "    }\n",
       "\n",
       "    .dataframe thead th {\n",
       "        text-align: right;\n",
       "    }\n",
       "</style>\n",
       "<table border=\"1\" class=\"dataframe\">\n",
       "  <thead>\n",
       "    <tr style=\"text-align: right;\">\n",
       "      <th></th>\n",
       "      <th>uri</th>\n",
       "      <th>sc_info</th>\n",
       "    </tr>\n",
       "  </thead>\n",
       "  <tbody>\n",
       "    <tr>\n",
       "      <th>0</th>\n",
       "      <td>https://shakespeareandco.princeton.edu/books/m...</td>\n",
       "      <td>Le Morte d'Arthur by Malory, Thomas (1485)</td>\n",
       "    </tr>\n",
       "    <tr>\n",
       "      <th>1</th>\n",
       "      <td>https://shakespeareandco.princeton.edu/books/m...</td>\n",
       "      <td>Utopia by More, Thomas (1516)</td>\n",
       "    </tr>\n",
       "    <tr>\n",
       "      <th>2</th>\n",
       "      <td>https://shakespeareandco.princeton.edu/books/n...</td>\n",
       "      <td>Gorboduc by Norton, Thomas (1561)</td>\n",
       "    </tr>\n",
       "    <tr>\n",
       "      <th>3</th>\n",
       "      <td>https://shakespeareandco.princeton.edu/books/l...</td>\n",
       "      <td>Euphues: The Anatomy of Wit by Lyly, John (1578)</td>\n",
       "    </tr>\n",
       "    <tr>\n",
       "      <th>4</th>\n",
       "      <td>https://shakespeareandco.princeton.edu/books/s...</td>\n",
       "      <td>The Shepheard's Calendar by Spenser, Edmund (1...</td>\n",
       "    </tr>\n",
       "    <tr>\n",
       "      <th>...</th>\n",
       "      <td>...</td>\n",
       "      <td>...</td>\n",
       "    </tr>\n",
       "    <tr>\n",
       "      <th>6013</th>\n",
       "      <td>https://shakespeareandco.princeton.edu/books/u...</td>\n",
       "      <td>[unclear]ile</td>\n",
       "    </tr>\n",
       "    <tr>\n",
       "      <th>6014</th>\n",
       "      <td>https://shakespeareandco.princeton.edu/books/u...</td>\n",
       "      <td>[unclear]ism</td>\n",
       "    </tr>\n",
       "    <tr>\n",
       "      <th>6015</th>\n",
       "      <td>https://shakespeareandco.princeton.edu/books/u...</td>\n",
       "      <td>[unclear]y</td>\n",
       "    </tr>\n",
       "    <tr>\n",
       "      <th>6016</th>\n",
       "      <td>https://shakespeareandco.princeton.edu/books/u...</td>\n",
       "      <td>[unidentified Benn’s Library]</td>\n",
       "    </tr>\n",
       "    <tr>\n",
       "      <th>6017</th>\n",
       "      <td>https://shakespeareandco.princeton.edu/books/u...</td>\n",
       "      <td>[unknown]</td>\n",
       "    </tr>\n",
       "  </tbody>\n",
       "</table>\n",
       "<p>6018 rows × 2 columns</p>\n",
       "</div>"
      ],
      "text/plain": [
       "                                                    uri  \\\n",
       "0     https://shakespeareandco.princeton.edu/books/m...   \n",
       "1     https://shakespeareandco.princeton.edu/books/m...   \n",
       "2     https://shakespeareandco.princeton.edu/books/n...   \n",
       "3     https://shakespeareandco.princeton.edu/books/l...   \n",
       "4     https://shakespeareandco.princeton.edu/books/s...   \n",
       "...                                                 ...   \n",
       "6013  https://shakespeareandco.princeton.edu/books/u...   \n",
       "6014  https://shakespeareandco.princeton.edu/books/u...   \n",
       "6015  https://shakespeareandco.princeton.edu/books/u...   \n",
       "6016  https://shakespeareandco.princeton.edu/books/u...   \n",
       "6017  https://shakespeareandco.princeton.edu/books/u...   \n",
       "\n",
       "                                                sc_info  \n",
       "0            Le Morte d'Arthur by Malory, Thomas (1485)  \n",
       "1                         Utopia by More, Thomas (1516)  \n",
       "2                     Gorboduc by Norton, Thomas (1561)  \n",
       "3      Euphues: The Anatomy of Wit by Lyly, John (1578)  \n",
       "4     The Shepheard's Calendar by Spenser, Edmund (1...  \n",
       "...                                                 ...  \n",
       "6013                                       [unclear]ile  \n",
       "6014                                       [unclear]ism  \n",
       "6015                                         [unclear]y  \n",
       "6016                      [unidentified Benn’s Library]  \n",
       "6017                                          [unknown]  \n",
       "\n",
       "[6018 rows x 2 columns]"
      ]
     },
     "execution_count": 60,
     "metadata": {},
     "output_type": "execute_result"
    }
   ],
   "source": [
    "uri_to_text"
   ]
  },
  {
   "cell_type": "code",
   "execution_count": 76,
   "metadata": {},
   "outputs": [],
   "source": [
    "new_df = sc_df.merge(uri_to_text, left_on = \"book_info\", right_on = \"sc_info\")"
   ]
  },
  {
   "cell_type": "code",
   "execution_count": 109,
   "metadata": {},
   "outputs": [],
   "source": [
    "sc_borrower_to_books = get_sc_borrower_to_books()\n",
    "\n",
    "killen = 'https://shakespeareandco.princeton.edu/members/killen/'\n",
    "raphael = 'https://shakespeareandco.princeton.edu/members/raphael-france/'\n",
    "de_marcilly = 'https://shakespeareandco.princeton.edu/members/marcilly/'\n",
    "\n",
    "killen_books = sc_borrower_to_books[killen]\n",
    "raphael_books = sc_borrower_to_books[raphael]\n",
    "de_marcilly_books = sc_borrower_to_books[de_marcilly]"
   ]
  },
  {
   "cell_type": "code",
   "execution_count": 80,
   "metadata": {},
   "outputs": [],
   "source": [
    "killen_df = pd.DataFrame.from_dict(killen_books)"
   ]
  },
  {
   "cell_type": "code",
   "execution_count": 81,
   "metadata": {},
   "outputs": [],
   "source": [
    "killen_df[\"killen\"] = 1\n",
    "killen_df = killen_df.rename(columns={0:\"uri\"})"
   ]
  },
  {
   "cell_type": "code",
   "execution_count": 82,
   "metadata": {},
   "outputs": [
    {
     "data": {
      "text/html": [
       "<div>\n",
       "<style scoped>\n",
       "    .dataframe tbody tr th:only-of-type {\n",
       "        vertical-align: middle;\n",
       "    }\n",
       "\n",
       "    .dataframe tbody tr th {\n",
       "        vertical-align: top;\n",
       "    }\n",
       "\n",
       "    .dataframe thead th {\n",
       "        text-align: right;\n",
       "    }\n",
       "</style>\n",
       "<table border=\"1\" class=\"dataframe\">\n",
       "  <thead>\n",
       "    <tr style=\"text-align: right;\">\n",
       "      <th></th>\n",
       "      <th>uri</th>\n",
       "      <th>killen</th>\n",
       "    </tr>\n",
       "  </thead>\n",
       "  <tbody>\n",
       "    <tr>\n",
       "      <th>13</th>\n",
       "      <td>https://shakespeareandco.princeton.edu/books/r...</td>\n",
       "      <td>1</td>\n",
       "    </tr>\n",
       "    <tr>\n",
       "      <th>174</th>\n",
       "      <td>https://shakespeareandco.princeton.edu/books/f...</td>\n",
       "      <td>1</td>\n",
       "    </tr>\n",
       "    <tr>\n",
       "      <th>216</th>\n",
       "      <td>https://shakespeareandco.princeton.edu/books/b...</td>\n",
       "      <td>1</td>\n",
       "    </tr>\n",
       "    <tr>\n",
       "      <th>124</th>\n",
       "      <td>https://shakespeareandco.princeton.edu/books/w...</td>\n",
       "      <td>1</td>\n",
       "    </tr>\n",
       "    <tr>\n",
       "      <th>138</th>\n",
       "      <td>https://shakespeareandco.princeton.edu/books/c...</td>\n",
       "      <td>1</td>\n",
       "    </tr>\n",
       "  </tbody>\n",
       "</table>\n",
       "</div>"
      ],
      "text/plain": [
       "                                                   uri  killen\n",
       "13   https://shakespeareandco.princeton.edu/books/r...       1\n",
       "174  https://shakespeareandco.princeton.edu/books/f...       1\n",
       "216  https://shakespeareandco.princeton.edu/books/b...       1\n",
       "124  https://shakespeareandco.princeton.edu/books/w...       1\n",
       "138  https://shakespeareandco.princeton.edu/books/c...       1"
      ]
     },
     "execution_count": 82,
     "metadata": {},
     "output_type": "execute_result"
    }
   ],
   "source": [
    "killen_df.sample(5)"
   ]
  },
  {
   "cell_type": "code",
   "execution_count": 83,
   "metadata": {},
   "outputs": [
    {
     "data": {
      "text/html": [
       "<div>\n",
       "<style scoped>\n",
       "    .dataframe tbody tr th:only-of-type {\n",
       "        vertical-align: middle;\n",
       "    }\n",
       "\n",
       "    .dataframe tbody tr th {\n",
       "        vertical-align: top;\n",
       "    }\n",
       "\n",
       "    .dataframe thead th {\n",
       "        text-align: right;\n",
       "    }\n",
       "</style>\n",
       "<table border=\"1\" class=\"dataframe\">\n",
       "  <thead>\n",
       "    <tr style=\"text-align: right;\">\n",
       "      <th></th>\n",
       "      <th>uri</th>\n",
       "      <th>raphael</th>\n",
       "    </tr>\n",
       "  </thead>\n",
       "  <tbody>\n",
       "    <tr>\n",
       "      <th>87</th>\n",
       "      <td>https://shakespeareandco.princeton.edu/books/m...</td>\n",
       "      <td>1</td>\n",
       "    </tr>\n",
       "    <tr>\n",
       "      <th>122</th>\n",
       "      <td>https://shakespeareandco.princeton.edu/books/m...</td>\n",
       "      <td>1</td>\n",
       "    </tr>\n",
       "    <tr>\n",
       "      <th>80</th>\n",
       "      <td>https://shakespeareandco.princeton.edu/books/l...</td>\n",
       "      <td>1</td>\n",
       "    </tr>\n",
       "    <tr>\n",
       "      <th>222</th>\n",
       "      <td>https://shakespeareandco.princeton.edu/books/c...</td>\n",
       "      <td>1</td>\n",
       "    </tr>\n",
       "    <tr>\n",
       "      <th>251</th>\n",
       "      <td>https://shakespeareandco.princeton.edu/books/b...</td>\n",
       "      <td>1</td>\n",
       "    </tr>\n",
       "  </tbody>\n",
       "</table>\n",
       "</div>"
      ],
      "text/plain": [
       "                                                   uri  raphael\n",
       "87   https://shakespeareandco.princeton.edu/books/m...        1\n",
       "122  https://shakespeareandco.princeton.edu/books/m...        1\n",
       "80   https://shakespeareandco.princeton.edu/books/l...        1\n",
       "222  https://shakespeareandco.princeton.edu/books/c...        1\n",
       "251  https://shakespeareandco.princeton.edu/books/b...        1"
      ]
     },
     "execution_count": 83,
     "metadata": {},
     "output_type": "execute_result"
    }
   ],
   "source": [
    "raphael_df = pd.DataFrame.from_dict(raphael_books)\n",
    "raphael_df[\"raphael\"] = 1\n",
    "raphael_df = raphael_df.rename(columns={0:\"uri\"})\n",
    "raphael_df.sample(5)"
   ]
  },
  {
   "cell_type": "code",
   "execution_count": 111,
   "metadata": {},
   "outputs": [
    {
     "data": {
      "text/plain": [
       "(169, 2)"
      ]
     },
     "execution_count": 111,
     "metadata": {},
     "output_type": "execute_result"
    }
   ],
   "source": [
    "de_marcilly_df = pd.DataFrame.from_dict(de_marcilly_books)\n",
    "de_marcilly_df[\"de_marcilly\"] = 1\n",
    "de_marcilly_df = de_marcilly_df.rename(columns={0:\"uri\"})\n",
    "de_marcilly_df.shape"
   ]
  },
  {
   "cell_type": "code",
   "execution_count": 112,
   "metadata": {},
   "outputs": [],
   "source": [
    "new_df['de_marcilly_match'] = 0\n",
    "new_df.loc[new_df['uri'].isin(de_marcilly_df['uri']), 'de_marcilly_match'] = 1"
   ]
  },
  {
   "cell_type": "code",
   "execution_count": 113,
   "metadata": {},
   "outputs": [
    {
     "data": {
      "text/plain": [
       "Counter({1: 169, 0: 1342})"
      ]
     },
     "execution_count": 113,
     "metadata": {},
     "output_type": "execute_result"
    }
   ],
   "source": [
    "from collections import Counter\n",
    "Counter(new_df['de_marcilly_match'])"
   ]
  },
  {
   "cell_type": "code",
   "execution_count": 84,
   "metadata": {},
   "outputs": [],
   "source": [
    "new_df['killen_match'] = 0\n",
    "new_df.loc[new_df['uri'].isin(killen_df['uri']), 'killen_match'] = 1"
   ]
  },
  {
   "cell_type": "code",
   "execution_count": 85,
   "metadata": {},
   "outputs": [
    {
     "data": {
      "text/plain": [
       "Counter({0: 1134, 1: 377})"
      ]
     },
     "execution_count": 85,
     "metadata": {},
     "output_type": "execute_result"
    }
   ],
   "source": [
    "from collections import Counter\n",
    "Counter(new_df['killen_match'])"
   ]
  },
  {
   "cell_type": "code",
   "execution_count": 86,
   "metadata": {},
   "outputs": [],
   "source": [
    "new_df['raphael_match'] = 0\n",
    "new_df.loc[new_df['uri'].isin(raphael_df['uri']), 'raphael_match'] = 1"
   ]
  },
  {
   "cell_type": "code",
   "execution_count": 87,
   "metadata": {},
   "outputs": [
    {
     "data": {
      "text/plain": [
       "Counter({1: 283, 0: 1228})"
      ]
     },
     "execution_count": 87,
     "metadata": {},
     "output_type": "execute_result"
    }
   ],
   "source": [
    "Counter(new_df['raphael_match'])"
   ]
  },
  {
   "cell_type": "code",
   "execution_count": 114,
   "metadata": {},
   "outputs": [
    {
     "data": {
      "text/html": [
       "<div>\n",
       "<style scoped>\n",
       "    .dataframe tbody tr th:only-of-type {\n",
       "        vertical-align: middle;\n",
       "    }\n",
       "\n",
       "    .dataframe tbody tr th {\n",
       "        vertical-align: top;\n",
       "    }\n",
       "\n",
       "    .dataframe thead th {\n",
       "        text-align: right;\n",
       "    }\n",
       "</style>\n",
       "<table border=\"1\" class=\"dataframe\">\n",
       "  <thead>\n",
       "    <tr style=\"text-align: right;\">\n",
       "      <th></th>\n",
       "      <th>Unnamed: 0</th>\n",
       "      <th>vertex</th>\n",
       "      <th>book_info</th>\n",
       "      <th>layer</th>\n",
       "      <th>hub_and_spoke</th>\n",
       "      <th>coreness</th>\n",
       "      <th>degree_centrality</th>\n",
       "      <th>between_centrality</th>\n",
       "      <th>eigenvector_centrality</th>\n",
       "      <th>events</th>\n",
       "      <th>Unnamed: 10</th>\n",
       "      <th>Unnamed: 11</th>\n",
       "      <th>Unnamed: 12</th>\n",
       "      <th>uri</th>\n",
       "      <th>sc_info</th>\n",
       "      <th>killen_match</th>\n",
       "      <th>raphael_match</th>\n",
       "      <th>de_marcilly_match</th>\n",
       "    </tr>\n",
       "  </thead>\n",
       "  <tbody>\n",
       "    <tr>\n",
       "      <th>592</th>\n",
       "      <td>671</td>\n",
       "      <td>973</td>\n",
       "      <td>Peking Picnic by Bridge, Ann (1932)</td>\n",
       "      <td>2</td>\n",
       "      <td>0</td>\n",
       "      <td>0.475</td>\n",
       "      <td>378</td>\n",
       "      <td>0.000319</td>\n",
       "      <td>2.933378e-02</td>\n",
       "      <td>NaN</td>\n",
       "      <td>NaN</td>\n",
       "      <td>NaN</td>\n",
       "      <td>NaN</td>\n",
       "      <td>https://shakespeareandco.princeton.edu/books/o...</td>\n",
       "      <td>Peking Picnic by Bridge, Ann (1932)</td>\n",
       "      <td>0</td>\n",
       "      <td>1</td>\n",
       "      <td>0</td>\n",
       "    </tr>\n",
       "    <tr>\n",
       "      <th>244</th>\n",
       "      <td>707</td>\n",
       "      <td>1403</td>\n",
       "      <td>Precious Bane: A Novel by Webb, Mary (1924)</td>\n",
       "      <td>2</td>\n",
       "      <td>0</td>\n",
       "      <td>0.510</td>\n",
       "      <td>512</td>\n",
       "      <td>0.001094</td>\n",
       "      <td>3.573663e-02</td>\n",
       "      <td>NaN</td>\n",
       "      <td>NaN</td>\n",
       "      <td>NaN</td>\n",
       "      <td>NaN</td>\n",
       "      <td>https://shakespeareandco.princeton.edu/books/w...</td>\n",
       "      <td>Precious Bane: A Novel by Webb, Mary (1924)</td>\n",
       "      <td>0</td>\n",
       "      <td>1</td>\n",
       "      <td>0</td>\n",
       "    </tr>\n",
       "    <tr>\n",
       "      <th>1193</th>\n",
       "      <td>1477</td>\n",
       "      <td>820</td>\n",
       "      <td>Whom God Hath Joined by Bennett, Arnold (1906)</td>\n",
       "      <td>4</td>\n",
       "      <td>1</td>\n",
       "      <td>0.070</td>\n",
       "      <td>60</td>\n",
       "      <td>0.000000</td>\n",
       "      <td>3.984067e-03</td>\n",
       "      <td>NaN</td>\n",
       "      <td>NaN</td>\n",
       "      <td>NaN</td>\n",
       "      <td>NaN</td>\n",
       "      <td>https://shakespeareandco.princeton.edu/books/b...</td>\n",
       "      <td>Whom God Hath Joined by Bennett, Arnold (1906)</td>\n",
       "      <td>0</td>\n",
       "      <td>0</td>\n",
       "      <td>0</td>\n",
       "    </tr>\n",
       "    <tr>\n",
       "      <th>1456</th>\n",
       "      <td>1342</td>\n",
       "      <td>118</td>\n",
       "      <td>The Vodi by Braine, John (1959)</td>\n",
       "      <td>4</td>\n",
       "      <td>1</td>\n",
       "      <td>0.020</td>\n",
       "      <td>3</td>\n",
       "      <td>0.000000</td>\n",
       "      <td>1.230000e-07</td>\n",
       "      <td>NaN</td>\n",
       "      <td>NaN</td>\n",
       "      <td>NaN</td>\n",
       "      <td>NaN</td>\n",
       "      <td>https://shakespeareandco.princeton.edu/books/b...</td>\n",
       "      <td>The Vodi by Braine, John (1959)</td>\n",
       "      <td>0</td>\n",
       "      <td>0</td>\n",
       "      <td>0</td>\n",
       "    </tr>\n",
       "    <tr>\n",
       "      <th>1198</th>\n",
       "      <td>555</td>\n",
       "      <td>1373</td>\n",
       "      <td>Men in War by Latzko, Andreas (1918)</td>\n",
       "      <td>4</td>\n",
       "      <td>1</td>\n",
       "      <td>0.055</td>\n",
       "      <td>59</td>\n",
       "      <td>0.000000</td>\n",
       "      <td>3.088599e-03</td>\n",
       "      <td>NaN</td>\n",
       "      <td>NaN</td>\n",
       "      <td>NaN</td>\n",
       "      <td>NaN</td>\n",
       "      <td>https://shakespeareandco.princeton.edu/books/l...</td>\n",
       "      <td>Men in War by Latzko, Andreas (1918)</td>\n",
       "      <td>0</td>\n",
       "      <td>0</td>\n",
       "      <td>0</td>\n",
       "    </tr>\n",
       "    <tr>\n",
       "      <th>256</th>\n",
       "      <td>593</td>\n",
       "      <td>573</td>\n",
       "      <td>Murder in Mesopotamia by Christie, Agatha (1936)</td>\n",
       "      <td>2</td>\n",
       "      <td>0</td>\n",
       "      <td>0.480</td>\n",
       "      <td>490</td>\n",
       "      <td>0.001052</td>\n",
       "      <td>3.145265e-02</td>\n",
       "      <td>NaN</td>\n",
       "      <td>NaN</td>\n",
       "      <td>NaN</td>\n",
       "      <td>NaN</td>\n",
       "      <td>https://shakespeareandco.princeton.edu/books/c...</td>\n",
       "      <td>Murder in Mesopotamia by Christie, Agatha (1936)</td>\n",
       "      <td>0</td>\n",
       "      <td>0</td>\n",
       "      <td>1</td>\n",
       "    </tr>\n",
       "    <tr>\n",
       "      <th>768</th>\n",
       "      <td>900</td>\n",
       "      <td>597</td>\n",
       "      <td>The Bridge by Crane, Hart (1930)</td>\n",
       "      <td>3</td>\n",
       "      <td>1</td>\n",
       "      <td>0.225</td>\n",
       "      <td>156</td>\n",
       "      <td>0.000144</td>\n",
       "      <td>1.016877e-02</td>\n",
       "      <td>NaN</td>\n",
       "      <td>NaN</td>\n",
       "      <td>NaN</td>\n",
       "      <td>NaN</td>\n",
       "      <td>https://shakespeareandco.princeton.edu/books/c...</td>\n",
       "      <td>The Bridge by Crane, Hart (1930)</td>\n",
       "      <td>0</td>\n",
       "      <td>0</td>\n",
       "      <td>0</td>\n",
       "    </tr>\n",
       "    <tr>\n",
       "      <th>810</th>\n",
       "      <td>1412</td>\n",
       "      <td>188</td>\n",
       "      <td>Tortilla Flat by Steinbeck, John (1935)</td>\n",
       "      <td>3</td>\n",
       "      <td>1</td>\n",
       "      <td>0.225</td>\n",
       "      <td>168</td>\n",
       "      <td>0.000120</td>\n",
       "      <td>1.208701e-02</td>\n",
       "      <td>NaN</td>\n",
       "      <td>NaN</td>\n",
       "      <td>NaN</td>\n",
       "      <td>NaN</td>\n",
       "      <td>https://shakespeareandco.princeton.edu/books/s...</td>\n",
       "      <td>Tortilla Flat by Steinbeck, John (1935)</td>\n",
       "      <td>0</td>\n",
       "      <td>0</td>\n",
       "      <td>0</td>\n",
       "    </tr>\n",
       "    <tr>\n",
       "      <th>508</th>\n",
       "      <td>625</td>\n",
       "      <td>1413</td>\n",
       "      <td>Nonsense Novels by Leacock, Stephen (1920)</td>\n",
       "      <td>4</td>\n",
       "      <td>1</td>\n",
       "      <td>0.095</td>\n",
       "      <td>125</td>\n",
       "      <td>0.000417</td>\n",
       "      <td>6.747020e-03</td>\n",
       "      <td>NaN</td>\n",
       "      <td>NaN</td>\n",
       "      <td>NaN</td>\n",
       "      <td>NaN</td>\n",
       "      <td>https://shakespeareandco.princeton.edu/books/l...</td>\n",
       "      <td>Nonsense Novels by Leacock, Stephen (1920)</td>\n",
       "      <td>0</td>\n",
       "      <td>0</td>\n",
       "      <td>0</td>\n",
       "    </tr>\n",
       "    <tr>\n",
       "      <th>814</th>\n",
       "      <td>1415</td>\n",
       "      <td>760</td>\n",
       "      <td>Travels with a Donkey in the Cévennes by Steve...</td>\n",
       "      <td>3</td>\n",
       "      <td>1</td>\n",
       "      <td>0.250</td>\n",
       "      <td>191</td>\n",
       "      <td>0.000117</td>\n",
       "      <td>1.292122e-02</td>\n",
       "      <td>NaN</td>\n",
       "      <td>NaN</td>\n",
       "      <td>NaN</td>\n",
       "      <td>NaN</td>\n",
       "      <td>https://shakespeareandco.princeton.edu/books/s...</td>\n",
       "      <td>Travels with a Donkey in the Cévennes by Steve...</td>\n",
       "      <td>0</td>\n",
       "      <td>0</td>\n",
       "      <td>0</td>\n",
       "    </tr>\n",
       "    <tr>\n",
       "      <th>1344</th>\n",
       "      <td>679</td>\n",
       "      <td>335</td>\n",
       "      <td>Pictures from Italy by Dickens, Charles (1846)</td>\n",
       "      <td>4</td>\n",
       "      <td>1</td>\n",
       "      <td>0.030</td>\n",
       "      <td>9</td>\n",
       "      <td>0.000000</td>\n",
       "      <td>5.627670e-04</td>\n",
       "      <td>NaN</td>\n",
       "      <td>NaN</td>\n",
       "      <td>NaN</td>\n",
       "      <td>NaN</td>\n",
       "      <td>https://shakespeareandco.princeton.edu/books/d...</td>\n",
       "      <td>Pictures from Italy by Dickens, Charles (1846)</td>\n",
       "      <td>0</td>\n",
       "      <td>0</td>\n",
       "      <td>0</td>\n",
       "    </tr>\n",
       "    <tr>\n",
       "      <th>639</th>\n",
       "      <td>1030</td>\n",
       "      <td>589</td>\n",
       "      <td>The Ghost by Bennett, Arnold (1907)</td>\n",
       "      <td>3</td>\n",
       "      <td>1</td>\n",
       "      <td>0.275</td>\n",
       "      <td>226</td>\n",
       "      <td>0.000255</td>\n",
       "      <td>1.442468e-02</td>\n",
       "      <td>NaN</td>\n",
       "      <td>NaN</td>\n",
       "      <td>NaN</td>\n",
       "      <td>NaN</td>\n",
       "      <td>https://shakespeareandco.princeton.edu/books/b...</td>\n",
       "      <td>The Ghost by Bennett, Arnold (1907)</td>\n",
       "      <td>0</td>\n",
       "      <td>0</td>\n",
       "      <td>0</td>\n",
       "    </tr>\n",
       "    <tr>\n",
       "      <th>1285</th>\n",
       "      <td>267</td>\n",
       "      <td>927</td>\n",
       "      <td>Easter and Other Plays by Strindberg, August (...</td>\n",
       "      <td>4</td>\n",
       "      <td>1</td>\n",
       "      <td>0.035</td>\n",
       "      <td>59</td>\n",
       "      <td>0.000000</td>\n",
       "      <td>3.088599e-03</td>\n",
       "      <td>NaN</td>\n",
       "      <td>NaN</td>\n",
       "      <td>NaN</td>\n",
       "      <td>NaN</td>\n",
       "      <td>https://shakespeareandco.princeton.edu/books/s...</td>\n",
       "      <td>Easter and Other Plays by Strindberg, August (...</td>\n",
       "      <td>0</td>\n",
       "      <td>0</td>\n",
       "      <td>0</td>\n",
       "    </tr>\n",
       "    <tr>\n",
       "      <th>1202</th>\n",
       "      <td>1178</td>\n",
       "      <td>794</td>\n",
       "      <td>The Narrow Land: Folk Chronicles of Old Cape C...</td>\n",
       "      <td>4</td>\n",
       "      <td>1</td>\n",
       "      <td>0.055</td>\n",
       "      <td>17</td>\n",
       "      <td>0.000000</td>\n",
       "      <td>1.158340e-03</td>\n",
       "      <td>NaN</td>\n",
       "      <td>NaN</td>\n",
       "      <td>NaN</td>\n",
       "      <td>NaN</td>\n",
       "      <td>https://shakespeareandco.princeton.edu/books/r...</td>\n",
       "      <td>The Narrow Land: Folk Chronicles of Old Cape C...</td>\n",
       "      <td>0</td>\n",
       "      <td>0</td>\n",
       "      <td>0</td>\n",
       "    </tr>\n",
       "    <tr>\n",
       "      <th>499</th>\n",
       "      <td>755</td>\n",
       "      <td>57</td>\n",
       "      <td>Salomé by Wilde, Oscar (1891)</td>\n",
       "      <td>3</td>\n",
       "      <td>1</td>\n",
       "      <td>0.230</td>\n",
       "      <td>152</td>\n",
       "      <td>0.000423</td>\n",
       "      <td>8.915872e-03</td>\n",
       "      <td>NaN</td>\n",
       "      <td>NaN</td>\n",
       "      <td>NaN</td>\n",
       "      <td>NaN</td>\n",
       "      <td>https://shakespeareandco.princeton.edu/books/w...</td>\n",
       "      <td>Salomé by Wilde, Oscar (1891)</td>\n",
       "      <td>0</td>\n",
       "      <td>0</td>\n",
       "      <td>0</td>\n",
       "    </tr>\n",
       "    <tr>\n",
       "      <th>71</th>\n",
       "      <td>944</td>\n",
       "      <td>1031</td>\n",
       "      <td>The Country House by Galsworthy, John (1907)</td>\n",
       "      <td>0</td>\n",
       "      <td>0</td>\n",
       "      <td>0.885</td>\n",
       "      <td>609</td>\n",
       "      <td>0.003066</td>\n",
       "      <td>4.356352e-02</td>\n",
       "      <td>12.0</td>\n",
       "      <td>killen</td>\n",
       "      <td>NaN</td>\n",
       "      <td>NaN</td>\n",
       "      <td>https://shakespeareandco.princeton.edu/books/g...</td>\n",
       "      <td>The Country House by Galsworthy, John (1907)</td>\n",
       "      <td>1</td>\n",
       "      <td>0</td>\n",
       "      <td>1</td>\n",
       "    </tr>\n",
       "    <tr>\n",
       "      <th>242</th>\n",
       "      <td>795</td>\n",
       "      <td>306</td>\n",
       "      <td>So Red the Rose by Young, Stark (1934)</td>\n",
       "      <td>1</td>\n",
       "      <td>0</td>\n",
       "      <td>0.855</td>\n",
       "      <td>610</td>\n",
       "      <td>0.001095</td>\n",
       "      <td>4.830350e-02</td>\n",
       "      <td>NaN</td>\n",
       "      <td>NaN</td>\n",
       "      <td>NaN</td>\n",
       "      <td>NaN</td>\n",
       "      <td>https://shakespeareandco.princeton.edu/books/y...</td>\n",
       "      <td>So Red the Rose by Young, Stark (1934)</td>\n",
       "      <td>1</td>\n",
       "      <td>1</td>\n",
       "      <td>0</td>\n",
       "    </tr>\n",
       "    <tr>\n",
       "      <th>729</th>\n",
       "      <td>910</td>\n",
       "      <td>1204</td>\n",
       "      <td>The Caravaners by Arnim, Elizabeth von (1909)</td>\n",
       "      <td>3</td>\n",
       "      <td>1</td>\n",
       "      <td>0.210</td>\n",
       "      <td>120</td>\n",
       "      <td>0.000174</td>\n",
       "      <td>8.555437e-03</td>\n",
       "      <td>NaN</td>\n",
       "      <td>NaN</td>\n",
       "      <td>NaN</td>\n",
       "      <td>NaN</td>\n",
       "      <td>https://shakespeareandco.princeton.edu/books/a...</td>\n",
       "      <td>The Caravaners by Arnim, Elizabeth von (1909)</td>\n",
       "      <td>0</td>\n",
       "      <td>0</td>\n",
       "      <td>0</td>\n",
       "    </tr>\n",
       "    <tr>\n",
       "      <th>202</th>\n",
       "      <td>774</td>\n",
       "      <td>274</td>\n",
       "      <td>Sense and Sensibility by Austen, Jane (1811)</td>\n",
       "      <td>3</td>\n",
       "      <td>1</td>\n",
       "      <td>0.290</td>\n",
       "      <td>316</td>\n",
       "      <td>0.001251</td>\n",
       "      <td>1.725234e-02</td>\n",
       "      <td>NaN</td>\n",
       "      <td>NaN</td>\n",
       "      <td>NaN</td>\n",
       "      <td>NaN</td>\n",
       "      <td>https://shakespeareandco.princeton.edu/books/a...</td>\n",
       "      <td>Sense and Sensibility by Austen, Jane (1811)</td>\n",
       "      <td>0</td>\n",
       "      <td>0</td>\n",
       "      <td>0</td>\n",
       "    </tr>\n",
       "    <tr>\n",
       "      <th>1261</th>\n",
       "      <td>1021</td>\n",
       "      <td>567</td>\n",
       "      <td>The Future of an Illusion by Freud, Sigmund (1...</td>\n",
       "      <td>4</td>\n",
       "      <td>1</td>\n",
       "      <td>0.040</td>\n",
       "      <td>31</td>\n",
       "      <td>0.000000</td>\n",
       "      <td>1.919954e-03</td>\n",
       "      <td>NaN</td>\n",
       "      <td>NaN</td>\n",
       "      <td>NaN</td>\n",
       "      <td>NaN</td>\n",
       "      <td>https://shakespeareandco.princeton.edu/books/f...</td>\n",
       "      <td>The Future of an Illusion by Freud, Sigmund (1...</td>\n",
       "      <td>0</td>\n",
       "      <td>0</td>\n",
       "      <td>0</td>\n",
       "    </tr>\n",
       "  </tbody>\n",
       "</table>\n",
       "</div>"
      ],
      "text/plain": [
       "      Unnamed: 0  vertex                                          book_info  \\\n",
       "592          671     973                Peking Picnic by Bridge, Ann (1932)   \n",
       "244          707    1403        Precious Bane: A Novel by Webb, Mary (1924)   \n",
       "1193        1477     820     Whom God Hath Joined by Bennett, Arnold (1906)   \n",
       "1456        1342     118                    The Vodi by Braine, John (1959)   \n",
       "1198         555    1373               Men in War by Latzko, Andreas (1918)   \n",
       "256          593     573   Murder in Mesopotamia by Christie, Agatha (1936)   \n",
       "768          900     597                   The Bridge by Crane, Hart (1930)   \n",
       "810         1412     188            Tortilla Flat by Steinbeck, John (1935)   \n",
       "508          625    1413         Nonsense Novels by Leacock, Stephen (1920)   \n",
       "814         1415     760  Travels with a Donkey in the Cévennes by Steve...   \n",
       "1344         679     335     Pictures from Italy by Dickens, Charles (1846)   \n",
       "639         1030     589                The Ghost by Bennett, Arnold (1907)   \n",
       "1285         267     927  Easter and Other Plays by Strindberg, August (...   \n",
       "1202        1178     794  The Narrow Land: Folk Chronicles of Old Cape C...   \n",
       "499          755      57                      Salomé by Wilde, Oscar (1891)   \n",
       "71           944    1031       The Country House by Galsworthy, John (1907)   \n",
       "242          795     306             So Red the Rose by Young, Stark (1934)   \n",
       "729          910    1204      The Caravaners by Arnim, Elizabeth von (1909)   \n",
       "202          774     274       Sense and Sensibility by Austen, Jane (1811)   \n",
       "1261        1021     567  The Future of an Illusion by Freud, Sigmund (1...   \n",
       "\n",
       "      layer  hub_and_spoke  coreness  degree_centrality  between_centrality  \\\n",
       "592       2              0     0.475                378            0.000319   \n",
       "244       2              0     0.510                512            0.001094   \n",
       "1193      4              1     0.070                 60            0.000000   \n",
       "1456      4              1     0.020                  3            0.000000   \n",
       "1198      4              1     0.055                 59            0.000000   \n",
       "256       2              0     0.480                490            0.001052   \n",
       "768       3              1     0.225                156            0.000144   \n",
       "810       3              1     0.225                168            0.000120   \n",
       "508       4              1     0.095                125            0.000417   \n",
       "814       3              1     0.250                191            0.000117   \n",
       "1344      4              1     0.030                  9            0.000000   \n",
       "639       3              1     0.275                226            0.000255   \n",
       "1285      4              1     0.035                 59            0.000000   \n",
       "1202      4              1     0.055                 17            0.000000   \n",
       "499       3              1     0.230                152            0.000423   \n",
       "71        0              0     0.885                609            0.003066   \n",
       "242       1              0     0.855                610            0.001095   \n",
       "729       3              1     0.210                120            0.000174   \n",
       "202       3              1     0.290                316            0.001251   \n",
       "1261      4              1     0.040                 31            0.000000   \n",
       "\n",
       "      eigenvector_centrality  events Unnamed: 10  Unnamed: 11 Unnamed: 12  \\\n",
       "592             2.933378e-02     NaN         NaN          NaN         NaN   \n",
       "244             3.573663e-02     NaN         NaN          NaN         NaN   \n",
       "1193            3.984067e-03     NaN         NaN          NaN         NaN   \n",
       "1456            1.230000e-07     NaN         NaN          NaN         NaN   \n",
       "1198            3.088599e-03     NaN         NaN          NaN         NaN   \n",
       "256             3.145265e-02     NaN         NaN          NaN         NaN   \n",
       "768             1.016877e-02     NaN         NaN          NaN         NaN   \n",
       "810             1.208701e-02     NaN         NaN          NaN         NaN   \n",
       "508             6.747020e-03     NaN         NaN          NaN         NaN   \n",
       "814             1.292122e-02     NaN         NaN          NaN         NaN   \n",
       "1344            5.627670e-04     NaN         NaN          NaN         NaN   \n",
       "639             1.442468e-02     NaN         NaN          NaN         NaN   \n",
       "1285            3.088599e-03     NaN         NaN          NaN         NaN   \n",
       "1202            1.158340e-03     NaN         NaN          NaN         NaN   \n",
       "499             8.915872e-03     NaN         NaN          NaN         NaN   \n",
       "71              4.356352e-02    12.0      killen          NaN         NaN   \n",
       "242             4.830350e-02     NaN         NaN          NaN         NaN   \n",
       "729             8.555437e-03     NaN         NaN          NaN         NaN   \n",
       "202             1.725234e-02     NaN         NaN          NaN         NaN   \n",
       "1261            1.919954e-03     NaN         NaN          NaN         NaN   \n",
       "\n",
       "                                                    uri  \\\n",
       "592   https://shakespeareandco.princeton.edu/books/o...   \n",
       "244   https://shakespeareandco.princeton.edu/books/w...   \n",
       "1193  https://shakespeareandco.princeton.edu/books/b...   \n",
       "1456  https://shakespeareandco.princeton.edu/books/b...   \n",
       "1198  https://shakespeareandco.princeton.edu/books/l...   \n",
       "256   https://shakespeareandco.princeton.edu/books/c...   \n",
       "768   https://shakespeareandco.princeton.edu/books/c...   \n",
       "810   https://shakespeareandco.princeton.edu/books/s...   \n",
       "508   https://shakespeareandco.princeton.edu/books/l...   \n",
       "814   https://shakespeareandco.princeton.edu/books/s...   \n",
       "1344  https://shakespeareandco.princeton.edu/books/d...   \n",
       "639   https://shakespeareandco.princeton.edu/books/b...   \n",
       "1285  https://shakespeareandco.princeton.edu/books/s...   \n",
       "1202  https://shakespeareandco.princeton.edu/books/r...   \n",
       "499   https://shakespeareandco.princeton.edu/books/w...   \n",
       "71    https://shakespeareandco.princeton.edu/books/g...   \n",
       "242   https://shakespeareandco.princeton.edu/books/y...   \n",
       "729   https://shakespeareandco.princeton.edu/books/a...   \n",
       "202   https://shakespeareandco.princeton.edu/books/a...   \n",
       "1261  https://shakespeareandco.princeton.edu/books/f...   \n",
       "\n",
       "                                                sc_info  killen_match  \\\n",
       "592                 Peking Picnic by Bridge, Ann (1932)             0   \n",
       "244         Precious Bane: A Novel by Webb, Mary (1924)             0   \n",
       "1193     Whom God Hath Joined by Bennett, Arnold (1906)             0   \n",
       "1456                    The Vodi by Braine, John (1959)             0   \n",
       "1198               Men in War by Latzko, Andreas (1918)             0   \n",
       "256    Murder in Mesopotamia by Christie, Agatha (1936)             0   \n",
       "768                    The Bridge by Crane, Hart (1930)             0   \n",
       "810             Tortilla Flat by Steinbeck, John (1935)             0   \n",
       "508          Nonsense Novels by Leacock, Stephen (1920)             0   \n",
       "814   Travels with a Donkey in the Cévennes by Steve...             0   \n",
       "1344     Pictures from Italy by Dickens, Charles (1846)             0   \n",
       "639                 The Ghost by Bennett, Arnold (1907)             0   \n",
       "1285  Easter and Other Plays by Strindberg, August (...             0   \n",
       "1202  The Narrow Land: Folk Chronicles of Old Cape C...             0   \n",
       "499                       Salomé by Wilde, Oscar (1891)             0   \n",
       "71         The Country House by Galsworthy, John (1907)             1   \n",
       "242              So Red the Rose by Young, Stark (1934)             1   \n",
       "729       The Caravaners by Arnim, Elizabeth von (1909)             0   \n",
       "202        Sense and Sensibility by Austen, Jane (1811)             0   \n",
       "1261  The Future of an Illusion by Freud, Sigmund (1...             0   \n",
       "\n",
       "      raphael_match  de_marcilly_match  \n",
       "592               1                  0  \n",
       "244               1                  0  \n",
       "1193              0                  0  \n",
       "1456              0                  0  \n",
       "1198              0                  0  \n",
       "256               0                  1  \n",
       "768               0                  0  \n",
       "810               0                  0  \n",
       "508               0                  0  \n",
       "814               0                  0  \n",
       "1344              0                  0  \n",
       "639               0                  0  \n",
       "1285              0                  0  \n",
       "1202              0                  0  \n",
       "499               0                  0  \n",
       "71                0                  1  \n",
       "242               1                  0  \n",
       "729               0                  0  \n",
       "202               0                  0  \n",
       "1261              0                  0  "
      ]
     },
     "execution_count": 114,
     "metadata": {},
     "output_type": "execute_result"
    }
   ],
   "source": [
    "new_df.sample(20)"
   ]
  },
  {
   "cell_type": "code",
   "execution_count": 115,
   "metadata": {},
   "outputs": [],
   "source": [
    "new_df.to_csv('cp-centrality-readers.csv')"
   ]
  },
  {
   "cell_type": "code",
   "execution_count": 116,
   "metadata": {},
   "outputs": [],
   "source": [
    "total_num_df = pd.DataFrame.from_dict(sc_book_uri_to_num_events, orient = \"index\").reset_index()"
   ]
  },
  {
   "cell_type": "code",
   "execution_count": 117,
   "metadata": {},
   "outputs": [
    {
     "data": {
      "text/html": [
       "<div>\n",
       "<style scoped>\n",
       "    .dataframe tbody tr th:only-of-type {\n",
       "        vertical-align: middle;\n",
       "    }\n",
       "\n",
       "    .dataframe tbody tr th {\n",
       "        vertical-align: top;\n",
       "    }\n",
       "\n",
       "    .dataframe thead th {\n",
       "        text-align: right;\n",
       "    }\n",
       "</style>\n",
       "<table border=\"1\" class=\"dataframe\">\n",
       "  <thead>\n",
       "    <tr style=\"text-align: right;\">\n",
       "      <th></th>\n",
       "      <th>index</th>\n",
       "      <th>0</th>\n",
       "    </tr>\n",
       "  </thead>\n",
       "  <tbody>\n",
       "    <tr>\n",
       "      <th>0</th>\n",
       "      <td>https://shakespeareandco.princeton.edu/books/e...</td>\n",
       "      <td>17</td>\n",
       "    </tr>\n",
       "    <tr>\n",
       "      <th>1</th>\n",
       "      <td>https://shakespeareandco.princeton.edu/books/h...</td>\n",
       "      <td>28</td>\n",
       "    </tr>\n",
       "    <tr>\n",
       "      <th>2</th>\n",
       "      <td>https://shakespeareandco.princeton.edu/books/l...</td>\n",
       "      <td>28</td>\n",
       "    </tr>\n",
       "    <tr>\n",
       "      <th>3</th>\n",
       "      <td>https://shakespeareandco.princeton.edu/books/m...</td>\n",
       "      <td>5</td>\n",
       "    </tr>\n",
       "    <tr>\n",
       "      <th>4</th>\n",
       "      <td>https://shakespeareandco.princeton.edu/books/s...</td>\n",
       "      <td>2</td>\n",
       "    </tr>\n",
       "    <tr>\n",
       "      <th>...</th>\n",
       "      <td>...</td>\n",
       "      <td>...</td>\n",
       "    </tr>\n",
       "    <tr>\n",
       "      <th>5878</th>\n",
       "      <td>https://shakespeareandco.princeton.edu/books/m...</td>\n",
       "      <td>1</td>\n",
       "    </tr>\n",
       "    <tr>\n",
       "      <th>5879</th>\n",
       "      <td>https://shakespeareandco.princeton.edu/books/i...</td>\n",
       "      <td>1</td>\n",
       "    </tr>\n",
       "    <tr>\n",
       "      <th>5880</th>\n",
       "      <td>https://shakespeareandco.princeton.edu/books/o...</td>\n",
       "      <td>1</td>\n",
       "    </tr>\n",
       "    <tr>\n",
       "      <th>5881</th>\n",
       "      <td>https://shakespeareandco.princeton.edu/books/b...</td>\n",
       "      <td>1</td>\n",
       "    </tr>\n",
       "    <tr>\n",
       "      <th>5882</th>\n",
       "      <td>https://shakespeareandco.princeton.edu/books/a...</td>\n",
       "      <td>1</td>\n",
       "    </tr>\n",
       "  </tbody>\n",
       "</table>\n",
       "<p>5883 rows × 2 columns</p>\n",
       "</div>"
      ],
      "text/plain": [
       "                                                  index   0\n",
       "0     https://shakespeareandco.princeton.edu/books/e...  17\n",
       "1     https://shakespeareandco.princeton.edu/books/h...  28\n",
       "2     https://shakespeareandco.princeton.edu/books/l...  28\n",
       "3     https://shakespeareandco.princeton.edu/books/m...   5\n",
       "4     https://shakespeareandco.princeton.edu/books/s...   2\n",
       "...                                                 ...  ..\n",
       "5878  https://shakespeareandco.princeton.edu/books/m...   1\n",
       "5879  https://shakespeareandco.princeton.edu/books/i...   1\n",
       "5880  https://shakespeareandco.princeton.edu/books/o...   1\n",
       "5881  https://shakespeareandco.princeton.edu/books/b...   1\n",
       "5882  https://shakespeareandco.princeton.edu/books/a...   1\n",
       "\n",
       "[5883 rows x 2 columns]"
      ]
     },
     "execution_count": 117,
     "metadata": {},
     "output_type": "execute_result"
    }
   ],
   "source": [
    "total_num_df"
   ]
  },
  {
   "cell_type": "code",
   "execution_count": 118,
   "metadata": {},
   "outputs": [
    {
     "data": {
      "text/plain": [
       "index    https://shakespeareandco.princeton.edu/books/e...\n",
       "0                                                    21873\n",
       "dtype: object"
      ]
     },
     "execution_count": 118,
     "metadata": {},
     "output_type": "execute_result"
    }
   ],
   "source": [
    "total_num_df.sum()"
   ]
  },
  {
   "cell_type": "code",
   "execution_count": 119,
   "metadata": {},
   "outputs": [
    {
     "data": {
      "text/plain": [
       "Counter({2: 197, 0: 231, 1: 146, 3: 371, 4: 566})"
      ]
     },
     "execution_count": 119,
     "metadata": {},
     "output_type": "execute_result"
    }
   ],
   "source": [
    "from collections import Counter\n",
    "Counter(new_df['layer'])"
   ]
  },
  {
   "cell_type": "code",
   "execution_count": 120,
   "metadata": {},
   "outputs": [],
   "source": [
    "core_books = new_df[new_df['layer'] == 0]"
   ]
  },
  {
   "cell_type": "code",
   "execution_count": 121,
   "metadata": {},
   "outputs": [
    {
     "data": {
      "text/plain": [
       "(231, 18)"
      ]
     },
     "execution_count": 121,
     "metadata": {},
     "output_type": "execute_result"
    }
   ],
   "source": [
    "core_books.shape"
   ]
  },
  {
   "cell_type": "code",
   "execution_count": 122,
   "metadata": {},
   "outputs": [
    {
     "data": {
      "text/plain": [
       "Counter({1: 231})"
      ]
     },
     "execution_count": 122,
     "metadata": {},
     "output_type": "execute_result"
    }
   ],
   "source": [
    "Counter(core_books[\"killen_match\"])"
   ]
  },
  {
   "cell_type": "code",
   "execution_count": 123,
   "metadata": {},
   "outputs": [
    {
     "data": {
      "text/plain": [
       "Counter({0: 107, 1: 124})"
      ]
     },
     "execution_count": 123,
     "metadata": {},
     "output_type": "execute_result"
    }
   ],
   "source": [
    "Counter(core_books[\"raphael_match\"])"
   ]
  },
  {
   "cell_type": "code",
   "execution_count": 124,
   "metadata": {},
   "outputs": [
    {
     "data": {
      "text/plain": [
       "Counter({1: 57, 0: 174})"
      ]
     },
     "execution_count": 124,
     "metadata": {},
     "output_type": "execute_result"
    }
   ],
   "source": [
    "Counter(core_books[\"de_marcilly_match\"])"
   ]
  },
  {
   "cell_type": "code",
   "execution_count": 107,
   "metadata": {},
   "outputs": [
    {
     "data": {
      "text/plain": [
       "layer\n",
       "0    231\n",
       "1    146\n",
       "2      0\n",
       "3      0\n",
       "4      0\n",
       "Name: killen_match, dtype: int64"
      ]
     },
     "execution_count": 107,
     "metadata": {},
     "output_type": "execute_result"
    }
   ],
   "source": [
    "new_df.groupby('layer')['killen_match'].sum()"
   ]
  },
  {
   "cell_type": "code",
   "execution_count": 108,
   "metadata": {},
   "outputs": [
    {
     "data": {
      "text/plain": [
       "layer\n",
       "0    124\n",
       "1     10\n",
       "2    149\n",
       "3      0\n",
       "4      0\n",
       "Name: raphael_match, dtype: int64"
      ]
     },
     "execution_count": 108,
     "metadata": {},
     "output_type": "execute_result"
    }
   ],
   "source": [
    "new_df.groupby('layer')['raphael_match'].sum()"
   ]
  },
  {
   "cell_type": "code",
   "execution_count": 125,
   "metadata": {},
   "outputs": [
    {
     "data": {
      "text/plain": [
       "layer\n",
       "0    57\n",
       "1    32\n",
       "2    45\n",
       "3    35\n",
       "4     0\n",
       "Name: de_marcilly_match, dtype: int64"
      ]
     },
     "execution_count": 125,
     "metadata": {},
     "output_type": "execute_result"
    }
   ],
   "source": [
    "new_df.groupby('layer')['de_marcilly_match'].sum()"
   ]
  },
  {
   "cell_type": "code",
   "execution_count": 128,
   "metadata": {},
   "outputs": [],
   "source": [
    "new_df[\"combined_readers\"] = new_df[\"killen_match\"] + new_df[\"raphael_match\"]"
   ]
  },
  {
   "cell_type": "code",
   "execution_count": 129,
   "metadata": {},
   "outputs": [
    {
     "data": {
      "text/plain": [
       "Counter({1: 392, 2: 134, 0: 985})"
      ]
     },
     "execution_count": 129,
     "metadata": {},
     "output_type": "execute_result"
    }
   ],
   "source": [
    "Counter(new_df[\"combined_readers\"])"
   ]
  },
  {
   "cell_type": "markdown",
   "metadata": {},
   "source": [
    "## Correlations"
   ]
  },
  {
   "cell_type": "code",
   "execution_count": 2,
   "metadata": {},
   "outputs": [],
   "source": [
    "import seaborn as sns\n",
    "import numpy as np\n",
    "import matplotlib.pyplot as plt\n",
    "import pandas as pd\n",
    "import json"
   ]
  },
  {
   "cell_type": "code",
   "execution_count": 3,
   "metadata": {},
   "outputs": [],
   "source": [
    "readers_df = pd.read_csv('cp-centrality-readers.csv')"
   ]
  },
  {
   "cell_type": "code",
   "execution_count": 4,
   "metadata": {},
   "outputs": [],
   "source": [
    "readers_small_df = readers_df[[\"coreness\", \"degree_centrality\", \"between_centrality\", \"eigenvector_centrality\", \"killen_match\", \"raphael_match\"]]"
   ]
  },
  {
   "cell_type": "code",
   "execution_count": 5,
   "metadata": {},
   "outputs": [
    {
     "name": "stderr",
     "output_type": "stream",
     "text": [
      "<ipython-input-5-57adca1be2ed>:2: SettingWithCopyWarning: \n",
      "A value is trying to be set on a copy of a slice from a DataFrame.\n",
      "Try using .loc[row_indexer,col_indexer] = value instead\n",
      "\n",
      "See the caveats in the documentation: https://pandas.pydata.org/pandas-docs/stable/user_guide/indexing.html#returning-a-view-versus-a-copy\n",
      "  readers_small_df[\"combined_readers\"] = readers_small_df[\"killen_match\"] + readers_small_df[\"raphael_match\"]\n"
     ]
    }
   ],
   "source": [
    "# create new column with combination of killen and raphael\n",
    "readers_small_df[\"combined_readers\"] = readers_small_df[\"killen_match\"] + readers_small_df[\"raphael_match\"]"
   ]
  },
  {
   "cell_type": "code",
   "execution_count": 6,
   "metadata": {},
   "outputs": [],
   "source": [
    "readers_small_df = readers_small_df.rename(columns = {\"coreness\": \"Coreness\", \"degree_centrality\": \"Degree Centrality\", \"between_centrality\": \"Betweenness Centrality\", \"eigenvector_centrality\": \"Eigenvector Centrality\", \"killen_match\": \"Killen\", \"raphael_match\": \"Raphael\", \"combined_readers\": \"Killen and Raphael\"})\n",
    "readers_small_df = readers_small_df[[\"Coreness\", \"Degree Centrality\", \"Betweenness Centrality\", \"Eigenvector Centrality\", \"Killen and Raphael\"]]"
   ]
  },
  {
   "cell_type": "code",
   "execution_count": 7,
   "metadata": {},
   "outputs": [],
   "source": [
    "reader_corr = readers_small_df.corr(method='spearman')\n",
    "mask = np.triu(np.ones_like(reader_corr, dtype=bool))"
   ]
  },
  {
   "cell_type": "code",
   "execution_count": 8,
   "metadata": {},
   "outputs": [
    {
     "data": {
      "image/png": "[encoded data removed]",
      "text/plain": [
       "<Figure size 792x648 with 2 Axes>"
      ]
     },
     "metadata": {},
     "output_type": "display_data"
    }
   ],
   "source": [
    "sns.set_theme(style=\"white\", font_scale=1.5)\n",
    "f, ax = plt.subplots(figsize=(11, 9))\n",
    "sns_plot = sns.heatmap(reader_corr, mask=mask,  cmap=\"Blues\", annot=True, vmin=0.3,\n",
    "            square=True, linewidths=.5, cbar_kws={\"shrink\": .5}, annot_kws={\"fontsize\":17})"
   ]
  },
  {
   "cell_type": "code",
   "execution_count": 9,
   "metadata": {},
   "outputs": [],
   "source": [
    "if not os.path.exists('./figures'):\n",
    "    os.makedirs('./figures')\n",
    "figure = sns_plot.get_figure()    \n",
    "figure.savefig('./figures/readers_corr.png', dpi=300,bbox_inches='tight')"
   ]
  }
 ],
 "metadata": {
  "kernelspec": {
   "display_name": "Python 3",
   "language": "python",
   "name": "python3"
  },
  "language_info": {
   "codemirror_mode": {
    "name": "ipython",
    "version": 3
   },
   "file_extension": ".py",
   "mimetype": "text/x-python",
   "name": "python",
   "nbconvert_exporter": "python",
   "pygments_lexer": "ipython3",
   "version": "3.9.2"
  }
 },
 "nbformat": 4,
 "nbformat_minor": 4
}
