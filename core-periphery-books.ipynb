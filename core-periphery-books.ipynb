{
 "cells": [
  {
   "cell_type": "markdown",
   "metadata": {},
   "source": [
    "## Network Analysis of Shakespeare and Company and Goodreads"
   ]
  },
  {
   "cell_type": "markdown",
   "metadata": {},
   "source": [
    "This notebooks performs a network analysis of readership in two networks: Shakespeare and Company borrowers and another of Goodreads reviewers. In both networks, books are nodes and edges are created between nodes when the same person reads both of them (more readers reading the same two books = higher edge weight). The Goodreads dataset has been winnowed to include only books that were in the Shakespeare and Co library. "
   ]
  },
  {
   "cell_type": "markdown",
   "metadata": {},
   "source": [
    "### Quick data preparation:"
   ]
  },
  {
   "cell_type": "code",
   "execution_count": 1,
   "metadata": {},
   "outputs": [],
   "source": [
    "# import functions from graph.py\n",
    "from graph import get_goodreads_graph, get_sc_graph\n",
    "from core_periphery_sbm import core_periphery as cp\n",
    "\n",
    "import networkx as nx\n",
    "\n",
    "from collections import Counter\n",
    "from operator import itemgetter\n",
    "import pandas as pd"
   ]
  },
  {
   "cell_type": "code",
   "execution_count": 2,
   "metadata": {},
   "outputs": [],
   "source": [
    "# get vertex lists, edge weights, vertex to neighbors, and number of nodes\n",
    "sc_books_in_vertex_order, sc_book_to_vertex_index, sc_edge_to_weight, sc_vertex_to_neighbors, sc_n = get_sc_graph()\n",
    "gr_books_in_vertex_order, gr_book_to_vertex_index, gr_edge_to_weight, gr_vertex_to_neighbors, gr_n = get_goodreads_graph()"
   ]
  },
  {
   "cell_type": "code",
   "execution_count": 3,
   "metadata": {},
   "outputs": [],
   "source": [
    "# core-periphery code is simplest when in networkx graph format\n",
    "# following code converts from tuple structure into a list, which will then be added by nodes/edges to graph\n",
    "\n",
    "def tuple_to_list(edge_to_weight):\n",
    "    fill = []\n",
    "    for i in edge_to_weight.items():\n",
    "        l = list(i)\n",
    "        fill.append(l)\n",
    "    edge_to_weight_list = []\n",
    "    for i in fill:\n",
    "        edges = i[0]\n",
    "        listed_edge = list(edges)\n",
    "        listed_edge.append(i[1])\n",
    "        edge_to_weight_list.append(listed_edge)\n",
    "    return edge_to_weight_list"
   ]
  },
  {
   "cell_type": "code",
   "execution_count": 4,
   "metadata": {},
   "outputs": [],
   "source": [
    "sc_weights_list = tuple_to_list(sc_edge_to_weight)\n",
    "gr_weights_list = tuple_to_list(gr_edge_to_weight)"
   ]
  },
  {
   "cell_type": "code",
   "execution_count": 5,
   "metadata": {},
   "outputs": [
    {
     "data": {
      "text/plain": [
       "[860, 3, 4]"
      ]
     },
     "execution_count": 5,
     "metadata": {},
     "output_type": "execute_result"
    }
   ],
   "source": [
    "# from edge [0] to edge [1], the weight is [2]\n",
    "sc_weights_list[0]"
   ]
  },
  {
   "cell_type": "markdown",
   "metadata": {},
   "source": [
    "### Shakespeare and Co Analysis"
   ]
  },
  {
   "cell_type": "code",
   "execution_count": 6,
   "metadata": {},
   "outputs": [],
   "source": [
    "# Create SHAKESPEARE AND CO graph\n",
    "sc_G = nx.Graph()\n",
    "sc_G.add_weighted_edges_from(sc_weights_list)"
   ]
  },
  {
   "cell_type": "markdown",
   "metadata": {},
   "source": [
    "Next chunk is optional: I do this only to make the results more interpretable. "
   ]
  },
  {
   "cell_type": "code",
   "execution_count": 7,
   "metadata": {},
   "outputs": [],
   "source": [
    "# optional: change vertex ids to book names\n",
    "sc_dict = {value:key for key, value in sc_book_to_vertex_index.items()}\n",
    "mapping = sc_dict # Dictionary from id to title\n",
    "sc_G = nx.relabel_nodes(sc_G, mapping)"
   ]
  },
  {
   "cell_type": "markdown",
   "metadata": {},
   "source": [
    "### Core-Periphery Structure"
   ]
  },
  {
   "cell_type": "markdown",
   "metadata": {},
   "source": [
    "This section draws from Gallagher et al.'s [\"A clarified typology of core-periphery structure in networks\"](https://advances.sciencemag.org/content/7/12/eabc9800), with code available [here](https://github.com/ryanjgallagher/core_periphery_sbm). Core-periphery structure studies how networks can be divided into a core of densely interconnected nodes, which are highly connected to other core nodes, and periphery nodes that are connected only to core nodes and not each other. This paper develops/assesses two core-periphery model types: the hub-and-spoke model that divides the network into two clean blocks (core vs. periphery) and a layered model that allows for layers of periphery-ness. "
   ]
  },
  {
   "cell_type": "code",
   "execution_count": 9,
   "metadata": {},
   "outputs": [],
   "source": [
    "# Initialize hub-and-spoke model and infer structure\n",
    "hubspoke = cp.HubSpokeCorePeriphery(n_gibbs=100, n_mcmc=10*len(sc_G))\n",
    "hubspoke.infer(sc_G)"
   ]
  },
  {
   "cell_type": "code",
   "execution_count": 10,
   "metadata": {},
   "outputs": [],
   "source": [
    "layered = cp.LayeredCorePeriphery(n_layers=3, n_gibbs=100, n_mcmc=10*len(sc_G))\n",
    "layered.infer(sc_G)"
   ]
  },
  {
   "cell_type": "code",
   "execution_count": 11,
   "metadata": {},
   "outputs": [],
   "source": [
    "# Get core and periphery assignments from hub-and-spoke model\n",
    "node2label_hs = hubspoke.get_labels(last_n_samples=50)\n",
    "\n",
    "# Get layer assignments from the layered model\n",
    "node2label_l = layered.get_labels(last_n_samples=50)"
   ]
  },
  {
   "cell_type": "markdown",
   "metadata": {},
   "source": [
    "**Create dataframes**: the goal is to get this into a nice csv with columns for book title, author, h&s cp label, layered cp label, coreness, and probability."
   ]
  },
  {
   "cell_type": "code",
   "execution_count": 12,
   "metadata": {},
   "outputs": [],
   "source": [
    "sc_hub_spoke_df = pd.DataFrame.from_dict(node2label_hs, orient='index')\n",
    "sc_layered_df = pd.DataFrame.from_dict(node2label_l, orient='index')"
   ]
  },
  {
   "cell_type": "markdown",
   "metadata": {},
   "source": [
    "**Core-Periphery Label:** For both models (hub-and-spoke and layered) the core is 0; for the layered model, the further away from 0 the more peripheral the node. "
   ]
  },
  {
   "cell_type": "code",
   "execution_count": 14,
   "metadata": {},
   "outputs": [
    {
     "data": {
      "text/plain": [
       "Counter({1: 767, 0: 476})"
      ]
     },
     "execution_count": 14,
     "metadata": {},
     "output_type": "execute_result"
    }
   ],
   "source": [
    "# Number of nodes in periphery vs. core in hub-and-spoke\n",
    "Counter(node2label_hs.values())"
   ]
  },
  {
   "cell_type": "code",
   "execution_count": 15,
   "metadata": {},
   "outputs": [
    {
     "data": {
      "text/plain": [
       "Counter({2: 700, 0: 309, 1: 234})"
      ]
     },
     "execution_count": 15,
     "metadata": {},
     "output_type": "execute_result"
    }
   ],
   "source": [
    "# Number of nodes in each layer between periphery to core\n",
    "Counter(node2label_l.values())"
   ]
  },
  {
   "cell_type": "markdown",
   "metadata": {},
   "source": [
    "**All core books:**"
   ]
  },
  {
   "cell_type": "code",
   "execution_count": 42,
   "metadata": {},
   "outputs": [
    {
     "name": "stdout",
     "output_type": "stream",
     "text": [
      "1919 by Dos Passos, John (1932)\n",
      "A Farewell to Arms by Hemingway, Ernest (1929)\n",
      "A Handful of Dust by Waugh, Evelyn (1934)\n",
      "A High Wind in Jamaica by Hughes, Richard (1929)\n",
      "A Note in Music by Lehmann, Rosamond (1930)\n",
      "A Passage to India by Forster, E. M. (1924)\n",
      "A Room of One's Own by Woolf, Virginia (1929)\n",
      "A Room with a View by Forster, E. M.\n",
      "A Tale of a Tub by Swift, Jonathan (1704)\n",
      "After Many a Summer by Huxley, Aldous (1939)\n",
      "Agnes Grey by Brontë, Anne (1847)\n",
      "Alice Adams by Tarkington, Booth (1921)\n",
      "All Passion Spent by Sackville-West, Vita (1931)\n",
      "All This and Heaven Too by Field, Rachel (1938)\n",
      "Antic Hay by Huxley, Aldous (1923)\n",
      "Appointment in Samarra by O'Hara, John (1934)\n",
      "Arrowsmith by Lewis, Sinclair (1925)\n",
      "Autobiographies by Yeats, William Butler (1926)\n",
      "Autobiography by Powys, John Cowper (1934)\n",
      "Axel's Castle: A Study in the Imaginative Literature of 1870 – 1930 by Wilson, Edmund (1931)\n",
      "Babbitt by Lewis, Sinclair (1922)\n",
      "Back Street by Hurst, Fannie (1931)\n",
      "Banbury Bog by Taylor, Phoebe Atwood (1938)\n",
      "Barchester Towers by Trollope, Anthony (1857)\n",
      "Beware of Pity by Zweig, Stefan (1939)\n",
      "Beyond by Galsworthy, John (1917)\n",
      "Bliss and Other Stories by Mansfield, Katherine (1920)\n",
      "Books and Characters, French and English by Strachey, Giles Lytton (1922)\n",
      "Brave New World by Huxley, Aldous (1932)\n",
      "Brighton Rock by Greene, Graham (1938)\n",
      "Buddenbrooks by Mann, Thomas (1924)\n",
      "Burmese Days by Orwell, George (1934)\n",
      "Busman's Honeymoon by Sayers, Dorothy (1937)\n",
      "Butterfield 8 by O'Hara, John (1935)\n",
      "Cakes and Ale, or, the Skeleton in the Cupboard by Maugham, William Somerset (1930)\n",
      "Cards on the Table by Christie, Agatha (1936)\n",
      "Celibate Lives by Moore, George (1927)\n",
      "Chance by Conrad, Joseph (1913)\n",
      "Clouds of Witness by Sayers, Dorothy (1926)\n",
      "Cold Harbour by Young, Francis Brett (1924)\n",
      "Coming Up for Air by Orwell, George (1939)\n",
      "Crewe Train by Macaulay, Rose (1926)\n",
      "Crome Yellow by Huxley, Aldous (1921)\n",
      "Daughter of Earth by Smedley, Agnes (1929)\n",
      "Dead Man Control by Reilly, Helen (1936)\n",
      "Death at the Bar by Marsh, Ngaio (1940)\n",
      "Death in the Stocks by Heyer, Georgette (1935)\n",
      "Death of a Hero by Aldington, Richard (1929)\n",
      "Death on the Nile by Christie, Agatha (1937)\n",
      "Dew on the Grass by Lewis, Eiluned (1934)\n",
      "Dodsworth by Lewis, Sinclair (1929)\n",
      "Dombey and Son by Dickens, Charles (1848)\n",
      "Dream Psychology: Psychoanalysis for Beginners by Freud, Sigmund (1920)\n",
      "Dubliners by Joyce, James (1914)\n",
      "Ducdame by Powys, John Cowper (1925)\n",
      "Dusty Answer by Lehmann, Rosamond (1927)\n",
      "Elmer Gantry by Lewis, Sinclair (1927)\n",
      "Escape\n",
      "Esther Waters by Moore, George (1894)\n",
      "Exiles by Joyce, James (1918)\n",
      "Eyeless in Gaza by Huxley, Aldous (1936)\n",
      "Famine by O'Flaherty, Liam (1937)\n",
      "Far Forest by Young, Francis Brett (1936)\n",
      "Façade by Sitwell, Edith (1922)\n",
      "Financier by Dreiser, Theodore (1912)\n",
      "Firecrackers: A Realistic Novel by Van Vechten, Carl (1925)\n",
      "Fraternity by Galsworthy, John (1909)\n",
      "From Ritual to Romance by Weston, Jessie (1920)\n",
      "Gaudy Night by Sayers, Dorothy (1935)\n",
      "Gentlemen Prefer Blondes: The Illuminating Diary of a Professional Lady by Loos, Anita (1925)\n",
      "Gone with the Wind by Mitchell, Margaret (1936)\n",
      "Goodbye to Berlin by Isherwood, Christopher (1939)\n",
      "Harriet Hume: A London Fantasy by West, Rebecca (1929)\n",
      "Here Lies: The Collected Stories by Parker, Dorothy (1939)\n",
      "Hudson River Bracketed by Wharton, Edith (1929)\n",
      "Hunger by Hamsun, Knut (1899)\n",
      "Island\n",
      "It's a Battlefield by Greene, Graham (1934)\n",
      "Jacob's Room by Woolf, Virginia (1922)\n",
      "Jalna by De la Roche, Mazo (1927)\n",
      "Jesting Pilate: The Diary of a Journey by Huxley, Aldous (1926)\n",
      "Jew Süss by Feuchtwanger, Lion (1925)\n",
      "Juan in America by Linklater, Eric (1931)\n",
      "Keep the Aspidistra Flying by Orwell, George (1936)\n",
      "Keeping Up Appearances by Macaulay, Rose (1928)\n",
      "Kept in the Dark by Trollope, Anthony (1882)\n",
      "Lady into Fox by Garnett, David (1922)\n",
      "Little Dorrit by Dickens, Charles (1857)\n",
      "Lolly Willowes by Warner, Sylvia Townsend (1926)\n",
      "Look Homeward, Angel by Wolfe, Thomas (1929)\n",
      "Lord Ormont and His Aminta by Meredith, George (1894)\n",
      "Lord Peter Views the Body by Sayers, Dorothy (1928)\n",
      "Love\n",
      "Lucy Gayheart by Cather, Willa (1935)\n",
      "Magnolia Street by Golding, Louis (1932)\n",
      "Maiden Castle by Powys, John Cowper (1936)\n",
      "Main Street: The Story of Carol Kennicott by Lewis, Sinclair (1920)\n",
      "Manhattan Transfer by Dos Passos, John (1925)\n",
      "Marius the Epicurean by Pater, Walter (1885)\n",
      "Mastro-don Gesualdo by Verga, Giovanni (1923)\n",
      "Medieval People by Power, Eileen (1924)\n",
      "Memoirs of My Dead Life by Moore, George (1906)\n",
      "Mortal Coils by Huxley, Aldous (1922)\n",
      "Mr. Norris Changes Trains by Isherwood, Christopher (1935)\n",
      "Mr. Prohack by Bennett, Arnold (1922)\n",
      "Mr. Zero by Wentworth, Patricia (1938)\n",
      "Mrs. Dalloway by Woolf, Virginia (1925)\n",
      "Murder Must Advertise by Sayers, Dorothy (1933)\n",
      "Murder Up My Sleeve by Gardner, Erle Stanley (1937)\n",
      "Murder in the Mews by Christie, Agatha (1937)\n",
      "Murder on the Orient Express by Christie, Agatha (1934)\n",
      "Muslin by Moore, George (1915)\n",
      "My Journey to Lhasa by David-Néel, Alexandra (1927)\n",
      "My Life by Duncan, Isadora (1927)\n",
      "Nightwood by Barnes, Djuna (1936)\n",
      "Of Time and the River: A Legend of Man's Hunger in His Youth by Wolfe, Thomas (1935)\n",
      "Orley Farm by Trollope, Anthony (1862)\n",
      "Oscar Wilde\n",
      "Paris\n",
      "Partners in Crime by Christie, Agatha (1929)\n",
      "Party Going by Green, Henry (1939)\n",
      "Pepita by Sackville-West, Vita (1937)\n",
      "Piers Ploughman by Langland, William\n",
      "Pity Is Not Enough by Herbst, Josephine (1933)\n",
      "Point Counter Point by Huxley, Aldous (1928)\n",
      "Pointed Roofs (Pilgrimage 1) by Richardson, Dorothy M. (1915)\n",
      "Police at the Funeral by Allingham, Margery (1931)\n",
      "Red Sky at Morning by Kennedy, Margaret (1927)\n",
      "Riceyman Steps by Bennett, Arnold (1923)\n",
      "Rogue Herries by Walpole, Hugh (1930)\n",
      "Sad Cypress by Christie, Agatha (1940)\n",
      "Samuel Pepys\n",
      "Sanctuary by Faulkner, William (1931)\n",
      "Scoop by Waugh, Evelyn (1938)\n",
      "Sinister Street by Mackenzie, Compton (1914)\n",
      "So Red the Rose by Young, Stark (1934)\n",
      "Some Do Not... by Ford, Ford Madox (1924)\n",
      "Something Childish and Other Stories by Mansfield, Katherine (1924)\n",
      "South Riding: An English Landscape by Holtby, Winifred (1936)\n",
      "Sparkenbroke by Morgan, Charles (1936)\n",
      "Staying with Relations by Macaulay, Rose (1930)\n",
      "Streets\n",
      "Studies in Wives by Lowndes, Marie Belloc (1909)\n",
      "Swan Song by Galsworthy, John (1928)\n",
      "Sylvia & Michael by Mackenzie, Compton (1919)\n",
      "Sylvia's Lovers by Gaskell, Elizabeth (1863)\n",
      "Tarr by Lewis, Wyndham (1918)\n",
      "Ten Little Niggers by Christie, Agatha (1939)\n",
      "Terror Keep by Wallace, Edgar (1927)\n",
      "The 12:30 from Croydon by Crofts, Freeman Wills (1934)\n",
      "The 42nd Parallel by Dos Passos, John (1930)\n",
      "The ABC Murders by Christie, Agatha (1936)\n",
      "The Ace of Knaves by Charteris, Leslie (1937)\n",
      "The Adventures of Roderick Random by Smollett, Tobias (1748)\n",
      "The Ambassadors by James, Henry (1903)\n",
      "The Apes of God by Lewis, Wyndham (1930)\n",
      "The Asiatics by Prokosch, Frederic (1935)\n",
      "The Beadle by Smith, Pauline (1926)\n",
      "The Belton Estate by Trollope, Anthony (1866)\n",
      "The Bertrams by Trollope, Anthony (1859)\n",
      "The Big Fish by Palmer, John (1938)\n",
      "The Bigger They Come by Gardner, Erle Stanley (1939)\n",
      "The Bishop Murder Case: A Philo Vance Story by Van Dine, S. S. (Willard Huntington Wright) (1929)\n",
      "The Blaze of Noon by Heppenstall, Rayner (1939)\n",
      "The Bridge of San Luis Rey by Wilder, Thornton (1927)\n",
      "The Cabala by Wilder, Thornton (1926)\n",
      "The Canary Murder Case by Van Dine, S. S. (Willard Huntington Wright) (1927)\n",
      "The Case of the Howling Dog by Gardner, Erle Stanley (1934)\n",
      "The Case of the Lame Canary by Gardner, Erle Stanley (1937)\n",
      "The Case of the Lucky Legs by Gardner, Erle Stanley (1934)\n",
      "The Case of the Perjured Parrot by Gardner, Erle Stanley (1939)\n",
      "The Case of the Shoplifter's Shoe by Gardner, Erle Stanley (1938)\n",
      "The Case of the Substitute Face by Gardner, Erle Stanley (1938)\n",
      "The Case of the Velvet Claws by Gardner, Erle Stanley (1933)\n",
      "The Claverings by Trollope, Anthony (1866)\n",
      "The Clock Ticks On by Williams, Valentine (1933)\n",
      "The Colonel's Daughter by Aldington, Richard (1931)\n",
      "The Constant Nymph by Kennedy, Margaret (1924)\n",
      "The Coquette; Or, the History of Eliza Wharton by Foster, Hannah Webster (1797)\n",
      "The Country House by Galsworthy, John (1907)\n",
      "The Crock of Gold by Stephens, James (1912)\n",
      "The D. A. Calls It Murder by Gardner, Erle Stanley (1937)\n",
      "The Daring Young Man on the Flying Trapeze by Saroyan, William (1934)\n",
      "The Dark Flower by Galsworthy, John (1913)\n",
      "The Dark Island by Sackville-West, Vita (1934)\n",
      "The Dead Don't Care by Latimer, Jonathan (1938)\n",
      "The Death of the Heart by Bowen, Elizabeth (1938)\n",
      "The Diary of a Man of Fifty by James, Henry (1880)\n",
      "The Diary of a Young Lady of Fashion in the Year 1764 – 1765 by King-Hall, Magdalen (1925)\n",
      "The Dragon Murder Case by Van Dine, S. S. (Willard Huntington Wright) (1933)\n",
      "The Duchess of Wrexe, Her Decline and Death: A Romantic Commentary by Walpole, Hugh (1924)\n",
      "The Early Life and Adventures of Sylvia Scarlett by Mackenzie, Compton (1918)\n",
      "The Egoist by Meredith, George (1879)\n",
      "The Emperor Jones by O'Neill, Eugene (1921)\n",
      "The Eternal Husband and Other Stories by Dostoyevsky, Fyodor (Фёдор Михайлович Достоевский) (1917)\n",
      "The Exile by Buck, Pearl S. (1936)\n",
      "The Expedition of Humphry Clinker by Smollett, Tobias (1771)\n",
      "The Face in the Night by Wallace, Edgar (1924)\n",
      "The Fashion in Shrouds by Allingham, Margery (1938)\n",
      "The Filigree Ball: Being a Full and True Account of the Solution of the Mystery Concerning the Jeffrey-Moore Affair by Green, Anna Katharine (1903)\n",
      "The Finer Grain by James, Henry (1910)\n",
      "The First Wife and Other Stories by Buck, Pearl S. (1933)\n",
      "The Fountain by Morgan, Charles (1932)\n",
      "The French Powder Mystery by Queen, Ellery (Frederic Dannay and Manfred B. Lee) (1930)\n",
      "The Fruit of the Tree by Wharton, Edith (1907)\n",
      "The Gap in the Curtain by Buchan, John (1932)\n",
      "The Garden Murder Case by Van Dine, S. S. (Willard Huntington Wright) (1935)\n",
      "The Garden Party and Other Stories by Mansfield, Katherine (1922)\n",
      "The Glass Key by Hammett, Dashiell (1931)\n",
      "The Gods Arrive by Wharton, Edith (1932)\n",
      "The Good Earth by Buck, Pearl S. (1931)\n",
      "The Gracie Allen Murder Case: A Philo Vance story by Van Dine, S. S. (Willard Huntington Wright) (1938)\n",
      "The Great Gatsby by Fitzgerald, F. Scott (1925)\n",
      "The Greene Murder Case by Van Dine, S. S. (Willard Huntington Wright) (1928)\n",
      "The Hard-Boiled Virgin by Newman, Frances (1926)\n",
      "The Hill of Dreams by Machen, Arthur (1907)\n",
      "The History of the Devil\n",
      "The House in Paris by Bowen, Elizabeth (1935)\n",
      "The House of the Four Winds by Buchan, John (1935)\n",
      "The Informer by O'Flaherty, Liam (1925)\n",
      "The Island Within by Lewisohn, Ludwig (1928)\n",
      "The Journal of a Disappointed Man by Barbellion, W. N. P. (1919)\n",
      "The Judas Window by Carr, John Dickson (Carter Dickson, pseud.) (1938)\n",
      "The Judge by West, Rebecca (1922)\n",
      "The Kennel Murder Case: A Philo Vance Story by Van Dine, S. S. (Willard Huntington Wright) (1933)\n",
      "The Kidnap Murder Case by Van Dine, S. S. (Willard Huntington Wright) (1936)\n",
      "The King of Elfland's Daughter by Dunsany, Lord (1924)\n",
      "The Ladies of Lyndon by Kennedy, Margaret (1923)\n",
      "The Lake by Moore, George (1905)\n",
      "The Last Chronicle of Barset by Trollope, Anthony (1867)\n",
      "The Last Puritan: A Memoir in the Form of a Novel by Santayana, George (1935)\n",
      "The Life and Adventures of Sir Launcelot Greaves by Smollett, Tobias (1760)\n",
      "The Life of the Bee by Maeterlinck, Maurice (1901)\n",
      "The Lion's Share by Bennett, Arnold (1916)\n",
      "The Long Valley by Steinbeck, John (1938)\n",
      "The Longest Journey by Forster, E. M. (1907)\n",
      "The Loving Spirit by Du Maurier, Daphne (1931)\n",
      "The Magic Mountain by Mann, Thomas (1924)\n",
      "The Maltese Falcon by Hammett, Dashiell (1930)\n",
      "The Man of Property (The Forsyte Saga) by Galsworthy, John (1906)\n",
      "The Mauve Decade by Beer, Thomas (1926)\n",
      "The Missing Miniature, or the Adventures of a Sensitive Butcher by Kästner, Erich (1936)\n",
      "The Moonstone by Collins, Wilkie (1868)\n",
      "The Mother's Recompense by Wharton, Edith (1925)\n",
      "The Murder of Roger Ackroyd by Christie, Agatha (1926)\n",
      "The Mystery of the Blue Train by Christie, Agatha (1928)\n",
      "The Newcomes by Thackeray, William Makepeace (1855)\n",
      "The Ordeal of Richard Feverel by Meredith, George (1859)\n",
      "The Patrician by Galsworthy, John (1911)\n",
      "The Patriot by Buck, Pearl S. (1939)\n",
      "The Pit: A Story of Chicago by Norris, Frank (1903)\n",
      "The Plutocrat by Tarkington, Booth (1927)\n",
      "The Private Life of Helen of Troy by Erskine, John (1925)\n",
      "The Problem of the Green Capsule by Carr, John Dickson (Carter Dickson, pseud.) (1939)\n",
      "The Prodigal Parents by Lewis, Sinclair (1938)\n",
      "The Professor's House by Cather, Willa (1925)\n",
      "The Rains Came by Bromfield, Louis (1937)\n",
      "The Reader Is Warned by Carr, John Dickson (Carter Dickson, pseud.) (1939)\n",
      "The Return by De la Mare, Walter (1910)\n",
      "The Sacred Wood: Essays on Poetry and Criticism by Eliot, T. S. (Thomas Stearns) (1920)\n",
      "The Sailor's Return by Garnett, David (1925)\n",
      "The Saint in New York by Charteris, Leslie (1935)\n",
      "The Scarab Murder Case: A Philo Vance Story by Van Dine, S. S. (Willard Huntington Wright) (1929)\n",
      "The Secret Agent: A Simple Tale by Conrad, Joseph (1907)\n",
      "The Seven Who Fled by Prokosch, Frederic (1937)\n",
      "The Shining Pyramid by Machen, Arthur (1925)\n",
      "The Siamese Twin Mystery by Queen, Ellery (Frederic Dannay and Manfred B. Lee) (1933)\n",
      "The Silver Spoon by Galsworthy, John (1926)\n",
      "The Spanish Cape Mystery by Queen, Ellery (Frederic Dannay and Manfred B. Lee) (1935)\n",
      "The Sun Also Rises by Hemingway, Ernest (1926)\n",
      "The Thin Man by Hammett, Dashiell (1934)\n",
      "The Thirteen Problems by Christie, Agatha (1932)\n",
      "The Travels of Marco Polo by Polo, Marco\n",
      "The Tuesday Club Murders by Christie, Agatha (1933)\n",
      "The Ugly Duchess by Feuchtwanger, Lion (1927)\n",
      "The Untilled Field by Moore, George (1903)\n",
      "The Washington Legation Murders by Mason, Francis van Wyck (1935)\n",
      "The Waves by Woolf, Virginia (1931)\n",
      "The Way of a Transgressor by Farson, Negley (1936)\n",
      "The Weather in the Streets by Lehmann, Rosamond (1936)\n",
      "The Well of Loneliness by Hall, Radclyffe (1926)\n",
      "The White Paternoster and Other Stories by Powys, Theodore Francis (1930)\n",
      "The Wild Orchid by Undset, Sigrid (1931)\n",
      "The Wild Party by March, Joseph Moncure (1928)\n",
      "The Young Manhood of Studs Lonigan by Farrell, James T. (James Thomas) (1934)\n",
      "Thirteen at Dinner by Christie, Agatha (1933)\n",
      "This Proud Heart by Buck, Pearl S. (1938)\n",
      "Time and Tide\n",
      "To the Lighthouse by Woolf, Virginia (1927)\n",
      "To the North by Bowen, Elizabeth (1932)\n",
      "Tokefield Papers: Old and New by Swinnerton, Frank (1928)\n",
      "Travels in Wicklow, West Kerry and Connemara by Synge, John Millington (1912)\n",
      "Twilight Sleep by Wharton, Edith (1927)\n",
      "Two O'Clock Courage by Burgess, Gelett (1934)\n",
      "Two or Three Graces and Other Stories by Huxley, Aldous (1926)\n",
      "Unnatural Death by Sayers, Dorothy (1927)\n",
      "Vanity Fair by Thackeray, William Makepeace (1847)\n",
      "Vile Bodies by Waugh, Evelyn (1930)\n",
      "Warrant for X by MacDonald, Philip (1938)\n",
      "Watch and Ward by James, Henry (1878)\n",
      "White Ladies by Young, Francis Brett (1935)\n",
      "White Monkey by Galsworthy, John (1924)\n",
      "White Mule by Williams, William Carlos (1937)\n",
      "Whose Body? by Sayers, Dorothy (1923)\n",
      "Wintersmoon by Walpole, Hugh (1928)\n",
      "With Malice toward Some by Halsey, Margaret (1938)\n",
      "Wolf Solent by Powys, John Cowper (1929)\n",
      "Youth and the Bright Medusa by Cather, Willa (1920)\n",
      "in our time / In Our Time by Hemingway, Ernest\n"
     ]
    }
   ],
   "source": [
    "for book, label in node2label_l.items():  # for name, age in dictionary.iteritems():  \n",
    "    if label == 0:\n",
    "        print(book)"
   ]
  },
  {
   "cell_type": "markdown",
   "metadata": {},
   "source": [
    "**Probability** that a node is in the core vs. periphery."
   ]
  },
  {
   "cell_type": "code",
   "execution_count": 59,
   "metadata": {},
   "outputs": [],
   "source": [
    "#  Dictionary of node -> ordered array of probabilities\n",
    "node2probs_l = hubspoke.get_labels(last_n_samples=50, prob=True, return_dict=True)"
   ]
  },
  {
   "cell_type": "code",
   "execution_count": 60,
   "metadata": {},
   "outputs": [],
   "source": [
    "sc_layered_probs_df = pd.DataFrame.from_dict(node2probs_l, orient='index')"
   ]
  },
  {
   "cell_type": "markdown",
   "metadata": {},
   "source": [
    "**Coreness**, where the closer to 1 the more core; closer to 0 the more peripheral."
   ]
  },
  {
   "cell_type": "code",
   "execution_count": 19,
   "metadata": {},
   "outputs": [],
   "source": [
    "# Dictionary of node -> coreness\n",
    "node2coreness_hs = hubspoke.get_coreness(last_n_samples=50, return_dict=True)\n",
    "node2coreness_l = layered.get_coreness(last_n_samples=50, return_dict=True)"
   ]
  },
  {
   "cell_type": "code",
   "execution_count": 21,
   "metadata": {},
   "outputs": [],
   "source": [
    "sc_layered_coreness_df = pd.DataFrame.from_dict(node2coreness_l, orient='index')"
   ]
  },
  {
   "cell_type": "code",
   "execution_count": 22,
   "metadata": {},
   "outputs": [
    {
     "data": {
      "text/html": [
       "<div>\n",
       "<style scoped>\n",
       "    .dataframe tbody tr th:only-of-type {\n",
       "        vertical-align: middle;\n",
       "    }\n",
       "\n",
       "    .dataframe tbody tr th {\n",
       "        vertical-align: top;\n",
       "    }\n",
       "\n",
       "    .dataframe thead th {\n",
       "        text-align: right;\n",
       "    }\n",
       "</style>\n",
       "<table border=\"1\" class=\"dataframe\">\n",
       "  <thead>\n",
       "    <tr style=\"text-align: right;\">\n",
       "      <th></th>\n",
       "      <th>0</th>\n",
       "    </tr>\n",
       "  </thead>\n",
       "  <tbody>\n",
       "    <tr>\n",
       "      <th>1914 and Other Poems by Brooke, Rupert (1915)</th>\n",
       "      <td>0.02</td>\n",
       "    </tr>\n",
       "    <tr>\n",
       "      <th>1919 by Dos Passos, John (1932)</th>\n",
       "      <td>0.91</td>\n",
       "    </tr>\n",
       "    <tr>\n",
       "      <th>365 Days (1936)</th>\n",
       "      <td>0.28</td>\n",
       "    </tr>\n",
       "    <tr>\n",
       "      <th>A Backward Glance by Wharton, Edith (1934)</th>\n",
       "      <td>0.44</td>\n",
       "    </tr>\n",
       "    <tr>\n",
       "      <th>A Book by Barnes, Djuna (1923)</th>\n",
       "      <td>0.00</td>\n",
       "    </tr>\n",
       "    <tr>\n",
       "      <th>...</th>\n",
       "      <td>...</td>\n",
       "    </tr>\n",
       "    <tr>\n",
       "      <th>Zola</th>\n",
       "      <td>0.00</td>\n",
       "    </tr>\n",
       "    <tr>\n",
       "      <th>Zola and His Time by Josephson, Matthew (1928)</th>\n",
       "      <td>0.01</td>\n",
       "    </tr>\n",
       "    <tr>\n",
       "      <th>Zuleika Dobson by Beerbohm, Max (1911)</th>\n",
       "      <td>0.51</td>\n",
       "    </tr>\n",
       "    <tr>\n",
       "      <th>[unknown]</th>\n",
       "      <td>0.02</td>\n",
       "    </tr>\n",
       "    <tr>\n",
       "      <th>in our time / In Our Time by Hemingway, Ernest</th>\n",
       "      <td>0.87</td>\n",
       "    </tr>\n",
       "  </tbody>\n",
       "</table>\n",
       "<p>1243 rows × 1 columns</p>\n",
       "</div>"
      ],
      "text/plain": [
       "                                                   0\n",
       "1914 and Other Poems by Brooke, Rupert (1915)   0.02\n",
       "1919 by Dos Passos, John (1932)                 0.91\n",
       "365 Days (1936)                                 0.28\n",
       "A Backward Glance by Wharton, Edith (1934)      0.44\n",
       "A Book by Barnes, Djuna (1923)                  0.00\n",
       "...                                              ...\n",
       "Zola                                            0.00\n",
       "Zola and His Time by Josephson, Matthew (1928)  0.01\n",
       "Zuleika Dobson by Beerbohm, Max (1911)          0.51\n",
       "[unknown]                                       0.02\n",
       "in our time / In Our Time by Hemingway, Ernest  0.87\n",
       "\n",
       "[1243 rows x 1 columns]"
      ]
     },
     "execution_count": 22,
     "metadata": {},
     "output_type": "execute_result"
    }
   ],
   "source": [
    "sc_layered_coreness_df"
   ]
  },
  {
   "cell_type": "code",
   "execution_count": 23,
   "metadata": {},
   "outputs": [],
   "source": [
    "# all books that are especially \"corey\" in the layered model\n",
    "most_core = []\n",
    "for book, coreness in node2coreness_l.items():  # for name, age in dictionary.iteritems():  \n",
    "    if coreness > .93:\n",
    "        most_core.append(book)"
   ]
  },
  {
   "cell_type": "code",
   "execution_count": 24,
   "metadata": {
    "scrolled": true
   },
   "outputs": [
    {
     "data": {
      "text/plain": [
       "['A Farewell to Arms by Hemingway, Ernest (1929)',\n",
       " 'Alice Adams by Tarkington, Booth (1921)',\n",
       " 'All This and Heaven Too by Field, Rachel (1938)',\n",
       " 'Antic Hay by Huxley, Aldous (1923)',\n",
       " 'Arrowsmith by Lewis, Sinclair (1925)',\n",
       " 'Babbitt by Lewis, Sinclair (1922)',\n",
       " 'Back Street by Hurst, Fannie (1931)',\n",
       " 'Buddenbrooks by Mann, Thomas (1924)',\n",
       " 'Celibate Lives by Moore, George (1927)',\n",
       " 'Crewe Train by Macaulay, Rose (1926)',\n",
       " 'Dusty Answer by Lehmann, Rosamond (1927)',\n",
       " 'Eyeless in Gaza by Huxley, Aldous (1936)',\n",
       " \"Jacob's Room by Woolf, Virginia (1922)\",\n",
       " 'Jew Süss by Feuchtwanger, Lion (1925)',\n",
       " 'Manhattan Transfer by Dos Passos, John (1925)',\n",
       " 'Mr. Norris Changes Trains by Isherwood, Christopher (1935)',\n",
       " 'Mrs. Dalloway by Woolf, Virginia (1925)',\n",
       " 'Oscar Wilde',\n",
       " 'Pity Is Not Enough by Herbst, Josephine (1933)',\n",
       " 'So Red the Rose by Young, Stark (1934)',\n",
       " 'Some Do Not... by Ford, Ford Madox (1924)',\n",
       " 'Sparkenbroke by Morgan, Charles (1936)',\n",
       " 'The Apes of God by Lewis, Wyndham (1930)',\n",
       " 'The Bridge of San Luis Rey by Wilder, Thornton (1927)',\n",
       " 'The Cabala by Wilder, Thornton (1926)',\n",
       " 'The Case of the Lame Canary by Gardner, Erle Stanley (1937)',\n",
       " 'The Death of the Heart by Bowen, Elizabeth (1938)',\n",
       " 'The Loving Spirit by Du Maurier, Daphne (1931)',\n",
       " 'The Problem of the Green Capsule by Carr, John Dickson (Carter Dickson, pseud.) (1939)',\n",
       " 'The Rains Came by Bromfield, Louis (1937)',\n",
       " 'The Waves by Woolf, Virginia (1931)',\n",
       " 'The Way of a Transgressor by Farson, Negley (1936)',\n",
       " 'The Well of Loneliness by Hall, Radclyffe (1926)',\n",
       " 'The Wild Orchid by Undset, Sigrid (1931)',\n",
       " 'To the Lighthouse by Woolf, Virginia (1927)',\n",
       " 'Wintersmoon by Walpole, Hugh (1928)']"
      ]
     },
     "execution_count": 24,
     "metadata": {},
     "output_type": "execute_result"
    }
   ],
   "source": [
    "most_core"
   ]
  },
  {
   "cell_type": "markdown",
   "metadata": {},
   "source": [
    "## Save to csv"
   ]
  },
  {
   "cell_type": "code",
   "execution_count": 62,
   "metadata": {},
   "outputs": [],
   "source": [
    "sc_layered_df['book_info'] = sc_layered_df.index\n",
    "sc_layered_df = sc_layered_df.rename(columns={0: \"layer\"})"
   ]
  },
  {
   "cell_type": "code",
   "execution_count": 63,
   "metadata": {},
   "outputs": [],
   "source": [
    "sc_hub_spoke_df['book_info'] = sc_hub_spoke_df.index\n",
    "sc_hub_spoke_df = sc_hub_spoke_df.rename(columns={0: \"hub_and_spoke\"})"
   ]
  },
  {
   "cell_type": "code",
   "execution_count": 64,
   "metadata": {},
   "outputs": [],
   "source": [
    "sc_layered_coreness_df['book_info'] = sc_layered_coreness_df.index\n",
    "sc_layered_coreness_df = sc_layered_coreness_df.rename(columns={0: \"coreness\"})"
   ]
  },
  {
   "cell_type": "code",
   "execution_count": 67,
   "metadata": {},
   "outputs": [],
   "source": [
    "full_sc_df = sc_layered_df.merge(sc_hub_spoke_df, how='inner', on='book_info').merge(sc_layered_coreness_df, how='inner', on='book_info')"
   ]
  },
  {
   "cell_type": "code",
   "execution_count": 68,
   "metadata": {},
   "outputs": [],
   "source": [
    "full_sc_df = full_sc_df[[\"book_info\", \"hub_and_spoke\", \"layer\", \"coreness\"]]"
   ]
  },
  {
   "cell_type": "code",
   "execution_count": 69,
   "metadata": {},
   "outputs": [
    {
     "data": {
      "text/html": [
       "<div>\n",
       "<style scoped>\n",
       "    .dataframe tbody tr th:only-of-type {\n",
       "        vertical-align: middle;\n",
       "    }\n",
       "\n",
       "    .dataframe tbody tr th {\n",
       "        vertical-align: top;\n",
       "    }\n",
       "\n",
       "    .dataframe thead th {\n",
       "        text-align: right;\n",
       "    }\n",
       "</style>\n",
       "<table border=\"1\" class=\"dataframe\">\n",
       "  <thead>\n",
       "    <tr style=\"text-align: right;\">\n",
       "      <th></th>\n",
       "      <th>book_info</th>\n",
       "      <th>hub_and_spoke</th>\n",
       "      <th>layer</th>\n",
       "      <th>coreness</th>\n",
       "    </tr>\n",
       "  </thead>\n",
       "  <tbody>\n",
       "    <tr>\n",
       "      <th>0</th>\n",
       "      <td>1914 and Other Poems by Brooke, Rupert (1915)</td>\n",
       "      <td>1</td>\n",
       "      <td>2</td>\n",
       "      <td>0.02</td>\n",
       "    </tr>\n",
       "    <tr>\n",
       "      <th>1</th>\n",
       "      <td>1919 by Dos Passos, John (1932)</td>\n",
       "      <td>0</td>\n",
       "      <td>0</td>\n",
       "      <td>0.91</td>\n",
       "    </tr>\n",
       "    <tr>\n",
       "      <th>2</th>\n",
       "      <td>365 Days (1936)</td>\n",
       "      <td>1</td>\n",
       "      <td>1</td>\n",
       "      <td>0.28</td>\n",
       "    </tr>\n",
       "    <tr>\n",
       "      <th>3</th>\n",
       "      <td>A Backward Glance by Wharton, Edith (1934)</td>\n",
       "      <td>1</td>\n",
       "      <td>1</td>\n",
       "      <td>0.44</td>\n",
       "    </tr>\n",
       "    <tr>\n",
       "      <th>4</th>\n",
       "      <td>A Book by Barnes, Djuna (1923)</td>\n",
       "      <td>1</td>\n",
       "      <td>2</td>\n",
       "      <td>0.00</td>\n",
       "    </tr>\n",
       "    <tr>\n",
       "      <th>...</th>\n",
       "      <td>...</td>\n",
       "      <td>...</td>\n",
       "      <td>...</td>\n",
       "      <td>...</td>\n",
       "    </tr>\n",
       "    <tr>\n",
       "      <th>1238</th>\n",
       "      <td>Zola</td>\n",
       "      <td>1</td>\n",
       "      <td>2</td>\n",
       "      <td>0.00</td>\n",
       "    </tr>\n",
       "    <tr>\n",
       "      <th>1239</th>\n",
       "      <td>Zola and His Time by Josephson, Matthew (1928)</td>\n",
       "      <td>1</td>\n",
       "      <td>2</td>\n",
       "      <td>0.01</td>\n",
       "    </tr>\n",
       "    <tr>\n",
       "      <th>1240</th>\n",
       "      <td>Zuleika Dobson by Beerbohm, Max (1911)</td>\n",
       "      <td>0</td>\n",
       "      <td>1</td>\n",
       "      <td>0.51</td>\n",
       "    </tr>\n",
       "    <tr>\n",
       "      <th>1241</th>\n",
       "      <td>[unknown]</td>\n",
       "      <td>1</td>\n",
       "      <td>2</td>\n",
       "      <td>0.02</td>\n",
       "    </tr>\n",
       "    <tr>\n",
       "      <th>1242</th>\n",
       "      <td>in our time / In Our Time by Hemingway, Ernest</td>\n",
       "      <td>0</td>\n",
       "      <td>0</td>\n",
       "      <td>0.87</td>\n",
       "    </tr>\n",
       "  </tbody>\n",
       "</table>\n",
       "<p>1243 rows × 4 columns</p>\n",
       "</div>"
      ],
      "text/plain": [
       "                                           book_info  hub_and_spoke  layer  \\\n",
       "0      1914 and Other Poems by Brooke, Rupert (1915)              1      2   \n",
       "1                    1919 by Dos Passos, John (1932)              0      0   \n",
       "2                                    365 Days (1936)              1      1   \n",
       "3         A Backward Glance by Wharton, Edith (1934)              1      1   \n",
       "4                     A Book by Barnes, Djuna (1923)              1      2   \n",
       "...                                              ...            ...    ...   \n",
       "1238                                            Zola              1      2   \n",
       "1239  Zola and His Time by Josephson, Matthew (1928)              1      2   \n",
       "1240          Zuleika Dobson by Beerbohm, Max (1911)              0      1   \n",
       "1241                                       [unknown]              1      2   \n",
       "1242  in our time / In Our Time by Hemingway, Ernest              0      0   \n",
       "\n",
       "      coreness  \n",
       "0         0.02  \n",
       "1         0.91  \n",
       "2         0.28  \n",
       "3         0.44  \n",
       "4         0.00  \n",
       "...        ...  \n",
       "1238      0.00  \n",
       "1239      0.01  \n",
       "1240      0.51  \n",
       "1241      0.02  \n",
       "1242      0.87  \n",
       "\n",
       "[1243 rows x 4 columns]"
      ]
     },
     "execution_count": 69,
     "metadata": {},
     "output_type": "execute_result"
    }
   ],
   "source": [
    "full_sc_df"
   ]
  },
  {
   "cell_type": "code",
   "execution_count": 70,
   "metadata": {},
   "outputs": [],
   "source": [
    "# vertex\n",
    "vertex_title = pd.DataFrame.from_dict(sc_dict, orient = \"index\")"
   ]
  },
  {
   "cell_type": "code",
   "execution_count": 72,
   "metadata": {},
   "outputs": [],
   "source": [
    "vertex_title[\"vertex\"] = vertex_title.index"
   ]
  },
  {
   "cell_type": "code",
   "execution_count": 73,
   "metadata": {},
   "outputs": [],
   "source": [
    "vertex_title = vertex_title.rename(columns={0: \"book_info\"})"
   ]
  },
  {
   "cell_type": "code",
   "execution_count": 74,
   "metadata": {},
   "outputs": [],
   "source": [
    "full_sc_df = full_sc_df.merge(vertex_title, how='inner', on='book_info')"
   ]
  },
  {
   "cell_type": "code",
   "execution_count": 75,
   "metadata": {},
   "outputs": [],
   "source": [
    "full_sc_df = full_sc_df[[\"vertex\",\"book_info\", \"layer\", \"hub_and_spoke\", \"coreness\"]]"
   ]
  },
  {
   "cell_type": "code",
   "execution_count": 155,
   "metadata": {},
   "outputs": [
    {
     "data": {
      "text/html": [
       "<div>\n",
       "<style scoped>\n",
       "    .dataframe tbody tr th:only-of-type {\n",
       "        vertical-align: middle;\n",
       "    }\n",
       "\n",
       "    .dataframe tbody tr th {\n",
       "        vertical-align: top;\n",
       "    }\n",
       "\n",
       "    .dataframe thead th {\n",
       "        text-align: right;\n",
       "    }\n",
       "</style>\n",
       "<table border=\"1\" class=\"dataframe\">\n",
       "  <thead>\n",
       "    <tr style=\"text-align: right;\">\n",
       "      <th></th>\n",
       "      <th>vertex</th>\n",
       "      <th>book_info</th>\n",
       "      <th>layer</th>\n",
       "      <th>hub_and_spoke</th>\n",
       "      <th>coreness</th>\n",
       "      <th>degree_centrality</th>\n",
       "      <th>between_centrality</th>\n",
       "      <th>eigenvector_centrality</th>\n",
       "    </tr>\n",
       "  </thead>\n",
       "  <tbody>\n",
       "    <tr>\n",
       "      <th>0</th>\n",
       "      <td>394</td>\n",
       "      <td>1914 and Other Poems by Brooke, Rupert (1915)</td>\n",
       "      <td>2</td>\n",
       "      <td>1</td>\n",
       "      <td>0.02</td>\n",
       "      <td>8</td>\n",
       "      <td>0.000000</td>\n",
       "      <td>0.000368</td>\n",
       "    </tr>\n",
       "    <tr>\n",
       "      <th>1</th>\n",
       "      <td>685</td>\n",
       "      <td>1919 by Dos Passos, John (1932)</td>\n",
       "      <td>0</td>\n",
       "      <td>0</td>\n",
       "      <td>0.91</td>\n",
       "      <td>493</td>\n",
       "      <td>0.001969</td>\n",
       "      <td>0.048415</td>\n",
       "    </tr>\n",
       "    <tr>\n",
       "      <th>2</th>\n",
       "      <td>607</td>\n",
       "      <td>365 Days (1936)</td>\n",
       "      <td>1</td>\n",
       "      <td>1</td>\n",
       "      <td>0.28</td>\n",
       "      <td>154</td>\n",
       "      <td>0.000053</td>\n",
       "      <td>0.016411</td>\n",
       "    </tr>\n",
       "    <tr>\n",
       "      <th>3</th>\n",
       "      <td>1215</td>\n",
       "      <td>A Backward Glance by Wharton, Edith (1934)</td>\n",
       "      <td>1</td>\n",
       "      <td>1</td>\n",
       "      <td>0.44</td>\n",
       "      <td>208</td>\n",
       "      <td>0.000465</td>\n",
       "      <td>0.018054</td>\n",
       "    </tr>\n",
       "    <tr>\n",
       "      <th>4</th>\n",
       "      <td>1076</td>\n",
       "      <td>A Book by Barnes, Djuna (1923)</td>\n",
       "      <td>2</td>\n",
       "      <td>1</td>\n",
       "      <td>0.00</td>\n",
       "      <td>39</td>\n",
       "      <td>0.000048</td>\n",
       "      <td>0.002810</td>\n",
       "    </tr>\n",
       "    <tr>\n",
       "      <th>5</th>\n",
       "      <td>704</td>\n",
       "      <td>A Book of Nonsense by Lear, Edward (1846)</td>\n",
       "      <td>2</td>\n",
       "      <td>1</td>\n",
       "      <td>0.00</td>\n",
       "      <td>8</td>\n",
       "      <td>0.000000</td>\n",
       "      <td>0.000521</td>\n",
       "    </tr>\n",
       "    <tr>\n",
       "      <th>6</th>\n",
       "      <td>207</td>\n",
       "      <td>A Child's Garden of Verses by Stevenson, Rober...</td>\n",
       "      <td>2</td>\n",
       "      <td>1</td>\n",
       "      <td>0.00</td>\n",
       "      <td>97</td>\n",
       "      <td>0.000000</td>\n",
       "      <td>0.009044</td>\n",
       "    </tr>\n",
       "    <tr>\n",
       "      <th>7</th>\n",
       "      <td>1152</td>\n",
       "      <td>A Christmas Garland by Beerbohm, Max (1912)</td>\n",
       "      <td>2</td>\n",
       "      <td>1</td>\n",
       "      <td>0.01</td>\n",
       "      <td>75</td>\n",
       "      <td>0.000053</td>\n",
       "      <td>0.006710</td>\n",
       "    </tr>\n",
       "    <tr>\n",
       "      <th>8</th>\n",
       "      <td>393</td>\n",
       "      <td>A City of Bells by Goudge, Elizabeth (1936)</td>\n",
       "      <td>1</td>\n",
       "      <td>0</td>\n",
       "      <td>0.53</td>\n",
       "      <td>275</td>\n",
       "      <td>0.000132</td>\n",
       "      <td>0.030492</td>\n",
       "    </tr>\n",
       "    <tr>\n",
       "      <th>9</th>\n",
       "      <td>61</td>\n",
       "      <td>A Connecticut Yankee in King Arthur's Court by...</td>\n",
       "      <td>2</td>\n",
       "      <td>1</td>\n",
       "      <td>0.01</td>\n",
       "      <td>10</td>\n",
       "      <td>0.000000</td>\n",
       "      <td>0.000939</td>\n",
       "    </tr>\n",
       "  </tbody>\n",
       "</table>\n",
       "</div>"
      ],
      "text/plain": [
       "   vertex                                          book_info  layer  \\\n",
       "0     394      1914 and Other Poems by Brooke, Rupert (1915)      2   \n",
       "1     685                    1919 by Dos Passos, John (1932)      0   \n",
       "2     607                                    365 Days (1936)      1   \n",
       "3    1215         A Backward Glance by Wharton, Edith (1934)      1   \n",
       "4    1076                     A Book by Barnes, Djuna (1923)      2   \n",
       "5     704          A Book of Nonsense by Lear, Edward (1846)      2   \n",
       "6     207  A Child's Garden of Verses by Stevenson, Rober...      2   \n",
       "7    1152        A Christmas Garland by Beerbohm, Max (1912)      2   \n",
       "8     393        A City of Bells by Goudge, Elizabeth (1936)      1   \n",
       "9      61  A Connecticut Yankee in King Arthur's Court by...      2   \n",
       "\n",
       "   hub_and_spoke  coreness  degree_centrality  between_centrality  \\\n",
       "0              1      0.02                  8            0.000000   \n",
       "1              0      0.91                493            0.001969   \n",
       "2              1      0.28                154            0.000053   \n",
       "3              1      0.44                208            0.000465   \n",
       "4              1      0.00                 39            0.000048   \n",
       "5              1      0.00                  8            0.000000   \n",
       "6              1      0.00                 97            0.000000   \n",
       "7              1      0.01                 75            0.000053   \n",
       "8              0      0.53                275            0.000132   \n",
       "9              1      0.01                 10            0.000000   \n",
       "\n",
       "   eigenvector_centrality  \n",
       "0                0.000368  \n",
       "1                0.048415  \n",
       "2                0.016411  \n",
       "3                0.018054  \n",
       "4                0.002810  \n",
       "5                0.000521  \n",
       "6                0.009044  \n",
       "7                0.006710  \n",
       "8                0.030492  \n",
       "9                0.000939  "
      ]
     },
     "execution_count": 155,
     "metadata": {},
     "output_type": "execute_result"
    }
   ],
   "source": [
    "full_sc_df.head(10)"
   ]
  },
  {
   "cell_type": "code",
   "execution_count": 77,
   "metadata": {},
   "outputs": [],
   "source": [
    "#full_sc_df.to_csv(\"shakespeare-co-core-periphery.csv\")"
   ]
  },
  {
   "cell_type": "markdown",
   "metadata": {},
   "source": [
    "# Other metrics"
   ]
  },
  {
   "cell_type": "markdown",
   "metadata": {},
   "source": [
    "### Density\n",
    "How connected is this graph? This finds the number of exissting edges divided by the number of total possible edges. "
   ]
  },
  {
   "cell_type": "code",
   "execution_count": 50,
   "metadata": {
    "scrolled": true
   },
   "outputs": [
    {
     "name": "stdout",
     "output_type": "stream",
     "text": [
      "Shakespeare and Co Network Density: 0.16937620400490735\n"
     ]
    }
   ],
   "source": [
    "sc_density = nx.density(sc_G)\n",
    "print(\"Shakespeare and Co Network Density:\", sc_density)"
   ]
  },
  {
   "cell_type": "markdown",
   "metadata": {},
   "source": [
    "### Transitivity\n",
    "How likely is it that if book A and book B are read together, and book B and book C are also read together, that books A and C are also connected by an edge? "
   ]
  },
  {
   "cell_type": "code",
   "execution_count": 51,
   "metadata": {},
   "outputs": [
    {
     "name": "stdout",
     "output_type": "stream",
     "text": [
      "Triadic closure for S&C: 0.6236327807463062\n"
     ]
    }
   ],
   "source": [
    "triadic_closure = nx.transitivity(sc_G)\n",
    "print(\"Triadic closure for S&C:\", triadic_closure)"
   ]
  },
  {
   "cell_type": "markdown",
   "metadata": {},
   "source": [
    "### Diameter length\n",
    "Because this is not a connected graph, diameter length measures are slightly more complex. The below code finds the largest connected component of the graph, makes that a \"subgraph\" and then calculates the diameter of the largest connected component. "
   ]
  },
  {
   "cell_type": "code",
   "execution_count": 52,
   "metadata": {},
   "outputs": [
    {
     "name": "stdout",
     "output_type": "stream",
     "text": [
      "Network diameter of Shakespeare and Co's largest component: 5\n"
     ]
    }
   ],
   "source": [
    "# Get the largest connected component of the graph\n",
    "components = nx.connected_components(sc_G)\n",
    "largest_component = max(components, key=len)\n",
    "\n",
    "# Create a \"subgraph\" of the largest component and find diameter\n",
    "subgraph = sc_G.subgraph(largest_component)\n",
    "diameter = nx.diameter(subgraph)\n",
    "print(\"Network diameter of Shakespeare and Co's largest component:\", diameter)"
   ]
  },
  {
   "cell_type": "markdown",
   "metadata": {},
   "source": [
    "### Centrality Measures\n",
    "There are multiple ways to assess centrality in a network. Centrality measures usually try to capture something similar to significance or importance in a network--but there are different ways to understand importance. This code looks at the following:\n",
    "- **degree centrality:** the sum of all of a node's edges. When considering S&C, a book with the highest number of degrees demonstrates that it was the book most often read with other books in the network. This is a measure of a type of popularity (*but remember -> this isn't the book checked out the most times, it's the book checked out the most times with any other book*).  \n",
    "- **betweeness centrality:** betweenness centrality disregards node degree, and instead focuses on path length for determining the most important nodes. This looks at shortest paths to figure out which nodes connect otherwise disparate parts of the network. \n",
    "- **eigenvector centrality:** eigenvector centrality accounts for whether or not a node is connected to many other high-degree nodes--this would make it a hub, and also accounts for a central node that may not have the highest # of degrees, but is highly important, regardless"
   ]
  },
  {
   "cell_type": "code",
   "execution_count": 78,
   "metadata": {},
   "outputs": [
    {
     "name": "stdout",
     "output_type": "stream",
     "text": [
      "Top 100 nodes by degree in S&C:\n",
      "('The Sun Also Rises by Hemingway, Ernest (1926)', 760)\n",
      "('A Portrait of the Artist as a Young Man by Joyce, James (1916)', 734)\n",
      "('A Passage to India by Forster, E. M. (1924)', 727)\n",
      "('Dubliners by Joyce, James (1914)', 711)\n",
      "('A Farewell to Arms by Hemingway, Ernest (1929)', 709)\n",
      "('Sanctuary by Faulkner, William (1931)', 705)\n",
      "('Eyeless in Gaza by Huxley, Aldous (1936)', 696)\n",
      "('Pointed Roofs (Pilgrimage 1) by Richardson, Dorothy M. (1915)', 694)\n",
      "('To the Lighthouse by Woolf, Virginia (1927)', 690)\n",
      "(\"Jacob's Room by Woolf, Virginia (1922)\", 686)\n",
      "('Manhattan Transfer by Dos Passos, John (1925)', 685)\n",
      "('Mr. Norris Changes Trains by Isherwood, Christopher (1935)', 684)\n",
      "('New Writing', 684)\n",
      "('The Garden Party and Other Stories by Mansfield, Katherine (1922)', 670)\n",
      "('The Waves by Woolf, Virginia (1931)', 670)\n",
      "(\"Axel's Castle: A Study in the Imaginative Literature of 1870 – 1930 by Wilson, Edmund (1931)\", 670)\n",
      "('Sparkenbroke by Morgan, Charles (1936)', 670)\n",
      "('Mrs. Dalloway by Woolf, Virginia (1925)', 668)\n",
      "('The Rains Came by Bromfield, Louis (1937)', 667)\n",
      "('The Well of Loneliness by Hall, Radclyffe (1926)', 650)\n"
     ]
    }
   ],
   "source": [
    "# degree centrality\n",
    "sc_degree_dict = dict(sc_G.degree(sc_G.nodes()))\n",
    "nx.set_node_attributes(sc_G, sc_degree_dict, 'degree')\n",
    "\n",
    "sc_sorted_degree = sorted(sc_degree_dict.items(), key=itemgetter(1), reverse=True)\n",
    "print(\"Top 100 nodes by degree in S&C:\")\n",
    "for d in sc_sorted_degree[:20]:\n",
    "    print(d)"
   ]
  },
  {
   "cell_type": "code",
   "execution_count": 85,
   "metadata": {},
   "outputs": [],
   "source": [
    "sc_degree_df = pd.DataFrame.from_dict(sc_degree_dict, orient='index')\n",
    "sc_degree_df[\"book_info\"] = sc_degree_df.index"
   ]
  },
  {
   "cell_type": "code",
   "execution_count": 87,
   "metadata": {},
   "outputs": [],
   "source": [
    "sc_degree_df = sc_degree_df.rename(columns={0: \"degree_centrality\"})"
   ]
  },
  {
   "cell_type": "code",
   "execution_count": 79,
   "metadata": {},
   "outputs": [
    {
     "name": "stdout",
     "output_type": "stream",
     "text": [
      "Top 20 S&C nodes by betweenness centrality:\n",
      "('A Portrait of the Artist as a Young Man by Joyce, James (1916)', 0.0211823163565959)\n",
      "('Dubliners by Joyce, James (1914)', 0.014421762191648936)\n",
      "('Pointed Roofs (Pilgrimage 1) by Richardson, Dorothy M. (1915)', 0.01299321287359992)\n",
      "('The Sun Also Rises by Hemingway, Ernest (1926)', 0.011548535324779827)\n",
      "('Mr. Norris Changes Trains by Isherwood, Christopher (1935)', 0.009603896350449798)\n",
      "('Exiles by Joyce, James (1918)', 0.009564421220576092)\n",
      "('Moby-Dick; Or, the Whale by Melville, Herman (1851)', 0.009473956082605615)\n",
      "('The Garden Party and Other Stories by Mansfield, Katherine (1922)', 0.008946568470141466)\n",
      "('A Passage to India by Forster, E. M. (1924)', 0.008914960276224064)\n",
      "('Manhattan Transfer by Dos Passos, John (1925)', 0.008622284488015441)\n",
      "('Bliss and Other Stories by Mansfield, Katherine (1920)', 0.008391996154496885)\n",
      "('New Writing', 0.008006549886583031)\n",
      "('A Farewell to Arms by Hemingway, Ernest (1929)', 0.007916833409597613)\n",
      "('Absalom, Absalom! by Faulkner, William (1936)', 0.007872361789856027)\n",
      "('My Life by Duncan, Isadora (1927)', 0.007284151188441445)\n",
      "('Sanctuary by Faulkner, William (1931)', 0.007110049788837379)\n",
      "(\"The Emperor Jones by O'Neill, Eugene (1921)\", 0.00647850297285913)\n",
      "('As I Lay Dying by Faulkner, William (1930)', 0.006293800609017361)\n",
      "(\"Jacob's Room by Woolf, Virginia (1922)\", 0.006150633386050864)\n",
      "('The Bridge of San Luis Rey by Wilder, Thornton (1927)', 0.006079532007912738)\n"
     ]
    }
   ],
   "source": [
    "# betweenness centrality\n",
    "betweenness_dict = nx.betweenness_centrality(sc_G) # Run betweenness centrality\n",
    "# Assign each to an attribute in your network\n",
    "nx.set_node_attributes(sc_G, betweenness_dict, 'betweenness')\n",
    "\n",
    "sorted_betweenness = sorted(betweenness_dict.items(), key=itemgetter(1), reverse=True)\n",
    "\n",
    "print(\"Top 20 S&C nodes by betweenness centrality:\")\n",
    "for b in sorted_betweenness[:20]:\n",
    "    print(b)"
   ]
  },
  {
   "cell_type": "code",
   "execution_count": null,
   "metadata": {},
   "outputs": [],
   "source": [
    "sc_between_df = pd.DataFrame.from_dict(betweenness_dict, orient='index')\n",
    "sc_between_df[\"book_info\"] = sc_between_df.index\n",
    "\n",
    "sc_between_df = sc_between_df.rename(columns={0: \"between_centrality\"})"
   ]
  },
  {
   "cell_type": "code",
   "execution_count": 80,
   "metadata": {},
   "outputs": [
    {
     "name": "stdout",
     "output_type": "stream",
     "text": [
      "Top 20 S&C nodes by eigenvector centrality:\n",
      "('A Passage to India by Forster, E. M. (1924)', 0.06129393107749066)\n",
      "('The Sun Also Rises by Hemingway, Ernest (1926)', 0.061157170929938345)\n",
      "('Eyeless in Gaza by Huxley, Aldous (1936)', 0.061058426522785245)\n",
      "('A Farewell to Arms by Hemingway, Ernest (1929)', 0.06034363737272585)\n",
      "('Sanctuary by Faulkner, William (1931)', 0.0602831778003923)\n",
      "('Sparkenbroke by Morgan, Charles (1936)', 0.06026089984278902)\n",
      "('To the Lighthouse by Woolf, Virginia (1927)', 0.060231445215858985)\n",
      "(\"Axel's Castle: A Study in the Imaginative Literature of 1870 – 1930 by Wilson, Edmund (1931)\", 0.060230281618190516)\n",
      "('Mrs. Dalloway by Woolf, Virginia (1925)', 0.05998365750681798)\n",
      "('The Waves by Woolf, Virginia (1931)', 0.05996296419039787)\n",
      "(\"Jacob's Room by Woolf, Virginia (1922)\", 0.0598260413364359)\n",
      "('The Death of the Heart by Bowen, Elizabeth (1938)', 0.05968057791376069)\n",
      "('The Rains Came by Bromfield, Louis (1937)', 0.05954315894900877)\n",
      "('South Riding: An English Landscape by Holtby, Winifred (1936)', 0.05924067380273494)\n",
      "('Manhattan Transfer by Dos Passos, John (1925)', 0.05889460763726754)\n",
      "('Point Counter Point by Huxley, Aldous (1928)', 0.0588576314525586)\n",
      "('The Well of Loneliness by Hall, Radclyffe (1926)', 0.05874426159188519)\n",
      "('After Many a Summer by Huxley, Aldous (1939)', 0.05869343323744809)\n",
      "('The Garden Party and Other Stories by Mansfield, Katherine (1922)', 0.05858385993677557)\n",
      "('Books and Characters, French and English by Strachey, Giles Lytton (1922)', 0.05844062378868741)\n"
     ]
    }
   ],
   "source": [
    "# eigenvector centrality\n",
    "eigenvector_dict = nx.eigenvector_centrality(sc_G) # Run eigenvector centrality\n",
    "nx.set_node_attributes(sc_G, eigenvector_dict, 'eigenvector')\n",
    "\n",
    "sorted_eigenvector = sorted(eigenvector_dict.items(), key=itemgetter(1), reverse=True)\n",
    "\n",
    "print(\"Top 20 S&C nodes by eigenvector centrality:\")\n",
    "for b in sorted_eigenvector[:20]:\n",
    "    print(b)"
   ]
  },
  {
   "cell_type": "code",
   "execution_count": 90,
   "metadata": {},
   "outputs": [],
   "source": [
    "sc_eigenvector_df = pd.DataFrame.from_dict(eigenvector_dict, orient='index')\n",
    "sc_eigenvector_df[\"book_info\"] = sc_eigenvector_df.index"
   ]
  },
  {
   "cell_type": "code",
   "execution_count": 91,
   "metadata": {},
   "outputs": [],
   "source": [
    "sc_eigenvector_df = sc_eigenvector_df.rename(columns={0: \"eigenvector_centrality\"})"
   ]
  },
  {
   "cell_type": "markdown",
   "metadata": {},
   "source": [
    "### Combine all"
   ]
  },
  {
   "cell_type": "code",
   "execution_count": 95,
   "metadata": {},
   "outputs": [],
   "source": [
    "full_sc_df = full_sc_df.merge(sc_degree_df, how='inner', on='book_info').merge(sc_between_df, how='inner', on='book_info').merge(sc_eigenvector_df, how='inner', on='book_info')"
   ]
  },
  {
   "cell_type": "code",
   "execution_count": 157,
   "metadata": {},
   "outputs": [
    {
     "data": {
      "text/html": [
       "<div>\n",
       "<style scoped>\n",
       "    .dataframe tbody tr th:only-of-type {\n",
       "        vertical-align: middle;\n",
       "    }\n",
       "\n",
       "    .dataframe tbody tr th {\n",
       "        vertical-align: top;\n",
       "    }\n",
       "\n",
       "    .dataframe thead th {\n",
       "        text-align: right;\n",
       "    }\n",
       "</style>\n",
       "<table border=\"1\" class=\"dataframe\">\n",
       "  <thead>\n",
       "    <tr style=\"text-align: right;\">\n",
       "      <th></th>\n",
       "      <th>vertex</th>\n",
       "      <th>book_info</th>\n",
       "      <th>layer</th>\n",
       "      <th>hub_and_spoke</th>\n",
       "      <th>coreness</th>\n",
       "      <th>degree_centrality</th>\n",
       "      <th>between_centrality</th>\n",
       "      <th>eigenvector_centrality</th>\n",
       "    </tr>\n",
       "  </thead>\n",
       "  <tbody>\n",
       "    <tr>\n",
       "      <th>0</th>\n",
       "      <td>394</td>\n",
       "      <td>1914 and Other Poems by Brooke, Rupert (1915)</td>\n",
       "      <td>2</td>\n",
       "      <td>1</td>\n",
       "      <td>0.02</td>\n",
       "      <td>8</td>\n",
       "      <td>0.000000</td>\n",
       "      <td>0.000368</td>\n",
       "    </tr>\n",
       "    <tr>\n",
       "      <th>1</th>\n",
       "      <td>685</td>\n",
       "      <td>1919 by Dos Passos, John (1932)</td>\n",
       "      <td>0</td>\n",
       "      <td>0</td>\n",
       "      <td>0.91</td>\n",
       "      <td>493</td>\n",
       "      <td>0.001969</td>\n",
       "      <td>0.048415</td>\n",
       "    </tr>\n",
       "    <tr>\n",
       "      <th>2</th>\n",
       "      <td>607</td>\n",
       "      <td>365 Days (1936)</td>\n",
       "      <td>1</td>\n",
       "      <td>1</td>\n",
       "      <td>0.28</td>\n",
       "      <td>154</td>\n",
       "      <td>0.000053</td>\n",
       "      <td>0.016411</td>\n",
       "    </tr>\n",
       "    <tr>\n",
       "      <th>3</th>\n",
       "      <td>1215</td>\n",
       "      <td>A Backward Glance by Wharton, Edith (1934)</td>\n",
       "      <td>1</td>\n",
       "      <td>1</td>\n",
       "      <td>0.44</td>\n",
       "      <td>208</td>\n",
       "      <td>0.000465</td>\n",
       "      <td>0.018054</td>\n",
       "    </tr>\n",
       "    <tr>\n",
       "      <th>4</th>\n",
       "      <td>1076</td>\n",
       "      <td>A Book by Barnes, Djuna (1923)</td>\n",
       "      <td>2</td>\n",
       "      <td>1</td>\n",
       "      <td>0.00</td>\n",
       "      <td>39</td>\n",
       "      <td>0.000048</td>\n",
       "      <td>0.002810</td>\n",
       "    </tr>\n",
       "    <tr>\n",
       "      <th>5</th>\n",
       "      <td>704</td>\n",
       "      <td>A Book of Nonsense by Lear, Edward (1846)</td>\n",
       "      <td>2</td>\n",
       "      <td>1</td>\n",
       "      <td>0.00</td>\n",
       "      <td>8</td>\n",
       "      <td>0.000000</td>\n",
       "      <td>0.000521</td>\n",
       "    </tr>\n",
       "    <tr>\n",
       "      <th>6</th>\n",
       "      <td>207</td>\n",
       "      <td>A Child's Garden of Verses by Stevenson, Rober...</td>\n",
       "      <td>2</td>\n",
       "      <td>1</td>\n",
       "      <td>0.00</td>\n",
       "      <td>97</td>\n",
       "      <td>0.000000</td>\n",
       "      <td>0.009044</td>\n",
       "    </tr>\n",
       "    <tr>\n",
       "      <th>7</th>\n",
       "      <td>1152</td>\n",
       "      <td>A Christmas Garland by Beerbohm, Max (1912)</td>\n",
       "      <td>2</td>\n",
       "      <td>1</td>\n",
       "      <td>0.01</td>\n",
       "      <td>75</td>\n",
       "      <td>0.000053</td>\n",
       "      <td>0.006710</td>\n",
       "    </tr>\n",
       "    <tr>\n",
       "      <th>8</th>\n",
       "      <td>393</td>\n",
       "      <td>A City of Bells by Goudge, Elizabeth (1936)</td>\n",
       "      <td>1</td>\n",
       "      <td>0</td>\n",
       "      <td>0.53</td>\n",
       "      <td>275</td>\n",
       "      <td>0.000132</td>\n",
       "      <td>0.030492</td>\n",
       "    </tr>\n",
       "    <tr>\n",
       "      <th>9</th>\n",
       "      <td>61</td>\n",
       "      <td>A Connecticut Yankee in King Arthur's Court by...</td>\n",
       "      <td>2</td>\n",
       "      <td>1</td>\n",
       "      <td>0.01</td>\n",
       "      <td>10</td>\n",
       "      <td>0.000000</td>\n",
       "      <td>0.000939</td>\n",
       "    </tr>\n",
       "  </tbody>\n",
       "</table>\n",
       "</div>"
      ],
      "text/plain": [
       "   vertex                                          book_info  layer  \\\n",
       "0     394      1914 and Other Poems by Brooke, Rupert (1915)      2   \n",
       "1     685                    1919 by Dos Passos, John (1932)      0   \n",
       "2     607                                    365 Days (1936)      1   \n",
       "3    1215         A Backward Glance by Wharton, Edith (1934)      1   \n",
       "4    1076                     A Book by Barnes, Djuna (1923)      2   \n",
       "5     704          A Book of Nonsense by Lear, Edward (1846)      2   \n",
       "6     207  A Child's Garden of Verses by Stevenson, Rober...      2   \n",
       "7    1152        A Christmas Garland by Beerbohm, Max (1912)      2   \n",
       "8     393        A City of Bells by Goudge, Elizabeth (1936)      1   \n",
       "9      61  A Connecticut Yankee in King Arthur's Court by...      2   \n",
       "\n",
       "   hub_and_spoke  coreness  degree_centrality  between_centrality  \\\n",
       "0              1      0.02                  8            0.000000   \n",
       "1              0      0.91                493            0.001969   \n",
       "2              1      0.28                154            0.000053   \n",
       "3              1      0.44                208            0.000465   \n",
       "4              1      0.00                 39            0.000048   \n",
       "5              1      0.00                  8            0.000000   \n",
       "6              1      0.00                 97            0.000000   \n",
       "7              1      0.01                 75            0.000053   \n",
       "8              0      0.53                275            0.000132   \n",
       "9              1      0.01                 10            0.000000   \n",
       "\n",
       "   eigenvector_centrality  \n",
       "0                0.000368  \n",
       "1                0.048415  \n",
       "2                0.016411  \n",
       "3                0.018054  \n",
       "4                0.002810  \n",
       "5                0.000521  \n",
       "6                0.009044  \n",
       "7                0.006710  \n",
       "8                0.030492  \n",
       "9                0.000939  "
      ]
     },
     "execution_count": 157,
     "metadata": {},
     "output_type": "execute_result"
    }
   ],
   "source": [
    "full_sc_df.head(10)"
   ]
  },
  {
   "cell_type": "code",
   "execution_count": 97,
   "metadata": {},
   "outputs": [],
   "source": [
    "full_sc_df.to_csv(\"shakespeare-co-core-periphery.csv\")"
   ]
  },
  {
   "cell_type": "markdown",
   "metadata": {},
   "source": [
    "## Model Selection\n",
    "This is the section that needs continued work: how meaningful are either of these models? \n"
   ]
  },
  {
   "cell_type": "code",
   "execution_count": 31,
   "metadata": {},
   "outputs": [],
   "source": [
    "from core_periphery_sbm import model_fit as mf\n",
    "\n",
    "# Get description length of hub-and-spoke model\n",
    "inf_labels_hs = hubspoke.get_labels(last_n_samples=50, prob=False, return_dict=False)\n",
    "mdl_hubspoke = mf.mdl_hubspoke(sc_G, inf_labels_hs, n_samples=100000)\n",
    "\n",
    "# Get the description length of layered model\n",
    "inf_labels_l = layered.get_labels(last_n_samples=50, prob=False, return_dict=False)\n",
    "mdl_layered = mf.mdl_layered(sc_G, inf_labels_l, n_layers=3, n_samples=100000)"
   ]
  },
  {
   "cell_type": "code",
   "execution_count": 32,
   "metadata": {},
   "outputs": [
    {
     "name": "stdout",
     "output_type": "stream",
     "text": [
      "Description length of hub-and-spoke model: 236981.57824596137\n",
      "Description length of layered model: 217498.64027873726\n"
     ]
    }
   ],
   "source": [
    "print(\"Description length of hub-and-spoke model: \" + str(mdl_hubspoke))\n",
    "print(\"Description length of layered model: \" + str(mdl_layered))"
   ]
  },
  {
   "cell_type": "markdown",
   "metadata": {},
   "source": [
    "So, the layered model is a better fit since it has a shorter description length. **BUT** this still lacks an assessment of the meaningfulness of the goodneses of fit. "
   ]
  },
  {
   "cell_type": "markdown",
   "metadata": {},
   "source": [
    "## Goodreads Core-Periphery Analysis\n",
    "---> remember! this might not be the best way to compare the two networks since they represent such different types of readership w/ missing books in the Goodreads data"
   ]
  },
  {
   "cell_type": "code",
   "execution_count": 98,
   "metadata": {},
   "outputs": [],
   "source": [
    "# Create SHAKESPEARE AND CO graph\n",
    "gr_G = nx.Graph()\n",
    "gr_G.add_weighted_edges_from(gr_weights_list)"
   ]
  },
  {
   "cell_type": "code",
   "execution_count": 99,
   "metadata": {},
   "outputs": [],
   "source": [
    "# optional: change vertexes ids to book names\n",
    "gr_dict = {value:key for key, value in sc_book_to_vertex_index.items()}\n",
    "gr_mapping = gr_dict # Dictionary from id to title\n",
    "gr_G = nx.relabel_nodes(gr_G, mapping)"
   ]
  },
  {
   "cell_type": "markdown",
   "metadata": {},
   "source": [
    "### Core-Periphery Structure"
   ]
  },
  {
   "cell_type": "code",
   "execution_count": 100,
   "metadata": {},
   "outputs": [],
   "source": [
    "# Initialize hub-and-spoke model and infer structure\n",
    "gr_hubspoke = cp.HubSpokeCorePeriphery(n_gibbs=100, n_mcmc=10*len(gr_G))\n",
    "gr_hubspoke.infer(gr_G)"
   ]
  },
  {
   "cell_type": "code",
   "execution_count": 101,
   "metadata": {},
   "outputs": [],
   "source": [
    "gr_layered = cp.LayeredCorePeriphery(n_layers=3, n_gibbs=100, n_mcmc=10*len(gr_G))\n",
    "gr_layered.infer(gr_G)"
   ]
  },
  {
   "cell_type": "code",
   "execution_count": 102,
   "metadata": {},
   "outputs": [],
   "source": [
    "# Get core and periphery assignments from hub-and-spoke model\n",
    "gr_node2label_hs = gr_hubspoke.get_labels(last_n_samples=50)\n",
    "\n",
    "# Get layer assignments from the layered model\n",
    "gr_node2label_l = gr_layered.get_labels(last_n_samples=50)"
   ]
  },
  {
   "cell_type": "code",
   "execution_count": 103,
   "metadata": {},
   "outputs": [],
   "source": [
    "gr_hub_spoke_df = pd.DataFrame.from_dict(gr_node2label_hs, orient='index')"
   ]
  },
  {
   "cell_type": "code",
   "execution_count": 104,
   "metadata": {},
   "outputs": [],
   "source": [
    "gr_layered_df = pd.DataFrame.from_dict(gr_node2label_l, orient='index')"
   ]
  },
  {
   "cell_type": "markdown",
   "metadata": {},
   "source": [
    "**Core-Periphery Label:** For both models (hub-and-spoke and layered) the core is 0; for the layered model, the further away from 0 the more peripheral the node. "
   ]
  },
  {
   "cell_type": "code",
   "execution_count": 105,
   "metadata": {},
   "outputs": [
    {
     "data": {
      "text/plain": [
       "Counter({1: 891, 0: 277})"
      ]
     },
     "execution_count": 105,
     "metadata": {},
     "output_type": "execute_result"
    }
   ],
   "source": [
    "# Number of nodes in periphery vs. core in hub-and-spoke\n",
    "Counter(gr_node2label_hs.values())"
   ]
  },
  {
   "cell_type": "code",
   "execution_count": 106,
   "metadata": {},
   "outputs": [
    {
     "data": {
      "text/plain": [
       "Counter({2: 667, 1: 266, 0: 235})"
      ]
     },
     "execution_count": 106,
     "metadata": {},
     "output_type": "execute_result"
    }
   ],
   "source": [
    "# Number of nodes in each layer between periphery to core\n",
    "Counter(gr_node2label_l.values())"
   ]
  },
  {
   "cell_type": "code",
   "execution_count": 107,
   "metadata": {},
   "outputs": [
    {
     "name": "stdout",
     "output_type": "stream",
     "text": [
      "A Fleet in Being by Kipling, Rudyard (1898)\n",
      "A General History of the Robberies and Murders of the Most Notorious Pirates by Johnson, Captain Charles (1926)\n",
      "A Hazard of New Fortunes by Howells, William Dean (1890)\n",
      "A Journal of the Plague Year by Defoe, Daniel (1722)\n",
      "A Little Tour in France by James, Henry (1900)\n",
      "A Shropshire Lad by Housman, A. E. (1896)\n",
      "A Story Teller's Story by Anderson, Sherwood (1924)\n",
      "African Game Trails: An Account of the African Wanderings of an American Hunter-Naturalist by Roosevelt, Theodore (1910)\n",
      "Aleck Maury, Sportsman by Gordon, Caroline (1934)\n",
      "All Men Are Enemies by Aldington, Richard (1933)\n",
      "All Passion Spent by Sackville-West, Vita (1931)\n",
      "All Quiet on the Western Front by Remarque, Erich Maria (1929)\n",
      "All Souls' Night by Walpole, Hugh (1933)\n",
      "Almayer's Folly by Conrad, Joseph (1895)\n",
      "Along the Road: Notes and Essays of a Tourist by Huxley, Aldous (1925)\n",
      "An Introduction to Modern Philosophy by Joad, C. E. M. (Cyril Edwin Mitchinson) (1925)\n",
      "An Unsocial Socialist by Shaw, George Bernard (1917)\n",
      "And Even Now by Beerbohm, Max (1920)\n",
      "Antic Hay by Huxley, Aldous (1923)\n",
      "Appointment in Samarra by O'Hara, John (1934)\n",
      "Appreciations: With an Essay on Style by Pater, Walter (1910)\n",
      "Apropos of Lady Chatterley's Lover by Lawrence, D. H. (David Herbert) (1931)\n",
      "Articles de Paris by Huddleston, Sisley (1928)\n",
      "Asylum by Seabrook, William (1935)\n",
      "Beethoven the Creator by Rolland, Romain (1929)\n",
      "Black Boy by Wright, Richard (1937)\n",
      "Black Mischief by Waugh, Evelyn (1932)\n",
      "Buddenbrooks by Mann, Thomas (1924)\n",
      "Buddha and the Gospel of Buddhism by Coomaraswamy, Ananda Kentish (1916)\n",
      "Buttered Side Down: Stories by Ferber, Edna (1912)\n",
      "Cakes and Ale, or, the Skeleton in the Cupboard by Maugham, William Somerset (1930)\n",
      "Cashel Byron's Profession by Shaw, George Bernard (1886)\n",
      "Character and Opinion in the United States by Santayana, George (1920)\n",
      "Clara Hopgood by White, William Hale\n",
      "Clouds of Witness by Sayers, Dorothy (1926)\n",
      "Confidence by James, Henry (1880)\n",
      "Cranford by Gaskell, Elizabeth (1853)\n",
      "Dangerous Ages by Macaulay, Rose (1921)\n",
      "Dark Laughter by Anderson, Sherwood (1926)\n",
      "Daughter of Earth by Smedley, Agnes (1929)\n",
      "Death at the Bar by Marsh, Ngaio (1940)\n",
      "Death on the Nile by Christie, Agatha (1937)\n",
      "Decadence by Gorky, Maxim (1927)\n",
      "Dombey and Son by Dickens, Charles (1848)\n",
      "Dracula by Stoker, Bram (1897)\n",
      "Elizabeth Barrett Browning's Poetical Works by Browning, Elizabeth Barrett\n",
      "Elsie Venner by Holmes, Oliver Wendel (1861)\n",
      "Emmy Lou: Her Book and Heart by Martin, George Madden (1903)\n",
      "Familiar Letters on Important Occasions by Richardson, Samuel (1741)\n",
      "Fighting Angel by Buck, Pearl S. (1936)\n",
      "Financier by Dreiser, Theodore (1912)\n",
      "Finnegans Wake by Joyce, James (1939)\n",
      "Flat 2 by Wallace, Edgar (1924)\n",
      "French Ways and Their Meaning by Wharton, Edith (1919)\n",
      "Galahad: Enough of His Life to Explain His Reputation by Erskine, John (1926)\n",
      "Gaudier-Brzeska: A Memoir by Pound, Ezra (1916)\n",
      "Genghis Khan: Emperor of All Men by Lamb, Harold (1927)\n",
      "Good-Bye, Mr. Chips by Hilton, James (1940)\n",
      "Goodbye to All That: An Autobiography by Graves, Robert (1929)\n",
      "Grand Hotel by Baum, Vicki (1931)\n",
      "Gösta Berlings Saga by Lagerlöf, Selma (1891)\n",
      "Headlong Hall by Peacock, Thomas Love (1816)\n",
      "Heidegger\n",
      "Her Son's Wife by Fisher, Dorothy Canfield (1926)\n",
      "How Green Was My Valley by Llewellyn, Richard (1939)\n",
      "Human Being by Morley, Christopher (1933)\n",
      "Huntingtower by Buchan, John (1922)\n",
      "I'll Never Be Young Again by Du Maurier, Daphne (1932)\n",
      "Icarus: Or, the Future of Science by Russell, Bertrand (1924)\n",
      "In Hazard by Hughes, Richard (1938)\n",
      "In Parenthesis by Jones, David (1937)\n",
      "In Praise of Idleness and Other Essays by Russell, Bertrand (1935)\n",
      "Invitation to the Waltz by Lehmann, Rosamond (1932)\n",
      "It's a Battlefield by Greene, Graham (1934)\n",
      "Jacob's Room by Woolf, Virginia (1922)\n",
      "James Joyce and the Making of Ulysses by Budgen, Frank (1934)\n",
      "Japanese Fairy Tales\n",
      "John Brown's Body by Bénet, Stephen Vincent (1928)\n",
      "Jonah's Gourd Vine by Hurston, Zora Neale (1934)\n",
      "Katherine Mansfield\n",
      "Kidnapped by Stevenson, Robert Louis (1886)\n",
      "King Goshawk and the Birds by O'Duffy, Eimar (1926)\n",
      "Kipps: The Story of A Simple Soul by Wells, H. G. (Herbert George) (1905)\n",
      "Kyra Kyralina by Istrati, Panait (1926)\n",
      "Land under England by O'Neill, Joseph (1935)\n",
      "Leda by Huxley, Aldous (1920)\n",
      "Legend by Dane, Clemence (1919)\n",
      "Life as We Have Known It: The Voices of Working-Class Women (1931)\n",
      "Life with Father by Day, Clarence (1935)\n",
      "Living Alone by Benson, Stella (1919)\n",
      "Lolita by Nabokov, Vladimir (1955)\n",
      "Lolly Willowes by Warner, Sylvia Townsend (1926)\n",
      "Magnolia Street by Golding, Louis (1932)\n",
      "Main Street: The Story of Carol Kennicott by Lewis, Sinclair (1920)\n",
      "Many Marriages by Anderson, Sherwood (1923)\n",
      "March of Democracy: A History of the United States by Adams, James Truslow (1933)\n",
      "Marching Men by Anderson, Sherwood (1917)\n",
      "Married Love; or, Love in Marriage by Stopes, Marie Carmichael (1918)\n",
      "Married People by Rinehart, Mary Roberts (1937)\n",
      "Medieval People by Power, Eileen (1924)\n",
      "Memoirs of My Dead Life by Moore, George (1906)\n",
      "Memoirs of an Infantry Officer by Sassoon, Siegfried (1930)\n",
      "Men without Women by Hemingway, Ernest (1927)\n",
      "Midsummer Night Madness and Other Stories by O'Faoláin, Sean (1932)\n",
      "Moll Flanders by Defoe, Daniel (1722)\n",
      "Montaigne\n",
      "Mr. Bennett and Mrs. Brown by Woolf, Virginia (1924)\n",
      "Mr. Prohack by Bennett, Arnold (1922)\n",
      "Mr. Zero by Wentworth, Patricia (1938)\n",
      "Mrs. Wiggs of the Cabbage Patch by Rice, Alice Caldwell Hegan (1901)\n",
      "Murder Up My Sleeve by Gardner, Erle Stanley (1937)\n",
      "Murder?\n",
      "My Son! My Son! by Spring, Howard (1938)\n",
      "Narration: Four Lectures by Stein, Gertrude (1935)\n",
      "Nightwood by Barnes, Djuna (1936)\n",
      "No More Parades by Ford, Ford Madox (1925)\n",
      "North to the Orient by Lindbergh, Anne Morrow (1935)\n",
      "Not without Laughter by Hughes, Langston (1930)\n",
      "Now in November by Johnson, Josephine Winslow (1934)\n",
      "Oil! by Sinclair, Upton (1927)\n",
      "On Liberty by Mill, John Stuart (1859)\n",
      "One Man's View by Merrick, Leonard (1922)\n",
      "Orient Express by Dos Passos, John (1927)\n",
      "Orley Farm by Trollope, Anthony (1862)\n",
      "Pale Horse, Pale Rider by Porter, Katherine Anne (1936)\n",
      "Pamela by Richardson, Samuel (1740)\n",
      "Party Going by Green, Henry (1939)\n",
      "Paul Bunyan by Shephard, Esther (1924)\n",
      "Pepita by Sackville-West, Vita (1937)\n",
      "Peter Pan: The Story of Peter and Wendy by Barrie, J. M. (James Matthew) (1911)\n",
      "Pity Is Not Enough by Herbst, Josephine (1933)\n",
      "Plagued by the Nightingale by Boyle, Kay (1931)\n",
      "Poems by Meredith, George\n",
      "Poems by Tate, Allen (1932)\n",
      "Poems by Yeats, William Butler\n",
      "Poems, 1924 – 1933 by MacLeish, Archibald (1933)\n",
      "Poetry\n",
      "Police at the Funeral by Allingham, Margery (1931)\n",
      "Poor White by Anderson, Sherwood (1920)\n",
      "Portrait of Clare by Young, Francis Brett (1927)\n",
      "Portrait of the Artist as a Young Dog by Thomas, Dylan (1940)\n",
      "Put Yourself in His Place by Reade, Charles (1870)\n",
      "Pylon by Faulkner, William (1935)\n",
      "Red Star Over China by Snow, Edgar (1938)\n",
      "Representative Men: Seven Lectures by Emerson, Ralph Waldo (1856)\n",
      "Revelations of Divine Love by Julian, of Norwich (1670)\n",
      "Ring of the Nibelung by Wagner, Richard\n",
      "Saint Joan: A Chronicle Play in Six Scenes and an Epilogue by Shaw, George Bernard (1924)\n",
      "Sanctuary by Faulkner, William (1931)\n",
      "Secret Societies\n",
      "Sense and Sensibility by Austen, Jane (1811)\n",
      "Sentimental Education by Flaubert, Gustave (1869)\n",
      "Serenade by Cain, James M. (1937)\n",
      "Seven Brothers by Kivi, Aleksis (1929)\n",
      "Shadows on the Rock by Cather, Willa (1931)\n",
      "Sherston's Progress by Sassoon, Siegfried (1936)\n",
      "Show Boat by Ferber, Edna (1926)\n",
      "Some Imagist Poets: An Anthology\n",
      "Stories of God by Rilke, Rainer Maria (1932)\n",
      "Storm\n",
      "Strait Is the Gate by Gide, André (1924)\n",
      "Strange Interlude by O'Neill, Eugene (1928)\n",
      "Streets of Night by Dos Passos, John (1923)\n",
      "Ten North Frederick by O'Hara, John (1955)\n",
      "Tess of the d'Urbervilles by Hardy, Thomas (1891)\n",
      "The 12:30 from Croydon by Crofts, Freeman Wills (1934)\n",
      "The ABC of Relativity by Russell, Bertrand (1925)\n",
      "The Able McLaughlins by Wilson, Margaret (1923)\n",
      "The Actor Manager by Merrick, Leonard (1898)\n",
      "The American Diary of a Japanese Girl by Noguchi, Yoné (1902)\n",
      "The Apes of God by Lewis, Wyndham (1930)\n",
      "The Autobiography of Alice B. Toklas by Stein, Gertrude (1933)\n",
      "The Brimming Cup by Fisher, Dorothy Canfield (1921)\n",
      "The Case of Sergeant Grischa by Zweig, Arnold (1928)\n",
      "The Charwoman's Daughter by Stephens, James (1912)\n",
      "The Colonel's Daughter by Aldington, Richard (1931)\n",
      "The Damnation of Theron Ware by Frederic, Harold (1896)\n",
      "The Dancing Floor by Buchan, John (1926)\n",
      "The Dark Flower by Galsworthy, John (1913)\n",
      "The Dead Don't Care by Latimer, Jonathan (1938)\n",
      "The Death of a Nobody by Romains, Jules (1914)\n",
      "The Death of the Heart by Bowen, Elizabeth (1938)\n",
      "The Demi-Gods by Stephens, James (1914)\n",
      "The Diary of John Evelyn by Evelyn, John (1818)\n",
      "The Divine Comedy by Dante Alighieri\n",
      "The Doors of Perception by Huxley, Aldous (1954)\n",
      "The Dragon Murder Case by Van Dine, S. S. (Willard Huntington Wright) (1933)\n",
      "The Early Romances of William Morris in Prose and Verse by Morris, William (1907)\n",
      "The Egoist by Meredith, George (1879)\n",
      "The English Constitution by Bagehot, Walter (1867)\n",
      "The Eyes of Max Carrados by Bramah, Ernest (1923)\n",
      "The Face in the Night by Wallace, Edgar (1924)\n",
      "The Fathers by Tate, Allen (1938)\n",
      "The Fortunes of Richard Mahony by Richardson, Henry Handel (1931)\n",
      "The Fountain by Morgan, Charles (1932)\n",
      "The Four Horsemen of the Apocalypse by Ibáñez, Vicente Blasco (1918)\n",
      "The Garden Murder Case by Van Dine, S. S. (Willard Huntington Wright) (1935)\n",
      "The Garden Party and Other Stories by Mansfield, Katherine (1922)\n",
      "The Garland of Letters by Woodroffe, John George (1922)\n",
      "The Golden Sayings of Epictetus by Epictetus (1935)\n",
      "The Great God Pan by Machen, Arthur (1894)\n",
      "The Greek Coffin Mystery by Queen, Ellery (Frederic Dannay and Manfred B. Lee) (1932)\n",
      "The Hairy Ape by O'Neill, Eugene (1923)\n",
      "The History of Ireland by Gwynn, Stephen Lucius (1923)\n",
      "The Home and the World by Tagore, Rabindranath (1919)\n",
      "The Immoralist by Gide, André (1902)\n",
      "The Informer by O'Flaherty, Liam (1925)\n",
      "The Innocents Abroad, or The New Pilgrims' Progress by Twain, Mark (1869)\n",
      "The Intelligent Woman's Guide to Socialism, Capitalism, Sovietism, and Fascism by Shaw, George Bernard (1928)\n",
      "The Journal of a Disappointed Man by Barbellion, W. N. P. (1919)\n",
      "The Jungle Book by Kipling, Rudyard (1894)\n",
      "The Kennel Murder Case: A Philo Vance Story by Van Dine, S. S. (Willard Huntington Wright) (1933)\n",
      "The King of Elfland's Daughter by Dunsany, Lord (1924)\n",
      "The Lady of the Lake by Scott, Walter (1810)\n",
      "The Last Chronicle of Barset by Trollope, Anthony (1867)\n",
      "The Liberator\n",
      "The Life and Death of Harriet Frean by Sinclair, May (1922)\n",
      "The Listeners, and Other Poems by De la Mare, Walter (1912)\n",
      "The Lives of A Bengal Lancer by Yeats-Brown, Francis (1930)\n",
      "The Long Christmas Dinner: And Other Plays in One Act by Wilder, Thornton (1931)\n",
      "The Loving Spirit by Du Maurier, Daphne (1931)\n",
      "The Magic Mountain by Mann, Thomas (1924)\n",
      "The Man Shakespeare and His Tragic Life Story by Harris, Frank (1909)\n",
      "The Master Builder by Ibsen, Henrik (1892)\n",
      "The Maurizius Case by Wassermann, Jakob (1930)\n",
      "The Mayor of Casterbridge by Hardy, Thomas (1886)\n",
      "The Morals of Marcus Ordeyne by Locke, William John (1905)\n",
      "The Mother's Recompense by Wharton, Edith (1925)\n",
      "The Outline of Literature by Drinkwater, John (1923)\n",
      "The Patrician by Galsworthy, John (1911)\n",
      "The Patriot by Buck, Pearl S. (1939)\n",
      "The Picture of Dorian Grey by Wilde, Oscar (1890)\n",
      "The Poems of Edgar Allan Poe by Poe, Edgar Allan (1901)\n",
      "The Principle of Relativity by Cunningham, Ebenezer (1914)\n",
      "The Prodigal Parents by Lewis, Sinclair (1938)\n",
      "The Professor's House by Cather, Willa (1925)\n",
      "The Querrils by Aumonier, Stacy (1919)\n",
      "The Rape of the Lock by Pope, Alexander (1712)\n",
      "The Republic by Plato\n",
      "The Sacred Wood: Essays on Poetry and Criticism by Eliot, T. S. (Thomas Stearns) (1920)\n",
      "The Shining Pyramid by Machen, Arthur (1925)\n",
      "The Shutter of Snow by Coleman, Emily Holmes (1930)\n",
      "The Silver Spoon by Galsworthy, John (1926)\n",
      "The Single Hound by Sarton, May (1938)\n",
      "The Soldier and the Gentlewoman by Vaughan, Hilda (1932)\n",
      "The Story of the Gypsies by Bercovici, Konrad (1928)\n",
      "The Strenuous Life by Roosevelt, Theodore (1900)\n",
      "The Terrible Hobby of Sir Joseph Londe by Oppenheim, E. Phillips (Edward Phillips) (1924)\n",
      "The Thirteen Problems by Christie, Agatha (1932)\n",
      "The Travels of Marco Polo by Polo, Marco\n",
      "The Unvanquished by Faulkner, William (1938)\n",
      "The Way of a Transgressor by Farson, Negley (1936)\n",
      "The Weather in the Streets by Lehmann, Rosamond (1936)\n",
      "The Well of Loneliness by Hall, Radclyffe (1926)\n",
      "The White Paternoster and Other Stories by Powys, Theodore Francis (1930)\n",
      "The Wild Duck by Ibsen, Henrik (1884)\n",
      "The Wild Orchid by Undset, Sigrid (1931)\n",
      "The Wine of the Puritans by Brooks, Van Wyck (1908)\n",
      "The Wonderful Adventures of Nils by Lagerlöf, Selma (1907)\n",
      "The World as I See It by Einstein, Albert (1934)\n",
      "The Wreck by Tagore, Rabindranath (1927)\n",
      "Thieves Like Us by Anderson, Edward (1937)\n",
      "Those Barren Leaves by Huxley, Aldous (1925)\n",
      "Thus Spake Zarathustra: A Book for All and None by Nietzsche, Friedrich (1883)\n",
      "To Have and Have Not by Hemingway, Ernest (1937)\n",
      "To Let (The Forsyte Saga) by Galsworthy, John (1921)\n",
      "Told by an Idiot by Macaulay, Rose (1923)\n",
      "Turn on the Heat by Gardner, Erle Stanley (1940)\n",
      "Uncle Remus: His Songs and His Sayings by Harris, Joel Chandler (1880)\n",
      "Unnatural Death by Sayers, Dorothy (1927)\n",
      "Valmouth by Firbank, Ronald (1919)\n",
      "Vandover and the Brute by Norris, Frank (1914)\n",
      "Warrant for X by MacDonald, Philip (1938)\n",
      "Wicker Work Woman by France, Anatole (1910)\n",
      "Wintersmoon by Walpole, Hugh (1928)\n",
      "Within the Tides by Conrad, Joseph (1915)\n",
      "Wolf Solent by Powys, John Cowper (1929)\n"
     ]
    }
   ],
   "source": [
    "for book, label in gr_node2label_hs.items():  # for name, age in dictionary.iteritems():  \n",
    "    if label == 0:\n",
    "        print(book)"
   ]
  },
  {
   "cell_type": "markdown",
   "metadata": {},
   "source": [
    "**Probability** that a node is in the core vs. periphery."
   ]
  },
  {
   "cell_type": "code",
   "execution_count": 108,
   "metadata": {},
   "outputs": [],
   "source": [
    "#  Dictionary of node -> ordered array of probabilities\n",
    "gr_node2probs_hs = gr_hubspoke.get_labels(last_n_samples=50, prob=True, return_dict=True)\n",
    "\n",
    "# n_nodes x n_layers array of probabilities\n",
    "gr_inf_probs_l = gr_layered.get_labels(last_n_samples=50, prob=True, return_dict=False)"
   ]
  },
  {
   "cell_type": "code",
   "execution_count": 109,
   "metadata": {},
   "outputs": [],
   "source": [
    "gr_hs_probs_df = pd.DataFrame.from_dict(gr_node2probs_hs, orient='index')"
   ]
  },
  {
   "cell_type": "markdown",
   "metadata": {},
   "source": [
    "**Coreness**, where the closer to 1 the more core; closer to 0 the more peripheral."
   ]
  },
  {
   "cell_type": "code",
   "execution_count": 111,
   "metadata": {},
   "outputs": [],
   "source": [
    "# Dictionary of node -> coreness\n",
    "gr_node2coreness_hs = gr_hubspoke.get_coreness(last_n_samples=50, return_dict=True)\n",
    "gr_node2coreness_l = gr_layered.get_coreness(last_n_samples=50, return_dict=True)"
   ]
  },
  {
   "cell_type": "code",
   "execution_count": 122,
   "metadata": {},
   "outputs": [],
   "source": [
    "gr_layered_coreness_df = pd.DataFrame.from_dict(gr_node2coreness_l, orient='index')"
   ]
  },
  {
   "cell_type": "code",
   "execution_count": 114,
   "metadata": {},
   "outputs": [],
   "source": [
    "# all books that are especially \"corey\" in the layered model\n",
    "gr_most_core = []\n",
    "for book, coreness in gr_node2coreness_hs.items():  # for name, age in dictionary.iteritems():  \n",
    "    if coreness == 1:\n",
    "        gr_most_core.append(book)"
   ]
  },
  {
   "cell_type": "markdown",
   "metadata": {},
   "source": [
    "## Save as CSV"
   ]
  },
  {
   "cell_type": "code",
   "execution_count": 116,
   "metadata": {},
   "outputs": [],
   "source": [
    "gr_layered_df['book_info'] = gr_layered_df.index\n",
    "gr_layered_df = gr_layered_df.rename(columns={0: \"layer\"})"
   ]
  },
  {
   "cell_type": "code",
   "execution_count": 117,
   "metadata": {},
   "outputs": [],
   "source": [
    "gr_hub_spoke_df['book_info'] = gr_hub_spoke_df.index\n",
    "gr_hub_spoke_df = gr_hub_spoke_df.rename(columns={0: \"hub_and_spoke\"})"
   ]
  },
  {
   "cell_type": "code",
   "execution_count": 126,
   "metadata": {},
   "outputs": [],
   "source": [
    "gr_layered_coreness_df['book_info'] = gr_layered_coreness_df.index\n",
    "gr_layered_coreness_df = gr_layered_coreness_df.rename(columns={0: \"coreness\"})"
   ]
  },
  {
   "cell_type": "code",
   "execution_count": 128,
   "metadata": {},
   "outputs": [],
   "source": [
    "full_gr_df = gr_layered_df.merge(gr_hub_spoke_df, how='inner', on='book_info').merge(gr_layered_coreness_df, how='inner', on='book_info')"
   ]
  },
  {
   "cell_type": "code",
   "execution_count": 130,
   "metadata": {},
   "outputs": [],
   "source": [
    "full_gr_df = full_gr_df[[\"book_info\", \"layer\", \"hub_and_spoke\", \"coreness\"]]"
   ]
  },
  {
   "cell_type": "code",
   "execution_count": 131,
   "metadata": {},
   "outputs": [],
   "source": [
    "# vertex\n",
    "gr_vertex_title = pd.DataFrame.from_dict(gr_dict, orient = \"index\")"
   ]
  },
  {
   "cell_type": "code",
   "execution_count": 132,
   "metadata": {},
   "outputs": [],
   "source": [
    "gr_vertex_title[\"vertex\"] = gr_vertex_title.index"
   ]
  },
  {
   "cell_type": "code",
   "execution_count": 133,
   "metadata": {},
   "outputs": [],
   "source": [
    "gr_vertex_title = gr_vertex_title.rename(columns={0: \"book_info\"})"
   ]
  },
  {
   "cell_type": "code",
   "execution_count": 135,
   "metadata": {},
   "outputs": [],
   "source": [
    "full_gr_df = full_gr_df.merge(gr_vertex_title, how='inner', on='book_info')"
   ]
  },
  {
   "cell_type": "code",
   "execution_count": 137,
   "metadata": {},
   "outputs": [],
   "source": [
    "full_gr_df = full_gr_df[[\"vertex\", \"book_info\", \"layer\", \"hub_and_spoke\", \"coreness\"]]"
   ]
  },
  {
   "cell_type": "code",
   "execution_count": 120,
   "metadata": {},
   "outputs": [],
   "source": [
    "#full_gr_df.to_csv(\"goodreads-core-periphery.csv\")"
   ]
  },
  {
   "cell_type": "markdown",
   "metadata": {},
   "source": [
    "## Other metrics"
   ]
  },
  {
   "cell_type": "markdown",
   "metadata": {},
   "source": [
    "### Density"
   ]
  },
  {
   "cell_type": "code",
   "execution_count": 139,
   "metadata": {
    "scrolled": true
   },
   "outputs": [
    {
     "name": "stdout",
     "output_type": "stream",
     "text": [
      "Goodreads Network Density: 0.0626489300512965\n"
     ]
    }
   ],
   "source": [
    "gr_density = nx.density(gr_G)\n",
    "print(\"Goodreads Network Density:\", gr_density)"
   ]
  },
  {
   "cell_type": "markdown",
   "metadata": {},
   "source": [
    "### Transitivity\n"
   ]
  },
  {
   "cell_type": "code",
   "execution_count": 140,
   "metadata": {},
   "outputs": [
    {
     "name": "stdout",
     "output_type": "stream",
     "text": [
      "Triadic closure for Goodreads: 0.4466288038513365\n"
     ]
    }
   ],
   "source": [
    "gr_triadic_closure = nx.transitivity(gr_G)\n",
    "print(\"Triadic closure for Goodreads:\", gr_triadic_closure)"
   ]
  },
  {
   "cell_type": "markdown",
   "metadata": {},
   "source": [
    "### Diameter length"
   ]
  },
  {
   "cell_type": "code",
   "execution_count": 141,
   "metadata": {},
   "outputs": [
    {
     "name": "stdout",
     "output_type": "stream",
     "text": [
      "Network diameter of Goodread's largest component: 5\n"
     ]
    }
   ],
   "source": [
    "# Get the largest connected component of the graph\n",
    "components = nx.connected_components(gr_G)\n",
    "largest_component = max(components, key=len)\n",
    "\n",
    "# Create a \"subgraph\" of the largest component and find diameter\n",
    "subgraph = gr_G.subgraph(largest_component)\n",
    "diameter = nx.diameter(subgraph)\n",
    "print(\"Network diameter of Goodread's largest component:\", diameter)"
   ]
  },
  {
   "cell_type": "markdown",
   "metadata": {},
   "source": [
    "### Centrality Measures"
   ]
  },
  {
   "cell_type": "code",
   "execution_count": 142,
   "metadata": {},
   "outputs": [
    {
     "name": "stdout",
     "output_type": "stream",
     "text": [
      "Top 100 nodes by degree in Goodreads:\n",
      "('Montaigne', 533)\n",
      "('Lolly Willowes by Warner, Sylvia Townsend (1926)', 507)\n",
      "('The Unvanquished by Faulkner, William (1938)', 504)\n",
      "(\"Ten North Frederick by O'Hara, John (1955)\", 501)\n",
      "('Goodbye to All That: An Autobiography by Graves, Robert (1929)', 484)\n",
      "('Strait Is the Gate by Gide, André (1924)', 482)\n",
      "(\"Strange Interlude by O'Neill, Eugene (1928)\", 463)\n",
      "('The Fortunes of Richard Mahony by Richardson, Henry Handel (1931)', 463)\n",
      "('Mr. Bennett and Mrs. Brown by Woolf, Virginia (1924)', 446)\n",
      "('Huntingtower by Buchan, John (1922)', 445)\n",
      "('Grand Hotel by Baum, Vicki (1931)', 444)\n",
      "('Saint Joan: A Chronicle Play in Six Scenes and an Epilogue by Shaw, George Bernard (1924)', 442)\n",
      "('All Passion Spent by Sackville-West, Vita (1931)', 435)\n",
      "('An Unsocial Socialist by Shaw, George Bernard (1917)', 429)\n",
      "('Poems by Meredith, George', 422)\n",
      "('Streets of Night by Dos Passos, John (1923)', 421)\n",
      "('The Republic by Plato', 417)\n",
      "('The Soldier and the Gentlewoman by Vaughan, Hilda (1932)', 416)\n",
      "('Human Being by Morley, Christopher (1933)', 416)\n",
      "(\"Midsummer Night Madness and Other Stories by O'Faoláin, Sean (1932)\", 415)\n"
     ]
    }
   ],
   "source": [
    "# degree centrality\n",
    "gr_degree_dict = dict(gr_G.degree(gr_G.nodes()))\n",
    "nx.set_node_attributes(gr_G, gr_degree_dict, 'degree')\n",
    "\n",
    "gr_sorted_degree = sorted(gr_degree_dict.items(), key=itemgetter(1), reverse=True)\n",
    "print(\"Top 100 nodes by degree in Goodreads:\")\n",
    "for d in gr_sorted_degree[:20]:\n",
    "    print(d)"
   ]
  },
  {
   "cell_type": "code",
   "execution_count": 143,
   "metadata": {},
   "outputs": [],
   "source": [
    "gr_degree_df = pd.DataFrame.from_dict(gr_degree_dict, orient='index')\n",
    "gr_degree_df[\"book_info\"] = gr_degree_df.index"
   ]
  },
  {
   "cell_type": "code",
   "execution_count": 144,
   "metadata": {},
   "outputs": [],
   "source": [
    "gr_degree_df = gr_degree_df.rename(columns={0: \"degree_centrality\"})"
   ]
  },
  {
   "cell_type": "code",
   "execution_count": 146,
   "metadata": {},
   "outputs": [
    {
     "name": "stdout",
     "output_type": "stream",
     "text": [
      "Top 20 GR nodes by betweenness centrality:\n",
      "('Montaigne', 0.044360882313723426)\n",
      "(\"Ten North Frederick by O'Hara, John (1955)\", 0.02653761956312943)\n",
      "('Lolly Willowes by Warner, Sylvia Townsend (1926)', 0.025261467362823285)\n",
      "('The Unvanquished by Faulkner, William (1938)', 0.024973792887256995)\n",
      "('Goodbye to All That: An Autobiography by Graves, Robert (1929)', 0.024777621609717883)\n",
      "('The Fortunes of Richard Mahony by Richardson, Henry Handel (1931)', 0.018942674185599872)\n",
      "('Huntingtower by Buchan, John (1922)', 0.017308742069390162)\n",
      "('Valmouth by Firbank, Ronald (1919)', 0.017098804375863388)\n",
      "('Mr. Bennett and Mrs. Brown by Woolf, Virginia (1924)', 0.01683473072223191)\n",
      "(\"Strange Interlude by O'Neill, Eugene (1928)\", 0.016034617435096814)\n",
      "('Strait Is the Gate by Gide, André (1924)', 0.015872169735874544)\n",
      "('All Quiet on the Western Front by Remarque, Erich Maria (1929)', 0.015682468487507244)\n",
      "('Saint Joan: A Chronicle Play in Six Scenes and an Epilogue by Shaw, George Bernard (1924)', 0.015664941835771808)\n",
      "('All Passion Spent by Sackville-West, Vita (1931)', 0.015495414397412689)\n",
      "('The Republic by Plato', 0.014977627617753854)\n",
      "('Kidnapped by Stevenson, Robert Louis (1886)', 0.014448750668008329)\n",
      "('Kyra Kyralina by Istrati, Panait (1926)', 0.014123272440751278)\n",
      "('Grand Hotel by Baum, Vicki (1931)', 0.013797094625658902)\n",
      "('Gaudier-Brzeska: A Memoir by Pound, Ezra (1916)', 0.013418769512057428)\n",
      "('Human Being by Morley, Christopher (1933)', 0.013210117760155586)\n"
     ]
    }
   ],
   "source": [
    "# betweenness centrality\n",
    "gr_betweenness_dict = nx.betweenness_centrality(gr_G) # Run betweenness centrality\n",
    "# Assign each to an attribute in your network\n",
    "nx.set_node_attributes(gr_G, betweenness_dict, 'betweenness')\n",
    "\n",
    "gr_sorted_betweenness = sorted(gr_betweenness_dict.items(), key=itemgetter(1), reverse=True)\n",
    "\n",
    "print(\"Top 20 GR nodes by betweenness centrality:\")\n",
    "for b in gr_sorted_betweenness[:20]:\n",
    "    print(b)"
   ]
  },
  {
   "cell_type": "code",
   "execution_count": null,
   "metadata": {},
   "outputs": [],
   "source": [
    "gr_between_df = pd.DataFrame.from_dict(gr_betweenness_dict, orient='index')\n",
    "gr_between_df[\"book_info\"] = gr_between_df.index\n",
    "\n",
    "gr_between_df = gr_between_df.rename(columns={0: \"between_centrality\"})\n"
   ]
  },
  {
   "cell_type": "code",
   "execution_count": 148,
   "metadata": {},
   "outputs": [
    {
     "name": "stdout",
     "output_type": "stream",
     "text": [
      "Top 20 GR nodes by eigenvector centrality:\n",
      "('Lolly Willowes by Warner, Sylvia Townsend (1926)', 0.09035293999436013)\n",
      "('Montaigne', 0.09008099630796959)\n",
      "('The Unvanquished by Faulkner, William (1938)', 0.08992104054894763)\n",
      "(\"Ten North Frederick by O'Hara, John (1955)\", 0.08907464064615696)\n",
      "('Strait Is the Gate by Gide, André (1924)', 0.08862605096337263)\n",
      "('Goodbye to All That: An Autobiography by Graves, Robert (1929)', 0.0882979082692426)\n",
      "(\"Strange Interlude by O'Neill, Eugene (1928)\", 0.08694687771709478)\n",
      "('The Fortunes of Richard Mahony by Richardson, Henry Handel (1931)', 0.086455403477043)\n",
      "('Saint Joan: A Chronicle Play in Six Scenes and an Epilogue by Shaw, George Bernard (1924)', 0.08539422610125849)\n",
      "('Mr. Bennett and Mrs. Brown by Woolf, Virginia (1924)', 0.08483449426528818)\n",
      "('Huntingtower by Buchan, John (1922)', 0.08481290271746149)\n",
      "('All Passion Spent by Sackville-West, Vita (1931)', 0.08445883363664931)\n",
      "('Poems by Meredith, George', 0.08424966063233859)\n",
      "('Grand Hotel by Baum, Vicki (1931)', 0.08412030345094483)\n",
      "('An Unsocial Socialist by Shaw, George Bernard (1917)', 0.08408304611753004)\n",
      "('Streets of Night by Dos Passos, John (1923)', 0.08402197048590257)\n",
      "('Human Being by Morley, Christopher (1933)', 0.0837837240074401)\n",
      "('The Soldier and the Gentlewoman by Vaughan, Hilda (1932)', 0.0837382489524858)\n",
      "('The Republic by Plato', 0.08293449466792241)\n",
      "('Poems by Yeats, William Butler', 0.08280988482663128)\n"
     ]
    }
   ],
   "source": [
    "# eigenvector centrality\n",
    "gr_eigenvector_dict = nx.eigenvector_centrality(gr_G) # Run eigenvector centrality\n",
    "nx.set_node_attributes(gr_G, gr_eigenvector_dict, 'eigenvector')\n",
    "\n",
    "gr_sorted_eigenvector = sorted(gr_eigenvector_dict.items(), key=itemgetter(1), reverse=True)\n",
    "\n",
    "print(\"Top 20 GR nodes by eigenvector centrality:\")\n",
    "for b in gr_sorted_eigenvector[:20]:\n",
    "    print(b)"
   ]
  },
  {
   "cell_type": "code",
   "execution_count": 149,
   "metadata": {},
   "outputs": [],
   "source": [
    "gr_eigenvector_df = pd.DataFrame.from_dict(gr_eigenvector_dict, orient='index')\n",
    "gr_eigenvector_df[\"book_info\"] = gr_eigenvector_df.index"
   ]
  },
  {
   "cell_type": "code",
   "execution_count": 150,
   "metadata": {},
   "outputs": [],
   "source": [
    "gr_eigenvector_df = gr_eigenvector_df.rename(columns={0: \"eigenvector_centrality\"})"
   ]
  },
  {
   "cell_type": "markdown",
   "metadata": {},
   "source": [
    "### Combine all"
   ]
  },
  {
   "cell_type": "code",
   "execution_count": 152,
   "metadata": {},
   "outputs": [],
   "source": [
    "full_gr_df = full_gr_df.merge(gr_degree_df, how='inner', on='book_info').merge(gr_between_df, how='inner', on='book_info').merge(gr_eigenvector_df, how='inner', on='book_info')"
   ]
  },
  {
   "cell_type": "code",
   "execution_count": 160,
   "metadata": {},
   "outputs": [
    {
     "data": {
      "text/html": [
       "<div>\n",
       "<style scoped>\n",
       "    .dataframe tbody tr th:only-of-type {\n",
       "        vertical-align: middle;\n",
       "    }\n",
       "\n",
       "    .dataframe tbody tr th {\n",
       "        vertical-align: top;\n",
       "    }\n",
       "\n",
       "    .dataframe thead th {\n",
       "        text-align: right;\n",
       "    }\n",
       "</style>\n",
       "<table border=\"1\" class=\"dataframe\">\n",
       "  <thead>\n",
       "    <tr style=\"text-align: right;\">\n",
       "      <th></th>\n",
       "      <th>vertex</th>\n",
       "      <th>book_info</th>\n",
       "      <th>layer</th>\n",
       "      <th>hub_and_spoke</th>\n",
       "      <th>coreness</th>\n",
       "      <th>degree_centrality</th>\n",
       "      <th>between_centrality</th>\n",
       "      <th>eigenvector_centrality</th>\n",
       "    </tr>\n",
       "  </thead>\n",
       "  <tbody>\n",
       "    <tr>\n",
       "      <th>0</th>\n",
       "      <td>394</td>\n",
       "      <td>1914 and Other Poems by Brooke, Rupert (1915)</td>\n",
       "      <td>2</td>\n",
       "      <td>1</td>\n",
       "      <td>0.03</td>\n",
       "      <td>2</td>\n",
       "      <td>1.696158e-03</td>\n",
       "      <td>0.000348</td>\n",
       "    </tr>\n",
       "    <tr>\n",
       "      <th>1</th>\n",
       "      <td>685</td>\n",
       "      <td>1919 by Dos Passos, John (1932)</td>\n",
       "      <td>1</td>\n",
       "      <td>1</td>\n",
       "      <td>0.46</td>\n",
       "      <td>69</td>\n",
       "      <td>7.121886e-04</td>\n",
       "      <td>0.015438</td>\n",
       "    </tr>\n",
       "    <tr>\n",
       "      <th>2</th>\n",
       "      <td>607</td>\n",
       "      <td>365 Days (1936)</td>\n",
       "      <td>2</td>\n",
       "      <td>1</td>\n",
       "      <td>0.02</td>\n",
       "      <td>30</td>\n",
       "      <td>1.719823e-06</td>\n",
       "      <td>0.010243</td>\n",
       "    </tr>\n",
       "    <tr>\n",
       "      <th>3</th>\n",
       "      <td>1076</td>\n",
       "      <td>A Book by Barnes, Djuna (1923)</td>\n",
       "      <td>1</td>\n",
       "      <td>1</td>\n",
       "      <td>0.50</td>\n",
       "      <td>73</td>\n",
       "      <td>8.313327e-07</td>\n",
       "      <td>0.023388</td>\n",
       "    </tr>\n",
       "    <tr>\n",
       "      <th>4</th>\n",
       "      <td>704</td>\n",
       "      <td>A Book of Nonsense by Lear, Edward (1846)</td>\n",
       "      <td>1</td>\n",
       "      <td>1</td>\n",
       "      <td>0.50</td>\n",
       "      <td>89</td>\n",
       "      <td>3.616448e-04</td>\n",
       "      <td>0.025975</td>\n",
       "    </tr>\n",
       "    <tr>\n",
       "      <th>5</th>\n",
       "      <td>207</td>\n",
       "      <td>A Child's Garden of Verses by Stevenson, Rober...</td>\n",
       "      <td>2</td>\n",
       "      <td>1</td>\n",
       "      <td>0.01</td>\n",
       "      <td>3</td>\n",
       "      <td>0.000000e+00</td>\n",
       "      <td>0.000814</td>\n",
       "    </tr>\n",
       "    <tr>\n",
       "      <th>6</th>\n",
       "      <td>1152</td>\n",
       "      <td>A Christmas Garland by Beerbohm, Max (1912)</td>\n",
       "      <td>2</td>\n",
       "      <td>1</td>\n",
       "      <td>0.01</td>\n",
       "      <td>12</td>\n",
       "      <td>0.000000e+00</td>\n",
       "      <td>0.003526</td>\n",
       "    </tr>\n",
       "    <tr>\n",
       "      <th>7</th>\n",
       "      <td>393</td>\n",
       "      <td>A City of Bells by Goudge, Elizabeth (1936)</td>\n",
       "      <td>2</td>\n",
       "      <td>1</td>\n",
       "      <td>0.01</td>\n",
       "      <td>7</td>\n",
       "      <td>0.000000e+00</td>\n",
       "      <td>0.000378</td>\n",
       "    </tr>\n",
       "    <tr>\n",
       "      <th>8</th>\n",
       "      <td>61</td>\n",
       "      <td>A Connecticut Yankee in King Arthur's Court by...</td>\n",
       "      <td>1</td>\n",
       "      <td>1</td>\n",
       "      <td>0.51</td>\n",
       "      <td>82</td>\n",
       "      <td>1.289415e-04</td>\n",
       "      <td>0.023310</td>\n",
       "    </tr>\n",
       "    <tr>\n",
       "      <th>9</th>\n",
       "      <td>330</td>\n",
       "      <td>A Doll's House by Ibsen, Henrik (1889)</td>\n",
       "      <td>2</td>\n",
       "      <td>1</td>\n",
       "      <td>0.06</td>\n",
       "      <td>49</td>\n",
       "      <td>6.103457e-04</td>\n",
       "      <td>0.008319</td>\n",
       "    </tr>\n",
       "  </tbody>\n",
       "</table>\n",
       "</div>"
      ],
      "text/plain": [
       "   vertex                                          book_info  layer  \\\n",
       "0     394      1914 and Other Poems by Brooke, Rupert (1915)      2   \n",
       "1     685                    1919 by Dos Passos, John (1932)      1   \n",
       "2     607                                    365 Days (1936)      2   \n",
       "3    1076                     A Book by Barnes, Djuna (1923)      1   \n",
       "4     704          A Book of Nonsense by Lear, Edward (1846)      1   \n",
       "5     207  A Child's Garden of Verses by Stevenson, Rober...      2   \n",
       "6    1152        A Christmas Garland by Beerbohm, Max (1912)      2   \n",
       "7     393        A City of Bells by Goudge, Elizabeth (1936)      2   \n",
       "8      61  A Connecticut Yankee in King Arthur's Court by...      1   \n",
       "9     330             A Doll's House by Ibsen, Henrik (1889)      2   \n",
       "\n",
       "   hub_and_spoke  coreness  degree_centrality  between_centrality  \\\n",
       "0              1      0.03                  2        1.696158e-03   \n",
       "1              1      0.46                 69        7.121886e-04   \n",
       "2              1      0.02                 30        1.719823e-06   \n",
       "3              1      0.50                 73        8.313327e-07   \n",
       "4              1      0.50                 89        3.616448e-04   \n",
       "5              1      0.01                  3        0.000000e+00   \n",
       "6              1      0.01                 12        0.000000e+00   \n",
       "7              1      0.01                  7        0.000000e+00   \n",
       "8              1      0.51                 82        1.289415e-04   \n",
       "9              1      0.06                 49        6.103457e-04   \n",
       "\n",
       "   eigenvector_centrality  \n",
       "0                0.000348  \n",
       "1                0.015438  \n",
       "2                0.010243  \n",
       "3                0.023388  \n",
       "4                0.025975  \n",
       "5                0.000814  \n",
       "6                0.003526  \n",
       "7                0.000378  \n",
       "8                0.023310  \n",
       "9                0.008319  "
      ]
     },
     "execution_count": 160,
     "metadata": {},
     "output_type": "execute_result"
    }
   ],
   "source": [
    "full_gr_df.head(10)"
   ]
  },
  {
   "cell_type": "code",
   "execution_count": 154,
   "metadata": {},
   "outputs": [],
   "source": [
    "full_gr_df.to_csv(\"goodreads-core-periphery.csv\")"
   ]
  },
  {
   "cell_type": "markdown",
   "metadata": {},
   "source": [
    "### Future work\n",
    "- might look into allowing multiple cores ([Xiao Zhang, Travis Martin, and M. E. J. Newman. 2015. “Identification of core-periphery structure in networks” *Physical Review* E 91](https://journals.aps.org/pre/abstract/10.1103/PhysRevE.91.032803))\n",
    "- Stats about the core:\n",
    "    - density of the core\n",
    "    - relative size of core\n",
    "- four quadrants of core -> core, core -> periphery, periphery -> periphery, periphery -> core"
   ]
  },
  {
   "cell_type": "markdown",
   "metadata": {},
   "source": [
    "## Other basic network measures\n",
    "Many of these measures are drawn from Ladd et al.'s [\"Exploring and Analyzing Network Data with Python\"](https://programminghistorian.org/en/lessons/exploring-and-analyzing-network-data-with-python). Each measure is only used with the Shakespeare and Co dataset, but could just as easily be applied to Goodreads.  "
   ]
  }
 ],
 "metadata": {
  "kernelspec": {
   "display_name": "Python 3",
   "language": "python",
   "name": "python3"
  },
  "language_info": {
   "codemirror_mode": {
    "name": "ipython",
    "version": 3
   },
   "file_extension": ".py",
   "mimetype": "text/x-python",
   "name": "python",
   "nbconvert_exporter": "python",
   "pygments_lexer": "ipython3",
   "version": "3.8.3"
  }
 },
 "nbformat": 4,
 "nbformat_minor": 4
}
