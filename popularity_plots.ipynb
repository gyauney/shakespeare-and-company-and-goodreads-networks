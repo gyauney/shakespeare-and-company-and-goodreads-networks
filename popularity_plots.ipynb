{
 "cells": [
  {
   "cell_type": "code",
   "execution_count": 1,
   "metadata": {},
   "outputs": [],
   "source": [
    "import ast\n",
    "from collections import defaultdict\n",
    "import json\n",
    "import math\n",
    "import random\n",
    "import time\n",
    "import os\n",
    "\n",
    "import numpy as np\n",
    "import pandas as pd\n",
    "from scipy.stats import pearsonr\n",
    "\n",
    "# from adjusttext import adjust_text\n",
    "\n",
    "%matplotlib inline\n",
    "\n",
    "import matplotlib.pyplot as plt\n",
    "import seaborn as sns\n",
    "from adjustText import adjust_text\n",
    "\n",
    "sns.set(style='ticks', font_scale=1.2)\n",
    "\n",
    "import matplotlib\n",
    "matplotlib.rcParams['pdf.fonttype'] = 42\n",
    "matplotlib.rcParams['ps.fonttype'] = 42"
   ]
  },
  {
   "cell_type": "code",
   "execution_count": 2,
   "metadata": {},
   "outputs": [],
   "source": [
    "base_path = './data'"
   ]
  },
  {
   "cell_type": "code",
   "execution_count": 8,
   "metadata": {},
   "outputs": [],
   "source": [
    "sc_books_path      = base_path + '/SCoData_books_v1.1_2021_01.json'\n",
    "sc_events_path     = base_path + '/SCoData_events_v1.1_2021_01.json'\n",
    "scraped_books_path = base_path + '/matched-goodreads-metadata.json'\n",
    "matched_path       = base_path + '/goodreads-book-id-to-sc-uri_full-matching.json'    "
   ]
  },
  {
   "cell_type": "code",
   "execution_count": 9,
   "metadata": {},
   "outputs": [],
   "source": [
    "output_directory_path = './figures'\n",
    "if not os.path.exists(output_directory_path):\n",
    "    os.makedirs(output_directory_path)"
   ]
  },
  {
   "cell_type": "markdown",
   "metadata": {},
   "source": [
    "<br><br><br><br>\n",
    "\n",
    "# Functions"
   ]
  },
  {
   "cell_type": "code",
   "execution_count": 10,
   "metadata": {},
   "outputs": [],
   "source": [
    "def convert_string_to_author(author):\n",
    "    if type(author) is list:\n",
    "        author = author[0]\n",
    "    if not pd.isnull(author):   \n",
    "        author = str(author)\n",
    "        if ',' in author:\n",
    "            author = author.split(',')[1].strip() + ' ' + author.split(',')[0].strip()\n",
    "    return author"
   ]
  },
  {
   "cell_type": "markdown",
   "metadata": {},
   "source": [
    "<br><br><br><br>\n",
    "\n",
    "# Load S&C data"
   ]
  },
  {
   "cell_type": "code",
   "execution_count": 11,
   "metadata": {},
   "outputs": [
    {
     "data": {
      "text/plain": [
       "(4460, 4460)"
      ]
     },
     "execution_count": 11,
     "metadata": {},
     "output_type": "execute_result"
    }
   ],
   "source": [
    "gr_to_sc_dict = json.load(open(matched_path, 'r'))\n",
    "sc_to_gr_dict = {j: i for i, j in gr_to_sc_dict.items()}\n",
    "len(gr_to_sc_dict), len(sc_to_gr_dict)"
   ]
  },
  {
   "cell_type": "code",
   "execution_count": 12,
   "metadata": {},
   "outputs": [
    {
     "data": {
      "text/plain": [
       "6018"
      ]
     },
     "execution_count": 12,
     "metadata": {},
     "output_type": "execute_result"
    }
   ],
   "source": [
    "sc_books_df = pd.read_json(sc_books_path)\n",
    "len(sc_books_df.index)"
   ]
  },
  {
   "cell_type": "code",
   "execution_count": 13,
   "metadata": {},
   "outputs": [
    {
     "data": {
      "text/html": [
       "<div>\n",
       "<style scoped>\n",
       "    .dataframe tbody tr th:only-of-type {\n",
       "        vertical-align: middle;\n",
       "    }\n",
       "\n",
       "    .dataframe tbody tr th {\n",
       "        vertical-align: top;\n",
       "    }\n",
       "\n",
       "    .dataframe thead th {\n",
       "        text-align: right;\n",
       "    }\n",
       "</style>\n",
       "<table border=\"1\" class=\"dataframe\">\n",
       "  <thead>\n",
       "    <tr style=\"text-align: right;\">\n",
       "      <th></th>\n",
       "      <th>uri</th>\n",
       "      <th>title</th>\n",
       "      <th>author</th>\n",
       "      <th>year</th>\n",
       "      <th>format</th>\n",
       "      <th>uncertain</th>\n",
       "      <th>event_count</th>\n",
       "      <th>borrow_count</th>\n",
       "      <th>purchase_count</th>\n",
       "      <th>circulation_years</th>\n",
       "      <th>...</th>\n",
       "      <th>ebook_url</th>\n",
       "      <th>volumes_issues</th>\n",
       "      <th>notes</th>\n",
       "      <th>editor</th>\n",
       "      <th>translator</th>\n",
       "      <th>introduction</th>\n",
       "      <th>photographer</th>\n",
       "      <th>preface</th>\n",
       "      <th>illustrator</th>\n",
       "      <th>contributor</th>\n",
       "    </tr>\n",
       "  </thead>\n",
       "  <tbody>\n",
       "    <tr>\n",
       "      <th>5053</th>\n",
       "      <td>https://shakespeareandco.princeton.edu/books/d...</td>\n",
       "      <td>The Truth about English Prisons</td>\n",
       "      <td>[Benney, Mark]</td>\n",
       "      <td>1938.0</td>\n",
       "      <td>Book</td>\n",
       "      <td>False</td>\n",
       "      <td>1</td>\n",
       "      <td>1</td>\n",
       "      <td>0</td>\n",
       "      <td>[1938]</td>\n",
       "      <td>...</td>\n",
       "      <td>NaN</td>\n",
       "      <td>NaN</td>\n",
       "      <td>NaN</td>\n",
       "      <td>NaN</td>\n",
       "      <td>NaN</td>\n",
       "      <td>NaN</td>\n",
       "      <td>NaN</td>\n",
       "      <td>NaN</td>\n",
       "      <td>NaN</td>\n",
       "      <td>NaN</td>\n",
       "    </tr>\n",
       "    <tr>\n",
       "      <th>663</th>\n",
       "      <td>https://shakespeareandco.princeton.edu/books/b...</td>\n",
       "      <td>A History of Elizabethan Drama</td>\n",
       "      <td>[Bradbrook, Muriel Clara]</td>\n",
       "      <td>1900.0</td>\n",
       "      <td>Book</td>\n",
       "      <td>False</td>\n",
       "      <td>1</td>\n",
       "      <td>1</td>\n",
       "      <td>0</td>\n",
       "      <td>[1928]</td>\n",
       "      <td>...</td>\n",
       "      <td>NaN</td>\n",
       "      <td>NaN</td>\n",
       "      <td>NaN</td>\n",
       "      <td>NaN</td>\n",
       "      <td>NaN</td>\n",
       "      <td>NaN</td>\n",
       "      <td>NaN</td>\n",
       "      <td>NaN</td>\n",
       "      <td>NaN</td>\n",
       "      <td>NaN</td>\n",
       "    </tr>\n",
       "    <tr>\n",
       "      <th>1067</th>\n",
       "      <td>https://shakespeareandco.princeton.edu/books/m...</td>\n",
       "      <td>The Passionate Elopement</td>\n",
       "      <td>[Mackenzie, Compton]</td>\n",
       "      <td>1911.0</td>\n",
       "      <td>Book</td>\n",
       "      <td>False</td>\n",
       "      <td>6</td>\n",
       "      <td>6</td>\n",
       "      <td>0</td>\n",
       "      <td>[1936, 1921, 1939, 1924, 1926]</td>\n",
       "      <td>...</td>\n",
       "      <td>NaN</td>\n",
       "      <td>NaN</td>\n",
       "      <td>NaN</td>\n",
       "      <td>NaN</td>\n",
       "      <td>NaN</td>\n",
       "      <td>NaN</td>\n",
       "      <td>NaN</td>\n",
       "      <td>NaN</td>\n",
       "      <td>NaN</td>\n",
       "      <td>NaN</td>\n",
       "    </tr>\n",
       "  </tbody>\n",
       "</table>\n",
       "<p>3 rows × 21 columns</p>\n",
       "</div>"
      ],
      "text/plain": [
       "                                                    uri  \\\n",
       "5053  https://shakespeareandco.princeton.edu/books/d...   \n",
       "663   https://shakespeareandco.princeton.edu/books/b...   \n",
       "1067  https://shakespeareandco.princeton.edu/books/m...   \n",
       "\n",
       "                                title                     author    year  \\\n",
       "5053  The Truth about English Prisons             [Benney, Mark]  1938.0   \n",
       "663    A History of Elizabethan Drama  [Bradbrook, Muriel Clara]  1900.0   \n",
       "1067         The Passionate Elopement       [Mackenzie, Compton]  1911.0   \n",
       "\n",
       "     format  uncertain  event_count  borrow_count  purchase_count  \\\n",
       "5053   Book      False            1             1               0   \n",
       "663    Book      False            1             1               0   \n",
       "1067   Book      False            6             6               0   \n",
       "\n",
       "                   circulation_years  ... ebook_url volumes_issues notes  \\\n",
       "5053                          [1938]  ...       NaN            NaN   NaN   \n",
       "663                           [1928]  ...       NaN            NaN   NaN   \n",
       "1067  [1936, 1921, 1939, 1924, 1926]  ...       NaN            NaN   NaN   \n",
       "\n",
       "     editor translator introduction photographer preface illustrator  \\\n",
       "5053    NaN        NaN          NaN          NaN     NaN         NaN   \n",
       "663     NaN        NaN          NaN          NaN     NaN         NaN   \n",
       "1067    NaN        NaN          NaN          NaN     NaN         NaN   \n",
       "\n",
       "     contributor  \n",
       "5053         NaN  \n",
       "663          NaN  \n",
       "1067         NaN  \n",
       "\n",
       "[3 rows x 21 columns]"
      ]
     },
     "execution_count": 13,
     "metadata": {},
     "output_type": "execute_result"
    }
   ],
   "source": [
    "sc_books_df.sample(3)"
   ]
  },
  {
   "cell_type": "code",
   "execution_count": 14,
   "metadata": {},
   "outputs": [],
   "source": [
    "sc_books_df['author'] = sc_books_df['author'].apply(convert_string_to_author)"
   ]
  },
  {
   "cell_type": "code",
   "execution_count": 15,
   "metadata": {},
   "outputs": [
    {
     "data": {
      "text/plain": [
       "4460"
      ]
     },
     "execution_count": 15,
     "metadata": {},
     "output_type": "execute_result"
    }
   ],
   "source": [
    "book_sc_popularity_dict = {}\n",
    "for i, r in sc_books_df.iterrows():\n",
    "    if r['uri'] in sc_to_gr_dict:\n",
    "        _book_id = sc_to_gr_dict[r['uri']]\n",
    "        book_sc_popularity_dict[_book_id] = int(r['borrow_count'])\n",
    "len(book_sc_popularity_dict)"
   ]
  },
  {
   "cell_type": "code",
   "execution_count": 16,
   "metadata": {},
   "outputs": [
    {
     "data": {
      "text/plain": [
       "4460"
      ]
     },
     "execution_count": 16,
     "metadata": {},
     "output_type": "execute_result"
    }
   ],
   "source": [
    "book_author_dict = {}\n",
    "for i, r in sc_books_df.iterrows():\n",
    "    if r['uri'] in sc_to_gr_dict:\n",
    "        _book_id = sc_to_gr_dict[r['uri']]\n",
    "        book_author_dict[_book_id] = convert_string_to_author(r['author'])\n",
    "len(book_sc_popularity_dict)"
   ]
  },
  {
   "cell_type": "code",
   "execution_count": 17,
   "metadata": {},
   "outputs": [
    {
     "data": {
      "text/plain": [
       "35031"
      ]
     },
     "execution_count": 17,
     "metadata": {},
     "output_type": "execute_result"
    }
   ],
   "source": [
    "sc_events_df = pd.read_json(sc_events_path)\n",
    "len(sc_events_df.index)"
   ]
  },
  {
   "cell_type": "code",
   "execution_count": 18,
   "metadata": {},
   "outputs": [
    {
     "data": {
      "text/html": [
       "<div>\n",
       "<style scoped>\n",
       "    .dataframe tbody tr th:only-of-type {\n",
       "        vertical-align: middle;\n",
       "    }\n",
       "\n",
       "    .dataframe tbody tr th {\n",
       "        vertical-align: top;\n",
       "    }\n",
       "\n",
       "    .dataframe thead th {\n",
       "        text-align: right;\n",
       "    }\n",
       "</style>\n",
       "<table border=\"1\" class=\"dataframe\">\n",
       "  <thead>\n",
       "    <tr style=\"text-align: right;\">\n",
       "      <th></th>\n",
       "      <th>event_type</th>\n",
       "      <th>start_date</th>\n",
       "      <th>end_date</th>\n",
       "      <th>member</th>\n",
       "      <th>subscription</th>\n",
       "      <th>currency</th>\n",
       "      <th>source</th>\n",
       "      <th>reimbursement</th>\n",
       "      <th>item</th>\n",
       "      <th>purchase</th>\n",
       "      <th>borrow</th>\n",
       "    </tr>\n",
       "  </thead>\n",
       "  <tbody>\n",
       "    <tr>\n",
       "      <th>29381</th>\n",
       "      <td>Borrow</td>\n",
       "      <td>1939-01-13</td>\n",
       "      <td>1939-01-16</td>\n",
       "      <td>{'uris': ['https://shakespeareandco.princeton....</td>\n",
       "      <td>NaN</td>\n",
       "      <td>NaN</td>\n",
       "      <td>[{'type': 'Lending Library Card', 'citation': ...</td>\n",
       "      <td>NaN</td>\n",
       "      <td>{'uri': 'https://shakespeareandco.princeton.ed...</td>\n",
       "      <td>NaN</td>\n",
       "      <td>{'duration_days': 3, 'status': 'Returned'}</td>\n",
       "    </tr>\n",
       "    <tr>\n",
       "      <th>11270</th>\n",
       "      <td>Borrow</td>\n",
       "      <td>1924-10-07</td>\n",
       "      <td>1924-10-11</td>\n",
       "      <td>{'uris': ['https://shakespeareandco.princeton....</td>\n",
       "      <td>NaN</td>\n",
       "      <td>NaN</td>\n",
       "      <td>[{'type': 'Lending Library Card', 'citation': ...</td>\n",
       "      <td>NaN</td>\n",
       "      <td>{'uri': 'https://shakespeareandco.princeton.ed...</td>\n",
       "      <td>NaN</td>\n",
       "      <td>{'duration_days': 4, 'status': 'Returned'}</td>\n",
       "    </tr>\n",
       "    <tr>\n",
       "      <th>33704</th>\n",
       "      <td>Borrow</td>\n",
       "      <td>1941-05-27</td>\n",
       "      <td>1941-06-06</td>\n",
       "      <td>{'uris': ['https://shakespeareandco.princeton....</td>\n",
       "      <td>NaN</td>\n",
       "      <td>NaN</td>\n",
       "      <td>[{'type': 'Lending Library Card', 'citation': ...</td>\n",
       "      <td>NaN</td>\n",
       "      <td>{'uri': 'https://shakespeareandco.princeton.ed...</td>\n",
       "      <td>NaN</td>\n",
       "      <td>{'duration_days': 10, 'status': 'Returned'}</td>\n",
       "    </tr>\n",
       "  </tbody>\n",
       "</table>\n",
       "</div>"
      ],
      "text/plain": [
       "      event_type  start_date    end_date  \\\n",
       "29381     Borrow  1939-01-13  1939-01-16   \n",
       "11270     Borrow  1924-10-07  1924-10-11   \n",
       "33704     Borrow  1941-05-27  1941-06-06   \n",
       "\n",
       "                                                  member subscription  \\\n",
       "29381  {'uris': ['https://shakespeareandco.princeton....          NaN   \n",
       "11270  {'uris': ['https://shakespeareandco.princeton....          NaN   \n",
       "33704  {'uris': ['https://shakespeareandco.princeton....          NaN   \n",
       "\n",
       "      currency                                             source  \\\n",
       "29381      NaN  [{'type': 'Lending Library Card', 'citation': ...   \n",
       "11270      NaN  [{'type': 'Lending Library Card', 'citation': ...   \n",
       "33704      NaN  [{'type': 'Lending Library Card', 'citation': ...   \n",
       "\n",
       "      reimbursement                                               item  \\\n",
       "29381           NaN  {'uri': 'https://shakespeareandco.princeton.ed...   \n",
       "11270           NaN  {'uri': 'https://shakespeareandco.princeton.ed...   \n",
       "33704           NaN  {'uri': 'https://shakespeareandco.princeton.ed...   \n",
       "\n",
       "      purchase                                       borrow  \n",
       "29381      NaN   {'duration_days': 3, 'status': 'Returned'}  \n",
       "11270      NaN   {'duration_days': 4, 'status': 'Returned'}  \n",
       "33704      NaN  {'duration_days': 10, 'status': 'Returned'}  "
      ]
     },
     "execution_count": 18,
     "metadata": {},
     "output_type": "execute_result"
    }
   ],
   "source": [
    "sc_events_df.sample(3)"
   ]
  },
  {
   "cell_type": "markdown",
   "metadata": {},
   "source": [
    "<br><br><br><br>\n",
    "\n",
    "# Load the Goodreads books that appear in both Goodreads and S&C"
   ]
  },
  {
   "cell_type": "code",
   "execution_count": 19,
   "metadata": {},
   "outputs": [
    {
     "data": {
      "text/plain": [
       "4454"
      ]
     },
     "execution_count": 19,
     "metadata": {},
     "output_type": "execute_result"
    }
   ],
   "source": [
    "matched_books_df = pd.read_json(scraped_books_path)\n",
    "len(matched_books_df.index)"
   ]
  },
  {
   "cell_type": "code",
   "execution_count": 20,
   "metadata": {},
   "outputs": [
    {
     "data": {
      "text/html": [
       "<div>\n",
       "<style scoped>\n",
       "    .dataframe tbody tr th:only-of-type {\n",
       "        vertical-align: middle;\n",
       "    }\n",
       "\n",
       "    .dataframe tbody tr th {\n",
       "        vertical-align: top;\n",
       "    }\n",
       "\n",
       "    .dataframe thead th {\n",
       "        text-align: right;\n",
       "    }\n",
       "</style>\n",
       "<table border=\"1\" class=\"dataframe\">\n",
       "  <thead>\n",
       "    <tr style=\"text-align: right;\">\n",
       "      <th></th>\n",
       "      <th>bookID</th>\n",
       "      <th>isbn</th>\n",
       "      <th>yearFirstPublished</th>\n",
       "      <th>title</th>\n",
       "      <th>author</th>\n",
       "      <th>numPages</th>\n",
       "      <th>numRatings</th>\n",
       "      <th>numReviews</th>\n",
       "      <th>averageRating</th>\n",
       "      <th>ratingDistribution</th>\n",
       "      <th>lists</th>\n",
       "      <th>shelves</th>\n",
       "      <th>genres</th>\n",
       "    </tr>\n",
       "  </thead>\n",
       "  <tbody>\n",
       "    <tr>\n",
       "      <th>3975</th>\n",
       "      <td>7588413</td>\n",
       "      <td>0198891253</td>\n",
       "      <td>NaN</td>\n",
       "      <td>England Under The Tudors And Stuarts, 1485 168...</td>\n",
       "      <td>Keith Feiling</td>\n",
       "      <td>NaN</td>\n",
       "      <td>2</td>\n",
       "      <td>0</td>\n",
       "      <td>3.00</td>\n",
       "      <td>[0, 0, 2, 0, 0]</td>\n",
       "      <td>{}</td>\n",
       "      <td>{}</td>\n",
       "      <td>[]</td>\n",
       "    </tr>\n",
       "    <tr>\n",
       "      <th>3687</th>\n",
       "      <td>6388025</td>\n",
       "      <td>0548262349</td>\n",
       "      <td>1917.0</td>\n",
       "      <td>The Three Black Pennys</td>\n",
       "      <td>Joseph Hergesheimer</td>\n",
       "      <td>412.0</td>\n",
       "      <td>14</td>\n",
       "      <td>2</td>\n",
       "      <td>3.29</td>\n",
       "      <td>[2, 5, 3, 3, 1]</td>\n",
       "      <td>{'Best Books of 1917': 0.76}</td>\n",
       "      <td>{}</td>\n",
       "      <td>[]</td>\n",
       "    </tr>\n",
       "    <tr>\n",
       "      <th>3597</th>\n",
       "      <td>6062469</td>\n",
       "      <td>0701207051</td>\n",
       "      <td>1924.0</td>\n",
       "      <td>The Dream: A Novel</td>\n",
       "      <td>H.G. Wells</td>\n",
       "      <td>336.0</td>\n",
       "      <td>106</td>\n",
       "      <td>15</td>\n",
       "      <td>3.89</td>\n",
       "      <td>[32, 41, 23, 9, 1]</td>\n",
       "      <td>{}</td>\n",
       "      <td>{'to-read': 233, 'currently-reading': 27, 'sci...</td>\n",
       "      <td>[Science Fiction, Fiction, Science Fiction &gt; T...</td>\n",
       "    </tr>\n",
       "  </tbody>\n",
       "</table>\n",
       "</div>"
      ],
      "text/plain": [
       "       bookID        isbn  yearFirstPublished  \\\n",
       "3975  7588413  0198891253                 NaN   \n",
       "3687  6388025  0548262349              1917.0   \n",
       "3597  6062469  0701207051              1924.0   \n",
       "\n",
       "                                                  title               author  \\\n",
       "3975  England Under The Tudors And Stuarts, 1485 168...        Keith Feiling   \n",
       "3687                             The Three Black Pennys  Joseph Hergesheimer   \n",
       "3597                                 The Dream: A Novel           H.G. Wells   \n",
       "\n",
       "      numPages  numRatings  numReviews  averageRating  ratingDistribution  \\\n",
       "3975       NaN           2           0           3.00     [0, 0, 2, 0, 0]   \n",
       "3687     412.0          14           2           3.29     [2, 5, 3, 3, 1]   \n",
       "3597     336.0         106          15           3.89  [32, 41, 23, 9, 1]   \n",
       "\n",
       "                             lists  \\\n",
       "3975                            {}   \n",
       "3687  {'Best Books of 1917': 0.76}   \n",
       "3597                            {}   \n",
       "\n",
       "                                                shelves  \\\n",
       "3975                                                 {}   \n",
       "3687                                                 {}   \n",
       "3597  {'to-read': 233, 'currently-reading': 27, 'sci...   \n",
       "\n",
       "                                                 genres  \n",
       "3975                                                 []  \n",
       "3687                                                 []  \n",
       "3597  [Science Fiction, Fiction, Science Fiction > T...  "
      ]
     },
     "execution_count": 20,
     "metadata": {},
     "output_type": "execute_result"
    }
   ],
   "source": [
    "matched_books_df.sample(3)"
   ]
  },
  {
   "cell_type": "code",
   "execution_count": 21,
   "metadata": {},
   "outputs": [
    {
     "data": {
      "text/plain": [
       "Index(['bookID', 'isbn', 'yearFirstPublished', 'title', 'author', 'numPages',\n",
       "       'numRatings', 'numReviews', 'averageRating', 'ratingDistribution',\n",
       "       'lists', 'shelves', 'genres'],\n",
       "      dtype='object')"
      ]
     },
     "execution_count": 21,
     "metadata": {},
     "output_type": "execute_result"
    }
   ],
   "source": [
    "matched_books_df.columns"
   ]
  },
  {
   "cell_type": "code",
   "execution_count": 22,
   "metadata": {},
   "outputs": [
    {
     "data": {
      "text/plain": [
       "4454"
      ]
     },
     "execution_count": 22,
     "metadata": {},
     "output_type": "execute_result"
    }
   ],
   "source": [
    "book_gr_popularity_dict = {}\n",
    "for i, r in matched_books_df.iterrows():\n",
    "    book_gr_popularity_dict[str(r['bookID'])] = r['numReviews']\n",
    "len(book_gr_popularity_dict)"
   ]
  },
  {
   "cell_type": "code",
   "execution_count": 23,
   "metadata": {},
   "outputs": [
    {
     "data": {
      "text/plain": [
       "4454"
      ]
     },
     "execution_count": 23,
     "metadata": {},
     "output_type": "execute_result"
    }
   ],
   "source": [
    "book_title_dict = {}\n",
    "for i, r in matched_books_df.iterrows():\n",
    "    book_title_dict[str(r['bookID'])] = r['title']\n",
    "len(book_gr_popularity_dict)"
   ]
  },
  {
   "cell_type": "code",
   "execution_count": 24,
   "metadata": {},
   "outputs": [
    {
     "data": {
      "text/plain": [
       "2614"
      ]
     },
     "execution_count": 24,
     "metadata": {},
     "output_type": "execute_result"
    }
   ],
   "source": [
    "book_year_dict = {}\n",
    "for i, r in matched_books_df.iterrows():\n",
    "    if not pd.isnull(r['yearFirstPublished']):\n",
    "        _year = int(r['yearFirstPublished'])    \n",
    "        if _year < 1940:\n",
    "            book_year_dict[str(r['bookID'])] = _year\n",
    "len(book_year_dict)"
   ]
  },
  {
   "cell_type": "code",
   "execution_count": 25,
   "metadata": {},
   "outputs": [
    {
     "data": {
      "text/plain": [
       "4454"
      ]
     },
     "execution_count": 25,
     "metadata": {},
     "output_type": "execute_result"
    }
   ],
   "source": [
    "book_shelves_dict = {}\n",
    "for i, r in matched_books_df.iterrows():\n",
    "    if not pd.isnull(r['shelves']):\n",
    "        _shelf_dict = r['shelves']\n",
    "        # _shelf_dict = _shelf_dict.replace(\"'\", \"\\\"\")\n",
    "        # _shelf_dict = json.loads(_shelf_dict)\n",
    "        book_shelves_dict[str(r['bookID'])] = _shelf_dict\n",
    "len(book_shelves_dict)"
   ]
  },
  {
   "cell_type": "code",
   "execution_count": 26,
   "metadata": {},
   "outputs": [
    {
     "data": {
      "text/plain": [
       "4454"
      ]
     },
     "execution_count": 26,
     "metadata": {},
     "output_type": "execute_result"
    }
   ],
   "source": [
    "book_lists_dict = {}\n",
    "for i, r in matched_books_df.iterrows():\n",
    "    if not pd.isnull(r['lists']):\n",
    "        book_lists_dict[str(r['bookID'])] = r['lists']\n",
    "len(book_lists_dict)"
   ]
  },
  {
   "cell_type": "code",
   "execution_count": 27,
   "metadata": {},
   "outputs": [],
   "source": [
    "# book_genres_dict = {}\n",
    "# for i, r in matched_books_df.iterrows():\n",
    "#     if not pd.isnull(r['genres']):\n",
    "#         book_genres_dict[str(r['bookID'])] = r['genres']\n",
    "# len(book_genres_dict)"
   ]
  },
  {
   "cell_type": "code",
   "execution_count": 28,
   "metadata": {},
   "outputs": [],
   "source": [
    "author_books_dict = defaultdict(list)\n",
    "for i, r in sc_books_df.iterrows():\n",
    "    author_books_dict[r['author']].append(r['uri'])"
   ]
  },
  {
   "cell_type": "code",
   "execution_count": 29,
   "metadata": {},
   "outputs": [
    {
     "data": {
      "text/plain": [
       "4454"
      ]
     },
     "execution_count": 29,
     "metadata": {},
     "output_type": "execute_result"
    }
   ],
   "source": [
    "len(matched_books_df.index)"
   ]
  },
  {
   "cell_type": "code",
   "execution_count": 30,
   "metadata": {},
   "outputs": [
    {
     "data": {
      "text/plain": [
       "1726"
      ]
     },
     "execution_count": 30,
     "metadata": {},
     "output_type": "execute_result"
    }
   ],
   "source": [
    "len(matched_books_df['author'].unique())"
   ]
  },
  {
   "cell_type": "code",
   "execution_count": 31,
   "metadata": {},
   "outputs": [
    {
     "data": {
      "text/plain": [
       "3940"
      ]
     },
     "execution_count": 31,
     "metadata": {},
     "output_type": "execute_result"
    }
   ],
   "source": [
    "len(matched_books_df[matched_books_df['numRatings'] > 0].index)"
   ]
  },
  {
   "cell_type": "code",
   "execution_count": 32,
   "metadata": {},
   "outputs": [
    {
     "data": {
      "text/plain": [
       "3223"
      ]
     },
     "execution_count": 32,
     "metadata": {},
     "output_type": "execute_result"
    }
   ],
   "source": [
    "len(matched_books_df[matched_books_df['numReviews'] > 0].index)"
   ]
  },
  {
   "cell_type": "markdown",
   "metadata": {},
   "source": [
    "<br><br><br><br>\n",
    "\n",
    "# Compare book popularity"
   ]
  },
  {
   "cell_type": "code",
   "execution_count": 33,
   "metadata": {},
   "outputs": [
    {
     "data": {
      "text/plain": [
       "(4460, 4454)"
      ]
     },
     "execution_count": 33,
     "metadata": {},
     "output_type": "execute_result"
    }
   ],
   "source": [
    "len(book_sc_popularity_dict), len(book_gr_popularity_dict)"
   ]
  },
  {
   "cell_type": "code",
   "execution_count": 34,
   "metadata": {},
   "outputs": [
    {
     "name": "stdout",
     "output_type": "stream",
     "text": [
      "A Portrait of the Artist as a Young Man //// James Joyce //// 56\n",
      "Dubliners //// James Joyce //// 47\n",
      "Pointed Roofs //// Dorothy M. Richardson //// 45\n",
      "The Garden Party and Other Stories //// Katherine Mansfield //// 37\n",
      "Mr Norris Changes Trains //// Christopher Isherwood //// 36\n",
      "A Passage to India by E. M. Forster \"The Annotated Classic Edition\" //// E. M. Forster //// 35\n",
      "Mrs. Dalloway //// Virginia Woolf //// 34\n",
      "Women in Love by D.H. Lawrence //// D. H. Lawrence //// 33\n",
      "Point Counter Point //// Aldous Huxley //// 33\n",
      "The Good Earth //// Pearl S. Buck //// 33\n",
      "...\t ...\n",
      "Moderato cantabile //// Marguerite Duras //// 0\n",
      "The Heart to Artemis: A Writer's Memoirs //// Bryher //// 0\n",
      "A Child's History of England //// Charles Dickens //// 0\n",
      "Nichomachean Ethics //// Aristotle //// 0\n",
      "El Peque�o Larousse Ilustrado 2012 //// nan //// 0\n",
      "Roget's International Thesaurus //// nan //// 0\n",
      "The Cloud of Unknowing //// nan //// 0\n",
      "The Logic Of Hegel: Translated From The Encyclopedia Of The Philosophical Sciences //// Georg Wilhelm Friedrich Hegel //// 0\n",
      "The Mabinogion and A Tale of Taliesin //// nan //// 0\n",
      "The Ship of Death and Other Poems //// D. H. Lawrence //// 0\n"
     ]
    }
   ],
   "source": [
    "for _book_id, _popularity in sorted(book_sc_popularity_dict.items(), key=lambda x: x[1], reverse=True)[:10]:\n",
    "    if _book_id in book_title_dict:\n",
    "        print(book_title_dict[_book_id], '////', convert_string_to_author(str(book_author_dict[_book_id])), '////', _popularity)\n",
    "print('...\\t ...')\n",
    "for _book_id, _popularity in sorted(book_sc_popularity_dict.items(), key=lambda x: x[1], reverse=True)[-10:]:\n",
    "    if _book_id in book_title_dict:\n",
    "        print(book_title_dict[_book_id], '////', convert_string_to_author(str(book_author_dict[_book_id])), '////', _popularity)"
   ]
  },
  {
   "cell_type": "code",
   "execution_count": 35,
   "metadata": {},
   "outputs": [
    {
     "name": "stdout",
     "output_type": "stream",
     "text": [
      "Pride and Prejudice //// Jane Austen //// 77817\n",
      "The Great Gatsby //// F. Scott Fitzgerald //// 75296\n",
      "Jane Eyre //// Charlotte Brontë //// 47139\n",
      "Wuthering Heights //// Emily Brontë //// 42403\n",
      "Ten Little Niggers //// Agatha Christie //// 40393\n",
      "Of Mice and Men //// John Steinbeck //// 37837\n",
      "The Picture of Dorian Grey //// Oscar Wilde //// 37248\n",
      "Little Women //// Louisa May Alcott //// 34878\n",
      "Brave New World //// Aldous Huxley //// 34579\n",
      "Dracula //// Bram Stoker //// 29583\n",
      "...\t ...\n",
      "Human Speech: Some Observations, Experiments, and Conclusions as to the Nature, Origin, Purpose and Possible Improvement of Human Speach //// Richard Paget //// 0\n",
      "Keats and Shakespeare: A Study of Keat's Poetic Life from 1816 to 1820 //// John Middleton Murry //// 0\n",
      "The Passionate Elopement //// Compton Mackenzie //// 0\n",
      "COMING , SIR ! : The Autobiography of a Waiter //// Dave Marlowe //// 0\n",
      "Jonathan Swift: Selections from the Journal to Stella, a Tale of a Tub, Persselections from the Journal to Stella, a Tale of a Tub, Personal Letters, and Gulliver's Travels (1901) Onal Letters, and Gulliver's Travels (1901) //// Jonathan Swift //// 0\n",
      "Now East, Now West //// Susan Ertz //// 0\n",
      "Contemporary Movements in European Literature //// nan //// 0\n",
      "Roper's Row //// Warwick Deeping //// 0\n",
      "Right Off the Map //// C. E. Montague //// 0\n",
      "The Family Letters of Christina Georgina Rossetti //// Dante Gabriel Rossetti //// 0\n"
     ]
    }
   ],
   "source": [
    "for _book_id, _popularity in sorted(book_gr_popularity_dict.items(), key=lambda x: x[1], reverse=True)[:10]:\n",
    "    if _book_id in book_title_dict:\n",
    "        print(book_title_dict[_book_id], '////', convert_string_to_author(str(book_author_dict[_book_id])), '////', _popularity)\n",
    "print('...\\t ...')\n",
    "for _book_id, _popularity in sorted(book_gr_popularity_dict.items(), key=lambda x: x[1], reverse=True)[-10:]:\n",
    "    if _book_id in book_title_dict:\n",
    "        print(book_title_dict[_book_id], '////', convert_string_to_author(str(book_author_dict[_book_id])), '////', _popularity)"
   ]
  },
  {
   "cell_type": "code",
   "execution_count": 36,
   "metadata": {},
   "outputs": [
    {
     "data": {
      "text/plain": [
       "(4454, 4454)"
      ]
     },
     "execution_count": 36,
     "metadata": {},
     "output_type": "execute_result"
    }
   ],
   "source": [
    "book_sc_rank_dict = {}\n",
    "i = 0\n",
    "previous_popularity = None\n",
    "for _book_id, _popularity in sorted(book_sc_popularity_dict.items(), key=lambda x: x[1], reverse=True):\n",
    "    if _book_id in book_gr_popularity_dict:\n",
    "        if _popularity != previous_popularity:\n",
    "            i += 1\n",
    "        book_sc_rank_dict[_book_id] = i\n",
    "        previous_popularity = _popularity\n",
    "\n",
    "book_sc_rank_dict = {_book: _rank/float(i) for _book, _rank in book_sc_rank_dict.items()}\n",
    "\n",
    "book_gr_rank_dict = {}\n",
    "i = 1\n",
    "for _book_id, _popularity in sorted(book_gr_popularity_dict.items(), key=lambda x: x[1], reverse=True):\n",
    "    if _popularity != previous_popularity:\n",
    "        i += 1\n",
    "    book_gr_rank_dict[_book_id] = i\n",
    "    previous_popularity = _popularity\n",
    "\n",
    "book_gr_rank_dict = {_book: _rank/float(i) for _book, _rank in book_gr_rank_dict.items()}\n",
    "\n",
    "len(book_sc_rank_dict), len(book_gr_rank_dict)"
   ]
  },
  {
   "cell_type": "code",
   "execution_count": 37,
   "metadata": {},
   "outputs": [
    {
     "data": {
      "text/plain": [
       "4454"
      ]
     },
     "execution_count": 37,
     "metadata": {},
     "output_type": "execute_result"
    }
   ],
   "source": [
    "dicts_to_plot = []\n",
    "for _book_id, _rank_sc in book_sc_rank_dict.items():\n",
    "    dicts_to_plot.append({'Book ID': _book_id,\n",
    "                          'Title': book_title_dict[_book_id],\n",
    "                          'Author': book_author_dict[_book_id],\n",
    "                          'Goodreads Rank': book_gr_rank_dict[_book_id],\n",
    "                          'SC Rank': _rank_sc,\n",
    "                          'Goodreads Popularity': book_gr_popularity_dict[_book_id],\n",
    "                          'SC Popularity': book_sc_popularity_dict[_book_id]})\n",
    "df_to_plot = pd.DataFrame(dicts_to_plot)\n",
    "len(df_to_plot.index)"
   ]
  },
  {
   "cell_type": "code",
   "execution_count": 38,
   "metadata": {},
   "outputs": [
    {
     "data": {
      "text/html": [
       "<div>\n",
       "<style scoped>\n",
       "    .dataframe tbody tr th:only-of-type {\n",
       "        vertical-align: middle;\n",
       "    }\n",
       "\n",
       "    .dataframe tbody tr th {\n",
       "        vertical-align: top;\n",
       "    }\n",
       "\n",
       "    .dataframe thead th {\n",
       "        text-align: right;\n",
       "    }\n",
       "</style>\n",
       "<table border=\"1\" class=\"dataframe\">\n",
       "  <thead>\n",
       "    <tr style=\"text-align: right;\">\n",
       "      <th></th>\n",
       "      <th>Book ID</th>\n",
       "      <th>Title</th>\n",
       "      <th>Author</th>\n",
       "      <th>Goodreads Rank</th>\n",
       "      <th>SC Rank</th>\n",
       "      <th>Goodreads Popularity</th>\n",
       "      <th>SC Popularity</th>\n",
       "    </tr>\n",
       "  </thead>\n",
       "  <tbody>\n",
       "    <tr>\n",
       "      <th>2989</th>\n",
       "      <td>19209914</td>\n",
       "      <td>Byron</td>\n",
       "      <td>John Nichol</td>\n",
       "      <td>1.000000</td>\n",
       "      <td>0.974359</td>\n",
       "      <td>0</td>\n",
       "      <td>1</td>\n",
       "    </tr>\n",
       "    <tr>\n",
       "      <th>2679</th>\n",
       "      <td>275261</td>\n",
       "      <td>Ellen Terry and Bernard Shaw: A Correspondence</td>\n",
       "      <td>Ellen Terry</td>\n",
       "      <td>1.000000</td>\n",
       "      <td>0.948718</td>\n",
       "      <td>0</td>\n",
       "      <td>2</td>\n",
       "    </tr>\n",
       "    <tr>\n",
       "      <th>3309</th>\n",
       "      <td>27482218</td>\n",
       "      <td>La Mort</td>\n",
       "      <td>Maurice Maeterlinck</td>\n",
       "      <td>0.990043</td>\n",
       "      <td>0.974359</td>\n",
       "      <td>7</td>\n",
       "      <td>1</td>\n",
       "    </tr>\n",
       "  </tbody>\n",
       "</table>\n",
       "</div>"
      ],
      "text/plain": [
       "       Book ID                                           Title  \\\n",
       "2989  19209914                                           Byron   \n",
       "2679    275261  Ellen Terry and Bernard Shaw: A Correspondence   \n",
       "3309  27482218                                         La Mort   \n",
       "\n",
       "                   Author  Goodreads Rank   SC Rank  Goodreads Popularity  \\\n",
       "2989          John Nichol        1.000000  0.974359                     0   \n",
       "2679          Ellen Terry        1.000000  0.948718                     0   \n",
       "3309  Maurice Maeterlinck        0.990043  0.974359                     7   \n",
       "\n",
       "      SC Popularity  \n",
       "2989              1  \n",
       "2679              2  \n",
       "3309              1  "
      ]
     },
     "execution_count": 38,
     "metadata": {},
     "output_type": "execute_result"
    }
   ],
   "source": [
    "df_to_plot.sample(3)"
   ]
  },
  {
   "cell_type": "code",
   "execution_count": 39,
   "metadata": {},
   "outputs": [
    {
     "data": {
      "image/png": "[encoded data removed]",
      "text/plain": [
       "<Figure size 700x700 with 1 Axes>"
      ]
     },
     "metadata": {},
     "output_type": "display_data"
    }
   ],
   "source": [
    "plt.figure(figsize=(7,7))\n",
    "ax = sns.scatterplot(data=df_to_plot,\n",
    "                     x='SC Rank',\n",
    "                     y='Goodreads Rank',\n",
    "                     color='skyblue')\n",
    "ax.set(xscale='log', yscale='log')\n",
    "sns.despine()\n",
    "# plt.savefig(output_directory_path + '/scatter.sc_rank_x_gr_rank.books.png', bbox_inches='tight')"
   ]
  },
  {
   "cell_type": "code",
   "execution_count": 40,
   "metadata": {},
   "outputs": [
    {
     "data": {
      "text/plain": [
       "PearsonRResult(statistic=0.27250551433941494, pvalue=1.112788860279856e-76)"
      ]
     },
     "execution_count": 40,
     "metadata": {},
     "output_type": "execute_result"
    }
   ],
   "source": [
    "pearsonr(df_to_plot['SC Rank'], df_to_plot['Goodreads Rank'])"
   ]
  },
  {
   "cell_type": "code",
   "execution_count": 41,
   "metadata": {},
   "outputs": [
    {
     "data": {
      "image/png": "[encoded data removed]",
      "text/plain": [
       "<Figure size 500x200 with 1 Axes>"
      ]
     },
     "metadata": {},
     "output_type": "display_data"
    }
   ],
   "source": [
    "plt.figure(figsize=(5,2))\n",
    "sns.kdeplot(df_to_plot['Goodreads Popularity'])\n",
    "sns.despine()\n",
    "plt.savefig(output_directory_path + '/kde.gr_books_popularity.png', bbox_inches='tight', dpi=300)"
   ]
  },
  {
   "cell_type": "code",
   "execution_count": 42,
   "metadata": {},
   "outputs": [
    {
     "data": {
      "image/png": "[encoded data removed]",
      "text/plain": [
       "<Figure size 500x200 with 1 Axes>"
      ]
     },
     "metadata": {},
     "output_type": "display_data"
    }
   ],
   "source": [
    "plt.figure(figsize=(5,2))\n",
    "sns.boxplot(data=df_to_plot,\n",
    "            x='Goodreads Popularity')\n",
    "sns.despine()\n",
    "plt.savefig(output_directory_path + '/box.gr_books_popularity.png', bbox_inches='tight', dpi=300)"
   ]
  },
  {
   "cell_type": "code",
   "execution_count": 43,
   "metadata": {},
   "outputs": [
    {
     "data": {
      "image/png": "[encoded data removed]",
      "text/plain": [
       "<Figure size 500x200 with 1 Axes>"
      ]
     },
     "metadata": {},
     "output_type": "display_data"
    }
   ],
   "source": [
    "plt.figure(figsize=(5,2))\n",
    "sns.kdeplot(df_to_plot['SC Popularity'])\n",
    "sns.despine()\n",
    "plt.savefig(output_directory_path + '/kde.sc_books_popularity.png', bbox_inches='tight', dpi=300)"
   ]
  },
  {
   "cell_type": "code",
   "execution_count": 44,
   "metadata": {},
   "outputs": [
    {
     "data": {
      "text/plain": [
       "(56, 77817)"
      ]
     },
     "execution_count": 44,
     "metadata": {},
     "output_type": "execute_result"
    }
   ],
   "source": [
    "max(df_to_plot['SC Popularity']), max(df_to_plot['Goodreads Popularity'])"
   ]
  },
  {
   "cell_type": "markdown",
   "metadata": {},
   "source": [
    "<br><br><br><br>\n",
    "\n",
    "# Explore connection between popularity and publication year"
   ]
  },
  {
   "cell_type": "code",
   "execution_count": 45,
   "metadata": {},
   "outputs": [
    {
     "data": {
      "text/plain": [
       "2614"
      ]
     },
     "execution_count": 45,
     "metadata": {},
     "output_type": "execute_result"
    }
   ],
   "source": [
    "dicts_to_plot = []\n",
    "for _book_id, _rank_sc in book_sc_rank_dict.items():\n",
    "    if _book_id in book_year_dict:\n",
    "        dicts_to_plot.append({'Book ID': _book_id,\n",
    "                              'Title': book_title_dict[_book_id],\n",
    "                              'Author': book_author_dict[_book_id],\n",
    "                              'Goodreads Rank': book_gr_rank_dict[_book_id],\n",
    "                              'S&C Rank': _rank_sc,\n",
    "                              'Publication Year': book_year_dict[_book_id],\n",
    "                              'Log(Publication Year)': math.log(book_year_dict[_book_id])})\n",
    "df_to_plot = pd.DataFrame(dicts_to_plot)\n",
    "len(df_to_plot.index)"
   ]
  },
  {
   "cell_type": "code",
   "execution_count": 46,
   "metadata": {},
   "outputs": [
    {
     "data": {
      "image/png": "[encoded data removed]",
      "text/plain": [
       "<Figure size 640x480 with 1 Axes>"
      ]
     },
     "metadata": {},
     "output_type": "display_data"
    }
   ],
   "source": [
    "sns.scatterplot(data=df_to_plot,\n",
    "                x='S&C Rank',\n",
    "                y='Publication Year',\n",
    "                color='skyblue')\n",
    "sns.despine()\n",
    "plt.savefig(output_directory_path + '/scatter.sc_rank_x_year.png', bbox_inches='tight')"
   ]
  },
  {
   "cell_type": "code",
   "execution_count": 47,
   "metadata": {},
   "outputs": [
    {
     "data": {
      "image/png": "[encoded data removed]",
      "text/plain": [
       "<Figure size 640x480 with 1 Axes>"
      ]
     },
     "metadata": {},
     "output_type": "display_data"
    }
   ],
   "source": [
    "sns.scatterplot(data=df_to_plot,\n",
    "                x='Goodreads Rank',\n",
    "                y='Publication Year',\n",
    "                color='skyblue')\n",
    "sns.despine()\n",
    "plt.savefig(output_directory_path + '/scatter.gr_rank_x_year.png', bbox_inches='tight')"
   ]
  },
  {
   "cell_type": "code",
   "execution_count": 48,
   "metadata": {},
   "outputs": [
    {
     "data": {
      "image/png": "[encoded data removed]",
      "text/plain": [
       "<Figure size 1000x200 with 1 Axes>"
      ]
     },
     "metadata": {},
     "output_type": "display_data"
    }
   ],
   "source": [
    "plt.figure(figsize=(10,2))\n",
    "# sns.histplot([v for v in book_year_dict.values() if v < 1940 and v > 1800])\n",
    "sns.histplot(list(book_year_dict.values()))\n",
    "sns.despine()"
   ]
  },
  {
   "cell_type": "markdown",
   "metadata": {},
   "source": [
    "<br><br><br><br>\n",
    "\n",
    "# Explore change in rank"
   ]
  },
  {
   "cell_type": "code",
   "execution_count": 49,
   "metadata": {},
   "outputs": [],
   "source": [
    "book_change_in_rank_dict = {}\n",
    "for _book_id, _sc_rank in book_sc_rank_dict.items():\n",
    "    _change_in_rank = _sc_rank - book_gr_rank_dict[_book_id]\n",
    "    book_change_in_rank_dict[_book_id] = _change_in_rank"
   ]
  },
  {
   "cell_type": "code",
   "execution_count": 50,
   "metadata": {},
   "outputs": [
    {
     "name": "stdout",
     "output_type": "stream",
     "text": [
      "0.96 //// Little Women //// Louisa May Alcott\n",
      "0.96 //// Dracula //// Bram Stoker\n",
      "0.96 //// The Wonderful Wizard of Oz //// L. Frank Baum\n",
      "0.96 //// Lolita //// Vladimir Nabokov\n",
      "0.95 //// Anna Karenina //// Leo Tolstoy\n",
      "0.92 //// Macbeth //// William Shakespeare\n",
      "0.92 //// The Trial //// Franz Kafka\n",
      "0.92 //// Madame Bovary //// Gustave Flaubert\n",
      "0.91 //// All Quiet on the Western Front //// Erich Maria Remarque\n",
      "0.91 //// Uncle Tom's Cabin //// Harriet Beecher Stowe\n",
      "0.91 //// Mansfield Park //// Jane Austen\n",
      "...\t ...\n",
      "-0.59 //// Bliss & Other Stories //// Katherine Mansfield\n",
      "-0.6 //// The Tunnel: Pilgrimage, Volume 4 //// Dorothy M. Richardson\n",
      "-0.63 //// Pointed Roofs, Backwater, Honeycomb //// Dorothy M. Richardson\n",
      "-0.63 //// Pilgrimage: Backwater //// Dorothy M. Richardson\n",
      "-0.63 //// The Fountain //// Charles Morgan\n",
      "-0.63 //// Experiment in Autobiography: Discoveries & Conclusions of a Very Ordinary Brain (Since 1866) //// H. G. Wells\n",
      "-0.64 //// Studies in the Psychology of Sex //// Havelock Ellis\n",
      "-0.7 //// South Wind //// Norman Douglas\n",
      "-0.74 //// Sparkenbroke //// Charles Morgan\n",
      "-0.85 //// Pointed Roofs //// Dorothy M. Richardson\n"
     ]
    }
   ],
   "source": [
    "for _book_id, _change_in_rank in sorted(book_change_in_rank_dict.items(), key=lambda x: x[1], reverse=True)[:11]:\n",
    "    if _book_id in book_title_dict:\n",
    "        _author = str(book_author_dict[_book_id])\n",
    "        if ',' in _author:\n",
    "            _author = _author.split(',')[1].strip() + ' ' + _author.split(',')[0].strip()\n",
    "        print(round(_change_in_rank, 2), '////', book_title_dict[_book_id], '////', _author)\n",
    "print('...\\t ...')\n",
    "for _book_id, _change_in_rank in sorted(book_change_in_rank_dict.items(), key=lambda x: x[1], reverse=True)[-10:]:\n",
    "    if _book_id in book_title_dict:\n",
    "        _author = str(book_author_dict[_book_id])\n",
    "        if ',' in _author:\n",
    "            _author = _author.split(',')[1].strip() + ' ' + _author.split(',')[0].strip()\n",
    "        print(round(_change_in_rank, 2), '////', book_title_dict[_book_id], '////', _author)"
   ]
  },
  {
   "cell_type": "code",
   "execution_count": 51,
   "metadata": {},
   "outputs": [
    {
     "data": {
      "text/plain": [
       "(1626, 1626)"
      ]
     },
     "execution_count": 51,
     "metadata": {},
     "output_type": "execute_result"
    }
   ],
   "source": [
    "author_sc_popularity_dict = defaultdict(int)\n",
    "for _book_id, _popularity in book_sc_popularity_dict.items():\n",
    "    if _book_id in book_title_dict:\n",
    "        _author = book_author_dict[_book_id]\n",
    "        author_sc_popularity_dict[str(_author).strip()] += _popularity\n",
    "\n",
    "author_gr_popularity_dict = defaultdict(int)\n",
    "for _book_id, _popularity in book_gr_popularity_dict.items():\n",
    "    if _book_id in book_title_dict:\n",
    "        _author = book_author_dict[_book_id]\n",
    "        author_gr_popularity_dict[str(_author).strip()] += _popularity\n",
    "\n",
    "len(author_sc_popularity_dict), len(author_gr_popularity_dict)"
   ]
  },
  {
   "cell_type": "code",
   "execution_count": 52,
   "metadata": {},
   "outputs": [
    {
     "data": {
      "text/plain": [
       "(1626, 1626)"
      ]
     },
     "execution_count": 52,
     "metadata": {},
     "output_type": "execute_result"
    }
   ],
   "source": [
    "author_sc_rank_dict = {}\n",
    "i = 0\n",
    "previous_popularity = None\n",
    "for _author, _popularity in sorted(author_sc_popularity_dict.items(), key=lambda x: x[1], reverse=True):\n",
    "    # if _book_id in book_gr_popularity_dict:\n",
    "    if _popularity != previous_popularity:\n",
    "        i += 1\n",
    "    author_sc_rank_dict[_author] = i\n",
    "    previous_popularity = _popularity\n",
    "\n",
    "author_sc_rank_dict = {_author: _rank/float(i) for _author, _rank in author_sc_rank_dict.items()}\n",
    "\n",
    "author_gr_rank_dict = {}\n",
    "i = 1\n",
    "for _author, _popularity in sorted(author_gr_popularity_dict.items(), key=lambda x: x[1], reverse=True):\n",
    "    if _popularity != previous_popularity:\n",
    "        i += 1\n",
    "    author_gr_rank_dict[_author] = i\n",
    "    previous_popularity = _popularity\n",
    "\n",
    "author_gr_rank_dict = {_author: _rank/float(i) for _author, _rank in author_gr_rank_dict.items()}\n",
    "\n",
    "len(author_sc_rank_dict), len(author_gr_rank_dict)"
   ]
  },
  {
   "cell_type": "code",
   "execution_count": 53,
   "metadata": {},
   "outputs": [
    {
     "data": {
      "text/plain": [
       "1626"
      ]
     },
     "execution_count": 53,
     "metadata": {},
     "output_type": "execute_result"
    }
   ],
   "source": [
    "author_change_in_rank_dict = {}\n",
    "for _author, _sc_rank in author_sc_rank_dict.items():\n",
    "    _change_in_rank = _sc_rank - author_gr_rank_dict[_author]\n",
    "    author_change_in_rank_dict[_author] = _change_in_rank\n",
    "len(author_change_in_rank_dict)"
   ]
  },
  {
   "cell_type": "code",
   "execution_count": 54,
   "metadata": {},
   "outputs": [
    {
     "name": "stdout",
     "output_type": "stream",
     "text": [
      "0.94 //// Bram Stoker\n",
      "0.94 //// Louisa May Alcott\n",
      "0.94 //// Vladimir Nabokov\n",
      "0.91 //// Miguel de Cervantes\n",
      "0.91 //// L. Frank Baum\n",
      "0.88 //// Erich Maria Remarque\n",
      "0.88 //// Homer\n",
      "0.87 //// Gustave Flaubert\n",
      "0.87 //// Harriet Beecher Stowe\n",
      "0.86 //// Leo Tolstoy\n",
      "...\t ...\n",
      "-0.46 //// Havelock Ellis\n",
      "-0.47 //// Kay Boyle\n",
      "-0.48 //// Maurice Baring\n",
      "-0.5 //// Margaret Kennedy\n",
      "-0.52 //// Hugh Walpole\n",
      "-0.57 //// Stephen Spender\n",
      "-0.62 //// Charles Morgan\n",
      "-0.62 //// George Moore\n",
      "-0.7 //// Dorothy M. Richardson\n",
      "-0.73 //// Compton Mackenzie\n"
     ]
    }
   ],
   "source": [
    "for _author, _change_in_rank in sorted(author_change_in_rank_dict.items(), key=lambda x: x[1], reverse=True)[:10]:\n",
    "    _author = convert_string_to_author(_author)\n",
    "    print(round(_change_in_rank, 2), '////', _author)\n",
    "print('...\\t ...')\n",
    "for _author, _change_in_rank in sorted(author_change_in_rank_dict.items(), key=lambda x: x[1], reverse=True)[-10:]:\n",
    "    _author = convert_string_to_author(_author)\n",
    "    print(round(_change_in_rank, 2), '////', _author)"
   ]
  },
  {
   "cell_type": "markdown",
   "metadata": {},
   "source": [
    "<br><br><br><br>\n",
    "\n",
    "# Compare top 100 books"
   ]
  },
  {
   "cell_type": "code",
   "execution_count": 55,
   "metadata": {},
   "outputs": [
    {
     "data": {
      "text/plain": [
       "18"
      ]
     },
     "execution_count": 55,
     "metadata": {},
     "output_type": "execute_result"
    }
   ],
   "source": [
    "top_100_sc = [_book_id for _book_id, _popularity in sorted(book_sc_rank_dict.items(), key=lambda x: x[1], reverse=False)[:100]]\n",
    "top_100_gr = [_book_id for _book_id, _popularity in sorted(book_gr_rank_dict.items(), key=lambda x: x[1], reverse=False)[:100]]\n",
    "\n",
    "top_100_overlap = [_book_id for _book_id in top_100_gr if _book_id in top_100_sc]\n",
    "\n",
    "len(top_100_overlap)"
   ]
  },
  {
   "cell_type": "code",
   "execution_count": 56,
   "metadata": {},
   "outputs": [
    {
     "name": "stdout",
     "output_type": "stream",
     "text": [
      "Wuthering Heights by Emily Brontë\n",
      "Brave New World by Aldous Huxley\n",
      "Rebecca by Daphne Du Maurier\n",
      "Gone with the Wind by Margaret Mitchell\n",
      "The Grapes of Wrath by John Steinbeck\n",
      "Moby-Dick or, the Whale by Herman Melville\n",
      "The Sun Also Rises by Ernest Hemingway\n",
      "Mrs. Dalloway by Virginia Woolf\n",
      "A Farewell to Arms by Ernest Hemingway\n",
      "The Good Earth by Pearl S. Buck\n",
      "Tess of the D'Urbervilles by Thomas Hardy\n",
      "To the Lighthouse by Virginia Woolf\n",
      "As I Lay Dying by William Faulkner\n",
      "The Sound and the Fury by William Faulkner\n",
      "Ulysses by James Joyce\n",
      "Dubliners by James Joyce\n",
      "A Portrait of the Artist as a Young Man by James Joyce\n",
      "Lady Chatterley's Lover: By D. H. Lawrence : Illustrated by D. H. Lawrence\n"
     ]
    }
   ],
   "source": [
    "for _book_id in top_100_overlap:\n",
    "    _author = str(book_author_dict[_book_id])\n",
    "    if ',' in _author:\n",
    "        _author = _author.split(',')[1].strip() + ' ' + _author.split(',')[0].strip()\n",
    "    print(book_title_dict[_book_id] + ' by ' + _author)"
   ]
  },
  {
   "cell_type": "code",
   "execution_count": 57,
   "metadata": {},
   "outputs": [
    {
     "data": {
      "text/plain": [
       "192"
      ]
     },
     "execution_count": 57,
     "metadata": {},
     "output_type": "execute_result"
    }
   ],
   "source": [
    "dicts_to_plot = []\n",
    "for _book_id in top_100_gr:\n",
    "    if _book_id in book_year_dict:\n",
    "        dicts_to_plot.append({'Book ID': _book_id,\n",
    "                              'Title': book_title_dict[_book_id],\n",
    "                              'Author': book_author_dict[_book_id],\n",
    "                              'Goodreads Rank': book_gr_rank_dict[_book_id],\n",
    "                              'SC Rank': _rank_sc,\n",
    "                              'Top 100': 'Goodreads',\n",
    "                              'Publication Year': book_year_dict[_book_id]})\n",
    "for _book_id in top_100_sc:\n",
    "    if _book_id in book_year_dict:\n",
    "        dicts_to_plot.append({'Book ID': _book_id,\n",
    "                              'Title': book_title_dict[_book_id],\n",
    "                              'Author': book_author_dict[_book_id],\n",
    "                              'Goodreads Rank': book_gr_rank_dict[_book_id],\n",
    "                              'SC Rank': _rank_sc,\n",
    "                              'Top 100': 'SC',\n",
    "                              'Publication Year': book_year_dict[_book_id]})\n",
    "\n",
    "df_to_plot = pd.DataFrame(dicts_to_plot)\n",
    "len(df_to_plot.index)"
   ]
  },
  {
   "cell_type": "code",
   "execution_count": 58,
   "metadata": {},
   "outputs": [
    {
     "data": {
      "image/png": "[encoded data removed]",
      "text/plain": [
       "<Figure size 1200x200 with 1 Axes>"
      ]
     },
     "metadata": {},
     "output_type": "display_data"
    }
   ],
   "source": [
    "plt.figure(figsize=(12,2))\n",
    "sns.boxplot(data=df_to_plot,\n",
    "            y='Top 100',\n",
    "            x='Publication Year',\n",
    "            color='skyblue')\n",
    "sns.despine()\n",
    "plt.savefig(output_directory_path + '/box.top_100_x_year.png', bbox_inches='tight', dpi=300)"
   ]
  },
  {
   "cell_type": "code",
   "execution_count": 59,
   "metadata": {},
   "outputs": [
    {
     "data": {
      "image/png": "[encoded data removed]",
      "text/plain": [
       "<Figure size 600x200 with 1 Axes>"
      ]
     },
     "metadata": {},
     "output_type": "display_data"
    }
   ],
   "source": [
    "plt.figure(figsize=(6,2))\n",
    "sns.boxplot(data=df_to_plot[df_to_plot['Publication Year'] > 1600],\n",
    "            y='Top 100',\n",
    "            x='Publication Year',\n",
    "            color='skyblue')\n",
    "sns.despine()\n",
    "plt.savefig(output_directory_path + '/box.top_100_x_year.truncated.png', bbox_inches='tight', dpi=300)"
   ]
  },
  {
   "cell_type": "code",
   "execution_count": 60,
   "metadata": {},
   "outputs": [
    {
     "name": "stdout",
     "output_type": "stream",
     "text": [
      "1847 SC Wuthering Heights Emily Brontë\n",
      "1851 SC Moby-Dick or, the Whale Herman Melville\n",
      "1879 SC The Egoist George Meredith\n",
      "1891 SC Tess of the D'Urbervilles Thomas Hardy\n",
      "1894 SC Esther Waters George Moore\n",
      "1895 SC Jude the Obscure Thomas Hardy\n",
      "1898 SC The Plays of Bernard Shaw: Plays Pleasant and Unpleasant: Vol. 1. Unpleasant: Widowers' Houses, The Philanderer, Mrs Warren's Profession George Bernard Shaw\n",
      "1900 SC Sister Carrie Theodore Dreiser\n",
      "1900 SC Lord Jim Joseph Conrad\n",
      "1903 SC The Way of All Flesh Samuel Butler\n",
      "1909 SC Three Lives Gertrude Stein\n",
      "1910 SC Studies in the Psychology of Sex Havelock Ellis\n",
      "1910 SC Howards End E. M. Forster\n",
      "1912 SC The Crock of Gold (Revised Edition) James Stephens\n",
      "1913 SC Sons and Lovers D. H. Lawrence\n",
      "1914 SC Exiles James Joyce\n",
      "1914 SC Dubliners James Joyce\n",
      "1915 SC Of Human Bondage W. Somerset Maugham\n",
      "1915 SC Pointed Roofs Dorothy M. Richardson\n",
      "1916 SC Pilgrimage: Backwater Dorothy M. Richardson\n",
      "1916 SC Pointed Roofs, Backwater, Honeycomb Dorothy M. Richardson\n",
      "1916 SC A Portrait of the Artist as a Young Man James Joyce\n",
      "1917 SC South Wind Norman Douglas\n",
      "1918 SC Eminent Victorians Giles Lytton Strachey\n",
      "1919 SC The Tunnel: Pilgrimage, Volume 4 Dorothy M. Richardson\n",
      "1920 SC Main Street: The Story of Carol Kennicott Sinclair Lewis\n",
      "1920 SC Bliss & Other Stories Katherine Mansfield\n",
      "1920 SC Women in Love by D.H. Lawrence D. H. Lawrence\n",
      "1921 SC The Forsyte Saga John Galsworthy\n",
      "1921 SC Three Soldiers John Dos Passos\n",
      "1921 SC Crome Yellow Aldous Huxley\n",
      "1922 SC Babbitt Sinclair Lewis\n",
      "1922 SC Jacob's Room by Virginia Woolf Virginia Woolf\n",
      "1922 SC The Garden Party and Other Stories Katherine Mansfield\n",
      "1922 SC Ulysses James Joyce\n",
      "1922 SC Lady into Fox David Garnett\n",
      "1923 SC Lady Chatterley's Lover: By D. H. Lawrence : Illustrated D. H. Lawrence\n",
      "1923 SC Antic Hay Aldous Huxley\n",
      "1924 SC A Passage to India by E. M. Forster \"The Annotated Classic Edition\" E. M. Forster\n",
      "1924 SC The Constant Nymph Margaret Kennedy\n",
      "1925 SC Mrs. Dalloway Virginia Woolf\n",
      "1925 SC Manhattan Transfer John Dos Passos\n",
      "1925 SC Those Barren Leaves (Coleman Dowell Literature Series) Aldous Huxley\n",
      "1925 SC The Painted Veil W. Somerset Maugham\n",
      "1926 SC The Sun Also Rises Ernest Hemingway\n",
      "1926 SC The Cabala Thornton Wilder\n",
      "1927 SC Dusty Answer Rosamond Lehmann\n",
      "1927 SC Men Without Women Ernest Hemingway\n",
      "1927 SC My Life Isadora Duncan\n",
      "1927 SC To the Lighthouse Virginia Woolf\n",
      "1928 SC ELIZABETH AND ESSEX: a tragic history Giles Lytton Strachey\n",
      "1928 SC Point Counter Point Aldous Huxley\n",
      "1928 SC Orlando: A Biography Virginia Woolf Virginia Woolf\n",
      "1929 SC The Sound and the Fury William Faulkner\n",
      "1929 SC Death of a Hero Richard Aldington\n",
      "1929 SC A High Wind in Jamaica Richard Hughes\n",
      "1929 SC A Farewell to Arms Ernest Hemingway\n",
      "1930 SC As I Lay Dying William Faulkner\n",
      "1930 SC Flowering Judas and Other Stories Katherine Anne Porter\n",
      "1930 SC A Note in Music Rosamond Lehmann\n",
      "1930 SC The 42nd Parallel John Dos Passos\n",
      "1930 SC Plagued by the Nightingale Kay Boyle\n",
      "1930 SC Tobit Transplanted Stella Benson\n",
      "1931 SC The Waves Virginia Woolf\n",
      "1931 SC Axel's Castle: A Study in the Imaginative Literature of 1870-1930 Edmund Wilson\n",
      "1931 SC Sanctuary William Faulkner\n",
      "1931 SC Juan in America Eric Linklater\n",
      "1931 SC The Good Earth Pearl S. Buck\n",
      "1932 SC Brave New World Aldous Huxley\n",
      "1932 SC The Fountain Charles Morgan\n",
      "1932 SC Invitation to the Waltz Rosamond Lehmann\n",
      "1932 SC Death in the Afternoon Ernest Hemingway\n",
      "1933 SC Winner Take Nothing Ernest Hemingway\n",
      "1934 SC Burmese Days George Orwell\n",
      "1934 SC Experiment in Autobiography: Discoveries & Conclusions of a Very Ordinary Brain (Since 1866) H. G. Wells\n",
      "1934 SC The Daring Young Man on the Flying Trapeze and Other Stories William Saroyan\n",
      "1935 SC Mr Norris Changes Trains Christopher Isherwood\n",
      "1935 SC It Can't Happen Here Sinclair Lewis\n",
      "1935 SC The House in Paris Elizabeth Bowen\n",
      "1935 SC Heaven's My Destination Thornton Wilder\n",
      "1935 SC Gaudy Night Dorothy Sayers\n",
      "1936 SC Gone with the Wind Margaret Mitchell\n",
      "1936 SC Sparkenbroke Charles Morgan\n",
      "1936 SC South Riding An English Landscape Winifred Holtby\n",
      "1936 SC The Weather in the Streets Rosamond Lehmann\n",
      "1936 SC Eyeless in Gaza Aldous Huxley\n",
      "1937 SC To Have and Have Not Ernest Hemingway\n",
      "1937 SC Busman's Honeymoon Dorothy Sayers\n",
      "1937 SC Let Your Mind Alone! And Other More or Less Inspirational Pieces James Thurber\n",
      "1937 SC The Citadel A. J. Cronin\n",
      "1937 SC The Rains Came Louis Bromfield\n",
      "1937 SC The Years Virginia Woolf\n",
      "1937 SC Enchanter's Nightshade Ann Bridge\n",
      "1938 SC The Death of the Heart Elizabeth Bowen\n",
      "1938 SC Rebecca Daphne Du Maurier\n",
      "1939 SC The Grapes of Wrath John Steinbeck\n"
     ]
    }
   ],
   "source": [
    "for i, r in df_to_plot[df_to_plot['Top 100'] == 'SC'].sort_values(by='Publication Year').iterrows():\n",
    "    print(r['Publication Year'], r['Top 100'], r['Title'], r['Author'])"
   ]
  },
  {
   "cell_type": "code",
   "execution_count": 61,
   "metadata": {},
   "outputs": [
    {
     "name": "stdout",
     "output_type": "stream",
     "text": [
      "600 Goodreads The Sayings of Lao Tz Lionel Giles\n",
      "800 Goodreads The Odyssey Homer\n",
      "900 Goodreads Beowulf nan\n",
      "1595 Goodreads A Midsummer Night's Dream William Shakespeare\n",
      "1599 Goodreads Julius Caesar William Shakespeare\n",
      "1603 Goodreads Hamlet William Shakespeare\n",
      "1605 Goodreads King Lear William Shakespeare\n",
      "1605 Goodreads Don Quixote Miguel de Cervantes\n",
      "1605 Goodreads The History of Don Quixote de la Mancha (Great Books of the Western World, #29 - Cervantes) Miguel de Cervantes\n",
      "1606 Goodreads Macbeth William Shakespeare\n",
      "1611 Goodreads The Tempest William Shakespeare\n",
      "1611 Goodreads The Holy Bible: King James Version nan\n",
      "1719 Goodreads Robinson Crusoe Daniel Defoe\n",
      "1726 Goodreads Gulliver's Travels: Travels into Several Remote Nations of the World. Jonathan Swift\n",
      "1759 Goodreads Candide Voltaire\n",
      "1811 Goodreads Sense and Sensibility Jane Austen\n",
      "1813 Goodreads Pride and Prejudice Jane Austen\n",
      "1814 Goodreads Mansfield Park Jane Austen\n",
      "1815 Goodreads Emma Jane Austen\n",
      "1817 Goodreads Persuasion Jane Austen\n",
      "1818 Goodreads Northanger Abbey Jane Austen\n",
      "1831 Goodreads Notre-Dame de Paris Victor Hugo\n",
      "1838 Goodreads Oliver Twist Charles Dickens\n",
      "1846 Goodreads Jane Eyre Charlotte Brontë\n",
      "1847 Goodreads Wuthering Heights Emily Brontë\n",
      "1848 Goodreads The Tenant of Wildfell Hall Anne Brontë\n",
      "1850 Goodreads The Scarlet Letter Nathaniel Hawthorne\n",
      "1850 Goodreads David Copperfield Charles Dickens\n",
      "1851 Goodreads Moby-Dick or, the Whale Herman Melville\n",
      "1851 Goodreads Uncle Tom's Cabin Harriet Beecher Stowe\n",
      "1854 Goodreads Walden Henry David Thoreau\n",
      "1857 Goodreads Madame Bovary Gustave Flaubert\n",
      "1859 Goodreads The Woman in White Wilkie Collins\n",
      "1859 Goodreads A Tale of Two Cities Charles Dickens\n",
      "1860 Goodreads Great Expectations Charles Dickens\n",
      "1865 Goodreads War and Peace Leo Tolstoy\n",
      "1866 Goodreads Crime and Punishment Fyodor Dostoyevsky\n",
      "1868 Goodreads The Moonstone Wilkie Collins\n",
      "1869 Goodreads The Idiot Fyodor Dostoyevsky\n",
      "1871 Goodreads Alice's Adventures in Wonderland / Through the Looking-Glass Lewis Carroll\n",
      "1871 Goodreads Middlemarch George Eliot\n",
      "1874 Goodreads Far From the Madding Crowd Thomas Hardy\n",
      "1876 Goodreads The Adventures of Tom Sawyer Mark Twain\n",
      "1877 Goodreads Anna Karenina Leo Tolstoy\n",
      "1879 Goodreads The Brothers Karamazov Fyodor Dostoyevsky\n",
      "1880 Goodreads Little Women Louisa May Alcott\n",
      "1883 Goodreads Treasure Island Robert Louis Stevenson\n",
      "1884 Goodreads The Adventures of Huckleberry Finn Mark Twain\n",
      "1886 Goodreads The Strange Case of Dr. Jekyll and Mr. Hyde Robert Louis Stevenson\n",
      "1889 Goodreads Three Men in a Boat Jerome K. Jerome\n",
      "1890 Goodreads The Sign of Four Arthur Conan Doyle\n",
      "1890 Goodreads The Picture of Dorian Grey Oscar Wilde\n",
      "1891 Goodreads Tess of the D'Urbervilles Thomas Hardy\n",
      "1892 Goodreads The Adventures of Sherlock Holmes Arthur Conan Doyle\n",
      "1895 Goodreads The Importance of Being Earnest: A Trivial Comedy for Serious People Oscar Wilde\n",
      "1897 Goodreads Dracula Bram Stoker\n",
      "1897 Goodreads The Invisible Man H. G. Wells\n",
      "1898 Goodreads The Turn of the Screw Henry James\n",
      "1900 Goodreads The Wonderful Wizard of Oz L. Frank Baum\n",
      "1902 Goodreads The Hound of the Baskervilles Arthur Conan Doyle\n",
      "1903 Goodreads The Call of the Wild Jack London\n",
      "1904 Goodreads Peter Pan: the Story of Peter and Wendy J. M. Barrie\n",
      "1905 Goodreads The Jungle Upton Sinclair\n",
      "1905 Goodreads The House of Mirth Edith Wharton\n",
      "1906 Goodreads White Fang Jack London\n",
      "1908 Goodreads A Room with a View E. M. Forster\n",
      "1908 Goodreads The Wind in the Willows Kenneth Grahame\n",
      "1911 Goodreads Ethan Frome Edith Wharton\n",
      "1914 Goodreads Dubliners James Joyce\n",
      "1916 Goodreads A Portrait of the Artist as a Young Man James Joyce\n",
      "1918 Goodreads My Ántonia Willa Cather\n",
      "1920 Goodreads The Age of Innocence Edith Wharton\n",
      "1920 Goodreads The Mysterious Affair at Styles: A Hercule Poirot Mystery Agatha Christie\n",
      "1922 Goodreads Ulysses James Joyce\n",
      "1923 Goodreads Lady Chatterley's Lover: By D. H. Lawrence : Illustrated D. H. Lawrence\n",
      "1925 Goodreads The Great Gatsby F. Scott Fitzgerald\n",
      "1925 Goodreads Mrs. Dalloway Virginia Woolf\n",
      "1925 Goodreads The Trial Franz Kafka\n",
      "1926 Goodreads The Murder of Roger Ackroyd Agatha Christie\n",
      "1926 Goodreads The Sun Also Rises Ernest Hemingway\n",
      "1927 Goodreads To the Lighthouse Virginia Woolf\n",
      "1929 Goodreads All Quiet on the Western Front Erich Maria Remarque\n",
      "1929 Goodreads The Sound and the Fury William Faulkner\n",
      "1929 Goodreads A Room of One's Own Virginia Woolf\n",
      "1929 Goodreads A Farewell to Arms Ernest Hemingway\n",
      "1929 Goodreads The Maltese Falcon Dashiell Hammett\n",
      "1930 Goodreads As I Lay Dying William Faulkner\n",
      "1931 Goodreads The Good Earth Pearl S. Buck\n",
      "1932 Goodreads Brave New World Aldous Huxley\n",
      "1934 Goodreads Tender Is the Night F. Scott Fitzgerald\n",
      "1936 Goodreads Gone with the Wind Margaret Mitchell\n",
      "1936 Goodreads The A.B.C. Murders Agatha Christie\n",
      "1937 Goodreads Death on the Nile Agatha Christie\n",
      "1937 Goodreads Of Mice and Men John Steinbeck\n",
      "1938 Goodreads Rebecca Daphne Du Maurier\n",
      "1939 Goodreads The Grapes of Wrath John Steinbeck\n"
     ]
    }
   ],
   "source": [
    "for i, r in df_to_plot[df_to_plot['Top 100'] == 'Goodreads'].sort_values(by='Publication Year').iterrows():\n",
    "    print(r['Publication Year'], r['Top 100'], r['Title'], r['Author'])"
   ]
  },
  {
   "cell_type": "markdown",
   "metadata": {},
   "source": [
    "<br><br><br><br>\n",
    "\n",
    "# Compare most popular authors"
   ]
  },
  {
   "cell_type": "code",
   "execution_count": 62,
   "metadata": {},
   "outputs": [
    {
     "name": "stdout",
     "output_type": "stream",
     "text": [
      "D. H. Lawrence //// 300\n",
      "Virginia Woolf //// 249\n",
      "Aldous Huxley //// 235\n",
      "Dorothy M. Richardson //// 198\n",
      "W. Somerset Maugham //// 187\n",
      "James Joyce //// 182\n",
      "Ernest Hemingway //// 182\n",
      "John Galsworthy //// 180\n",
      "Henry James //// 169\n",
      "William Faulkner //// 163\n",
      "...\t ...\n",
      "Robin Fedden //// 0\n",
      "Sheila Cousins //// 0\n",
      "Xiaoxiao Sheng //// 0\n",
      "Denis de Rougemont //// 0\n",
      "Denys Kilham Roberts //// 0\n",
      "Federico García Lorca //// 0\n",
      "Jean Paris //// 0\n",
      "Milovan Djilas //// 0\n",
      "Marguerite Duras //// 0\n",
      "Georg Wilhelm Friedrich Hegel //// 0\n"
     ]
    }
   ],
   "source": [
    "for _author, _popularity in sorted(author_sc_popularity_dict.items(), key=lambda x: x[1], reverse=True)[:10]:\n",
    "    _author = convert_string_to_author(_author)\n",
    "    print(_author, '////', _popularity)\n",
    "print('...\\t ...')\n",
    "for _author, _popularity in sorted(author_sc_popularity_dict.items(), key=lambda x: x[1], reverse=True)[-10:]:\n",
    "    _author = convert_string_to_author(_author)\n",
    "    print(_author, '////', _popularity)"
   ]
  },
  {
   "cell_type": "code",
   "execution_count": 63,
   "metadata": {},
   "outputs": [
    {
     "name": "stdout",
     "output_type": "stream",
     "text": [
      "Jane Austen //// 168543\n",
      "Agatha Christie //// 125986\n",
      "F. Scott Fitzgerald //// 84789\n",
      "Charles Dickens //// 69609\n",
      "John Steinbeck //// 60344\n",
      "William Shakespeare //// 59935\n",
      "Oscar Wilde //// 53992\n",
      "Charlotte Brontë //// 53796\n",
      "Fyodor Dostoyevsky //// 49215\n",
      "Emily Brontë //// 42505\n",
      "...\t ...\n",
      "Gunnar Gunnarsson //// 0\n",
      "E. V. Gatenby //// 0\n",
      "S. P. B. Mais //// 0\n",
      "Marcel Aymé //// 0\n",
      "Pierre de Lanux //// 0\n",
      "Bernard Berenson //// 0\n",
      "Maud Cruttwell //// 0\n",
      "Richard Paget //// 0\n",
      "Dave Marlowe //// 0\n",
      "Dante Gabriel Rossetti //// 0\n"
     ]
    }
   ],
   "source": [
    "for _author, _popularity in sorted(author_gr_popularity_dict.items(), key=lambda x: x[1], reverse=True)[:10]:\n",
    "    _author = convert_string_to_author(_author)\n",
    "    print(_author, '////', _popularity)\n",
    "print('...\\t ...')\n",
    "for _author, _popularity in sorted(author_gr_popularity_dict.items(), key=lambda x: x[1], reverse=True)[-10:]:\n",
    "    _author = convert_string_to_author(_author)\n",
    "    print(_author, '////', _popularity)"
   ]
  },
  {
   "cell_type": "code",
   "execution_count": 64,
   "metadata": {},
   "outputs": [
    {
     "data": {
      "text/plain": [
       "1626"
      ]
     },
     "execution_count": 64,
     "metadata": {},
     "output_type": "execute_result"
    }
   ],
   "source": [
    "dicts_to_plot = []\n",
    "for _author, _rank_sc in author_sc_rank_dict.items():\n",
    "    dicts_to_plot.append({'Author': convert_string_to_author(_author),\n",
    "                          'Goodreads Rank': author_gr_rank_dict[_author],\n",
    "                          'S&C Rank': _rank_sc})\n",
    "df_to_plot = pd.DataFrame(dicts_to_plot)\n",
    "len(df_to_plot.index)"
   ]
  },
  {
   "cell_type": "code",
   "execution_count": 65,
   "metadata": {},
   "outputs": [
    {
     "data": {
      "text/html": [
       "<div>\n",
       "<style scoped>\n",
       "    .dataframe tbody tr th:only-of-type {\n",
       "        vertical-align: middle;\n",
       "    }\n",
       "\n",
       "    .dataframe tbody tr th {\n",
       "        vertical-align: top;\n",
       "    }\n",
       "\n",
       "    .dataframe thead th {\n",
       "        text-align: right;\n",
       "    }\n",
       "</style>\n",
       "<table border=\"1\" class=\"dataframe\">\n",
       "  <thead>\n",
       "    <tr style=\"text-align: right;\">\n",
       "      <th></th>\n",
       "      <th>Author</th>\n",
       "      <th>Goodreads Rank</th>\n",
       "      <th>S&amp;C Rank</th>\n",
       "    </tr>\n",
       "  </thead>\n",
       "  <tbody>\n",
       "    <tr>\n",
       "      <th>165</th>\n",
       "      <td>Laurence Sterne</td>\n",
       "      <td>0.281928</td>\n",
       "      <td>0.780952</td>\n",
       "    </tr>\n",
       "    <tr>\n",
       "      <th>728</th>\n",
       "      <td>Louisa May Alcott</td>\n",
       "      <td>0.033735</td>\n",
       "      <td>0.971429</td>\n",
       "    </tr>\n",
       "    <tr>\n",
       "      <th>324</th>\n",
       "      <td>Philip MacDonald</td>\n",
       "      <td>0.954217</td>\n",
       "      <td>0.895238</td>\n",
       "    </tr>\n",
       "  </tbody>\n",
       "</table>\n",
       "</div>"
      ],
      "text/plain": [
       "                Author  Goodreads Rank  S&C Rank\n",
       "165    Laurence Sterne        0.281928  0.780952\n",
       "728  Louisa May Alcott        0.033735  0.971429\n",
       "324   Philip MacDonald        0.954217  0.895238"
      ]
     },
     "execution_count": 65,
     "metadata": {},
     "output_type": "execute_result"
    }
   ],
   "source": [
    "df_to_plot.sample(3)"
   ]
  },
  {
   "cell_type": "code",
   "execution_count": 66,
   "metadata": {},
   "outputs": [
    {
     "data": {
      "image/png": "[encoded data removed]",
      "text/plain": [
       "<Figure size 700x700 with 1 Axes>"
      ]
     },
     "metadata": {},
     "output_type": "display_data"
    }
   ],
   "source": [
    "plt.figure(figsize=(7,7))\n",
    "sns.scatterplot(data=df_to_plot,\n",
    "                x='S&C Rank',\n",
    "                y='Goodreads Rank',\n",
    "                color='skyblue')\n",
    "sns.despine()\n",
    "\n",
    "# for i, r in df_to_plot.iterrows():\n",
    "#     _author = r['Author']\n",
    "#     if ',' in _author:\n",
    "#         _author = _author.split(',')[1] + ' ' + _author.split(',')[0]\n",
    "#     if (r['S&C Rank'] < 0.4 and r['Goodreads Rank'] > 0.8) or (r['S&C Rank'] > 0.9 and r['Goodreads Rank'] < 0.1) :\n",
    "#         plt.text(x=r['S&C Rank'], y=r['Goodreads Rank'], s=_author, fontdict=dict(color='black', alpha=0.5, size=12))\n",
    "\n",
    "\n",
    "plt.savefig(output_directory_path + '/scatter.sc_rank_x_gr_rank.authors.png', bbox_inches='tight')"
   ]
  },
  {
   "cell_type": "code",
   "execution_count": 67,
   "metadata": {},
   "outputs": [
    {
     "data": {
      "text/plain": [
       "PearsonRResult(statistic=0.511420813700641, pvalue=4.604512198728344e-109)"
      ]
     },
     "execution_count": 67,
     "metadata": {},
     "output_type": "execute_result"
    }
   ],
   "source": [
    "pearsonr(df_to_plot['S&C Rank'], df_to_plot['Goodreads Rank'])"
   ]
  },
  {
   "cell_type": "markdown",
   "metadata": {},
   "source": [
    "# Interactive Author Plot"
   ]
  },
  {
   "cell_type": "markdown",
   "metadata": {},
   "source": [
    "Install, import, initialize Chart Studio for exporting interactive plot"
   ]
  },
  {
   "cell_type": "code",
   "execution_count": null,
   "metadata": {},
   "outputs": [],
   "source": [
    "#!pip install chart-studio"
   ]
  },
  {
   "cell_type": "code",
   "execution_count": 81,
   "metadata": {},
   "outputs": [],
   "source": [
    "import chart_studio\n",
    "import chart_studio.plotly as py\n",
    "import chart_studio.tools as tls\n",
    "# import api key\n",
    "import config_secrets\n",
    "\n",
    "username= config_secrets.chartstudio_username\n",
    "api_key=  config_secrets.chartstudio_api_key\n",
    "chart_studio.tools.set_credentials_file(username=username,\n",
    "                                        api_key=api_key)\n",
    "\n"
   ]
  },
  {
   "cell_type": "code",
   "execution_count": 78,
   "metadata": {},
   "outputs": [
    {
     "data": {
      "text/plain": [
       "4454"
      ]
     },
     "execution_count": 78,
     "metadata": {},
     "output_type": "execute_result"
    }
   ],
   "source": [
    "dicts_to_plot = []\n",
    "for _book_id, _rank_sc in book_sc_rank_dict.items():\n",
    "    dicts_to_plot.append({'Book ID': _book_id,\n",
    "                          'Title': book_title_dict[_book_id],\n",
    "                          'Author': book_author_dict[_book_id],\n",
    "                          'Goodreads Rank': book_gr_rank_dict[_book_id],\n",
    "                          'SC Rank': _rank_sc,\n",
    "                          'Goodreads Popularity': book_gr_popularity_dict[_book_id],\n",
    "                          'SC Popularity': book_sc_popularity_dict[_book_id]})\n",
    "books_df_to_plot = pd.DataFrame(dicts_to_plot)\n",
    "len(books_df_to_plot.index)"
   ]
  },
  {
   "cell_type": "code",
   "execution_count": 79,
   "metadata": {},
   "outputs": [
    {
     "data": {
      "text/plain": [
       "1626"
      ]
     },
     "execution_count": 79,
     "metadata": {},
     "output_type": "execute_result"
    }
   ],
   "source": [
    "dicts_to_plot = []\n",
    "for _author, _rank_sc in author_sc_rank_dict.items():\n",
    "    dicts_to_plot.append({'Author': convert_string_to_author(_author),\n",
    "                          'Goodreads Rank': author_gr_rank_dict[_author],\n",
    "                          'Total Goodreads Reviews': author_gr_popularity_dict[_author],\n",
    "                          'S&C Rank': _rank_sc,\n",
    "                          'Total S&C Borrows': author_sc_popularity_dict[_author],\n",
    "                          'Number of Books': books_df_to_plot[books_df_to_plot['Author'] == _author]['Book ID'].count()})\n",
    "df_to_plot = pd.DataFrame(dicts_to_plot)\n",
    "len(df_to_plot.index)"
   ]
  },
  {
   "cell_type": "code",
   "execution_count": 88,
   "metadata": {},
   "outputs": [
    {
     "data": {
      "application/vnd.plotly.v1+json": {
       "config": {
        "displayModeBar": true,
        "displaylogo": false,
        "modeBarButtonsToRemove": [
         "lasso2d",
         "zoom2d",
         "hoverCompareCartesian",
         "hoverClosestCartesian",
         "toggleSpikelines",
         "autoScale2d",
         "select2d"
        ],
        "plotlyServerURL": "https://plotly.com",
        "scrollZoom": true
       },
       "data": [
        {
         "customdata": [
          [
           "D. H. Lawrence",
           10874,
           300
          ],
          [
           "Virginia Woolf",
           41577,
           249
          ],
          [
           "Aldous Huxley",
           37177,
           235
          ],
          [
           "Dorothy M. Richardson",
           131,
           198
          ],
          [
           "W. Somerset Maugham",
           10769,
           187
          ],
          [
           "James Joyce",
           20892,
           182
          ],
          [
           "Ernest Hemingway",
           29871,
           182
          ],
          [
           "John Galsworthy",
           1792,
           180
          ],
          [
           "Henry James",
           20725,
           169
          ],
          [
           "William Faulkner",
           20139,
           163
          ],
          [
           "E. M. Forster",
           14797,
           157
          ],
          [
           "nan",
           14031,
           156
          ],
          [
           "George Moore",
           133,
           154
          ],
          [
           "Arnold Bennett",
           1024,
           151
          ],
          [
           "Sinclair Lewis",
           6470,
           151
          ],
          [
           "Compton Mackenzie",
           60,
           143
          ],
          [
           "H. G. Wells",
           9276,
           140
          ],
          [
           "George Bernard Shaw",
           3744,
           136
          ],
          [
           "Hugh Walpole",
           204,
           136
          ],
          [
           "William Butler Yeats",
           859,
           129
          ],
          [
           "Dorothy Sayers",
           15058,
           128
          ],
          [
           "Joseph Conrad",
           5563,
           122
          ],
          [
           "Katherine Mansfield",
           1091,
           120
          ],
          [
           "John Dos Passos",
           1374,
           117
          ],
          [
           "G. K. Chesterton",
           10284,
           111
          ],
          [
           "Agatha Christie",
           125986,
           111
          ],
          [
           "Pearl S. Buck",
           11503,
           105
          ],
          [
           "T. S. Eliot",
           2174,
           103
          ],
          [
           "Theodore Dreiser",
           2079,
           102
          ],
          [
           "Erle Stanley Gardner",
           1054,
           100
          ],
          [
           "Thomas Hardy",
           30192,
           96
          ],
          [
           "Rosamond Lehmann",
           363,
           93
          ],
          [
           "Margaret Kennedy",
           103,
           89
          ],
          [
           "Sherwood Anderson",
           2600,
           83
          ],
          [
           "Eugene O'Neill",
           619,
           83
          ],
          [
           "Willa Cather",
           14769,
           82
          ],
          [
           "Mazo De la Roche",
           239,
           81
          ],
          [
           "George Meredith",
           177,
           79
          ],
          [
           "James Stephens",
           214,
           79
          ],
          [
           "Giles Lytton Strachey",
           200,
           78
          ],
          [
           "Christopher Isherwood",
           1218,
           74
          ],
          [
           "Charles Morgan",
           15,
           71
          ],
          [
           "Rose Macaulay",
           133,
           70
          ],
          [
           "W. H. Auden",
           211,
           69
          ],
          [
           "E. M. Delafield",
           705,
           68
          ],
          [
           "Rudyard Kipling",
           9085,
           67
          ],
          [
           "Norman Douglas",
           92,
           66
          ],
          [
           "Louis Bromfield",
           89,
           65
          ],
          [
           "Kay Boyle",
           58,
           65
          ],
          [
           "Wyndham Lewis",
           78,
           63
          ],
          [
           "Thornton Wilder",
           4137,
           63
          ],
          [
           "Samuel Butler",
           875,
           61
          ],
          [
           "Stephen Spender",
           2,
           60
          ],
          [
           "S. S. Van Dine",
           477,
           59
          ],
          [
           "John Dickson Carr",
           305,
           59
          ],
          [
           "Edith Wharton",
           19450,
           58
          ],
          [
           "Anthony Trollope",
           2718,
           57
          ],
          [
           "P. G. Wodehouse",
           8312,
           57
          ],
          [
           "J. B. Priestley",
           201,
           57
          ],
          [
           "Gertrude Stein",
           1768,
           56
          ],
          [
           "Richard Aldington",
           69,
           56
          ],
          [
           "Elizabeth Bowen",
           899,
           56
          ],
          [
           "Maurice Baring",
           18,
           55
          ],
          [
           "Ann Bridge",
           79,
           54
          ],
          [
           "Francis Brett Young",
           46,
           53
          ],
          [
           "John Steinbeck",
           60344,
           52
          ],
          [
           "Charles Dickens",
           69609,
           51
          ],
          [
           "Havelock Ellis",
           9,
           51
          ],
          [
           "Clemence Dane",
           13,
           50
          ],
          [
           "A. J. Cronin",
           777,
           50
          ],
          [
           "George Orwell",
           8551,
           49
          ],
          [
           "David Garnett",
           225,
           48
          ],
          [
           "Ezra Pound",
           379,
           47
          ],
          [
           "Ford Madox Ford",
           1932,
           46
          ],
          [
           "Liam O'Flaherty",
           100,
           46
          ],
          [
           "Thomas Mann",
           6474,
           46
          ],
          [
           "Oscar Wilde",
           53992,
           45
          ],
          [
           "May Sinclair",
           170,
           45
          ],
          [
           "Robert Louis Stevenson",
           32256,
           44
          ],
          [
           "Waldo Frank",
           1,
           44
          ],
          [
           "W. H. Hudson",
           448,
           43
          ],
          [
           "Mary Borden",
           3,
           43
          ],
          [
           "Daphne Du Maurier",
           29996,
           43
          ],
          [
           "Edna Ferber",
           1242,
           42
          ],
          [
           "Vita Sackville-West",
           627,
           42
          ],
          [
           "Erskine Preston Caldwell",
           1131,
           42
          ],
          [
           "Frank Swinnerton",
           8,
           41
          ],
          [
           "John Cowper Powys",
           175,
           41
          ],
          [
           "Joseph Smith Fletcher",
           72,
           41
          ],
          [
           "Eric Linklater",
           33,
           41
          ],
          [
           "Fyodor Dostoyevsky",
           49215,
           40
          ],
          [
           "Sigmund Freud",
           2682,
           40
          ],
          [
           "Joseph Hergesheimer",
           16,
           40
          ],
          [
           "Herman Melville",
           18001,
           39
          ],
          [
           "Winifred Holtby",
           320,
           39
          ],
          [
           "Upton Sinclair",
           6954,
           38
          ],
          [
           "Walter De la Mare",
           110,
           38
          ],
          [
           "Rebecca West",
           797,
           38
          ],
          [
           "William Carlos Williams",
           247,
           38
          ],
          [
           "Fannie Hurst",
           69,
           38
          ],
          [
           "Evelyn Waugh",
           4366,
           38
          ],
          [
           "Bertrand Russell",
           2541,
           37
          ],
          [
           "Lord Dunsany",
           794,
           37
          ],
          [
           "C. Day Lewis",
           2,
           37
          ],
          [
           "William Makepeace Thackeray",
           4068,
           36
          ],
          [
           "Jane Austen",
           168543,
           35
          ],
          [
           "Mary Webb",
           618,
           34
          ],
          [
           "Carl Van Vechten",
           85,
           34
          ],
          [
           "William Saroyan",
           67,
           34
          ],
          [
           "Elizabeth von Arnim",
           3903,
           33
          ],
          [
           "Philip Gibbs",
           6,
           33
          ],
          [
           "John Middleton Murry",
           1,
           33
          ],
          [
           "Edmund Gosse",
           104,
           32
          ],
          [
           "John Millington Synge",
           390,
           32
          ],
          [
           "John Masefield",
           14,
           32
          ],
          [
           "Warwick Deeping",
           28,
           32
          ],
          [
           "Frank Harris",
           52,
           32
          ],
          [
           "Sheila Kaye-Smith",
           17,
           32
          ],
          [
           "Stella Benson",
           54,
           32
          ],
          [
           "Radclyffe Hall",
           943,
           32
          ],
          [
           "F. Scott Fitzgerald",
           84789,
           31
          ],
          [
           "Dorothy Canfield Fisher",
           244,
           31
          ],
          [
           "Theodore Francis Powys",
           70,
           31
          ],
          [
           "Freeman Wills Crofts",
           293,
           30
          ],
          [
           "A. P. Herbert",
           9,
           30
          ],
          [
           "Margaret Mitchell",
           20959,
           30
          ],
          [
           "John Buchan",
           577,
           29
          ],
          [
           "Robert Graves",
           3610,
           29
          ],
          [
           "J. J. Connington",
           74,
           29
          ],
          [
           "G. B. Stern",
           7,
           29
          ],
          [
           "John O'Hara",
           1179,
           29
          ],
          [
           "E. Phillips Oppenheim",
           37,
           28
          ],
          [
           "Rabindranath Tagore",
           1736,
           28
          ],
          [
           "Edith Sitwell",
           15,
           28
          ],
          [
           "Jakob Wassermann",
           71,
           28
          ],
          [
           "Michael Arlen",
           55,
           28
          ],
          [
           "Jerome K. Jerome",
           5899,
           27
          ],
          [
           "J. M. Barrie",
           12855,
           27
          ],
          [
           "Arthur Machen",
           1258,
           27
          ],
          [
           "H. L. Mencken",
           122,
           27
          ],
          [
           "Osbert Sitwell",
           9,
           27
          ],
          [
           "William Seabrook",
           48,
           27
          ],
          [
           "George Eliot",
           16981,
           26
          ],
          [
           "George Saintsbury",
           1,
           26
          ],
          [
           "George Robert Gissing",
           696,
           26
          ],
          [
           "James George Frazier",
           385,
           26
          ],
          [
           "George Santayana",
           50,
           26
          ],
          [
           "Christopher Morley",
           63,
           26
          ],
          [
           "Richard Hughes",
           990,
           26
          ],
          [
           "Seán Ó Faoláin",
           8,
           26
          ],
          [
           "Graham Greene",
           3964,
           26
          ],
          [
           "H. C. Bailey",
           14,
           26
          ],
          [
           "Tobias Smollett",
           366,
           25
          ],
          [
           "Fanny Burney",
           978,
           25
          ],
          [
           "Charlotte Brontë",
           53796,
           25
          ],
          [
           "Emily Brontë",
           42505,
           25
          ],
          [
           "Anton Chekhov",
           3251,
           25
          ],
          [
           "Marie Belloc Lowndes",
           351,
           25
          ],
          [
           "Walter Lionel George",
           1,
           25
          ],
          [
           "Katherine Anne Porter",
           543,
           25
          ],
          [
           "William Shakespeare",
           59935,
           24
          ],
          [
           "Thomas de Quincey",
           1315,
           24
          ],
          [
           "Walter Pater",
           61,
           24
          ],
          [
           "Mary Butts",
           24,
           24
          ],
          [
           "Frederic Prokosch",
           35,
           24
          ],
          [
           "Laurence Sterne",
           1934,
           23
          ],
          [
           "Nathaniel Hawthorne",
           18662,
           23
          ],
          [
           "Max Beerbohm",
           391,
           23
          ],
          [
           "Ludwig Lewisohn",
           18,
           23
          ],
          [
           "Daniel Defoe",
           10231,
           22
          ],
          [
           "Carl Sandburg",
           314,
           22
          ],
          [
           "Djuna Barnes",
           1123,
           22
          ],
          [
           "Siegfried Sassoon",
           225,
           22
          ],
          [
           "Stefan Zweig",
           1971,
           22
          ],
          [
           "Phyllis Bottome",
           14,
           22
          ],
          [
           "Henry Fielding",
           1413,
           21
          ],
          [
           "O. Henry",
           249,
           21
          ],
          [
           "Logan Pearsall Smith",
           12,
           21
          ],
          [
           "Edgar Wallace",
           75,
           21
          ],
          [
           "Beverley Nichols",
           44,
           21
          ],
          [
           "Edmund Wilson",
           35,
           21
          ],
          [
           "Jonathan Swift",
           6193,
           20
          ],
          [
           "Stephen Crane",
           4192,
           20
          ],
          [
           "Æ",
           79,
           20
          ],
          [
           "Marcel Proust",
           5681,
           20
          ],
          [
           "E. E. Cummings",
           292,
           20
          ],
          [
           "Herbert Sherman Gorman",
           8,
           20
          ],
          [
           "Naomi Mitchison",
           36,
           20
          ],
          [
           "Phyllis Eleanor Bentley",
           5,
           20
          ],
          [
           "Louis Golding",
           2,
           20
          ],
          [
           "Christina Stead",
           28,
           20
          ],
          [
           "Leslie Charteris",
           67,
           20
          ],
          [
           "Walter Scott",
           3690,
           19
          ],
          [
           "Nikolai Gogol",
           3295,
           19
          ],
          [
           "Ivan Turgenev",
           3814,
           19
          ],
          [
           "André Gide",
           1864,
           19
          ],
          [
           "Leonard Merrick",
           11,
           19
          ],
          [
           "Ronald Firbank",
           42,
           19
          ],
          [
           "Emily Dickinson",
           1935,
           19
          ],
          [
           "Sylvia Thompson",
           1,
           19
          ],
          [
           "Margaret Irwin",
           23,
           19
          ],
          [
           "Mabel Dodge Luhan",
           6,
           19
          ],
          [
           "Peter Fleming",
           73,
           19
          ],
          [
           "Mignon Good Eberhart",
           15,
           19
          ],
          [
           "Marjorie Kinnan Rawlings",
           1168,
           19
          ],
          [
           "John P. Marquand",
           154,
           19
          ],
          [
           "Lewis Carroll",
           15863,
           18
          ],
          [
           "Robert Bridges",
           3,
           18
          ],
          [
           "Frank Norris",
           635,
           18
          ],
          [
           "Booth Tarkington",
           438,
           18
          ],
          [
           "Jack London",
           21029,
           18
          ],
          [
           "H. M. Tomlinson",
           25,
           18
          ],
          [
           "Elinor Wylie",
           7,
           18
          ],
          [
           "Gertrude Lowthian Bell",
           11,
           18
          ],
          [
           "Dorothy Parker",
           43,
           18
          ],
          [
           "Stella Gibbons",
           21,
           18
          ],
          [
           "Samuel Taylor Coleridge",
           2356,
           17
          ],
          [
           "Mark Twain",
           32116,
           17
          ],
          [
           "William Dean Howells",
           388,
           17
          ],
          [
           "Walt Whitman",
           2710,
           17
          ],
          [
           "August Strindberg",
           127,
           17
          ],
          [
           "Lady Gregory",
           0,
           17
          ],
          [
           "Ellen Anderson Gholson Glasgow",
           89,
           17
          ],
          [
           "Isadora Duncan",
           103,
           17
          ],
          [
           "Allen Tate",
           18,
           17
          ],
          [
           "Thomas Wolfe",
           1173,
           17
          ],
          [
           "Oliver St. John Gogarty",
           4,
           17
          ],
          [
           "Valentine Williams",
           10,
           17
          ],
          [
           "R. A. J. Walling",
           4,
           17
          ],
          [
           "Cyril Connolly",
           36,
           17
          ],
          [
           "James Thurber",
           14,
           17
          ],
          [
           "William Hazlitt",
           38,
           16
          ],
          [
           "Robert McAlmon",
           20,
           16
          ],
          [
           "Storm Jameson",
           14,
           16
          ],
          [
           "Archibald MacLeish",
           2,
           16
          ],
          [
           "Sylvia Townsend Warner",
           913,
           16
          ],
          [
           "Mary Roberts Rinehart",
           203,
           16
          ],
          [
           "Eleanor Smith",
           1,
           16
          ],
          [
           "James Hanley",
           25,
           16
          ],
          [
           "James T. Farrell",
           139,
           16
          ],
          [
           "Victoria Lincoln",
           2,
           16
          ],
          [
           "Enid Bagnold",
           310,
           16
          ],
          [
           "Elizabeth Gaskell",
           5694,
           15
          ],
          [
           "James Huneker",
           5,
           15
          ],
          [
           "Van Wyck Brooks",
           11,
           15
          ],
          [
           "J. D. Beresford",
           5,
           15
          ],
          [
           "James Branch Cabell",
           158,
           15
          ],
          [
           "Ben Hecht",
           43,
           15
          ],
          [
           "Herbert Read",
           2,
           15
          ],
          [
           "Harold George Nicolson",
           5,
           15
          ],
          [
           "Darwin Teilhet",
           0,
           15
          ],
          [
           "Kenneth Roberts",
           115,
           15
          ],
          [
           "Oliver Goldsmith",
           546,
           14
          ],
          [
           "James Boswell",
           269,
           14
          ],
          [
           "Ralph Waldo Emerson",
           124,
           14
          ],
          [
           "Arthur Conan Doyle",
           23222,
           14
          ],
          [
           "E. Œ. Somervile",
           5,
           14
          ],
          [
           "C. E. Montague",
           0,
           14
          ],
          [
           "John Drinkwater",
           0,
           14
          ],
          [
           "Max Eastman",
           4,
           14
          ],
          [
           "Floyd Dell",
           7,
           14
          ],
          [
           "A. E. Coppard",
           8,
           14
          ],
          [
           "Evelyn Scott",
           10,
           14
          ],
          [
           "Denis Mackail",
           3,
           14
          ],
          [
           "William Alexander Gerhardie",
           29,
           14
          ],
          [
           "Lion Feuchtwanger",
           51,
           14
          ],
          [
           "Frederic Dannay",
           532,
           14
          ],
          [
           "Dashiell Hammett",
           8194,
           14
          ],
          [
           "Vera Brittain",
           970,
           14
          ],
          [
           "John Gunther",
           14,
           14
          ],
          [
           "Edmund Clerihew Bentley",
           33,
           14
          ],
          [
           "John Keats",
           22,
           14
          ],
          [
           "Samuel Pepys",
           247,
           14
          ],
          [
           "Lafcadio Hearn",
           123,
           13
          ],
          [
           "Anatole France",
           119,
           13
          ],
          [
           "J. Storer Clouston",
           27,
           13
          ],
          [
           "Alfred North Whitehead",
           121,
           13
          ],
          [
           "Sean O'Casey",
           45,
           13
          ],
          [
           "T. E. Lawrence",
           771,
           13
          ],
          [
           "Caroline Miller",
           164,
           13
          ],
          [
           "Phoebe Atwood Taylor",
           16,
           13
          ],
          [
           "Margaret Halsey",
           20,
           13
          ],
          [
           "Samuel Richardson",
           1314,
           12
          ],
          [
           "George Gordon Byron Byron",
           339,
           12
          ],
          [
           "Thomas Carlyle",
           201,
           12
          ],
          [
           "George Henry Borrow",
           15,
           12
          ],
          [
           "Richard Jefferies",
           54,
           12
          ],
          [
           "Charles Montagu Doughty",
           23,
           12
          ],
          [
           "Geoffrey Chaucer",
           22,
           12
          ],
          [
           "Hilaire Belloc",
           78,
           12
          ],
          [
           "Francis Thompson",
           3,
           12
          ],
          [
           "Amy Lowell",
           3,
           12
          ],
          [
           "G. B. Harrison",
           3,
           12
          ],
          [
           "DuBose Heyward",
           51,
           12
          ],
          [
           "Michael Sadleir",
           1,
           12
          ],
          [
           "Norah Hoult",
           3,
           12
          ],
          [
           "Maxwell Struthers Burt",
           0,
           12
          ],
          [
           "Carl Van Doren",
           3117,
           12
          ],
          [
           "Nathanael West",
           1370,
           12
          ],
          [
           "H. L. Davis",
           87,
           12
          ],
          [
           "Bessie Breuer",
           2,
           12
          ],
          [
           "Yutang Lin",
           34,
           12
          ],
          [
           "Leo Tolstoy",
           41352,
           11
          ],
          [
           "Standish James O'Grady",
           2,
           11
          ],
          [
           "Knut Hamsun",
           3382,
           11
          ],
          [
           "G. Lowes Dickinson",
           12,
           11
          ],
          [
           "Henry Adams",
           445,
           11
          ],
          [
           "Otto Jesperson",
           3,
           11
          ],
          [
           "Dmitry Merezhkovsky",
           57,
           11
          ],
          [
           "Gilbert Frankau",
           1,
           11
          ],
          [
           "Carl Gustav Jung",
           82,
           11
          ],
          [
           "Stephen McKenna",
           5,
           11
          ],
          [
           "Daniel Corkery",
           1,
           11
          ],
          [
           "Claude McKay",
           100,
           11
          ],
          [
           "Margot Asquith",
           2,
           11
          ],
          [
           "Emil Ludwig",
           79,
           11
          ],
          [
           "Sarah Gertrude Millin",
           4,
           11
          ],
          [
           "Glenway Wescott",
           19,
           11
          ],
          [
           "Robinson Jeffers",
           7,
           11
          ],
          [
           "Walter Sydney Masterman",
           3,
           11
          ],
          [
           "Katherine Mayo",
           16,
           11
          ],
          [
           "Susan Ertz",
           0,
           11
          ],
          [
           "Stuart Gilbert",
           102,
           11
          ],
          [
           "Frank Budgen",
           13,
           11
          ],
          [
           "Philip MacDonald",
           19,
           11
          ],
          [
           "Algernon Charles Swinburne",
           6,
           10
          ],
          [
           "John Richard Green",
           2,
           10
          ],
          [
           "A. E. Housman",
           214,
           10
          ],
          [
           "Benedetto Croce",
           9,
           10
          ],
          [
           "Alec Waugh",
           27,
           10
          ],
          [
           "John Palmer",
           15,
           10
          ],
          [
           "A. A. Milne",
           1281,
           10
          ],
          [
           "Elizabeth Bibesco",
           0,
           10
          ],
          [
           "Hugh I'Anson Fausset",
           0,
           10
          ],
          [
           "John Erskine",
           21,
           10
          ],
          [
           "R. H. Mottram",
           8,
           10
          ],
          [
           "Laura Riding",
           9,
           10
          ],
          [
           "Maurice Gerschon Hindus",
           5,
           10
          ],
          [
           "Edward Dahlberg",
           3,
           10
          ],
          [
           "Hilda Vaughan",
           4,
           10
          ],
          [
           "Margery Allingham",
           557,
           10
          ],
          [
           "A. G. Macdonell",
           73,
           10
          ],
          [
           "Nora Waln",
           10,
           10
          ],
          [
           "Zora Neale Hurston",
           312,
           10
          ],
          [
           "Frieda Lawrence",
           0,
           10
          ],
          [
           "Stark Young",
           10,
           10
          ],
          [
           "Jonathan Latimer",
           16,
           10
          ],
          [
           "Margery Sharp",
           6,
           10
          ],
          [
           "Richard Wright",
           6139,
           10
          ],
          [
           "John Milton",
           4156,
           9
          ],
          [
           "John Bunyan",
           7574,
           9
          ],
          [
           "Stendhal",
           2964,
           9
          ],
          [
           "John Ruskin",
           74,
           9
          ],
          [
           "Georgiana Fullerton",
           0,
           9
          ],
          [
           "Edgar Allan Poe",
           2873,
           9
          ],
          [
           "Friedrich Nietzsche",
           4971,
           9
          ],
          [
           "Anna Katharine Green",
           348,
           9
          ],
          [
           "James Anthony Froude",
           1,
           9
          ],
          [
           "Henrik Ibsen",
           5974,
           9
          ],
          [
           "Arthur Symons",
           2,
           9
          ],
          [
           "William John Locke",
           44,
           9
          ],
          [
           "Rafael Sabatini",
           822,
           9
          ],
          [
           "George Macaulay Trevelyan",
           22,
           9
          ],
          [
           "George Holbrook Jackson",
           2,
           9
          ],
          [
           "Edgar Lee Masters",
           775,
           9
          ],
          [
           "Ernest Augustus Boyd",
           0,
           9
          ],
          [
           "Edna St. Vincent Millay",
           295,
           9
          ],
          [
           "Gilbert Cannan",
           1,
           9
          ],
          [
           "John Livingston Lowes",
           2,
           9
          ],
          [
           "Catherine Carswell",
           19,
           9
          ],
          [
           "Sax Rohmer",
           59,
           9
          ],
          [
           "Anne Douglas Sedgwick",
           6,
           9
          ],
          [
           "Sacheverell Sitwell",
           1,
           9
          ],
          [
           "Herbert Adams",
           2,
           9
          ],
          [
           "Grafton Elliot Smith",
           0,
           9
          ],
          [
           "F. Tennyson Jesse",
           24,
           9
          ],
          [
           "David Cecil",
           13,
           9
          ],
          [
           "Kathleen Coyle",
           0,
           9
          ],
          [
           "Earl Derr Biggers",
           216,
           9
          ],
          [
           "Helen Ashton",
           3,
           9
          ],
          [
           "James Hilton",
           2510,
           9
          ],
          [
           "Alice Tisdale Hobart",
           9,
           9
          ],
          [
           "Helen Waddell",
           15,
           9
          ],
          [
           "Milward Kennedy",
           0,
           9
          ],
          [
           "H. V. Marrot",
           0,
           9
          ],
          [
           "F. Van Wyck Mason",
           1,
           9
          ],
          [
           "Claude Houghton Oldfield",
           3,
           9
          ],
          [
           "Negley Farson",
           7,
           9
          ],
          [
           "Noel Coward",
           8,
           9
          ],
          [
           "Rachel Field",
           56,
           9
          ],
          [
           "Howard Spring",
           23,
           9
          ],
          [
           "Anthony Berkeley",
           12,
           9
          ],
          [
           "John Stephen Strange",
           0,
           9
          ],
          [
           "Milton M. Propper",
           0,
           9
          ],
          [
           "Dylan Thomas",
           141,
           9
          ],
          [
           "Elizabeth Page",
           7,
           9
          ],
          [
           "Alexander Pope",
           421,
           8
          ],
          [
           "Anne Brontë",
           9062,
           8
          ],
          [
           "Émile Zola",
           1441,
           8
          ],
          [
           "Thomas Dekker",
           1,
           8
          ],
          [
           "Thomas Lodge",
           5,
           8
          ],
          [
           "H. P. Blavatsky",
           68,
           8
          ],
          [
           "Selma Lagerlöf",
           800,
           8
          ],
          [
           "Ambrose Gwinnett Bierce",
           185,
           8
          ],
          [
           "Stopford Augustus Brooke",
           0,
           8
          ],
          [
           "G. Lenotre",
           3,
           8
          ],
          [
           "Maurice Hewlett",
           1,
           8
          ],
          [
           "W. H. Davies",
           62,
           8
          ],
          [
           "Thomas Burke",
           13,
           8
          ],
          [
           "Stephen Leacock",
           77,
           8
          ],
          [
           "Ring Lardner",
           14,
           8
          ],
          [
           "Harold Monro",
           2,
           8
          ],
          [
           "Stephen Hudson",
           1,
           8
          ],
          [
           "Conal O'Riordan",
           0,
           8
          ],
          [
           "Marianne Moore",
           110,
           8
          ],
          [
           "Phillip Guedalla",
           1,
           8
          ],
          [
           "Julian Huxley",
           4,
           8
          ],
          [
           "John Crowe Ransom",
           0,
           8
          ],
          [
           "Hope Mirrlees",
           747,
           8
          ],
          [
           "Anita Loos",
           451,
           8
          ],
          [
           "Langston Hughes",
           377,
           8
          ],
          [
           "Hart Crane",
           79,
           8
          ],
          [
           "Sigrid Undset",
           1326,
           8
          ],
          [
           "Axel Munthe",
           257,
           8
          ],
          [
           "Keith Trask",
           0,
           8
          ],
          [
           "Vicki Baum",
           163,
           8
          ],
          [
           "Karl Menninger",
           13,
           8
          ],
          [
           "Leon Trotsky",
           201,
           8
          ],
          [
           "William Charles Franklyn Plomer",
           1,
           8
          ],
          [
           "Gladys Hasty Carroll",
           11,
           8
          ],
          [
           "Robert Benchley",
           20,
           8
          ],
          [
           "Cecil Roberts",
           33,
           8
          ],
          [
           "Jessie Chambers",
           0,
           8
          ],
          [
           "Victor Heiser",
           7,
           8
          ],
          [
           "Joan Grant",
           35,
           8
          ],
          [
           "William E. Woodward",
           1,
           8
          ],
          [
           "Thomas Malory",
           1009,
           7
          ],
          [
           "Thomas Browne",
           42,
           7
          ],
          [
           "Benjamin Disraeli",
           97,
           7
          ],
          [
           "Walter Savage Landor",
           1,
           7
          ],
          [
           "Alfred Tennyson",
           441,
           7
          ],
          [
           "Richard Morris",
           0,
           7
          ],
          [
           "Edward Dowden",
           1,
           7
          ],
          [
           "H. D. Traill",
           0,
           7
          ],
          [
           "Mark Rutherford",
           5,
           7
          ],
          [
           "Jessie Weston",
           59,
           7
          ],
          [
           "William James",
           639,
           7
          ],
          [
           "Susan Glaspell",
           52,
           7
          ],
          [
           "Eden Phillpotts",
           1,
           7
          ],
          [
           "Edward Gordon Craig",
           5,
           7
          ],
          [
           "James Elroy Flecker",
           17,
           7
          ],
          [
           "Clive Bell",
           2,
           7
          ],
          [
           "Romer Wilson",
           1,
           7
          ],
          [
           "Harry Hamilton Johnston",
           0,
           7
          ],
          [
           "Hermann von Keyserling",
           3,
           7
          ],
          [
           "Arthur Schnitzler",
           227,
           7
          ],
          [
           "Wallace Stevens",
           69,
           7
          ],
          [
           "Paul Morand",
           1,
           7
          ],
          [
           "H. D.",
           43,
           7
          ],
          [
           "H. C. McNeile",
           30,
           7
          ],
          [
           "H. J. C. Grierson",
           1,
           7
          ],
          [
           "Frances Newman",
           7,
           7
          ],
          [
           "Anne Parrish",
           4,
           7
          ],
          [
           "Elizabeth Madox Roberts",
           17,
           7
          ],
          [
           "Anna Louise Strong",
           1,
           7
          ],
          [
           "Ernest Temple Thurston",
           2,
           7
          ],
          [
           "William Empson",
           45,
           7
          ],
          [
           "Francis Yeats-Brown",
           14,
           7
          ],
          [
           "Desmond MacCarthy",
           0,
           7
          ],
          [
           "Anne Green",
           0,
           7
          ],
          [
           "Younghill Kang",
           3,
           7
          ],
          [
           "J. R. Ackerley",
           53,
           7
          ],
          [
           "Kay Cleaver Strahan",
           0,
           7
          ],
          [
           "Hervey Allen",
           30,
           7
          ],
          [
           "Malcolm Lowry",
           18,
           7
          ],
          [
           "Ethel Mannin",
           0,
           7
          ],
          [
           "Anne Morrow Lindbergh",
           90,
           7
          ],
          [
           "Joseph Maunsell Hone",
           0,
           7
          ],
          [
           "Melrich V. Rosenberg",
           0,
           7
          ],
          [
           "Elliot Paul",
           4,
           7
          ],
          [
           "Leo Rosten",
           116,
           7
          ],
          [
           "Douglas G. Browne",
           3,
           7
          ],
          [
           "Naomi Jacob",
           0,
           7
          ],
          [
           "Ruth McKenney",
           28,
           7
          ],
          [
           "Joel Y. Dane",
           2,
           7
          ],
          [
           "Robert Nathan",
           179,
           7
          ],
          [
           "Flann O'Brien",
           933,
           7
          ],
          [
           "John Macmurray",
           1,
           7
          ],
          [
           "Dorothy Baker",
           69,
           7
          ],
          [
           "Edmund Spenser",
           21,
           6
          ],
          [
           "William Wordsworth",
           391,
           6
          ],
          [
           "Wilkie Collins",
           13096,
           6
          ],
          [
           "Robert Browning",
           48,
           6
          ],
          [
           "John Addington Symonds",
           4,
           6
          ],
          [
           "Israel Zangwill",
           10,
           6
          ],
          [
           "Francis Marion Crawford",
           10,
           6
          ],
          [
           "A. C. Bradley",
           51,
           6
          ],
          [
           "E. V. Lucas",
           3,
           6
          ],
          [
           "Leonid Andreyev",
           9,
           6
          ],
          [
           "Johan Bojer",
           16,
           6
          ],
          [
           "W. B. Maxwell",
           1,
           6
          ],
          [
           "Henry Osborn Taylor",
           1,
           6
          ],
          [
           "John Donne",
           121,
           6
          ],
          [
           "Lascelles Abercrombie",
           0,
           6
          ],
          [
           "Robert Frost",
           820,
           6
          ],
          [
           "Constance Holme",
           4,
           6
          ],
          [
           "Rupert Brooke",
           48,
           6
          ],
          [
           "A. P. Sinnett",
           0,
           6
          ],
          [
           "M. K. Bradby",
           0,
           6
          ],
          [
           "William Le Queux",
           0,
           6
          ],
          [
           "Bryher",
           15,
           6
          ],
          [
           "Paul Rosenfeld",
           1,
           6
          ],
          [
           "Vachel Lindsay",
           4,
           6
          ],
          [
           "M. R. Werner",
           1,
           6
          ],
          [
           "Darrell Figgis",
           1,
           6
          ],
          [
           "Martha Ostenso",
           56,
           6
          ],
          [
           "D. S. Mirsky",
           1,
           6
          ],
          [
           "J. W. Dunne",
           38,
           6
          ],
          [
           "Alexandra David-Néel",
           163,
           6
          ],
          [
           "Francis Hackett",
           7,
           6
          ],
          [
           "Ivan Goncharov",
           1272,
           6
          ],
          [
           "Aleksis Kivi",
           124,
           6
          ],
          [
           "Alfred Döblin",
           555,
           6
          ],
          [
           "James Gould Cozzens",
           7,
           6
          ],
          [
           "Helen Simpson",
           3,
           6
          ],
          [
           "Grace Lumpkin",
           5,
           6
          ],
          [
           "James Truslow Adams",
           3,
           6
          ],
          [
           "Maurice O'Sullivan",
           59,
           6
          ],
          [
           "Samuel Rogers",
           2,
           6
          ],
          [
           "Bhagwãn Shri Hamsa",
           0,
           6
          ],
          [
           "James M. Cain",
           2653,
           6
          ],
          [
           "Zenith Jones Brown",
           2,
           6
          ],
          [
           "Helen Reilly",
           2,
           6
          ],
          [
           "Walter Dumaux Edmonds",
           126,
           6
          ],
          [
           "Edwin P. O'Donnell",
           0,
           6
          ],
          [
           "Dean Hawkins",
           0,
           6
          ],
          [
           "Dave Marlowe",
           0,
           6
          ],
          [
           "Elmer Rice",
           0,
           6
          ],
          [
           "Walter Duranty",
           0,
           6
          ],
          [
           "Zelda Popkin",
           0,
           6
          ],
          [
           "Taylor Caldwell",
           22,
           6
          ],
          [
           "Patricia Wentworth",
           17,
           6
          ],
          [
           "Henry Green",
           103,
           6
          ],
          [
           "Rayner Heppenstall",
           3,
           6
          ],
          [
           "Ngaio Marsh",
           221,
           6
          ],
          [
           "Philip Sidney",
           70,
           5
          ],
          [
           "Hannah Webster Foster",
           180,
           5
          ],
          [
           "James Thomson",
           18,
           5
          ],
          [
           "Honoré de Balzac",
           855,
           5
          ],
          [
           "Charles Kingsley",
           614,
           5
          ],
          [
           "Alexander Gilchrist",
           5,
           5
          ],
          [
           "P. W. Joyce",
           4,
           5
          ],
          [
           "Leslie Stephen",
           2,
           5
          ],
          [
           "Henry Austin Dobson",
           0,
           5
          ],
          [
           "Edgar Saltus",
           8,
           5
          ],
          [
           "Edward Carpenter",
           3,
           5
          ],
          [
           "Gertrude Franklin Horn Atherton",
           19,
           5
          ],
          [
           "Georg Brandes",
           2,
           5
          ],
          [
           "Robert Smythe Hichens",
           15,
           5
          ],
          [
           "E. M. Jameson",
           0,
           5
          ],
          [
           "Richard Brinsley Sheridan",
           0,
           5
          ],
          [
           "Percy Bysshe Shelley",
           21,
           5
          ],
          [
           "Wilbur L. Cross",
           0,
           5
          ],
          [
           "Oliver Lodge",
           6,
           5
          ],
          [
           "Violet Hunt",
           2,
           5
          ],
          [
           "Everard Meynell",
           1,
           5
          ],
          [
           "John Albert Macy",
           0,
           5
          ],
          [
           "Pyotr Demianovich Ouspensky",
           39,
           5
          ],
          [
           "Jules Romains",
           11,
           5
          ],
          [
           "Conrad Aiken",
           6,
           5
          ],
          [
           "Alan Seeger",
           1,
           5
          ],
          [
           "Ethel M. Dell",
           13,
           5
          ],
          [
           "Louis Couperus",
           119,
           5
          ],
          [
           "J. C. Squire",
           1,
           5
          ],
          [
           "Donn Byrne",
           7,
           5
          ],
          [
           "Aleister Crowley",
           220,
           5
          ],
          [
           "Shane Leslie",
           0,
           5
          ],
          [
           "Luigi Pirandello",
           106,
           5
          ],
          [
           "C. K. Ogden",
           12,
           5
          ],
          [
           "J. W. N. Sullivan",
           21,
           5
          ],
          [
           "Walter Francis White",
           3,
           5
          ],
          [
           "Etsuko Sugimoto",
           40,
           5
          ],
          [
           "Countee Cullen",
           5,
           5
          ],
          [
           "Francis Wrigley Hirst",
           0,
           5
          ],
          [
           "Jules Barbey d'Aurevilly",
           86,
           5
          ],
          [
           "Jean Cocteau",
           24,
           5
          ],
          [
           "Edward M. House",
           0,
           5
          ],
          [
           "Harold Lamb",
           90,
           5
          ],
          [
           "Ellen Du Poise Taylor",
           0,
           5
          ],
          [
           "Frances Noyes Hart",
           50,
           5
          ],
          [
           "W. P. Ker",
           0,
           5
          ],
          [
           "Baroness Orczy",
           28,
           5
          ],
          [
           "Edna Bryner",
           0,
           5
          ],
          [
           "Carolyn Wells",
           1,
           5
          ],
          [
           "Vernon Loder",
           9,
           5
          ],
          [
           "E. K. Chambers",
           0,
           5
          ],
          [
           "Henry Handel Richardson",
           33,
           5
          ],
          [
           "Kate O'Brien",
           28,
           5
          ],
          [
           "Q. D. Leavis",
           9,
           5
          ],
          [
           "John Strachey",
           3,
           5
          ],
          [
           "Nai'an Shi",
           185,
           5
          ],
          [
           "Dorothy Brett",
           0,
           5
          ],
          [
           "Ruth Elvish Mantz",
           1,
           5
          ],
          [
           "Sholem Asch",
           4,
           5
          ],
          [
           "Alice James",
           3,
           5
          ],
          [
           "Alexander Laing",
           22,
           5
          ],
          [
           "Marguerite Steen",
           2,
           5
          ],
          [
           "L. H. Myers",
           12,
           5
          ],
          [
           "Clifford Odets",
           4,
           5
          ],
          [
           "John Langdon-Davies",
           2,
           5
          ],
          [
           "Christopher Bush",
           4,
           5
          ],
          [
           "Cortland Fitzsimmons",
           2,
           5
          ],
          [
           "Christopher Hale",
           1,
           5
          ],
          [
           "Myron Brinig",
           3,
           5
          ],
          [
           "Enid Starkie",
           20,
           5
          ],
          [
           "Louis MacNeice",
           1,
           5
          ],
          [
           "May Sarton",
           4,
           5
          ],
          [
           "William Lyon Phelps",
           0,
           5
          ],
          [
           "Francis Bacon",
           181,
           4
          ],
          [
           "Johann Wolfgang von Goethe",
           1799,
           4
          ],
          [
           "Thomas Babington Macaulay",
           22,
           4
          ],
          [
           "Edward Fitzgerald",
           0,
           4
          ],
          [
           "Henry David Thoreau",
           5941,
           4
          ],
          [
           "Matthew Arnold",
           68,
           4
          ],
          [
           "Margaret Roberts",
           0,
           4
          ],
          [
           "Lloyd Lewis",
           19,
           4
          ],
          [
           "Ben Jonson",
           0,
           4
          ],
          [
           "Thomas Henry Huxley",
           4,
           4
          ],
          [
           "Ernest Rhys",
           0,
           4
          ],
          [
           "Sidney Lee",
           3,
           4
          ],
          [
           "Robert Herrick",
           3,
           4
          ],
          [
           "Maurice Maeterlinck",
           77,
           4
          ],
          [
           "W. S. Gilbert",
           6,
           4
          ],
          [
           "Maxim Gorky",
           78,
           4
          ],
          [
           "Robert Harborough Sherard",
           0,
           4
          ],
          [
           "Thomas Wright",
           0,
           4
          ],
          [
           "Harley Granville-Barker",
           15,
           4
          ],
          [
           "John Alexander Hammerton",
           0,
           4
          ],
          [
           "John Henry Ingram",
           0,
           4
          ],
          [
           "P. P. Howe",
           0,
           4
          ],
          [
           "Arthur Ransome",
           0,
           4
          ],
          [
           "Stewart Edward White",
           7,
           4
          ],
          [
           "Edward Joseph Dent",
           0,
           4
          ],
          [
           "Grace Eleanor Hadow",
           1,
           4
          ],
          [
           "Francis Warre Cornish",
           0,
           4
          ],
          [
           "St. John G. Ervine",
           1,
           4
          ],
          [
           "William McFee",
           0,
           4
          ],
          [
           "Padraic Colum",
           0,
           4
          ],
          [
           "Percival Christopher Wren",
           200,
           4
          ],
          [
           "Gerard Manley Hopkins",
           54,
           4
          ],
          [
           "John Maynard Keynes",
           122,
           4
          ],
          [
           "Edward Shanks",
           0,
           4
          ],
          [
           "S. P. B. Mais",
           0,
           4
          ],
          [
           "Zona Gale",
           28,
           4
          ],
          [
           "Hugh Lofting",
           1136,
           4
          ],
          [
           "Edwin Arlington Robinson",
           11,
           4
          ],
          [
           "Stephen Vincent Benét",
           47,
           4
          ],
          [
           "William Archer",
           0,
           4
          ],
          [
           "George Jean Nathan",
           1,
           4
          ],
          [
           "Arthur Ponsonby",
           2,
           4
          ],
          [
           "John Mackinnon Robertson",
           0,
           4
          ],
          [
           "Giovanni Verga",
           91,
           4
          ],
          [
           "Jan Gordon",
           0,
           4
          ],
          [
           "Vernon Lee",
           0,
           4
          ],
          [
           "Stephen Lucius Gwynn",
           1,
           4
          ],
          [
           "J. B. S. Haldane",
           14,
           4
          ],
          [
           "Bonamy Dobrée",
           0,
           4
          ],
          [
           "Thomas Beer",
           6,
           4
          ],
          [
           "Kathleen Thompson Norris",
           1,
           4
          ],
          [
           "Alain Locke",
           23,
           4
          ],
          [
           "Franz Kafka",
           12110,
           4
          ],
          [
           "Anna Dostoevskaia",
           321,
           4
          ],
          [
           "F. E. Smith",
           1,
           4
          ],
          [
           "Julia Mood Peterkin",
           84,
           4
          ],
          [
           "Julien Green",
           44,
           4
          ],
          [
           "Sophia Tolstaya",
           42,
           4
          ],
          [
           "Agnes Smedley",
           45,
           4
          ],
          [
           "Oliver La Farge",
           253,
           4
          ],
          [
           "Edwin Lanham",
           0,
           4
          ],
          [
           "Alfred Douglas",
           7,
           4
          ],
          [
           "Josephine Donovan",
           2,
           4
          ],
          [
           "Ellen Terry",
           0,
           4
          ],
          [
           "Frank O'Connor",
           17,
           4
          ],
          [
           "Walter Béran Wolfe",
           2,
           4
          ],
          [
           "Thomas Moult",
           0,
           4
          ],
          [
           "Carleton Beals",
           1,
           4
          ],
          [
           "Peter Quennell",
           5,
           4
          ],
          [
           "Swami Purohit",
           1,
           4
          ],
          [
           "Charles Duff",
           0,
           4
          ],
          [
           "Paul de Kruif",
           5,
           4
          ],
          [
           "Anthony Rolls",
           58,
           4
          ],
          [
           "Alexandre de Tilly",
           0,
           4
          ],
          [
           "Jack Conroy",
           6,
           4
          ],
          [
           "Mulk Raj Anand",
           428,
           4
          ],
          [
           "Eva Le Gallienne",
           0,
           4
          ],
          [
           "Dorothy Brewster",
           0,
           4
          ],
          [
           "Samuel Beckett",
           445,
           4
          ],
          [
           "H. E. Bates",
           5,
           4
          ],
          [
           "Thomas Sigismund Stribling",
           8,
           4
          ],
          [
           "C. Willett Cunnington",
           1,
           4
          ],
          [
           "Rom Landau",
           1,
           4
          ],
          [
           "Clarence Day",
           125,
           4
          ],
          [
           "Giles Romilly",
           0,
           4
          ],
          [
           "Hans Zinsser",
           60,
           4
          ],
          [
           "Elizabeth Goudge",
           94,
           4
          ],
          [
           "Patience Abbe",
           0,
           4
          ],
          [
           "Eugene Lyons",
           3,
           4
          ],
          [
           "Henry Wade",
           3,
           4
          ],
          [
           "Christopher Caudwell",
           19,
           4
          ],
          [
           "Freda Utley",
           0,
           4
          ],
          [
           "Damon Runyon",
           15,
           4
          ],
          [
           "Arthur Koestler",
           7,
           4
          ],
          [
           "A. W. Lawrence",
           5,
           4
          ],
          [
           "Ralph Fox",
           3,
           4
          ],
          [
           "Donald Henderson Clarke",
           0,
           4
          ],
          [
           "R. C. Woodthorpe",
           1,
           4
          ],
          [
           "Coventry Patmore",
           0,
           4
          ],
          [
           "Samuel Johnson",
           300,
           3
          ],
          [
           "Benjamin Franklin",
           3269,
           3
          ],
          [
           "Ann Radcliffe",
           1141,
           3
          ],
          [
           "Thomas Love Peacock",
           40,
           3
          ],
          [
           "Charles Lamb",
           60,
           3
          ],
          [
           "Frederick Marryat",
           359,
           3
          ],
          [
           "William Hickling Prescott",
           109,
           3
          ],
          [
           "Charles Darwin",
           3204,
           3
          ],
          [
           "Edward Lear",
           397,
           3
          ],
          [
           "Ossian",
           13,
           3
          ],
          [
           "Gustave Flaubert",
           12716,
           3
          ],
          [
           "Louisa May Alcott",
           39254,
           3
          ],
          [
           "Bret Harte",
           47,
           3
          ],
          [
           "Richard Doddridge Blackmore",
           677,
           3
          ],
          [
           "Mary Duclaux",
           0,
           3
          ],
          [
           "John Fiske",
           1,
           3
          ],
          [
           "Frances Hodgson Burnett",
           1159,
           3
          ],
          [
           "William Congreve",
           5,
           3
          ],
          [
           "James Bryce",
           2,
           3
          ],
          [
           "James McNeill Whistler",
           23,
           3
          ],
          [
           "Richard Harding Davis",
           3,
           3
          ],
          [
           "Lionel Johnson",
           0,
           3
          ],
          [
           "Kenneth Grahame",
           6799,
           3
          ],
          [
           "Charlotte Perkins Gilman",
           36,
           3
          ],
          [
           "Yoné Noguchi",
           10,
           3
          ],
          [
           "Robert-Hugh Benson",
           49,
           3
          ],
          [
           "J. C. Snaith",
           0,
           3
          ],
          [
           "Dorothy Wordsworth",
           28,
           3
          ],
          [
           "Gaston Leroux",
           747,
           3
          ],
          [
           "Jean Webster",
           7584,
           3
          ],
          [
           "Irving Babbitt",
           5,
           3
          ],
          [
           "W. J. Perry",
           0,
           3
          ],
          [
           "Sisley Huddleston",
           2,
           3
          ],
          [
           "E. F. Carritt",
           0,
           3
          ],
          [
           "Edgar Selwyn",
           0,
           3
          ],
          [
           "Douglas Goldring",
           0,
           3
          ],
          [
           "R. W. Chambers",
           5,
           3
          ],
          [
           "Herbert Wildon Carr",
           0,
           3
          ],
          [
           "Mary Heaton Vorse",
           0,
           3
          ],
          [
           "Agnes Castle",
           1,
           3
          ],
          [
           "Albert Mordell",
           0,
           3
          ],
          [
           "Stacy Aumonier",
           1,
           3
          ],
          [
           "Charles Gardner",
           0,
           3
          ],
          [
           "W. E. B. Du Bois",
           49,
           3
          ],
          [
           "George Pierce Baker",
           0,
           3
          ],
          [
           "Mary Hunter Austin",
           5,
           3
          ],
          [
           "Henry Festing Jones",
           0,
           3
          ],
          [
           "Margaret Higgins Sanger",
           27,
           3
          ],
          [
           "Donald Ogden Stewart",
           4,
           3
          ],
          [
           "Charles Gilman Norris",
           0,
           3
          ],
          [
           "Brander Matthews",
           0,
           3
          ],
          [
           "Frank L. Packard",
           4,
           3
          ],
          [
           "Roger Eliot Fry",
           4,
           3
          ],
          [
           "Henry Williamson",
           162,
           3
          ],
          [
           "Edward Garnett",
           0,
           3
          ],
          [
           "Ernest Bramah",
           33,
           3
          ],
          [
           "Theodore Maynard",
           0,
           3
          ],
          [
           "Gerhart Hauptmann",
           0,
           3
          ],
          [
           "Wilfrid Scawen Blunt",
           7,
           3
          ],
          [
           "Albert Einstein",
           592,
           3
          ],
          [
           "Nikola Semyonovich Leskov",
           0,
           3
          ],
          [
           "Julius Meier-Graefe",
           18,
           3
          ],
          [
           "Jean Toomer",
           609,
           3
          ],
          [
           "Robert James Fletcher",
           6,
           3
          ],
          [
           "Joseph Collins",
           0,
           3
          ],
          [
           "Mathilde Vaerting",
           1,
           3
          ],
          [
           "Anthony M. Ludovici",
           0,
           3
          ],
          [
           "Eileen Power",
           68,
           3
          ],
          [
           "Paul Jordan-Smith",
           0,
           3
          ],
          [
           "Samuel Hopkins Adams",
           1,
           3
          ],
          [
           "S. C. Cronwright-Schreiner",
           0,
           3
          ],
          [
           "S. Foster Damon",
           2,
           3
          ],
          [
           "A. M. Low",
           0,
           3
          ],
          [
           "Katharine Susan Anthony",
           0,
           3
          ],
          [
           "Dora Russell",
           3,
           3
          ],
          [
           "Eliza Fay",
           9,
           3
          ],
          [
           "Theo B. Hyslop",
           0,
           3
          ],
          [
           "R. W. King",
           0,
           3
          ],
          [
           "Captain Charles Johnson",
           126,
           3
          ],
          [
           "James Stevens",
           0,
           3
          ],
          [
           "Edmund Blunden",
           54,
           3
          ],
          [
           "A. Fielding",
           1,
           3
          ],
          [
           "Lewis Mumford",
           14,
           3
          ],
          [
           "Henry Ford",
           16,
           3
          ],
          [
           "Murasaki Shikibu",
           1111,
           3
          ],
          [
           "A. E. W. Mason",
           0,
           3
          ],
          [
           "Humbert Wolfe",
           0,
           3
          ],
          [
           "James Weldon Johnson",
           595,
           3
          ],
          [
           "Ronald Arbuthnott Knox",
           35,
           3
          ],
          [
           "Ben B. Lindsey",
           1,
           3
          ],
          [
           "Buffalo Child Long Lance",
           2,
           3
          ],
          [
           "Laetitia Pilkington",
           0,
           3
          ],
          [
           "Joseph Moncure March",
           151,
           3
          ],
          [
           "C. H. B. Kitchin",
           24,
           3
          ],
          [
           "Harold John Massingham",
           0,
           3
          ],
          [
           "Stephen Potter",
           0,
           3
          ],
          [
           "George Antheil",
           4,
           3
          ],
          [
           "Gerald F. Lahey",
           0,
           3
          ],
          [
           "Norman Lindsay",
           3,
           3
          ],
          [
           "Ronald Fraser",
           0,
           3
          ],
          [
           "Jim Tully",
           0,
           3
          ],
          [
           "Lincoln Steffens",
           9,
           3
          ],
          [
           "Alfred Alder",
           127,
           3
          ],
          [
           "Morley Callaghan",
           3,
           3
          ],
          [
           "Manuel Komroff",
           0,
           3
          ],
          [
           "Adrienne Monnier",
           0,
           3
          ],
          [
           "Robert Hamilton Bruce Lockhart",
           24,
           3
          ],
          [
           "E. B. C. Jones",
           1,
           3
          ],
          [
           "Harriet Monroe",
           1,
           3
          ],
          [
           "Harold Joseph Laski",
           1,
           3
          ],
          [
           "Hans Fallada",
           374,
           3
          ],
          [
           "Josephine Herbst",
           2,
           3
          ],
          [
           "Elsie Elizabeth Phare",
           0,
           3
          ],
          [
           "Eiluned Lewis",
           9,
           3
          ],
          [
           "Josephine Winslow Johnson",
           141,
           3
          ],
          [
           "Charles Daly King",
           1,
           3
          ],
          [
           "Joseph Jefferson Farjeon",
           2,
           3
          ],
          [
           "Gelett Burgess",
           1,
           3
          ],
          [
           "Alexander Woollcott",
           8,
           3
          ],
          [
           "Geoffrey Gorer",
           1,
           3
          ],
          [
           "Georgette Heyer",
           442,
           3
          ],
          [
           "Robert Rylee",
           1,
           3
          ],
          [
           "Arnold L. Haskell",
           0,
           3
          ],
          [
           "John Eglinton",
           0,
           3
          ],
          [
           "Guy Boas",
           0,
           3
          ],
          [
           "Arthur Hobson Quinn",
           0,
           3
          ],
          [
           "Webb Miller",
           2,
           3
          ],
          [
           "Vincent Sheean",
           2,
           3
          ],
          [
           "Erich Kästner",
           22,
           3
          ],
          [
           "Ralph Bates",
           2,
           3
          ],
          [
           "Elizabeth Jenkins",
           1,
           3
          ],
          [
           "Rhys Davies",
           0,
           3
          ],
          [
           "Philip Horton",
           2,
           3
          ],
          [
           "Eve Curie",
           296,
           3
          ],
          [
           "Humphrey Hare",
           0,
           3
          ],
          [
           "Jolán Földes",
           8,
           3
          ],
          [
           "Eleanor Roosevelt",
           11,
           3
          ],
          [
           "C. L. R. James",
           339,
           3
          ],
          [
           "F. A. Voigt",
           0,
           3
          ],
          [
           "John Fante",
           533,
           3
          ],
          [
           "G. E. R. Geyde",
           1,
           3
          ],
          [
           "Emanuel Hertz",
           0,
           3
          ],
          [
           "Josephine Lawrence",
           0,
           3
          ],
          [
           "Christopher Marlowe",
           1982,
           3
          ],
          [
           "Toyoichirō Nogami",
           0,
           3
          ],
          [
           "William Langland",
           117,
           3
          ],
          [
           "Homer",
           13776,
           3
          ],
          [
           "Thomas More",
           3173,
           2
          ],
          [
           "Robert Greene",
           0,
           2
          ],
          [
           "Miguel de Cervantes",
           18093,
           2
          ],
          [
           "Thomas Hobbes",
           858,
           2
          ],
          [
           "John Gay",
           145,
           2
          ],
          [
           "Thomas Nugent",
           1,
           2
          ],
          [
           "Robert Paltock",
           3,
           2
          ],
          [
           "Voltaire",
           8562,
           2
          ],
          [
           "Thomas Paine",
           1819,
           2
          ],
          [
           "Edward Gibbon",
           548,
           2
          ],
          [
           "Jacob Grimm",
           2679,
           2
          ],
          [
           "John Evelyn",
           13,
           2
          ],
          [
           "Hans Christian Andersen",
           1482,
           2
          ],
          [
           "Richard Henry Dana",
           746,
           2
          ],
          [
           "John Stuart Mill",
           1113,
           2
          ],
          [
           "Omar Khayyam",
           1725,
           2
          ],
          [
           "John-Henry Newman",
           16,
           2
          ],
          [
           "Juliana Horatia Ewing",
           14,
           2
          ],
          [
           "Robert Burns",
           67,
           2
          ],
          [
           "William Winwood Reade",
           15,
           2
          ],
          [
           "William Black",
           0,
           2
          ],
          [
           "John Nichol",
           2,
           2
          ],
          [
           "Joseph Henry Shorthouse",
           5,
           2
          ],
          [
           "Ælfric of Eynsham",
           0,
           2
          ],
          [
           "H. Rider Haggard",
           987,
           2
          ],
          [
           "Alexandra Sutherland Orr",
           1,
           2
          ],
          [
           "George Du Maurier",
           180,
           2
          ],
          [
           "Edwin Sidney Hartland",
           3,
           2
          ],
          [
           "E. S. Beesly",
           2,
           2
          ],
          [
           "Andrew Lang",
           64,
           2
          ],
          [
           "Arthur Wing Pinero",
           13,
           2
          ],
          [
           "Douglas Hyde",
           1,
           2
          ],
          [
           "Ernest Christopher Dowson",
           5,
           2
          ],
          [
           "Harold Frederic",
           104,
           2
          ],
          [
           "Henry Vaughan",
           4,
           2
          ],
          [
           "John Burroughs",
           2,
           2
          ],
          [
           "Augustus Jessopp",
           0,
           2
          ],
          [
           "Guy Boothby",
           1,
           2
          ],
          [
           "Olive Schreiner",
           2,
           2
          ],
          [
           "Henry A. Beers",
           0,
           2
          ],
          [
           "Margaret Deland",
           3,
           2
          ],
          [
           "Haldane Macfall",
           0,
           2
          ],
          [
           "Théophile Gautier",
           85,
           2
          ],
          [
           "Muriel Clara Bradbrook",
           1,
           2
          ],
          [
           "John Dryden",
           0,
           2
          ],
          [
           "Alice Christiana Thompson Meynell",
           0,
           2
          ],
          [
           "Joshua Slocum",
           639,
           2
          ],
          [
           "Theodore Roosevelt",
           101,
           2
          ],
          [
           "Ernest Crawley",
           0,
           2
          ],
          [
           "Jane Welsh Carlyle",
           0,
           2
          ],
          [
           "Otto Weininger",
           37,
           2
          ],
          [
           "John Forster",
           16,
           2
          ],
          [
           "Elizabeth Robins",
           0,
           2
          ],
          [
           "Okakura Kakuzō",
           1212,
           2
          ],
          [
           "Benvenuto Cellini",
           204,
           2
          ],
          [
           "Arthur Christopher Benson",
           0,
           2
          ],
          [
           "Yogi Ramacharaka",
           1,
           2
          ],
          [
           "Walter Alexander Raleigh",
           1,
           2
          ],
          [
           "George Herbert",
           50,
           2
          ],
          [
           "Claude E. Benson",
           0,
           2
          ],
          [
           "G. G. Coulton",
           1,
           2
          ],
          [
           "Auguste Forel",
           1,
           2
          ],
          [
           "Robert Wilson Lynd",
           1,
           2
          ],
          [
           "Basil King",
           2,
           2
          ],
          [
           "Crittenden Marriott",
           1,
           2
          ],
          [
           "Richard Dehan",
           1,
           2
          ],
          [
           "Stanley Houghton",
           0,
           2
          ],
          [
           "Ethel Sidgwick",
           0,
           2
          ],
          [
           "Barry Pain",
           2,
           2
          ],
          [
           "Lewis Saul Benjamin",
           0,
           2
          ],
          [
           "Zoë Akins",
           0,
           2
          ],
          [
           "Herbert George Jenkins",
           6,
           2
          ],
          [
           "Richard Arthur Austen-Leigh",
           51,
           2
          ],
          [
           "T. Earle Welby",
           0,
           2
          ],
          [
           "James Henry Breasted",
           2,
           2
          ],
          [
           "Ananda Kentish Coomaraswamy",
           5,
           2
          ],
          [
           "Joseph Mary Flood",
           0,
           2
          ],
          [
           "Ethel Colburn Mayne",
           0,
           2
          ],
          [
           "Harold Child",
           0,
           2
          ],
          [
           "William Wymark Jacobs",
           2,
           2
          ],
          [
           "Robert Nichols",
           1,
           2
          ],
          [
           "Marie Carmichael Stopes",
           30,
           2
          ],
          [
           "Arthur Quiller-Couch",
           2,
           2
          ],
          [
           "Vincente Blasco Ibáñez",
           133,
           2
          ],
          [
           "Alice Mary Brandreth Butcher",
           0,
           2
          ],
          [
           "Arthur Waley",
           20,
           2
          ],
          [
           "Marguerite Wilkinson",
           0,
           2
          ],
          [
           "William Ralph Inge",
           1,
           2
          ],
          [
           "Abraham Flexner",
           0,
           2
          ],
          [
           "John Reed",
           424,
           2
          ],
          [
           "Henry G. Aikman",
           0,
           2
          ],
          [
           "W. N. P. Barbellion",
           74,
           2
          ],
          [
           "Robert Dell",
           0,
           2
          ],
          [
           "John Rodker",
           1,
           2
          ],
          [
           "Nellie Van de Grift Sanchez",
           6,
           2
          ],
          [
           "Louis Untermeyer",
           0,
           2
          ],
          [
           "Oliver Sayler",
           0,
           2
          ],
          [
           "Martin Andersen-Nexø",
           2,
           2
          ],
          [
           "Percy Lubbock",
           20,
           2
          ],
          [
           "George Calderon",
           0,
           2
          ],
          [
           "E. M. Hull",
           236,
           2
          ],
          [
           "Ferdynand Antoni Ossendowski",
           72,
           2
          ],
          [
           "Raffaello Piccoli",
           0,
           2
          ],
          [
           "Janet Spens",
           0,
           2
          ],
          [
           "Ferenc Molnár",
           1,
           2
          ],
          [
           "Mrs. Patrick Campbell",
           0,
           2
          ],
          [
           "Gerald O'Donovan",
           1,
           2
          ],
          [
           "Frederick Carleton Chamberlin",
           0,
           2
          ],
          [
           "Berta Ruck",
           2,
           2
          ],
          [
           "A. S. M. Hutchinson",
           2,
           2
          ],
          [
           "Clifford Bax",
           0,
           2
          ],
          [
           "Grant Martin Overton",
           0,
           2
          ],
          [
           "Winifred Stephens",
           2,
           2
          ],
          [
           "Joseph Quincy Adams",
           0,
           2
          ],
          [
           "John Butler Yeats",
           1,
           2
          ],
          [
           "Stephen Herbert Langdon",
           0,
           2
          ],
          [
           "Raymond Radiguet",
           379,
           2
          ],
          [
           "Koot Hoomi",
           3,
           2
          ],
          [
           "Thomas Boyd",
           14,
           2
          ],
          [
           "Evelyn Mary Spearing Simpson",
           0,
           2
          ],
          [
           "Maurice Magnus",
           1,
           2
          ],
          [
           "Romain Rolland",
           56,
           2
          ],
          [
           "Gertrude Beasley",
           7,
           2
          ],
          [
           "Osbert Burdett",
           0,
           2
          ],
          [
           "Geoffrey Scott",
           2,
           2
          ],
          [
           "Richard Le Gallienne",
           1,
           2
          ],
          [
           "Alfred Kreymborg",
           0,
           2
          ],
          [
           "John Freeman",
           0,
           2
          ],
          [
           "Eimar O'Duffy",
           3,
           2
          ],
          [
           "Panait Istrati",
           88,
           2
          ],
          [
           "Louise Imogen Guiney",
           0,
           2
          ],
          [
           "Ralph Barton Perry",
           0,
           2
          ],
          [
           "Pauline Smith",
           10,
           2
          ],
          [
           "Christobel M. Hood",
           0,
           2
          ],
          [
           "Oswald Spengler",
           125,
           2
          ],
          [
           "Herbert Asbury",
           370,
           2
          ],
          [
           "P. T. Barnum",
           11,
           2
          ],
          [
           "C. S. Ranga Iyer",
           0,
           2
          ],
          [
           "Joseph Gollomb",
           0,
           2
          ],
          [
           "Walter Edwin Peck",
           0,
           2
          ],
          [
           "George A. Birmingham",
           0,
           2
          ],
          [
           "R. H. Wilenski",
           0,
           2
          ],
          [
           "Lloyd R. Morris",
           0,
           2
          ],
          [
           "Marguerite Harrison",
           0,
           2
          ],
          [
           "Maxwell Bodenheim",
           0,
           2
          ],
          [
           "Anne-Marie-Louise-Henriette d'Orléans Montpensier",
           3,
           2
          ],
          [
           "Armand Louis de Gontaut Biron",
           0,
           2
          ],
          [
           "André Breton",
           572,
           2
          ],
          [
           "G. D. H. Cole",
           4,
           2
          ],
          [
           "Hanna Astrup Larsen",
           0,
           2
          ],
          [
           "F. Elrington Ball",
           0,
           2
          ],
          [
           "Arnold Zweig",
           22,
           2
          ],
          [
           "Ben Ames Williams",
           2,
           2
          ],
          [
           "Florence Emily Hardy",
           0,
           2
          ],
          [
           "D. G. Hogarth",
           0,
           2
          ],
          [
           "Edward McCurdy",
           1,
           2
          ],
          [
           "Hulbert Footner",
           4,
           2
          ],
          [
           "Edgar Ansel Mowrer",
           0,
           2
          ],
          [
           "George Rylands",
           0,
           2
          ],
          [
           "Matthew Josephson",
           3,
           2
          ],
          [
           "Burton Rascoe",
           0,
           2
          ],
          [
           "Viola Meynell",
           0,
           2
          ],
          [
           "Harvey Jerrold O'Higgins",
           2,
           2
          ],
          [
           "Paul Valéry",
           9,
           2
          ],
          [
           "Irma Duncan",
           0,
           2
          ],
          [
           "Norah C. James",
           2,
           2
          ],
          [
           "Grace Flandrau",
           0,
           2
          ],
          [
           "Ludwig Renn",
           10,
           2
          ],
          [
           "Fred D. Pasley",
           1,
           2
          ],
          [
           "W. H Williamson",
           0,
           2
          ],
          [
           "Italo Svevo",
           864,
           2
          ],
          [
           "Maud Cruttwell",
           0,
           2
          ],
          [
           "Margaret C. Anderson",
           6,
           2
          ],
          [
           "Fred Lewis Pattee",
           0,
           2
          ],
          [
           "Enid Rose",
           0,
           2
          ],
          [
           "Edward Charles Sackville-West",
           1,
           2
          ],
          [
           "Naomi Gwladys Royde-Smith",
           0,
           2
          ],
          [
           "Gustaaf Johannes Renier",
           5,
           2
          ],
          [
           "Wilfred Owen",
           135,
           2
          ],
          [
           "S. Guy Endore",
           1,
           2
          ],
          [
           "Meyer Levin",
           0,
           2
          ],
          [
           "Mary Sturt",
           0,
           2
          ],
          [
           "Hugh Kingsmill",
           0,
           2
          ],
          [
           "Francis Stuart",
           0,
           2
          ],
          [
           "Rainer Maria Rilke",
           86,
           2
          ],
          [
           "Norman Collins",
           1,
           2
          ],
          [
           "Francis Iles",
           114,
           2
          ],
          [
           "Jessie Redmon Fauset",
           9,
           2
          ],
          [
           "George Ambrose Lloyd",
           0,
           2
          ],
          [
           "T. H. White",
           6,
           2
          ],
          [
           "Franklin Delano Roosevelt",
           9,
           2
          ],
          [
           "John Clark Ferguson",
           1,
           2
          ],
          [
           "Frances Winwar",
           0,
           2
          ],
          [
           "Edward Hallett Carr",
           11,
           2
          ],
          [
           "Mikhail Sholokhov",
           545,
           2
          ],
          [
           "R. Austin Freeman",
           9,
           2
          ],
          [
           "C. E. M. Joad",
           1,
           2
          ],
          [
           "J. E. Neale",
           18,
           2
          ],
          [
           "Clara E. Laughlin",
           0,
           2
          ],
          [
           "Mario Rossi",
           0,
           2
          ],
          [
           "Franz Werfel",
           162,
           2
          ],
          [
           "M. H. Abrams",
           2,
           2
          ],
          [
           "Cornelius Vanderbilt",
           1,
           2
          ],
          [
           "Joseph O'Neill",
           20,
           2
          ],
          [
           "E. F. Benson",
           1,
           2
          ],
          [
           "Rockwell Kent",
           5,
           2
          ],
          [
           "F. O. Matthiessen",
           2,
           2
          ],
          [
           "John Dover Wilson",
           16,
           2
          ],
          [
           "Blanche Dugdale",
           0,
           2
          ],
          [
           "Knud Holmboe",
           48,
           2
          ],
          [
           "Charles Baudelaire",
           1635,
           2
          ],
          [
           "Charles Jasper Sisson",
           0,
           2
          ],
          [
           "Arthur Train",
           1,
           2
          ],
          [
           "Alick West",
           0,
           2
          ],
          [
           "Robert Briffault",
           1,
           2
          ],
          [
           "David Jones",
           84,
           2
          ],
          [
           "Euripides",
           270,
           2
          ],
          [
           "Stuart Palmer",
           7,
           2
          ],
          [
           "Edward Anderson",
           85,
           2
          ],
          [
           "Gwen Bristow",
           124,
           2
          ],
          [
           "Edgar Snow",
           77,
           2
          ],
          [
           "Gwethalyn Graham",
           2,
           2
          ],
          [
           "Marthe Bibesco",
           2,
           2
          ],
          [
           "Robert Penn Warren",
           17,
           2
          ],
          [
           "Augusta Tucker",
           5,
           2
          ],
          [
           "Arthur Calder-Marshall",
           0,
           2
          ],
          [
           "John Davy Hayward",
           1,
           2
          ],
          [
           "Alan Sillitoe",
           246,
           2
          ],
          [
           "Jane Mayhall",
           2,
           2
          ],
          [
           "Dan Michel",
           0,
           2
          ],
          [
           "the Venerable Bede",
           233,
           2
          ],
          [
           "Elizabeth Barrett Browning",
           9,
           2
          ],
          [
           "Aristotle",
           2420,
           2
          ],
          [
           "Plato",
           4358,
           2
          ],
          [
           "Dorothy Osborne",
           3,
           2
          ],
          [
           "Thomas Nashe",
           42,
           2
          ],
          [
           "F. W. H. Myers",
           0,
           2
          ],
          [
           "Thomas Norton",
           7,
           1
          ],
          [
           "John Lyly",
           13,
           1
          ],
          [
           "John Webster",
           77,
           1
          ],
          [
           "René Descartes",
           10,
           1
          ],
          [
           "Fulke Greville",
           0,
           1
          ],
          [
           "of Norwich Julian",
           354,
           1
          ],
          [
           "Jean-Jacques Rousseau",
           295,
           1
          ],
          [
           "William Collins",
           7,
           1
          ],
          [
           "J. Hector St. John de Crèvecoeur",
           46,
           1
          ],
          [
           "Francis Grose",
           17,
           1
          ],
          [
           "John Lemprière",
           1,
           1
          ],
          [
           "William Godwin",
           20,
           1
          ],
          [
           "Washington Irving",
           1042,
           1
          ],
          [
           "Isaac Disraeli",
           1,
           1
          ],
          [
           "Victor Hugo",
           5529,
           1
          ],
          [
           "Edward Bulwer-Lytton",
           8,
           1
          ],
          [
           "James Fenimore Cooper",
           493,
           1
          ],
          [
           "William Smith",
           1,
           1
          ],
          [
           "Anne Manning",
           0,
           1
          ],
          [
           "Edward Young",
           0,
           1
          ],
          [
           "Charles Reade",
           3,
           1
          ],
          [
           "Thomas Hughes",
           182,
           1
          ],
          [
           "Henry Gray",
           123,
           1
          ],
          [
           "Cesare Vecellio",
           0,
           1
          ],
          [
           "Herbert Spencer",
           10,
           1
          ],
          [
           "Oliver Wendel Holmes",
           4,
           1
          ],
          [
           "Charlotte M. Yonge",
           2,
           1
          ],
          [
           "Henry Woodcock",
           0,
           1
          ],
          [
           "Susanna Meredith",
           0,
           1
          ],
          [
           "Alphonse de Lamartine",
           0,
           1
          ],
          [
           "Patrick Kennedy",
           1,
           1
          ],
          [
           "Christina Rossetti",
           210,
           1
          ],
          [
           "William Hepworth Dixon",
           0,
           1
          ],
          [
           "Walter Bagehot",
           32,
           1
          ],
          [
           "Thomas Percy",
           1,
           1
          ],
          [
           "Edward Arber",
           0,
           1
          ],
          [
           "Frances Minto Elliot",
           1,
           1
          ],
          [
           "F. W. Farrar",
           34,
           1
          ],
          [
           "William Clark Russell",
           8,
           1
          ],
          [
           "Catherine Charlotte Jackson",
           0,
           1
          ],
          [
           "Jessie Fothergill",
           24,
           1
          ],
          [
           "Augustus J. C. Hare",
           0,
           1
          ],
          [
           "Victor Fournel",
           0,
           1
          ],
          [
           "Henry George",
           63,
           1
          ],
          [
           "Thomas Fowler",
           1,
           1
          ],
          [
           "Joel Chandler Harris",
           65,
           1
          ],
          [
           "Guy de Maupassant",
           463,
           1
          ],
          [
           "Pedro Carolino",
           84,
           1
          ],
          [
           "Bertha Thomas",
           2,
           1
          ],
          [
           "Izaak Walton",
           1,
           1
          ],
          [
           "Frank Richard Stockton",
           11,
           1
          ],
          [
           "Richard Steele",
           0,
           1
          ],
          [
           "Stuart C. Cumberland",
           0,
           1
          ],
          [
           "Vida Dutton Scudder",
           0,
           1
          ],
          [
           "C. B. Brackenbury",
           0,
           1
          ],
          [
           "Henry Drummond",
           89,
           1
          ],
          [
           "J. Maclaren Cobban",
           0,
           1
          ],
          [
           "Eleanor C. Price",
           0,
           1
          ],
          [
           "A. E. Waite",
           1,
           1
          ],
          [
           "Clements R. Markham",
           0,
           1
          ],
          [
           "Anne Isabella Thackeray Ritchie",
           0,
           1
          ],
          [
           "James Fitzmaurice-Kelly",
           0,
           1
          ],
          [
           "Paul Carus",
           23,
           1
          ],
          [
           "Fannie Merritt Farmer",
           21,
           1
          ],
          [
           "Bram Stoker",
           29583,
           1
          ],
          [
           "Hafez",
           362,
           1
          ],
          [
           "Houston Stewart Chamberlain",
           0,
           1
          ],
          [
           "Edward Channing",
           0,
           1
          ],
          [
           "Hélène Adeline Guerber",
           1,
           1
          ],
          [
           "Sidney Colvin",
           0,
           1
          ],
          [
           "Oliver Herford",
           1,
           1
          ],
          [
           "George Ade",
           13,
           1
          ],
          [
           "Fiona Macleod",
           0,
           1
          ],
          [
           "Isa Bowman",
           7,
           1
          ],
          [
           "William Michael Rossetti",
           1,
           1
          ],
          [
           "Henry Noel Brailsford",
           0,
           1
          ],
          [
           "Henry Harland",
           5,
           1
          ],
          [
           "Joseph A. Seiss",
           0,
           1
          ],
          [
           "Charles Whibley",
           0,
           1
          ],
          [
           "Ernest Thompson Seton",
           5,
           1
          ],
          [
           "Alice Caldwell Hegan Rice",
           54,
           1
          ],
          [
           "Albert Lavignac",
           1,
           1
          ],
          [
           "John Oliver Hobbes",
           0,
           1
          ],
          [
           "Harry A. Spurr",
           0,
           1
          ],
          [
           "William P. Trent",
           0,
           1
          ],
          [
           "Karl Mantzius",
           0,
           1
          ],
          [
           "George Madden Martin",
           6,
           1
          ],
          [
           "Morley Roberts",
           0,
           1
          ],
          [
           "Kate Douglas Smith Wiggin",
           831,
           1
          ],
          [
           "Ferris Greenslet",
           0,
           1
          ],
          [
           "Lucy Hutchinson",
           4,
           1
          ],
          [
           "Augustine Birrell",
           0,
           1
          ],
          [
           "Wolfgang Amadeus Mozart",
           16,
           1
          ],
          [
           "Henry Stephens Salt",
           0,
           1
          ],
          [
           "Edwin Mims",
           0,
           1
          ],
          [
           "Martin Hume",
           20,
           1
          ],
          [
           "Ellis Parker Butler",
           53,
           1
          ],
          [
           "Elizabeth Bisland",
           0,
           1
          ],
          [
           "Robert Williams Wood",
           0,
           1
          ],
          [
           "Bernard Berenson",
           0,
           1
          ],
          [
           "Leonard Cresswell Ingleby",
           0,
           1
          ],
          [
           "William Morris",
           2,
           1
          ],
          [
           "Barrett Wendell",
           0,
           1
          ],
          [
           "George M. Gould",
           0,
           1
          ],
          [
           "Dante Gabriel Rossetti",
           0,
           1
          ],
          [
           "Charles Mills Gayley",
           0,
           1
          ],
          [
           "Henry de Vere Stacpoole",
           166,
           1
          ],
          [
           "Iwan Bloch",
           1,
           1
          ],
          [
           "Alfred Noyes",
           0,
           1
          ],
          [
           "Wallace Irwin",
           0,
           1
          ],
          [
           "Alfred Perceval Graves",
           6,
           1
          ],
          [
           "George Frederick Young",
           11,
           1
          ],
          [
           "Paul Bourget",
           1,
           1
          ],
          [
           "Alphonse Daudet",
           0,
           1
          ],
          [
           "William Danks",
           1,
           1
          ],
          [
           "Saki",
           18,
           1
          ],
          [
           "Stephen Graham",
           4,
           1
          ],
          [
           "David Saville Muzzey",
           0,
           1
          ],
          [
           "Henri Bergson",
           66,
           1
          ],
          [
           "Ellen Karolina Sofia Key",
           0,
           1
          ],
          [
           "Sarah Tyson Rorer",
           1,
           1
          ],
          [
           "Courtenay Ilbert",
           0,
           1
          ],
          [
           "Digby Mackworth Dolben",
           0,
           1
          ],
          [
           "Edward Thomas",
           0,
           1
          ],
          [
           "Joseph Solomon",
           0,
           1
          ],
          [
           "Ida Vera Simonton",
           0,
           1
          ],
          [
           "Nina H. Kennard",
           0,
           1
          ],
          [
           "Stuart Mason",
           4,
           1
          ],
          [
           "Jean-Henri Fabre",
           1,
           1
          ],
          [
           "Bernard Hart",
           3,
           1
          ],
          [
           "Philip Henry Wicksteed",
           0,
           1
          ],
          [
           "Raymond Poincaré",
           0,
           1
          ],
          [
           "Daniel Gregory Mason",
           0,
           1
          ],
          [
           "Mary Hannah Deakin",
           0,
           1
          ],
          [
           "Vincent van Gogh",
           14,
           1
          ],
          [
           "Aphra Behn",
           0,
           1
          ],
          [
           "Alice Van Vechten Brown",
           0,
           1
          ],
          [
           "Marie Van Vorst",
           0,
           1
          ],
          [
           "Arthur Jerome Eddy",
           0,
           1
          ],
          [
           "Ellen Sophia Bosanquet",
           0,
           1
          ],
          [
           "Francis P. Donnelly",
           0,
           1
          ],
          [
           "George W. Cronyn",
           0,
           1
          ],
          [
           "Ilya Tolstoy",
           4,
           1
          ],
          [
           "Woodrow Wilson",
           4,
           1
          ],
          [
           "Ebenezer Cunningham",
           1,
           1
          ],
          [
           "Mary Johnston",
           6,
           1
          ],
          [
           "Mildred Aldrich",
           13,
           1
          ],
          [
           "John Gould Fletcher",
           4,
           1
          ],
          [
           "Arthur William Conway",
           0,
           1
          ],
          [
           "Zane Grey",
           136,
           1
          ],
          [
           "Charlotte Mary Mew",
           1,
           1
          ],
          [
           "Anna Wickham",
           0,
           1
          ],
          [
           "Lala Lajpat Rai",
           2,
           1
          ],
          [
           "Louis Marlow",
           0,
           1
          ],
          [
           "Helen Josephine Sanborn",
           0,
           1
          ],
          [
           "R. B. Cunninghame Graham",
           0,
           1
          ],
          [
           "Thomas Whitney Surette",
           0,
           1
          ],
          [
           "Edwin Oliver James",
           0,
           1
          ],
          [
           "James Edward Meeker",
           0,
           1
          ],
          [
           "Pierre de Lanux",
           0,
           1
          ],
          [
           "Benjamin Constant",
           233,
           1
          ],
          [
           "Andreas Latzko",
           14,
           1
          ],
          [
           "Marmaduke William Pickthall",
           10,
           1
          ],
          [
           "Helen Abbott Beals",
           0,
           1
          ],
          [
           "Henry Seidel Canby",
           0,
           1
          ],
          [
           "Leland Hall",
           3,
           1
          ],
          [
           "Daniel Carson Goodman",
           0,
           1
          ],
          [
           "A. K. Cook",
           1,
           1
          ],
          [
           "David Lindsay",
           393,
           1
          ],
          [
           "Thomas Sturge Moore",
           0,
           1
          ],
          [
           "Gunnar Gunnarsson",
           0,
           1
          ],
          [
           "Doris Stevens",
           28,
           1
          ],
          [
           "Iris Tree",
           2,
           1
          ],
          [
           "R. Brimley Johnson",
           0,
           1
          ],
          [
           "Laurance Lyon",
           0,
           1
          ],
          [
           "Jaques Boulenger",
           0,
           1
          ],
          [
           "Stuart Oliver Henry",
           0,
           1
          ],
          [
           "Bernard Bosanquet",
           0,
           1
          ],
          [
           "Rémy de Gourmont",
           1,
           1
          ],
          [
           "C. Kay-Scott",
           0,
           1
          ],
          [
           "Joseph Crosby Lincoln",
           4,
           1
          ],
          [
           "Inez Haynes Gilmore",
           1,
           1
          ],
          [
           "Arthur Bingham Walkley",
           0,
           1
          ],
          [
           "Terence MacSwiney",
           2,
           1
          ],
          [
           "Katharine Fedden",
           0,
           1
          ],
          [
           "Eric Harold Neville",
           0,
           1
          ],
          [
           "Norman Angell",
           0,
           1
          ],
          [
           "Al Jennings",
           0,
           1
          ],
          [
           "Henri Dupré",
           0,
           1
          ],
          [
           "Kenneth Macgowan",
           0,
           1
          ],
          [
           "Herbert Andrews Newell",
           0,
           1
          ],
          [
           "Arnold Lorand",
           0,
           1
          ],
          [
           "Forrest Reid",
           1,
           1
          ],
          [
           "Isaac Rosenberg",
           1,
           1
          ],
          [
           "A. R. Orage",
           0,
           1
          ],
          [
           "Frank Rutter",
           0,
           1
          ],
          [
           "Aeschylus",
           94,
           1
          ],
          [
           "John George Woodroffe",
           0,
           1
          ],
          [
           "Garnet Wolseley",
           0,
           1
          ],
          [
           "Burton J. Hendrick",
           1,
           1
          ],
          [
           "Whately Carington",
           0,
           1
          ],
          [
           "Carter Godwin Woodson",
           2,
           1
          ],
          [
           "Valery Larbaud",
           7,
           1
          ],
          [
           "A. L. Kroeber",
           0,
           1
          ],
          [
           "Ivor Brown",
           0,
           1
          ],
          [
           "C. K. Scott-Moncrieff",
           0,
           1
          ],
          [
           "Louise Bryant",
           1,
           1
          ],
          [
           "Michael Maurice",
           1,
           1
          ],
          [
           "Oswald Garrison Villard",
           0,
           1
          ],
          [
           "W. H. Hadow",
           0,
           1
          ],
          [
           "Margaret Wilson",
           106,
           1
          ],
          [
           "Pietro Gorgolini",
           0,
           1
          ],
          [
           "Frank Tatchell",
           0,
           1
          ],
          [
           "William Aspenwall Bradley",
           2,
           1
          ],
          [
           "Mary MacCarthy",
           2,
           1
          ],
          [
           "Helen Follett",
           0,
           1
          ],
          [
           "Choderlos de Laclos",
           1732,
           1
          ],
          [
           "William Beebe",
           8,
           1
          ],
          [
           "Hjalmar Bergman",
           15,
           1
          ],
          [
           "Boniface de Castellane",
           1,
           1
          ],
          [
           "Esther Shephard",
           7,
           1
          ],
          [
           "Arnold Lunn",
           0,
           1
          ],
          [
           "T. E. Hulme",
           1,
           1
          ],
          [
           "F. C. S. Schiller",
           2,
           1
          ],
          [
           "Martin Armstrong",
           0,
           1
          ],
          [
           "Huntly Carter",
           0,
           1
          ],
          [
           "Arthur Berriedale Keith",
           0,
           1
          ],
          [
           "Gilbert Seldes",
           4,
           1
          ],
          [
           "Harry Golding",
           0,
           1
          ],
          [
           "Jacques Bacot",
           0,
           1
          ],
          [
           "George H. Cowling",
           0,
           1
          ],
          [
           "Jane Mander",
           2,
           1
          ],
          [
           "Jean-Jacques Brousson",
           1,
           1
          ],
          [
           "Hester Lynch Piozzi",
           2,
           1
          ],
          [
           "Lowell Thomas",
           0,
           1
          ],
          [
           "E. E. Fournier d'Albe",
           0,
           1
          ],
          [
           "A. Hamilton Gibbs",
           2,
           1
          ],
          [
           "Magdalen King-Hall",
           10,
           1
          ],
          [
           "Louise Jopling",
           0,
           1
          ],
          [
           "Harold Lawton Bruce",
           0,
           1
          ],
          [
           "Virginia MacFadyen",
           0,
           1
          ],
          [
           "Alexander Smith",
           1,
           1
          ],
          [
           "Bronislaw Malinowski",
           18,
           1
          ],
          [
           "James Boyd",
           14,
           1
          ],
          [
           "Barrett H. Clark",
           0,
           1
          ],
          [
           "Isabelle de Charrière",
           0,
           1
          ],
          [
           "Gladys Rosaleen Turquet-Milnes",
           0,
           1
          ],
          [
           "A. L. Vincent",
           0,
           1
          ],
          [
           "Ruth Suckow",
           0,
           1
          ],
          [
           "Robert Hamilton Coats",
           0,
           1
          ],
          [
           "Emily Ledyard Shields",
           0,
           1
          ],
          [
           "George Nathaniel Curzon Curzon of Kedleston",
           0,
           1
          ],
          [
           "Olga Hartley",
           0,
           1
          ],
          [
           "Percival G. Bull",
           0,
           1
          ],
          [
           "Esther Forbes",
           0,
           1
          ],
          [
           "Roy Chapman Andrews",
           4,
           1
          ],
          [
           "Martha Roscoe Garnett",
           0,
           1
          ],
          [
           "Orlo Williams",
           0,
           1
          ],
          [
           "Robert Myron Coates",
           8,
           1
          ],
          [
           "Ford K. Brown",
           0,
           1
          ],
          [
           "Cameron Rogers",
           0,
           1
          ],
          [
           "Lionel Giles",
           5517,
           1
          ],
          [
           "Denis Saurat",
           0,
           1
          ],
          [
           "A. M. Champneys",
           0,
           1
          ],
          [
           "W. J. Turner",
           0,
           1
          ],
          [
           "William Diapea",
           0,
           1
          ],
          [
           "Leang-Li T'ang",
           0,
           1
          ],
          [
           "Ivan Pavlov",
           2,
           1
          ],
          [
           "Bernard W. Henderson",
           0,
           1
          ],
          [
           "Evan Charteris",
           2,
           1
          ],
          [
           "Lothrop Stoddard",
           1,
           1
          ],
          [
           "Victor L. Whitechurch",
           0,
           1
          ],
          [
           "William J. Anderson",
           1,
           1
          ],
          [
           "Arthur Elson",
           0,
           1
          ],
          [
           "Allardyce Nicoll",
           0,
           1
          ],
          [
           "A. L. Maycock",
           0,
           1
          ],
          [
           "William Orpen",
           1,
           1
          ],
          [
           "William Blake",
           1277,
           1
          ],
          [
           "J. Chartres Molony",
           0,
           1
          ],
          [
           "Eugenie Schumann",
           3,
           1
          ],
          [
           "Elizabeth Wheeler Schermerhorn",
           0,
           1
          ],
          [
           "Nikolai Evreinov",
           0,
           1
          ],
          [
           "Dolf Wyllarde",
           0,
           1
          ],
          [
           "Alfred Aloysius Horn",
           5,
           1
          ],
          [
           "Herbert John Gladstone",
           0,
           1
          ],
          [
           "Viña Delmar",
           2,
           1
          ],
          [
           "Eleanor Mercein Kelly",
           2,
           1
          ],
          [
           "John Womack Vandercook",
           1,
           1
          ],
          [
           "Catherine Wells",
           0,
           1
          ],
          [
           "J. Y. T. Greig",
           0,
           1
          ],
          [
           "Evelyn Lilian Martinengo-Cesaresco",
           0,
           1
          ],
          [
           "Blair Niles",
           1,
           1
          ],
          [
           "Edmund Snell",
           0,
           1
          ],
          [
           "Joseph Stalin",
           58,
           1
          ],
          [
           "Roark Bradford",
           1,
           1
          ],
          [
           "Samuel Hoffenstein",
           1,
           1
          ],
          [
           "Max Aitken Beaverbrook",
           0,
           1
          ],
          [
           "Régis Michaud",
           0,
           1
          ],
          [
           "Elizabeth Robins Pennell",
           2,
           1
          ],
          [
           "Elliot O'Donnell",
           0,
           1
          ],
          [
           "Cynthia Asquith",
           0,
           1
          ],
          [
           "Jean Lucas-Dubreton",
           0,
           1
          ],
          [
           "W. B. Trites",
           1,
           1
          ],
          [
           "Ernest Poole",
           19,
           1
          ],
          [
           "Foxhall Daingerfield",
           3,
           1
          ],
          [
           "Albert Londres",
           2,
           1
          ],
          [
           "Richard Wilhelm",
           0,
           1
          ],
          [
           "Konrad Bercovici",
           2,
           1
          ],
          [
           "Emily Hilda Young",
           10,
           1
          ],
          [
           "Morris Leopold Ernst",
           0,
           1
          ],
          [
           "Dale Collins",
           1,
           1
          ],
          [
           "Erich Maria Remarque",
           11568,
           1
          ],
          [
           "Malcolm Cowley",
           3,
           1
          ],
          [
           "Rosamund Langbridge",
           0,
           1
          ],
          [
           "Anthony Gilbert",
           0,
           1
          ],
          [
           "Samuel Putnam",
           0,
           1
          ],
          [
           "H. W. Freeman",
           1,
           1
          ],
          [
           "Frederick S. Boas",
           0,
           1
          ],
          [
           "Muriel Draper",
           1,
           1
          ],
          [
           "James Tucker",
           2,
           1
          ],
          [
           "Edward Abbott Parry",
           0,
           1
          ],
          [
           "Leonard R. Gribble",
           1,
           1
          ],
          [
           "E. V. Gatenby",
           0,
           1
          ],
          [
           "George Sand",
           9,
           1
          ],
          [
           "Richard Lewinsohn",
           5,
           1
          ],
          [
           "John Dewey",
           15,
           1
          ],
          [
           "André Chamson",
           0,
           1
          ],
          [
           "Harry Graf Kessler",
           1,
           1
          ],
          [
           "Fabian Society",
           0,
           1
          ],
          [
           "A. Edward Newton",
           0,
           1
          ],
          [
           "Joseph Beach",
           0,
           1
          ],
          [
           "Geoffrey West",
           0,
           1
          ],
          [
           "John Collier",
           24,
           1
          ],
          [
           "Richard Paget",
           0,
           1
          ],
          [
           "E. M. W. Tillyard",
           0,
           1
          ],
          [
           "Isabel Briggs Myers",
           6,
           1
          ],
          [
           "Caradoc Evans",
           3,
           1
          ],
          [
           "M. R. Ridley",
           0,
           1
          ],
          [
           "C. F. Tucker Brooke",
           0,
           1
          ],
          [
           "Natalie Clifford Barney",
           0,
           1
          ],
          [
           "Edith Olivier",
           1,
           1
          ],
          [
           "Joseph Wood Krutch",
           0,
           1
          ],
          [
           "Mahátma Gándhi",
           2172,
           1
          ],
          [
           "Agnes Repplier",
           1,
           1
          ],
          [
           "H. S. Ede",
           2,
           1
          ],
          [
           "Pierre Corneille",
           1,
           1
          ],
          [
           "John Skelton",
           3,
           1
          ],
          [
           "E. R. Punshon",
           0,
           1
          ],
          [
           "Edgar James Swift",
           0,
           1
          ],
          [
           "Jehanne d'Orliac",
           0,
           1
          ],
          [
           "H. A. Manhood",
           0,
           1
          ],
          [
           "Otto Rank",
           11,
           1
          ],
          [
           "Frank H. Simonds",
           0,
           1
          ],
          [
           "Cecil Street",
           0,
           1
          ],
          [
           "Nina Hamnett",
           11,
           1
          ],
          [
           "F. R. Leavis",
           2,
           1
          ],
          [
           "Alexander Mikhailovich",
           5,
           1
          ],
          [
           "Zelda Fitzgerald",
           357,
           1
          ],
          [
           "Paul G. Konody",
           1,
           1
          ],
          [
           "Georgette Leblanc",
           0,
           1
          ],
          [
           "Thorne Smith",
           22,
           1
          ],
          [
           "Peadar O'Donnell",
           0,
           1
          ],
          [
           "George Barker",
           0,
           1
          ],
          [
           "Charles Williams",
           1,
           1
          ],
          [
           "Alice Roosevelt Longworth",
           9,
           1
          ],
          [
           "Hillel Bernstein",
           1,
           1
          ],
          [
           "Richard Boleslavski",
           2,
           1
          ],
          [
           "Vernon Bartlett",
           1,
           1
          ],
          [
           "Alice-Leone Moats",
           13,
           1
          ],
          [
           "Irene Cooper Willis",
           1,
           1
          ],
          [
           "Caroline Gordon",
           3,
           1
          ],
          [
           "I. A. Richards",
           0,
           1
          ],
          [
           "Whidden Graham",
           0,
           1
          ],
          [
           "Michael Roberts",
           0,
           1
          ],
          [
           "Lauren Gilfillan",
           1,
           1
          ],
          [
           "Louis Trenchard More",
           0,
           1
          ],
          [
           "H. C. Engelbrecht",
           1,
           1
          ],
          [
           "Lewis Grassic Gibbon",
           0,
           1
          ],
          [
           "B. Traven",
           169,
           1
          ],
          [
           "Elizabeth Reynard",
           2,
           1
          ],
          [
           "Montague Summers",
           1,
           1
          ],
          [
           "Ernest Weekley",
           4,
           1
          ],
          [
           "Henry Miller",
           3473,
           1
          ],
          [
           "Nancy Hoyt",
           0,
           1
          ],
          [
           "A. L. Rowse",
           0,
           1
          ],
          [
           "Gleb Struve",
           0,
           1
          ],
          [
           "Geoffrey Grigson",
           0,
           1
          ],
          [
           "Epictetus",
           78,
           1
          ],
          [
           "Ann Winslow",
           0,
           1
          ],
          [
           "Gale Wilhelm",
           6,
           1
          ],
          [
           "Andrew Sydenham Farrar Gow",
           1,
           1
          ],
          [
           "Panteleimon Romanov",
           0,
           1
          ],
          [
           "Edwina H. Wilson",
           0,
           1
          ],
          [
           "Ernest Fenollosa",
           27,
           1
          ],
          [
           "Clyde B. Clason",
           1,
           1
          ],
          [
           "Angna Enters",
           0,
           1
          ],
          [
           "Jerome Weidman",
           10,
           1
          ],
          [
           "Maxence Van der Meersch",
           4,
           1
          ],
          [
           "Louis Adamic",
           0,
           1
          ],
          [
           "Stuart David Engstrand",
           0,
           1
          ],
          [
           "Baynard Kendrick",
           5,
           1
          ],
          [
           "Frank Jellinek",
           1,
           1
          ],
          [
           "Leonard Daniel Wickenden",
           0,
           1
          ],
          [
           "Robert Alexander Brady",
           0,
           1
          ],
          [
           "Herbert Francis Saltmarsh",
           0,
           1
          ],
          [
           "J. Edgar Hoover",
           0,
           1
          ],
          [
           "Henri Michaux",
           15,
           1
          ],
          [
           "Dorothy Mackenzie Hoare",
           0,
           1
          ],
          [
           "Gwendolen Murphy",
           0,
           1
          ],
          [
           "George Lowther Steer",
           3,
           1
          ],
          [
           "Mark Benney",
           0,
           1
          ],
          [
           "Édouard Dujardin",
           22,
           1
          ],
          [
           "Carlton J. H. Hayes",
           1,
           1
          ],
          [
           "Robert E. Sherwood",
           9,
           1
          ],
          [
           "S. Josephine Baker",
           49,
           1
          ],
          [
           "Richard Llewellyn",
           1464,
           1
          ],
          [
           "Jennie Lee",
           0,
           1
          ],
          [
           "Clarence K. Streit",
           1,
           1
          ],
          [
           "E. C. R. Lorac",
           0,
           1
          ],
          [
           "Charles Jackson",
           205,
           1
          ],
          [
           "Lionel Trilling",
           22,
           1
          ],
          [
           "Edward Streeter",
           7,
           1
          ],
          [
           "Vladimir Nabokov",
           27572,
           1
          ],
          [
           "Walt Kelly",
           3,
           1
          ],
          [
           "John Osborne",
           400,
           1
          ],
          [
           "Stanislaus Joyce",
           12,
           1
          ],
          [
           "Sylvia Beach",
           194,
           1
          ],
          [
           "John Braine",
           8,
           1
          ],
          [
           "Thomas Heywood",
           22,
           1
          ],
          [
           "Robert Wace",
           2,
           1
          ],
          [
           "Karl Marx",
           589,
           1
          ],
          [
           "Thomas Gray",
           0,
           1
          ],
          [
           "François Rabelais",
           485,
           1
          ],
          [
           "Karl Baedeker",
           0,
           1
          ],
          [
           "Plutarch",
           168,
           1
          ],
          [
           "Henry Howard",
           2,
           1
          ],
          [
           "Heinrich Heine",
           16,
           1
          ],
          [
           "François Villon",
           57,
           1
          ],
          [
           "Richard Crashaw",
           0,
           1
          ],
          [
           "Aurelius Augustinus",
           2624,
           1
          ],
          [
           "Dante Alighieri",
           4367,
           1
          ],
          [
           "William Beckford",
           16,
           1
          ],
          [
           "Joseph Farington",
           0,
           1
          ],
          [
           "Aristophanes",
           273,
           1
          ],
          [
           "J. B. Bury",
           44,
           1
          ],
          [
           "Peter Abelard",
           262,
           1
          ],
          [
           "Richard Hakluyt",
           12,
           1
          ],
          [
           "Thomas Kyd",
           183,
           1
          ],
          [
           "Marco Polo",
           490,
           1
          ],
          [
           "Robert Burton",
           160,
           0
          ],
          [
           "Johann David Wyss",
           2608,
           0
          ],
          [
           "Harriet Beecher Stowe",
           8381,
           0
          ],
          [
           "R. M. Ballantyne",
           7,
           0
          ],
          [
           "John Jamieson",
           0,
           0
          ],
          [
           "Max Nordau",
           4,
           0
          ],
          [
           "Andrew Marvell",
           7,
           0
          ],
          [
           "Felix Emmanuel Schelling",
           1,
           0
          ],
          [
           "George Crabbe",
           0,
           0
          ],
          [
           "L. Frank Baum",
           13818,
           0
          ],
          [
           "Edmond de Goncourt",
           2,
           0
          ],
          [
           "George Edward Moore",
           34,
           0
          ],
          [
           "Erskine Childers",
           599,
           0
          ],
          [
           "C. T. Onions",
           4,
           0
          ],
          [
           "Louis-Antoine Fauvelet Bourrienne",
           4,
           0
          ],
          [
           "Frank Aydelotte",
           0,
           0
          ],
          [
           "Gilbert Murray",
           6,
           0
          ],
          [
           "Paul Elmer More",
           1,
           0
          ],
          [
           "Maria Montessori",
           2,
           0
          ],
          [
           "C. H. Douglas",
           0,
           0
          ],
          [
           "Constance Grenelle Wilcox",
           0,
           0
          ],
          [
           "Joris-Karl Huysmans",
           829,
           0
          ],
          [
           "Henry Wickham Steed",
           0,
           0
          ],
          [
           "Karel Capek",
           36,
           0
          ],
          [
           "Léon Pierre-Quint",
           0,
           0
          ],
          [
           "Keith Feiling",
           0,
           0
          ],
          [
           "Ramón Fernández",
           0,
           0
          ],
          [
           "Charles Aubert",
           0,
           0
          ],
          [
           "Logan Clendening",
           1,
           0
          ],
          [
           "Vere H. Collins",
           2,
           0
          ],
          [
           "Lucan",
           74,
           0
          ],
          [
           "Lawrence Dundas",
           0,
           0
          ],
          [
           "René Crevel",
           3,
           0
          ],
          [
           "John Russell",
           1,
           0
          ],
          [
           "Marie Jenney Howe",
           0,
           0
          ],
          [
           "Caroline F. E. Spurgeon",
           0,
           0
          ],
          [
           "Harry Crosby",
           0,
           0
          ],
          [
           "Roy Campbell",
           1,
           0
          ],
          [
           "Saint-John Perse",
           34,
           0
          ],
          [
           "Leonhard Frank",
           20,
           0
          ],
          [
           "Marcel Aymé",
           0,
           0
          ],
          [
           "Immanuel Kant",
           12,
           0
          ],
          [
           "Tobias Dantzig",
           52,
           0
          ],
          [
           "L. Adams Beck",
           1,
           0
          ],
          [
           "Emily Holmes Coleman",
           22,
           0
          ],
          [
           "William Roughead",
           0,
           0
          ],
          [
           "Roy Sheldon",
           0,
           0
          ],
          [
           "Eugene Jolas",
           0,
           0
          ],
          [
           "J. C. Masterman",
           21,
           0
          ],
          [
           "Georges Duplaix",
           6,
           0
          ],
          [
           "Charles Henri Ford",
           10,
           0
          ],
          [
           "Sidney Hook",
           5,
           0
          ],
          [
           "C. E. Eckersley",
           0,
           0
          ],
          [
           "Paul Engle",
           0,
           0
          ],
          [
           "Thomas MacGreevy",
           1,
           0
          ],
          [
           "William Henry Chamberlin",
           0,
           0
          ],
          [
           "Louis Guilloux",
           22,
           0
          ],
          [
           "William Henry Herndon",
           15,
           0
          ],
          [
           "Lancelot Thomas Hogben",
           22,
           0
          ],
          [
           "J. F. Brown",
           0,
           0
          ],
          [
           "Gaetano Salvemini",
           2,
           0
          ],
          [
           "M. Shirokov",
           3,
           0
          ],
          [
           "Ivy Compton-Burnett",
           2,
           0
          ],
          [
           "Ernest Barker",
           1,
           0
          ],
          [
           "Robert Alexander Stewart Macalister",
           0,
           0
          ],
          [
           "Geoffrey T. Garratt",
           1,
           0
          ],
          [
           "Robin Fedden",
           0,
           0
          ],
          [
           "Sheila Cousins",
           0,
           0
          ],
          [
           "Xiaoxiao Sheng",
           53,
           0
          ],
          [
           "Denis de Rougemont",
           45,
           0
          ],
          [
           "Denys Kilham Roberts",
           1,
           0
          ],
          [
           "Federico García Lorca",
           815,
           0
          ],
          [
           "Jean Paris",
           2,
           0
          ],
          [
           "Milovan Djilas",
           8,
           0
          ],
          [
           "Marguerite Duras",
           302,
           0
          ],
          [
           "Georg Wilhelm Friedrich Hegel",
           22,
           0
          ]
         ],
         "hovertemplate": "<b>%{hovertext}</b><br><br>S&C Rank: %{x:,.2f}<br>Total S&C Borrows: %{customdata[2]}<br><br>Goodreads Rank: %{y:,.2f}<br>Total Goodreads Reviews: %{customdata[1]:,.0f}<br><br>Number of Works: %{marker.color}<extra></extra>",
         "hovertext": [
          "D. H. Lawrence",
          "Virginia Woolf",
          "Aldous Huxley",
          "Dorothy M. Richardson",
          "W. Somerset Maugham",
          "James Joyce",
          "Ernest Hemingway",
          "John Galsworthy",
          "Henry James",
          "William Faulkner",
          "E. M. Forster",
          "nan",
          "George Moore",
          "Arnold Bennett",
          "Sinclair Lewis",
          "Compton Mackenzie",
          "H. G. Wells",
          "George Bernard Shaw",
          "Hugh Walpole",
          "William Butler Yeats",
          "Dorothy Sayers",
          "Joseph Conrad",
          "Katherine Mansfield",
          "John Dos Passos",
          "G. K. Chesterton",
          "Agatha Christie",
          "Pearl S. Buck",
          "T. S. Eliot",
          "Theodore Dreiser",
          "Erle Stanley Gardner",
          "Thomas Hardy",
          "Rosamond Lehmann",
          "Margaret Kennedy",
          "Sherwood Anderson",
          "Eugene O'Neill",
          "Willa Cather",
          "Mazo De la Roche",
          "George Meredith",
          "James Stephens",
          "Giles Lytton Strachey",
          "Christopher Isherwood",
          "Charles Morgan",
          "Rose Macaulay",
          "W. H. Auden",
          "E. M. Delafield",
          "Rudyard Kipling",
          "Norman Douglas",
          "Louis Bromfield",
          "Kay Boyle",
          "Wyndham Lewis",
          "Thornton Wilder",
          "Samuel Butler",
          "Stephen Spender",
          "S. S. Van Dine",
          "John Dickson Carr",
          "Edith Wharton",
          "Anthony Trollope",
          "P. G. Wodehouse",
          "J. B. Priestley",
          "Gertrude Stein",
          "Richard Aldington",
          "Elizabeth Bowen",
          "Maurice Baring",
          "Ann Bridge",
          "Francis Brett Young",
          "John Steinbeck",
          "Charles Dickens",
          "Havelock Ellis",
          "Clemence Dane",
          "A. J. Cronin",
          "George Orwell",
          "David Garnett",
          "Ezra Pound",
          "Ford Madox Ford",
          "Liam O'Flaherty",
          "Thomas Mann",
          "Oscar Wilde",
          "May Sinclair",
          "Robert Louis Stevenson",
          "Waldo Frank",
          "W. H. Hudson",
          "Mary Borden",
          "Daphne Du Maurier",
          "Edna Ferber",
          "Vita Sackville-West",
          "Erskine Preston Caldwell",
          "Frank Swinnerton",
          "John Cowper Powys",
          "Joseph Smith Fletcher",
          "Eric Linklater",
          "Fyodor Dostoyevsky",
          "Sigmund Freud",
          "Joseph Hergesheimer",
          "Herman Melville",
          "Winifred Holtby",
          "Upton Sinclair",
          "Walter De la Mare",
          "Rebecca West",
          "William Carlos Williams",
          "Fannie Hurst",
          "Evelyn Waugh",
          "Bertrand Russell",
          "Lord Dunsany",
          "C. Day Lewis",
          "William Makepeace Thackeray",
          "Jane Austen",
          "Mary Webb",
          "Carl Van Vechten",
          "William Saroyan",
          "Elizabeth von Arnim",
          "Philip Gibbs",
          "John Middleton Murry",
          "Edmund Gosse",
          "John Millington Synge",
          "John Masefield",
          "Warwick Deeping",
          "Frank Harris",
          "Sheila Kaye-Smith",
          "Stella Benson",
          "Radclyffe Hall",
          "F. Scott Fitzgerald",
          "Dorothy Canfield Fisher",
          "Theodore Francis Powys",
          "Freeman Wills Crofts",
          "A. P. Herbert",
          "Margaret Mitchell",
          "John Buchan",
          "Robert Graves",
          "J. J. Connington",
          "G. B. Stern",
          "John O'Hara",
          "E. Phillips Oppenheim",
          "Rabindranath Tagore",
          "Edith Sitwell",
          "Jakob Wassermann",
          "Michael Arlen",
          "Jerome K. Jerome",
          "J. M. Barrie",
          "Arthur Machen",
          "H. L. Mencken",
          "Osbert Sitwell",
          "William Seabrook",
          "George Eliot",
          "George Saintsbury",
          "George Robert Gissing",
          "James George Frazier",
          "George Santayana",
          "Christopher Morley",
          "Richard Hughes",
          "Seán Ó Faoláin",
          "Graham Greene",
          "H. C. Bailey",
          "Tobias Smollett",
          "Fanny Burney",
          "Charlotte Brontë",
          "Emily Brontë",
          "Anton Chekhov",
          "Marie Belloc Lowndes",
          "Walter Lionel George",
          "Katherine Anne Porter",
          "William Shakespeare",
          "Thomas de Quincey",
          "Walter Pater",
          "Mary Butts",
          "Frederic Prokosch",
          "Laurence Sterne",
          "Nathaniel Hawthorne",
          "Max Beerbohm",
          "Ludwig Lewisohn",
          "Daniel Defoe",
          "Carl Sandburg",
          "Djuna Barnes",
          "Siegfried Sassoon",
          "Stefan Zweig",
          "Phyllis Bottome",
          "Henry Fielding",
          "O. Henry",
          "Logan Pearsall Smith",
          "Edgar Wallace",
          "Beverley Nichols",
          "Edmund Wilson",
          "Jonathan Swift",
          "Stephen Crane",
          "Æ",
          "Marcel Proust",
          "E. E. Cummings",
          "Herbert Sherman Gorman",
          "Naomi Mitchison",
          "Phyllis Eleanor Bentley",
          "Louis Golding",
          "Christina Stead",
          "Leslie Charteris",
          "Walter Scott",
          "Nikolai Gogol",
          "Ivan Turgenev",
          "André Gide",
          "Leonard Merrick",
          "Ronald Firbank",
          "Emily Dickinson",
          "Sylvia Thompson",
          "Margaret Irwin",
          "Mabel Dodge Luhan",
          "Peter Fleming",
          "Mignon Good Eberhart",
          "Marjorie Kinnan Rawlings",
          "John P. Marquand",
          "Lewis Carroll",
          "Robert Bridges",
          "Frank Norris",
          "Booth Tarkington",
          "Jack London",
          "H. M. Tomlinson",
          "Elinor Wylie",
          "Gertrude Lowthian Bell",
          "Dorothy Parker",
          "Stella Gibbons",
          "Samuel Taylor Coleridge",
          "Mark Twain",
          "William Dean Howells",
          "Walt Whitman",
          "August Strindberg",
          "Lady Gregory",
          "Ellen Anderson Gholson Glasgow",
          "Isadora Duncan",
          "Allen Tate",
          "Thomas Wolfe",
          "Oliver St. John Gogarty",
          "Valentine Williams",
          "R. A. J. Walling",
          "Cyril Connolly",
          "James Thurber",
          "William Hazlitt",
          "Robert McAlmon",
          "Storm Jameson",
          "Archibald MacLeish",
          "Sylvia Townsend Warner",
          "Mary Roberts Rinehart",
          "Eleanor Smith",
          "James Hanley",
          "James T. Farrell",
          "Victoria Lincoln",
          "Enid Bagnold",
          "Elizabeth Gaskell",
          "James Huneker",
          "Van Wyck Brooks",
          "J. D. Beresford",
          "James Branch Cabell",
          "Ben Hecht",
          "Herbert Read",
          "Harold George Nicolson",
          "Darwin Teilhet",
          "Kenneth Roberts",
          "Oliver Goldsmith",
          "James Boswell",
          "Ralph Waldo Emerson",
          "Arthur Conan Doyle",
          "E. Œ. Somervile",
          "C. E. Montague",
          "John Drinkwater",
          "Max Eastman",
          "Floyd Dell",
          "A. E. Coppard",
          "Evelyn Scott",
          "Denis Mackail",
          "William Alexander Gerhardie",
          "Lion Feuchtwanger",
          "Frederic Dannay",
          "Dashiell Hammett",
          "Vera Brittain",
          "John Gunther",
          "Edmund Clerihew Bentley",
          "John Keats",
          "Samuel Pepys",
          "Lafcadio Hearn",
          "Anatole France",
          "J. Storer Clouston",
          "Alfred North Whitehead",
          "Sean O'Casey",
          "T. E. Lawrence",
          "Caroline Miller",
          "Phoebe Atwood Taylor",
          "Margaret Halsey",
          "Samuel Richardson",
          "George Gordon Byron Byron",
          "Thomas Carlyle",
          "George Henry Borrow",
          "Richard Jefferies",
          "Charles Montagu Doughty",
          "Geoffrey Chaucer",
          "Hilaire Belloc",
          "Francis Thompson",
          "Amy Lowell",
          "G. B. Harrison",
          "DuBose Heyward",
          "Michael Sadleir",
          "Norah Hoult",
          "Maxwell Struthers Burt",
          "Carl Van Doren",
          "Nathanael West",
          "H. L. Davis",
          "Bessie Breuer",
          "Yutang Lin",
          "Leo Tolstoy",
          "Standish James O'Grady",
          "Knut Hamsun",
          "G. Lowes Dickinson",
          "Henry Adams",
          "Otto Jesperson",
          "Dmitry Merezhkovsky",
          "Gilbert Frankau",
          "Carl Gustav Jung",
          "Stephen McKenna",
          "Daniel Corkery",
          "Claude McKay",
          "Margot Asquith",
          "Emil Ludwig",
          "Sarah Gertrude Millin",
          "Glenway Wescott",
          "Robinson Jeffers",
          "Walter Sydney Masterman",
          "Katherine Mayo",
          "Susan Ertz",
          "Stuart Gilbert",
          "Frank Budgen",
          "Philip MacDonald",
          "Algernon Charles Swinburne",
          "John Richard Green",
          "A. E. Housman",
          "Benedetto Croce",
          "Alec Waugh",
          "John Palmer",
          "A. A. Milne",
          "Elizabeth Bibesco",
          "Hugh I'Anson Fausset",
          "John Erskine",
          "R. H. Mottram",
          "Laura Riding",
          "Maurice Gerschon Hindus",
          "Edward Dahlberg",
          "Hilda Vaughan",
          "Margery Allingham",
          "A. G. Macdonell",
          "Nora Waln",
          "Zora Neale Hurston",
          "Frieda Lawrence",
          "Stark Young",
          "Jonathan Latimer",
          "Margery Sharp",
          "Richard Wright",
          "John Milton",
          "John Bunyan",
          "Stendhal",
          "John Ruskin",
          "Georgiana Fullerton",
          "Edgar Allan Poe",
          "Friedrich Nietzsche",
          "Anna Katharine Green",
          "James Anthony Froude",
          "Henrik Ibsen",
          "Arthur Symons",
          "William John Locke",
          "Rafael Sabatini",
          "George Macaulay Trevelyan",
          "George Holbrook Jackson",
          "Edgar Lee Masters",
          "Ernest Augustus Boyd",
          "Edna St. Vincent Millay",
          "Gilbert Cannan",
          "John Livingston Lowes",
          "Catherine Carswell",
          "Sax Rohmer",
          "Anne Douglas Sedgwick",
          "Sacheverell Sitwell",
          "Herbert Adams",
          "Grafton Elliot Smith",
          "F. Tennyson Jesse",
          "David Cecil",
          "Kathleen Coyle",
          "Earl Derr Biggers",
          "Helen Ashton",
          "James Hilton",
          "Alice Tisdale Hobart",
          "Helen Waddell",
          "Milward Kennedy",
          "H. V. Marrot",
          "F. Van Wyck Mason",
          "Claude Houghton Oldfield",
          "Negley Farson",
          "Noel Coward",
          "Rachel Field",
          "Howard Spring",
          "Anthony Berkeley",
          "John Stephen Strange",
          "Milton M. Propper",
          "Dylan Thomas",
          "Elizabeth Page",
          "Alexander Pope",
          "Anne Brontë",
          "Émile Zola",
          "Thomas Dekker",
          "Thomas Lodge",
          "H. P. Blavatsky",
          "Selma Lagerlöf",
          "Ambrose Gwinnett Bierce",
          "Stopford Augustus Brooke",
          "G. Lenotre",
          "Maurice Hewlett",
          "W. H. Davies",
          "Thomas Burke",
          "Stephen Leacock",
          "Ring Lardner",
          "Harold Monro",
          "Stephen Hudson",
          "Conal O'Riordan",
          "Marianne Moore",
          "Phillip Guedalla",
          "Julian Huxley",
          "John Crowe Ransom",
          "Hope Mirrlees",
          "Anita Loos",
          "Langston Hughes",
          "Hart Crane",
          "Sigrid Undset",
          "Axel Munthe",
          "Keith Trask",
          "Vicki Baum",
          "Karl Menninger",
          "Leon Trotsky",
          "William Charles Franklyn Plomer",
          "Gladys Hasty Carroll",
          "Robert Benchley",
          "Cecil Roberts",
          "Jessie Chambers",
          "Victor Heiser",
          "Joan Grant",
          "William E. Woodward",
          "Thomas Malory",
          "Thomas Browne",
          "Benjamin Disraeli",
          "Walter Savage Landor",
          "Alfred Tennyson",
          "Richard Morris",
          "Edward Dowden",
          "H. D. Traill",
          "Mark Rutherford",
          "Jessie Weston",
          "William James",
          "Susan Glaspell",
          "Eden Phillpotts",
          "Edward Gordon Craig",
          "James Elroy Flecker",
          "Clive Bell",
          "Romer Wilson",
          "Harry Hamilton Johnston",
          "Hermann von Keyserling",
          "Arthur Schnitzler",
          "Wallace Stevens",
          "Paul Morand",
          "H. D.",
          "H. C. McNeile",
          "H. J. C. Grierson",
          "Frances Newman",
          "Anne Parrish",
          "Elizabeth Madox Roberts",
          "Anna Louise Strong",
          "Ernest Temple Thurston",
          "William Empson",
          "Francis Yeats-Brown",
          "Desmond MacCarthy",
          "Anne Green",
          "Younghill Kang",
          "J. R. Ackerley",
          "Kay Cleaver Strahan",
          "Hervey Allen",
          "Malcolm Lowry",
          "Ethel Mannin",
          "Anne Morrow Lindbergh",
          "Joseph Maunsell Hone",
          "Melrich V. Rosenberg",
          "Elliot Paul",
          "Leo Rosten",
          "Douglas G. Browne",
          "Naomi Jacob",
          "Ruth McKenney",
          "Joel Y. Dane",
          "Robert Nathan",
          "Flann O'Brien",
          "John Macmurray",
          "Dorothy Baker",
          "Edmund Spenser",
          "William Wordsworth",
          "Wilkie Collins",
          "Robert Browning",
          "John Addington Symonds",
          "Israel Zangwill",
          "Francis Marion Crawford",
          "A. C. Bradley",
          "E. V. Lucas",
          "Leonid Andreyev",
          "Johan Bojer",
          "W. B. Maxwell",
          "Henry Osborn Taylor",
          "John Donne",
          "Lascelles Abercrombie",
          "Robert Frost",
          "Constance Holme",
          "Rupert Brooke",
          "A. P. Sinnett",
          "M. K. Bradby",
          "William Le Queux",
          "Bryher",
          "Paul Rosenfeld",
          "Vachel Lindsay",
          "M. R. Werner",
          "Darrell Figgis",
          "Martha Ostenso",
          "D. S. Mirsky",
          "J. W. Dunne",
          "Alexandra David-Néel",
          "Francis Hackett",
          "Ivan Goncharov",
          "Aleksis Kivi",
          "Alfred Döblin",
          "James Gould Cozzens",
          "Helen Simpson",
          "Grace Lumpkin",
          "James Truslow Adams",
          "Maurice O'Sullivan",
          "Samuel Rogers",
          "Bhagwãn Shri Hamsa",
          "James M. Cain",
          "Zenith Jones Brown",
          "Helen Reilly",
          "Walter Dumaux Edmonds",
          "Edwin P. O'Donnell",
          "Dean Hawkins",
          "Dave Marlowe",
          "Elmer Rice",
          "Walter Duranty",
          "Zelda Popkin",
          "Taylor Caldwell",
          "Patricia Wentworth",
          "Henry Green",
          "Rayner Heppenstall",
          "Ngaio Marsh",
          "Philip Sidney",
          "Hannah Webster Foster",
          "James Thomson",
          "Honoré de Balzac",
          "Charles Kingsley",
          "Alexander Gilchrist",
          "P. W. Joyce",
          "Leslie Stephen",
          "Henry Austin Dobson",
          "Edgar Saltus",
          "Edward Carpenter",
          "Gertrude Franklin Horn Atherton",
          "Georg Brandes",
          "Robert Smythe Hichens",
          "E. M. Jameson",
          "Richard Brinsley Sheridan",
          "Percy Bysshe Shelley",
          "Wilbur L. Cross",
          "Oliver Lodge",
          "Violet Hunt",
          "Everard Meynell",
          "John Albert Macy",
          "Pyotr Demianovich Ouspensky",
          "Jules Romains",
          "Conrad Aiken",
          "Alan Seeger",
          "Ethel M. Dell",
          "Louis Couperus",
          "J. C. Squire",
          "Donn Byrne",
          "Aleister Crowley",
          "Shane Leslie",
          "Luigi Pirandello",
          "C. K. Ogden",
          "J. W. N. Sullivan",
          "Walter Francis White",
          "Etsuko Sugimoto",
          "Countee Cullen",
          "Francis Wrigley Hirst",
          "Jules Barbey d'Aurevilly",
          "Jean Cocteau",
          "Edward M. House",
          "Harold Lamb",
          "Ellen Du Poise Taylor",
          "Frances Noyes Hart",
          "W. P. Ker",
          "Baroness Orczy",
          "Edna Bryner",
          "Carolyn Wells",
          "Vernon Loder",
          "E. K. Chambers",
          "Henry Handel Richardson",
          "Kate O'Brien",
          "Q. D. Leavis",
          "John Strachey",
          "Nai'an Shi",
          "Dorothy Brett",
          "Ruth Elvish Mantz",
          "Sholem Asch",
          "Alice James",
          "Alexander Laing",
          "Marguerite Steen",
          "L. H. Myers",
          "Clifford Odets",
          "John Langdon-Davies",
          "Christopher Bush",
          "Cortland Fitzsimmons",
          "Christopher Hale",
          "Myron Brinig",
          "Enid Starkie",
          "Louis MacNeice",
          "May Sarton",
          "William Lyon Phelps",
          "Francis Bacon",
          "Johann Wolfgang von Goethe",
          "Thomas Babington Macaulay",
          "Edward Fitzgerald",
          "Henry David Thoreau",
          "Matthew Arnold",
          "Margaret Roberts",
          "Lloyd Lewis",
          "Ben Jonson",
          "Thomas Henry Huxley",
          "Ernest Rhys",
          "Sidney Lee",
          "Robert Herrick",
          "Maurice Maeterlinck",
          "W. S. Gilbert",
          "Maxim Gorky",
          "Robert Harborough Sherard",
          "Thomas Wright",
          "Harley Granville-Barker",
          "John Alexander Hammerton",
          "John Henry Ingram",
          "P. P. Howe",
          "Arthur Ransome",
          "Stewart Edward White",
          "Edward Joseph Dent",
          "Grace Eleanor Hadow",
          "Francis Warre Cornish",
          "St. John G. Ervine",
          "William McFee",
          "Padraic Colum",
          "Percival Christopher Wren",
          "Gerard Manley Hopkins",
          "John Maynard Keynes",
          "Edward Shanks",
          "S. P. B. Mais",
          "Zona Gale",
          "Hugh Lofting",
          "Edwin Arlington Robinson",
          "Stephen Vincent Benét",
          "William Archer",
          "George Jean Nathan",
          "Arthur Ponsonby",
          "John Mackinnon Robertson",
          "Giovanni Verga",
          "Jan Gordon",
          "Vernon Lee",
          "Stephen Lucius Gwynn",
          "J. B. S. Haldane",
          "Bonamy Dobrée",
          "Thomas Beer",
          "Kathleen Thompson Norris",
          "Alain Locke",
          "Franz Kafka",
          "Anna Dostoevskaia",
          "F. E. Smith",
          "Julia Mood Peterkin",
          "Julien Green",
          "Sophia Tolstaya",
          "Agnes Smedley",
          "Oliver La Farge",
          "Edwin Lanham",
          "Alfred Douglas",
          "Josephine Donovan",
          "Ellen Terry",
          "Frank O'Connor",
          "Walter Béran Wolfe",
          "Thomas Moult",
          "Carleton Beals",
          "Peter Quennell",
          "Swami Purohit",
          "Charles Duff",
          "Paul de Kruif",
          "Anthony Rolls",
          "Alexandre de Tilly",
          "Jack Conroy",
          "Mulk Raj Anand",
          "Eva Le Gallienne",
          "Dorothy Brewster",
          "Samuel Beckett",
          "H. E. Bates",
          "Thomas Sigismund Stribling",
          "C. Willett Cunnington",
          "Rom Landau",
          "Clarence Day",
          "Giles Romilly",
          "Hans Zinsser",
          "Elizabeth Goudge",
          "Patience Abbe",
          "Eugene Lyons",
          "Henry Wade",
          "Christopher Caudwell",
          "Freda Utley",
          "Damon Runyon",
          "Arthur Koestler",
          "A. W. Lawrence",
          "Ralph Fox",
          "Donald Henderson Clarke",
          "R. C. Woodthorpe",
          "Coventry Patmore",
          "Samuel Johnson",
          "Benjamin Franklin",
          "Ann Radcliffe",
          "Thomas Love Peacock",
          "Charles Lamb",
          "Frederick Marryat",
          "William Hickling Prescott",
          "Charles Darwin",
          "Edward Lear",
          "Ossian",
          "Gustave Flaubert",
          "Louisa May Alcott",
          "Bret Harte",
          "Richard Doddridge Blackmore",
          "Mary Duclaux",
          "John Fiske",
          "Frances Hodgson Burnett",
          "William Congreve",
          "James Bryce",
          "James McNeill Whistler",
          "Richard Harding Davis",
          "Lionel Johnson",
          "Kenneth Grahame",
          "Charlotte Perkins Gilman",
          "Yoné Noguchi",
          "Robert-Hugh Benson",
          "J. C. Snaith",
          "Dorothy Wordsworth",
          "Gaston Leroux",
          "Jean Webster",
          "Irving Babbitt",
          "W. J. Perry",
          "Sisley Huddleston",
          "E. F. Carritt",
          "Edgar Selwyn",
          "Douglas Goldring",
          "R. W. Chambers",
          "Herbert Wildon Carr",
          "Mary Heaton Vorse",
          "Agnes Castle",
          "Albert Mordell",
          "Stacy Aumonier",
          "Charles Gardner",
          "W. E. B. Du Bois",
          "George Pierce Baker",
          "Mary Hunter Austin",
          "Henry Festing Jones",
          "Margaret Higgins Sanger",
          "Donald Ogden Stewart",
          "Charles Gilman Norris",
          "Brander Matthews",
          "Frank L. Packard",
          "Roger Eliot Fry",
          "Henry Williamson",
          "Edward Garnett",
          "Ernest Bramah",
          "Theodore Maynard",
          "Gerhart Hauptmann",
          "Wilfrid Scawen Blunt",
          "Albert Einstein",
          "Nikola Semyonovich Leskov",
          "Julius Meier-Graefe",
          "Jean Toomer",
          "Robert James Fletcher",
          "Joseph Collins",
          "Mathilde Vaerting",
          "Anthony M. Ludovici",
          "Eileen Power",
          "Paul Jordan-Smith",
          "Samuel Hopkins Adams",
          "S. C. Cronwright-Schreiner",
          "S. Foster Damon",
          "A. M. Low",
          "Katharine Susan Anthony",
          "Dora Russell",
          "Eliza Fay",
          "Theo B. Hyslop",
          "R. W. King",
          "Captain Charles Johnson",
          "James Stevens",
          "Edmund Blunden",
          "A. Fielding",
          "Lewis Mumford",
          "Henry Ford",
          "Murasaki Shikibu",
          "A. E. W. Mason",
          "Humbert Wolfe",
          "James Weldon Johnson",
          "Ronald Arbuthnott Knox",
          "Ben B. Lindsey",
          "Buffalo Child Long Lance",
          "Laetitia Pilkington",
          "Joseph Moncure March",
          "C. H. B. Kitchin",
          "Harold John Massingham",
          "Stephen Potter",
          "George Antheil",
          "Gerald F. Lahey",
          "Norman Lindsay",
          "Ronald Fraser",
          "Jim Tully",
          "Lincoln Steffens",
          "Alfred Alder",
          "Morley Callaghan",
          "Manuel Komroff",
          "Adrienne Monnier",
          "Robert Hamilton Bruce Lockhart",
          "E. B. C. Jones",
          "Harriet Monroe",
          "Harold Joseph Laski",
          "Hans Fallada",
          "Josephine Herbst",
          "Elsie Elizabeth Phare",
          "Eiluned Lewis",
          "Josephine Winslow Johnson",
          "Charles Daly King",
          "Joseph Jefferson Farjeon",
          "Gelett Burgess",
          "Alexander Woollcott",
          "Geoffrey Gorer",
          "Georgette Heyer",
          "Robert Rylee",
          "Arnold L. Haskell",
          "John Eglinton",
          "Guy Boas",
          "Arthur Hobson Quinn",
          "Webb Miller",
          "Vincent Sheean",
          "Erich Kästner",
          "Ralph Bates",
          "Elizabeth Jenkins",
          "Rhys Davies",
          "Philip Horton",
          "Eve Curie",
          "Humphrey Hare",
          "Jolán Földes",
          "Eleanor Roosevelt",
          "C. L. R. James",
          "F. A. Voigt",
          "John Fante",
          "G. E. R. Geyde",
          "Emanuel Hertz",
          "Josephine Lawrence",
          "Christopher Marlowe",
          "Toyoichirō Nogami",
          "William Langland",
          "Homer",
          "Thomas More",
          "Robert Greene",
          "Miguel de Cervantes",
          "Thomas Hobbes",
          "John Gay",
          "Thomas Nugent",
          "Robert Paltock",
          "Voltaire",
          "Thomas Paine",
          "Edward Gibbon",
          "Jacob Grimm",
          "John Evelyn",
          "Hans Christian Andersen",
          "Richard Henry Dana",
          "John Stuart Mill",
          "Omar Khayyam",
          "John-Henry Newman",
          "Juliana Horatia Ewing",
          "Robert Burns",
          "William Winwood Reade",
          "William Black",
          "John Nichol",
          "Joseph Henry Shorthouse",
          "Ælfric of Eynsham",
          "H. Rider Haggard",
          "Alexandra Sutherland Orr",
          "George Du Maurier",
          "Edwin Sidney Hartland",
          "E. S. Beesly",
          "Andrew Lang",
          "Arthur Wing Pinero",
          "Douglas Hyde",
          "Ernest Christopher Dowson",
          "Harold Frederic",
          "Henry Vaughan",
          "John Burroughs",
          "Augustus Jessopp",
          "Guy Boothby",
          "Olive Schreiner",
          "Henry A. Beers",
          "Margaret Deland",
          "Haldane Macfall",
          "Théophile Gautier",
          "Muriel Clara Bradbrook",
          "John Dryden",
          "Alice Christiana Thompson Meynell",
          "Joshua Slocum",
          "Theodore Roosevelt",
          "Ernest Crawley",
          "Jane Welsh Carlyle",
          "Otto Weininger",
          "John Forster",
          "Elizabeth Robins",
          "Okakura Kakuzō",
          "Benvenuto Cellini",
          "Arthur Christopher Benson",
          "Yogi Ramacharaka",
          "Walter Alexander Raleigh",
          "George Herbert",
          "Claude E. Benson",
          "G. G. Coulton",
          "Auguste Forel",
          "Robert Wilson Lynd",
          "Basil King",
          "Crittenden Marriott",
          "Richard Dehan",
          "Stanley Houghton",
          "Ethel Sidgwick",
          "Barry Pain",
          "Lewis Saul Benjamin",
          "Zoë Akins",
          "Herbert George Jenkins",
          "Richard Arthur Austen-Leigh",
          "T. Earle Welby",
          "James Henry Breasted",
          "Ananda Kentish Coomaraswamy",
          "Joseph Mary Flood",
          "Ethel Colburn Mayne",
          "Harold Child",
          "William Wymark Jacobs",
          "Robert Nichols",
          "Marie Carmichael Stopes",
          "Arthur Quiller-Couch",
          "Vincente Blasco Ibáñez",
          "Alice Mary Brandreth Butcher",
          "Arthur Waley",
          "Marguerite Wilkinson",
          "William Ralph Inge",
          "Abraham Flexner",
          "John Reed",
          "Henry G. Aikman",
          "W. N. P. Barbellion",
          "Robert Dell",
          "John Rodker",
          "Nellie Van de Grift Sanchez",
          "Louis Untermeyer",
          "Oliver Sayler",
          "Martin Andersen-Nexø",
          "Percy Lubbock",
          "George Calderon",
          "E. M. Hull",
          "Ferdynand Antoni Ossendowski",
          "Raffaello Piccoli",
          "Janet Spens",
          "Ferenc Molnár",
          "Mrs. Patrick Campbell",
          "Gerald O'Donovan",
          "Frederick Carleton Chamberlin",
          "Berta Ruck",
          "A. S. M. Hutchinson",
          "Clifford Bax",
          "Grant Martin Overton",
          "Winifred Stephens",
          "Joseph Quincy Adams",
          "John Butler Yeats",
          "Stephen Herbert Langdon",
          "Raymond Radiguet",
          "Koot Hoomi",
          "Thomas Boyd",
          "Evelyn Mary Spearing Simpson",
          "Maurice Magnus",
          "Romain Rolland",
          "Gertrude Beasley",
          "Osbert Burdett",
          "Geoffrey Scott",
          "Richard Le Gallienne",
          "Alfred Kreymborg",
          "John Freeman",
          "Eimar O'Duffy",
          "Panait Istrati",
          "Louise Imogen Guiney",
          "Ralph Barton Perry",
          "Pauline Smith",
          "Christobel M. Hood",
          "Oswald Spengler",
          "Herbert Asbury",
          "P. T. Barnum",
          "C. S. Ranga Iyer",
          "Joseph Gollomb",
          "Walter Edwin Peck",
          "George A. Birmingham",
          "R. H. Wilenski",
          "Lloyd R. Morris",
          "Marguerite Harrison",
          "Maxwell Bodenheim",
          "Anne-Marie-Louise-Henriette d'Orléans Montpensier",
          "Armand Louis de Gontaut Biron",
          "André Breton",
          "G. D. H. Cole",
          "Hanna Astrup Larsen",
          "F. Elrington Ball",
          "Arnold Zweig",
          "Ben Ames Williams",
          "Florence Emily Hardy",
          "D. G. Hogarth",
          "Edward McCurdy",
          "Hulbert Footner",
          "Edgar Ansel Mowrer",
          "George Rylands",
          "Matthew Josephson",
          "Burton Rascoe",
          "Viola Meynell",
          "Harvey Jerrold O'Higgins",
          "Paul Valéry",
          "Irma Duncan",
          "Norah C. James",
          "Grace Flandrau",
          "Ludwig Renn",
          "Fred D. Pasley",
          "W. H Williamson",
          "Italo Svevo",
          "Maud Cruttwell",
          "Margaret C. Anderson",
          "Fred Lewis Pattee",
          "Enid Rose",
          "Edward Charles Sackville-West",
          "Naomi Gwladys Royde-Smith",
          "Gustaaf Johannes Renier",
          "Wilfred Owen",
          "S. Guy Endore",
          "Meyer Levin",
          "Mary Sturt",
          "Hugh Kingsmill",
          "Francis Stuart",
          "Rainer Maria Rilke",
          "Norman Collins",
          "Francis Iles",
          "Jessie Redmon Fauset",
          "George Ambrose Lloyd",
          "T. H. White",
          "Franklin Delano Roosevelt",
          "John Clark Ferguson",
          "Frances Winwar",
          "Edward Hallett Carr",
          "Mikhail Sholokhov",
          "R. Austin Freeman",
          "C. E. M. Joad",
          "J. E. Neale",
          "Clara E. Laughlin",
          "Mario Rossi",
          "Franz Werfel",
          "M. H. Abrams",
          "Cornelius Vanderbilt",
          "Joseph O'Neill",
          "E. F. Benson",
          "Rockwell Kent",
          "F. O. Matthiessen",
          "John Dover Wilson",
          "Blanche Dugdale",
          "Knud Holmboe",
          "Charles Baudelaire",
          "Charles Jasper Sisson",
          "Arthur Train",
          "Alick West",
          "Robert Briffault",
          "David Jones",
          "Euripides",
          "Stuart Palmer",
          "Edward Anderson",
          "Gwen Bristow",
          "Edgar Snow",
          "Gwethalyn Graham",
          "Marthe Bibesco",
          "Robert Penn Warren",
          "Augusta Tucker",
          "Arthur Calder-Marshall",
          "John Davy Hayward",
          "Alan Sillitoe",
          "Jane Mayhall",
          "Dan Michel",
          "the Venerable Bede",
          "Elizabeth Barrett Browning",
          "Aristotle",
          "Plato",
          "Dorothy Osborne",
          "Thomas Nashe",
          "F. W. H. Myers",
          "Thomas Norton",
          "John Lyly",
          "John Webster",
          "René Descartes",
          "Fulke Greville",
          "of Norwich Julian",
          "Jean-Jacques Rousseau",
          "William Collins",
          "J. Hector St. John de Crèvecoeur",
          "Francis Grose",
          "John Lemprière",
          "William Godwin",
          "Washington Irving",
          "Isaac Disraeli",
          "Victor Hugo",
          "Edward Bulwer-Lytton",
          "James Fenimore Cooper",
          "William Smith",
          "Anne Manning",
          "Edward Young",
          "Charles Reade",
          "Thomas Hughes",
          "Henry Gray",
          "Cesare Vecellio",
          "Herbert Spencer",
          "Oliver Wendel Holmes",
          "Charlotte M. Yonge",
          "Henry Woodcock",
          "Susanna Meredith",
          "Alphonse de Lamartine",
          "Patrick Kennedy",
          "Christina Rossetti",
          "William Hepworth Dixon",
          "Walter Bagehot",
          "Thomas Percy",
          "Edward Arber",
          "Frances Minto Elliot",
          "F. W. Farrar",
          "William Clark Russell",
          "Catherine Charlotte Jackson",
          "Jessie Fothergill",
          "Augustus J. C. Hare",
          "Victor Fournel",
          "Henry George",
          "Thomas Fowler",
          "Joel Chandler Harris",
          "Guy de Maupassant",
          "Pedro Carolino",
          "Bertha Thomas",
          "Izaak Walton",
          "Frank Richard Stockton",
          "Richard Steele",
          "Stuart C. Cumberland",
          "Vida Dutton Scudder",
          "C. B. Brackenbury",
          "Henry Drummond",
          "J. Maclaren Cobban",
          "Eleanor C. Price",
          "A. E. Waite",
          "Clements R. Markham",
          "Anne Isabella Thackeray Ritchie",
          "James Fitzmaurice-Kelly",
          "Paul Carus",
          "Fannie Merritt Farmer",
          "Bram Stoker",
          "Hafez",
          "Houston Stewart Chamberlain",
          "Edward Channing",
          "Hélène Adeline Guerber",
          "Sidney Colvin",
          "Oliver Herford",
          "George Ade",
          "Fiona Macleod",
          "Isa Bowman",
          "William Michael Rossetti",
          "Henry Noel Brailsford",
          "Henry Harland",
          "Joseph A. Seiss",
          "Charles Whibley",
          "Ernest Thompson Seton",
          "Alice Caldwell Hegan Rice",
          "Albert Lavignac",
          "John Oliver Hobbes",
          "Harry A. Spurr",
          "William P. Trent",
          "Karl Mantzius",
          "George Madden Martin",
          "Morley Roberts",
          "Kate Douglas Smith Wiggin",
          "Ferris Greenslet",
          "Lucy Hutchinson",
          "Augustine Birrell",
          "Wolfgang Amadeus Mozart",
          "Henry Stephens Salt",
          "Edwin Mims",
          "Martin Hume",
          "Ellis Parker Butler",
          "Elizabeth Bisland",
          "Robert Williams Wood",
          "Bernard Berenson",
          "Leonard Cresswell Ingleby",
          "William Morris",
          "Barrett Wendell",
          "George M. Gould",
          "Dante Gabriel Rossetti",
          "Charles Mills Gayley",
          "Henry de Vere Stacpoole",
          "Iwan Bloch",
          "Alfred Noyes",
          "Wallace Irwin",
          "Alfred Perceval Graves",
          "George Frederick Young",
          "Paul Bourget",
          "Alphonse Daudet",
          "William Danks",
          "Saki",
          "Stephen Graham",
          "David Saville Muzzey",
          "Henri Bergson",
          "Ellen Karolina Sofia Key",
          "Sarah Tyson Rorer",
          "Courtenay Ilbert",
          "Digby Mackworth Dolben",
          "Edward Thomas",
          "Joseph Solomon",
          "Ida Vera Simonton",
          "Nina H. Kennard",
          "Stuart Mason",
          "Jean-Henri Fabre",
          "Bernard Hart",
          "Philip Henry Wicksteed",
          "Raymond Poincaré",
          "Daniel Gregory Mason",
          "Mary Hannah Deakin",
          "Vincent van Gogh",
          "Aphra Behn",
          "Alice Van Vechten Brown",
          "Marie Van Vorst",
          "Arthur Jerome Eddy",
          "Ellen Sophia Bosanquet",
          "Francis P. Donnelly",
          "George W. Cronyn",
          "Ilya Tolstoy",
          "Woodrow Wilson",
          "Ebenezer Cunningham",
          "Mary Johnston",
          "Mildred Aldrich",
          "John Gould Fletcher",
          "Arthur William Conway",
          "Zane Grey",
          "Charlotte Mary Mew",
          "Anna Wickham",
          "Lala Lajpat Rai",
          "Louis Marlow",
          "Helen Josephine Sanborn",
          "R. B. Cunninghame Graham",
          "Thomas Whitney Surette",
          "Edwin Oliver James",
          "James Edward Meeker",
          "Pierre de Lanux",
          "Benjamin Constant",
          "Andreas Latzko",
          "Marmaduke William Pickthall",
          "Helen Abbott Beals",
          "Henry Seidel Canby",
          "Leland Hall",
          "Daniel Carson Goodman",
          "A. K. Cook",
          "David Lindsay",
          "Thomas Sturge Moore",
          "Gunnar Gunnarsson",
          "Doris Stevens",
          "Iris Tree",
          "R. Brimley Johnson",
          "Laurance Lyon",
          "Jaques Boulenger",
          "Stuart Oliver Henry",
          "Bernard Bosanquet",
          "Rémy de Gourmont",
          "C. Kay-Scott",
          "Joseph Crosby Lincoln",
          "Inez Haynes Gilmore",
          "Arthur Bingham Walkley",
          "Terence MacSwiney",
          "Katharine Fedden",
          "Eric Harold Neville",
          "Norman Angell",
          "Al Jennings",
          "Henri Dupré",
          "Kenneth Macgowan",
          "Herbert Andrews Newell",
          "Arnold Lorand",
          "Forrest Reid",
          "Isaac Rosenberg",
          "A. R. Orage",
          "Frank Rutter",
          "Aeschylus",
          "John George Woodroffe",
          "Garnet Wolseley",
          "Burton J. Hendrick",
          "Whately Carington",
          "Carter Godwin Woodson",
          "Valery Larbaud",
          "A. L. Kroeber",
          "Ivor Brown",
          "C. K. Scott-Moncrieff",
          "Louise Bryant",
          "Michael Maurice",
          "Oswald Garrison Villard",
          "W. H. Hadow",
          "Margaret Wilson",
          "Pietro Gorgolini",
          "Frank Tatchell",
          "William Aspenwall Bradley",
          "Mary MacCarthy",
          "Helen Follett",
          "Choderlos de Laclos",
          "William Beebe",
          "Hjalmar Bergman",
          "Boniface de Castellane",
          "Esther Shephard",
          "Arnold Lunn",
          "T. E. Hulme",
          "F. C. S. Schiller",
          "Martin Armstrong",
          "Huntly Carter",
          "Arthur Berriedale Keith",
          "Gilbert Seldes",
          "Harry Golding",
          "Jacques Bacot",
          "George H. Cowling",
          "Jane Mander",
          "Jean-Jacques Brousson",
          "Hester Lynch Piozzi",
          "Lowell Thomas",
          "E. E. Fournier d'Albe",
          "A. Hamilton Gibbs",
          "Magdalen King-Hall",
          "Louise Jopling",
          "Harold Lawton Bruce",
          "Virginia MacFadyen",
          "Alexander Smith",
          "Bronislaw Malinowski",
          "James Boyd",
          "Barrett H. Clark",
          "Isabelle de Charrière",
          "Gladys Rosaleen Turquet-Milnes",
          "A. L. Vincent",
          "Ruth Suckow",
          "Robert Hamilton Coats",
          "Emily Ledyard Shields",
          "George Nathaniel Curzon Curzon of Kedleston",
          "Olga Hartley",
          "Percival G. Bull",
          "Esther Forbes",
          "Roy Chapman Andrews",
          "Martha Roscoe Garnett",
          "Orlo Williams",
          "Robert Myron Coates",
          "Ford K. Brown",
          "Cameron Rogers",
          "Lionel Giles",
          "Denis Saurat",
          "A. M. Champneys",
          "W. J. Turner",
          "William Diapea",
          "Leang-Li T'ang",
          "Ivan Pavlov",
          "Bernard W. Henderson",
          "Evan Charteris",
          "Lothrop Stoddard",
          "Victor L. Whitechurch",
          "William J. Anderson",
          "Arthur Elson",
          "Allardyce Nicoll",
          "A. L. Maycock",
          "William Orpen",
          "William Blake",
          "J. Chartres Molony",
          "Eugenie Schumann",
          "Elizabeth Wheeler Schermerhorn",
          "Nikolai Evreinov",
          "Dolf Wyllarde",
          "Alfred Aloysius Horn",
          "Herbert John Gladstone",
          "Viña Delmar",
          "Eleanor Mercein Kelly",
          "John Womack Vandercook",
          "Catherine Wells",
          "J. Y. T. Greig",
          "Evelyn Lilian Martinengo-Cesaresco",
          "Blair Niles",
          "Edmund Snell",
          "Joseph Stalin",
          "Roark Bradford",
          "Samuel Hoffenstein",
          "Max Aitken Beaverbrook",
          "Régis Michaud",
          "Elizabeth Robins Pennell",
          "Elliot O'Donnell",
          "Cynthia Asquith",
          "Jean Lucas-Dubreton",
          "W. B. Trites",
          "Ernest Poole",
          "Foxhall Daingerfield",
          "Albert Londres",
          "Richard Wilhelm",
          "Konrad Bercovici",
          "Emily Hilda Young",
          "Morris Leopold Ernst",
          "Dale Collins",
          "Erich Maria Remarque",
          "Malcolm Cowley",
          "Rosamund Langbridge",
          "Anthony Gilbert",
          "Samuel Putnam",
          "H. W. Freeman",
          "Frederick S. Boas",
          "Muriel Draper",
          "James Tucker",
          "Edward Abbott Parry",
          "Leonard R. Gribble",
          "E. V. Gatenby",
          "George Sand",
          "Richard Lewinsohn",
          "John Dewey",
          "André Chamson",
          "Harry Graf Kessler",
          "Fabian Society",
          "A. Edward Newton",
          "Joseph Beach",
          "Geoffrey West",
          "John Collier",
          "Richard Paget",
          "E. M. W. Tillyard",
          "Isabel Briggs Myers",
          "Caradoc Evans",
          "M. R. Ridley",
          "C. F. Tucker Brooke",
          "Natalie Clifford Barney",
          "Edith Olivier",
          "Joseph Wood Krutch",
          "Mahátma Gándhi",
          "Agnes Repplier",
          "H. S. Ede",
          "Pierre Corneille",
          "John Skelton",
          "E. R. Punshon",
          "Edgar James Swift",
          "Jehanne d'Orliac",
          "H. A. Manhood",
          "Otto Rank",
          "Frank H. Simonds",
          "Cecil Street",
          "Nina Hamnett",
          "F. R. Leavis",
          "Alexander Mikhailovich",
          "Zelda Fitzgerald",
          "Paul G. Konody",
          "Georgette Leblanc",
          "Thorne Smith",
          "Peadar O'Donnell",
          "George Barker",
          "Charles Williams",
          "Alice Roosevelt Longworth",
          "Hillel Bernstein",
          "Richard Boleslavski",
          "Vernon Bartlett",
          "Alice-Leone Moats",
          "Irene Cooper Willis",
          "Caroline Gordon",
          "I. A. Richards",
          "Whidden Graham",
          "Michael Roberts",
          "Lauren Gilfillan",
          "Louis Trenchard More",
          "H. C. Engelbrecht",
          "Lewis Grassic Gibbon",
          "B. Traven",
          "Elizabeth Reynard",
          "Montague Summers",
          "Ernest Weekley",
          "Henry Miller",
          "Nancy Hoyt",
          "A. L. Rowse",
          "Gleb Struve",
          "Geoffrey Grigson",
          "Epictetus",
          "Ann Winslow",
          "Gale Wilhelm",
          "Andrew Sydenham Farrar Gow",
          "Panteleimon Romanov",
          "Edwina H. Wilson",
          "Ernest Fenollosa",
          "Clyde B. Clason",
          "Angna Enters",
          "Jerome Weidman",
          "Maxence Van der Meersch",
          "Louis Adamic",
          "Stuart David Engstrand",
          "Baynard Kendrick",
          "Frank Jellinek",
          "Leonard Daniel Wickenden",
          "Robert Alexander Brady",
          "Herbert Francis Saltmarsh",
          "J. Edgar Hoover",
          "Henri Michaux",
          "Dorothy Mackenzie Hoare",
          "Gwendolen Murphy",
          "George Lowther Steer",
          "Mark Benney",
          "Édouard Dujardin",
          "Carlton J. H. Hayes",
          "Robert E. Sherwood",
          "S. Josephine Baker",
          "Richard Llewellyn",
          "Jennie Lee",
          "Clarence K. Streit",
          "E. C. R. Lorac",
          "Charles Jackson",
          "Lionel Trilling",
          "Edward Streeter",
          "Vladimir Nabokov",
          "Walt Kelly",
          "John Osborne",
          "Stanislaus Joyce",
          "Sylvia Beach",
          "John Braine",
          "Thomas Heywood",
          "Robert Wace",
          "Karl Marx",
          "Thomas Gray",
          "François Rabelais",
          "Karl Baedeker",
          "Plutarch",
          "Henry Howard",
          "Heinrich Heine",
          "François Villon",
          "Richard Crashaw",
          "Aurelius Augustinus",
          "Dante Alighieri",
          "William Beckford",
          "Joseph Farington",
          "Aristophanes",
          "J. B. Bury",
          "Peter Abelard",
          "Richard Hakluyt",
          "Thomas Kyd",
          "Marco Polo",
          "Robert Burton",
          "Johann David Wyss",
          "Harriet Beecher Stowe",
          "R. M. Ballantyne",
          "John Jamieson",
          "Max Nordau",
          "Andrew Marvell",
          "Felix Emmanuel Schelling",
          "George Crabbe",
          "L. Frank Baum",
          "Edmond de Goncourt",
          "George Edward Moore",
          "Erskine Childers",
          "C. T. Onions",
          "Louis-Antoine Fauvelet Bourrienne",
          "Frank Aydelotte",
          "Gilbert Murray",
          "Paul Elmer More",
          "Maria Montessori",
          "C. H. Douglas",
          "Constance Grenelle Wilcox",
          "Joris-Karl Huysmans",
          "Henry Wickham Steed",
          "Karel Capek",
          "Léon Pierre-Quint",
          "Keith Feiling",
          "Ramón Fernández",
          "Charles Aubert",
          "Logan Clendening",
          "Vere H. Collins",
          "Lucan",
          "Lawrence Dundas",
          "René Crevel",
          "John Russell",
          "Marie Jenney Howe",
          "Caroline F. E. Spurgeon",
          "Harry Crosby",
          "Roy Campbell",
          "Saint-John Perse",
          "Leonhard Frank",
          "Marcel Aymé",
          "Immanuel Kant",
          "Tobias Dantzig",
          "L. Adams Beck",
          "Emily Holmes Coleman",
          "William Roughead",
          "Roy Sheldon",
          "Eugene Jolas",
          "J. C. Masterman",
          "Georges Duplaix",
          "Charles Henri Ford",
          "Sidney Hook",
          "C. E. Eckersley",
          "Paul Engle",
          "Thomas MacGreevy",
          "William Henry Chamberlin",
          "Louis Guilloux",
          "William Henry Herndon",
          "Lancelot Thomas Hogben",
          "J. F. Brown",
          "Gaetano Salvemini",
          "M. Shirokov",
          "Ivy Compton-Burnett",
          "Ernest Barker",
          "Robert Alexander Stewart Macalister",
          "Geoffrey T. Garratt",
          "Robin Fedden",
          "Sheila Cousins",
          "Xiaoxiao Sheng",
          "Denis de Rougemont",
          "Denys Kilham Roberts",
          "Federico García Lorca",
          "Jean Paris",
          "Milovan Djilas",
          "Marguerite Duras",
          "Georg Wilhelm Friedrich Hegel"
         ],
         "legendgroup": "",
         "marker": {
          "color": [
           40,
           18,
           24,
           13,
           24,
           8,
           11,
           31,
           34,
           12,
           13,
           0,
           23,
           42,
           12,
           28,
           46,
           30,
           34,
           24,
           14,
           23,
           8,
           12,
           33,
           17,
           9,
           17,
           15,
           12,
           24,
           5,
           8,
           13,
           13,
           12,
           8,
           18,
           8,
           6,
           4,
           4,
           13,
           9,
           10,
           26,
           10,
           9,
           10,
           13,
           7,
           10,
           7,
           9,
           8,
           16,
           15,
           20,
           12,
           10,
           6,
           3,
           13,
           5,
           17,
           5,
           17,
           11,
           8,
           4,
           6,
           7,
           15,
           16,
           12,
           9,
           15,
           12,
           19,
           6,
           10,
           11,
           5,
           10,
           6,
           6,
           9,
           10,
           15,
           5,
           12,
           12,
           13,
           5,
           5,
           12,
           11,
           8,
           8,
           7,
           6,
           16,
           11,
           5,
           11,
           8,
           5,
           10,
           4,
           9,
           10,
           8,
           11,
           9,
           12,
           10,
           7,
           10,
           8,
           5,
           5,
           7,
           11,
           7,
           2,
           1,
           9,
           9,
           9,
           6,
           4,
           12,
           13,
           8,
           8,
           8,
           8,
           8,
           10,
           8,
           6,
           4,
           9,
           8,
           10,
           5,
           10,
           9,
           3,
           4,
           3,
           5,
           5,
           4,
           5,
           3,
           13,
           8,
           6,
           3,
           13,
           6,
           8,
           5,
           3,
           5,
           8,
           6,
           5,
           5,
           7,
           4,
           6,
           6,
           2,
           4,
           8,
           5,
           10,
           5,
           2,
           6,
           5,
           5,
           3,
           4,
           4,
           5,
           3,
           3,
           3,
           3,
           11,
           4,
           10,
           7,
           9,
           6,
           4,
           2,
           4,
           3,
           2,
           3,
           2,
           2,
           7,
           5,
           5,
           8,
           13,
           5,
           4,
           3,
           3,
           2,
           8,
           5,
           11,
           5,
           7,
           4,
           5,
           1,
           4,
           4,
           2,
           4,
           3,
           2,
           1,
           6,
           6,
           4,
           5,
           4,
           6,
           5,
           4,
           3,
           1,
           2,
           4,
           9,
           4,
           9,
           5,
           5,
           5,
           3,
           3,
           1,
           3,
           2,
           7,
           6,
           5,
           6,
           7,
           5,
           4,
           6,
           3,
           6,
           4,
           2,
           4,
           3,
           3,
           2,
           2,
           2,
           1,
           8,
           11,
           2,
           5,
           4,
           3,
           1,
           2,
           1,
           3,
           3,
           7,
           5,
           2,
           1,
           5,
           8,
           3,
           4,
           5,
           2,
           3,
           3,
           1,
           3,
           2,
           1,
           2,
           1,
           6,
           3,
           6,
           6,
           3,
           2,
           3,
           4,
           2,
           4,
           4,
           3,
           2,
           7,
           4,
           3,
           4,
           3,
           2,
           3,
           1,
           1,
           1,
           6,
           1,
           4,
           4,
           3,
           2,
           5,
           4,
           3,
           3,
           4,
           4,
           3,
           2,
           3,
           3,
           3,
           2,
           2,
           1,
           1,
           1,
           1,
           2,
           2,
           4,
           2,
           5,
           1,
           3,
           5,
           2,
           2,
           6,
           4,
           7,
           7,
           2,
           1,
           6,
           3,
           4,
           6,
           3,
           3,
           5,
           4,
           6,
           5,
           1,
           3,
           2,
           1,
           2,
           3,
           3,
           2,
           1,
           1,
           1,
           1,
           2,
           2,
           1,
           1,
           1,
           1,
           1,
           1,
           2,
           1,
           3,
           2,
           5,
           3,
           1,
           2,
           5,
           2,
           2,
           5,
           4,
           2,
           5,
           4,
           4,
           2,
           3,
           3,
           2,
           2,
           4,
           4,
           2,
           2,
           2,
           3,
           3,
           1,
           1,
           3,
           2,
           2,
           1,
           1,
           2,
           2,
           1,
           1,
           1,
           1,
           1,
           3,
           3,
           4,
           4,
           1,
           2,
           2,
           4,
           2,
           3,
           2,
           4,
           3,
           3,
           3,
           2,
           3,
           3,
           3,
           2,
           2,
           2,
           4,
           3,
           2,
           3,
           2,
           2,
           1,
           2,
           3,
           2,
           1,
           1,
           1,
           1,
           1,
           1,
           1,
           2,
           1,
           1,
           1,
           2,
           1,
           2,
           1,
           1,
           2,
           1,
           1,
           1,
           2,
           3,
           2,
           3,
           4,
           2,
           1,
           2,
           3,
           6,
           5,
           3,
           1,
           3,
           3,
           2,
           1,
           4,
           1,
           1,
           3,
           5,
           2,
           2,
           2,
           2,
           2,
           2,
           2,
           1,
           1,
           1,
           1,
           1,
           3,
           2,
           1,
           1,
           1,
           1,
           1,
           2,
           1,
           1,
           1,
           1,
           1,
           1,
           1,
           1,
           1,
           2,
           1,
           1,
           1,
           1,
           2,
           1,
           2,
           2,
           2,
           1,
           3,
           3,
           2,
           2,
           3,
           4,
           2,
           4,
           1,
           1,
           4,
           1,
           3,
           3,
           1,
           1,
           1,
           2,
           3,
           2,
           3,
           3,
           4,
           2,
           2,
           2,
           3,
           2,
           3,
           2,
           1,
           1,
           2,
           1,
           1,
           1,
           2,
           1,
           2,
           1,
           3,
           1,
           1,
           2,
           2,
           2,
           2,
           1,
           2,
           1,
           1,
           1,
           1,
           1,
           1,
           1,
           1,
           1,
           1,
           1,
           1,
           1,
           1,
           1,
           1,
           1,
           1,
           3,
           3,
           3,
           1,
           1,
           3,
           1,
           1,
           2,
           4,
           2,
           2,
           3,
           3,
           2,
           3,
           2,
           1,
           3,
           1,
           2,
           2,
           2,
           2,
           1,
           1,
           1,
           3,
           2,
           2,
           2,
           1,
           3,
           3,
           1,
           1,
           2,
           1,
           3,
           2,
           2,
           1,
           1,
           2,
           1,
           1,
           2,
           3,
           2,
           2,
           1,
           1,
           3,
           1,
           1,
           2,
           3,
           2,
           1,
           2,
           1,
           1,
           1,
           2,
           2,
           1,
           1,
           2,
           2,
           1,
           1,
           2,
           2,
           1,
           1,
           1,
           1,
           1,
           2,
           2,
           1,
           1,
           1,
           1,
           1,
           1,
           1,
           1,
           1,
           1,
           2,
           1,
           1,
           1,
           1,
           1,
           1,
           1,
           1,
           2,
           2,
           1,
           2,
           3,
           3,
           2,
           3,
           4,
           1,
           2,
           6,
           2,
           1,
           2,
           3,
           2,
           2,
           1,
           1,
           2,
           3,
           2,
           2,
           2,
           5,
           2,
           1,
           1,
           3,
           2,
           1,
           3,
           1,
           1,
           2,
           1,
           1,
           2,
           1,
           1,
           2,
           1,
           1,
           1,
           2,
           1,
           2,
           3,
           1,
           1,
           3,
           1,
           3,
           1,
           2,
           1,
           2,
           2,
           2,
           1,
           2,
           1,
           1,
           1,
           1,
           2,
           1,
           1,
           2,
           1,
           1,
           2,
           1,
           2,
           1,
           1,
           2,
           1,
           1,
           3,
           1,
           2,
           1,
           3,
           1,
           3,
           2,
           2,
           1,
           1,
           1,
           1,
           1,
           2,
           2,
           1,
           1,
           1,
           1,
           1,
           1,
           1,
           2,
           1,
           1,
           2,
           1,
           2,
           1,
           1,
           1,
           1,
           1,
           1,
           1,
           1,
           1,
           1,
           1,
           1,
           1,
           1,
           1,
           1,
           1,
           1,
           1,
           1,
           1,
           1,
           1,
           1,
           1,
           1,
           1,
           1,
           1,
           1,
           1,
           1,
           1,
           1,
           2,
           1,
           1,
           1,
           1,
           1,
           2,
           1,
           1,
           1,
           1,
           1,
           1,
           1,
           1,
           1,
           3,
           1,
           2,
           1,
           2,
           2,
           2,
           1,
           1,
           2,
           1,
           1,
           1,
           1,
           2,
           1,
           1,
           2,
           1,
           2,
           2,
           1,
           1,
           1,
           1,
           1,
           2,
           1,
           2,
           1,
           1,
           2,
           1,
           3,
           1,
           2,
           1,
           1,
           1,
           1,
           1,
           1,
           1,
           1,
           2,
           2,
           1,
           1,
           2,
           1,
           2,
           1,
           1,
           2,
           1,
           2,
           2,
           1,
           2,
           2,
           1,
           1,
           1,
           1,
           2,
           1,
           1,
           1,
           2,
           1,
           1,
           2,
           1,
           2,
           1,
           1,
           1,
           1,
           1,
           2,
           1,
           1,
           1,
           2,
           1,
           1,
           2,
           1,
           1,
           2,
           1,
           1,
           1,
           1,
           2,
           1,
           1,
           2,
           1,
           1,
           1,
           1,
           1,
           1,
           1,
           1,
           2,
           1,
           1,
           2,
           1,
           2,
           1,
           1,
           1,
           1,
           1,
           1,
           1,
           1,
           1,
           1,
           1,
           3,
           1,
           1,
           1,
           1,
           2,
           1,
           1,
           1,
           2,
           1,
           1,
           2,
           2,
           1,
           1,
           2,
           1,
           1,
           1,
           1,
           2,
           1,
           1,
           1,
           1,
           1,
           1,
           2,
           1,
           1,
           1,
           1,
           1,
           1,
           1,
           1,
           1,
           1,
           1,
           1,
           1,
           1,
           1,
           1,
           1,
           1,
           1,
           2,
           1,
           1,
           1,
           1,
           1,
           1,
           1,
           1,
           1,
           1,
           2,
           1,
           1,
           1,
           1,
           1,
           1,
           1,
           1,
           1,
           1,
           1,
           1,
           1,
           1,
           1,
           1,
           1,
           1,
           1,
           1,
           1,
           2,
           1,
           1,
           1,
           1,
           1,
           1,
           1,
           1,
           1,
           1,
           1,
           1,
           1,
           1,
           1,
           3,
           2,
           1,
           1,
           1,
           1,
           1,
           1,
           1,
           1,
           1,
           1,
           1,
           1,
           1,
           1,
           1,
           2,
           1,
           1,
           1,
           1,
           1,
           1,
           1,
           2,
           1,
           1,
           1,
           1,
           1,
           1,
           1,
           1,
           1,
           1,
           1,
           1,
           1,
           1,
           1,
           1,
           1,
           1,
           1,
           1,
           1,
           1,
           1,
           1,
           1,
           2,
           1,
           1,
           1,
           1,
           1,
           1,
           1,
           1,
           1,
           1,
           1,
           1,
           1,
           1,
           1,
           1,
           1,
           1,
           1,
           1,
           1,
           1,
           1,
           1,
           1,
           1,
           1,
           1,
           1,
           1,
           1,
           1,
           1,
           1,
           1,
           1,
           1,
           1,
           1,
           1,
           1,
           1,
           1,
           1,
           1,
           1,
           1,
           1,
           1,
           1,
           1,
           1,
           1,
           1,
           1,
           1,
           1,
           1,
           1,
           1,
           1,
           1,
           1,
           2,
           1,
           1,
           1,
           1,
           1,
           1,
           1,
           1,
           1,
           1,
           1,
           1,
           1,
           1,
           1,
           1,
           1,
           1,
           1,
           1,
           1,
           1,
           1,
           1,
           1,
           1,
           1,
           1,
           1,
           1,
           1,
           1,
           1,
           1,
           1,
           1,
           6,
           1,
           1,
           1,
           1,
           1,
           1,
           1,
           1,
           1,
           1,
           1,
           1,
           1,
           1,
           1,
           1,
           1,
           1,
           1,
           1,
           1,
           1,
           1,
           1,
           1,
           1,
           1,
           1,
           1,
           1,
           1,
           1,
           1,
           1,
           1,
           1,
           1,
           1,
           1,
           1,
           1,
           1,
           1,
           1,
           1,
           1,
           1,
           1,
           1,
           1,
           1,
           1,
           1,
           1,
           2,
           1,
           1,
           1,
           1,
           1,
           1,
           1,
           1,
           1,
           1,
           1,
           1,
           1,
           1,
           1,
           1,
           1,
           1,
           1,
           1,
           1,
           1,
           1,
           1,
           1,
           1,
           1,
           1,
           1,
           1,
           1,
           1,
           1,
           1,
           1,
           1,
           1,
           1,
           1,
           1,
           1,
           1,
           1,
           1,
           1,
           1,
           1,
           1,
           1,
           1,
           1,
           1,
           1,
           1,
           1,
           1,
           1,
           1,
           1,
           1,
           1,
           1,
           1,
           1,
           1,
           1,
           1,
           1,
           1,
           1,
           1,
           1,
           1,
           1,
           3,
           1,
           1,
           1,
           1,
           1,
           1,
           1,
           1,
           1,
           1,
           1,
           1,
           1,
           1,
           1,
           1,
           1,
           1,
           1,
           1,
           1,
           1,
           1,
           1,
           1,
           1,
           1,
           1,
           1,
           1,
           1,
           1,
           1,
           1,
           1,
           1,
           1,
           1,
           1,
           1,
           1,
           1,
           1,
           1,
           1,
           1,
           1,
           1,
           1,
           1,
           1,
           1,
           1,
           1,
           1,
           1,
           1,
           1,
           1,
           1,
           1,
           1,
           1,
           1,
           1,
           1,
           1,
           1,
           1,
           1,
           1,
           1,
           1,
           1,
           1,
           1,
           1,
           2,
           1,
           1,
           1,
           1,
           1,
           1,
           1,
           1,
           1,
           1,
           1,
           1,
           1,
           1,
           1,
           1,
           1,
           1,
           1,
           1,
           1,
           1,
           1,
           1,
           1,
           1,
           1,
           1,
           1,
           1,
           1,
           1,
           1,
           1,
           1,
           1,
           1,
           1,
           1,
           1,
           1,
           1,
           1,
           1,
           1,
           1,
           1,
           1,
           1,
           1,
           2,
           1,
           1,
           1,
           1,
           1,
           1,
           1,
           1,
           1,
           1,
           1,
           1,
           1,
           1,
           1,
           1,
           1,
           1,
           1,
           1,
           1,
           1,
           1,
           1,
           1,
           1,
           1,
           1,
           1,
           1,
           1,
           1,
           1,
           1,
           1,
           1,
           1,
           1,
           1,
           1,
           1,
           1,
           1,
           1,
           1,
           1,
           1,
           1,
           1,
           1,
           1,
           1,
           1,
           1,
           1,
           1,
           1,
           1,
           1,
           1,
           1,
           1,
           1,
           1,
           1,
           1,
           1,
           1,
           1,
           1,
           1,
           1,
           1,
           1,
           1,
           1,
           1,
           1,
           1,
           1,
           1,
           1,
           1,
           1,
           1,
           1,
           1,
           1,
           1,
           1,
           1,
           1,
           1,
           2,
           1,
           1,
           1,
           1,
           1,
           1,
           1,
           1,
           1,
           1,
           1,
           1,
           1,
           1,
           1,
           1,
           1,
           1,
           1,
           1,
           1,
           1,
           1,
           1
          ],
          "coloraxis": "coloraxis",
          "symbol": "circle"
         },
         "mode": "markers",
         "name": "",
         "showlegend": false,
         "type": "scattergl",
         "x": [
          0.009523809523809525,
          0.01904761904761905,
          0.02857142857142857,
          0.0380952380952381,
          0.047619047619047616,
          0.05714285714285714,
          0.05714285714285714,
          0.06666666666666667,
          0.0761904761904762,
          0.08571428571428572,
          0.09523809523809523,
          0.10476190476190476,
          0.11428571428571428,
          0.12380952380952381,
          0.12380952380952381,
          0.13333333333333333,
          0.14285714285714285,
          0.1523809523809524,
          0.1523809523809524,
          0.1619047619047619,
          0.17142857142857143,
          0.18095238095238095,
          0.19047619047619047,
          0.2,
          0.20952380952380953,
          0.20952380952380953,
          0.21904761904761905,
          0.22857142857142856,
          0.23809523809523808,
          0.24761904761904763,
          0.2571428571428571,
          0.26666666666666666,
          0.2761904761904762,
          0.2857142857142857,
          0.2857142857142857,
          0.29523809523809524,
          0.3047619047619048,
          0.3142857142857143,
          0.3142857142857143,
          0.3238095238095238,
          0.3333333333333333,
          0.34285714285714286,
          0.3523809523809524,
          0.3619047619047619,
          0.37142857142857144,
          0.38095238095238093,
          0.3904761904761905,
          0.4,
          0.4,
          0.4095238095238095,
          0.4095238095238095,
          0.41904761904761906,
          0.42857142857142855,
          0.4380952380952381,
          0.4380952380952381,
          0.44761904761904764,
          0.45714285714285713,
          0.45714285714285713,
          0.45714285714285713,
          0.4666666666666667,
          0.4666666666666667,
          0.4666666666666667,
          0.47619047619047616,
          0.4857142857142857,
          0.49523809523809526,
          0.5047619047619047,
          0.5142857142857142,
          0.5142857142857142,
          0.5238095238095238,
          0.5238095238095238,
          0.5333333333333333,
          0.5428571428571428,
          0.5523809523809524,
          0.5619047619047619,
          0.5619047619047619,
          0.5619047619047619,
          0.5714285714285714,
          0.5714285714285714,
          0.580952380952381,
          0.580952380952381,
          0.5904761904761905,
          0.5904761904761905,
          0.5904761904761905,
          0.6,
          0.6,
          0.6,
          0.6095238095238096,
          0.6095238095238096,
          0.6095238095238096,
          0.6095238095238096,
          0.6190476190476191,
          0.6190476190476191,
          0.6190476190476191,
          0.6285714285714286,
          0.6285714285714286,
          0.638095238095238,
          0.638095238095238,
          0.638095238095238,
          0.638095238095238,
          0.638095238095238,
          0.638095238095238,
          0.6476190476190476,
          0.6476190476190476,
          0.6476190476190476,
          0.6571428571428571,
          0.6666666666666666,
          0.6761904761904762,
          0.6761904761904762,
          0.6761904761904762,
          0.6857142857142857,
          0.6857142857142857,
          0.6857142857142857,
          0.6952380952380952,
          0.6952380952380952,
          0.6952380952380952,
          0.6952380952380952,
          0.6952380952380952,
          0.6952380952380952,
          0.6952380952380952,
          0.6952380952380952,
          0.7047619047619048,
          0.7047619047619048,
          0.7047619047619048,
          0.7142857142857143,
          0.7142857142857143,
          0.7142857142857143,
          0.7238095238095238,
          0.7238095238095238,
          0.7238095238095238,
          0.7238095238095238,
          0.7238095238095238,
          0.7333333333333333,
          0.7333333333333333,
          0.7333333333333333,
          0.7333333333333333,
          0.7333333333333333,
          0.7428571428571429,
          0.7428571428571429,
          0.7428571428571429,
          0.7428571428571429,
          0.7428571428571429,
          0.7428571428571429,
          0.7523809523809524,
          0.7523809523809524,
          0.7523809523809524,
          0.7523809523809524,
          0.7523809523809524,
          0.7523809523809524,
          0.7523809523809524,
          0.7523809523809524,
          0.7523809523809524,
          0.7523809523809524,
          0.7619047619047619,
          0.7619047619047619,
          0.7619047619047619,
          0.7619047619047619,
          0.7619047619047619,
          0.7619047619047619,
          0.7619047619047619,
          0.7619047619047619,
          0.7714285714285715,
          0.7714285714285715,
          0.7714285714285715,
          0.7714285714285715,
          0.7714285714285715,
          0.780952380952381,
          0.780952380952381,
          0.780952380952381,
          0.780952380952381,
          0.7904761904761904,
          0.7904761904761904,
          0.7904761904761904,
          0.7904761904761904,
          0.7904761904761904,
          0.7904761904761904,
          0.8,
          0.8,
          0.8,
          0.8,
          0.8,
          0.8,
          0.8095238095238095,
          0.8095238095238095,
          0.8095238095238095,
          0.8095238095238095,
          0.8095238095238095,
          0.8095238095238095,
          0.8095238095238095,
          0.8095238095238095,
          0.8095238095238095,
          0.8095238095238095,
          0.8095238095238095,
          0.819047619047619,
          0.819047619047619,
          0.819047619047619,
          0.819047619047619,
          0.819047619047619,
          0.819047619047619,
          0.819047619047619,
          0.819047619047619,
          0.819047619047619,
          0.819047619047619,
          0.819047619047619,
          0.819047619047619,
          0.819047619047619,
          0.819047619047619,
          0.8285714285714286,
          0.8285714285714286,
          0.8285714285714286,
          0.8285714285714286,
          0.8285714285714286,
          0.8285714285714286,
          0.8285714285714286,
          0.8285714285714286,
          0.8285714285714286,
          0.8285714285714286,
          0.8380952380952381,
          0.8380952380952381,
          0.8380952380952381,
          0.8380952380952381,
          0.8380952380952381,
          0.8380952380952381,
          0.8380952380952381,
          0.8380952380952381,
          0.8380952380952381,
          0.8380952380952381,
          0.8380952380952381,
          0.8380952380952381,
          0.8380952380952381,
          0.8380952380952381,
          0.8380952380952381,
          0.8476190476190476,
          0.8476190476190476,
          0.8476190476190476,
          0.8476190476190476,
          0.8476190476190476,
          0.8476190476190476,
          0.8476190476190476,
          0.8476190476190476,
          0.8476190476190476,
          0.8476190476190476,
          0.8476190476190476,
          0.8571428571428571,
          0.8571428571428571,
          0.8571428571428571,
          0.8571428571428571,
          0.8571428571428571,
          0.8571428571428571,
          0.8571428571428571,
          0.8571428571428571,
          0.8571428571428571,
          0.8571428571428571,
          0.8666666666666667,
          0.8666666666666667,
          0.8666666666666667,
          0.8666666666666667,
          0.8666666666666667,
          0.8666666666666667,
          0.8666666666666667,
          0.8666666666666667,
          0.8666666666666667,
          0.8666666666666667,
          0.8666666666666667,
          0.8666666666666667,
          0.8666666666666667,
          0.8666666666666667,
          0.8666666666666667,
          0.8666666666666667,
          0.8666666666666667,
          0.8666666666666667,
          0.8666666666666667,
          0.8666666666666667,
          0.8666666666666667,
          0.8761904761904762,
          0.8761904761904762,
          0.8761904761904762,
          0.8761904761904762,
          0.8761904761904762,
          0.8761904761904762,
          0.8761904761904762,
          0.8761904761904762,
          0.8761904761904762,
          0.8857142857142857,
          0.8857142857142857,
          0.8857142857142857,
          0.8857142857142857,
          0.8857142857142857,
          0.8857142857142857,
          0.8857142857142857,
          0.8857142857142857,
          0.8857142857142857,
          0.8857142857142857,
          0.8857142857142857,
          0.8857142857142857,
          0.8857142857142857,
          0.8857142857142857,
          0.8857142857142857,
          0.8857142857142857,
          0.8857142857142857,
          0.8857142857142857,
          0.8857142857142857,
          0.8857142857142857,
          0.8952380952380953,
          0.8952380952380953,
          0.8952380952380953,
          0.8952380952380953,
          0.8952380952380953,
          0.8952380952380953,
          0.8952380952380953,
          0.8952380952380953,
          0.8952380952380953,
          0.8952380952380953,
          0.8952380952380953,
          0.8952380952380953,
          0.8952380952380953,
          0.8952380952380953,
          0.8952380952380953,
          0.8952380952380953,
          0.8952380952380953,
          0.8952380952380953,
          0.8952380952380953,
          0.8952380952380953,
          0.8952380952380953,
          0.8952380952380953,
          0.8952380952380953,
          0.9047619047619048,
          0.9047619047619048,
          0.9047619047619048,
          0.9047619047619048,
          0.9047619047619048,
          0.9047619047619048,
          0.9047619047619048,
          0.9047619047619048,
          0.9047619047619048,
          0.9047619047619048,
          0.9047619047619048,
          0.9047619047619048,
          0.9047619047619048,
          0.9047619047619048,
          0.9047619047619048,
          0.9047619047619048,
          0.9047619047619048,
          0.9047619047619048,
          0.9047619047619048,
          0.9047619047619048,
          0.9047619047619048,
          0.9047619047619048,
          0.9047619047619048,
          0.9047619047619048,
          0.9142857142857143,
          0.9142857142857143,
          0.9142857142857143,
          0.9142857142857143,
          0.9142857142857143,
          0.9142857142857143,
          0.9142857142857143,
          0.9142857142857143,
          0.9142857142857143,
          0.9142857142857143,
          0.9142857142857143,
          0.9142857142857143,
          0.9142857142857143,
          0.9142857142857143,
          0.9142857142857143,
          0.9142857142857143,
          0.9142857142857143,
          0.9142857142857143,
          0.9142857142857143,
          0.9142857142857143,
          0.9142857142857143,
          0.9142857142857143,
          0.9142857142857143,
          0.9142857142857143,
          0.9142857142857143,
          0.9142857142857143,
          0.9142857142857143,
          0.9142857142857143,
          0.9142857142857143,
          0.9142857142857143,
          0.9142857142857143,
          0.9142857142857143,
          0.9142857142857143,
          0.9142857142857143,
          0.9142857142857143,
          0.9142857142857143,
          0.9142857142857143,
          0.9142857142857143,
          0.9142857142857143,
          0.9142857142857143,
          0.9142857142857143,
          0.9142857142857143,
          0.9142857142857143,
          0.9142857142857143,
          0.9142857142857143,
          0.9142857142857143,
          0.9142857142857143,
          0.9238095238095239,
          0.9238095238095239,
          0.9238095238095239,
          0.9238095238095239,
          0.9238095238095239,
          0.9238095238095239,
          0.9238095238095239,
          0.9238095238095239,
          0.9238095238095239,
          0.9238095238095239,
          0.9238095238095239,
          0.9238095238095239,
          0.9238095238095239,
          0.9238095238095239,
          0.9238095238095239,
          0.9238095238095239,
          0.9238095238095239,
          0.9238095238095239,
          0.9238095238095239,
          0.9238095238095239,
          0.9238095238095239,
          0.9238095238095239,
          0.9238095238095239,
          0.9238095238095239,
          0.9238095238095239,
          0.9238095238095239,
          0.9238095238095239,
          0.9238095238095239,
          0.9238095238095239,
          0.9238095238095239,
          0.9238095238095239,
          0.9238095238095239,
          0.9238095238095239,
          0.9238095238095239,
          0.9238095238095239,
          0.9238095238095239,
          0.9238095238095239,
          0.9238095238095239,
          0.9238095238095239,
          0.9238095238095239,
          0.9333333333333333,
          0.9333333333333333,
          0.9333333333333333,
          0.9333333333333333,
          0.9333333333333333,
          0.9333333333333333,
          0.9333333333333333,
          0.9333333333333333,
          0.9333333333333333,
          0.9333333333333333,
          0.9333333333333333,
          0.9333333333333333,
          0.9333333333333333,
          0.9333333333333333,
          0.9333333333333333,
          0.9333333333333333,
          0.9333333333333333,
          0.9333333333333333,
          0.9333333333333333,
          0.9333333333333333,
          0.9333333333333333,
          0.9333333333333333,
          0.9333333333333333,
          0.9333333333333333,
          0.9333333333333333,
          0.9333333333333333,
          0.9333333333333333,
          0.9333333333333333,
          0.9333333333333333,
          0.9333333333333333,
          0.9333333333333333,
          0.9333333333333333,
          0.9333333333333333,
          0.9333333333333333,
          0.9333333333333333,
          0.9333333333333333,
          0.9333333333333333,
          0.9333333333333333,
          0.9333333333333333,
          0.9333333333333333,
          0.9333333333333333,
          0.9333333333333333,
          0.9333333333333333,
          0.9333333333333333,
          0.9333333333333333,
          0.9333333333333333,
          0.9333333333333333,
          0.9333333333333333,
          0.9333333333333333,
          0.9333333333333333,
          0.9333333333333333,
          0.9333333333333333,
          0.9333333333333333,
          0.9428571428571428,
          0.9428571428571428,
          0.9428571428571428,
          0.9428571428571428,
          0.9428571428571428,
          0.9428571428571428,
          0.9428571428571428,
          0.9428571428571428,
          0.9428571428571428,
          0.9428571428571428,
          0.9428571428571428,
          0.9428571428571428,
          0.9428571428571428,
          0.9428571428571428,
          0.9428571428571428,
          0.9428571428571428,
          0.9428571428571428,
          0.9428571428571428,
          0.9428571428571428,
          0.9428571428571428,
          0.9428571428571428,
          0.9428571428571428,
          0.9428571428571428,
          0.9428571428571428,
          0.9428571428571428,
          0.9428571428571428,
          0.9428571428571428,
          0.9428571428571428,
          0.9428571428571428,
          0.9428571428571428,
          0.9428571428571428,
          0.9428571428571428,
          0.9428571428571428,
          0.9428571428571428,
          0.9428571428571428,
          0.9428571428571428,
          0.9428571428571428,
          0.9428571428571428,
          0.9428571428571428,
          0.9428571428571428,
          0.9428571428571428,
          0.9428571428571428,
          0.9428571428571428,
          0.9428571428571428,
          0.9428571428571428,
          0.9428571428571428,
          0.9428571428571428,
          0.9428571428571428,
          0.9428571428571428,
          0.9428571428571428,
          0.9428571428571428,
          0.9428571428571428,
          0.9428571428571428,
          0.9428571428571428,
          0.9428571428571428,
          0.9428571428571428,
          0.9523809523809523,
          0.9523809523809523,
          0.9523809523809523,
          0.9523809523809523,
          0.9523809523809523,
          0.9523809523809523,
          0.9523809523809523,
          0.9523809523809523,
          0.9523809523809523,
          0.9523809523809523,
          0.9523809523809523,
          0.9523809523809523,
          0.9523809523809523,
          0.9523809523809523,
          0.9523809523809523,
          0.9523809523809523,
          0.9523809523809523,
          0.9523809523809523,
          0.9523809523809523,
          0.9523809523809523,
          0.9523809523809523,
          0.9523809523809523,
          0.9523809523809523,
          0.9523809523809523,
          0.9523809523809523,
          0.9523809523809523,
          0.9523809523809523,
          0.9523809523809523,
          0.9523809523809523,
          0.9523809523809523,
          0.9523809523809523,
          0.9523809523809523,
          0.9523809523809523,
          0.9523809523809523,
          0.9523809523809523,
          0.9523809523809523,
          0.9523809523809523,
          0.9523809523809523,
          0.9523809523809523,
          0.9523809523809523,
          0.9523809523809523,
          0.9523809523809523,
          0.9523809523809523,
          0.9523809523809523,
          0.9523809523809523,
          0.9523809523809523,
          0.9523809523809523,
          0.9523809523809523,
          0.9523809523809523,
          0.9523809523809523,
          0.9523809523809523,
          0.9523809523809523,
          0.9523809523809523,
          0.9523809523809523,
          0.9523809523809523,
          0.9523809523809523,
          0.9523809523809523,
          0.9523809523809523,
          0.9523809523809523,
          0.9523809523809523,
          0.9523809523809523,
          0.9523809523809523,
          0.9523809523809523,
          0.9523809523809523,
          0.9523809523809523,
          0.9523809523809523,
          0.9523809523809523,
          0.9523809523809523,
          0.9523809523809523,
          0.9523809523809523,
          0.9523809523809523,
          0.9523809523809523,
          0.9523809523809523,
          0.9619047619047619,
          0.9619047619047619,
          0.9619047619047619,
          0.9619047619047619,
          0.9619047619047619,
          0.9619047619047619,
          0.9619047619047619,
          0.9619047619047619,
          0.9619047619047619,
          0.9619047619047619,
          0.9619047619047619,
          0.9619047619047619,
          0.9619047619047619,
          0.9619047619047619,
          0.9619047619047619,
          0.9619047619047619,
          0.9619047619047619,
          0.9619047619047619,
          0.9619047619047619,
          0.9619047619047619,
          0.9619047619047619,
          0.9619047619047619,
          0.9619047619047619,
          0.9619047619047619,
          0.9619047619047619,
          0.9619047619047619,
          0.9619047619047619,
          0.9619047619047619,
          0.9619047619047619,
          0.9619047619047619,
          0.9619047619047619,
          0.9619047619047619,
          0.9619047619047619,
          0.9619047619047619,
          0.9619047619047619,
          0.9619047619047619,
          0.9619047619047619,
          0.9619047619047619,
          0.9619047619047619,
          0.9619047619047619,
          0.9619047619047619,
          0.9619047619047619,
          0.9619047619047619,
          0.9619047619047619,
          0.9619047619047619,
          0.9619047619047619,
          0.9619047619047619,
          0.9619047619047619,
          0.9619047619047619,
          0.9619047619047619,
          0.9619047619047619,
          0.9619047619047619,
          0.9619047619047619,
          0.9619047619047619,
          0.9619047619047619,
          0.9619047619047619,
          0.9619047619047619,
          0.9619047619047619,
          0.9619047619047619,
          0.9619047619047619,
          0.9619047619047619,
          0.9619047619047619,
          0.9619047619047619,
          0.9619047619047619,
          0.9619047619047619,
          0.9619047619047619,
          0.9619047619047619,
          0.9619047619047619,
          0.9619047619047619,
          0.9619047619047619,
          0.9619047619047619,
          0.9619047619047619,
          0.9619047619047619,
          0.9619047619047619,
          0.9619047619047619,
          0.9619047619047619,
          0.9619047619047619,
          0.9619047619047619,
          0.9619047619047619,
          0.9619047619047619,
          0.9619047619047619,
          0.9619047619047619,
          0.9619047619047619,
          0.9619047619047619,
          0.9619047619047619,
          0.9619047619047619,
          0.9619047619047619,
          0.9619047619047619,
          0.9619047619047619,
          0.9619047619047619,
          0.9619047619047619,
          0.9619047619047619,
          0.9619047619047619,
          0.9619047619047619,
          0.9619047619047619,
          0.9619047619047619,
          0.9619047619047619,
          0.9619047619047619,
          0.9619047619047619,
          0.9714285714285714,
          0.9714285714285714,
          0.9714285714285714,
          0.9714285714285714,
          0.9714285714285714,
          0.9714285714285714,
          0.9714285714285714,
          0.9714285714285714,
          0.9714285714285714,
          0.9714285714285714,
          0.9714285714285714,
          0.9714285714285714,
          0.9714285714285714,
          0.9714285714285714,
          0.9714285714285714,
          0.9714285714285714,
          0.9714285714285714,
          0.9714285714285714,
          0.9714285714285714,
          0.9714285714285714,
          0.9714285714285714,
          0.9714285714285714,
          0.9714285714285714,
          0.9714285714285714,
          0.9714285714285714,
          0.9714285714285714,
          0.9714285714285714,
          0.9714285714285714,
          0.9714285714285714,
          0.9714285714285714,
          0.9714285714285714,
          0.9714285714285714,
          0.9714285714285714,
          0.9714285714285714,
          0.9714285714285714,
          0.9714285714285714,
          0.9714285714285714,
          0.9714285714285714,
          0.9714285714285714,
          0.9714285714285714,
          0.9714285714285714,
          0.9714285714285714,
          0.9714285714285714,
          0.9714285714285714,
          0.9714285714285714,
          0.9714285714285714,
          0.9714285714285714,
          0.9714285714285714,
          0.9714285714285714,
          0.9714285714285714,
          0.9714285714285714,
          0.9714285714285714,
          0.9714285714285714,
          0.9714285714285714,
          0.9714285714285714,
          0.9714285714285714,
          0.9714285714285714,
          0.9714285714285714,
          0.9714285714285714,
          0.9714285714285714,
          0.9714285714285714,
          0.9714285714285714,
          0.9714285714285714,
          0.9714285714285714,
          0.9714285714285714,
          0.9714285714285714,
          0.9714285714285714,
          0.9714285714285714,
          0.9714285714285714,
          0.9714285714285714,
          0.9714285714285714,
          0.9714285714285714,
          0.9714285714285714,
          0.9714285714285714,
          0.9714285714285714,
          0.9714285714285714,
          0.9714285714285714,
          0.9714285714285714,
          0.9714285714285714,
          0.9714285714285714,
          0.9714285714285714,
          0.9714285714285714,
          0.9714285714285714,
          0.9714285714285714,
          0.9714285714285714,
          0.9714285714285714,
          0.9714285714285714,
          0.9714285714285714,
          0.9714285714285714,
          0.9714285714285714,
          0.9714285714285714,
          0.9714285714285714,
          0.9714285714285714,
          0.9714285714285714,
          0.9714285714285714,
          0.9714285714285714,
          0.9714285714285714,
          0.9714285714285714,
          0.9714285714285714,
          0.9714285714285714,
          0.9714285714285714,
          0.9714285714285714,
          0.9714285714285714,
          0.9714285714285714,
          0.9714285714285714,
          0.9714285714285714,
          0.9714285714285714,
          0.9714285714285714,
          0.9714285714285714,
          0.9714285714285714,
          0.9714285714285714,
          0.9714285714285714,
          0.9714285714285714,
          0.9714285714285714,
          0.9714285714285714,
          0.9714285714285714,
          0.9714285714285714,
          0.9714285714285714,
          0.9714285714285714,
          0.9714285714285714,
          0.9714285714285714,
          0.9714285714285714,
          0.9714285714285714,
          0.9714285714285714,
          0.9714285714285714,
          0.9714285714285714,
          0.9714285714285714,
          0.9714285714285714,
          0.9714285714285714,
          0.9714285714285714,
          0.9714285714285714,
          0.9714285714285714,
          0.9714285714285714,
          0.9714285714285714,
          0.9714285714285714,
          0.9714285714285714,
          0.9714285714285714,
          0.9714285714285714,
          0.9714285714285714,
          0.9714285714285714,
          0.9714285714285714,
          0.9714285714285714,
          0.9714285714285714,
          0.9714285714285714,
          0.9714285714285714,
          0.9714285714285714,
          0.9714285714285714,
          0.9809523809523809,
          0.9809523809523809,
          0.9809523809523809,
          0.9809523809523809,
          0.9809523809523809,
          0.9809523809523809,
          0.9809523809523809,
          0.9809523809523809,
          0.9809523809523809,
          0.9809523809523809,
          0.9809523809523809,
          0.9809523809523809,
          0.9809523809523809,
          0.9809523809523809,
          0.9809523809523809,
          0.9809523809523809,
          0.9809523809523809,
          0.9809523809523809,
          0.9809523809523809,
          0.9809523809523809,
          0.9809523809523809,
          0.9809523809523809,
          0.9809523809523809,
          0.9809523809523809,
          0.9809523809523809,
          0.9809523809523809,
          0.9809523809523809,
          0.9809523809523809,
          0.9809523809523809,
          0.9809523809523809,
          0.9809523809523809,
          0.9809523809523809,
          0.9809523809523809,
          0.9809523809523809,
          0.9809523809523809,
          0.9809523809523809,
          0.9809523809523809,
          0.9809523809523809,
          0.9809523809523809,
          0.9809523809523809,
          0.9809523809523809,
          0.9809523809523809,
          0.9809523809523809,
          0.9809523809523809,
          0.9809523809523809,
          0.9809523809523809,
          0.9809523809523809,
          0.9809523809523809,
          0.9809523809523809,
          0.9809523809523809,
          0.9809523809523809,
          0.9809523809523809,
          0.9809523809523809,
          0.9809523809523809,
          0.9809523809523809,
          0.9809523809523809,
          0.9809523809523809,
          0.9809523809523809,
          0.9809523809523809,
          0.9809523809523809,
          0.9809523809523809,
          0.9809523809523809,
          0.9809523809523809,
          0.9809523809523809,
          0.9809523809523809,
          0.9809523809523809,
          0.9809523809523809,
          0.9809523809523809,
          0.9809523809523809,
          0.9809523809523809,
          0.9809523809523809,
          0.9809523809523809,
          0.9809523809523809,
          0.9809523809523809,
          0.9809523809523809,
          0.9809523809523809,
          0.9809523809523809,
          0.9809523809523809,
          0.9809523809523809,
          0.9809523809523809,
          0.9809523809523809,
          0.9809523809523809,
          0.9809523809523809,
          0.9809523809523809,
          0.9809523809523809,
          0.9809523809523809,
          0.9809523809523809,
          0.9809523809523809,
          0.9809523809523809,
          0.9809523809523809,
          0.9809523809523809,
          0.9809523809523809,
          0.9809523809523809,
          0.9809523809523809,
          0.9809523809523809,
          0.9809523809523809,
          0.9809523809523809,
          0.9809523809523809,
          0.9809523809523809,
          0.9809523809523809,
          0.9809523809523809,
          0.9809523809523809,
          0.9809523809523809,
          0.9809523809523809,
          0.9809523809523809,
          0.9809523809523809,
          0.9809523809523809,
          0.9809523809523809,
          0.9809523809523809,
          0.9809523809523809,
          0.9809523809523809,
          0.9809523809523809,
          0.9809523809523809,
          0.9809523809523809,
          0.9809523809523809,
          0.9809523809523809,
          0.9809523809523809,
          0.9809523809523809,
          0.9809523809523809,
          0.9809523809523809,
          0.9809523809523809,
          0.9809523809523809,
          0.9809523809523809,
          0.9809523809523809,
          0.9809523809523809,
          0.9809523809523809,
          0.9809523809523809,
          0.9809523809523809,
          0.9809523809523809,
          0.9809523809523809,
          0.9809523809523809,
          0.9809523809523809,
          0.9809523809523809,
          0.9809523809523809,
          0.9809523809523809,
          0.9809523809523809,
          0.9809523809523809,
          0.9809523809523809,
          0.9809523809523809,
          0.9809523809523809,
          0.9809523809523809,
          0.9809523809523809,
          0.9809523809523809,
          0.9809523809523809,
          0.9809523809523809,
          0.9809523809523809,
          0.9809523809523809,
          0.9809523809523809,
          0.9809523809523809,
          0.9809523809523809,
          0.9809523809523809,
          0.9809523809523809,
          0.9809523809523809,
          0.9809523809523809,
          0.9809523809523809,
          0.9809523809523809,
          0.9809523809523809,
          0.9809523809523809,
          0.9809523809523809,
          0.9809523809523809,
          0.9809523809523809,
          0.9809523809523809,
          0.9809523809523809,
          0.9809523809523809,
          0.9809523809523809,
          0.9809523809523809,
          0.9809523809523809,
          0.9809523809523809,
          0.9809523809523809,
          0.9809523809523809,
          0.9809523809523809,
          0.9809523809523809,
          0.9809523809523809,
          0.9809523809523809,
          0.9809523809523809,
          0.9809523809523809,
          0.9809523809523809,
          0.9809523809523809,
          0.9809523809523809,
          0.9809523809523809,
          0.9809523809523809,
          0.9809523809523809,
          0.9809523809523809,
          0.9809523809523809,
          0.9809523809523809,
          0.9809523809523809,
          0.9809523809523809,
          0.9809523809523809,
          0.9809523809523809,
          0.9809523809523809,
          0.9809523809523809,
          0.9809523809523809,
          0.9809523809523809,
          0.9809523809523809,
          0.9809523809523809,
          0.9809523809523809,
          0.9809523809523809,
          0.9809523809523809,
          0.9809523809523809,
          0.9809523809523809,
          0.9809523809523809,
          0.9809523809523809,
          0.9809523809523809,
          0.9809523809523809,
          0.9809523809523809,
          0.9809523809523809,
          0.9809523809523809,
          0.9809523809523809,
          0.9809523809523809,
          0.9809523809523809,
          0.9809523809523809,
          0.9809523809523809,
          0.9809523809523809,
          0.9809523809523809,
          0.9809523809523809,
          0.9809523809523809,
          0.9809523809523809,
          0.9809523809523809,
          0.9809523809523809,
          0.9809523809523809,
          0.9809523809523809,
          0.9809523809523809,
          0.9809523809523809,
          0.9809523809523809,
          0.9809523809523809,
          0.9809523809523809,
          0.9809523809523809,
          0.9809523809523809,
          0.9809523809523809,
          0.9809523809523809,
          0.9809523809523809,
          0.9809523809523809,
          0.9809523809523809,
          0.9809523809523809,
          0.9809523809523809,
          0.9809523809523809,
          0.9809523809523809,
          0.9904761904761905,
          0.9904761904761905,
          0.9904761904761905,
          0.9904761904761905,
          0.9904761904761905,
          0.9904761904761905,
          0.9904761904761905,
          0.9904761904761905,
          0.9904761904761905,
          0.9904761904761905,
          0.9904761904761905,
          0.9904761904761905,
          0.9904761904761905,
          0.9904761904761905,
          0.9904761904761905,
          0.9904761904761905,
          0.9904761904761905,
          0.9904761904761905,
          0.9904761904761905,
          0.9904761904761905,
          0.9904761904761905,
          0.9904761904761905,
          0.9904761904761905,
          0.9904761904761905,
          0.9904761904761905,
          0.9904761904761905,
          0.9904761904761905,
          0.9904761904761905,
          0.9904761904761905,
          0.9904761904761905,
          0.9904761904761905,
          0.9904761904761905,
          0.9904761904761905,
          0.9904761904761905,
          0.9904761904761905,
          0.9904761904761905,
          0.9904761904761905,
          0.9904761904761905,
          0.9904761904761905,
          0.9904761904761905,
          0.9904761904761905,
          0.9904761904761905,
          0.9904761904761905,
          0.9904761904761905,
          0.9904761904761905,
          0.9904761904761905,
          0.9904761904761905,
          0.9904761904761905,
          0.9904761904761905,
          0.9904761904761905,
          0.9904761904761905,
          0.9904761904761905,
          0.9904761904761905,
          0.9904761904761905,
          0.9904761904761905,
          0.9904761904761905,
          0.9904761904761905,
          0.9904761904761905,
          0.9904761904761905,
          0.9904761904761905,
          0.9904761904761905,
          0.9904761904761905,
          0.9904761904761905,
          0.9904761904761905,
          0.9904761904761905,
          0.9904761904761905,
          0.9904761904761905,
          0.9904761904761905,
          0.9904761904761905,
          0.9904761904761905,
          0.9904761904761905,
          0.9904761904761905,
          0.9904761904761905,
          0.9904761904761905,
          0.9904761904761905,
          0.9904761904761905,
          0.9904761904761905,
          0.9904761904761905,
          0.9904761904761905,
          0.9904761904761905,
          0.9904761904761905,
          0.9904761904761905,
          0.9904761904761905,
          0.9904761904761905,
          0.9904761904761905,
          0.9904761904761905,
          0.9904761904761905,
          0.9904761904761905,
          0.9904761904761905,
          0.9904761904761905,
          0.9904761904761905,
          0.9904761904761905,
          0.9904761904761905,
          0.9904761904761905,
          0.9904761904761905,
          0.9904761904761905,
          0.9904761904761905,
          0.9904761904761905,
          0.9904761904761905,
          0.9904761904761905,
          0.9904761904761905,
          0.9904761904761905,
          0.9904761904761905,
          0.9904761904761905,
          0.9904761904761905,
          0.9904761904761905,
          0.9904761904761905,
          0.9904761904761905,
          0.9904761904761905,
          0.9904761904761905,
          0.9904761904761905,
          0.9904761904761905,
          0.9904761904761905,
          0.9904761904761905,
          0.9904761904761905,
          0.9904761904761905,
          0.9904761904761905,
          0.9904761904761905,
          0.9904761904761905,
          0.9904761904761905,
          0.9904761904761905,
          0.9904761904761905,
          0.9904761904761905,
          0.9904761904761905,
          0.9904761904761905,
          0.9904761904761905,
          0.9904761904761905,
          0.9904761904761905,
          0.9904761904761905,
          0.9904761904761905,
          0.9904761904761905,
          0.9904761904761905,
          0.9904761904761905,
          0.9904761904761905,
          0.9904761904761905,
          0.9904761904761905,
          0.9904761904761905,
          0.9904761904761905,
          0.9904761904761905,
          0.9904761904761905,
          0.9904761904761905,
          0.9904761904761905,
          0.9904761904761905,
          0.9904761904761905,
          0.9904761904761905,
          0.9904761904761905,
          0.9904761904761905,
          0.9904761904761905,
          0.9904761904761905,
          0.9904761904761905,
          0.9904761904761905,
          0.9904761904761905,
          0.9904761904761905,
          0.9904761904761905,
          0.9904761904761905,
          0.9904761904761905,
          0.9904761904761905,
          0.9904761904761905,
          0.9904761904761905,
          0.9904761904761905,
          0.9904761904761905,
          0.9904761904761905,
          0.9904761904761905,
          0.9904761904761905,
          0.9904761904761905,
          0.9904761904761905,
          0.9904761904761905,
          0.9904761904761905,
          0.9904761904761905,
          0.9904761904761905,
          0.9904761904761905,
          0.9904761904761905,
          0.9904761904761905,
          0.9904761904761905,
          0.9904761904761905,
          0.9904761904761905,
          0.9904761904761905,
          0.9904761904761905,
          0.9904761904761905,
          0.9904761904761905,
          0.9904761904761905,
          0.9904761904761905,
          0.9904761904761905,
          0.9904761904761905,
          0.9904761904761905,
          0.9904761904761905,
          0.9904761904761905,
          0.9904761904761905,
          0.9904761904761905,
          0.9904761904761905,
          0.9904761904761905,
          0.9904761904761905,
          0.9904761904761905,
          0.9904761904761905,
          0.9904761904761905,
          0.9904761904761905,
          0.9904761904761905,
          0.9904761904761905,
          0.9904761904761905,
          0.9904761904761905,
          0.9904761904761905,
          0.9904761904761905,
          0.9904761904761905,
          0.9904761904761905,
          0.9904761904761905,
          0.9904761904761905,
          0.9904761904761905,
          0.9904761904761905,
          0.9904761904761905,
          0.9904761904761905,
          0.9904761904761905,
          0.9904761904761905,
          0.9904761904761905,
          0.9904761904761905,
          0.9904761904761905,
          0.9904761904761905,
          0.9904761904761905,
          0.9904761904761905,
          0.9904761904761905,
          0.9904761904761905,
          0.9904761904761905,
          0.9904761904761905,
          0.9904761904761905,
          0.9904761904761905,
          0.9904761904761905,
          0.9904761904761905,
          0.9904761904761905,
          0.9904761904761905,
          0.9904761904761905,
          0.9904761904761905,
          0.9904761904761905,
          0.9904761904761905,
          0.9904761904761905,
          0.9904761904761905,
          0.9904761904761905,
          0.9904761904761905,
          0.9904761904761905,
          0.9904761904761905,
          0.9904761904761905,
          0.9904761904761905,
          0.9904761904761905,
          0.9904761904761905,
          0.9904761904761905,
          0.9904761904761905,
          0.9904761904761905,
          0.9904761904761905,
          0.9904761904761905,
          0.9904761904761905,
          0.9904761904761905,
          0.9904761904761905,
          0.9904761904761905,
          0.9904761904761905,
          0.9904761904761905,
          0.9904761904761905,
          0.9904761904761905,
          0.9904761904761905,
          0.9904761904761905,
          0.9904761904761905,
          0.9904761904761905,
          0.9904761904761905,
          0.9904761904761905,
          0.9904761904761905,
          0.9904761904761905,
          0.9904761904761905,
          0.9904761904761905,
          0.9904761904761905,
          0.9904761904761905,
          0.9904761904761905,
          0.9904761904761905,
          0.9904761904761905,
          0.9904761904761905,
          0.9904761904761905,
          0.9904761904761905,
          0.9904761904761905,
          0.9904761904761905,
          0.9904761904761905,
          0.9904761904761905,
          0.9904761904761905,
          0.9904761904761905,
          0.9904761904761905,
          0.9904761904761905,
          0.9904761904761905,
          0.9904761904761905,
          0.9904761904761905,
          0.9904761904761905,
          0.9904761904761905,
          0.9904761904761905,
          0.9904761904761905,
          0.9904761904761905,
          0.9904761904761905,
          0.9904761904761905,
          0.9904761904761905,
          0.9904761904761905,
          0.9904761904761905,
          0.9904761904761905,
          0.9904761904761905,
          0.9904761904761905,
          0.9904761904761905,
          0.9904761904761905,
          0.9904761904761905,
          0.9904761904761905,
          0.9904761904761905,
          0.9904761904761905,
          0.9904761904761905,
          0.9904761904761905,
          0.9904761904761905,
          0.9904761904761905,
          0.9904761904761905,
          0.9904761904761905,
          0.9904761904761905,
          0.9904761904761905,
          0.9904761904761905,
          0.9904761904761905,
          0.9904761904761905,
          0.9904761904761905,
          0.9904761904761905,
          0.9904761904761905,
          0.9904761904761905,
          0.9904761904761905,
          0.9904761904761905,
          0.9904761904761905,
          0.9904761904761905,
          0.9904761904761905,
          0.9904761904761905,
          0.9904761904761905,
          0.9904761904761905,
          0.9904761904761905,
          0.9904761904761905,
          0.9904761904761905,
          0.9904761904761905,
          0.9904761904761905,
          0.9904761904761905,
          0.9904761904761905,
          0.9904761904761905,
          0.9904761904761905,
          0.9904761904761905,
          0.9904761904761905,
          0.9904761904761905,
          0.9904761904761905,
          0.9904761904761905,
          0.9904761904761905,
          0.9904761904761905,
          0.9904761904761905,
          0.9904761904761905,
          0.9904761904761905,
          0.9904761904761905,
          0.9904761904761905,
          0.9904761904761905,
          0.9904761904761905,
          0.9904761904761905,
          0.9904761904761905,
          0.9904761904761905,
          0.9904761904761905,
          0.9904761904761905,
          0.9904761904761905,
          0.9904761904761905,
          0.9904761904761905,
          0.9904761904761905,
          0.9904761904761905,
          0.9904761904761905,
          0.9904761904761905,
          0.9904761904761905,
          0.9904761904761905,
          0.9904761904761905,
          0.9904761904761905,
          0.9904761904761905,
          0.9904761904761905,
          0.9904761904761905,
          0.9904761904761905,
          0.9904761904761905,
          0.9904761904761905,
          0.9904761904761905,
          0.9904761904761905,
          0.9904761904761905,
          0.9904761904761905,
          0.9904761904761905,
          0.9904761904761905,
          0.9904761904761905,
          0.9904761904761905,
          0.9904761904761905,
          0.9904761904761905,
          0.9904761904761905,
          0.9904761904761905,
          0.9904761904761905,
          0.9904761904761905,
          0.9904761904761905,
          0.9904761904761905,
          0.9904761904761905,
          0.9904761904761905,
          0.9904761904761905,
          0.9904761904761905,
          0.9904761904761905,
          0.9904761904761905,
          0.9904761904761905,
          0.9904761904761905,
          0.9904761904761905,
          0.9904761904761905,
          0.9904761904761905,
          0.9904761904761905,
          0.9904761904761905,
          0.9904761904761905,
          0.9904761904761905,
          0.9904761904761905,
          0.9904761904761905,
          0.9904761904761905,
          0.9904761904761905,
          0.9904761904761905,
          0.9904761904761905,
          0.9904761904761905,
          0.9904761904761905,
          0.9904761904761905,
          0.9904761904761905,
          0.9904761904761905,
          0.9904761904761905,
          0.9904761904761905,
          0.9904761904761905,
          0.9904761904761905,
          0.9904761904761905,
          0.9904761904761905,
          0.9904761904761905,
          0.9904761904761905,
          0.9904761904761905,
          0.9904761904761905,
          0.9904761904761905,
          0.9904761904761905,
          0.9904761904761905,
          0.9904761904761905,
          0.9904761904761905,
          0.9904761904761905,
          0.9904761904761905,
          0.9904761904761905,
          0.9904761904761905,
          0.9904761904761905,
          0.9904761904761905,
          0.9904761904761905,
          0.9904761904761905,
          0.9904761904761905,
          0.9904761904761905,
          0.9904761904761905,
          0.9904761904761905,
          0.9904761904761905,
          0.9904761904761905,
          0.9904761904761905,
          0.9904761904761905,
          0.9904761904761905,
          0.9904761904761905,
          0.9904761904761905,
          0.9904761904761905,
          0.9904761904761905,
          1,
          1,
          1,
          1,
          1,
          1,
          1,
          1,
          1,
          1,
          1,
          1,
          1,
          1,
          1,
          1,
          1,
          1,
          1,
          1,
          1,
          1,
          1,
          1,
          1,
          1,
          1,
          1,
          1,
          1,
          1,
          1,
          1,
          1,
          1,
          1,
          1,
          1,
          1,
          1,
          1,
          1,
          1,
          1,
          1,
          1,
          1,
          1,
          1,
          1,
          1,
          1,
          1,
          1,
          1,
          1,
          1,
          1,
          1,
          1,
          1,
          1,
          1,
          1,
          1,
          1,
          1,
          1,
          1,
          1,
          1,
          1,
          1,
          1,
          1,
          1
         ],
         "xaxis": "x",
         "y": [
          0.11325301204819277,
          0.02891566265060241,
          0.03614457831325301,
          0.7397590361445783,
          0.11566265060240964,
          0.06265060240963856,
          0.04819277108433735,
          0.29397590361445786,
          0.06506024096385542,
          0.06746987951807229,
          0.08674698795180723,
          0.09156626506024096,
          0.7373493975903614,
          0.3783132530120482,
          0.15421686746987953,
          0.8626506024096385,
          0.12289156626506025,
          0.20722891566265061,
          0.6674698795180722,
          0.4072289156626506,
          0.08433734939759036,
          0.17349397590361446,
          0.3710843373493976,
          0.3180722891566265,
          0.1180722891566265,
          0.007228915662650603,
          0.1108433734939759,
          0.2674698795180723,
          0.27228915662650605,
          0.37349397590361444,
          0.043373493975903614,
          0.5662650602409639,
          0.7807228915662651,
          0.25542168674698795,
          0.4602409638554217,
          0.0891566265060241,
          0.6385542168674698,
          0.6939759036144578,
          0.6578313253012048,
          0.6746987951807228,
          0.3421686746987952,
          0.963855421686747,
          0.7373493975903614,
          0.6602409638554216,
          0.4457831325301205,
          0.12530120481927712,
          0.7951807228915663,
          0.8024096385542169,
          0.8674698795180723,
          0.8216867469879519,
          0.19518072289156627,
          0.40240963855421685,
          0.9951807228915662,
          0.5108433734939759,
          0.5975903614457831,
          0.06987951807228916,
          0.2385542168674699,
          0.13734939759036144,
          0.672289156626506,
          0.2963855421686747,
          0.8409638554216867,
          0.4,
          0.9566265060240964,
          0.8192771084337349,
          0.8963855421686747,
          0.014457831325301205,
          0.012048192771084338,
          0.9783132530120482,
          0.9686746987951808,
          0.43373493975903615,
          0.13253012048192772,
          0.6481927710843374,
          0.5542168674698795,
          0.28433734939759037,
          0.7879518072289157,
          0.15180722891566265,
          0.01927710843373494,
          0.6987951807228916,
          0.03855421686746988,
          0.9975903614457832,
          0.5180722891566265,
          0.9927710843373494,
          0.04578313253012048,
          0.3397590361445783,
          0.4578313253012048,
          0.3614457831325301,
          0.980722891566265,
          0.6963855421686747,
          0.8337349397590361,
          0.9253012048192771,
          0.024096385542168676,
          0.2433734939759036,
          0.9614457831325302,
          0.07710843373493977,
          0.5879518072289157,
          0.14698795180722893,
          0.7710843373493976,
          0.42891566265060244,
          0.6313253012048192,
          0.8409638554216867,
          0.1855421686746988,
          0.25783132530120484,
          0.43132530120481927,
          0.9951807228915662,
          0.19759036144578312,
          0.004819277108433735,
          0.46265060240963857,
          0.8120481927710843,
          0.8457831325301205,
          0.20240963855421687,
          0.9855421686746988,
          0.9975903614457832,
          0.7783132530120482,
          0.5469879518072289,
          0.9662650602409638,
          0.9349397590361446,
          0.8819277108433735,
          0.9590361445783132,
          0.8771084337349397,
          0.3927710843373494,
          0.00963855421686747,
          0.636144578313253,
          0.8385542168674699,
          0.6096385542168675,
          0.9783132530120482,
          0.060240963855421686,
          0.4795180722891566,
          0.21204819277108433,
          0.8289156626506025,
          0.983132530120482,
          0.3469879518072289,
          0.9156626506024096,
          0.2987951807228916,
          0.963855421686747,
          0.8361445783132531,
          0.8746987951807229,
          0.16626506024096385,
          0.10120481927710843,
          0.3373493975903614,
          0.7542168674698795,
          0.9783132530120482,
          0.891566265060241,
          0.07951807228915662,
          0.9975903614457832,
          0.44819277108433736,
          0.5518072289156627,
          0.8867469879518072,
          0.8554216867469879,
          0.38313253012048193,
          0.980722891566265,
          0.2,
          0.9662650602409638,
          0.563855421686747,
          0.38795180722891565,
          0.021686746987951807,
          0.02650602409638554,
          0.22409638554216868,
          0.5783132530120482,
          0.9975903614457832,
          0.4963855421686747,
          0.016867469879518072,
          0.3253012048192771,
          0.8602409638554217,
          0.9421686746987952,
          0.9204819277108434,
          0.2819277108433735,
          0.07228915662650602,
          0.5445783132530121,
          0.9566265060240964,
          0.12048192771084337,
          0.5903614457831325,
          0.363855421686747,
          0.6481927710843374,
          0.27710843373493976,
          0.9662650602409638,
          0.3156626506024096,
          0.6289156626506024,
          0.9710843373493976,
          0.8265060240963855,
          0.9012048192771084,
          0.9204819277108434,
          0.1566265060240964,
          0.19036144578313252,
          0.8192771084337349,
          0.1710843373493976,
          0.6120481927710844,
          0.980722891566265,
          0.9180722891566265,
          0.9879518072289156,
          0.9951807228915662,
          0.9349397590361446,
          0.8457831325301205,
          0.20963855421686747,
          0.21927710843373494,
          0.20481927710843373,
          0.28674698795180725,
          0.9734939759036144,
          0.9060240963855422,
          0.27951807228915665,
          0.9975903614457832,
          0.944578313253012,
          0.9855421686746988,
          0.8313253012048193,
          0.963855421686747,
          0.35180722891566263,
          0.7204819277108434,
          0.0819277108433735,
          0.9927710843373494,
          0.45542168674698796,
          0.5277108433734939,
          0.05783132530120482,
          0.9397590361445783,
          0.983132530120482,
          0.9734939759036144,
          0.9036144578313253,
          0.9493975903614458,
          0.26506024096385544,
          0.04096385542168675,
          0.5493975903614458,
          0.24096385542168675,
          0.7421686746987952,
          1,
          0.8024096385542169,
          0.7807228915662651,
          0.9566265060240964,
          0.3493975903614458,
          0.9903614457831326,
          0.9759036144578314,
          0.9903614457831326,
          0.9180722891566265,
          0.9662650602409638,
          0.9132530120481928,
          0.9518072289156626,
          0.9662650602409638,
          0.9951807228915662,
          0.39759036144578314,
          0.6698795180722892,
          0.9975903614457832,
          0.9397590361445783,
          0.7301204819277108,
          0.9951807228915662,
          0.5951807228915663,
          0.1686746987951807,
          0.9879518072289156,
          0.9734939759036144,
          0.9879518072289156,
          0.7180722891566265,
          0.9036144578313253,
          0.9951807228915662,
          0.9879518072289156,
          1,
          0.7662650602409639,
          0.491566265060241,
          0.619277108433735,
          0.7493975903614458,
          0.05542168674698795,
          0.9879518072289156,
          1,
          1,
          0.9903614457831326,
          0.983132530120482,
          0.980722891566265,
          0.9759036144578314,
          0.9927710843373494,
          0.9325301204819277,
          0.8843373493975903,
          0.5012048192771085,
          0.13975903614457832,
          0.39036144578313253,
          0.9662650602409638,
          0.9253012048192771,
          0.946987951807229,
          0.6313253012048192,
          0.7518072289156627,
          0.7590361445783133,
          0.9373493975903614,
          0.7566265060240964,
          0.8987951807228916,
          0.43855421686746987,
          0.708433734939759,
          0.9614457831325302,
          0.9518072289156626,
          0.327710843373494,
          0.5831325301204819,
          0.672289156626506,
          0.963855421686747,
          0.8771084337349397,
          0.944578313253012,
          0.946987951807229,
          0.8216867469879519,
          0.9927710843373494,
          0.9927710843373494,
          0.9927710843373494,
          0.8843373493975903,
          0.9975903614457832,
          0.9927710843373494,
          1,
          0.23132530120481928,
          0.3204819277108434,
          0.8072289156626506,
          0.9951807228915662,
          0.9228915662650602,
          0.03132530120481928,
          0.9951807228915662,
          0.21686746987951808,
          0.9710843373493976,
          0.5204819277108433,
          0.9927710843373494,
          0.8698795180722891,
          0.9975903614457832,
          0.8168674698795181,
          0.9879518072289156,
          0.9975903614457832,
          0.7879518072289157,
          0.9951807228915662,
          0.8192771084337349,
          0.9903614457831326,
          0.9542168674698795,
          0.983132530120482,
          0.9927710843373494,
          0.9614457831325302,
          1,
          0.7831325301204819,
          0.9686746987951808,
          0.9542168674698795,
          0.9855421686746988,
          0.9951807228915662,
          0.6578313253012048,
          0.9783132530120482,
          0.9373493975903614,
          0.963855421686747,
          0.3301204819277108,
          1,
          1,
          0.9493975903614458,
          0.980722891566265,
          0.9783132530120482,
          0.9879518072289156,
          0.9927710843373494,
          0.9903614457831326,
          0.4843373493975904,
          0.8313253012048193,
          0.9759036144578314,
          0.5927710843373494,
          1,
          0.9759036144578314,
          0.9614457831325302,
          0.9855421686746988,
          0.15903614457831325,
          0.1927710843373494,
          0.14457831325301204,
          0.23373493975903614,
          0.8289156626506025,
          1,
          0.236144578313253,
          0.18072289156626506,
          0.5807228915662651,
          0.9975903614457832,
          0.1614457831325301,
          0.9951807228915662,
          0.9012048192771084,
          0.41927710843373495,
          0.946987951807229,
          0.9951807228915662,
          0.43614457831325304,
          1,
          0.6072289156626506,
          0.9975903614457832,
          0.9951807228915662,
          0.9542168674698795,
          0.8650602409638555,
          0.9855421686746988,
          0.9975903614457832,
          0.9951807228915662,
          1,
          0.9421686746987952,
          0.9686746987951808,
          1,
          0.655421686746988,
          0.9927710843373494,
          0.26024096385542167,
          0.9783132530120482,
          0.963855421686747,
          1,
          1,
          0.9975903614457832,
          0.9927710843373494,
          0.983132530120482,
          0.980722891566265,
          0.8722891566265061,
          0.944578313253012,
          0.9710843373493976,
          1,
          1,
          0.727710843373494,
          0.983132530120482,
          0.5349397590361445,
          0.12771084337349398,
          0.3132530120481928,
          0.9975903614457832,
          0.9879518072289156,
          0.8433734939759037,
          0.42650602409638555,
          0.6795180722891566,
          1,
          0.9927710843373494,
          0.9975903614457832,
          0.8578313253012049,
          0.9686746987951808,
          0.8240963855421687,
          0.9662650602409638,
          0.9951807228915662,
          0.9975903614457832,
          1,
          0.7710843373493976,
          0.9975903614457832,
          0.9903614457831326,
          1,
          0.44096385542168676,
          0.5156626506024097,
          0.5566265060240964,
          0.8192771084337349,
          0.3228915662650602,
          0.6240963855421687,
          1,
          0.7108433734939759,
          0.9686746987951808,
          0.672289156626506,
          0.9975903614457832,
          0.9734939759036144,
          0.9518072289156626,
          0.9253012048192771,
          1,
          0.983132530120482,
          0.9204819277108434,
          0.9975903614457832,
          0.38072289156626504,
          0.9060240963855422,
          0.7903614457831325,
          0.9975903614457832,
          0.5253012048192771,
          1,
          0.9975903614457832,
          1,
          0.9879518072289156,
          0.8650602409638555,
          0.4530120481927711,
          0.8819277108433735,
          0.9975903614457832,
          0.9879518072289156,
          0.9590361445783132,
          0.9951807228915662,
          0.9975903614457832,
          1,
          0.9927710843373494,
          0.6457831325301204,
          0.8409638554216867,
          0.9975903614457832,
          0.9036144578313253,
          0.9301204819277108,
          0.9975903614457832,
          0.983132530120482,
          0.9903614457831326,
          0.9590361445783132,
          0.9975903614457832,
          0.9951807228915662,
          0.8987951807228916,
          0.9662650602409638,
          1,
          1,
          0.9927710843373494,
          0.8795180722891566,
          1,
          0.9301204819277108,
          0.9566265060240964,
          1,
          0.8,
          1,
          1,
          0.9903614457831326,
          0.763855421686747,
          0.9927710843373494,
          1,
          0.9349397590361446,
          0.9951807228915662,
          0.691566265060241,
          0.39518072289156625,
          0.9975903614457832,
          0.8409638554216867,
          0.9493975903614458,
          0.5445783132530121,
          0.09879518072289156,
          0.891566265060241,
          0.9903614457831326,
          0.9759036144578314,
          0.9759036144578314,
          0.8843373493975903,
          0.9927710843373494,
          0.9783132530120482,
          0.9614457831325302,
          0.9975903614457832,
          0.9975903614457832,
          0.7566265060240964,
          1,
          0.42168674698795183,
          0.9903614457831326,
          0.891566265060241,
          1,
          1,
          1,
          0.963855421686747,
          0.9975903614457832,
          0.9903614457831326,
          0.9975903614457832,
          0.9975903614457832,
          0.8722891566265061,
          0.9975903614457832,
          0.9132530120481928,
          0.7108433734939759,
          0.983132530120482,
          0.3349397590361446,
          0.7493975903614458,
          0.4867469879518072,
          0.983132530120482,
          0.9927710843373494,
          0.9879518072289156,
          0.9927710843373494,
          0.8650602409638555,
          0.9951807228915662,
          1,
          0.24819277108433735,
          0.9951807228915662,
          0.9951807228915662,
          0.744578313253012,
          1,
          1,
          1,
          1,
          1,
          1,
          0.946987951807229,
          0.9590361445783132,
          0.7807228915662651,
          0.9927710843373494,
          0.6506024096385542,
          0.8385542168674699,
          0.689156626506024,
          0.9566265060240964,
          0.41204819277108434,
          0.4650602409638554,
          0.9879518072289156,
          0.9903614457831326,
          0.9951807228915662,
          1,
          0.980722891566265,
          0.9927710843373494,
          0.9542168674698795,
          0.9951807228915662,
          0.963855421686747,
          1,
          1,
          0.9493975903614458,
          1,
          0.9855421686746988,
          0.9951807228915662,
          0.9975903614457832,
          1,
          0.9108433734939759,
          0.9734939759036144,
          0.9855421686746988,
          0.9975903614457832,
          0.9686746987951808,
          0.7590361445783133,
          0.9975903614457832,
          0.983132530120482,
          0.653012048192771,
          1,
          0.7759036144578313,
          0.9710843373493976,
          0.9493975903614458,
          0.9927710843373494,
          0.908433734939759,
          0.9879518072289156,
          1,
          0.8096385542168675,
          0.9421686746987952,
          1,
          0.8,
          1,
          0.8867469879518072,
          1,
          0.9349397590361446,
          1,
          0.9975903614457832,
          0.9783132530120482,
          1,
          0.9253012048192771,
          0.9349397590361446,
          0.9783132530120482,
          0.9927710843373494,
          0.6795180722891566,
          1,
          0.9975903614457832,
          0.9903614457831326,
          0.9927710843373494,
          0.946987951807229,
          0.9951807228915662,
          0.9710843373493976,
          0.9903614457831326,
          0.9951807228915662,
          0.9903614457831326,
          0.9951807228915662,
          0.9975903614457832,
          0.9927710843373494,
          0.9518072289156626,
          0.9975903614457832,
          0.9903614457831326,
          1,
          0.6867469879518072,
          0.29156626506024097,
          0.946987951807229,
          1,
          0.163855421686747,
          0.8433734939759037,
          1,
          0.9542168674698795,
          1,
          0.9903614457831326,
          1,
          0.9927710843373494,
          0.9927710843373494,
          0.8240963855421687,
          0.9855421686746988,
          0.8216867469879519,
          1,
          1,
          0.963855421686747,
          1,
          1,
          1,
          1,
          0.983132530120482,
          1,
          0.9975903614457832,
          1,
          0.9975903614457832,
          1,
          1,
          0.6746987951807228,
          0.8771084337349397,
          0.7542168674698795,
          1,
          1,
          0.9349397590361446,
          0.35903614457831323,
          0.9734939759036144,
          0.8939759036144578,
          1,
          0.9975903614457832,
          0.9951807228915662,
          1,
          0.7975903614457831,
          1,
          1,
          0.9975903614457832,
          0.9662650602409638,
          1,
          0.9855421686746988,
          0.9975903614457832,
          0.944578313253012,
          0.10602409638554217,
          0.5855421686746988,
          0.9975903614457832,
          0.8144578313253013,
          0.9012048192771084,
          0.9060240963855422,
          0.8987951807228916,
          0.6265060240963856,
          1,
          0.983132530120482,
          0.9951807228915662,
          1,
          0.9590361445783132,
          0.9951807228915662,
          1,
          0.9975903614457832,
          0.9879518072289156,
          0.9975903614457832,
          1,
          0.9879518072289156,
          0.8674698795180723,
          1,
          0.9855421686746988,
          0.5301204819277109,
          1,
          1,
          0.5204819277108433,
          0.9879518072289156,
          0.980722891566265,
          0.9975903614457832,
          0.9975903614457832,
          0.7469879518072289,
          1,
          0.8626506024096385,
          0.7927710843373494,
          1,
          0.9927710843373494,
          0.9927710843373494,
          0.9542168674698795,
          1,
          0.963855421686747,
          0.983132530120482,
          0.9879518072289156,
          0.9927710843373494,
          1,
          0.9975903614457832,
          1,
          0.6024096385542169,
          0.2216867469879518,
          0.3566265060240964,
          0.908433734939759,
          0.8626506024096385,
          0.5710843373493976,
          0.7734939759036145,
          0.22650602409638554,
          0.5397590361445783,
          0.9686746987951808,
          0.10361445783132531,
          0.033734939759036145,
          0.8939759036144578,
          0.4506024096385542,
          1,
          0.9975903614457832,
          0.3542168674698795,
          0.9879518072289156,
          0.9951807228915662,
          0.944578313253012,
          0.9927710843373494,
          1,
          0.1493975903614458,
          0.9180722891566265,
          0.9759036144578314,
          0.8891566265060241,
          1,
          0.9349397590361446,
          0.44096385542168676,
          0.14216867469879518,
          0.9879518072289156,
          1,
          0.9951807228915662,
          1,
          1,
          1,
          0.9879518072289156,
          1,
          1,
          0.9975903614457832,
          1,
          0.9975903614457832,
          1,
          0.8891566265060241,
          1,
          0.9879518072289156,
          1,
          0.9373493975903614,
          0.9903614457831326,
          1,
          1,
          0.9903614457831326,
          0.9903614457831326,
          0.7132530120481928,
          1,
          0.9253012048192771,
          1,
          1,
          0.983132530120482,
          0.4746987951807229,
          1,
          0.9566265060240964,
          0.4674698795180723,
          0.9855421686746988,
          1,
          0.9975903614457832,
          1,
          0.8433734939759037,
          1,
          0.9975903614457832,
          1,
          0.9951807228915662,
          1,
          1,
          0.9927710843373494,
          0.9783132530120482,
          1,
          1,
          0.744578313253012,
          1,
          0.8771084337349397,
          0.9975903614457832,
          0.9662650602409638,
          0.9614457831325302,
          0.3686746987951807,
          1,
          1,
          0.472289156626506,
          0.9204819277108434,
          0.9975903614457832,
          0.9951807228915662,
          1,
          0.7228915662650602,
          0.9421686746987952,
          1,
          1,
          0.9903614457831326,
          1,
          0.9927710843373494,
          1,
          1,
          0.9783132530120482,
          0.7421686746987952,
          0.9927710843373494,
          1,
          1,
          0.9421686746987952,
          0.9975903614457832,
          0.9975903614457832,
          0.9975903614457832,
          0.5590361445783133,
          0.9951807228915662,
          1,
          0.9783132530120482,
          0.727710843373494,
          0.9975903614457832,
          0.9951807228915662,
          0.9975903614457832,
          0.980722891566265,
          0.9975903614457832,
          0.5228915662650603,
          0.9975903614457832,
          1,
          1,
          1,
          1,
          0.9951807228915662,
          0.9951807228915662,
          0.946987951807229,
          0.9951807228915662,
          0.9975903614457832,
          1,
          0.9951807228915662,
          0.6048192771084338,
          1,
          0.980722891566265,
          0.9734939759036144,
          0.5831325301204819,
          1,
          0.4987951807228916,
          0.9975903614457832,
          1,
          1,
          0.2746987951807229,
          1,
          0.7614457831325301,
          0.0963855421686747,
          0.2289156626506024,
          1,
          0.0746987951807229,
          0.40963855421686746,
          0.7253012048192771,
          0.9975903614457832,
          0.9927710843373494,
          0.13012048192771083,
          0.2891566265060241,
          0.4891566265060241,
          0.2457831325301205,
          0.9686746987951808,
          0.30843373493975906,
          0.4433734939759036,
          0.36626506024096384,
          0.3036144578313253,
          0.9614457831325302,
          0.9662650602409638,
          0.8457831325301205,
          0.963855421686747,
          1,
          0.9951807228915662,
          0.9879518072289156,
          1,
          0.3855421686746988,
          0.9975903614457832,
          0.689156626506024,
          0.9927710843373494,
          0.9951807228915662,
          0.8530120481927711,
          0.9686746987951808,
          0.9975903614457832,
          0.9879518072289156,
          0.7783132530120482,
          0.9903614457831326,
          0.9951807228915662,
          1,
          0.9975903614457832,
          0.9951807228915662,
          1,
          0.9927710843373494,
          1,
          0.8120481927710843,
          0.9975903614457832,
          1,
          1,
          0.4530120481927711,
          0.7855421686746988,
          1,
          1,
          0.9156626506024096,
          0.9614457831325302,
          1,
          0.344578313253012,
          0.6674698795180722,
          1,
          0.9975903614457832,
          0.9975903614457832,
          0.8867469879518072,
          1,
          0.9975903614457832,
          0.9975903614457832,
          0.9975903614457832,
          0.9951807228915662,
          0.9975903614457832,
          0.9975903614457832,
          1,
          1,
          0.9951807228915662,
          1,
          1,
          0.9855421686746988,
          0.8843373493975903,
          1,
          0.9951807228915662,
          0.9879518072289156,
          1,
          1,
          1,
          0.9951807228915662,
          0.9975903614457832,
          0.9301204819277108,
          0.9951807228915662,
          0.7373493975903614,
          1,
          0.9518072289156626,
          1,
          0.9975903614457832,
          1,
          0.5325301204819277,
          1,
          0.8289156626506025,
          1,
          0.9975903614457832,
          0.9855421686746988,
          1,
          1,
          0.9951807228915662,
          0.9518072289156626,
          1,
          0.6409638554216868,
          0.8337349397590361,
          1,
          1,
          0.9975903614457832,
          1,
          0.9975903614457832,
          1,
          0.9951807228915662,
          0.9951807228915662,
          1,
          1,
          0.9951807228915662,
          1,
          0.9975903614457832,
          1,
          0.5542168674698795,
          0.9927710843373494,
          0.9662650602409638,
          1,
          0.9975903614457832,
          0.8722891566265061,
          0.983132530120482,
          1,
          0.9951807228915662,
          0.9975903614457832,
          1,
          1,
          0.9927710843373494,
          0.8048192771084337,
          1,
          1,
          0.9759036144578314,
          1,
          0.7469879518072289,
          0.5614457831325301,
          0.9734939759036144,
          1,
          1,
          1,
          1,
          1,
          1,
          1,
          1,
          0.9927710843373494,
          1,
          0.4819277108433735,
          0.9903614457831326,
          1,
          1,
          0.946987951807229,
          0.9951807228915662,
          1,
          1,
          0.9975903614457832,
          0.9903614457831326,
          1,
          1,
          0.9927710843373494,
          1,
          1,
          0.9951807228915662,
          0.9783132530120482,
          1,
          0.9951807228915662,
          1,
          0.9759036144578314,
          0.9975903614457832,
          1,
          0.40481927710843374,
          1,
          0.9855421686746988,
          1,
          1,
          0.9975903614457832,
          1,
          0.9879518072289156,
          0.7349397590361446,
          0.9975903614457832,
          1,
          1,
          1,
          1,
          0.8096385542168675,
          0.9975903614457832,
          0.7686746987951807,
          0.9783132530120482,
          1,
          0.9855421686746988,
          0.9783132530120482,
          0.9975903614457832,
          1,
          0.9734939759036144,
          0.4939759036144578,
          0.9783132530120482,
          0.9975903614457832,
          0.9566265060240964,
          1,
          1,
          0.7132530120481928,
          0.9951807228915662,
          0.9975903614457832,
          0.9518072289156626,
          0.9975903614457832,
          0.9879518072289156,
          0.9951807228915662,
          0.9614457831325302,
          1,
          0.891566265060241,
          0.3060240963855422,
          1,
          0.9975903614457832,
          1,
          0.9975903614457832,
          0.8144578313253013,
          0.6168674698795181,
          0.983132530120482,
          0.8120481927710843,
          0.7493975903614458,
          0.8240963855421687,
          0.9951807228915662,
          0.9951807228915662,
          0.9590361445783132,
          0.9879518072289156,
          1,
          0.9975903614457832,
          0.6337349397590362,
          0.9951807228915662,
          1,
          0.6433734939759036,
          0.9783132530120482,
          0.26265060240963856,
          0.18795180722891566,
          0.9927710843373494,
          0.9060240963855422,
          1,
          0.983132530120482,
          0.9686746987951808,
          0.8240963855421687,
          0.9759036144578314,
          1,
          0.5759036144578313,
          0.6072289156626506,
          0.983132530120482,
          0.8963855421686747,
          0.9590361445783132,
          0.9975903614457832,
          0.9518072289156626,
          0.3759036144578313,
          0.9975903614457832,
          0.17590361445783131,
          0.980722891566265,
          0.5036144578313253,
          0.9975903614457832,
          1,
          1,
          0.9927710843373494,
          0.6843373493975904,
          0.7518072289156627,
          1,
          0.9759036144578314,
          0.9903614457831326,
          0.9951807228915662,
          1,
          1,
          1,
          0.9975903614457832,
          0.6626506024096386,
          1,
          0.927710843373494,
          0.9975903614457832,
          1,
          0.9975903614457832,
          0.9228915662650602,
          0.980722891566265,
          1,
          0.9421686746987952,
          1,
          1,
          0.8554216867469879,
          0.9975903614457832,
          0.8506024096385543,
          0.5132530120481927,
          0.8144578313253013,
          0.9951807228915662,
          0.9975903614457832,
          0.9734939759036144,
          1,
          1,
          1,
          1,
          0.8024096385542169,
          1,
          1,
          0.9975903614457832,
          1,
          1,
          1,
          0.944578313253012,
          0.9493975903614458,
          0.05060240963855422,
          0.5686746987951807,
          1,
          1,
          0.9975903614457832,
          1,
          0.9975903614457832,
          0.9686746987951808,
          1,
          0.983132530120482,
          0.9975903614457832,
          1,
          0.9879518072289156,
          1,
          1,
          0.9879518072289156,
          0.8771084337349397,
          0.9975903614457832,
          1,
          1,
          1,
          1,
          0.9855421686746988,
          1,
          0.41445783132530123,
          1,
          0.9903614457831326,
          1,
          0.9614457831325302,
          1,
          1,
          0.9518072289156626,
          0.8795180722891566,
          1,
          1,
          1,
          1,
          0.9951807228915662,
          1,
          1,
          1,
          1,
          0.7060240963855422,
          0.9975903614457832,
          1,
          1,
          0.9855421686746988,
          0.9734939759036144,
          0.9975903614457832,
          1,
          0.9975903614457832,
          0.9566265060240964,
          0.9903614457831326,
          1,
          0.8481927710843373,
          1,
          0.9975903614457832,
          1,
          1,
          1,
          1,
          1,
          1,
          0.9903614457831326,
          0.9975903614457832,
          0.9927710843373494,
          1,
          1,
          1,
          1,
          0.9662650602409638,
          1,
          1,
          1,
          1,
          1,
          1,
          1,
          0.9903614457831326,
          0.9903614457831326,
          0.9975903614457832,
          0.9855421686746988,
          0.9686746987951808,
          0.9903614457831326,
          1,
          0.7325301204819277,
          0.9975903614457832,
          1,
          0.9951807228915662,
          1,
          1,
          1,
          1,
          1,
          1,
          1,
          0.6433734939759036,
          0.9662650602409638,
          0.9759036144578314,
          1,
          1,
          0.9927710843373494,
          1,
          0.9975903614457832,
          0.5421686746987951,
          1,
          1,
          0.9349397590361446,
          0.9951807228915662,
          1,
          1,
          1,
          1,
          1,
          0.9975903614457832,
          1,
          0.9903614457831326,
          0.9975903614457832,
          1,
          0.9951807228915662,
          1,
          1,
          1,
          1,
          1,
          1,
          1,
          1,
          0.9975903614457832,
          0.9975903614457832,
          1,
          1,
          0.7927710843373494,
          1,
          1,
          0.9975903614457832,
          1,
          0.9951807228915662,
          0.983132530120482,
          1,
          1,
          1,
          0.9975903614457832,
          0.9975903614457832,
          1,
          1,
          0.7759036144578313,
          1,
          1,
          0.9951807228915662,
          0.9951807228915662,
          1,
          0.30120481927710846,
          0.980722891566265,
          0.963855421686747,
          0.9975903614457832,
          0.983132530120482,
          1,
          0.9975903614457832,
          0.9951807228915662,
          1,
          1,
          1,
          0.9903614457831326,
          1,
          1,
          1,
          0.9951807228915662,
          0.9975903614457832,
          0.9951807228915662,
          1,
          1,
          0.9951807228915662,
          0.9759036144578314,
          1,
          1,
          1,
          0.9975903614457832,
          0.9566265060240964,
          0.9662650602409638,
          1,
          1,
          1,
          1,
          1,
          1,
          1,
          1,
          1,
          1,
          1,
          0.9903614457831326,
          1,
          1,
          0.980722891566265,
          1,
          1,
          0.1783132530120482,
          1,
          1,
          1,
          1,
          1,
          0.9951807228915662,
          1,
          0.9951807228915662,
          0.9975903614457832,
          1,
          0.9975903614457832,
          1,
          1,
          1,
          0.9975903614457832,
          0.3325301204819277,
          1,
          0.9927710843373494,
          1,
          1,
          1,
          0.9879518072289156,
          1,
          0.9951807228915662,
          0.9951807228915662,
          0.9975903614457832,
          1,
          1,
          1,
          0.9975903614457832,
          1,
          0.8674698795180723,
          0.9975903614457832,
          0.9975903614457832,
          1,
          1,
          0.9951807228915662,
          1,
          1,
          1,
          0.9975903614457832,
          0.9542168674698795,
          0.9927710843373494,
          0.9951807228915662,
          1,
          0.9951807228915662,
          0.9759036144578314,
          1,
          0.9975903614457832,
          0.10843373493975904,
          0.9927710843373494,
          1,
          1,
          1,
          0.9975903614457832,
          1,
          0.9975903614457832,
          0.9951807228915662,
          1,
          0.9975903614457832,
          1,
          0.9783132530120482,
          0.9879518072289156,
          0.963855421686747,
          1,
          0.9975903614457832,
          1,
          1,
          1,
          1,
          0.9421686746987952,
          1,
          1,
          0.9855421686746988,
          0.9927710843373494,
          1,
          1,
          1,
          0.9975903614457832,
          1,
          0.26987951807228916,
          0.9975903614457832,
          0.9951807228915662,
          0.9975903614457832,
          0.9927710843373494,
          1,
          1,
          1,
          1,
          0.9734939759036144,
          1,
          1,
          0.9734939759036144,
          0.9951807228915662,
          0.9879518072289156,
          0.5734939759036145,
          0.9975903614457832,
          1,
          0.946987951807229,
          1,
          1,
          0.9975903614457832,
          0.9783132530120482,
          0.9975903614457832,
          0.9951807228915662,
          0.9975903614457832,
          0.9686746987951808,
          0.9975903614457832,
          0.9927710843373494,
          1,
          1,
          1,
          0.9975903614457832,
          1,
          0.9975903614457832,
          1,
          0.7012048192771084,
          0.9951807228915662,
          0.9975903614457832,
          0.9903614457831326,
          0.21445783132530122,
          1,
          1,
          1,
          1,
          0.8216867469879519,
          1,
          0.9855421686746988,
          0.9975903614457832,
          1,
          1,
          0.9373493975903614,
          0.9975903614457832,
          1,
          0.9759036144578314,
          0.9903614457831326,
          1,
          1,
          0.9879518072289156,
          0.9975903614457832,
          1,
          1,
          1,
          1,
          0.963855421686747,
          1,
          1,
          0.9927710843373494,
          1,
          0.946987951807229,
          0.9975903614457832,
          0.9783132530120482,
          0.8891566265060241,
          0.3108433734939759,
          1,
          0.9975903614457832,
          1,
          0.6650602409638554,
          0.946987951807229,
          0.983132530120482,
          0.05301204819277108,
          0.9927710843373494,
          0.5373493975903615,
          0.9710843373493976,
          0.6771084337349398,
          0.980722891566265,
          0.946987951807229,
          0.9951807228915662,
          0.4771084337349398,
          1,
          0.5084337349397591,
          1,
          0.7036144578313253,
          0.9951807228915662,
          0.9614457831325302,
          0.8698795180722891,
          1,
          0.25060240963855424,
          0.18313253012048192,
          0.9614457831325302,
          1,
          0.6144578313253012,
          0.9012048192771084,
          0.6216867469879518,
          0.9710843373493976,
          0.6819277108433734,
          0.5060240963855421,
          0.7156626506024096,
          0.25301204819277107,
          0.13493975903614458,
          0.983132530120482,
          1,
          0.9903614457831326,
          0.983132530120482,
          0.9975903614457832,
          1,
          0.09397590361445783,
          0.9951807228915662,
          0.9228915662650602,
          0.46987951807228917,
          0.9903614457831326,
          0.9903614457831326,
          1,
          0.9855421686746988,
          0.9975903614457832,
          0.9951807228915662,
          1,
          1,
          0.41686746987951806,
          1,
          0.9180722891566265,
          1,
          1,
          1,
          1,
          0.9975903614457832,
          0.9951807228915662,
          0.8289156626506025,
          1,
          0.9927710843373494,
          0.9975903614457832,
          1,
          1,
          1,
          0.9975903614457832,
          0.9228915662650602,
          0.9518072289156626,
          1,
          0.9710843373493976,
          0.8819277108433735,
          0.9975903614457832,
          0.946987951807229,
          1,
          1,
          1,
          0.9493975903614458,
          0.9855421686746988,
          0.9759036144578314,
          0.9879518072289156,
          1,
          1,
          0.9975903614457832,
          1,
          0.946987951807229,
          0.963855421686747,
          0.946987951807229,
          1,
          0.9951807228915662,
          0.9927710843373494,
          0.9951807228915662,
          0.9975903614457832,
          1,
          0.9975903614457832,
          1,
          1,
          0.8795180722891566,
          0.8987951807228916,
          0.9975903614457832,
          0.42409638554216866,
          0.9951807228915662,
          0.980722891566265,
          0.6,
          0.946987951807229
         ],
         "yaxis": "y"
        }
       ],
       "layout": {
        "coloraxis": {
         "colorbar": {
          "title": {
           "text": "Number of Works"
          }
         },
         "colorscale": [
          [
           0,
           "rgb(243, 203, 211)"
          ],
          [
           0.16666666666666666,
           "rgb(234, 169, 189)"
          ],
          [
           0.3333333333333333,
           "rgb(221, 136, 172)"
          ],
          [
           0.5,
           "rgb(202, 105, 157)"
          ],
          [
           0.6666666666666666,
           "rgb(177, 77, 142)"
          ],
          [
           0.8333333333333334,
           "rgb(145, 53, 125)"
          ],
          [
           1,
           "rgb(108, 33, 103)"
          ]
         ]
        },
        "dragmode": "pan",
        "legend": {
         "tracegroupgap": 0
        },
        "template": {
         "data": {
          "bar": [
           {
            "error_x": {
             "color": "#2a3f5f"
            },
            "error_y": {
             "color": "#2a3f5f"
            },
            "marker": {
             "line": {
              "color": "#E5ECF6",
              "width": 0.5
             },
             "pattern": {
              "fillmode": "overlay",
              "size": 10,
              "solidity": 0.2
             }
            },
            "type": "bar"
           }
          ],
          "barpolar": [
           {
            "marker": {
             "line": {
              "color": "#E5ECF6",
              "width": 0.5
             },
             "pattern": {
              "fillmode": "overlay",
              "size": 10,
              "solidity": 0.2
             }
            },
            "type": "barpolar"
           }
          ],
          "carpet": [
           {
            "aaxis": {
             "endlinecolor": "#2a3f5f",
             "gridcolor": "white",
             "linecolor": "white",
             "minorgridcolor": "white",
             "startlinecolor": "#2a3f5f"
            },
            "baxis": {
             "endlinecolor": "#2a3f5f",
             "gridcolor": "white",
             "linecolor": "white",
             "minorgridcolor": "white",
             "startlinecolor": "#2a3f5f"
            },
            "type": "carpet"
           }
          ],
          "choropleth": [
           {
            "colorbar": {
             "outlinewidth": 0,
             "ticks": ""
            },
            "type": "choropleth"
           }
          ],
          "contour": [
           {
            "colorbar": {
             "outlinewidth": 0,
             "ticks": ""
            },
            "colorscale": [
             [
              0,
              "#0d0887"
             ],
             [
              0.1111111111111111,
              "#46039f"
             ],
             [
              0.2222222222222222,
              "#7201a8"
             ],
             [
              0.3333333333333333,
              "#9c179e"
             ],
             [
              0.4444444444444444,
              "#bd3786"
             ],
             [
              0.5555555555555556,
              "#d8576b"
             ],
             [
              0.6666666666666666,
              "#ed7953"
             ],
             [
              0.7777777777777778,
              "#fb9f3a"
             ],
             [
              0.8888888888888888,
              "#fdca26"
             ],
             [
              1,
              "#f0f921"
             ]
            ],
            "type": "contour"
           }
          ],
          "contourcarpet": [
           {
            "colorbar": {
             "outlinewidth": 0,
             "ticks": ""
            },
            "type": "contourcarpet"
           }
          ],
          "heatmap": [
           {
            "colorbar": {
             "outlinewidth": 0,
             "ticks": ""
            },
            "colorscale": [
             [
              0,
              "#0d0887"
             ],
             [
              0.1111111111111111,
              "#46039f"
             ],
             [
              0.2222222222222222,
              "#7201a8"
             ],
             [
              0.3333333333333333,
              "#9c179e"
             ],
             [
              0.4444444444444444,
              "#bd3786"
             ],
             [
              0.5555555555555556,
              "#d8576b"
             ],
             [
              0.6666666666666666,
              "#ed7953"
             ],
             [
              0.7777777777777778,
              "#fb9f3a"
             ],
             [
              0.8888888888888888,
              "#fdca26"
             ],
             [
              1,
              "#f0f921"
             ]
            ],
            "type": "heatmap"
           }
          ],
          "heatmapgl": [
           {
            "colorbar": {
             "outlinewidth": 0,
             "ticks": ""
            },
            "colorscale": [
             [
              0,
              "#0d0887"
             ],
             [
              0.1111111111111111,
              "#46039f"
             ],
             [
              0.2222222222222222,
              "#7201a8"
             ],
             [
              0.3333333333333333,
              "#9c179e"
             ],
             [
              0.4444444444444444,
              "#bd3786"
             ],
             [
              0.5555555555555556,
              "#d8576b"
             ],
             [
              0.6666666666666666,
              "#ed7953"
             ],
             [
              0.7777777777777778,
              "#fb9f3a"
             ],
             [
              0.8888888888888888,
              "#fdca26"
             ],
             [
              1,
              "#f0f921"
             ]
            ],
            "type": "heatmapgl"
           }
          ],
          "histogram": [
           {
            "marker": {
             "pattern": {
              "fillmode": "overlay",
              "size": 10,
              "solidity": 0.2
             }
            },
            "type": "histogram"
           }
          ],
          "histogram2d": [
           {
            "colorbar": {
             "outlinewidth": 0,
             "ticks": ""
            },
            "colorscale": [
             [
              0,
              "#0d0887"
             ],
             [
              0.1111111111111111,
              "#46039f"
             ],
             [
              0.2222222222222222,
              "#7201a8"
             ],
             [
              0.3333333333333333,
              "#9c179e"
             ],
             [
              0.4444444444444444,
              "#bd3786"
             ],
             [
              0.5555555555555556,
              "#d8576b"
             ],
             [
              0.6666666666666666,
              "#ed7953"
             ],
             [
              0.7777777777777778,
              "#fb9f3a"
             ],
             [
              0.8888888888888888,
              "#fdca26"
             ],
             [
              1,
              "#f0f921"
             ]
            ],
            "type": "histogram2d"
           }
          ],
          "histogram2dcontour": [
           {
            "colorbar": {
             "outlinewidth": 0,
             "ticks": ""
            },
            "colorscale": [
             [
              0,
              "#0d0887"
             ],
             [
              0.1111111111111111,
              "#46039f"
             ],
             [
              0.2222222222222222,
              "#7201a8"
             ],
             [
              0.3333333333333333,
              "#9c179e"
             ],
             [
              0.4444444444444444,
              "#bd3786"
             ],
             [
              0.5555555555555556,
              "#d8576b"
             ],
             [
              0.6666666666666666,
              "#ed7953"
             ],
             [
              0.7777777777777778,
              "#fb9f3a"
             ],
             [
              0.8888888888888888,
              "#fdca26"
             ],
             [
              1,
              "#f0f921"
             ]
            ],
            "type": "histogram2dcontour"
           }
          ],
          "mesh3d": [
           {
            "colorbar": {
             "outlinewidth": 0,
             "ticks": ""
            },
            "type": "mesh3d"
           }
          ],
          "parcoords": [
           {
            "line": {
             "colorbar": {
              "outlinewidth": 0,
              "ticks": ""
             }
            },
            "type": "parcoords"
           }
          ],
          "pie": [
           {
            "automargin": true,
            "type": "pie"
           }
          ],
          "scatter": [
           {
            "fillpattern": {
             "fillmode": "overlay",
             "size": 10,
             "solidity": 0.2
            },
            "type": "scatter"
           }
          ],
          "scatter3d": [
           {
            "line": {
             "colorbar": {
              "outlinewidth": 0,
              "ticks": ""
             }
            },
            "marker": {
             "colorbar": {
              "outlinewidth": 0,
              "ticks": ""
             }
            },
            "type": "scatter3d"
           }
          ],
          "scattercarpet": [
           {
            "marker": {
             "colorbar": {
              "outlinewidth": 0,
              "ticks": ""
             }
            },
            "type": "scattercarpet"
           }
          ],
          "scattergeo": [
           {
            "marker": {
             "colorbar": {
              "outlinewidth": 0,
              "ticks": ""
             }
            },
            "type": "scattergeo"
           }
          ],
          "scattergl": [
           {
            "marker": {
             "colorbar": {
              "outlinewidth": 0,
              "ticks": ""
             }
            },
            "type": "scattergl"
           }
          ],
          "scattermapbox": [
           {
            "marker": {
             "colorbar": {
              "outlinewidth": 0,
              "ticks": ""
             }
            },
            "type": "scattermapbox"
           }
          ],
          "scatterpolar": [
           {
            "marker": {
             "colorbar": {
              "outlinewidth": 0,
              "ticks": ""
             }
            },
            "type": "scatterpolar"
           }
          ],
          "scatterpolargl": [
           {
            "marker": {
             "colorbar": {
              "outlinewidth": 0,
              "ticks": ""
             }
            },
            "type": "scatterpolargl"
           }
          ],
          "scatterternary": [
           {
            "marker": {
             "colorbar": {
              "outlinewidth": 0,
              "ticks": ""
             }
            },
            "type": "scatterternary"
           }
          ],
          "surface": [
           {
            "colorbar": {
             "outlinewidth": 0,
             "ticks": ""
            },
            "colorscale": [
             [
              0,
              "#0d0887"
             ],
             [
              0.1111111111111111,
              "#46039f"
             ],
             [
              0.2222222222222222,
              "#7201a8"
             ],
             [
              0.3333333333333333,
              "#9c179e"
             ],
             [
              0.4444444444444444,
              "#bd3786"
             ],
             [
              0.5555555555555556,
              "#d8576b"
             ],
             [
              0.6666666666666666,
              "#ed7953"
             ],
             [
              0.7777777777777778,
              "#fb9f3a"
             ],
             [
              0.8888888888888888,
              "#fdca26"
             ],
             [
              1,
              "#f0f921"
             ]
            ],
            "type": "surface"
           }
          ],
          "table": [
           {
            "cells": {
             "fill": {
              "color": "#EBF0F8"
             },
             "line": {
              "color": "white"
             }
            },
            "header": {
             "fill": {
              "color": "#C8D4E3"
             },
             "line": {
              "color": "white"
             }
            },
            "type": "table"
           }
          ]
         },
         "layout": {
          "annotationdefaults": {
           "arrowcolor": "#2a3f5f",
           "arrowhead": 0,
           "arrowwidth": 1
          },
          "autotypenumbers": "strict",
          "coloraxis": {
           "colorbar": {
            "outlinewidth": 0,
            "ticks": ""
           }
          },
          "colorscale": {
           "diverging": [
            [
             0,
             "#8e0152"
            ],
            [
             0.1,
             "#c51b7d"
            ],
            [
             0.2,
             "#de77ae"
            ],
            [
             0.3,
             "#f1b6da"
            ],
            [
             0.4,
             "#fde0ef"
            ],
            [
             0.5,
             "#f7f7f7"
            ],
            [
             0.6,
             "#e6f5d0"
            ],
            [
             0.7,
             "#b8e186"
            ],
            [
             0.8,
             "#7fbc41"
            ],
            [
             0.9,
             "#4d9221"
            ],
            [
             1,
             "#276419"
            ]
           ],
           "sequential": [
            [
             0,
             "#0d0887"
            ],
            [
             0.1111111111111111,
             "#46039f"
            ],
            [
             0.2222222222222222,
             "#7201a8"
            ],
            [
             0.3333333333333333,
             "#9c179e"
            ],
            [
             0.4444444444444444,
             "#bd3786"
            ],
            [
             0.5555555555555556,
             "#d8576b"
            ],
            [
             0.6666666666666666,
             "#ed7953"
            ],
            [
             0.7777777777777778,
             "#fb9f3a"
            ],
            [
             0.8888888888888888,
             "#fdca26"
            ],
            [
             1,
             "#f0f921"
            ]
           ],
           "sequentialminus": [
            [
             0,
             "#0d0887"
            ],
            [
             0.1111111111111111,
             "#46039f"
            ],
            [
             0.2222222222222222,
             "#7201a8"
            ],
            [
             0.3333333333333333,
             "#9c179e"
            ],
            [
             0.4444444444444444,
             "#bd3786"
            ],
            [
             0.5555555555555556,
             "#d8576b"
            ],
            [
             0.6666666666666666,
             "#ed7953"
            ],
            [
             0.7777777777777778,
             "#fb9f3a"
            ],
            [
             0.8888888888888888,
             "#fdca26"
            ],
            [
             1,
             "#f0f921"
            ]
           ]
          },
          "colorway": [
           "#636efa",
           "#EF553B",
           "#00cc96",
           "#ab63fa",
           "#FFA15A",
           "#19d3f3",
           "#FF6692",
           "#B6E880",
           "#FF97FF",
           "#FECB52"
          ],
          "font": {
           "color": "#2a3f5f"
          },
          "geo": {
           "bgcolor": "white",
           "lakecolor": "white",
           "landcolor": "#E5ECF6",
           "showlakes": true,
           "showland": true,
           "subunitcolor": "white"
          },
          "hoverlabel": {
           "align": "left"
          },
          "hovermode": "closest",
          "mapbox": {
           "style": "light"
          },
          "paper_bgcolor": "white",
          "plot_bgcolor": "#E5ECF6",
          "polar": {
           "angularaxis": {
            "gridcolor": "white",
            "linecolor": "white",
            "ticks": ""
           },
           "bgcolor": "#E5ECF6",
           "radialaxis": {
            "gridcolor": "white",
            "linecolor": "white",
            "ticks": ""
           }
          },
          "scene": {
           "xaxis": {
            "backgroundcolor": "#E5ECF6",
            "gridcolor": "white",
            "gridwidth": 2,
            "linecolor": "white",
            "showbackground": true,
            "ticks": "",
            "zerolinecolor": "white"
           },
           "yaxis": {
            "backgroundcolor": "#E5ECF6",
            "gridcolor": "white",
            "gridwidth": 2,
            "linecolor": "white",
            "showbackground": true,
            "ticks": "",
            "zerolinecolor": "white"
           },
           "zaxis": {
            "backgroundcolor": "#E5ECF6",
            "gridcolor": "white",
            "gridwidth": 2,
            "linecolor": "white",
            "showbackground": true,
            "ticks": "",
            "zerolinecolor": "white"
           }
          },
          "shapedefaults": {
           "line": {
            "color": "#2a3f5f"
           }
          },
          "ternary": {
           "aaxis": {
            "gridcolor": "white",
            "linecolor": "white",
            "ticks": ""
           },
           "baxis": {
            "gridcolor": "white",
            "linecolor": "white",
            "ticks": ""
           },
           "bgcolor": "#E5ECF6",
           "caxis": {
            "gridcolor": "white",
            "linecolor": "white",
            "ticks": ""
           }
          },
          "title": {
           "x": 0.05
          },
          "xaxis": {
           "automargin": true,
           "gridcolor": "white",
           "linecolor": "white",
           "ticks": "",
           "title": {
            "standoff": 15
           },
           "zerolinecolor": "white",
           "zerolinewidth": 2
          },
          "yaxis": {
           "automargin": true,
           "gridcolor": "white",
           "linecolor": "white",
           "ticks": "",
           "title": {
            "standoff": 15
           },
           "zerolinecolor": "white",
           "zerolinewidth": 2
          }
         }
        },
        "title": {
         "text": "Author Popularity"
        },
        "xaxis": {
         "anchor": "y",
         "domain": [
          0,
          1
         ],
         "title": {
          "text": "<--- More Popular &nbsp; &nbsp; &nbsp; &nbsp; &nbsp; Less Popular ---><br><br>Shakespeare & Company Rank<br><br>&nbsp; &nbsp;"
         }
        },
        "yaxis": {
         "anchor": "x",
         "domain": [
          0,
          1
         ],
         "title": {
          "text": "<br>Goodreads Rank<br><br> <--- More Popular &nbsp; &nbsp; &nbsp; &nbsp; &nbsp; Less Popular --->"
         }
        }
       }
      }
     },
     "metadata": {},
     "output_type": "display_data"
    },
    {
     "data": {
      "text/plain": [
       "'https://plotly.com/~melwalsh/10/'"
      ]
     },
     "execution_count": 88,
     "metadata": {},
     "output_type": "execute_result"
    }
   ],
   "source": [
    "import plotly.express as px\n",
    "\n",
    "config = {'scrollZoom': True,\n",
    "        'displaylogo': False,  \n",
    "        'displayModeBar': True,\n",
    "        'modeBarButtonsToRemove': ['lasso2d',\n",
    "                                    'zoom2d', \n",
    "                                    'hoverCompareCartesian', \n",
    "                                    'hoverClosestCartesian', \n",
    "                                    'toggleSpikelines',\n",
    "                                    'autoScale2d',\n",
    "                                    'select2d']\n",
    "        }\n",
    "\n",
    "fig = px.scatter(data_frame=df_to_plot,\n",
    "                 hover_data = ['Author', 'Goodreads Rank', 'Total Goodreads Reviews', 'S&C Rank', 'Total S&C Borrows'], \n",
    "                x='S&C Rank',\n",
    "                y='Goodreads Rank',\n",
    "                hover_name = 'Author',\n",
    "                labels = {'Goodreads Rank': '<br>Goodreads Rank<br><br> <--- More Popular &nbsp; &nbsp; &nbsp; &nbsp; &nbsp; Less Popular --->',\n",
    "                          'S&C Rank': '<--- More Popular &nbsp; &nbsp; &nbsp; &nbsp; &nbsp; Less Popular ---><br><br>Shakespeare & Company Rank<br><br>&nbsp; &nbsp;',\n",
    "                          'Number of Books': 'Number of Works'}\n",
    "            ,\n",
    "                color='Number of Books',\n",
    "                color_continuous_scale=px.colors.sequential.Magenta,\n",
    "                title = 'Author Popularity'\n",
    "                )\n",
    "\n",
    "fig.update_traces(hovertemplate='<b>%{hovertext}</b><br><br>S&C Rank: %{x:,.2f}<br>Total S&C Borrows: %{customdata[2]}<br><br>Goodreads Rank: %{y:,.2f}<br>Total Goodreads Reviews: %{customdata[1]:,.0f}<br><br>Number of Works: %{marker.color}<extra></extra>'\n",
    ") #\n",
    "\n",
    "fig.update_layout(\n",
    "    dragmode='pan',)\n",
    "\n",
    "# Write to html\n",
    "fig.write_html(\"author-popularity-interactive.html\")\n",
    "\n",
    "fig.show(config = config)\n",
    "\n",
    "# publish to Chart Studio\n",
    "py.plot(fig, filename=\"author_popularity-interactive\", auto_open = True)\n"
   ]
  },
  {
   "cell_type": "markdown",
   "metadata": {},
   "source": [
    "<br><br><br><br>\n",
    "\n",
    "# Examine shelves"
   ]
  },
  {
   "cell_type": "code",
   "execution_count": 68,
   "metadata": {},
   "outputs": [
    {
     "data": {
      "text/plain": [
       "(2035, 12623)"
      ]
     },
     "execution_count": 68,
     "metadata": {},
     "output_type": "execute_result"
    }
   ],
   "source": [
    "shelf_count_dict = defaultdict(int)\n",
    "for _book, _shelves in book_shelves_dict.items():\n",
    "    for _shelf, _count in _shelves.items():\n",
    "        if int(_count) >= 10:\n",
    "            shelf_count_dict[_shelf] += 1\n",
    "\n",
    "list_count_dict = defaultdict(int)\n",
    "for _book, _lists in book_lists_dict.items():\n",
    "    for _list, _count in _lists.items():\n",
    "        if int(_count) >= 0:\n",
    "            list_count_dict[_list] += 1\n",
    "\n",
    "len(shelf_count_dict), len(list_count_dict)"
   ]
  },
  {
   "cell_type": "code",
   "execution_count": 69,
   "metadata": {},
   "outputs": [
    {
     "name": "stdout",
     "output_type": "stream",
     "text": [
      "to-read //// 2540\n",
      "currently-reading //// 1585\n",
      "fiction //// 1076\n",
      "classics //// 1058\n",
      "owned //// 823\n",
      "own //// 816\n",
      "favorites //// 737\n",
      "classic //// 650\n",
      "literature //// 623\n",
      "books-i-own //// 613\n",
      "kindle //// 566\n",
      "wishlist //// 559\n",
      "historical-fiction //// 486\n",
      "library //// 478\n",
      "default //// 471\n",
      "2020 //// 459\n",
      "novels //// 454\n",
      "owned-books //// 436\n",
      "ebook //// 435\n",
      "to-buy //// 429\n",
      "2018 //// 413\n",
      "2021 //// 410\n",
      "2019 //// 408\n",
      "my-library //// 405\n",
      "2017 //// 385\n",
      "novel //// 372\n",
      "2016 //// 362\n",
      "british //// 352\n",
      "audiobook //// 345\n",
      "2015 //// 339\n",
      "english //// 338\n",
      "classic-literature //// 328\n",
      "2014 //// 325\n",
      "historical //// 318\n",
      "non-fiction //// 309\n",
      "audiobooks //// 307\n",
      "my-books //// 306\n",
      "ebooks //// 303\n",
      "favourites //// 296\n",
      "20th-century //// 292\n",
      "history //// 287\n",
      "2013 //// 281\n",
      "british-literature //// 278\n",
      "literary-fiction //// 276\n",
      "1001-books //// 267\n",
      "1001 //// 266\n",
      "1001-books-to-read-before-you-die //// 256\n",
      "19th-century //// 252\n",
      "audio //// 251\n",
      "school //// 250\n"
     ]
    }
   ],
   "source": [
    "for _shelf, _count in sorted(shelf_count_dict.items(), key=lambda x: x[1], reverse=True)[:50]:\n",
    "    print(_shelf, '////', _count)\n",
    "# print('...')\n",
    "# for _shelf, _count in sorted(shelf_count_dict.items(), key=lambda x: x[1], reverse=True)[-10:]:\n",
    "#     print(_shelf, '////', _count)"
   ]
  },
  {
   "cell_type": "code",
   "execution_count": 70,
   "metadata": {},
   "outputs": [
    {
     "data": {
      "text/plain": [
       "(666, 666)"
      ]
     },
     "execution_count": 70,
     "metadata": {},
     "output_type": "execute_result"
    }
   ],
   "source": [
    "shelf_sc_ranks_dict = defaultdict(list)\n",
    "shelf_gr_ranks_dict = defaultdict(list)\n",
    "for _book, _shelves in book_shelves_dict.items():\n",
    "    for _shelf, _count in _shelves.items():\n",
    "        if _count >= 5:\n",
    "            shelf_sc_ranks_dict[_shelf].append(book_sc_rank_dict[_book])\n",
    "            shelf_gr_ranks_dict[_shelf].append(book_gr_rank_dict[_book])\n",
    "\n",
    "shelf_sc_rank_dict = {_shelf: np.mean(_ranks) for _shelf, _ranks in shelf_sc_ranks_dict.items() if len(_ranks) >= 10}\n",
    "shelf_gr_rank_dict = {_shelf: np.mean(_ranks) for _shelf, _ranks in shelf_gr_ranks_dict.items() if len(_ranks) >= 10}\n",
    "\n",
    "len(shelf_sc_rank_dict), len(shelf_gr_rank_dict)"
   ]
  },
  {
   "cell_type": "code",
   "execution_count": 71,
   "metadata": {},
   "outputs": [
    {
     "data": {
      "text/plain": [
       "666"
      ]
     },
     "execution_count": 71,
     "metadata": {},
     "output_type": "execute_result"
    }
   ],
   "source": [
    "shelf_change_in_rank_dict = {_shelf: _sc_rank - shelf_gr_rank_dict[_shelf] for _shelf, _sc_rank in shelf_sc_rank_dict.items()}\n",
    "\n",
    "len(shelf_change_in_rank_dict)"
   ]
  },
  {
   "cell_type": "code",
   "execution_count": 72,
   "metadata": {},
   "outputs": [
    {
     "name": "stdout",
     "output_type": "stream",
     "text": [
      "0.75 //// read-in-school\n",
      "0.73 //// school-reading\n",
      "0.72 //// william-shakespeare\n",
      "0.71 //// thriller-mystery\n",
      "0.71 //// chick-lit\n",
      "0.7 //// classics-read\n",
      "0.69 //// the-classics\n",
      "0.69 //// realistic-fiction\n",
      "0.69 //// childrens-lit\n",
      "0.68 //// great-american-read\n",
      "...\n",
      "0.06 //// to-read\n",
      "0.04 //// bloomsbury\n",
      "0.03 //// stream-of-consciousness\n",
      "0.01 //// virago-modern-classics\n",
      "-0.03 //// lit-crit\n",
      "-0.03 //// literary-criticism\n",
      "-0.03 //// virago\n",
      "-0.05 //// d-h-lawrence\n",
      "-0.05 //// criticism\n",
      "-0.08 //// joyce\n"
     ]
    }
   ],
   "source": [
    "for _shelf, _change_in_rank in sorted(shelf_change_in_rank_dict.items(), key=lambda x: x[1], reverse=True)[:10]:\n",
    "    print(round(_change_in_rank, 2), '////', _shelf)\n",
    "print('...')\n",
    "for _shelf, _change_in_rank in sorted(shelf_change_in_rank_dict.items(), key=lambda x: x[1], reverse=True)[-10:]:\n",
    "    print(round(_change_in_rank, 2), '////', _shelf)"
   ]
  },
  {
   "cell_type": "markdown",
   "metadata": {},
   "source": [
    "<br><br><br><br>\n",
    "\n",
    "# Examine lists"
   ]
  },
  {
   "cell_type": "code",
   "execution_count": 73,
   "metadata": {},
   "outputs": [
    {
     "name": "stdout",
     "output_type": "stream",
     "text": [
      "Best Books Ever //// 465\n",
      "Books That Everyone Should Read At Least Once //// 312\n",
      "100 Books to Read in a Lifetime: Readers' Picks //// 239\n",
      "Best Books of the 20th Century //// 217\n",
      "1001 Books You Must Read Before You Die //// 212\n",
      "Must Read Classics //// 188\n",
      "The Great Classics You Have Not Read Yet //// 170\n",
      "The Guardian's \"1000 Novels Everyone Must Read\" //// 168\n",
      "Best Books of the 19th Century //// 164\n",
      "Books that Blew Me Away and that I Still Think About (of all types) //// 162\n",
      "I Should Probably Read This Sometime... //// 155\n",
      "Read Them Twice...At Least //// 153\n",
      "Favorite Books //// 151\n",
      "Books that Exceeded your Expectations //// 144\n",
      "Books With Unforgettable Characters //// 143\n",
      "The Most Begun \"Read but Unfinished\" (Started) book ever //// 142\n",
      "I'm glad someone made me read this book //// 139\n",
      "What To Read Next //// 135\n",
      "Best for Book Clubs //// 134\n",
      "Books you have read more than one time //// 134\n",
      "Stories For Book Lovers //// 131\n",
      "Best Book Titles //// 131\n",
      "Best Books of the Decade: 1930s //// 127\n",
      "Books that Changed the Way You View Life //// 127\n",
      "Best British and Irish Literature //// 125\n",
      "Classics Library //// 125\n",
      "Books You Would Recommend to Strangers //// 124\n",
      "MUST READS!!! //// 124\n",
      "Couldn't Put The Book Down //// 120\n",
      "Best Ending //// 117\n",
      "...\n",
      "Books to Read While Quarantined //// 1\n",
      "Public Health in Fiction //// 1\n",
      "Colonial Asia (fiction) //// 1\n",
      "Paesi che vai..epidemie che trovi //// 1\n",
      "Born in the 60s: What We've Read In 2021 //// 1\n",
      "Lovely Books about Nasty Diseases //// 1\n",
      "Cheating Alert //// 1\n",
      "Why we don't dress like that? (Part 5) //// 1\n",
      "Feral House & Amok Books //// 1\n",
      "Best Poetry Publications //// 1\n"
     ]
    }
   ],
   "source": [
    "for _list, _count in sorted(list_count_dict.items(), key=lambda x: x[1], reverse=True)[:30]:\n",
    "    print(_list, '////', _count)\n",
    "print('...')\n",
    "for _list, _count in sorted(list_count_dict.items(), key=lambda x: x[1], reverse=True)[-10:]:\n",
    "    print(_list, '////', _count)"
   ]
  },
  {
   "cell_type": "code",
   "execution_count": 74,
   "metadata": {},
   "outputs": [
    {
     "data": {
      "text/plain": [
       "(1422, 1422)"
      ]
     },
     "execution_count": 74,
     "metadata": {},
     "output_type": "execute_result"
    }
   ],
   "source": [
    "list_sc_ranks_dict = defaultdict(list)\n",
    "list_gr_ranks_dict = defaultdict(list)\n",
    "for _book, _shelves in book_lists_dict.items():\n",
    "    for _shelf, _count in _shelves.items():\n",
    "        if _count >= 0:\n",
    "            list_sc_ranks_dict[_shelf].append(book_sc_rank_dict[_book])\n",
    "            list_gr_ranks_dict[_shelf].append(book_gr_rank_dict[_book])\n",
    "\n",
    "list_sc_rank_dict = {_shelf: np.mean(_ranks) for _shelf, _ranks in list_sc_ranks_dict.items() if len(_ranks) >= 10}\n",
    "list_gr_rank_dict = {_shelf: np.mean(_ranks) for _shelf, _ranks in list_gr_ranks_dict.items() if len(_ranks) >= 10}\n",
    "\n",
    "len(list_sc_rank_dict), len(list_gr_rank_dict)"
   ]
  },
  {
   "cell_type": "code",
   "execution_count": 75,
   "metadata": {},
   "outputs": [
    {
     "data": {
      "text/plain": [
       "1422"
      ]
     },
     "execution_count": 75,
     "metadata": {},
     "output_type": "execute_result"
    }
   ],
   "source": [
    "list_change_in_rank_dict = {_shelf: _sc_rank - list_gr_rank_dict[_shelf] for _shelf, _sc_rank in list_sc_rank_dict.items()}\n",
    "\n",
    "len(list_change_in_rank_dict)"
   ]
  },
  {
   "cell_type": "code",
   "execution_count": 76,
   "metadata": {},
   "outputs": [
    {
     "name": "stdout",
     "output_type": "stream",
     "text": [
      "0.84 //// 100 Must Read Books\n",
      "0.84 //// Clean/Secular/Non Religious Reads\n",
      "0.83 //// Books that reached 1000 editions (or more)\n",
      "0.83 //// Half a million ratings to a million ratings\n",
      "0.82 //// Amazing books that won't make you blush, squirm, get sick or have nightmares!\n",
      "0.81 //// Proliferation of Classics\n",
      "0.81 //// Books Every Child Should Read\n",
      "0.81 //// ONE DAY Best Summer Reads\n",
      "0.8 //// Best Free eBooks\n",
      "0.8 //// My Favorite Childhood books\n",
      "...\n",
      "-0.05 //// Interwar British Vogue Recommends...\n",
      "-0.05 //// Best of Sinclair Lewis\n",
      "-0.05 //// James Joyce Reading List\n",
      "-0.06 //// REALLY Seriously Underrated Books (100 to 500 Ratings)\n",
      "-0.07 //// Best of George Bernard Shaw\n",
      "-0.07 //// Modernism - An Alternate Canon\n",
      "-0.08 //// Books banned in Ireland 1928-1929\n",
      "-0.08 //// REALLY Underrated Books (Fewer than 1,000 Ratings)\n",
      "-0.08 //// Best of D.H. Lawrence\n",
      "-0.12 //// Underrated Bestsellers, Fewer Than 100 Ratings\n"
     ]
    }
   ],
   "source": [
    "for _shelf, _change_in_rank in sorted(list_change_in_rank_dict.items(), key=lambda x: x[1], reverse=True)[:10]:\n",
    "    print(round(_change_in_rank, 2), '////', _shelf)\n",
    "print('...')\n",
    "for _shelf, _change_in_rank in sorted(list_change_in_rank_dict.items(), key=lambda x: x[1], reverse=True)[-10:]:\n",
    "    print(round(_change_in_rank, 2), '////', _shelf)"
   ]
  },
  {
   "cell_type": "markdown",
   "metadata": {},
   "source": [
    "# TODO: predict change in rank using shelves\n"
   ]
  }
 ],
 "metadata": {
  "interpreter": {
   "hash": "3bf6718e1fb94d37e4dcdce4af31e71b15d9d634835b5761d954c77044e0e9ad"
  },
  "kernelspec": {
   "display_name": "Python 3",
   "language": "python",
   "name": "python3"
  },
  "language_info": {
   "codemirror_mode": {
    "name": "ipython",
    "version": 3
   },
   "file_extension": ".py",
   "mimetype": "text/x-python",
   "name": "python",
   "nbconvert_exporter": "python",
   "pygments_lexer": "ipython3",
   "version": "3.11.5"
  }
 },
 "nbformat": 4,
 "nbformat_minor": 2
}
