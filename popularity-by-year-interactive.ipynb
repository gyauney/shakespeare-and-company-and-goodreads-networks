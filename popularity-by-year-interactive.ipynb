{
 "cells": [
  {
   "cell_type": "markdown",
   "metadata": {},
   "source": [
    "# Plot Relative Popularity of Work By Year — Interactive"
   ]
  },
  {
   "cell_type": "markdown",
   "metadata": {},
   "source": [
    "Import plotly express"
   ]
  },
  {
   "cell_type": "code",
   "execution_count": 8,
   "metadata": {},
   "outputs": [],
   "source": [
    "import plotly.express as px"
   ]
  },
  {
   "cell_type": "markdown",
   "metadata": {},
   "source": [
    "Install, import, initialize Chart Studio for exporting interactive plot"
   ]
  },
  {
   "cell_type": "code",
   "execution_count": 9,
   "metadata": {},
   "outputs": [],
   "source": [
    "#!pip install chart-studio"
   ]
  },
  {
   "cell_type": "code",
   "execution_count": 10,
   "metadata": {},
   "outputs": [],
   "source": [
    "import chart_studio\n",
    "import chart_studio.plotly as py\n",
    "import chart_studio.tools as tls\n",
    "# import api key\n",
    "import config_secrets\n",
    "\n",
    "username= config_secrets.chartstudio_username\n",
    "api_key=  config_secrets.chartstudio_api_key\n",
    "chart_studio.tools.set_credentials_file(username=username,\n",
    "                                        api_key=api_key)\n",
    "\n"
   ]
  },
  {
   "cell_type": "markdown",
   "metadata": {},
   "source": [
    "Function for converting last, first author name to first last without commas"
   ]
  },
  {
   "cell_type": "code",
   "execution_count": 11,
   "metadata": {},
   "outputs": [],
   "source": [
    "def convert_string_to_author(author):\n",
    "    if type(author) is list:\n",
    "        author = author[0]\n",
    "    if not pd.isnull(author):   \n",
    "        author = str(author)\n",
    "        if ',' in author:\n",
    "            author = author.split(',')[1].strip() + ' ' + author.split(',')[0].strip()\n",
    "    return author"
   ]
  },
  {
   "cell_type": "markdown",
   "metadata": {},
   "source": [
    "Function for creating plot"
   ]
  },
  {
   "cell_type": "code",
   "execution_count": 57,
   "metadata": {},
   "outputs": [
    {
     "data": {
      "application/vnd.plotly.v1+json": {
       "config": {
        "displayModeBar": true,
        "displaylogo": false,
        "modeBarButtonsToRemove": [
         "lasso2d",
         "zoom2d",
         "hoverCompareCartesian",
         "hoverClosestCartesian",
         "toggleSpikelines",
         "autoScale2d",
         "select2d"
        ],
        "plotlyServerURL": "https://plotly.com",
        "responsive": true,
        "scrollZoom": true
       },
       "data": [
        {
         "customdata": [
          [
           "Other work",
           "The Poetical Works of William Collins",
           "William Collins",
           7,
           1
          ],
          [
           "Other work",
           "The Lady of the Lake",
           "Walter Scott",
           89,
           1
          ],
          [
           "Other work",
           "Sense and Sensibility",
           "Jane Austen",
           19093,
           6
          ],
          [
           "Other work",
           "Grimms' Fairy Tales",
           "Jacob & Grimm Grimm",
           2679,
           3
          ],
          [
           "Other work",
           "The Swiss Family Robinson",
           "Johann David Wyss",
           2608,
           1
          ],
          [
           "Other work",
           "Waverley",
           "Walter Scott",
           328,
           1
          ],
          [
           "Other work",
           "Emma",
           "Jane Austen",
           21575,
           6
          ],
          [
           "Other work",
           "Headlong Hall",
           "Thomas Love Peacock",
           32,
           2
          ],
          [
           "Other work",
           "Characters of Shakespeare's Plays",
           "William Hazlitt",
           9,
           4
          ],
          [
           "Other work",
           "Rob Roy",
           "Walter Scott",
           356,
           3
          ],
          [
           "Other work",
           "The Diary of John Evelyn",
           "John Evelyn",
           13,
           2
          ],
          [
           "Other work",
           "The Heart of Midlothian",
           "Walter Scott",
           86,
           2
          ],
          [
           "Other work",
           "The Bride of Lammermoor",
           "Walter Scott",
           163,
           2
          ],
          [
           "Other work",
           "Ivanhoe",
           "Walter Scott",
           2575,
           3
          ],
          [
           "Other work",
           "Confessions of an English Opium Eater",
           "Thomas de Quincey",
           651,
           9
          ],
          [
           "Other work",
           "Table-Talk",
           "William Hazlitt",
           12,
           3
          ],
          [
           "Other work",
           "The Fortunes of Nigel",
           "Walter Scott",
           28,
           1
          ],
          [
           "Other work",
           "Liber Amoris, Or, The New Pygmalion",
           "William Hazlitt",
           16,
           3
          ],
          [
           "Other work",
           "Quentin Durward",
           "Walter Scott",
           52,
           2
          ],
          [
           "Other work",
           "The Essays of Elia",
           "Charles Lamb",
           60,
           1
          ],
          [
           "Other work",
           "Don Juan",
           "George Gordon Byron Byron",
           282,
           3
          ],
          [
           "Other work",
           "Aids to Reflection",
           "Samuel Taylor Coleridge",
           1,
           1
          ],
          [
           "Other work",
           "The Misfortunes of Elphin",
           "Thomas Love Peacock",
           8,
           1
          ],
          [
           "Other work",
           "Count Robert of Paris",
           "Walter Scott",
           13,
           1
          ],
          [
           "Other work",
           "The Alhambra",
           "Washington Irving",
           439,
           1
          ],
          [
           "Other work",
           "Eugénie Grandet",
           "Honoré de Balzac",
           854,
           1
          ],
          [
           "Other work",
           "Peter Simple",
           "Frederick Marryat",
           22,
           2
          ],
          [
           "Other work",
           "Rienzi, the Last of the Roman Tribunes",
           "Edward Bulwer-Lytton",
           8,
           1
          ],
          [
           "Other work",
           "Sartor Resartus",
           "Thomas Carlyle",
           110,
           3
          ],
          [
           "Other work",
           "Oliver Twist",
           "Charles Dickens",
           8336,
           5
          ],
          [
           "Other work",
           "Twice-Told Tales",
           "Nathaniel Hawthorne",
           137,
           1
          ],
          [
           "Other work",
           "Nicholas Nickleby",
           "Charles Dickens",
           1659,
           4
          ],
          [
           "Other work",
           "The Charterhouse of Parma",
           "Stendhal",
           672,
           4
          ],
          [
           "Other work",
           "Two Years Before the Mast",
           "Richard Henry Dana",
           746,
           2
          ],
          [
           "Other work",
           "Barnaby Rudge",
           "Charles Dickens",
           623,
           1
          ],
          [
           "Other work",
           "On Heroes, Hero-Worship, and The Heroic in History",
           "Thomas Carlyle",
           81,
           1
          ],
          [
           "Other work",
           "The Deerslayer",
           "James Fenimore Cooper",
           493,
           1
          ],
          [
           "Other work",
           "The Old Curiosity Shop",
           "Charles Dickens",
           1343,
           3
          ],
          [
           "Other work",
           "The Diary and Letters of Madame D'Arblay",
           "Fanny Burney",
           4,
           6
          ],
          [
           "Other work",
           "History of the Conquest of Mexico",
           "William Hickling Prescott",
           71,
           2
          ],
          [
           "Other work",
           "Past and Present",
           "Thomas Carlyle",
           9,
           3
          ],
          [
           "Other work",
           "The Life and Adventures of Martin Chuzzlewit",
           "Charles Dickens",
           696,
           6
          ],
          [
           "Other work",
           "The Memoirs of Barry Lyndon, Esq.",
           "William Makepeace Thackeray",
           192,
           1
          ],
          [
           "Other work",
           "A Naturalist's Voyage Round the World",
           "Charles Darwin",
           462,
           1
          ],
          [
           "Other work",
           "Sybil: Or, the Two Nations",
           "Benjamin Disraeli",
           93,
           4
          ],
          [
           "Other work",
           "A Book of Nonsense",
           "Edward Lear",
           197,
           2
          ],
          [
           "Other work",
           "Mosses from an Old Manse",
           "Nathaniel Hawthorne",
           74,
           4
          ],
          [
           "Other work",
           "Pictures from Italy",
           "Charles Dickens",
           74,
           1
          ],
          [
           "Other work",
           "Typee",
           "Herman Melville",
           455,
           1
          ],
          [
           "Other work",
           "A History of the Conquest of Peru",
           "William Hickling Prescott",
           38,
           1
          ],
          [
           "Other work",
           "Agnes Grey",
           "Anne Brontë",
           3844,
           3
          ],
          [
           "Other work",
           "Jane Eyre",
           "Charlotte Brontë",
           47139,
           14
          ],
          [
           "Other work",
           "Omoo",
           "Herman Melville",
           71,
           2
          ],
          [
           "Other work",
           "Vanity Fair",
           "William Makepeace Thackeray",
           3711,
           9
          ],
          [
           "Other work",
           "Wuthering Heights",
           "Emily Brontë",
           42403,
           23
          ],
          [
           "Other work",
           "Dombey and Son",
           "Charles Dickens",
           794,
           4
          ],
          [
           "Other work",
           "The Book of Snobs",
           "William Makepeace Thackeray",
           50,
           1
          ],
          [
           "Other work",
           "The Tenant of Wildfell Hall",
           "Anne Brontë",
           5218,
           5
          ],
          [
           "Other work",
           "Shirley",
           "Charlotte Brontë",
           1215,
           2
          ],
          [
           "Other work",
           "The English Mail-Coach",
           "Thomas de Quincey",
           7,
           2
          ],
          [
           "Other work",
           "David Copperfield",
           "Charles Dickens",
           7282,
           8
          ],
          [
           "Other work",
           "The Scarlet Letter",
           "Nathaniel Hawthorne",
           15658,
           8
          ],
          [
           "Other work",
           "The Seven Lamps of Architecture",
           "John Ruskin",
           28,
           1
          ],
          [
           "Other work",
           "White-Jacket",
           "Herman Melville",
           93,
           5
          ],
          [
           "Other work",
           "A Wonder-Book for Girls and Boys",
           "Nathaniel Hawthorne",
           136,
           2
          ],
          [
           "Other work",
           "Lavengro: The Scholar, the Gypsy, the Priest",
           "George Henry Borrow",
           11,
           3
          ],
          [
           "Other work",
           "Moby-Dick; Or, the Whale",
           "Herman Melville",
           17245,
           25
          ],
          [
           "Other work",
           "The House of the Seven Gables",
           "Nathaniel Hawthorne",
           2355,
           2
          ],
          [
           "Other work",
           "The Snow-Image and Other Twice-Told Tales",
           "Nathaniel Hawthorne",
           9,
           3
          ],
          [
           "Other work",
           "The Stones of Venice",
           "John Ruskin",
           39,
           5
          ],
          [
           "Other work",
           "Pierre; Or, the Ambiguities",
           "Herman Melville",
           137,
           8
          ],
          [
           "Other work",
           "The History of Henry Esmond, Esq., a Colonel in the Service of Her Majesty Queen Anne",
           "William Makepeace Thackeray",
           70,
           3
          ],
          [
           "Other work",
           "Cranford",
           "Elizabeth Gaskell",
           2577,
           7
          ],
          [
           "Other work",
           "Tanglewood Tales",
           "Nathaniel Hawthorne",
           99,
           1
          ],
          [
           "Other work",
           "Villette",
           "Charlotte Brontë",
           4157,
           9
          ],
          [
           "Other work",
           "Hard Times",
           "Charles Dickens",
           3242,
           2
          ],
          [
           "Other work",
           "Walden",
           "Henry David Thoreau",
           5941,
           6
          ],
          [
           "Other work",
           "The Newcomes: Memoirs of a Most Respectable Family",
           "William Makepeace Thackeray",
           19,
           8
          ],
          [
           "Other work",
           "Westward Ho! or, The Voyages and Adventures of Sir Amyas Leigh, Knight, of Burrough, in the County of Devon, in the Reign of Her Most Glorious Majesty Queen Elizabeth",
           "Charles Kingsley",
           40,
           3
          ],
          [
           "Other work",
           "English Traits",
           "Ralph Waldo Emerson",
           4,
           2
          ],
          [
           "Other work",
           "Representative Men: Seven Lectures",
           "Ralph Waldo Emerson",
           14,
           2
          ],
          [
           "Other work",
           "Barchester Towers",
           "Anthony Trollope",
           992,
           6
          ],
          [
           "Other work",
           "Little Dorrit",
           "Charles Dickens",
           1742,
           2
          ],
          [
           "Other work",
           "Scenes of Clerical Life",
           "George Eliot",
           125,
           6
          ],
          [
           "Other work",
           "The Life of Charlotte Brontë",
           "Elizabeth Gaskell",
           289,
           4
          ],
          [
           "Other work",
           "The Professor",
           "Charlotte Brontë",
           1285,
           1
          ],
          [
           "Other work",
           "Tom Brown's School Days",
           "Thomas Hughes",
           182,
           1
          ],
          [
           "Other work",
           "Gray's Anatomy",
           "Henry Gray",
           123,
           1
          ],
          [
           "Other work",
           "Adam Bede",
           "George Eliot",
           998,
           2
          ],
          [
           "Other work",
           "Dissertations and Discussions: Political, Philosophical, and Historical",
           "John Stuart Mill",
           13,
           1
          ],
          [
           "Other work",
           "Idylls of the King",
           "Alfred Tennyson",
           265,
           3
          ],
          [
           "Other work",
           "On Liberty",
           "John Stuart Mill",
           1100,
           1
          ],
          [
           "Other work",
           "On the Origin of Species",
           "Charles Darwin",
           2616,
           2
          ],
          [
           "Other work",
           "The Bertrams",
           "Anthony Trollope",
           39,
           5
          ],
          [
           "Other work",
           "The Ordeal of Richard Feverel",
           "George Meredith",
           24,
           12
          ],
          [
           "Other work",
           "Education: Intellectual, Moral and Physical",
           "Herbert Spencer",
           10,
           1
          ],
          [
           "Other work",
           "The Marble Faun / Transformation",
           "Nathaniel Hawthorne",
           194,
           3
          ],
          [
           "Other work",
           "The Mill on the Floss",
           "George Eliot",
           2203,
           9
          ],
          [
           "Other work",
           "Elsie Venner",
           "Oliver Wendel Holmes",
           4,
           1
          ],
          [
           "Other work",
           "Evan Harrington",
           "George Meredith",
           4,
           4
          ],
          [
           "Other work",
           "Framley Parsonage",
           "Anthony Trollope",
           375,
           2
          ],
          [
           "Other work",
           "Great Expectations",
           "Charles Dickens",
           17543,
           10
          ],
          [
           "Other work",
           "The History of England, from the Accession of James II",
           "Thomas Babington Macaulay",
           22,
           2
          ],
          [
           "Other work",
           "Orley Farm",
           "Anthony Trollope",
           122,
           8
          ],
          [
           "Other work",
           "The House of the Dead",
           "Fyodor Dostoyevsky",
           1589,
           2
          ],
          [
           "Other work",
           "History of Christian Names",
           "Charlotte M. Yonge",
           2,
           1
          ],
          [
           "Other work",
           "Romola",
           "George Eliot",
           249,
           2
          ],
          [
           "Other work",
           "Roundabout Papers",
           "William Makepeace Thackeray",
           1,
           1
          ],
          [
           "Other work",
           "Sylvia's Lovers",
           "Elizabeth Gaskell",
           205,
           2
          ],
          [
           "Other work",
           "The Water-Babies, a Fairy Tale for a Land Baby",
           "Charles Kingsley",
           574,
           2
          ],
          [
           "Other work",
           "The Small House at Allington",
           "Anthony Trollope",
           365,
           5
          ],
          [
           "Other work",
           "Wives and Daughters",
           "Elizabeth Gaskell",
           2623,
           2
          ],
          [
           "Other work",
           "Alice's Adventures in Wonderland",
           "Lewis Carroll",
           11692,
           7
          ],
          [
           "Other work",
           "Essays in Criticism",
           "Matthew Arnold",
           68,
           2
          ],
          [
           "Other work",
           "Rhoda Fleming",
           "George Meredith",
           2,
           1
          ],
          [
           "Other work",
           "The Ethics of the Dust",
           "John Ruskin",
           2,
           1
          ],
          [
           "Other work",
           "The Belton Estate",
           "Anthony Trollope",
           56,
           2
          ],
          [
           "Other work",
           "The Claverings",
           "Anthony Trollope",
           80,
           6
          ],
          [
           "Other work",
           "The Gambler",
           "Fyodor Dostoyevsky",
           3428,
           3
          ],
          [
           "Other work",
           "The Prince's Progress",
           "Christina Rossetti",
           210,
           1
          ],
          [
           "Other work",
           "The English Constitution",
           "Walter Bagehot",
           32,
           1
          ],
          [
           "Other work",
           "The Last Chronicle of Barset",
           "Anthony Trollope",
           334,
           6
          ],
          [
           "Other work",
           "The Posthumous Papers of the Pickwick Club",
           "Charles Dickens",
           1847,
           4
          ],
          [
           "Other work",
           "War and Peace",
           "Leo Tolstoy",
           12998,
           6
          ],
          [
           "Other work",
           "The Moonstone",
           "Wilkie Collins",
           4879,
           4
          ],
          [
           "Other work",
           "The Ring and the Book",
           "Robert Browning",
           34,
           2
          ],
          [
           "Other work",
           "Lorna Doone",
           "Richard Doddridge Blackmore",
           677,
           3
          ],
          [
           "Other work",
           "Sentimental Education",
           "Gustave Flaubert",
           880,
           2
          ],
          [
           "Other work",
           "The Innocents Abroad, or The New Pilgrims' Progress",
           "Mark Twain",
           1040,
           2
          ],
          [
           "Other work",
           "An Essay in Aid of a Grammar of Assent",
           "John-Henry Newman",
           16,
           1
          ],
          [
           "Other work",
           "Lothair",
           "Benjamin Disraeli",
           4,
           2
          ],
          [
           "Other work",
           "Put Yourself in His Place",
           "Charles Reade",
           1,
           1
          ],
          [
           "Other work",
           "The Mystery of Edwin Drood",
           "Charles Dickens",
           864,
           1
          ],
          [
           "Other work",
           "Desperate Remedies",
           "Thomas Hardy",
           220,
           2
          ],
          [
           "Other work",
           "Middlemarch",
           "George Eliot",
           8448,
           3
          ],
          [
           "Other work",
           "The Adventures of Harry Richmond",
           "George Meredith",
           4,
           1
          ],
          [
           "Other work",
           "The Descent of Man, and Selection in Relation to Sex",
           "Charles Darwin",
           126,
           1
          ],
          [
           "Other work",
           "The Works of Robert Burns",
           "Robert Burns",
           57,
           1
          ],
          [
           "Other work",
           "Through the Looking-Glass, and What Alice Found There",
           "Lewis Carroll",
           3574,
           1
          ],
          [
           "Other work",
           "Erewhon",
           "Samuel Butler",
           336,
           14
          ],
          [
           "Other work",
           "The Golden Lion of Grandpere",
           "Anthony Trollope",
           29,
           1
          ],
          [
           "Other work",
           "The Martyrdom of Man",
           "William Winwood Reade",
           15,
           2
          ],
          [
           "Other work",
           "The Possessed",
           "Fyodor Dostoyevsky",
           1918,
           6
          ],
          [
           "Other work",
           "The Torrents of Spring",
           "Ivan Turgenev",
           259,
           3
          ],
          [
           "Other work",
           "Under the Greenwood Tree",
           "Thomas Hardy",
           680,
           2
          ],
          [
           "Other work",
           "A Chance Acquaintance",
           "William Dean Howells",
           2,
           1
          ],
          [
           "Other work",
           "A Pair of Blue Eyes",
           "Thomas Hardy",
           441,
           1
          ],
          [
           "Other work",
           "Little Women, and Little Women Married",
           "Louisa May Alcott",
           1552,
           1
          ],
          [
           "Other work",
           "Old Court Life in France",
           "Frances Minto Elliot",
           1,
           1
          ],
          [
           "Other work",
           "Work: A Story of Experience",
           "Louisa May Alcott",
           103,
           1
          ],
          [
           "Other work",
           "A Short History of the English People",
           "John Richard Green",
           2,
           10
          ],
          [
           "Other work",
           "Far from the Madding Crowd",
           "Thomas Hardy",
           6517,
           7
          ],
          [
           "Other work",
           "The Idiot",
           "Fyodor Dostoyevsky",
           5866,
           7
          ],
          [
           "Other work",
           "Beauchamp's Career",
           "George Meredith",
           3,
           2
          ],
          [
           "Other work",
           "Eight Cousins, or The Aunt-Hill",
           "Louisa May Alcott",
           1162,
           1
          ],
          [
           "Other work",
           "Queen Mary: A Drama",
           "Alfred Tennyson",
           1,
           1
          ],
          [
           "Other work",
           "Roderick Hudson",
           "Henry James",
           109,
           4
          ],
          [
           "Other work",
           "The Uncommercial Traveler",
           "Charles Dickens",
           31,
           1
          ],
          [
           "Other work",
           "Daniel Deronda",
           "George Eliot",
           1054,
           2
          ],
          [
           "Other work",
           "Poems and Essays of Edgar Allan Poe",
           "Edgar Allan Poe",
           2335,
           2
          ],
          [
           "Other work",
           "Rose in Bloom",
           "Louisa May Alcott",
           612,
           1
          ],
          [
           "Other work",
           "The Adventures of Tom Sawyer",
           "Mark Twain",
           10963,
           4
          ],
          [
           "Other work",
           "The Hand of Ethelberta",
           "Thomas Hardy",
           103,
           2
          ],
          [
           "Other work",
           "The Hunting of the Snark",
           "Lewis Carroll",
           450,
           3
          ],
          [
           "Other work",
           "The Prime Minister",
           "Anthony Trollope",
           211,
           6
          ],
          [
           "Other work",
           "Life of Christ",
           "F. W. Farrar",
           34,
           1
          ],
          [
           "Other work",
           "The American",
           "Henry James",
           400,
           6
          ],
          [
           "Other work",
           "The Wreck of the Grosvenor",
           "William Clark Russell",
           8,
           1
          ],
          [
           "Other work",
           "Human, All Too Human",
           "Friedrich Nietzsche",
           377,
           1
          ],
          [
           "Other work",
           "Life and Habit",
           "Samuel Butler",
           1,
           2
          ],
          [
           "Other work",
           "Shelley",
           "John Addington Symonds",
           3,
           2
          ],
          [
           "Other work",
           "The First Violin",
           "Jessie Fothergill",
           24,
           1
          ],
          [
           "Other work",
           "The Leavenworth Case",
           "Anna Katharine Green",
           338,
           6
          ],
          [
           "Other work",
           "The Return of the Native",
           "Thomas Hardy",
           1617,
           4
          ],
          [
           "Other work",
           "Watch and Ward",
           "Henry James",
           49,
           1
          ],
          [
           "Other work",
           "Daisy Miller",
           "Henry James",
           1844,
           5
          ],
          [
           "Other work",
           "Progress and Poverty: An Inquiry into the Cause of Industrial Depressions and of Increase of Want with Increase of Wealth: The Remedy",
           "Henry George",
           63,
           1
          ],
          [
           "Other work",
           "Thackeray",
           "Anthony Trollope",
           1,
           3
          ],
          [
           "Other work",
           "The Egoist",
           "George Meredith",
           86,
           17
          ],
          [
           "Other work",
           "Travels with a Donkey in the Cévennes",
           "Robert Louis Stevenson",
           242,
           4
          ],
          [
           "Other work",
           "Confidence",
           "Henry James",
           31,
           1
          ],
          [
           "Other work",
           "Locke",
           "Thomas Fowler",
           1,
           1
          ],
          [
           "Other work",
           "Nana",
           "Émile Zola",
           763,
           2
          ],
          [
           "Other work",
           "The Brothers Karamazov",
           "Fyodor Dostoyevsky",
           12581,
           4
          ],
          [
           "Other work",
           "The Diary of a Man of Fifty",
           "Henry James",
           34,
           2
          ],
          [
           "Other work",
           "The Trumpet-Major",
           "Thomas Hardy",
           165,
           10
          ],
          [
           "Other work",
           "The Undiscovered Country",
           "William Dean Howells",
           3,
           1
          ],
          [
           "Other work",
           "Uncle Remus: His Songs and His Sayings",
           "Joel Chandler Harris",
           65,
           1
          ],
          [
           "Other work",
           "Washington Square",
           "Henry James",
           1564,
           4
          ],
          [
           "Other work",
           "A Laodicean: A Story of To-day",
           "Thomas Hardy",
           70,
           1
          ],
          [
           "Other work",
           "A Modern Instance",
           "William Dean Howells",
           35,
           1
          ],
          [
           "Other work",
           "Dr. Breen's Practice",
           "William Dean Howells",
           2,
           1
          ],
          [
           "Other work",
           "John Inglesant",
           "Joseph Henry Shorthouse",
           5,
           2
          ],
          [
           "Other work",
           "The Portrait of a Lady",
           "Henry James",
           3064,
           16
          ],
          [
           "Other work",
           "Alps and Sanctuaries of Piedmont and the Canton Ticino",
           "Samuel Butler",
           1,
           3
          ],
          [
           "Other work",
           "Bevis",
           "Richard Jefferies",
           13,
           3
          ],
          [
           "Other work",
           "Familiar Studies of Men and Books",
           "Robert Louis Stevenson",
           4,
           1
          ],
          [
           "Other work",
           "Frau Frohmann and Other Stories",
           "Anthony Trollope",
           4,
           1
          ],
          [
           "Other work",
           "Kept in the Dark",
           "Anthony Trollope",
           32,
           4
          ],
          [
           "Other work",
           "Mademoiselle Fifi",
           "Guy de Maupassant",
           17,
           1
          ],
          [
           "Other work",
           "Marion Fay",
           "Anthony Trollope",
           22,
           1
          ],
          [
           "Other work",
           "New Arabian Nights",
           "Robert Louis Stevenson",
           54,
           5
          ],
          [
           "Other work",
           "Swift",
           "Leslie Stephen",
           2,
           1
          ],
          [
           "Other work",
           "The Merry Men and Other Tales and Fables",
           "Robert Louis Stevenson",
           10,
           1
          ],
          [
           "Other work",
           "Two on a Tower",
           "Thomas Hardy",
           265,
           2
          ],
          [
           "Other work",
           "An Autobiography",
           "Anthony Trollope",
           56,
           1
          ],
          [
           "Other work",
           "English as She Is Spoke: Or, a Jest in Sober Earnest",
           "Pedro & Fonseca Carolino",
           84,
           1
          ],
          [
           "Other work",
           "George Sand",
           "Bertha Thomas",
           2,
           1
          ],
          [
           "Other work",
           "The Story of My Heart: My Autobiography",
           "Richard Jefferies",
           41,
           9
          ],
          [
           "Other work",
           "Thus Spake Zarathustra: A Book for All and None",
           "Friedrich Nietzsche",
           3972,
           3
          ],
          [
           "Other work",
           "Travels in Arabia Deserta",
           "Charles Montagu Doughty",
           23,
           12
          ],
          [
           "Other work",
           "Une Vie",
           "Guy de Maupassant",
           446,
           1
          ],
          [
           "Other work",
           "Jackanapes",
           "Juliana Horatia Ewing",
           6,
           2
          ],
          [
           "Other work",
           "The Adventures of Huckleberry Finn",
           "Mark Twain",
           16550,
           9
          ],
          [
           "Other work",
           "The Author of Beltraffio",
           "Henry James",
           7,
           2
          ],
          [
           "Other work",
           "The Wild Duck",
           "Henrik Ibsen",
           290,
           2
          ],
          [
           "Other work",
           "Walton's Lives",
           "Izaak Walton",
           1,
           1
          ],
          [
           "Other work",
           "A Child's Garden of Verses",
           "Robert Louis Stevenson",
           658,
           1
          ],
          [
           "Other work",
           "A Mummer's Wife",
           "George Moore",
           4,
           9
          ],
          [
           "Other work",
           "Diana of the Crossways",
           "George Meredith",
           22,
           11
          ],
          [
           "Other work",
           "Marius the Epicurean",
           "Walter Pater",
           47,
           7
          ],
          [
           "Other work",
           "Prince Otto",
           "Robert Louis Stevenson",
           33,
           2
          ],
          [
           "Other work",
           "The Purple Land",
           "W. H. Hudson",
           50,
           5
          ],
          [
           "Other work",
           "The Rise of Silas Lapham",
           "William Dean Howells",
           214,
           1
          ],
          [
           "Other work",
           "Cashel Byron's Profession",
           "George Bernard Shaw",
           14,
           9
          ],
          [
           "Other work",
           "Demos: A Story of English Socialism",
           "George Robert Gissing",
           6,
           4
          ],
          [
           "Other work",
           "Indian Summer",
           "William Dean Howells",
           53,
           2
          ],
          [
           "Other work",
           "Kidnapped",
           "Robert Louis Stevenson",
           2039,
           4
          ],
          [
           "Other work",
           "Little Lord Fauntleroy",
           "Frances Hodgson Burnett",
           1086,
           1
          ],
          [
           "Other work",
           "Strange Case of Dr. Jekyll and Mr. Hyde",
           "Robert Louis Stevenson",
           15033,
           6
          ],
          [
           "Other work",
           "The Casting Away of Mrs. Lecks and Mrs. Aleshine",
           "Frank Richard Stockton",
           11,
           1
          ],
          [
           "Other work",
           "The Confessions of a Young Man",
           "George Moore",
           14,
           10
          ],
          [
           "Other work",
           "The Idle Thoughts of an Idle Fellow",
           "Jerome K. Jerome",
           248,
           2
          ],
          [
           "Other work",
           "The Mayor of Casterbridge",
           "Thomas Hardy",
           2395,
           6
          ],
          [
           "Other work",
           "The Princess Casamassima",
           "Henry James",
           92,
           12
          ],
          [
           "Other work",
           "A Crystal Age",
           "W. H. Hudson",
           36,
           4
          ],
          [
           "Other work",
           "Memories and Portraits",
           "Robert Louis Stevenson",
           5,
           2
          ],
          [
           "Other work",
           "She: A History of Adventure",
           "H. Rider Haggard",
           987,
           2
          ],
          [
           "Other work",
           "Specimen Days in America",
           "Walt Whitman",
           19,
           1
          ],
          [
           "Other work",
           "The Letters of Robert Burns",
           "Robert Burns",
           10,
           1
          ],
          [
           "Other work",
           "The Spectator: Selected Essays",
           "",
           2,
           1
          ],
          [
           "Other work",
           "The Woodlanders",
           "Thomas Hardy",
           626,
           4
          ],
          [
           "Other work",
           "Auld Licht Idylls",
           "J. M. Barrie",
           8,
           2
          ],
          [
           "Other work",
           "Chita: A Memory of Last Island",
           "Lafcadio Hearn",
           20,
           1
          ],
          [
           "Other work",
           "Sara Crewe: Or, What Happened at Miss Minchin's",
           "Frances Hodgson Burnett",
           73,
           2
          ],
          [
           "Other work",
           "The American Commonwealth",
           "James Bryce",
           2,
           3
          ],
          [
           "Other work",
           "The Aspern Papers",
           "Henry James",
           494,
           16
          ],
          [
           "Other work",
           "The Black Arrow: A Tale of Two Roses",
           "Robert Louis Stevenson",
           647,
           3
          ],
          [
           "Other work",
           "The Happy Prince and Other Tales",
           "Oscar Wilde",
           1153,
           3
          ],
          [
           "Other work",
           "The Lesson of the Master",
           "Henry James",
           120,
           4
          ],
          [
           "Other work",
           "The Reverberator",
           "Henry James",
           27,
           4
          ],
          [
           "Other work",
           "The Secret Doctrine",
           "H. P. Blavatsky",
           67,
           5
          ],
          [
           "Other work",
           "A Connecticut Yankee in King Arthur's Court",
           "Mark Twain",
           3280,
           1
          ],
          [
           "Other work",
           "A Doll's House",
           "Henrik Ibsen",
           4443,
           2
          ],
          [
           "Other work",
           "Sylvie and Bruno",
           "Lewis Carroll",
           70,
           3
          ],
          [
           "Other work",
           "The Kreutzer Sonata",
           "Leo Tolstoy",
           1455,
           1
          ],
          [
           "Other work",
           "The Master of Ballantrae",
           "Robert Louis Stevenson",
           313,
           1
          ],
          [
           "Other work",
           "The Mystery of Cloomber",
           "Arthur Conan Doyle",
           80,
           3
          ],
          [
           "Other work",
           "The Wrong Box",
           "Robert Louis & Osbourne Stevenson",
           105,
           1
          ],
          [
           "Other work",
           "Three Men in a Boat (To Say Nothing of the Dog)",
           "Jerome K. Jerome",
           5096,
           10
          ],
          [
           "Other work",
           "Twilight of the Idols",
           "Friedrich Nietzsche",
           613,
           1
          ],
          [
           "Other work",
           "A Hazard of New Fortunes",
           "William Dean Howells",
           62,
           3
          ],
          [
           "Other work",
           "Departmental Ditties and Barrack-Room Ballads",
           "Rudyard Kipling",
           11,
           1
          ],
          [
           "Other work",
           "Miriam's Schooling and Other Papers",
           "Mark Rutherford",
           1,
           2
          ],
          [
           "Other work",
           "The Crime of Sylvestre Bonnard",
           "Anatole France",
           55,
           1
          ],
          [
           "Other work",
           "The Gentle Art of Making Enemies",
           "James McNeill Whistler",
           23,
           3
          ],
          [
           "Other work",
           "The Golden Bough: A Study in Comparative Religion",
           "James George Frazier",
           372,
           13
          ],
          [
           "Other work",
           "The Greatest Thing in the World",
           "Henry Drummond",
           89,
           1
          ],
          [
           "Other work",
           "The Tragic Muse",
           "Henry James",
           29,
           4
          ],
          [
           "Other work",
           "A Group of Noble Dames",
           "Thomas Hardy",
           33,
           2
          ],
          [
           "Other work",
           "Diary of a Pilgrimage",
           "Jerome K. Jerome",
           49,
           2
          ],
          [
           "Other work",
           "Gösta Berlings Saga",
           "Selma Lagerlöf",
           275,
           1
          ],
          [
           "Other work",
           "Hedda Gabler",
           "Henrik Ibsen",
           777,
           2
          ],
          [
           "Other work",
           "Intentions",
           "Oscar Wilde",
           46,
           2
          ],
          [
           "Other work",
           "Life and Letters of Robert Browning",
           "Alexandra Sutherland Orr",
           1,
           2
          ],
          [
           "Other work",
           "Lord Arthur Savile's Crime and Other Stories",
           "Oscar Wilde",
           226,
           3
          ],
          [
           "Other work",
           "Mine Own People",
           "Rudyard Kipling",
           3,
           3
          ],
          [
           "Other work",
           "New Grub Street",
           "George Robert Gissing",
           308,
           6
          ],
          [
           "Other work",
           "Peter Ibbetson",
           "George Du Maurier",
           20,
           1
          ],
          [
           "Other work",
           "Salomé",
           "Oscar Wilde",
           757,
           4
          ],
          [
           "Other work",
           "Tess of the d'Urbervilles",
           "Thomas Hardy",
           9424,
           17
          ],
          [
           "Other work",
           "The Light That Failed",
           "Rudyard Kipling",
           104,
           4
          ],
          [
           "Other work",
           "The Monk and the Hangman's Daughter",
           "Ambrose Gwinnett Bierce",
           100,
           2
          ],
          [
           "Other work",
           "The Occult Sciences",
           "A. E. Waite",
           1,
           1
          ],
          [
           "Other work",
           "The Poems and Plays of Oliver Goldsmith",
           "Oliver Goldsmith",
           1,
           3
          ],
          [
           "Other work",
           "The Quintessence of Ibsenism",
           "George Bernard Shaw",
           9,
           1
          ],
          [
           "Other work",
           "The Science of Fairy Tales: An Inquiry into Fairy Mythology",
           "Edwin Sidney Hartland",
           3,
           2
          ],
          [
           "Other work",
           "Told after Supper",
           "Jerome K. Jerome",
           89,
           2
          ],
          [
           "Other work",
           "Across the Plains",
           "Robert Louis Stevenson",
           10,
           2
          ],
          [
           "Other work",
           "Born in Exile",
           "George Robert Gissing",
           24,
           1
          ],
          [
           "Other work",
           "Children of the Ghetto: A Study of a Peculiar People",
           "Israel Zangwill",
           10,
           5
          ],
          [
           "Other work",
           "Complete Prose Works",
           "Walt Whitman",
           4,
           3
          ],
          [
           "Other work",
           "Degeneration",
           "Max Nordau",
           4,
           1
          ],
          [
           "Other work",
           "Imperial Purple",
           "Edgar Saltus",
           6,
           1
          ],
          [
           "Other work",
           "Peer Gynt",
           "Henrik Ibsen",
           293,
           1
          ],
          [
           "Other work",
           "The Master Builder",
           "Henrik Ibsen",
           156,
           1
          ],
          [
           "Other work",
           "The Poems of Andrew Marvell",
           "Andrew Marvell",
           7,
           1
          ],
          [
           "Other work",
           "Ballads and Barrack-Room Ballads",
           "Rudyard Kipling",
           10,
           1
          ],
          [
           "Other work",
           "Can Such Things Be?",
           "Ambrose Gwinnett Bierce",
           85,
           6
          ],
          [
           "Other work",
           "Catharine Furze",
           "Mark Rutherford",
           1,
           1
          ],
          [
           "Other work",
           "Catriona",
           "Robert Louis Stevenson",
           131,
           2
          ],
          [
           "Other work",
           "Island Nights' Entertainments",
           "Robert Louis Stevenson",
           33,
           1
          ],
          [
           "Other work",
           "Lady Windermere's Fan: A Play about a Good Woman",
           "Oscar Wilde",
           1030,
           4
          ],
          [
           "Other work",
           "Maggie: A Girl of the Streets",
           "Stephen Crane",
           422,
           8
          ],
          [
           "Other work",
           "Many Inventions",
           "Rudyard Kipling",
           4,
           3
          ],
          [
           "Other work",
           "Plato and Platonism",
           "Walter Pater",
           3,
           2
          ],
          [
           "Other work",
           "The Celtic Twilight",
           "William Butler Yeats",
           167,
           3
          ],
          [
           "Other work",
           "The Odd Women",
           "George Robert Gissing",
           339,
           2
          ],
          [
           "Other work",
           "A House of Gentlefolk: A Novel",
           "Ivan Turgenev",
           209,
           1
          ],
          [
           "Other work",
           "A Woman of No Importance",
           "Oscar Wilde",
           698,
           1
          ],
          [
           "Other work",
           "Esther Waters",
           "George Moore",
           61,
           22
          ],
          [
           "Other work",
           "Glimpses of Unfamiliar Japan",
           "Lafcadio Hearn",
           19,
           3
          ],
          [
           "Other work",
           "Life's Little Ironies: A Set of Tales, with Some Colloquial Sketches, Entitled, A Few Crusted Characters",
           "Thomas Hardy",
           86,
           3
          ],
          [
           "Other work",
           "Lord Ormont and His Aminta",
           "George Meredith",
           3,
           8
          ],
          [
           "Other work",
           "Lourdes (Three Cities Trilogy)",
           "Émile Zola",
           26,
           1
          ],
          [
           "Other work",
           "The Coming of Cuculain",
           "Standish James O'Grady",
           2,
           4
          ],
          [
           "Other work",
           "The Great God Pan",
           "Arthur Machen",
           993,
           1
          ],
          [
           "Other work",
           "The Jungle Book",
           "Rudyard Kipling",
           3932,
           2
          ],
          [
           "Other work",
           "The Second Mrs. Tanqueray",
           "Arthur Wing Pinero",
           13,
           2
          ],
          [
           "Other work",
           "Trilby",
           "George Du Maurier",
           160,
           1
          ],
          [
           "Other work",
           "Yellow Fairy Book",
           "Andrew Lang",
           64,
           2
          ],
          [
           "Other work",
           "A Sportsman's Sketches",
           "Ivan Turgenev",
           251,
           3
          ],
          [
           "Other work",
           "Almayer's Folly",
           "Joseph Conrad",
           135,
           6
          ],
          [
           "Other work",
           "Dilemmas: Stories and Studies in Sentiment",
           "Ernest Christopher Dowson",
           1,
           1
          ],
          [
           "Other work",
           "Fathers and Children",
           "Ivan Turgenev",
           2738,
           2
          ],
          [
           "Other work",
           "Jude the Obscure",
           "Thomas Hardy",
           3430,
           18
          ],
          [
           "Other work",
           "On the Eve",
           "Ivan Turgenev",
           180,
           3
          ],
          [
           "Other work",
           "Out of the East: Reveries and Studies in New Japan",
           "Lafcadio Hearn",
           6,
           2
          ],
          [
           "Other work",
           "The Altar of the Dead",
           "Henry James",
           88,
           4
          ],
          [
           "Other work",
           "The Golden Book of Coleridge",
           "Samuel Taylor Coleridge",
           1,
           3
          ],
          [
           "Other work",
           "The Gospel of Buddha",
           "Paul Carus",
           23,
           1
          ],
          [
           "Other work",
           "The Red Badge of Courage",
           "Stephen Crane",
           3743,
           3
          ],
          [
           "Other work",
           "The Second Jungle Book",
           "Rudyard Kipling",
           196,
           1
          ],
          [
           "Other work",
           "Vailima Letters: Correspondence Addressed by Robert Louis Stevenson to Sidney Colvin",
           "Robert Louis Stevenson",
           2,
           2
          ],
          [
           "Other work",
           "A Shropshire Lad",
           "A. E. Housman",
           190,
           6
          ],
          [
           "Other work",
           "An Outcast of the Islands",
           "Joseph Conrad",
           57,
           4
          ],
          [
           "Other work",
           "Boston Cooking-School Cook Book",
           "Fannie Merritt Farmer",
           21,
           1
          ],
          [
           "Other work",
           "Gaston de Latour: An Unfinished Romance",
           "Walter Pater",
           2,
           2
          ],
          [
           "Other work",
           "Imaginary Portraits",
           "Walter Pater",
           4,
           5
          ],
          [
           "Other work",
           "Kokoro",
           "Lafcadio Hearn",
           37,
           1
          ],
          [
           "Other work",
           "Mr. Midshipman Easy",
           "Frederick Marryat",
           74,
           1
          ],
          [
           "Other work",
           "Rome (Three Cities Trilogy)",
           "Émile Zola",
           16,
           2
          ],
          [
           "Other work",
           "Smoke",
           "Ivan Turgenev",
           134,
           2
          ],
          [
           "Other work",
           "The Damnation of Theron Ware",
           "Harold Frederic",
           104,
           2
          ],
          [
           "Other work",
           "The Figure in the Carpet",
           "Henry James",
           123,
           1
          ],
          [
           "Other work",
           "The Landlord at Lion's Head: A Novel",
           "William Dean Howells",
           4,
           2
          ],
          [
           "Other work",
           "The Other House: A Novel",
           "Henry James",
           48,
           3
          ],
          [
           "Other work",
           "The Wheels of Chance",
           "H. G. Wells",
           60,
           1
          ],
          [
           "Other work",
           "Whitman: A Study",
           "John Burroughs",
           2,
           2
          ],
          [
           "Other work",
           "An Essay on Comedy and the Uses of the Comic Spirit",
           "George Meredith",
           2,
           2
          ],
          [
           "Other work",
           "Captains Courageous",
           "Rudyard Kipling",
           869,
           1
          ],
          [
           "Other work",
           "Gleanings in Buddha-Fields: Studies of the Hand and Soul in the Far East",
           "Lafcadio Hearn",
           7,
           1
          ],
          [
           "Other work",
           "Les Nourritures Terrestres",
           "André Gide",
           183,
           1
          ],
          [
           "Other work",
           "Liza of Lambeth",
           "W. Somerset Maugham",
           175,
           4
          ],
          [
           "Other work",
           "Paris (Three Cities Trilogy)",
           "Émile Zola",
           16,
           2
          ],
          [
           "Other work",
           "The Authoress of the Odyssey: Where and When She Wrote, Who She Was, the Use She Made of the Iliad, and How the Poem Grew under Her Hands",
           "Samuel Butler",
           6,
           1
          ],
          [
           "Other work",
           "The Celibates",
           "Honoré de Balzac",
           1,
           4
          ],
          [
           "Other work",
           "The Happy Hypocrite",
           "Max Beerbohm",
           15,
           2
          ],
          [
           "Other work",
           "The Last Adventures of Sherlock Holmes",
           "Arthur Conan Doyle",
           1040,
           3
          ],
          [
           "Other work",
           "The Nigger of the Narcissus",
           "Joseph Conrad",
           173,
           7
          ],
          [
           "Other work",
           "The Spoils of Poynton",
           "Henry James",
           126,
           10
          ],
          [
           "Other work",
           "The Well-Beloved: A Sketch of a Temperament",
           "Thomas Hardy",
           126,
           1
          ],
          [
           "Other work",
           "Trooper Peter Halket of Mashonaland",
           "Olive Schreiner",
           2,
           1
          ],
          [
           "Other work",
           "What Maisie Knew",
           "Henry James",
           646,
           14
          ],
          [
           "Other work",
           "A Fleet in Being",
           "Rudyard Kipling",
           4,
           1
          ],
          [
           "Other work",
           "A Lear of the Steppes and Other Stories",
           "Ivan Turgenev",
           39,
           1
          ],
          [
           "Other work",
           "A Life of William Shakespeare",
           "Sidney Lee",
           3,
           3
          ],
          [
           "Other work",
           "A Man from the North",
           "Arnold Bennett",
           10,
           1
          ],
          [
           "Other work",
           "Affirmations",
           "Havelock Ellis",
           1,
           1
          ],
          [
           "Other work",
           "Dream Days",
           "Kenneth Grahame",
           45,
           2
          ],
          [
           "Other work",
           "Evelyn Innes",
           "George Moore",
           3,
           11
          ],
          [
           "Other work",
           "Plays: Pleasant and Unpleasant",
           "George Bernard Shaw",
           19,
           21
          ],
          [
           "Other work",
           "Science and Education: Essays",
           "Thomas Henry Huxley",
           2,
           1
          ],
          [
           "Other work",
           "Tales of Unrest",
           "Joseph Conrad",
           42,
           3
          ],
          [
           "Other work",
           "The Actor Manager",
           "Leonard Merrick",
           1,
           1
          ],
          [
           "Other work",
           "The Californians",
           "Gertrude Franklin Horn Atherton",
           6,
           2
          ],
          [
           "Other work",
           "The Day's Work",
           "Rudyard Kipling",
           14,
           1
          ],
          [
           "Other work",
           "The Little Minister",
           "J. M. Barrie",
           41,
           4
          ],
          [
           "Other work",
           "The Perfect Wagnerite",
           "George Bernard Shaw",
           28,
           1
          ],
          [
           "Other work",
           "The Town Traveller",
           "George Robert Gissing",
           2,
           3
          ],
          [
           "Other work",
           "The Turn of the Screw",
           "Henry James",
           9601,
           3
          ],
          [
           "Other work",
           "The Works of Robert Herrick",
           "Robert Herrick",
           2,
           3
          ],
          [
           "Other work",
           "A Child's Primer of Natural History",
           "Oliver Herford",
           1,
           1
          ],
          [
           "Other work",
           "An Ideal Husband",
           "Oscar Wilde",
           1275,
           4
          ],
          [
           "Other work",
           "Fables in Slang",
           "George Ade",
           13,
           1
          ],
          [
           "Other work",
           "Hunger",
           "Knut Hamsun",
           3333,
           2
          ],
          [
           "Other work",
           "Mademoiselle de Maupin",
           "Théophile Gautier",
           85,
           2
          ],
          [
           "Other work",
           "McTeague",
           "Frank Norris",
           561,
           3
          ],
          [
           "Other work",
           "Plain Tales from the Hills",
           "Rudyard Kipling",
           139,
           2
          ],
          [
           "Other work",
           "Stalky and Co.",
           "Rudyard Kipling",
           72,
           2
          ],
          [
           "Other work",
           "The Awkward Age",
           "Henry James",
           76,
           6
          ],
          [
           "Other work",
           "The Gentleman from Indiana",
           "Booth Tarkington",
           20,
           1
          ],
          [
           "Other work",
           "The Greater Inclination",
           "Edith Wharton",
           20,
           1
          ],
          [
           "Other work",
           "The Importance of Being Earnest: A Trivial Comedy for Serious People",
           "Oscar Wilde",
           10221,
           5
          ],
          [
           "Other work",
           "The Lunatic at Large: A Novel",
           "J. Storer Clouston",
           27,
           12
          ],
          [
           "Other work",
           "The Monster and Other Stories",
           "Stephen Crane",
           25,
           1
          ],
          [
           "Other work",
           "The Story of Lewis Carroll, Told for Young People by the Real Alice in Wonderland",
           "Isa Bowman",
           7,
           1
          ],
          [
           "Other work",
           "A Little Tour in France",
           "Henry James",
           16,
           1
          ],
          [
           "Other work",
           "Lord Jim",
           "Joseph Conrad",
           1383,
           18
          ],
          [
           "Other work",
           "Love among the Artists",
           "George Bernard Shaw",
           20,
           1
          ],
          [
           "Other work",
           "Love and Mr. Lewisham",
           "H. G. Wells",
           45,
           3
          ],
          [
           "Other work",
           "Sailing Alone Around the World",
           "Joshua Slocum",
           639,
           2
          ],
          [
           "Other work",
           "Sister Carrie",
           "Theodore Dreiser",
           1523,
           25
          ],
          [
           "Other work",
           "The Cardinal's Snuff Box",
           "Henry Harland",
           5,
           1
          ],
          [
           "Other work",
           "The Strenuous Life",
           "Theodore Roosevelt",
           77,
           1
          ],
          [
           "Other work",
           "Three Men on the Bummel",
           "Jerome K. Jerome",
           395,
           4
          ],
          [
           "Other work",
           "Erewhon Revisited: Twenty Years Later, Both by the Original Discoverer of the Country and by His Son",
           "Samuel Butler",
           28,
           5
          ],
          [
           "Other work",
           "Irish Fairy and Folk Tales",
           "",
           223,
           1
          ],
          [
           "Other work",
           "Kim",
           "Rudyard Kipling",
           1913,
           8
          ],
          [
           "Other work",
           "Lives of the Hunted: Containing a True Account of the Doings of Five Quadrupeds & Three Birds, and, in Elucidation of the Same, Over 200 Drawings",
           "Ernest Thompson Seton",
           5,
           1
          ],
          [
           "Other work",
           "Mrs. Wiggs of the Cabbage Patch",
           "Alice Caldwell Hegan Rice",
           54,
           1
          ],
          [
           "Other work",
           "The Defendant",
           "G. K. Chesterton",
           53,
           1
          ],
          [
           "Other work",
           "The First Men in the Moon",
           "H. G. Wells",
           740,
           1
          ],
          [
           "Other work",
           "The Life of the Bee",
           "Maurice Maeterlinck",
           70,
           2
          ],
          [
           "Other work",
           "The Sacred Fount",
           "Henry James",
           42,
           1
          ],
          [
           "Other work",
           "Three Plays for Puritans",
           "George Bernard Shaw",
           11,
           7
          ],
          [
           "Other work",
           "A Daughter of the Snows",
           "Jack London",
           36,
           1
          ],
          [
           "Other work",
           "Anna of the Five Towns",
           "Arnold Bennett",
           132,
           4
          ],
          [
           "Other work",
           "Children of the Frost",
           "Jack London",
           34,
           1
          ],
          [
           "Other work",
           "Just So Stories",
           "Rudyard Kipling",
           1433,
           2
          ],
          [
           "Other work",
           "Melomaniacs",
           "James Huneker",
           1,
           1
          ],
          [
           "Other work",
           "Renée Mauperin",
           "Edmond de Goncourt",
           2,
           1
          ],
          [
           "Other work",
           "The Admirable Crichton",
           "J. M. Barrie",
           68,
           5
          ],
          [
           "Other work",
           "The American Diary of a Japanese Girl",
           "Yoné Noguchi",
           9,
           1
          ],
          [
           "Other work",
           "The Dram Shop",
           "Émile Zola",
           620,
           1
          ],
          [
           "Other work",
           "The Romance of Leonardo da Vinci: The Forerunner",
           "Dmitry Merezhkovsky",
           42,
           7
          ],
          [
           "Other work",
           "The Hound of the Baskervilles",
           "Arthur Conan Doyle",
           9079,
           4
          ],
          [
           "Other work",
           "The Immoralist",
           "André Gide",
           735,
           2
          ],
          [
           "Other work",
           "The Little White Bird",
           "J. M. Barrie",
           108,
           1
          ],
          [
           "Other work",
           "The Sea Lady",
           "H. G. Wells",
           39,
           1
          ],
          [
           "Other work",
           "The Varieties of Religious Experience",
           "William James",
           501,
           4
          ],
          [
           "Other work",
           "The Wings of the Dove",
           "Henry James",
           630,
           6
          ],
          [
           "Other work",
           "Typhoon",
           "Joseph Conrad",
           268,
           7
          ],
          [
           "Other work",
           "Youth: A Narrative",
           "Joseph Conrad",
           238,
           8
          ],
          [
           "Other work",
           "Emmy Lou: Her Book and Heart",
           "George Madden Martin",
           6,
           1
          ],
          [
           "Other work",
           "Man and Superman",
           "George Bernard Shaw",
           238,
           5
          ],
          [
           "Other work",
           "Man Overboard!",
           "Francis Marion Crawford",
           10,
           6
          ],
          [
           "Other work",
           "Mankind in the Making",
           "H. G. Wells",
           2,
           2
          ],
          [
           "Other work",
           "Principia Ethica",
           "George Edward Moore",
           34,
           1
          ],
          [
           "Other work",
           "Rebecca of Sunnybrook Farm",
           "Kate Douglas Smith Wiggin",
           831,
           1
          ],
          [
           "Other work",
           "Sex and Character",
           "Otto Weininger",
           37,
           2
          ],
          [
           "Other work",
           "The Ambassadors",
           "Henry James",
           642,
           11
          ],
          [
           "Other work",
           "The Black Monk and Other Stories",
           "Anton Chekhov",
           20,
           3
          ],
          [
           "Other work",
           "The Filigree Ball: Being a Full and True Account of the Solution of the Mystery Concerning the Jeffrey-Moore Affair",
           "Anna Katharine Green",
           10,
           3
          ],
          [
           "Other work",
           "The Five Nations",
           "Rudyard Kipling",
           2,
           3
          ],
          [
           "Other work",
           "The Life of Charles Dickens",
           "John & Gissing Forster",
           16,
           2
          ],
          [
           "Other work",
           "The Light Invisible",
           "Robert-Hugh Benson",
           15,
           1
          ],
          [
           "Other work",
           "The Pit: A Story of Chicago",
           "Frank Norris",
           57,
           2
          ],
          [
           "Other work",
           "The Private Papers of Henry Ryecroft",
           "George Robert Gissing",
           16,
           3
          ],
          [
           "Other work",
           "The Untilled Field",
           "George Moore",
           7,
           7
          ],
          [
           "Other work",
           "The Way of All Flesh",
           "Samuel Butler",
           495,
           25
          ],
          [
           "Other work",
           "Bab Ballads",
           "W. S. Gilbert",
           6,
           3
          ],
          [
           "Other work",
           "Cabbages and Kings",
           "O. Henry",
           84,
           4
          ],
          [
           "Other work",
           "Emperor and Galilean: A World-Historic Drama",
           "Henrik Ibsen",
           15,
           1
          ],
          [
           "Other work",
           "Green Mansions: A Romance of the Tropical Forest",
           "W. H. Hudson",
           278,
           11
          ],
          [
           "Other work",
           "Japan: An Attempt at Interpretation",
           "Lafcadio Hearn",
           30,
           3
          ],
          [
           "Other work",
           "Mont-Saint-Michel and Chartres",
           "Henry Adams",
           74,
           7
          ],
          [
           "Other work",
           "Nostromo: A Tale of the Seaboard",
           "Joseph Conrad",
           690,
           7
          ],
          [
           "Other work",
           "Shakespearean Tragedy: Lectures on Hamlet, Othello, King Lear, Macbeth",
           "A. C. Bradley",
           49,
           2
          ],
          [
           "Other work",
           "The Cherry Orchard",
           "Anton Chekhov",
           1241,
           4
          ],
          [
           "Other work",
           "The Divine Fire",
           "May Sinclair",
           5,
           3
          ],
          [
           "Other work",
           "The Dynasts",
           "Thomas Hardy",
           5,
           3
          ],
          [
           "Other work",
           "The Food of the Gods and How It Came to Earth",
           "H. G. Wells",
           289,
           1
          ],
          [
           "Other work",
           "The Garden of Allah",
           "Robert Smythe Hichens",
           12,
           1
          ],
          [
           "Other work",
           "The Golden Bowl",
           "Henry James",
           419,
           12
          ],
          [
           "Other work",
           "The Island Pharisees",
           "John Galsworthy",
           6,
           2
          ],
          [
           "Other work",
           "The Napoleon of Notting Hill",
           "G. K. Chesterton",
           305,
           2
          ],
          [
           "Other work",
           "The Tinker's Wedding",
           "John Millington Synge",
           6,
           4
          ],
          [
           "Other work",
           "Tommy and Co.",
           "Jerome K. Jerome",
           5,
           2
          ],
          [
           "Other work",
           "Veranilda",
           "George Robert Gissing",
           1,
           1
          ],
          [
           "Other work",
           "A Little Boy Lost",
           "W. H. Hudson",
           3,
           4
          ],
          [
           "Other work",
           "A Modern Utopia",
           "H. G. Wells",
           66,
           1
          ],
          [
           "Other work",
           "Creatures That Once Were Men",
           "Maxim Gorky",
           29,
           1
          ],
          [
           "Other work",
           "De Profundis",
           "Oscar Wilde",
           1203,
           8
          ],
          [
           "Other work",
           "Growth and Structure of the English Language",
           "Otto Jesperson",
           3,
           5
          ],
          [
           "Other work",
           "Heretics",
           "G. K. Chesterton",
           381,
           4
          ],
          [
           "Other work",
           "Kipps: The Story of A Simple Soul",
           "H. G. Wells",
           85,
           4
          ],
          [
           "Other work",
           "Mozart: The Man and the Artist, as Revealed in His Words",
           "Wolfgang Amadeus Mozart",
           16,
           1
          ],
          [
           "Other work",
           "The Club of Queer Trades",
           "G. K. Chesterton",
           225,
           5
          ],
          [
           "Other work",
           "The House of Mirth",
           "Edith Wharton",
           5034,
           7
          ],
          [
           "Other work",
           "The Irrational Knot",
           "George Bernard Shaw",
           8,
           8
          ],
          [
           "Other work",
           "The Morals of Marcus Ordeyne",
           "William John Locke",
           10,
           1
          ],
          [
           "Other work",
           "The Philanderer",
           "George Bernard Shaw",
           17,
           1
          ],
          [
           "Other work",
           "The Well of the Saints: A Play in Three Acts",
           "John Millington Synge",
           4,
           1
          ],
          [
           "Other work",
           "The Wives of Henry the VIII and the Parts They Played in History",
           "Martin Hume",
           20,
           1
          ],
          [
           "Other work",
           "Where Angels Fear to Tread",
           "E. M. Forster",
           1025,
           8
          ],
          [
           "Other work",
           "Bardelys the Magnificent",
           "Rafael Sabatini",
           24,
           2
          ],
          [
           "Other work",
           "Charles Dickens: A Critical Study",
           "G. K. Chesterton",
           58,
           2
          ],
          [
           "Other work",
           "Love Among the Chickens: A Story of the Haps and Mishaps on an English Chicken Farm",
           "P. G. Wodehouse",
           438,
           2
          ],
          [
           "Other work",
           "Memoirs of My Dead Life",
           "George Moore",
           6,
           7
          ],
          [
           "Other work",
           "Pigs Is Pigs",
           "Ellis Parker Butler",
           53,
           1
          ],
          [
           "Other work",
           "Puck of Pook's Hill",
           "Rudyard Kipling",
           170,
           4
          ],
          [
           "Other work",
           "The Aran Islands",
           "John Millington Synge",
           80,
           7
          ],
          [
           "Other work",
           "The Awakening of Helena Richie",
           "Margaret Deland",
           1,
           1
          ],
          [
           "Other work",
           "The Beloved Vagabond",
           "William John Locke",
           22,
           2
          ],
          [
           "Other work",
           "The Book of Tea",
           "Okakura Kakuzō",
           1212,
           2
          ],
          [
           "Other work",
           "The Four Million",
           "O. Henry",
           65,
           5
          ],
          [
           "Other work",
           "The House of Souls",
           "Arthur Machen",
           50,
           6
          ],
          [
           "Other work",
           "The Jungle",
           "Upton Sinclair",
           6136,
           3
          ],
          [
           "Other work",
           "The Man of Property (The Forsyte Saga)",
           "John Galsworthy",
           268,
           7
          ],
          [
           "Other work",
           "The Mirror of the Sea",
           "Joseph Conrad",
           48,
           4
          ],
          [
           "Other work",
           "The Poems and Plays of Robert Browning",
           "Robert Browning",
           1,
           3
          ],
          [
           "Other work",
           "Whom God Hath Joined",
           "Arnold Bennett",
           4,
           1
          ],
          [
           "Other work",
           "Between the Dark and the Daylight",
           "William Dean Howells",
           4,
           1
          ],
          [
           "Other work",
           "Chamber Music",
           "James Joyce",
           102,
           13
          ],
          [
           "Other work",
           "Father and Son: A Study of Two Temperaments",
           "Edmund Gosse",
           104,
           5
          ],
          [
           "Other work",
           "John Bull's Other Island",
           "George Bernard Shaw",
           26,
           5
          ],
          [
           "Other work",
           "Pragmatism: A New Name for Some Old Ways of Thinking; Popular Lectures on Philosophy",
           "William James",
           135,
           2
          ],
          [
           "Other work",
           "The Country House",
           "John Galsworthy",
           17,
           12
          ],
          [
           "Other work",
           "The Education of Henry Adams",
           "Henry Adams",
           371,
           3
          ],
          [
           "Other work",
           "The Fruit of the Tree",
           "Edith Wharton",
           47,
           5
          ],
          [
           "Other work",
           "The Ghost",
           "Arnold Bennett",
           27,
           5
          ],
          [
           "Other work",
           "The Hill of Dreams",
           "Arthur Machen",
           126,
           3
          ],
          [
           "Other work",
           "The Iron Heel",
           "Jack London",
           715,
           1
          ],
          [
           "Other work",
           "The Longest Journey",
           "E. M. Forster",
           210,
           13
          ],
          [
           "Other work",
           "The Note-Books of Samuel Butler",
           "Samuel Butler",
           2,
           6
          ],
          [
           "Other work",
           "The Playboy of the Western World",
           "John Millington Synge",
           173,
           7
          ],
          [
           "Other work",
           "The Road",
           "Jack London",
           260,
           2
          ],
          [
           "Other work",
           "The Secret Agent: A Simple Tale",
           "Joseph Conrad",
           1427,
           4
          ],
          [
           "Other work",
           "The Wonderful Adventures of Nils",
           "Selma Lagerlöf",
           444,
           1
          ],
          [
           "Other work",
           "The Zincali: An Account of the Gypsies of Spain",
           "George Henry Borrow",
           1,
           1
          ],
          [
           "Other work",
           "Waste: A Play in Four Acts",
           "Harley Granville-Barker",
           4,
           2
          ],
          [
           "Other work",
           "A Set of Six",
           "Joseph Conrad",
           17,
           2
          ],
          [
           "Other work",
           "A Spirit in Prison",
           "Robert Smythe Hichens",
           1,
           1
          ],
          [
           "Other work",
           "All Things Considered",
           "G. K. Chesterton",
           74,
           2
          ],
          [
           "Other work",
           "Buried Alive",
           "Arnold Bennett",
           73,
           8
          ],
          [
           "Other work",
           "Chaucer and His England",
           "G. G. Coulton",
           1,
           1
          ],
          [
           "Other work",
           "Mother of Pearl",
           "Anatole France",
           3,
           1
          ],
          [
           "Other work",
           "New Worlds for Old",
           "H. G. Wells",
           2,
           2
          ],
          [
           "Other work",
           "Orthodoxy",
           "G. K. Chesterton",
           1979,
           5
          ],
          [
           "Other work",
           "Round the Fire Stories",
           "Arthur Conan Doyle",
           20,
           2
          ],
          [
           "Other work",
           "The Autobiography of a Super-Tramp",
           "W. H. Davies",
           61,
           6
          ],
          [
           "Other work",
           "The Blue Lagoon",
           "Henry de Vere Stacpoole",
           166,
           1
          ],
          [
           "Other work",
           "The Bomb",
           "Frank Harris",
           20,
           1
          ],
          [
           "Other work",
           "The Complete Poems of Emily Brontë",
           "Emily Brontë",
           100,
           1
          ],
          [
           "Other work",
           "The Governors",
           "E. Phillips Oppenheim",
           1,
           1
          ],
          [
           "Other work",
           "The Human Machine",
           "Arnold Bennett",
           39,
           2
          ],
          [
           "Other work",
           "The Intermediate Sex",
           "Edward Carpenter",
           3,
           2
          ],
          [
           "Other work",
           "The Man Who Was Thursday",
           "G. K. Chesterton",
           3343,
           4
          ],
          [
           "Other work",
           "The Moneychangers",
           "Upton Sinclair",
           48,
           1
          ],
          [
           "Other work",
           "The Mystery of the Yellow Room",
           "Gaston Leroux",
           747,
           3
          ],
          [
           "Other work",
           "The Old Wives' Tale",
           "Arnold Bennett",
           284,
           14
          ],
          [
           "Other work",
           "Aesthetic: As Science of Expression and General Linguistic",
           "Benedetto Croce",
           5,
           3
          ],
          [
           "Other work",
           "Ann Veronica",
           "H. G. Wells",
           161,
           2
          ],
          [
           "Other work",
           "Egoists, a Book of Supermen: Stendhal, Baudelaire, Flaubert, Anatole France, Huysmans, Barrès, Nietzsche, Blake, Ibsen, Stirner, and Ernest Hello",
           "James Huneker",
           2,
           2
          ],
          [
           "Other work",
           "Exultations",
           "Ezra Pound",
           6,
           1
          ],
          [
           "Other work",
           "Fraternity",
           "John Galsworthy",
           6,
           8
          ],
          [
           "Other work",
           "George Bernard Shaw",
           "G. K. Chesterton",
           20,
           5
          ],
          [
           "Other work",
           "Glimpse: An Adventure of the Soul",
           "Arnold Bennett",
           2,
           2
          ],
          [
           "Other work",
           "Literary Taste: How to Form It",
           "Arnold Bennett",
           81,
           1
          ],
          [
           "Other work",
           "Martin Eden",
           "Jack London",
           1772,
           1
          ],
          [
           "Other work",
           "Oxford Lectures on Poetry",
           "A. C. Bradley",
           2,
           4
          ],
          [
           "Other work",
           "Personae",
           "Ezra Pound",
           54,
           2
          ],
          [
           "Other work",
           "Roads of Destiny",
           "O. Henry",
           16,
           1
          ],
          [
           "Other work",
           "Saint Ignatius Loyola",
           "Francis Thompson",
           1,
           3
          ],
          [
           "Other work",
           "The Caravaners",
           "Elizabeth von Arnim",
           50,
           4
          ],
          [
           "Other work",
           "The Glory of the Conquered: The Story of a Great Love",
           "Susan Glaspell",
           1,
           4
          ],
          [
           "Other work",
           "The Inner Shrine: A Novel of Today",
           "Basil King",
           2,
           2
          ],
          [
           "Other work",
           "The Irish Fairy Book",
           "Alfred Perceval Graves",
           6,
           1
          ],
          [
           "Other work",
           "The Medici",
           "George Frederick Young",
           11,
           1
          ],
          [
           "Other work",
           "The Necromancers",
           "Robert-Hugh Benson",
           26,
           1
          ],
          [
           "Other work",
           "The Power of a Lie",
           "Johan Bojer",
           2,
           1
          ],
          [
           "Other work",
           "The Story of André Cornélis",
           "Paul Bourget",
           1,
           1
          ],
          [
           "Other work",
           "The Street of Adventure",
           "Philip Gibbs",
           1,
           3
          ],
          [
           "Other work",
           "The Wooden Horse",
           "Hugh Walpole",
           2,
           2
          ],
          [
           "Other work",
           "Three Lives",
           "Gertrude Stein",
           353,
           20
          ],
          [
           "Other work",
           "Tono-Bungay",
           "H. G. Wells",
           172,
           7
          ],
          [
           "Other work",
           "Tremendous Trifles",
           "G. K. Chesterton",
           117,
           1
          ],
          [
           "Other work",
           "A Shepherd's Life",
           "W. H. Hudson",
           17,
           6
          ],
          [
           "Other work",
           "An Inland Voyage / Travels with a Donkey",
           "Robert Louis Stevenson",
           7,
           2
          ],
          [
           "Other work",
           "Appreciations: With an Essay on Style",
           "Walter Pater",
           3,
           2
          ],
          [
           "Other work",
           "Clayhanger",
           "Arnold Bennett",
           40,
           3
          ],
          [
           "Other work",
           "Deirdre of the Sorrows",
           "John Millington Synge",
           8,
           3
          ],
          [
           "Other work",
           "Helen with the High Hand",
           "Arnold Bennett",
           11,
           1
          ],
          [
           "Other work",
           "Howards End",
           "E. M. Forster",
           3417,
           30
          ],
          [
           "Other work",
           "Justice",
           "John Galsworthy",
           10,
           3
          ],
          [
           "Other work",
           "Maradick at Forty: A Transition",
           "Hugh Walpole",
           3,
           3
          ],
          [
           "Other work",
           "None Other Gods",
           "Robert-Hugh Benson",
           7,
           1
          ],
          [
           "Other work",
           "Reginald in Russia and Other Sketches",
           "Saki",
           18,
           1
          ],
          [
           "Other work",
           "The Dramatic Works of John M. Synge",
           "John Millington Synge",
           3,
           4
          ],
          [
           "Other work",
           "The Elm-Tree on the Mall: A Chronicle of Our Own Times",
           "Anatole France",
           6,
           1
          ],
          [
           "Other work",
           "The Finer Grain",
           "Henry James",
           1,
           2
          ],
          [
           "Other work",
           "The History of Mr. Polly",
           "H. G. Wells",
           179,
           4
          ],
          [
           "Other work",
           "The King of the Dark Chamber",
           "Rabindranath Tagore",
           15,
           3
          ],
          [
           "Other work",
           "The Missing Delora",
           "E. Phillips Oppenheim",
           1,
           2
          ],
          [
           "Other work",
           "The New Machiavelli",
           "H. G. Wells",
           22,
           7
          ],
          [
           "Other work",
           "The Return",
           "Walter De la Mare",
           36,
           5
          ],
          [
           "Other work",
           "What's Wrong with the World",
           "G. K. Chesterton",
           242,
           1
          ],
          [
           "Other work",
           "Wicker Work Woman",
           "Anatole France",
           8,
           1
          ],
          [
           "Other work",
           "A Vagabond in the Caucasus: With Some Notes of His Experiences among the Russians",
           "Stephen Graham",
           4,
           1
          ],
          [
           "Other work",
           "Appreciations and Criticisms of the Works of Charles Dickens",
           "G. K. Chesterton",
           22,
           2
          ],
          [
           "Other work",
           "Creative Evolution",
           "Henri Bergson",
           66,
           1
          ],
          [
           "Other work",
           "Dan Russel the Fox: An Episode in the Life of Miss Rowan",
           "E. Œ. & Ross Somervile",
           1,
           1
          ],
          [
           "Other work",
           "Dawn O'Hara: The Girl Who Laughed",
           "Edna Ferber",
           48,
           4
          ],
          [
           "Other work",
           "Denry the Audacious",
           "Arnold Bennett",
           78,
           1
          ],
          [
           "Other work",
           "Hilda Lessways",
           "Arnold Bennett",
           14,
           4
          ],
          [
           "Other work",
           "In a German Pension",
           "Katherine Mansfield",
           121,
           8
          ],
          [
           "Other work",
           "Jennie Gerhardt",
           "Theodore Dreiser",
           156,
           4
          ],
          [
           "Other work",
           "Just Patty",
           "Jean Webster",
           83,
           1
          ],
          [
           "Other work",
           "Ladies Whose Bright Eyes: A Romance",
           "Ford Madox Ford",
           6,
           3
          ],
          [
           "Other work",
           "Mr. Perrin and Mr. Traill",
           "Hugh Walpole",
           8,
           2
          ],
          [
           "Other work",
           "Mrs. Rorer's New Cook Book: A Manual of Housekeeping",
           "Sarah Tyson Rorer",
           1,
           1
          ],
          [
           "Other work",
           "Riders to the Sea",
           "John Millington Synge",
           101,
           1
          ],
          [
           "Other work",
           "Siren Land",
           "Norman Douglas",
           7,
           6
          ],
          [
           "Other work",
           "Tales of the Uneasy",
           "Violet Hunt",
           2,
           2
          ],
          [
           "Other work",
           "The Card: A Story of Adventure in the Five Towns",
           "Arnold Bennett",
           78,
           2
          ],
          [
           "Other work",
           "The Doctor's Dilemma",
           "George Bernard Shaw",
           58,
           4
          ],
          [
           "Other work",
           "The Innocence of Father Brown",
           "G. K. Chesterton",
           1074,
           8
          ],
          [
           "Other work",
           "The Man-Made World; Or, Our Androcentric Culture",
           "Charlotte Perkins Gilman",
           16,
           2
          ],
          [
           "Other work",
           "The Patrician",
           "John Galsworthy",
           12,
           4
          ],
          [
           "Other work",
           "The Strength of the Strong",
           "Jack London",
           16,
           2
          ],
          [
           "Other work",
           "The White Peacock",
           "D. H. Lawrence",
           44,
           12
          ],
          [
           "Other work",
           "Under Western Eyes",
           "Joseph Conrad",
           250,
           11
          ],
          [
           "Other work",
           "What the Public Wants",
           "Arnold Bennett",
           1,
           1
          ],
          [
           "Other work",
           "Zuleika Dobson",
           "Max Beerbohm",
           359,
           12
          ],
          [
           "Other work",
           "'Twixt Land and Sea",
           "Joseph Conrad",
           25,
           1
          ],
          [
           "Other work",
           "A Christmas Garland",
           "Max Beerbohm",
           8,
           2
          ],
          [
           "Other work",
           "A Personal Record",
           "Joseph Conrad",
           22,
           2
          ],
          [
           "Other work",
           "At the Sign of the Reine Pédauque",
           "Anatole France",
           16,
           1
          ],
          [
           "Other work",
           "Buttered Side Down: Stories",
           "Edna Ferber",
           36,
           3
          ],
          [
           "Other work",
           "Carnival",
           "Compton Mackenzie",
           5,
           1
          ],
          [
           "Other work",
           "Financier",
           "Theodore Dreiser",
           239,
           4
          ],
          [
           "Other work",
           "Fountains in the Sand: Rambles Among the Oases of Tunisia",
           "Norman Douglas",
           13,
           1
          ],
          [
           "Other work",
           "Gitanjali",
           "Rabindranath Tagore",
           697,
           6
          ],
          [
           "Other work",
           "Landmarks in French Literature",
           "Giles Lytton Strachey",
           3,
           4
          ],
          [
           "Other work",
           "Manalive",
           "G. K. Chesterton",
           308,
           6
          ],
          [
           "Other work",
           "Plays by August Strindberg: First Series",
           "August Strindberg",
           2,
           3
          ],
          [
           "Other work",
           "The Charwoman's Daughter",
           "James Stephens",
           24,
           13
          ],
          [
           "Other work",
           "The Chink in the Armour",
           "Marie Belloc Lowndes",
           11,
           5
          ],
          [
           "Other work",
           "The Confession of a Fool",
           "August Strindberg",
           47,
           2
          ],
          [
           "Other work",
           "The Crock of Gold",
           "James Stephens",
           104,
           23
          ],
          [
           "Other work",
           "The Life of George Borrow",
           "Herbert George Jenkins",
           1,
           1
          ],
          [
           "Other work",
           "The Matador of the Five Towns and Other Stories",
           "Arnold Bennett",
           3,
           4
          ],
          [
           "Other work",
           "The Problems of Philosophy",
           "Bertrand Russell",
           664,
           2
          ],
          [
           "Other work",
           "The Psychology of Insanity",
           "Bernard Hart",
           3,
           1
          ],
          [
           "Other work",
           "The Sea and the Jungle",
           "H. M. Tomlinson",
           23,
           5
          ],
          [
           "Other work",
           "The Trespasser",
           "D. H. Lawrence",
           46,
           6
          ],
          [
           "Other work",
           "A Changed Man",
           "Thomas Hardy",
           15,
           1
          ],
          [
           "Other work",
           "Burning Daylight",
           "Jack London",
           73,
           1
          ],
          [
           "Other work",
           "Chance",
           "Joseph Conrad",
           62,
           4
          ],
          [
           "Other work",
           "Euripides and His Age",
           "Gilbert Murray",
           6,
           1
          ],
          [
           "Other work",
           "Fortitude",
           "Hugh Walpole",
           8,
           5
          ],
          [
           "Other work",
           "Gold",
           "Stewart Edward White",
           3,
           4
          ],
          [
           "Other work",
           "Jane Austen, Her Life and Letters: A Family Record",
           "Richard Arthur & Austen-Leigh Austen-Leigh",
           51,
           2
          ],
          [
           "Other work",
           "John Barleycorn",
           "Jack London",
           237,
           1
          ],
          [
           "Other work",
           "La mort",
           "Maurice Maeterlinck",
           7,
           1
          ],
          [
           "Other work",
           "My Friend's Book",
           "Anatole France",
           17,
           1
          ],
          [
           "Other work",
           "Plays by August Strindberg: Second Series",
           "August Strindberg",
           5,
           5
          ],
          [
           "Other work",
           "Roast Beef Medium: The Business Adventures of Emma McChesney",
           "Edna Ferber",
           37,
           1
          ],
          [
           "Other work",
           "Sons and Lovers",
           "D. H. Lawrence",
           2104,
           28
          ],
          [
           "Other work",
           "The Eighteen Nineties",
           "George Holbrook Jackson",
           2,
           9
          ],
          [
           "Other work",
           "The Gardener",
           "Rabindranath Tagore",
           120,
           3
          ],
          [
           "Other work",
           "The Interpretation of Dreams",
           "Sigmund Freud",
           1076,
           1
          ],
          [
           "Other work",
           "The Life of Francis Thompson",
           "Everard Meynell",
           1,
           5
          ],
          [
           "Other work",
           "The Little Nugget",
           "P. G. Wodehouse",
           108,
           3
          ],
          [
           "Other work",
           "The Lodger",
           "Marie Belloc Lowndes",
           330,
           4
          ],
          [
           "Other work",
           "The Night-Born",
           "Jack London",
           8,
           2
          ],
          [
           "Other work",
           "The Opinions of Jérôme Coignard",
           "Anatole France",
           1,
           2
          ],
          [
           "Other work",
           "The Passionate Friends",
           "H. G. Wells",
           19,
           4
          ],
          [
           "Other work",
           "The Regent: A Five Towns Story of Adventure in London",
           "Arnold Bennett",
           8,
           2
          ],
          [
           "Other work",
           "The Victorian Age in Literature",
           "G. K. Chesterton",
           29,
           4
          ],
          [
           "Other work",
           "Totem and Taboo",
           "Sigmund Freud",
           306,
           9
          ],
          [
           "Other work",
           "Winds of Doctrine: Studies in Contemporary Opinion",
           "George Santayana",
           1,
           2
          ],
          [
           "Other work",
           "Dubliners",
           "James Joyce",
           6463,
           49
          ],
          [
           "Other work",
           "Five Plays",
           "Lord Dunsany",
           7,
           6
          ],
          [
           "Other work",
           "North of Boston",
           "Robert Frost",
           86,
           1
          ],
          [
           "Other work",
           "Notes of a Son and Brother",
           "Henry James",
           3,
           1
          ],
          [
           "Other work",
           "Pygmalion: A Romance in Five Acts",
           "George Bernard Shaw",
           2592,
           1
          ],
          [
           "Other work",
           "Reminiscences of Tolstoy by his Son",
           "Ilya Tolstoy",
           4,
           1
          ],
          [
           "Other work",
           "Selected Prose of Oscar Wilde",
           "Oscar Wilde",
           7,
           1
          ],
          [
           "Other work",
           "Shallow Soil",
           "Knut Hamsun",
           13,
           1
          ],
          [
           "Other work",
           "Sinister Street",
           "Compton Mackenzie",
           14,
           10
          ],
          [
           "Other work",
           "Spoon River Anthology",
           "Edgar Lee Masters",
           759,
           4
          ],
          [
           "Other work",
           "Tender Buttons",
           "Gertrude Stein",
           449,
           1
          ],
          [
           "Other work",
           "Tertium Organum: The Third Canon of Thought: A Key to the Enigmas of the World",
           "Pyotr Demianovich Ouspensky",
           39,
           6
          ],
          [
           "Other work",
           "The Death of a Nobody",
           "Jules Romains",
           10,
           4
          ],
          [
           "Other work",
           "The Flying Inn",
           "G. K. Chesterton",
           71,
           2
          ],
          [
           "Other work",
           "The Lay Anthony: A Romance",
           "Joseph Hergesheimer",
           1,
           1
          ],
          [
           "Other work",
           "The Lonely Plough",
           "Constance Holme",
           4,
           6
          ],
          [
           "Other work",
           "The Mob",
           "John Galsworthy",
           3,
           5
          ],
          [
           "Other work",
           "The Pastor's Wife",
           "Elizabeth von Arnim",
           62,
           3
          ],
          [
           "Other work",
           "The Principle of Relativity",
           "Ebenezer Cunningham",
           1,
           1
          ],
          [
           "Other work",
           "The Prussian Officer and Other Stories",
           "D. H. Lawrence",
           27,
           2
          ],
          [
           "Other work",
           "The Psychopathology of Everyday Life",
           "Sigmund Freud",
           222,
           4
          ],
          [
           "Other work",
           "The Titan",
           "Theodore Dreiser",
           82,
           3
          ],
          [
           "Other work",
           "The Witch",
           "Mary Johnston",
           6,
           2
          ],
          [
           "Other work",
           "Vandover and the Brute",
           "Frank Norris",
           16,
           2
          ],
          [
           "Other work",
           "1914 and Other Poems",
           "Rupert Brooke",
           17,
           1
          ],
          [
           "Other work",
           "A Hilltop on the Marne",
           "Mildred Aldrich",
           13,
           1
          ],
          [
           "Other work",
           "Dear Enemy",
           "Jean Webster",
           1087,
           1
          ],
          [
           "Other work",
           "Fidelity: A Novel",
           "Susan Glaspell",
           51,
           3
          ],
          [
           "Other work",
           "Fifty-One Tales",
           "Lord Dunsany",
           106,
           4
          ],
          [
           "Other work",
           "The Freelands",
           "John Galsworthy",
           4,
           2
          ],
          [
           "Other work",
           "Guy and Pauline",
           "Compton Mackenzie",
           2,
           1
          ],
          [
           "Other work",
           "Jaffery",
           "William John Locke",
           3,
           1
          ],
          [
           "Other work",
           "Muslin",
           "George Moore",
           14,
           5
          ],
          [
           "Other work",
           "Of Human Bondage",
           "W. Somerset Maugham",
           3419,
           24
          ],
          [
           "Other work",
           "Old Calabria",
           "Norman Douglas",
           11,
           7
          ],
          [
           "Other work",
           "Pointed Roofs (Pilgrimage 1)",
           "Dorothy M. Richardson",
           50,
           47
          ],
          [
           "Other work",
           "Psmith, Journalist",
           "P. G. Wodehouse",
           212,
           2
          ],
          [
           "Other work",
           "Reveries over Childhood and Youth",
           "William Butler Yeats",
           7,
           4
          ],
          [
           "Other work",
           "Something Fresh",
           "P. G. Wodehouse",
           780,
           1
          ],
          [
           "Other work",
           "The \"Genius\"",
           "Theodore Dreiser",
           65,
           9
          ],
          [
           "Other work",
           "The Beast in the Jungle",
           "Henry James",
           376,
           1
          ],
          [
           "Other work",
           "The Collected Poems of Rupert Brooke",
           "Rupert Brooke",
           31,
           2
          ],
          [
           "Other work",
           "The Good Soldier",
           "Ford Madox Ford",
           1698,
           3
          ],
          [
           "Other work",
           "The Insulted and Injured",
           "Fyodor Dostoyevsky",
           1180,
           2
          ],
          [
           "Other work",
           "The Jacket",
           "Jack London",
           501,
           1
          ],
          [
           "Other work",
           "The Little Lady of the Big House",
           "Jack London",
           67,
           2
          ],
          [
           "Other work",
           "The Rainbow",
           "D. H. Lawrence",
           793,
           16
          ],
          [
           "Other work",
           "The Rainbow Trail: A Romance",
           "Zane Grey",
           136,
           1
          ],
          [
           "Other work",
           "The Rivet in Grandfather's Neck: A Comedy Of Limitations",
           "James Branch Cabell",
           3,
           1
          ],
          [
           "Other work",
           "The Song of the Lark",
           "Willa Cather",
           1029,
           6
          ],
          [
           "Other work",
           "The Story of Yone Noguchi: Told by Himself",
           "Yoné Noguchi",
           1,
           2
          ],
          [
           "Other work",
           "The Voyage Out",
           "Virginia Woolf",
           740,
           14
          ],
          [
           "Other work",
           "These Twain",
           "Arnold Bennett",
           12,
           3
          ],
          [
           "Other work",
           "Victory: An Island Tale",
           "Joseph Conrad",
           305,
           6
          ],
          [
           "Other work",
           "Within the Tides",
           "Joseph Conrad",
           18,
           1
          ],
          [
           "Other work",
           "Women and Economics",
           "Charlotte Perkins Gilman",
           20,
           1
          ],
          [
           "Other work",
           "A Bed of Roses",
           "Walter Lionel George",
           1,
           2
          ],
          [
           "Other work",
           "A Portrait of the Artist as a Young Man",
           "James Joyce",
           5804,
           61
          ],
          [
           "Other work",
           "Ancient Times: A History of the Early World",
           "James Henry Breasted",
           2,
           2
          ],
          [
           "Other work",
           "Androcles and the Lion",
           "George Bernard Shaw",
           48,
           4
          ],
          [
           "Other work",
           "Backwater (Pilgrimage 2)",
           "Dorothy M. Richardson",
           8,
           27
          ],
          [
           "Other work",
           "Bindle: Some Chapters in the Life of Joseph Bindle",
           "Herbert George Jenkins",
           5,
           1
          ],
          [
           "Other work",
           "Buddha and the Gospel of Buddhism",
           "Ananda Kentish Coomaraswamy",
           5,
           2
          ],
          [
           "Other work",
           "Chicago Poems",
           "Carl Sandburg",
           127,
           2
          ],
          [
           "Other work",
           "Gaudier-Brzeska: A Memoir",
           "Ezra Pound",
           4,
           1
          ],
          [
           "Other work",
           "Golden Arrow",
           "Mary Webb",
           12,
           5
          ],
          [
           "Other work",
           "Greenmantle",
           "John Buchan",
           373,
           3
          ],
          [
           "Other work",
           "Henry James",
           "Rebecca West",
           8,
           4
          ],
          [
           "Other work",
           "Inclinations",
           "Ronald Firbank",
           4,
           1
          ],
          [
           "Other work",
           "Limehouse Nights: Tales of Chinatown",
           "Thomas Burke",
           13,
           1
          ],
          [
           "Other work",
           "Lustra",
           "Ezra Pound",
           11,
           1
          ],
          [
           "Other work",
           "Mr. Britling Sees It Through",
           "H. G. Wells",
           46,
           1
          ],
          [
           "Other work",
           "Odette: A Fairy Tale for Weary People",
           "Ronald Firbank",
           4,
           1
          ],
          [
           "Other work",
           "Oscar Wilde: His Life and Confessions",
           "Frank Harris",
           27,
           11
          ],
          [
           "Other work",
           "Raymond or Life and Death",
           "Oliver Lodge",
           5,
           3
          ],
          [
           "Other work",
           "Seventeen: A Tale of Youth and Summer Time and the Baxter Family Especially William",
           "Booth Tarkington",
           81,
           2
          ],
          [
           "Other work",
           "Tales of Wonder",
           "Lord Dunsany",
           15,
           7
          ],
          [
           "Other work",
           "The Brook Kerith",
           "George Moore",
           2,
           5
          ],
          [
           "Other work",
           "The Dark Forest",
           "Hugh Walpole",
           7,
           4
          ],
          [
           "Other work",
           "The Darling and Other Stories",
           "Anton Chekhov",
           179,
           2
          ],
          [
           "Other work",
           "The European Anarchy",
           "G. Lowes Dickinson",
           2,
           1
          ],
          [
           "Other work",
           "The Hungry Stones and Other Stories",
           "Rabindranath Tagore",
           38,
           1
          ],
          [
           "Other work",
           "The Lion's Share",
           "Arnold Bennett",
           2,
           2
          ],
          [
           "Other work",
           "The Romantic Woman",
           "Mary Borden",
           1,
           3
          ],
          [
           "Other work",
           "The Voysey Inheritance",
           "Harley Granville-Barker",
           11,
           1
          ],
          [
           "Other work",
           "Twilight in Italy",
           "D. H. Lawrence",
           34,
           4
          ],
          [
           "Other work",
           "Uneasy Money",
           "P. G. Wodehouse",
           170,
           2
          ],
          [
           "Other work",
           "Windy McPherson's Son",
           "Sherwood Anderson",
           12,
           3
          ],
          [
           "Other work",
           "An Unsocial Socialist",
           "George Bernard Shaw",
           31,
           6
          ],
          [
           "Other work",
           "Fanny's First Play",
           "George Bernard Shaw",
           8,
           1
          ],
          [
           "Other work",
           "Frenzied Fiction",
           "Stephen Leacock",
           13,
           1
          ],
          [
           "Other work",
           "Gone to Earth",
           "Mary Webb",
           84,
           6
          ],
          [
           "Other work",
           "Gullible's Travels, Etc.",
           "Ring Lardner",
           14,
           1
          ],
          [
           "Other work",
           "Honeycomb (Pilgrimage 3)",
           "Dorothy M. Richardson",
           27,
           28
          ],
          [
           "Other work",
           "Introductory Lectures on Psycho-Analysis",
           "Sigmund Freud",
           323,
           6
          ],
          [
           "Other work",
           "King Coal: A Novel",
           "Upton Sinclair",
           59,
           2
          ],
          [
           "Other work",
           "Marching Men",
           "Sherwood Anderson",
           7,
           3
          ],
          [
           "Other work",
           "Married",
           "August Strindberg",
           25,
           1
          ],
          [
           "Other work",
           "Nationalism",
           "Rabindranath Tagore",
           201,
           3
          ],
          [
           "Other work",
           "Nocturne",
           "Frank Swinnerton",
           5,
           11
          ],
          [
           "Other work",
           "One Man's Initiation",
           "John Dos Passos",
           82,
           5
          ],
          [
           "Other work",
           "Renascence and Other Poems",
           "Edna St. Vincent Millay",
           115,
           1
          ],
          [
           "Other work",
           "Sonia: Between Two Worlds",
           "Stephen McKenna",
           4,
           5
          ],
          [
           "Other work",
           "South Wind",
           "Norman Douglas",
           51,
           33
          ],
          [
           "Other work",
           "Step-Sons of France",
           "Percival Christopher Wren",
           2,
           1
          ],
          [
           "Other work",
           "The Advanced Montessori Method",
           "Maria Montessori",
           2,
           2
          ],
          [
           "Other work",
           "The Dark Star",
           "R. W. Chambers",
           5,
           3
          ],
          [
           "Other work",
           "The Eternal Husband and Other Stories",
           "Fyodor Dostoyevsky",
           77,
           3
          ],
          [
           "Other work",
           "The Green Mirror",
           "Hugh Walpole",
           2,
           3
          ],
          [
           "Other work",
           "The Hundredth Chance",
           "Ethel M. Dell",
           9,
           3
          ],
          [
           "Other work",
           "The Lady with the Dog",
           "Anton Chekhov",
           443,
           2
          ],
          [
           "Other work",
           "The Loom of Youth",
           "Alec Waugh",
           27,
           5
          ],
          [
           "Other work",
           "The Sense of the Past",
           "Henry James",
           5,
           2
          ],
          [
           "Other work",
           "The Shadow Line: A Confession",
           "Joseph Conrad",
           318,
           10
          ],
          [
           "Other work",
           "The Three Black Pennys",
           "Joseph Hergesheimer",
           2,
           5
          ],
          [
           "Other work",
           "The Twilight of the Souls",
           "Louis Couperus",
           6,
           3
          ],
          [
           "Other work",
           "The Wild Swans at Coole",
           "William Butler Yeats",
           33,
           1
          ],
          [
           "Other work",
           "Trivia",
           "Logan Pearsall Smith",
           4,
           7
          ],
          [
           "Other work",
           "A Hundred and Seventy Chinese Poems",
           "",
           9,
           5
          ],
          [
           "Other work",
           "Adolphe",
           "Benjamin Constant",
           233,
           1
          ],
          [
           "Other work",
           "Cheerful by Request",
           "Edna Ferber",
           11,
           2
          ],
          [
           "Other work",
           "Cornhuskers",
           "Carl Sandburg",
           20,
           2
          ],
          [
           "Other work",
           "Eminent Victorians",
           "Giles Lytton Strachey",
           166,
           18
          ],
          [
           "Other work",
           "Exiles",
           "James Joyce",
           109,
           32
          ],
          [
           "Other work",
           "Far Away and Long Ago",
           "W. H. Hudson",
           61,
           9
          ],
          [
           "Other work",
           "Folklore in the Old Testament: Studies in Comparative Religion",
           "James George Frazier",
           9,
           7
          ],
          [
           "Other work",
           "Free and Other Stories",
           "Theodore Dreiser",
           2,
           6
          ],
          [
           "Other work",
           "Java Head",
           "Joseph Hergesheimer",
           7,
           6
          ],
          [
           "Other work",
           "Joan and Peter",
           "H. G. Wells",
           7,
           1
          ],
          [
           "Other work",
           "Married Love; or, Love in Marriage",
           "Marie Carmichael Stopes",
           30,
           2
          ],
          [
           "Other work",
           "Men in War",
           "Andreas Latzko",
           14,
           1
          ],
          [
           "Other work",
           "My Antonia",
           "Willa Cather",
           7854,
           16
          ],
          [
           "Other work",
           "Oriental Encounters: Palestine and Syria",
           "Marmaduke William Pickthall",
           10,
           1
          ],
          [
           "Other work",
           "Pavannes and Divisions",
           "Ezra Pound",
           3,
           6
          ],
          [
           "Other work",
           "Poems of Gerard Manley Hopkins",
           "Gerard Manley Hopkins",
           54,
           5
          ],
          [
           "Other work",
           "Tarr",
           "Wyndham Lewis",
           32,
           11
          ],
          [
           "Other work",
           "The Early Life and Adventures of Sylvia Scarlett",
           "Compton Mackenzie",
           11,
           12
          ],
          [
           "Other work",
           "The Four Horsemen of the Apocalypse",
           "Vincente Blasco Ibáñez",
           127,
           1
          ],
          [
           "Other work",
           "The Return of the Soldier",
           "Rebecca West",
           701,
           1
          ],
          [
           "Other work",
           "An Honest Thief",
           "Fyodor Dostoyevsky",
           141,
           2
          ],
          [
           "Other work",
           "Beyond Life",
           "James Branch Cabell",
           10,
           3
          ],
          [
           "Other work",
           "Donne's Sermons: Selected Passages",
           "John Donne",
           2,
           1
          ],
          [
           "Other work",
           "First Plays",
           "A. A. Milne",
           5,
           1
          ],
          [
           "Other work",
           "Free Air",
           "Sinclair Lewis",
           106,
           4
          ],
          [
           "Other work",
           "French Ways and Their Meaning",
           "Edith Wharton",
           28,
           1
          ],
          [
           "Other work",
           "Heartbreak House: A Fantasia in the Russian Manner on English Themes",
           "George Bernard Shaw",
           101,
           9
          ],
          [
           "Other work",
           "Introduction to Mathematical Philosophy",
           "Bertrand Russell",
           68,
           2
          ],
          [
           "Other work",
           "Jimmie Higgins",
           "Upton Sinclair",
           3,
           2
          ],
          [
           "Other work",
           "Jurgen: A Comedy of Justice",
           "James Branch Cabell",
           125,
           5
          ],
          [
           "Other work",
           "Kew Gardens",
           "Virginia Woolf",
           114,
           2
          ],
          [
           "Other work",
           "Linda Condon",
           "Joseph Hergesheimer",
           2,
           2
          ],
          [
           "Other work",
           "Living Alone",
           "Stella Benson",
           49,
           1
          ],
          [
           "Other work",
           "Mare Nostrum (Our Sea): A Novel",
           "Vincente Blasco Ibáñez",
           6,
           1
          ],
          [
           "Other work",
           "Mary Olivier: A Life",
           "May Sinclair",
           19,
           10
          ],
          [
           "Other work",
           "More Translations from the Chinese",
           "Arthur Waley",
           9,
           1
          ],
          [
           "Other work",
           "Mount Music",
           "E. Œ. & Ross Somervile",
           1,
           1
          ],
          [
           "Other work",
           "My Man Jeeves",
           "P. G. Wodehouse",
           2452,
           1
          ],
          [
           "Other work",
           "Night and Day",
           "Virginia Woolf",
           516,
           17
          ],
          [
           "Other work",
           "Prejudices: First Series",
           "H. L. Mencken",
           5,
           4
          ],
          [
           "Other work",
           "Sinister House",
           "Leland Hall",
           3,
           1
          ],
          [
           "Other work",
           "Sylvia & Michael",
           "Compton Mackenzie",
           3,
           11
          ],
          [
           "Other work",
           "Tales of Three Hemispheres",
           "Lord Dunsany",
           13,
           1
          ],
          [
           "Other work",
           "Ten Days That Shook the World",
           "John Reed",
           424,
           2
          ],
          [
           "Other work",
           "The Amazing Quest of Mr. Ernest Bliss",
           "E. Phillips Oppenheim",
           9,
           8
          ],
          [
           "Other work",
           "The American Language",
           "H. L. Mencken",
           42,
           7
          ],
          [
           "Other work",
           "The Arrow of Gold",
           "Joseph Conrad",
           27,
           3
          ],
          [
           "Other work",
           "The Book of a Naturalist",
           "W. H. Hudson",
           2,
           2
          ],
          [
           "Other work",
           "The Brass Check",
           "Upton Sinclair",
           19,
           3
          ],
          [
           "Other work",
           "The Caliph's Design",
           "Wyndham Lewis",
           1,
           1
          ],
          [
           "Other work",
           "The Economic Consequences of the Peace",
           "John Maynard Keynes",
           113,
           2
          ],
          [
           "Other work",
           "The Home and the World",
           "Rabindranath Tagore",
           365,
           3
          ],
          [
           "Other work",
           "The Journal of a Disappointed Man",
           "W. N. P. Barbellion",
           74,
           2
          ],
          [
           "Other work",
           "The Mark on the Wall",
           "Virginia Woolf",
           233,
           1
          ],
          [
           "Other work",
           "The Moon and Sixpence",
           "W. Somerset Maugham",
           1333,
           6
          ],
          [
           "Other work",
           "The Paliser Case",
           "Edgar Saltus",
           2,
           4
          ],
          [
           "Other work",
           "The Secret City: A Novel in Three Parts",
           "Hugh Walpole",
           5,
           2
          ],
          [
           "Other work",
           "The Strange Case of Mr. Jocelyn Thew",
           "E. Phillips Oppenheim",
           4,
           1
          ],
          [
           "Other work",
           "The Tunnel (Pilgrimage 4)",
           "Dorothy M. Richardson",
           11,
           25
          ],
          [
           "Other work",
           "The Undying Fire",
           "H. G. Wells",
           10,
           1
          ],
          [
           "Other work",
           "The Years Between",
           "Rudyard Kipling",
           5,
           1
          ],
          [
           "Other work",
           "Their Mutual Child",
           "P. G. Wodehouse",
           86,
           1
          ],
          [
           "Other work",
           "Time and Eternity: A Tale Of Three Exiles",
           "Gilbert Cannan",
           1,
           1
          ],
          [
           "Other work",
           "Twelve Men",
           "Theodore Dreiser",
           7,
           11
          ],
          [
           "Other work",
           "What Not: A Prophetic Comedy",
           "Rose Macaulay",
           15,
           4
          ],
          [
           "Other work",
           "Winesburg Ohio: A Group of Tales of Ohio Small Town Life",
           "Sherwood Anderson",
           2434,
           10
          ],
          [
           "Other work",
           "A Munster Twilight",
           "Daniel Corkery",
           1,
           3
          ],
          [
           "Other work",
           "A Voyage to Arcturus",
           "David Lindsay",
           393,
           1
          ],
          [
           "Other work",
           "And Even Now",
           "Max Beerbohm",
           8,
           5
          ],
          [
           "Other work",
           "Beyond the Horizon",
           "Eugene O'Neill",
           39,
           8
          ],
          [
           "Other work",
           "Bliss and Other Stories",
           "Katherine Mansfield",
           124,
           33
          ],
          [
           "Other work",
           "Darkwater: Voices from Within the Veil",
           "W. E. B. Du Bois",
           49,
           3
          ],
          [
           "Other work",
           "Dream Psychology: Psychoanalysis for Beginners",
           "Sigmund Freud",
           142,
           4
          ],
          [
           "Other work",
           "Europe and the Faith",
           "Hilaire Belloc",
           29,
           1
          ],
          [
           "Other work",
           "From Ritual to Romance",
           "Jessie Weston",
           56,
           5
          ],
          [
           "Other work",
           "In Chancery (The Forsyte Saga)",
           "John Galsworthy",
           91,
           2
          ],
          [
           "Other work",
           "In Morocco",
           "Edith Wharton",
           117,
           1
          ],
          [
           "Other work",
           "Interim (Pilgrimage 5)",
           "Dorothy M. Richardson",
           7,
           14
          ],
          [
           "Other work",
           "Irish Fairy Tales",
           "James Stephens",
           76,
           9
          ],
          [
           "Other work",
           "Jailed for Freedom",
           "Doris Stevens",
           28,
           1
          ],
          [
           "Other work",
           "Kora in Hell: Improvisations",
           "William Carlos Williams",
           11,
           4
          ],
          [
           "Other work",
           "Leda",
           "Aldous Huxley",
           8,
           2
          ],
          [
           "Other work",
           "Limbo",
           "Aldous Huxley",
           9,
           8
          ],
          [
           "Other work",
           "Main Street: The Story of Carol Kennicott",
           "Sinclair Lewis",
           1184,
           23
          ],
          [
           "Other work",
           "Miss Lulu Bett",
           "Zona Gale",
           28,
           4
          ],
          [
           "Other work",
           "Mitch Miller",
           "Edgar Lee Masters",
           1,
           1
          ],
          [
           "Other work",
           "Moon-Calf",
           "Floyd Dell",
           4,
           7
          ],
          [
           "Other work",
           "Nonsense Novels",
           "Stephen Leacock",
           58,
           5
          ],
          [
           "Other work",
           "Open the Door",
           "Catherine Carswell",
           12,
           3
          ],
          [
           "Other work",
           "Painted Veils",
           "James Huneker",
           1,
           4
          ],
          [
           "Other work",
           "Peacock Pie: A Book of Rhymes",
           "Walter De la Mare",
           18,
           2
          ],
          [
           "Other work",
           "The Poems of Wilfred Owen",
           "Wilfred Owen",
           135,
           4
          ],
          [
           "Other work",
           "Poor White",
           "Sherwood Anderson",
           53,
           9
          ],
          [
           "Other work",
           "Prejudices: Second Series",
           "H. L. Mencken",
           6,
           2
          ],
          [
           "Other work",
           "Saint's Progress",
           "John Galsworthy",
           4,
           7
          ],
          [
           "Other work",
           "San Cristobal de la Habana",
           "Joseph Hergesheimer",
           2,
           2
          ],
          [
           "Other work",
           "Scarhaven Keep",
           "Joseph Smith Fletcher",
           25,
           3
          ],
          [
           "Other work",
           "The Age of Innocence",
           "Edith Wharton",
           7586,
           6
          ],
          [
           "Other work",
           "The Autobiography of Margot Asquith",
           "Margot Asquith",
           2,
           9
          ],
          [
           "Other work",
           "The Captives: A Novel in Four Parts",
           "Hugh Walpole",
           6,
           7
          ],
          [
           "Other work",
           "The Cask",
           "Freeman Wills Crofts",
           81,
           1
          ],
          [
           "Other work",
           "The Chorus Girl and Other Stories",
           "Anton Chekhov",
           17,
           2
          ],
          [
           "Other work",
           "The Dream Detective",
           "Sax Rohmer",
           15,
           1
          ],
          [
           "Other work",
           "The Greek View of Life",
           "G. Lowes Dickinson",
           10,
           5
          ],
          [
           "Other work",
           "The House in Dormer Forest",
           "Mary Webb",
           11,
           3
          ],
          [
           "Other work",
           "The Letters of William James",
           "William James",
           3,
           1
          ],
          [
           "Other work",
           "The Life of Mrs. Robert Louis Stevenson",
           "Nellie Van de Grift Sanchez",
           6,
           2
          ],
          [
           "Other work",
           "The Little Warrior",
           "P. G. Wodehouse",
           132,
           1
          ],
          [
           "Other work",
           "The Lost Girl",
           "D. H. Lawrence",
           84,
           13
          ],
          [
           "Other work",
           "The Lost Mr. Linthwaite",
           "Joseph Smith Fletcher",
           3,
           3
          ],
          [
           "Other work",
           "The Outline of History",
           "H. G. Wells",
           66,
           7
          ],
          [
           "Other work",
           "The Problem Club",
           "Barry Pain",
           2,
           1
          ],
          [
           "Other work",
           "The Rescue: A Romance of the Shallows",
           "Joseph Conrad",
           24,
           6
          ],
          [
           "Other work",
           "The Romantic",
           "May Sinclair",
           4,
           2
          ],
          [
           "Other work",
           "The Sacred Wood: Essays on Poetry and Criticism",
           "T. S. Eliot",
           23,
           10
          ],
          [
           "Other work",
           "The Schoolmistress and Other Stories",
           "Anton Chekhov",
           13,
           1
          ],
          [
           "Other work",
           "The Story of Doctor Dolittle",
           "Hugh Lofting",
           1107,
           2
          ],
          [
           "Other work",
           "The Third Window",
           "Anne Douglas Sedgwick",
           3,
           1
          ],
          [
           "Other work",
           "The Tiger in the House",
           "Carl Van Vechten",
           31,
           1
          ],
          [
           "Other work",
           "This Side of Paradise",
           "F. Scott Fitzgerald",
           3837,
           4
          ],
          [
           "Other work",
           "Umbra: The Early Poems of Ezra Pound",
           "Ezra Pound",
           1,
           2
          ],
          [
           "Other work",
           "Winsome Winnie: And Other New Nonsense Novels",
           "Stephen Leacock",
           6,
           1
          ],
          [
           "Other work",
           "Woman and the New Race",
           "Margaret Higgins Sanger",
           26,
           2
          ],
          [
           "Other work",
           "Women in Love",
           "D. H. Lawrence",
           1143,
           33
          ],
          [
           "Other work",
           "Youth and the Bright Medusa",
           "Willa Cather",
           39,
           6
          ],
          [
           "Other work",
           "A Bill of Divorcement",
           "Clemence Dane",
           2,
           9
          ],
          [
           "Other work",
           "A Hasty Bunch",
           "Robert McAlmon",
           1,
           4
          ],
          [
           "Other work",
           "A Parody Outline of History",
           "Donald Ogden Stewart",
           2,
           1
          ],
          [
           "Other work",
           "A Virgin Heart: A Novel",
           "Rémy de Gourmont",
           1,
           1
          ],
          [
           "Other work",
           "Adam and Eve and Pinch Me",
           "A. E. Coppard",
           5,
           1
          ],
          [
           "Other work",
           "Alice Adams",
           "Booth Tarkington",
           321,
           5
          ],
          [
           "Other work",
           "Ariosto, Shakespeare and Corneille",
           "Benedetto Croce",
           1,
           1
          ],
          [
           "Other work",
           "Back to Methuselah (A Metabiological Pentateuch)",
           "George Bernard Shaw",
           27,
           9
          ],
          [
           "Other work",
           "Crome Yellow",
           "Aldous Huxley",
           582,
           18
          ],
          [
           "Other work",
           "Dangerous Ages",
           "Rose Macaulay",
           16,
           4
          ],
          [
           "Other work",
           "Deadlock (Pilgrimage 6)",
           "Dorothy M. Richardson",
           7,
           12
          ],
          [
           "Other work",
           "Ditte, Daughter of Man",
           "Martin Andersen-Nexø",
           2,
           2
          ],
          [
           "Other work",
           "East and West: The Collected Short Stories of W. Somerset Maugham",
           "W. Somerset Maugham",
           19,
           1
          ],
          [
           "Other work",
           "Four Plays for Dancers",
           "William Butler Yeats",
           2,
           2
          ],
          [
           "Other work",
           "From the Vasty Deep",
           "Marie Belloc Lowndes",
           3,
           1
          ],
          [
           "Other work",
           "Galusha the Magnificent",
           "Joseph Crosby Lincoln",
           4,
           1
          ],
          [
           "Other work",
           "Hail and Farewell!",
           "George Moore",
           1,
           1
          ],
          [
           "Other work",
           "Héloise and Abélard",
           "George Moore",
           3,
           11
          ],
          [
           "Other work",
           "Joanna Godden",
           "Sheila Kaye-Smith",
           9,
           4
          ],
          [
           "Other work",
           "Lords of the Housetops: Thirteen Cat Tales",
           "Carl Van Vechten",
           11,
           1
          ],
          [
           "Other work",
           "Memoirs of a Midget",
           "Walter De la Mare",
           41,
           6
          ],
          [
           "Other work",
           "Men, Women, and Boats",
           "Stephen Crane",
           2,
           6
          ],
          [
           "Other work",
           "Messer Marco Polo",
           "Donn Byrne",
           6,
           1
          ],
          [
           "Other work",
           "Monday or Tuesday",
           "Virginia Woolf",
           320,
           3
          ],
          [
           "Other work",
           "Notes on Life and Letters",
           "Joseph Conrad",
           3,
           5
          ],
          [
           "Other work",
           "Out of the Air",
           "Inez Haynes Gilmore",
           1,
           1
          ],
          [
           "Other work",
           "Plays by August Strindberg: Third Series",
           "August Strindberg",
           1,
           4
          ],
          [
           "Other work",
           "Poems 1918 – 21: Including Three Portraits and Four Cantos",
           "Ezra Pound",
           1,
           2
          ],
          [
           "Other work",
           "Psychoanalysis and the Unconscious",
           "D. H. Lawrence",
           14,
           4
          ],
          [
           "Other work",
           "Psychological Types",
           "Carl Gustav Jung",
           81,
           2
          ],
          [
           "Other work",
           "Rich Relatives",
           "Compton Mackenzie",
           4,
           6
          ],
          [
           "Other work",
           "Scaramouche",
           "Rafael Sabatini",
           730,
           1
          ],
          [
           "Other work",
           "Sea and Sardinia",
           "D. H. Lawrence",
           65,
           12
          ],
          [
           "Other work",
           "Selected Letters of Friedrich Nietzsche",
           "Friedrich Nietzsche",
           7,
           1
          ],
          [
           "Other work",
           "Six Short Plays",
           "John Galsworthy",
           2,
           2
          ],
          [
           "Other work",
           "Smoke and Steel",
           "Carl Sandburg",
           3,
           5
          ],
          [
           "Other work",
           "Tales from a Rolltop Desk",
           "Christopher Morley",
           3,
           4
          ],
          [
           "Other work",
           "The Analysis of Mind",
           "Bertrand Russell",
           38,
           3
          ],
          [
           "Other work",
           "The Brimming Cup",
           "Dorothy Canfield Fisher",
           16,
           2
          ],
          [
           "Other work",
           "The Craft of Fiction",
           "Percy Lubbock",
           20,
           1
          ],
          [
           "Other work",
           "The Emperor Jones",
           "Eugene O'Neill",
           85,
           13
          ],
          [
           "Other work",
           "The Hidden Force: A Story of Modern Java",
           "Louis Couperus",
           112,
           1
          ],
          [
           "Other work",
           "The Narrow House",
           "Evelyn Scott",
           7,
           4
          ],
          [
           "Other work",
           "The Pier-Glass",
           "Robert Graves",
           1,
           1
          ],
          [
           "Other work",
           "The Pleasures of Ignorance",
           "Robert Wilson Lynd",
           1,
           1
          ],
          [
           "Other work",
           "The Sheik",
           "E. M. Hull",
           236,
           2
          ],
          [
           "Other work",
           "The Trembling of a Leaf: Little Stories of the South Sea Islands",
           "W. Somerset Maugham",
           144,
           6
          ],
          [
           "Other work",
           "The Two Friends and Other Stories",
           "Ivan Turgenev",
           2,
           2
          ],
          [
           "Other work",
           "Three Soldiers",
           "John Dos Passos",
           127,
           19
          ],
          [
           "Other work",
           "Thus to Revisit: Some Reminiscences",
           "Ford Madox Ford",
           22,
           1
          ],
          [
           "Other work",
           "To Let (The Forsyte Saga)",
           "John Galsworthy",
           99,
           5
          ],
          [
           "Other work",
           "Vera",
           "Elizabeth von Arnim",
           199,
           2
          ],
          [
           "Other work",
           "Will Shakespeare: An Invention in Four Acts",
           "Clemence Dane",
           2,
           1
          ],
          [
           "Other work",
           "A Thousand and One Afternoons in Chicago",
           "Ben Hecht",
           29,
           4
          ],
          [
           "Other work",
           "Aaron's Rod",
           "D. H. Lawrence",
           73,
           13
          ],
          [
           "Other work",
           "Against the Grain",
           "Joris-Karl Huysmans",
           829,
           1
          ],
          [
           "Other work",
           "Anne Severn and the Fieldings",
           "May Sinclair",
           3,
           5
          ],
          [
           "Other work",
           "Babbitt",
           "Sinclair Lewis",
           1325,
           22
          ],
          [
           "Other work",
           "Beasts, Men and Gods",
           "Ferdynand Antoni Ossendowski",
           69,
           1
          ],
          [
           "Other work",
           "Beyond the Pleasure Principle",
           "Sigmund Freud",
           160,
           2
          ],
          [
           "Other work",
           "Book about Myself",
           "Theodore Dreiser",
           1,
           2
          ],
          [
           "Other work",
           "Casanova's Homecoming",
           "Arthur Schnitzler",
           44,
           2
          ],
          [
           "Other work",
           "Crainquebille",
           "Anatole France",
           5,
           1
          ],
          [
           "Other work",
           "Dandelion Days",
           "Henry Williamson",
           3,
           1
          ],
          [
           "Other work",
           "Dead Souls",
           "Nikolai Gogol",
           2796,
           10
          ],
          [
           "Other work",
           "December Love",
           "Robert Smythe Hichens",
           2,
           2
          ],
          [
           "Other work",
           "Fantasia of the Unconscious",
           "D. H. Lawrence",
           12,
           3
          ],
          [
           "Other work",
           "Gargoyles",
           "Ben Hecht",
           2,
           6
          ],
          [
           "Other work",
           "Geography and Plays",
           "Gertrude Stein",
           9,
           6
          ],
          [
           "Other work",
           "Hassan",
           "James Elroy Flecker",
           11,
           5
          ],
          [
           "Other work",
           "He Who Gets Slapped: A Play in Four Acts",
           "Leonid Andreyev",
           6,
           1
          ],
          [
           "Other work",
           "Huntingtower",
           "John Buchan",
           75,
           2
          ],
          [
           "Other work",
           "Jacob's Room",
           "Virginia Woolf",
           771,
           24
          ],
          [
           "Other work",
           "Kai Lung's Golden Hours",
           "Ernest Bramah",
           26,
           1
          ],
          [
           "Other work",
           "Knock Knock Knock and Other Stories",
           "Ivan Turgenev",
           1,
           1
          ],
          [
           "Other work",
           "La vie et l'habitude",
           "Samuel Butler",
           1,
           1
          ],
          [
           "Other work",
           "Lady into Fox",
           "David Garnett",
           204,
           18
          ],
          [
           "Other work",
           "Last Poems",
           "A. E. Housman",
           10,
           5
          ],
          [
           "Other work",
           "Mortal Coils",
           "Aldous Huxley",
           34,
           2
          ],
          [
           "Other work",
           "Mr. Prohack",
           "Arnold Bennett",
           5,
           3
          ],
          [
           "Other work",
           "Mystery at Geneva: An Improbable Tale of Singular Happenings",
           "Rose Macaulay",
           12,
           5
          ],
          [
           "Other work",
           "Napoleon",
           "Emil Ludwig",
           53,
           1
          ],
          [
           "Other work",
           "Not under Forty",
           "Willa Cather",
           27,
           2
          ],
          [
           "Other work",
           "On a Chinese Screen",
           "W. Somerset Maugham",
           48,
           9
          ],
          [
           "Other work",
           "On English Poetry: Being an Irregular Approach to the Psychology of This Art, from Evidence Mainly Subjective",
           "Robert Graves",
           3,
           6
          ],
          [
           "Other work",
           "One of Ours",
           "Willa Cather",
           739,
           5
          ],
          [
           "Other work",
           "Pender among the Residents",
           "Forrest Reid",
           1,
           1
          ],
          [
           "Other work",
           "Pilgrim's Rest",
           "Francis Brett Young",
           1,
           3
          ],
          [
           "Other work",
           "Piracy",
           "Michael Arlen",
           1,
           2
          ],
          [
           "Other work",
           "Rootabaga Stories",
           "Carl Sandburg",
           87,
           3
          ],
          [
           "Other work",
           "Secret History of the English Occupation of Egypt: Being a Personal Narrative of Events",
           "Wilfrid Scawen Blunt",
           7,
           1
          ],
          [
           "Other work",
           "Seven for a Secret: A Love Story",
           "Mary Webb",
           15,
           6
          ],
          [
           "Other work",
           "Since Cézanne",
           "Clive Bell",
           1,
           4
          ],
          [
           "Other work",
           "Slabs of the Sunburnt West",
           "Carl Sandburg",
           5,
           2
          ],
          [
           "Other work",
           "Stavrogin's Confession",
           "Fyodor Dostoyevsky",
           16,
           2
          ],
          [
           "Other work",
           "Swann's Way (À la recherche du temps perdu 1)",
           "Marcel Proust",
           3970,
           11
          ],
          [
           "Other work",
           "The Altar Steps",
           "Compton Mackenzie",
           2,
           2
          ],
          [
           "Other work",
           "The Camomile",
           "Catherine Carswell",
           5,
           2
          ],
          [
           "Other work",
           "The Cathedral: A Novel",
           "Hugh Walpole",
           10,
           8
          ],
          [
           "Other work",
           "The Clash",
           "Storm Jameson",
           1,
           3
          ],
          [
           "Other work",
           "The Diary of a Drug Fiend",
           "Aleister Crowley",
           142,
           3
          ],
          [
           "Other work",
           "The Enchanted April",
           "Elizabeth von Arnim",
           2965,
           7
          ],
          [
           "Other work",
           "The Enormous Room",
           "E. E. Cummings",
           219,
           14
          ],
          [
           "Other work",
           "The Forsyte Saga",
           "John Galsworthy",
           879,
           20
          ],
          [
           "Other work",
           "The Garden Party and Other Stories",
           "Katherine Mansfield",
           764,
           39
          ],
          [
           "Other work",
           "The Glimpses of the Moon",
           "Edith Wharton",
           362,
           10
          ],
          [
           "Other work",
           "The Goose-Man",
           "Jakob Wassermann",
           3,
           2
          ],
          [
           "Other work",
           "The Judge",
           "Rebecca West",
           15,
           6
          ],
          [
           "Other work",
           "The Life and Death of Harriet Frean",
           "May Sinclair",
           102,
           2
          ],
          [
           "Other work",
           "The Life and Letters of Walter H. Page",
           "Burton J. Hendrick",
           1,
           1
          ],
          [
           "Other work",
           "The Markenmore Mystery",
           "Joseph Smith Fletcher",
           6,
           1
          ],
          [
           "Other work",
           "The Negro in Our History",
           "Carter Godwin Woodson",
           2,
           1
          ],
          [
           "Other work",
           "The Poor Man",
           "Stella Benson",
           1,
           1
          ],
          [
           "Other work",
           "The Rayner-Slade Amalgamation",
           "Joseph Smith Fletcher",
           13,
           1
          ],
          [
           "Other work",
           "The Red House Mystery",
           "A. A. Milne",
           1254,
           5
          ],
          [
           "Other work",
           "The Secret Glory",
           "Arthur Machen",
           20,
           4
          ],
          [
           "Other work",
           "The Secret Places of the Heart",
           "H. G. Wells",
           11,
           1
          ],
          [
           "Other work",
           "The Waste Land",
           "T. S. Eliot",
           1257,
           2
          ],
          [
           "Other work",
           "Three Plays",
           "Luigi Pirandello",
           68,
           3
          ],
          [
           "Other work",
           "Ulysses",
           "James Joyce",
           7355,
           38
          ],
          [
           "Other work",
           "Vincent van Gogh: A Biographical Study",
           "Julius Meier-Graefe",
           18,
           1
          ],
          [
           "Other work",
           "Vocations",
           "Gerald O'Donovan",
           1,
           1
          ],
          [
           "Other work",
           "A Book of Burlesques",
           "H. L. Mencken",
           4,
           3
          ],
          [
           "Other work",
           "A Lost Lady",
           "Willa Cather",
           591,
           5
          ],
          [
           "Other work",
           "Antic Hay",
           "Aldous Huxley",
           165,
           21
          ],
          [
           "Other work",
           "Cane",
           "Jean Toomer",
           609,
           3
          ],
          [
           "Other work",
           "Collected Poems",
           "Vachel Lindsay",
           4,
           4
          ],
          [
           "Other work",
           "Escapade",
           "Evelyn Scott",
           2,
           5
          ],
          [
           "Other work",
           "Essays of a Biologist",
           "Julian Huxley",
           4,
           2
          ],
          [
           "Other work",
           "Fortune's Fool",
           "Rafael Sabatini",
           8,
           2
          ],
          [
           "Other work",
           "Harmonium",
           "Wallace Stevens",
           61,
           6
          ],
          [
           "Other work",
           "Horses and Men: Tales, Long and Short, from Our American Life",
           "Sherwood Anderson",
           7,
           3
          ],
          [
           "Other work",
           "Isles of Illusion: Letters from the South Seas",
           "Robert James Fletcher",
           6,
           3
          ],
          [
           "Other work",
           "Jeremy and Hamlet",
           "Hugh Walpole",
           2,
           3
          ],
          [
           "Other work",
           "Kangaroo",
           "D. H. Lawrence",
           69,
           11
          ],
          [
           "Other work",
           "Lummox",
           "Fannie Hurst",
           6,
           4
          ],
          [
           "Other work",
           "Many Marriages",
           "Sherwood Anderson",
           16,
           10
          ],
          [
           "Other work",
           "Mastro-don Gesualdo",
           "Giovanni Verga",
           78,
           3
          ],
          [
           "Other work",
           "Men Like Gods",
           "H. G. Wells",
           68,
           5
          ],
          [
           "Other work",
           "On the Margin",
           "Aldous Huxley",
           2,
           3
          ],
          [
           "Other work",
           "Poems",
           "Katherine Mansfield",
           10,
           3
          ],
          [
           "Other work",
           "Revolving Lights (Pilgrimage 7)",
           "Dorothy M. Richardson",
           4,
           16
          ],
          [
           "Other work",
           "Riceyman Steps",
           "Arnold Bennett",
           59,
           8
          ],
          [
           "Other work",
           "Scepticism and Animal Faith: Introduction to a System of Philosophy",
           "George Santayana",
           6,
           1
          ],
          [
           "Other work",
           "St. Francis of Assisi",
           "G. K. Chesterton",
           369,
           1
          ],
          [
           "Other work",
           "Streets of Night",
           "John Dos Passos",
           4,
           5
          ],
          [
           "Other work",
           "Studies in Classic American Literature",
           "D. H. Lawrence",
           61,
           2
          ],
          [
           "Other work",
           "Suspense",
           "Joseph Conrad",
           3,
           4
          ],
          [
           "Other work",
           "The Able McLaughlins",
           "Margaret Wilson",
           106,
           1
          ],
          [
           "Other work",
           "The Blind Bow-Boy",
           "Carl Van Vechten",
           6,
           5
          ],
          [
           "Other work",
           "The Charing Cross Mystery",
           "Joseph Smith Fletcher",
           18,
           1
          ],
          [
           "Other work",
           "The Dance of Life",
           "Havelock Ellis",
           3,
           9
          ],
          [
           "Other work",
           "The Devil in the Flesh",
           "Raymond Radiguet",
           379,
           3
          ],
          [
           "Other work",
           "The Doves' Nest and Other Stories",
           "Katherine Mansfield",
           11,
           14
          ],
          [
           "Other work",
           "The Eyes of Max Carrados",
           "Ernest Bramah",
           7,
           2
          ],
          [
           "Other work",
           "The Famous Tragedy of the Queen of Cornwall at Tintagel in Lyonnesse",
           "Thomas Hardy",
           3,
           1
          ],
          [
           "Other work",
           "The Florentine Dagger: A Novel for Amateur Detectives",
           "Ben Hecht",
           1,
           1
          ],
          [
           "Other work",
           "The Great American Novel",
           "William Carlos Williams",
           6,
           5
          ],
          [
           "Other work",
           "The Hairy Ape",
           "Eugene O'Neill",
           122,
           14
          ],
          [
           "Other work",
           "The Harp-Weaver and Other Poems",
           "Edna St. Vincent Millay",
           17,
           5
          ],
          [
           "Other work",
           "The Kang-He Vase",
           "Joseph Smith Fletcher",
           4,
           3
          ],
          [
           "Other work",
           "The Ladies of Lyndon",
           "Margaret Kennedy",
           19,
           10
          ],
          [
           "Other work",
           "The Ladybird",
           "D. H. Lawrence",
           28,
           1
          ],
          [
           "Other work",
           "The Last of the Valerii, Master Eustace, The Romance of Certain Old Clothes, and Other Tales",
           "Henry James",
           9,
           2
          ],
          [
           "Other work",
           "The Last of the Vikings",
           "Johan Bojer",
           11,
           1
          ],
          [
           "Other work",
           "The Meaning of Meaning: A Study of the Influence of Language upon Thought and of the Science of Symbolism",
           "C. K. & Richards Ogden",
           12,
           5
          ],
          [
           "Other work",
           "The Overcoat and Other Stories",
           "Nikolai Gogol",
           381,
           6
          ],
          [
           "Other work",
           "The Prospects of Industrial Civilization",
           "Bertrand Russell",
           3,
           2
          ],
          [
           "Other work",
           "The Rover",
           "Joseph Conrad",
           28,
           1
          ],
          [
           "Other work",
           "These Charming People",
           "Michael Arlen",
           3,
           2
          ],
          [
           "Other work",
           "Three Stories and Ten Poems",
           "Ernest Hemingway",
           52,
           1
          ],
          [
           "Other work",
           "Through the Wheat",
           "Thomas Boyd",
           14,
           1
          ],
          [
           "Other work",
           "Together",
           "Norman Douglas",
           3,
           4
          ],
          [
           "Other work",
           "Told by an Idiot",
           "Rose Macaulay",
           23,
           6
          ],
          [
           "Other work",
           "Uncanny Stories",
           "May Sinclair",
           28,
           4
          ],
          [
           "Other work",
           "White Nights and Other Stories",
           "Fyodor Dostoyevsky",
           77,
           1
          ],
          [
           "Other work",
           "Whose Body?",
           "Dorothy Sayers",
           2979,
           6
          ],
          [
           "Other work",
           "Windows: A Comedy in Three Acts for Idealists and Others",
           "John Galsworthy",
           1,
           2
          ],
          [
           "Other work",
           "A Nineteenth-Century Childhood",
           "Mary MacCarthy",
           2,
           1
          ],
          [
           "Other work",
           "A Passage to India",
           "E. M. Forster",
           3420,
           35
          ],
          [
           "Other work",
           "A Story Teller's Story",
           "Sherwood Anderson",
           7,
           5
          ],
          [
           "Other work",
           "A Wanderer in Paris",
           "E. V. Lucas",
           3,
           4
          ],
          [
           "Other work",
           "A. O. Barnabooth: His Diary",
           "Valery Larbaud",
           7,
           1
          ],
          [
           "Other work",
           "All God's Chillun Got Wings",
           "Eugene O'Neill",
           4,
           1
          ],
          [
           "Other work",
           "Buddenbrooks",
           "Thomas Mann",
           1333,
           10
          ],
          [
           "Other work",
           "C",
           "Maurice Baring",
           6,
           6
          ],
          [
           "Other work",
           "Children of the Age",
           "Knut Hamsun",
           3,
           2
          ],
          [
           "Other work",
           "Cold Harbour",
           "Francis Brett Young",
           9,
           1
          ],
          [
           "Other work",
           "Daedalus; Or, Science and the Future",
           "J. B. S. Haldane",
           8,
           2
          ],
          [
           "Other work",
           "Desire under the Elms: A Play in Three Parts",
           "Eugene O'Neill",
           77,
           6
          ],
          [
           "Other work",
           "Doctor Dolittle's Circus",
           "Hugh Lofting",
           29,
           2
          ],
          [
           "Other work",
           "Each in His Own Way",
           "Luigi Pirandello",
           2,
           1
          ],
          [
           "Other work",
           "Fraulein Else",
           "Arthur Schnitzler",
           183,
           3
          ],
          [
           "Other work",
           "Galapagos: World's End",
           "William Beebe",
           8,
           1
          ],
          [
           "Other work",
           "God's Orchid",
           "Hjalmar Bergman",
           15,
           1
          ],
          [
           "Other work",
           "Grey Face",
           "Sax Rohmer",
           4,
           1
          ],
          [
           "Other work",
           "Heliodora and Other Poems",
           "H. D.",
           3,
           1
          ],
          [
           "Other work",
           "Mårbacka",
           "Selma Lagerlöf",
           14,
           3
          ],
          [
           "Other work",
           "Medieval People",
           "Eileen Power",
           68,
           3
          ],
          [
           "Other work",
           "Mr. Bennett and Mrs. Brown",
           "Virginia Woolf",
           48,
           3
          ],
          [
           "Other work",
           "Orphan Island",
           "Rose Macaulay",
           9,
           7
          ],
          [
           "Other work",
           "Paul Bunyan",
           "Esther Shephard",
           7,
           1
          ],
          [
           "Other work",
           "Precious Bane: A Novel",
           "Mary Webb",
           496,
           14
          ],
          [
           "Other work",
           "Saint Joan: A Chronicle Play in Six Scenes and an Epilogue",
           "George Bernard Shaw",
           333,
           14
          ],
          [
           "Other work",
           "Saint Martin's Summer",
           "Rafael Sabatini",
           20,
           1
          ],
          [
           "Other work",
           "Sard Harker",
           "John Masefield",
           5,
           7
          ],
          [
           "Other work",
           "Selected Poems of Emily Dickinson",
           "Emily Dickinson",
           630,
           5
          ],
          [
           "Other work",
           "So Big",
           "Edna Ferber",
           906,
           2
          ],
          [
           "Other work",
           "Some Do Not...",
           "Ford Madox Ford",
           80,
           6
          ],
          [
           "Other work",
           "Something Childish and Other Stories",
           "Katherine Mansfield",
           47,
           11
          ],
          [
           "Other work",
           "Strait Is the Gate",
           "André Gide",
           374,
           4
          ],
          [
           "Other work",
           "Roan Stallion, Tamar, and Other Poems",
           "Robinson Jeffers",
           5,
           6
          ],
          [
           "Other work",
           "The Boy in the Bush",
           "D. H. Lawrence",
           5,
           3
          ],
          [
           "Other work",
           "The Complete Poems of Emily Dickinson",
           "Emily Dickinson",
           1253,
           2
          ],
          [
           "Other work",
           "The Constant Nymph",
           "Margaret Kennedy",
           63,
           17
          ],
          [
           "Other work",
           "The Dream: A Novel",
           "H. G. Wells",
           15,
           4
          ],
          [
           "Other work",
           "The Duchess of Wrexe, Her Decline and Death: A Romantic Commentary",
           "Hugh Walpole",
           5,
           5
          ],
          [
           "Other work",
           "The Face in the Night",
           "Edgar Wallace",
           9,
           4
          ],
          [
           "Other work",
           "The Fire in the Flint",
           "Walter Francis White",
           3,
           2
          ],
          [
           "Other work",
           "The Green Hat",
           "Michael Arlen",
           46,
           8
          ],
          [
           "Other work",
           "The Home-Maker",
           "Dorothy Canfield Fisher",
           196,
           3
          ],
          [
           "Other work",
           "The King of Elfland's Daughter",
           "Lord Dunsany",
           632,
           3
          ],
          [
           "Other work",
           "The Little French Girl",
           "Anne Douglas Sedgwick",
           2,
           3
          ],
          [
           "Other work",
           "The Locked Book",
           "Frank L. Packard",
           2,
           1
          ],
          [
           "Other work",
           "The London Adventure: An Essay in Wandering",
           "Arthur Machen",
           7,
           1
          ],
          [
           "Other work",
           "The Magic Mountain",
           "Thomas Mann",
           2513,
           12
          ],
          [
           "Other work",
           "The New Spoon River",
           "Edgar Lee Masters",
           10,
           1
          ],
          [
           "Other work",
           "The Old Ladies",
           "Hugh Walpole",
           11,
           8
          ],
          [
           "Other work",
           "The Plays of Ivan S. Turgenev",
           "Ivan Turgenev",
           1,
           1
          ],
          [
           "Other work",
           "The Terrible Hobby of Sir Joseph Londe",
           "E. Phillips Oppenheim",
           1,
           1
          ],
          [
           "Other work",
           "The Third Round",
           "H. C. McNeile",
           20,
           1
          ],
          [
           "Other work",
           "Triple Fugue",
           "Osbert Sitwell",
           3,
           3
          ],
          [
           "Other work",
           "Tulips and Chimneys",
           "E. E. Cummings",
           63,
           4
          ],
          [
           "Other work",
           "When the Bough Breaks and Other Stories",
           "Naomi Mitchison",
           2,
           2
          ],
          [
           "Other work",
           "The White Monkey (A Modern Comedy)",
           "John Galsworthy",
           65,
           13
          ],
          [
           "Other work",
           "Within a Budding Grove (À la recherche du temps perdu 2)",
           "Marcel Proust",
           1001,
           4
          ],
          [
           "Other work",
           "Woodsmoke",
           "Francis Brett Young",
           1,
           1
          ],
          [
           "Other work",
           "A Daughter of the Samurai",
           "Etsuko Sugimoto",
           40,
           5
          ],
          [
           "Other work",
           "Along the Road: Notes and Essays of a Tourist",
           "Aldous Huxley",
           11,
           3
          ],
          [
           "Other work",
           "Anatole France Himself",
           "Jean-Jacques Brousson",
           1,
           1
          ],
          [
           "Other work",
           "Annette and Sylvie: Being Volume One of the Soul Enchanted",
           "Romain Rolland",
           17,
           1
          ],
          [
           "Other work",
           "Arrowsmith",
           "Sinclair Lewis",
           465,
           10
          ],
          [
           "Other work",
           "Barren Ground",
           "Ellen Anderson Gholson Glasgow",
           38,
           4
          ],
          [
           "Other work",
           "Beau Geste",
           "Percival Christopher Wren",
           198,
           3
          ],
          [
           "Other work",
           "Cat's Cradle",
           "Maurice Baring",
           3,
           7
          ],
          [
           "Other work",
           "Christina Alberta's Father",
           "H. G. Wells",
           9,
           4
          ],
          [
           "Other work",
           "Color",
           "Countee Cullen",
           5,
           5
          ],
          [
           "Other work",
           "Death in Venice",
           "Thomas Mann",
           2428,
           5
          ],
          [
           "Other work",
           "Dostoevsky",
           "André Gide",
           22,
           2
          ],
          [
           "Other work",
           "Ducdame",
           "John Cowper Powys",
           6,
           7
          ],
          [
           "Other work",
           "In the American Grain",
           "William Carlos Williams",
           54,
           9
          ],
          [
           "Other work",
           "Jew Süss",
           "Lion Feuchtwanger",
           24,
           10
          ],
          [
           "Other work",
           "Jocasta and the Famished Cat",
           "Anatole France",
           3,
           1
          ],
          [
           "Other work",
           "Lady Susan",
           "Jane Austen",
           3481,
           2
          ],
          [
           "Other work",
           "Lafcadio's Adventures",
           "André Gide",
           170,
           6
          ],
          [
           "Other work",
           "Manhattan Transfer",
           "John Dos Passos",
           474,
           25
          ],
          [
           "Other work",
           "Mr. Tasker's Gods",
           "Theodore Francis Powys",
           5,
           5
          ],
          [
           "Other work",
           "Mrs. Dalloway",
           "Virginia Woolf",
           11535,
           35
          ],
          [
           "Other work",
           "My First Thirty Years",
           "Gertrude Beasley",
           7,
           2
          ],
          [
           "Other work",
           "No More Parades",
           "Ford Madox Ford",
           41,
           2
          ],
          [
           "Other work",
           "Original Letters from India (1779 – 1815)",
           "Eliza Fay",
           9,
           3
          ],
          [
           "Other work",
           "Porgy",
           "DuBose Heyward",
           43,
           3
          ],
          [
           "Other work",
           "Portrait of a Man with Red Hair",
           "Hugh Walpole",
           8,
           3
          ],
          [
           "Other work",
           "Red Oleanders",
           "Rabindranath Tagore",
           26,
           1
          ],
          [
           "Other work",
           "Sam the Sudden",
           "P. G. Wodehouse",
           45,
           7
          ],
          [
           "Other work",
           "Science and the Modern World",
           "Alfred North Whitehead",
           31,
           1
          ],
          [
           "Other work",
           "Segelfoss Town",
           "Knut Hamsun",
           3,
           2
          ],
          [
           "Other work",
           "St. Mawr",
           "D. H. Lawrence",
           65,
           8
          ],
          [
           "Other work",
           "The ABC of Relativity",
           "Bertrand Russell",
           83,
           3
          ],
          [
           "Other work",
           "The Carolinian",
           "Rafael Sabatini",
           10,
           1
          ],
          [
           "Other work",
           "The Common Reader",
           "Virginia Woolf",
           105,
           13
          ],
          [
           "Other work",
           "The Diaboliques",
           "Jules Barbey d'Aurevilly",
           86,
           5
          ],
          [
           "Other work",
           "The Diary of a Young Lady of Fashion in the Year 1764 – 1765",
           "Magdalen King-Hall",
           10,
           1
          ],
          [
           "Other work",
           "The Everlasting Man",
           "G. K. Chesterton",
           642,
           3
          ],
          [
           "Other work",
           "The Guermantes Way (À la recherche du temps perdu 3)",
           "Marcel Proust",
           710,
           5
          ],
          [
           "Other work",
           "The Informer",
           "Liam O'Flaherty",
           55,
           2
          ],
          [
           "Other work",
           "The Mother's Recompense",
           "Edith Wharton",
           82,
           1
          ],
          [
           "Other work",
           "The New Negro",
           "Alain Locke",
           23,
           4
          ],
          [
           "Other work",
           "The Painted Veil",
           "W. Somerset Maugham",
           3753,
           19
          ],
          [
           "Other work",
           "The Polyglots",
           "William Alexander Gerhardie",
           29,
           3
          ],
          [
           "Other work",
           "The Portrait of Zélide",
           "Geoffrey Scott",
           2,
           2
          ],
          [
           "Other work",
           "The Private Life of Helen of Troy",
           "John Erskine",
           19,
           7
          ],
          [
           "Other work",
           "The Professor's House",
           "Willa Cather",
           680,
           5
          ],
          [
           "Other work",
           "The Ring of the Löwenskölds",
           "Selma Lagerlöf",
           61,
           1
          ],
          [
           "Other work",
           "The Romantic '90s",
           "Richard Le Gallienne",
           1,
           2
          ],
          [
           "Other work",
           "The Shadow of the Gloomy East",
           "Ferdynand Antoni Ossendowski",
           3,
           1
          ],
          [
           "Other work",
           "The Shining Pyramid",
           "Arthur Machen",
           40,
           5
          ],
          [
           "Other work",
           "The Sinister Man",
           "Edgar Wallace",
           8,
           1
          ],
          [
           "Other work",
           "Thomas the Impostor",
           "Jean Cocteau",
           24,
           5
          ],
          [
           "Other work",
           "Those Barren Leaves",
           "Aldous Huxley",
           57,
           21
          ],
          [
           "Other work",
           "Thunder on the Left",
           "Christopher Morley",
           12,
           6
          ],
          [
           "Other work",
           "What's O'Clock",
           "Amy Lowell",
           3,
           3
          ],
          [
           "Other work",
           "Wild Geese",
           "Martha Ostenso",
           56,
           3
          ],
          [
           "Other work",
           "Women",
           "Booth Tarkington",
           3,
           5
          ],
          [
           "Other work",
           "XLI Poems",
           "E. E. Cummings",
           1,
           2
          ],
          [
           "Other work",
           "A Man Could Stand Up",
           "Ford Madox Ford",
           41,
           4
          ],
          [
           "Other work",
           "Adam's Breed",
           "Radclyffe Hall",
           5,
           2
          ],
          [
           "Other work",
           "All the Sad Young Men",
           "F. Scott Fitzgerald",
           63,
           9
          ],
          [
           "Other work",
           "Anglo-Saxon Poetry",
           "",
           4,
           4
          ],
          [
           "Other work",
           "Autobiographies",
           "William Butler Yeats",
           14,
           13
          ],
          [
           "Other work",
           "Before the Bombardment",
           "Osbert Sitwell",
           6,
           8
          ],
          [
           "Other work",
           "Bellarion the Fortunate: A Romance",
           "Rafael Sabatini",
           26,
           1
          ],
          [
           "Other work",
           "Clouds of Witness",
           "Dorothy Sayers",
           1266,
           4
          ],
          [
           "Other work",
           "Contemporary Russian Literature: 1881 – 1925",
           "D. S. Mirsky",
           1,
           1
          ],
          [
           "Other work",
           "Crewe Train",
           "Rose Macaulay",
           35,
           9
          ],
          [
           "Other work",
           "Crime and Custom in Savage Society",
           "Bronislaw Malinowski",
           18,
           1
          ],
          [
           "Other work",
           "Dark Laughter",
           "Sherwood Anderson",
           22,
           7
          ],
          [
           "Other work",
           "Death at Swaythling Court",
           "J. J. Connington",
           5,
           1
          ],
          [
           "Other work",
           "Dostoevsky Portrayed by His Wife: The Diary and Reminiscences of Mme Dostoevsky",
           "Anna Dostoevskaia",
           321,
           4
          ],
          [
           "Other work",
           "Drums",
           "James Boyd",
           14,
           1
          ],
          [
           "Other work",
           "Education and the Good Life",
           "Bertrand Russell",
           5,
           2
          ],
          [
           "Other work",
           "Evenings on a Farm Near Dikanka",
           "Nikolai Gogol",
           95,
           2
          ],
          [
           "Other work",
           "Galahad: Enough of His Life to Explain His Reputation",
           "John Erskine",
           1,
           2
          ],
          [
           "Other work",
           "Goodbye, Stranger",
           "Stella Benson",
           1,
           5
          ],
          [
           "Other work",
           "Hangman's House",
           "Donn Byrne",
           1,
           4
          ],
          [
           "Other work",
           "Her Son's Wife",
           "Dorothy Canfield Fisher",
           12,
           6
          ],
          [
           "Other work",
           "Hieroglyphics",
           "Arthur Machen",
           11,
           2
          ],
          [
           "Other work",
           "Inspector French and the Cheyne Mystery",
           "Freeman Wills Crofts",
           13,
           3
          ],
          [
           "Other work",
           "Introduction to Sally",
           "Elizabeth von Arnim",
           19,
           5
          ],
          [
           "Other work",
           "Jesting Pilate: The Diary of a Journey",
           "Aldous Huxley",
           23,
           9
          ],
          [
           "Other work",
           "Joanna Godden Married and Other Stories",
           "Sheila Kaye-Smith",
           1,
           2
          ],
          [
           "Other work",
           "King Goshawk and the Birds",
           "Eimar O'Duffy",
           3,
           2
          ],
          [
           "Other work",
           "Kyra Kyralina",
           "Panait Istrati",
           88,
           2
          ],
          [
           "Other work",
           "Lolly Willowes",
           "Sylvia Townsend Warner",
           856,
           9
          ],
          [
           "Other work",
           "Lord Raingo",
           "Arnold Bennett",
           4,
           4
          ],
          [
           "Other work",
           "Love in Greenwich Village",
           "Floyd Dell",
           1,
           1
          ],
          [
           "Other work",
           "Mantrap",
           "Sinclair Lewis",
           6,
           8
          ],
          [
           "Other work",
           "My Mortal Enemy",
           "Willa Cather",
           297,
           2
          ],
          [
           "Other work",
           "Nigger Heaven",
           "Carl Van Vechten",
           22,
           3
          ],
          [
           "Other work",
           "Notes on Democracy",
           "H. L. Mencken",
           40,
           2
          ],
          [
           "Other work",
           "On Education: Especially in Early Childhood",
           "Bertrand Russell",
           26,
           1
          ],
          [
           "Other work",
           "On the Trail of Ancient Man",
           "Roy Chapman Andrews",
           4,
           1
          ],
          [
           "Other work",
           "Religion in the Making: Lowell Lectures, 1926",
           "Alfred North Whitehead",
           26,
           3
          ],
          [
           "Other work",
           "Shoot! The Notebooks of Sarafino Gubbio, Cinematograph Operator",
           "Luigi Pirandello",
           36,
           1
          ],
          [
           "Other work",
           "Show Boat",
           "Edna Ferber",
           95,
           1
          ],
          [
           "Other work",
           "Soldiers' Pay",
           "William Faulkner",
           132,
           10
          ],
          [
           "Other work",
           "Sorrell and Son",
           "Warwick Deeping",
           19,
           6
          ],
          [
           "Other work",
           "Tampico",
           "Joseph Hergesheimer",
           1,
           3
          ],
          [
           "Other work",
           "The Art of Being Ruled",
           "Wyndham Lewis",
           6,
           3
          ],
          [
           "Other work",
           "The Bat: A Novel from the Play",
           "Mary Roberts & Hopwood Rinehart",
           135,
           1
          ],
          [
           "Other work",
           "The Benson Murder Case",
           "S. S. Van Dine",
           141,
           6
          ],
          [
           "Other work",
           "The Black Knight",
           "Ethel M. Dell",
           2,
           1
          ],
          [
           "Other work",
           "The Cabala",
           "Thornton Wilder",
           28,
           17
          ],
          [
           "Other work",
           "The Case of Mr. Crump",
           "Ludwig Lewisohn",
           13,
           7
          ],
          [
           "Other work",
           "The Casuarina Tree",
           "W. Somerset Maugham",
           19,
           8
          ],
          [
           "Other work",
           "The Dancing Floor",
           "John Buchan",
           25,
           3
          ],
          [
           "Other work",
           "The Decline of the West",
           "Oswald Spengler",
           125,
           2
          ],
          [
           "Other work",
           "The Eater of Darkness",
           "Robert Myron Coates",
           8,
           1
          ],
          [
           "Other work",
           "The Footsteps That Stopped",
           "A. Fielding",
           1,
           3
          ],
          [
           "Other work",
           "The Great God Brown",
           "Eugene O'Neill",
           13,
           9
          ],
          [
           "Other work",
           "The Hard-Boiled Virgin",
           "Frances Newman",
           6,
           4
          ],
          [
           "Other work",
           "The Heart of a Goof",
           "P. G. Wodehouse",
           97,
           3
          ],
          [
           "Other work",
           "The Heart of Emerson's Journals",
           "Ralph Waldo Emerson",
           4,
           1
          ],
          [
           "Other work",
           "The Incredulity of Father Brown",
           "G. K. Chesterton",
           104,
           4
          ],
          [
           "Other work",
           "The Mauve Decade",
           "Thomas Beer",
           6,
           2
          ],
          [
           "Other work",
           "The Murder of Roger Ackroyd",
           "Agatha Christie",
           13208,
           7
          ],
          [
           "Other work",
           "The Outline of Sanity",
           "G. K. Chesterton",
           26,
           1
          ],
          [
           "Other work",
           "The Perennial Bachelor",
           "Anne Parrish",
           1,
           3
          ],
          [
           "Other work",
           "The Plough and the Stars",
           "Sean O'Casey",
           40,
           5
          ],
          [
           "Other work",
           "The Plumed Serpent",
           "D. H. Lawrence",
           140,
           12
          ],
          [
           "Other work",
           "The Red and the Black",
           "Stendhal",
           2292,
           6
          ],
          [
           "Other work",
           "The Romantic Comedians",
           "Ellen Anderson Gholson Glasgow",
           7,
           1
          ],
          [
           "Other work",
           "The Silver Spoon (A Modern Comedy)",
           "John Galsworthy",
           36,
           9
          ],
          [
           "Other work",
           "The Silver Stallion",
           "James Branch Cabell",
           16,
           4
          ],
          [
           "Other work",
           "The Sun Also Rises",
           "Ernest Hemingway",
           13951,
           27
          ],
          [
           "Other work",
           "The Time of Man",
           "Elizabeth Madox Roberts",
           17,
           4
          ],
          [
           "Other work",
           "The Torrents of Spring",
           "Ernest Hemingway",
           339,
           3
          ],
          [
           "Other work",
           "The Weary Blues",
           "Langston Hughes",
           110,
           4
          ],
          [
           "Other work",
           "The Well of Loneliness",
           "Radclyffe Hall",
           935,
           16
          ],
          [
           "Other work",
           "The World of William Clissold",
           "H. G. Wells",
           3,
           6
          ],
          [
           "Other work",
           "Today and Tomorrow",
           "Henry Ford",
           16,
           3
          ],
          [
           "Other work",
           "White Buildings",
           "Hart Crane",
           21,
           4
          ],
          [
           "Other work",
           "Yellow Shadows",
           "Sax Rohmer",
           3,
           2
          ],
          [
           "Other work",
           "A Good Woman",
           "Louis Bromfield",
           3,
           4
          ],
          [
           "Other work",
           "A Modern Comedy",
           "John Galsworthy",
           91,
           1
          ],
          [
           "Other work",
           "An Experiment with Time",
           "J. W. Dunne",
           37,
           3
          ],
          [
           "Other work",
           "Aspects of the Novel",
           "E. M. Forster",
           376,
           11
          ],
          [
           "Other work",
           "Beethoven: His Spiritual Development",
           "J. W. N. Sullivan",
           21,
           1
          ],
          [
           "Other work",
           "Bismarck: The Trilogy of a Fighter",
           "Emil Ludwig",
           6,
           1
          ],
          [
           "Other work",
           "But Gentlemen Marry Brunettes",
           "Anita Loos",
           27,
           2
          ],
          [
           "Other work",
           "By Request",
           "Ethel M. Dell",
           2,
           1
          ],
          [
           "Other work",
           "Celibate Lives",
           "George Moore",
           1,
           4
          ],
          [
           "Other work",
           "Daphne Adeane",
           "Maurice Baring",
           2,
           10
          ],
          [
           "Other work",
           "Death Comes for the Archbishop",
           "Willa Cather",
           2950,
           10
          ],
          [
           "Other work",
           "Decadence",
           "Maxim Gorky",
           38,
           2
          ],
          [
           "Other work",
           "Dusty Answer",
           "Rosamond Lehmann",
           98,
           21
          ],
          [
           "Other work",
           "Elmer Gantry",
           "Sinclair Lewis",
           507,
           13
          ],
          [
           "Other work",
           "Genghis Khan: Emperor of All Men",
           "Harold Lamb",
           58,
           4
          ],
          [
           "Other work",
           "Genius and Character",
           "Emil Ludwig",
           2,
           3
          ],
          [
           "Other work",
           "Go She Must!",
           "David Garnett",
           1,
           3
          ],
          [
           "Other work",
           "Jalna",
           "Mazo De la Roche",
           88,
           16
          ],
          [
           "Other work",
           "Jeremy at Crale",
           "Hugh Walpole",
           1,
           4
          ],
          [
           "Other work",
           "John Sargent",
           "Evan Charteris",
           2,
           1
          ],
          [
           "Other work",
           "Lawrence and the Arabs",
           "Robert Graves",
           26,
           7
          ],
          [
           "Other work",
           "Lazarus Laughed",
           "Eugene O'Neill",
           7,
           2
          ],
          [
           "Other work",
           "Lost Ecstasy: A Novel",
           "Mary Roberts Rinehart",
           1,
           4
          ],
          [
           "Other work",
           "Lud-in-the-Mist",
           "Hope Mirrlees",
           746,
           2
          ],
          [
           "Other work",
           "Marco Millions: A Play",
           "Eugene O'Neill",
           2,
           1
          ],
          [
           "Other work",
           "Men without Women",
           "Ernest Hemingway",
           757,
           26
          ],
          [
           "Other work",
           "Mornings in Mexico",
           "D. H. Lawrence",
           34,
           4
          ],
          [
           "Other work",
           "Mr. Fortune's Maggot",
           "Sylvia Townsend Warner",
           21,
           1
          ],
          [
           "Other work",
           "Mr. Weston's Good Wine",
           "Theodore Francis Powys",
           34,
           1
          ],
          [
           "Other work",
           "Murder in the Maze",
           "J. J. Connington",
           35,
           2
          ],
          [
           "Other work",
           "My Journey to Lhasa",
           "Alexandra David-Néel",
           163,
           6
          ],
          [
           "Other work",
           "My Life",
           "Isadora Duncan",
           103,
           17
          ],
          [
           "Other work",
           "Oil!",
           "Upton Sinclair",
           655,
           5
          ],
          [
           "Other work",
           "Orient Express",
           "John Dos Passos",
           12,
           2
          ],
          [
           "Other work",
           "Pomes Penyeach",
           "James Joyce",
           31,
           4
          ],
          [
           "Other work",
           "Possible Worlds and Other Essays",
           "J. B. S. Haldane",
           5,
           1
          ],
          [
           "Other work",
           "Proper Studies",
           "Aldous Huxley",
           5,
           3
          ],
          [
           "Other work",
           "Revolt in the Desert",
           "T. E. Lawrence",
           28,
           3
          ],
          [
           "Other work",
           "Something about Eve: A Comedy of Fig-leaves",
           "James Branch Cabell",
           4,
           2
          ],
          [
           "Other work",
           "Symbolism: Its Meaning and Effect",
           "Alfred North Whitehead",
           7,
           3
          ],
          [
           "Other work",
           "Tarka the Otter: His Joyful Water-life & Death in the Country of the Two Rivers",
           "Henry Williamson",
           156,
           1
          ],
          [
           "Other work",
           "The Autobiography of an Ex-Colored Man",
           "James Weldon Johnson",
           595,
           2
          ],
          [
           "Other work",
           "The Belief of Catholics",
           "Ronald Arbuthnott Knox",
           8,
           1
          ],
          [
           "Other work",
           "The Bellamy Trial",
           "Frances Noyes Hart",
           50,
           2
          ],
          [
           "Other work",
           "The Blessing of Pan",
           "Lord Dunsany",
           9,
           1
          ],
          [
           "Other work",
           "The Bridge of San Luis Rey",
           "Thornton Wilder",
           2177,
           15
          ],
          [
           "Other work",
           "The Canary Murder Case",
           "S. S. Van Dine",
           78,
           7
          ],
          [
           "Other work",
           "The Constant Wife: A Comedy in Three Acts",
           "W. Somerset Maugham",
           51,
           2
          ],
          [
           "Other work",
           "The Counterfeiters",
           "André Gide",
           352,
           5
          ],
          [
           "Other work",
           "The Grandmothers: A Family Portrait",
           "Glenway Wescott",
           15,
           5
          ],
          [
           "Other work",
           "The Plutocrat",
           "Booth Tarkington",
           5,
           3
          ],
          [
           "Other work",
           "The Poems and Prophecies of William Blake",
           "William Blake",
           265,
           1
          ],
          [
           "Other work",
           "The Return of Don Quixote",
           "G. K. Chesterton",
           23,
           4
          ],
          [
           "Other work",
           "The Road to Xanadu",
           "John Livingston Lowes",
           2,
           6
          ],
          [
           "Other work",
           "The Secret of Father Brown",
           "G. K. Chesterton",
           75,
           3
          ],
          [
           "Other work",
           "The Small Bachelor",
           "P. G. Wodehouse",
           135,
           1
          ],
          [
           "Other work",
           "The Ugly Duchess",
           "Lion Feuchtwanger",
           27,
           4
          ],
          [
           "Other work",
           "The Wild Body",
           "Wyndham Lewis",
           2,
           2
          ],
          [
           "Other work",
           "The Woman Who Stole Everything and Other Stories",
           "Arnold Bennett",
           3,
           7
          ],
          [
           "Other work",
           "The Wreck",
           "Rabindranath Tagore",
           112,
           2
          ],
          [
           "Other work",
           "Time and Western Man",
           "Wyndham Lewis",
           2,
           9
          ],
          [
           "Other work",
           "Tinker's Leave",
           "Maurice Baring",
           1,
           5
          ],
          [
           "Other work",
           "To the Lighthouse",
           "Virginia Woolf",
           8696,
           26
          ],
          [
           "Other work",
           "Trader Horn: Being the Life and Works of Aloysius Horn",
           "Alfred Aloysius Horn",
           5,
           1
          ],
          [
           "Other work",
           "Trollope: A Commentary",
           "Michael Sadleir",
           1,
           2
          ],
          [
           "Other work",
           "Twilight Sleep",
           "Edith Wharton",
           107,
           2
          ],
          [
           "Other work",
           "Two Forsyte Interludes (The Forsyte Saga)",
           "John Galsworthy",
           3,
           1
          ],
          [
           "Other work",
           "Unnatural Death",
           "Dorothy Sayers",
           1000,
           12
          ],
          [
           "Other work",
           "Vestal Fire",
           "Compton Mackenzie",
           6,
           12
          ],
          [
           "Other work",
           "A Voyage to Pagany",
           "William Carlos Williams",
           3,
           2
          ],
          [
           "Other work",
           "All Kneeling",
           "Anne Parrish",
           3,
           1
          ],
          [
           "Other work",
           "Anarchism Is Not Enough",
           "Laura Riding",
           6,
           1
          ],
          [
           "Other work",
           "Armed with Madness",
           "Mary Butts",
           16,
           10
          ],
          [
           "Other work",
           "Ashenden: Or the British Agent",
           "W. Somerset Maugham",
           295,
           4
          ],
          [
           "Other work",
           "Boston",
           "Upton Sinclair",
           18,
           6
          ],
          [
           "Other work",
           "Caspar Hauser",
           "Jakob Wassermann",
           18,
           1
          ],
          [
           "Other work",
           "Cavalleria Rusticana and Other Stories",
           "Giovanni Verga",
           13,
           1
          ],
          [
           "Other work",
           "Dead Lovers Are Faithful Lovers",
           "Frances Newman",
           1,
           3
          ],
          [
           "Other work",
           "Decline and Fall",
           "Evelyn Waugh",
           883,
           1
          ],
          [
           "Other work",
           "Elizabeth and Essex: A Tragic History",
           "Giles Lytton Strachey",
           28,
           23
          ],
          [
           "Other work",
           "Extraordinary Women: Theme and Variations",
           "Compton Mackenzie",
           3,
           3
          ],
          [
           "Other work",
           "For Lancelot Andrewes: Essays on Style and Order",
           "T. S. Eliot",
           3,
           7
          ],
          [
           "Other work",
           "Fourteen Great Detective Stories",
           "",
           2,
           5
          ],
          [
           "Other work",
           "Good-bye, Wisconsin",
           "Glenway Wescott",
           3,
           1
          ],
          [
           "Other work",
           "Home to Harlem",
           "Claude McKay",
           72,
           5
          ],
          [
           "Other work",
           "Inspector French's Case Book",
           "Freeman Wills Crofts",
           53,
           5
          ],
          [
           "Other work",
           "John Brown's Body",
           "Stephen Vincent Benét",
           41,
           1
          ],
          [
           "Other work",
           "Ladies Almanack: Showing Their Signs and Their Tides; Their Moons and Their Changes; the Seasons as It Is with Them; Their Eclipses and Equinoxes; as well as a Full Record of Diurnal and Nocturnal Distempers",
           "Djuna Barnes",
           31,
           2
          ],
          [
           "Other work",
           "Lady Chatterley's Lover",
           "D. H. Lawrence",
           5474,
           20
          ],
          [
           "Other work",
           "Last Post",
           "Ford Madox Ford",
           31,
           3
          ],
          [
           "Other work",
           "Lord Peter Views the Body",
           "Dorothy Sayers",
           379,
           8
          ],
          [
           "Other work",
           "Marie Antoinette",
           "Hilaire Belloc",
           5,
           1
          ],
          [
           "Other work",
           "Mirgorod",
           "Nikolai Gogol",
           23,
           1
          ],
          [
           "Other work",
           "Mr. Blettsworthy on Rampole Island",
           "H. G. Wells",
           10,
           1
          ],
          [
           "Other work",
           "Mystery at Lynden Sands",
           "J. J. Connington",
           6,
           2
          ],
          [
           "Other work",
           "Nadja",
           "André Breton",
           562,
           1
          ],
          [
           "Other work",
           "Orlando: A Biography",
           "Virginia Woolf",
           4631,
           18
          ],
          [
           "Other work",
           "Point Counter Point",
           "Aldous Huxley",
           352,
           34
          ],
          [
           "Other work",
           "Ryder",
           "Djuna Barnes",
           17,
           1
          ],
          [
           "Other work",
           "Safar Nameh, Persian Pictures: A Book of Travel",
           "Gertrude Lowthian Bell",
           2,
           2
          ],
          [
           "Other work",
           "Scarlet Sister Mary",
           "Julia Mood Peterkin",
           84,
           3
          ],
          [
           "Other work",
           "Selected Poems",
           "Ezra Pound",
           121,
           6
          ],
          [
           "Other work",
           "She Who Sleeps",
           "Sax Rohmer",
           2,
           2
          ],
          [
           "Other work",
           "Skin O' My Tooth: His Memoirs, by His Confidential Clerk",
           "Baroness Orczy",
           2,
           2
          ],
          [
           "Other work",
           "Spider Boy: A Scenario for a Moving Picture",
           "Carl Van Vechten",
           3,
           2
          ],
          [
           "Other work",
           "Strange Interlude",
           "Eugene O'Neill",
           28,
           9
          ],
          [
           "Other work",
           "Strange Necessity: Essays and Reviews",
           "Rebecca West",
           1,
           3
          ],
          [
           "Other work",
           "Swan Song (A Modern Comedy)",
           "John Galsworthy",
           45,
           15
          ],
          [
           "Other work",
           "Tamerlane the Earth Shaker",
           "Harold Lamb",
           32,
           1
          ],
          [
           "Other work",
           "The Case of Sergeant Grischa",
           "Arnold Zweig",
           22,
           1
          ],
          [
           "Other work",
           "The Case with Nine Solutions",
           "J. J. Connington",
           8,
           7
          ],
          [
           "Other work",
           "The Childermass",
           "Wyndham Lewis",
           7,
           3
          ],
          [
           "Other work",
           "The Children",
           "Edith Wharton",
           101,
           3
          ],
          [
           "Other work",
           "The Closed Garden",
           "Julien Green",
           13,
           3
          ],
          [
           "Other work",
           "The Dreadful Night",
           "Ben Ames Williams",
           2,
           2
          ],
          [
           "Other work",
           "The Eternal Moment",
           "E. M. Forster",
           22,
           8
          ],
          [
           "Other work",
           "The Footsteps at the Lock",
           "Ronald Arbuthnott Knox",
           27,
           2
          ],
          [
           "Other work",
           "The Future of an Illusion",
           "Sigmund Freud",
           361,
           1
          ],
          [
           "Other work",
           "The Greene Murder Case",
           "S. S. Van Dine",
           61,
           3
          ],
          [
           "Other work",
           "The Gunner",
           "Edgar Wallace",
           2,
           1
          ],
          [
           "Other work",
           "The Harbor",
           "Ernest Poole",
           19,
           1
          ],
          [
           "Other work",
           "The Hounds of God",
           "Rafael Sabatini",
           4,
           1
          ],
          [
           "Other work",
           "The House across the Way",
           "Foxhall Daingerfield",
           3,
           1
          ],
          [
           "Other work",
           "The Intelligent Woman's Guide to Socialism, Capitalism, Sovietism, and Fascism",
           "George Bernard Shaw",
           16,
           3
          ],
          [
           "Other work",
           "The Island Within",
           "Ludwig Lewisohn",
           5,
           4
          ],
          [
           "Other work",
           "The Man Who Knew Coolidge: Being the Soul of Lowell Schmaltz, Constructive and Nordic Citizen",
           "Sinclair Lewis",
           8,
           6
          ],
          [
           "Other work",
           "The Mystery of the Blue Train",
           "Agatha Christie",
           2573,
           11
          ],
          [
           "Other work",
           "The Old Dark House",
           "J. B. Priestley",
           59,
           2
          ],
          [
           "Other work",
           "The Orator",
           "Edgar Wallace",
           4,
           1
          ],
          [
           "Other work",
           "The Road to Buenos Ayres",
           "Albert Londres",
           2,
           1
          ],
          [
           "Other work",
           "The Sea Mystery: An Inspector French Case",
           "Freeman Wills Crofts",
           14,
           2
          ],
          [
           "Other work",
           "The Silver Thorn: A Book of Stories",
           "Hugh Walpole",
           3,
           2
          ],
          [
           "Other work",
           "The Story of the Gypsies",
           "Konrad Bercovici",
           2,
           1
          ],
          [
           "Other work",
           "The Strange Case of Miss Annie Spragg",
           "Louis Bromfield",
           5,
           2
          ],
          [
           "Other work",
           "The Strange Vanguard: A Fantasia",
           "Arnold Bennett",
           3,
           2
          ],
          [
           "Other work",
           "The Unpleasantness at the Bellona Club",
           "Dorothy Sayers",
           711,
           2
          ],
          [
           "Other work",
           "The Velvet Hand: New Madame Storey Mysteries",
           "Hulbert Footner",
           3,
           1
          ],
          [
           "Other work",
           "The Vicar's Daughter",
           "Emily Hilda Young",
           10,
           1
          ],
          [
           "Other work",
           "The Wild Party",
           "Joseph Moncure March",
           151,
           3
          ],
          [
           "Other work",
           "The Woman Who Rode Away",
           "D. H. Lawrence",
           27,
           4
          ],
          [
           "Other work",
           "The Women at the Pump",
           "Knut Hamsun",
           20,
           1
          ],
          [
           "Other work",
           "Two Flights Up",
           "Mary Roberts Rinehart",
           5,
           3
          ],
          [
           "Other work",
           "Undertones of War",
           "Edmund Blunden",
           54,
           1
          ],
          [
           "Other work",
           "What Is Love?",
           "E. M. Delafield",
           3,
           6
          ],
          [
           "Other work",
           "Wintersmoon",
           "Hugh Walpole",
           5,
           6
          ],
          [
           "Other work",
           "A Farewell to Arms",
           "Ernest Hemingway",
           10601,
           28
          ],
          [
           "Other work",
           "A High Wind in Jamaica",
           "Richard Hughes",
           917,
           19
          ],
          [
           "Other work",
           "A Room of One's Own",
           "Virginia Woolf",
           9548,
           19
          ],
          [
           "Other work",
           "An Elizabethan Journal",
           "G. B. Harrison",
           2,
           4
          ],
          [
           "Other work",
           "Awake and Rehearse: Selected Short Stories of Louis Bromfield",
           "Louis Bromfield",
           3,
           2
          ],
          [
           "Other work",
           "Banjo: A Story without a Plot",
           "Claude McKay",
           28,
           5
          ],
          [
           "Other work",
           "Beethoven the Creator",
           "Romain Rolland",
           39,
           1
          ],
          [
           "Other work",
           "Cimarron",
           "Edna Ferber",
           83,
           2
          ],
          [
           "Other work",
           "Cross Currents in English Literature of the XVIIth Century; Or, the World, the Flesh & the Spirit, Their Actions and Reactions",
           "H. J. C. Grierson",
           1,
           3
          ],
          [
           "Other work",
           "Daughter of Earth",
           "Agnes Smedley",
           45,
           4
          ],
          [
           "Other work",
           "Dear Judas",
           "Robinson Jeffers",
           2,
           1
          ],
          [
           "Other work",
           "Death of a Hero",
           "Richard Aldington",
           58,
           18
          ],
          [
           "Other work",
           "Death of My Aunt",
           "C. H. B. Kitchin",
           24,
           3
          ],
          [
           "Other work",
           "Do What You Will: Essays",
           "Aldous Huxley",
           3,
           4
          ],
          [
           "Other work",
           "Dodsworth",
           "Sinclair Lewis",
           120,
           16
          ],
          [
           "Other work",
           "Farthing Hall",
           "Hugh Walpole",
           1,
           2
          ],
          [
           "Other work",
           "Goodbye to All That: An Autobiography",
           "Robert Graves",
           699,
           5
          ],
          [
           "Other work",
           "Harriet Hume: A London Fantasy",
           "Rebecca West",
           43,
           5
          ],
          [
           "Other work",
           "Henry the Eighth",
           "Francis Hackett",
           7,
           6
          ],
          [
           "Other work",
           "Hudson River Bracketed",
           "Edith Wharton",
           20,
           3
          ],
          [
           "Other work",
           "Introduction to the Method of Leonardo da Vinci",
           "Paul Valéry",
           6,
           1
          ],
          [
           "Other work",
           "Kristin Lavransdatter: The Bridal Wreath, The Mistress of Husaby, The Cross",
           "Sigrid Undset",
           1310,
           3
          ],
          [
           "Other work",
           "Laughing Boy",
           "Oliver La Farge",
           252,
           2
          ],
          [
           "Other work",
           "Look Homeward, Angel",
           "Thomas Wolfe",
           1055,
           7
          ],
          [
           "Other work",
           "Marriage and Morals",
           "Bertrand Russell",
           96,
           2
          ],
          [
           "Other work",
           "Memoirs of a Fox-Hunting Man",
           "Siegfried Sassoon",
           101,
           7
          ],
          [
           "Other work",
           "Moonchild",
           "Aleister Crowley",
           78,
           2
          ],
          [
           "Other work",
           "Music at Midnight",
           "Muriel Draper",
           1,
           1
          ],
          [
           "Other work",
           "Nemesis at Raynham Parva",
           "J. J. Connington",
           2,
           6
          ],
          [
           "Other work",
           "Oblomov",
           "Ivan Goncharov",
           1272,
           6
          ],
          [
           "Other work",
           "Our Exagmination Round His Factification for Incamination of Work in Progress",
           "",
           12,
           12
          ],
          [
           "Other work",
           "Paleface: The Philosophy of the \"Melting-Pot\"",
           "Wyndham Lewis",
           2,
           5
          ],
          [
           "Other work",
           "Pansies",
           "D. H. Lawrence",
           3,
           1
          ],
          [
           "Other work",
           "Partners in Crime",
           "Agatha Christie",
           1068,
           3
          ],
          [
           "Other work",
           "Piccadilly Jim",
           "P. G. Wodehouse",
           357,
           3
          ],
          [
           "Other work",
           "Pornography and Obscenity",
           "D. H. Lawrence",
           9,
           4
          ],
          [
           "Other work",
           "Process and Reality",
           "Alfred North Whitehead",
           45,
           2
          ],
          [
           "Other work",
           "Red Aces: Being Three Cases of Mr. Reeder",
           "Edgar Wallace",
           7,
           1
          ],
          [
           "Other work",
           "Richelieu: A Study",
           "Hilaire Belloc",
           1,
           2
          ],
          [
           "Other work",
           "Sartoris",
           "William Faulkner",
           79,
           1
          ],
          [
           "Other work",
           "Seven Brothers",
           "Aleksis Kivi",
           124,
           6
          ],
          [
           "Other work",
           "Summer Lightning",
           "P. G. Wodehouse",
           403,
           6
          ],
          [
           "Other work",
           "The Autobiography of Lord Alfred Douglas",
           "Alfred Douglas",
           7,
           4
          ],
          [
           "Other work",
           "The Bishop Murder Case: A Philo Vance Story",
           "S. S. Van Dine",
           75,
           6
          ],
          [
           "Other work",
           "The Box Office Murders",
           "Freeman Wills Crofts",
           20,
           6
          ],
          [
           "Other work",
           "The Christopher Robin Story Book",
           "A. A. Milne",
           13,
           1
          ],
          [
           "Other work",
           "The Coat without Seam",
           "Maurice Baring",
           3,
           2
          ],
          [
           "Other work",
           "The Courts of the Morning",
           "John Buchan",
           33,
           1
          ],
          [
           "Other work",
           "The Dark Journey",
           "Julien Green",
           30,
           1
          ],
          [
           "Other work",
           "The Death of the Gods",
           "Dmitry Merezhkovsky",
           12,
           3
          ],
          [
           "Other work",
           "The Escaped Cock / The Man Who Died",
           "D. H. Lawrence",
           80,
           4
          ],
          [
           "Other work",
           "The Eye in the Museum",
           "J. J. Connington",
           6,
           4
          ],
          [
           "Other work",
           "The Golden Hades",
           "Edgar Wallace",
           1,
           2
          ],
          [
           "Other work",
           "The Good Companions",
           "J. B. Priestley",
           68,
           6
          ],
          [
           "Other work",
           "The Intimate Journal of George Sand",
           "George Sand",
           9,
           1
          ],
          [
           "Other work",
           "The Magic Island",
           "William Seabrook",
           17,
           16
          ],
          [
           "Other work",
           "The Quest for Certainty: A Study of the Relation of Knowledge and Action",
           "John Dewey",
           15,
           1
          ],
          [
           "Other work",
           "The Roman Hat Mystery",
           "Frederic & Lee Dannay",
           245,
           7
          ],
          [
           "Other work",
           "The Scarab Murder Case: A Philo Vance Story",
           "S. S. Van Dine",
           29,
           6
          ],
          [
           "Other work",
           "The Sound and the Fury",
           "William Faulkner",
           7633,
           21
          ],
          [
           "Other work",
           "The True Heart",
           "Sylvia Townsend Warner",
           30,
           4
          ],
          [
           "Other work",
           "The Twister",
           "Edgar Wallace",
           5,
           1
          ],
          [
           "Other work",
           "The Winding Stair",
           "William Butler Yeats",
           9,
           2
          ],
          [
           "Other work",
           "This Strange Adventure",
           "Mary Roberts Rinehart",
           4,
           1
          ],
          [
           "Other work",
           "Walter Rathenau: His Life and Work",
           "Harry Graf Kessler",
           1,
           1
          ],
          [
           "Other work",
           "War",
           "Ludwig Renn",
           10,
           2
          ],
          [
           "Other work",
           "Whiteoaks",
           "Mazo De la Roche",
           88,
           13
          ],
          [
           "Other work",
           "Wolf Solent",
           "John Cowper Powys",
           63,
           5
          ],
          [
           "Other work",
           "A Draft of XXX Cantos",
           "Ezra Pound",
           54,
           6
          ],
          [
           "Other work",
           "A Moment of Time",
           "Richard Hughes",
           1,
           1
          ],
          [
           "Other work",
           "A Note in Music",
           "Rosamond Lehmann",
           22,
           23
          ],
          [
           "Other work",
           "Adamastor: Poems",
           "Roy Campbell",
           1,
           1
          ],
          [
           "Other work",
           "Al Capone: Biography of a Self-Made Man",
           "Fred D. Pasley",
           1,
           2
          ],
          [
           "Other work",
           "Anabasis: A Poem",
           "Saint-John Perse",
           34,
           2
          ],
          [
           "Other work",
           "Angel Pavement",
           "J. B. Priestley",
           30,
           10
          ],
          [
           "Other work",
           "Anna Livia Plurabelle",
           "James Joyce",
           9,
           8
          ],
          [
           "Other work",
           "As I Lay Dying",
           "William Faulkner",
           8100,
           26
          ],
          [
           "Other work",
           "Bottom Dogs",
           "Edward Dahlberg",
           3,
           8
          ],
          [
           "Other work",
           "Brief Candles: Stories",
           "Aldous Huxley",
           9,
           18
          ],
          [
           "Other work",
           "Bystander",
           "Maxim Gorky",
           11,
           1
          ],
          [
           "Other work",
           "Cakes and Ale, or, the Skeleton in the Cupboard",
           "W. Somerset Maugham",
           567,
           14
          ],
          [
           "Other work",
           "Castle Gay",
           "John Buchan",
           19,
           1
          ],
          [
           "Other work",
           "Confessions of Zeno",
           "Italo Svevo",
           864,
           2
          ],
          [
           "Other work",
           "Death in the Dark",
           "George Antheil",
           4,
           3
          ],
          [
           "Other work",
           "Diary of a Provincial Lady",
           "E. M. Delafield",
           676,
           13
          ],
          [
           "Other work",
           "East Wind: West Wind",
           "Pearl S. Buck",
           530,
           5
          ],
          [
           "Other work",
           "Flowering Judas and Other Stories",
           "Katherine Anne Porter",
           28,
           18
          ],
          [
           "Other work",
           "His Monkey Wife",
           "John Collier",
           24,
           1
          ],
          [
           "Other work",
           "Imperial Palace",
           "Arnold Bennett",
           5,
           7
          ],
          [
           "Other work",
           "It Walks by Night",
           "John Dickson Carr",
           75,
           2
          ],
          [
           "Other work",
           "James Joyce's Ulysses: A Study",
           "Stuart Gilbert",
           102,
           12
          ],
          [
           "Other work",
           "Laments for the Living",
           "Dorothy Parker",
           20,
           1
          ],
          [
           "Other work",
           "Love among the Haystacks",
           "D. H. Lawrence",
           47,
           2
          ],
          [
           "Other work",
           "Lucy Church Amiably",
           "Gertrude Stein",
           3,
           2
          ],
          [
           "Other work",
           "Man in a Black Hat",
           "Ernest Temple Thurston",
           2,
           7
          ],
          [
           "Other work",
           "Memoirs of an Infantry Officer",
           "Siegfried Sassoon",
           82,
           1
          ],
          [
           "Other work",
           "Mountain City",
           "Upton Sinclair",
           2,
           5
          ],
          [
           "Other work",
           "Not without Laughter",
           "Langston Hughes",
           267,
           4
          ],
          [
           "Other work",
           "Nothing to Pay",
           "Caradoc Evans",
           3,
           1
          ],
          [
           "Other work",
           "Novels and Novelists",
           "Katherine Mansfield",
           1,
           4
          ],
          [
           "Other work",
           "Number: The Language of Science",
           "Tobias Dantzig",
           52,
           1
          ],
          [
           "Other work",
           "On Forsyte 'Change (The Forsyte Saga)",
           "John Galsworthy",
           9,
           9
          ],
          [
           "Other work",
           "Pimpernel and Rosemary",
           "Baroness Orczy",
           11,
           2
          ],
          [
           "Other work",
           "Poet's Pub",
           "Eric Linklater",
           23,
           1
          ],
          [
           "Other work",
           "Redheap",
           "Norman Lindsay",
           3,
           3
          ],
          [
           "Other work",
           "Rogue Herries",
           "Hugh Walpole",
           37,
           9
          ],
          [
           "Other work",
           "Seven Types of Ambiguity",
           "William Empson",
           40,
           3
          ],
          [
           "Other work",
           "Strong Poison",
           "Dorothy Sayers",
           1561,
           4
          ],
          [
           "Other work",
           "The 42nd Parallel",
           "John Dos Passos",
           467,
           18
          ],
          [
           "Other work",
           "The Apes of God",
           "Wyndham Lewis",
           21,
           14
          ],
          [
           "Other work",
           "The Apple Cart: A Political Extravaganza",
           "George Bernard Shaw",
           28,
           6
          ],
          [
           "Other work",
           "The Autocracy of Mr. Parham",
           "H. G. Wells",
           5,
           4
          ],
          [
           "Other work",
           "The Bridge",
           "Hart Crane",
           52,
           6
          ],
          [
           "Other work",
           "The Castle",
           "Franz Kafka",
           2347,
           1
          ],
          [
           "Other work",
           "The Conquest of Happiness",
           "Bertrand Russell",
           912,
           3
          ],
          [
           "Other work",
           "The Documents in the Case",
           "Dorothy & Eustace Sayers",
           185,
           6
          ],
          [
           "Other work",
           "The Doorstep Murders: A Kenneth Carlisle Detective Story",
           "Carolyn Wells",
           1,
           5
          ],
          [
           "Other work",
           "The Edwardians",
           "Vita Sackville-West",
           183,
           12
          ],
          [
           "Other work",
           "The French Powder Mystery",
           "Frederic & Lee Dannay",
           109,
           5
          ],
          [
           "Other work",
           "The Gentleman in the Parlour",
           "W. Somerset Maugham",
           52,
           8
          ],
          [
           "Other work",
           "The Greenwood Hat",
           "J. M. Barrie",
           2,
           3
          ],
          [
           "Other work",
           "The Lives of A Bengal Lancer",
           "Francis Yeats-Brown",
           13,
           2
          ],
          [
           "Other work",
           "The Maltese Falcon",
           "Dashiell Hammett",
           5353,
           6
          ],
          [
           "Other work",
           "The Maurizius Case",
           "Jakob Wassermann",
           22,
           4
          ],
          [
           "Other work",
           "The Story of San Michele",
           "Axel Munthe",
           257,
           9
          ],
          [
           "Other work",
           "The Virgin and the Gipsy",
           "D. H. Lawrence",
           234,
           12
          ],
          [
           "Other work",
           "The Water Gipsies",
           "A. P. Herbert",
           5,
           17
          ],
          [
           "Other work",
           "The Woman of Andros",
           "Thornton Wilder",
           26,
           2
          ],
          [
           "Other work",
           "Thy Servant a Dog",
           "Rudyard Kipling",
           9,
           2
          ],
          [
           "Other work",
           "Tiny Carteret",
           "H. C. McNeile",
           3,
           2
          ],
          [
           "Other work",
           "Twenty-Four Hours",
           "Louis Bromfield",
           3,
           2
          ],
          [
           "Other work",
           "Very Good, Jeeves",
           "P. G. Wodehouse",
           629,
           1
          ],
          [
           "Other work",
           "Vile Bodies",
           "Evelyn Waugh",
           894,
           6
          ],
          [
           "Other work",
           "Wedding Day and Other Stories",
           "Kay Boyle",
           2,
           3
          ],
          [
           "Other work",
           "Above the Dark Circus",
           "Hugh Walpole",
           8,
           1
          ],
          [
           "Other work",
           "All Passion Spent",
           "Vita Sackville-West",
           387,
           8
          ],
          [
           "Other work",
           "Apocalypse",
           "D. H. Lawrence",
           34,
           4
          ],
          [
           "Other work",
           "Apropos of Lady Chatterley's Lover",
           "D. H. Lawrence",
           4,
           1
          ],
          [
           "Other work",
           "As I Was Going Down Sackville Street",
           "Oliver St. John Gogarty",
           4,
           11
          ],
          [
           "Other work",
           "Axel's Castle: A Study in the Imaginative Literature of 1870 – 1930",
           "Edmund Wilson",
           35,
           21
          ],
          [
           "Other work",
           "Back Street",
           "Fannie Hurst",
           18,
           6
          ],
          [
           "Other work",
           "Berlin Alexanderplatz",
           "Alfred Döblin",
           555,
           6
          ],
          [
           "Other work",
           "Bernard Shaw: An Unauthorized Biography Based on Firsthand Information",
           "Frank Harris",
           2,
           7
          ],
          [
           "Other work",
           "Boy",
           "James Hanley",
           24,
           4
          ],
          [
           "Other work",
           "Broome Stages",
           "Clemence Dane",
           6,
           10
          ],
          [
           "Other work",
           "Finch's Fortune",
           "Mazo De la Roche",
           24,
           14
          ],
          [
           "Other work",
           "First Person Singular",
           "W. Somerset Maugham",
           8,
           5
          ],
          [
           "Other work",
           "Grand Hotel",
           "Vicki Baum",
           155,
           4
          ],
          [
           "Other work",
           "Guests of the Nation",
           "Frank O'Connor",
           17,
           1
          ],
          [
           "Other work",
           "How to Read",
           "Ezra Pound",
           3,
           2
          ],
          [
           "Other work",
           "How to Write",
           "Gertrude Stein",
           17,
           1
          ],
          [
           "Other work",
           "In Defense of Sensuality",
           "John Cowper Powys",
           3,
           4
          ],
          [
           "Other work",
           "Juan in America",
           "Eric Linklater",
           8,
           17
          ],
          [
           "Other work",
           "Judith Paris",
           "Hugh Walpole",
           13,
           5
          ],
          [
           "Other work",
           "Lincoln the Man",
           "Edgar Lee Masters",
           3,
           1
          ],
          [
           "Other work",
           "Mahatma Gandhi: His Own Story",
           "Mahátma Gándhi",
           2172,
           1
          ],
          [
           "Other work",
           "Maid in Waiting (End of Chapter)",
           "John Galsworthy",
           33,
           12
          ],
          [
           "Other work",
           "Mourning Becomes Electra",
           "Eugene O'Neill",
           126,
           14
          ],
          [
           "Other work",
           "Music at Night and Other Stories",
           "Aldous Huxley",
           11,
           8
          ],
          [
           "Other work",
           "My Fight for Birth Control",
           "Margaret Higgins Sanger",
           1,
           1
          ],
          [
           "Other work",
           "Plagued by the Nightingale",
           "Kay Boyle",
           14,
           17
          ],
          [
           "Other work",
           "Police at the Funeral",
           "Margery Allingham",
           234,
           1
          ],
          [
           "Other work",
           "Portraits in Miniature and Other Essays",
           "Giles Lytton Strachey",
           3,
           5
          ],
          [
           "Other work",
           "Results of an Accident",
           "Vicki Baum",
           2,
           1
          ],
          [
           "Other work",
           "S. S. San Pedro",
           "James Gould Cozzens",
           4,
           1
          ],
          [
           "Other work",
           "Sanctuary",
           "William Faulkner",
           834,
           31
          ],
          [
           "Other work",
           "Savage Messiah",
           "H. S. Ede",
           2,
           1
          ],
          [
           "Other work",
           "Shadows on the Rock",
           "Willa Cather",
           313,
           11
          ],
          [
           "Other work",
           "Simpson: A Life",
           "Edward Charles Sackville-West",
           1,
           2
          ],
          [
           "Other work",
           "The Autobiography of Lincoln Steffens",
           "Lincoln Steffens",
           9,
           3
          ],
          [
           "Other work",
           "The Boat-House Riddle",
           "J. J. Connington",
           3,
           5
          ],
          [
           "Other work",
           "The Corn King and the Spring Queen",
           "Naomi Mitchison",
           32,
           5
          ],
          [
           "Other work",
           "The Daughter of Fu Manchu",
           "Sax Rohmer",
           35,
           3
          ],
          [
           "Other work",
           "The Five Red Herrings: Suspicious Characters",
           "Dorothy Sayers",
           814,
           7
          ],
          [
           "Other work",
           "The Fortunes of Richard Mahony",
           "Henry Handel Richardson",
           33,
           2
          ],
          [
           "Other work",
           "The Glass Key",
           "Dashiell Hammett",
           608,
           1
          ],
          [
           "Other work",
           "The Good Earth",
           "Pearl S. Buck",
           10368,
           33
          ],
          [
           "Other work",
           "The Hamlet",
           "William Faulkner",
           295,
           2
          ],
          [
           "Other work",
           "The Letters of Emily Dickinson",
           "Emily Dickinson",
           51,
           8
          ],
          [
           "Other work",
           "The Long Christmas Dinner: And Other Plays in One Act",
           "Thornton Wilder",
           13,
           1
          ],
          [
           "Other work",
           "The Loving Spirit",
           "Daphne Du Maurier",
           184,
           12
          ],
          [
           "Other work",
           "The Norwich Victims",
           "John & Saunders Palmer",
           14,
           8
          ],
          [
           "Other work",
           "The Road",
           "Warwick Deeping",
           1,
           1
          ],
          [
           "Other work",
           "The Scientific Outlook",
           "Bertrand Russell",
           59,
           1
          ],
          [
           "Other work",
           "The Waves",
           "Virginia Woolf",
           2787,
           19
          ],
          [
           "Other work",
           "The Wild Orchid",
           "Sigrid Undset",
           8,
           4
          ],
          [
           "Other work",
           "Unclay",
           "Theodore Francis Powys",
           28,
           5
          ],
          [
           "Other work",
           "What Life Should Mean to You",
           "Alfred Alder",
           127,
           3
          ],
          [
           "Other work",
           "Without My Cloak",
           "Kate O'Brien",
           12,
           2
          ],
          [
           "Other work",
           "1919",
           "John Dos Passos",
           200,
           8
          ],
          [
           "Other work",
           "A Glastonbury Romance",
           "John Cowper Powys",
           55,
           1
          ],
          [
           "Other work",
           "A Long Time Ago",
           "Margaret Kennedy",
           2,
           6
          ],
          [
           "Other work",
           "A Richer Dust",
           "Storm Jameson",
           1,
           1
          ],
          [
           "Other work",
           "A Superficial Journey Through Tokyo and Peking",
           "Peter Quennell",
           3,
           2
          ],
          [
           "Other work",
           "American Outpost: A Book of Reminiscences",
           "Upton Sinclair",
           1,
           5
          ],
          [
           "Other work",
           "Beyond Desire",
           "Sherwood Anderson",
           5,
           8
          ],
          [
           "Other work",
           "Black Mischief",
           "Evelyn Waugh",
           205,
           11
          ],
          [
           "Other work",
           "Boomerang",
           "Helen Simpson",
           2,
           3
          ],
          [
           "Other work",
           "Brave New World",
           "Aldous Huxley",
           34579,
           22
          ],
          [
           "Other work",
           "Chaucer",
           "G. K. Chesterton",
           8,
           2
          ],
          [
           "Other work",
           "Collected Poems of Elinor Wylie",
           "Elinor Wylie",
           4,
           6
          ],
          [
           "Other work",
           "Death in the Afternoon",
           "Ernest Hemingway",
           461,
           23
          ],
          [
           "Other work",
           "Death in the Thicket",
           "Vernon Loder",
           1,
           5
          ],
          [
           "Other work",
           "Earth Horizon",
           "Mary Hunter Austin",
           4,
           2
          ],
          [
           "Other work",
           "Education and the Social Order",
           "Bertrand Russell",
           11,
           5
          ],
          [
           "Other work",
           "Essays Ancient and Modern",
           "T. S. Eliot",
           3,
           3
          ],
          [
           "Other work",
           "Etruscan Places",
           "D. H. Lawrence",
           33,
           7
          ],
          [
           "Other work",
           "Family History",
           "Vita Sackville-West",
           21,
           4
          ],
          [
           "Other work",
           "Faraway",
           "J. B. Priestley",
           1,
           4
          ],
          [
           "Other work",
           "Fiction and the Reading Public",
           "Q. D. Leavis",
           9,
           5
          ],
          [
           "Other work",
           "Flowering Wilderness (End of Chapter)",
           "John Galsworthy",
           31,
           8
          ],
          [
           "Other work",
           "Have His Carcase",
           "Dorothy Sayers",
           825,
           11
          ],
          [
           "Other work",
           "Helene",
           "Vicki Baum",
           6,
           3
          ],
          [
           "Other work",
           "Hindoo Holiday",
           "J. R. Ackerley",
           53,
           7
          ],
          [
           "Other work",
           "History of the Russian Revolution",
           "Leon Trotsky",
           110,
           8
          ],
          [
           "Other work",
           "Hot Water",
           "P. G. Wodehouse",
           177,
           5
          ],
          [
           "Other work",
           "I'll Never Be Young Again",
           "Daphne Du Maurier",
           120,
           4
          ],
          [
           "Other work",
           "Inheritance",
           "Phyllis Eleanor Bentley",
           4,
           12
          ],
          [
           "Other work",
           "Invitation to the Waltz",
           "Rosamond Lehmann",
           143,
           22
          ],
          [
           "Other work",
           "Louder and Funnier",
           "P. G. Wodehouse",
           23,
           4
          ],
          [
           "Other work",
           "Marie Antoinette: The Portrait of an Average Woman",
           "Stefan Zweig",
           423,
           3
          ],
          [
           "Other work",
           "Memoirs of a British Agent",
           "Robert Hamilton Bruce Lockhart",
           23,
           2
          ],
          [
           "Other work",
           "Mental Healers: Franz Anton Mesmer, Mary Baker Eddy, Sigmund Freud",
           "Stefan Zweig",
           9,
           2
          ],
          [
           "Other work",
           "Murder in the Squire's Pew",
           "Joseph Smith Fletcher",
           1,
           1
          ],
          [
           "Other work",
           "Obscure Destinies",
           "Willa Cather",
           41,
           4
          ],
          [
           "Other work",
           "Once a Grand Duke",
           "Alexander Mikhailovich",
           5,
           1
          ],
          [
           "Other work",
           "Peking Picnic",
           "Ann Bridge",
           23,
           11
          ],
          [
           "Other work",
           "Royal Flush: The Story of Minette",
           "Margaret Irwin",
           14,
           6
          ],
          [
           "Other work",
           "Satires and Personal Writings",
           "Jonathan Swift",
           2,
           4
          ],
          [
           "Other work",
           "Save Me the Waltz",
           "Zelda Fitzgerald",
           357,
           1
          ],
          [
           "Other work",
           "Song and Its Fountains",
           "Æ",
           1,
           3
          ],
          [
           "Other work",
           "Sons",
           "Pearl S. Buck",
           417,
           12
          ],
          [
           "Other work",
           "Stories of God",
           "Rainer Maria Rilke",
           86,
           2
          ],
          [
           "Other work",
           "Studs Lonigan",
           "James T. Farrell",
           118,
           4
          ],
          [
           "Other work",
           "Thank Heaven Fasting",
           "E. M. Delafield",
           17,
           5
          ],
          [
           "Other work",
           "The Adventures of the Black Girl in Her Search for God",
           "George Bernard Shaw",
           63,
           6
          ],
          [
           "Other work",
           "The Bulpington of Blup",
           "H. G. Wells",
           2,
           2
          ],
          [
           "Other work",
           "The Burning Bush",
           "Sigrid Undset",
           8,
           1
          ],
          [
           "Other work",
           "The Common Reader: Second Series",
           "Virginia Woolf",
           105,
           8
          ],
          [
           "Other work",
           "The Fortress",
           "Hugh Walpole",
           6,
           3
          ],
          [
           "Other work",
           "The Fountain",
           "Charles Morgan",
           8,
           25
          ],
          [
           "Other work",
           "The Gap in the Curtain",
           "John Buchan",
           18,
           5
          ],
          [
           "Other work",
           "The Gods Arrive",
           "Edith Wharton",
           14,
           5
          ],
          [
           "Other work",
           "The Greek Coffin Mystery",
           "Frederic & Lee Dannay",
           142,
           1
          ],
          [
           "Other work",
           "The Men of Ness",
           "Eric Linklater",
           1,
           4
          ],
          [
           "Other work",
           "The Narrow Corner",
           "W. Somerset Maugham",
           171,
           9
          ],
          [
           "Other work",
           "The Orators",
           "W. H. Auden",
           5,
           5
          ],
          [
           "Other work",
           "The Return of Bulldog Drummond",
           "H. C. McNeile",
           7,
           3
          ],
          [
           "Other work",
           "The Savage Pilgrimage: A Narrative of D. H. Lawrence",
           "Catherine Carswell",
           2,
           4
          ],
          [
           "Other work",
           "The Sheltered Life",
           "Ellen Anderson Gholson Glasgow",
           17,
           5
          ],
          [
           "Other work",
           "The Soldier and the Gentlewoman",
           "Hilda Vaughan",
           4,
           4
          ],
          [
           "Other work",
           "The Thirteen Problems",
           "Agatha Christie",
           1712,
           5
          ],
          [
           "Other work",
           "The Waxworks Murders",
           "John Dickson Carr",
           30,
           2
          ],
          [
           "Other work",
           "They Were Defeated",
           "Rose Macaulay",
           6,
           3
          ],
          [
           "Other work",
           "To Make My Bread",
           "Grace Lumpkin",
           5,
           6
          ],
          [
           "Other work",
           "To the North",
           "Elizabeth Bowen",
           60,
           8
          ],
          [
           "Other work",
           "Tobacco Road",
           "Erskine Preston Caldwell",
           819,
           11
          ],
          [
           "Other work",
           "Virginia Woolf: A Critical Memoir",
           "Winifred Holtby",
           12,
           2
          ],
          [
           "Other work",
           "Wild Decembers",
           "Clemence Dane",
           1,
           2
          ],
          [
           "Other work",
           "Year before Last",
           "Kay Boyle",
           18,
           10
          ],
          [
           "Other work",
           "A Cure of Flesh",
           "James Gould Cozzens",
           1,
           3
          ],
          [
           "Other work",
           "A Prince of the Captivity",
           "John Buchan",
           8,
           1
          ],
          [
           "Other work",
           "A Thatched Roof",
           "Beverley Nichols",
           39,
           1
          ],
          [
           "Other work",
           "Adventures of Ideas",
           "Alfred North Whitehead",
           12,
           4
          ],
          [
           "Other work",
           "After Such Pleasures",
           "Dorothy Parker",
           4,
           10
          ],
          [
           "Other work",
           "Ah King",
           "W. Somerset Maugham",
           7,
           6
          ],
          [
           "Other work",
           "Ah, Wilderness!",
           "Eugene O'Neill",
           38,
           3
          ],
          [
           "Other work",
           "All Men Are Enemies",
           "Richard Aldington",
           9,
           9
          ],
          [
           "Other work",
           "All Souls' Night",
           "Hugh Walpole",
           37,
           2
          ],
          [
           "Other work",
           "All the Mowgli Stories",
           "Rudyard Kipling",
           125,
           1
          ],
          [
           "Other work",
           "An Oxford Tragedy",
           "J. C. Masterman",
           21,
           1
          ],
          [
           "Other work",
           "Anthony Adverse",
           "Hervey Allen",
           30,
           7
          ],
          [
           "Other work",
           "As the Earth Turns",
           "Gladys Hasty Carroll",
           11,
           8
          ],
          [
           "Other work",
           "Before the Fact: A Murder Story for Ladies",
           "Francis Iles",
           114,
           2
          ],
          [
           "Other work",
           "Brazilian Adventure",
           "Peter Fleming",
           56,
           13
          ],
          [
           "Other work",
           "Comedy, American Style",
           "Jessie Redmon Fauset",
           9,
           2
          ],
          [
           "Other work",
           "Crowded Hours",
           "Alice Roosevelt Longworth",
           9,
           1
          ],
          [
           "Other work",
           "Democracy in Crisis",
           "Harold Joseph Laski",
           1,
           3
          ],
          [
           "Other work",
           "England, Their England",
           "A. G. Macdonell",
           65,
           6
          ],
          [
           "Other work",
           "Farewell Victoria",
           "T. H. White",
           6,
           2
          ],
          [
           "Other work",
           "Flush: A Biography",
           "Virginia Woolf",
           777,
           17
          ],
          [
           "Other work",
           "God's Little Acre",
           "Erskine Preston Caldwell",
           227,
           14
          ],
          [
           "Other work",
           "Grand Canary",
           "A. J. Cronin",
           18,
           3
          ],
          [
           "Other work",
           "Imitation of Life",
           "Fannie Hurst",
           43,
           4
          ],
          [
           "Other work",
           "It Was the Nightingale",
           "Ford Madox Ford",
           5,
           4
          ],
          [
           "Other work",
           "Lamb in His Bosom",
           "Caroline Miller",
           164,
           13
          ],
          [
           "Other work",
           "Last Poems",
           "D. H. Lawrence",
           2,
           1
          ],
          [
           "Other work",
           "Little Man, What Now?",
           "Hans Fallada",
           374,
           3
          ],
          [
           "Other work",
           "Looking Back: An Autobiographical Excursion",
           "Norman Douglas",
           5,
           6
          ],
          [
           "Other work",
           "Looking Forward",
           "Franklin Delano Roosevelt",
           9,
           2
          ],
          [
           "Other work",
           "Lost Horizon",
           "James Hilton",
           1685,
           2
          ],
          [
           "Other work",
           "Mandoa, Mandoa!",
           "Winifred Holtby",
           7,
           7
          ],
          [
           "Other work",
           "Miss Lonelyhearts",
           "Nathanael West",
           481,
           9
          ],
          [
           "Other work",
           "Murder at Monte Carlo",
           "E. Phillips Oppenheim",
           7,
           1
          ],
          [
           "Other work",
           "Murder Must Advertise",
           "Dorothy Sayers",
           1032,
           10
          ],
          [
           "Other work",
           "No Nice Girl Swears",
           "Alice-Leone Moats",
           13,
           1
          ],
          [
           "Other work",
           "Over the River (End of Chapter)",
           "John Galsworthy",
           29,
           6
          ],
          [
           "Other work",
           "Peter Abelard: A Novel",
           "Helen Waddell",
           15,
           9
          ],
          [
           "Other work",
           "Pity Is Not Enough",
           "Josephine Herbst",
           2,
           3
          ],
          [
           "Other work",
           "Talks with Mussolini",
           "Emil Ludwig",
           4,
           3
          ],
          [
           "Other work",
           "Testament of Youth",
           "Vera Brittain",
           945,
           7
          ],
          [
           "Other work",
           "The Autobiography of Alice B. Toklas",
           "Gertrude Stein",
           770,
           15
          ],
          [
           "Other work",
           "The Barbary Coast: An Informal History of the San Francisco Underworld",
           "Herbert Asbury",
           97,
           1
          ],
          [
           "Other work",
           "The Bird of Dawning",
           "John Masefield",
           7,
           2
          ],
          [
           "Other work",
           "The Case of the Velvet Claws",
           "Erle Stanley Gardner",
           363,
           8
          ],
          [
           "Other work",
           "The Curse of the Wise Woman",
           "Lord Dunsany",
           10,
           6
          ],
          [
           "Other work",
           "The Delicate Fire",
           "Naomi Mitchison",
           2,
           1
          ],
          [
           "Other work",
           "The Dragon Murder Case",
           "S. S. Van Dine",
           34,
           9
          ],
          [
           "Other work",
           "The Farm",
           "Louis Bromfield",
           9,
           11
          ],
          [
           "Other work",
           "The First Wife and Other Stories",
           "Pearl S. Buck",
           4,
           5
          ],
          [
           "Other work",
           "The House of Exile",
           "Nora Waln",
           7,
           5
          ],
          [
           "Other work",
           "The Master of Jalna",
           "Mazo De la Roche",
           13,
           11
          ],
          [
           "Other work",
           "The Name and Nature of Poetry",
           "A. E. Housman",
           3,
           2
          ],
          [
           "Other work",
           "The Rash Act",
           "Ford Madox Ford",
           3,
           1
          ],
          [
           "Other work",
           "The Shakespeare Murders",
           "A. G. Macdonell",
           7,
           2
          ],
          [
           "Other work",
           "The Tuesday Club Murders",
           "Agatha Christie",
           1712,
           6
          ],
          [
           "Other work",
           "The Way of the Scarlet Pimpernel",
           "Baroness Orczy",
           15,
           1
          ],
          [
           "Other work",
           "The White Cockatoo",
           "Mignon Good Eberhart",
           4,
           7
          ],
          [
           "Other work",
           "The Young and the Evil",
           "Charles Henri & Tyler Ford",
           10,
           1
          ],
          [
           "Other work",
           "Thirteen at Dinner",
           "Agatha Christie",
           2076,
           5
          ],
          [
           "Other work",
           "Three Cities: A Trilogy",
           "Sholem Asch",
           4,
           5
          ],
          [
           "Other work",
           "Towards the Understanding of Karl Marx: A Revolutionary Interpretation",
           "Sidney Hook",
           2,
           1
          ],
          [
           "Other work",
           "Twenty Years A-Growing",
           "Maurice O'Sullivan",
           59,
           6
          ],
          [
           "Other work",
           "Ultramarine",
           "Malcolm Lowry",
           18,
           7
          ],
          [
           "Other work",
           "Untouchable",
           "Mulk Raj Anand",
           428,
           4
          ],
          [
           "Other work",
           "Vanessa",
           "Hugh Walpole",
           9,
           6
          ],
          [
           "Other work",
           "Water on the Brain",
           "Compton Mackenzie",
           2,
           7
          ],
          [
           "Other work",
           "Winner Take Nothing",
           "Ernest Hemingway",
           168,
           20
          ],
          [
           "Other work",
           "Women against Men",
           "Storm Jameson",
           4,
           3
          ],
          [
           "Other work",
           "A Backward Glance",
           "Edith Wharton",
           91,
           5
          ],
          [
           "Other work",
           "A Handful of Dust",
           "Evelyn Waugh",
           1329,
           10
          ],
          [
           "Other work",
           "A Pin to See the Peepshow",
           "F. Tennyson Jesse",
           23,
           5
          ],
          [
           "Other work",
           "ABC of Reading",
           "Ezra Pound",
           119,
           3
          ],
          [
           "Other work",
           "After Strange Gods",
           "T. S. Eliot",
           7,
           11
          ],
          [
           "Other work",
           "Alice James: Her Brothers, Her Journal",
           "Alice James",
           3,
           6
          ],
          [
           "Other work",
           "And Quiet Flows the Don",
           "Mikhail Sholokhov",
           527,
           1
          ],
          [
           "Other work",
           "Appointment in Samarra",
           "John O'Hara",
           838,
           12
          ],
          [
           "Other work",
           "Autobiography",
           "John Cowper Powys",
           9,
           3
          ],
          [
           "Other work",
           "Beyond the Mexique Bay",
           "Aldous Huxley",
           21,
           10
          ],
          [
           "Other work",
           "Burmese Days",
           "George Orwell",
           1497,
           21
          ],
          [
           "Other work",
           "Captain Nicholas",
           "Hugh Walpole",
           1,
           1
          ],
          [
           "Other work",
           "Dew on the Grass",
           "Eiluned Lewis",
           9,
           3
          ],
          [
           "Other work",
           "Elizabethan Essays",
           "T. S. Eliot",
           2,
           2
          ],
          [
           "Other work",
           "English Journey",
           "J. B. Priestley",
           27,
           8
          ],
          [
           "Other work",
           "Erasmus of Rotterdam",
           "Stefan Zweig",
           106,
           5
          ],
          [
           "Other work",
           "Experiment in Autobiography: Discoveries and Conclusions of a Very Ordinary Brain (Since 1866)",
           "H. G. Wells",
           6,
           25
          ],
          [
           "Other work",
           "For the Defence; Dr. Thorndyke",
           "R. Austin Freeman",
           9,
           2
          ],
          [
           "Other work",
           "Gerald: A Portrait",
           "Daphne Du Maurier",
           6,
           5
          ],
          [
           "Other work",
           "Heaven's My Destination",
           "Thornton Wilder",
           64,
           24
          ],
          [
           "Other work",
           "Holy Deadlock",
           "A. P. Herbert",
           4,
           14
          ],
          [
           "Other work",
           "I, Claudius",
           "Robert Graves",
           2780,
           2
          ],
          [
           "Other work",
           "It's a Battlefield",
           "Graham Greene",
           50,
           9
          ],
          [
           "Other work",
           "Jonah's Gourd Vine",
           "Zora Neale Hurston",
           111,
           7
          ],
          [
           "Other work",
           "Men without Art",
           "Wyndham Lewis",
           4,
           5
          ],
          [
           "Other work",
           "Miss Ogilvy Finds Herself",
           "Radclyffe Hall",
           3,
           5
          ],
          [
           "Other work",
           "More Pricks Than Kicks",
           "Samuel Beckett",
           75,
           3
          ],
          [
           "Other work",
           "Now in November",
           "Josephine Winslow Johnson",
           141,
           3
          ],
          [
           "Other work",
           "One's Company: A Journey to China",
           "Peter Fleming",
           17,
           6
          ],
          [
           "Other work",
           "Queen Elizabeth",
           "J. E. Neale",
           18,
           2
          ],
          [
           "Other work",
           "Right Ho, Jeeves",
           "P. G. Wodehouse",
           1711,
           6
          ],
          [
           "Other work",
           "Scarweather",
           "Anthony Rolls",
           57,
           2
          ],
          [
           "Other work",
           "Shadow on the Wall",
           "H. C. Bailey",
           5,
           1
          ],
          [
           "Other work",
           "So Red the Rose",
           "Stark Young",
           10,
           10
          ],
          [
           "Other work",
           "Tender Is the Night",
           "F. Scott Fitzgerald",
           5257,
           7
          ],
          [
           "Other work",
           "The 12:30 from Croydon",
           "Freeman Wills Crofts",
           104,
           6
          ],
          [
           "Other work",
           "The Ante-Room",
           "Kate O'Brien",
           16,
           3
          ],
          [
           "Other work",
           "The Art of the Novel: Critical Prefaces",
           "Henry James",
           7,
           6
          ],
          [
           "Other work",
           "The Cadaver of Gideon Wyck",
           "Alexander Laing",
           22,
           5
          ],
          [
           "Other work",
           "The Case of the Howling Dog",
           "Erle Stanley Gardner",
           152,
           10
          ],
          [
           "Other work",
           "The Case of the Lucky Legs",
           "Erle Stanley Gardner",
           115,
           7
          ],
          [
           "Other work",
           "The Casino Murder Case: A Philo Vance Mystery",
           "S. S. Van Dine",
           28,
           6
          ],
          [
           "Other work",
           "The Daring Young Man on the Flying Trapeze",
           "William Saroyan",
           64,
           20
          ],
          [
           "Other work",
           "The Death-Ship: The Story of an American Sailor",
           "B. Traven",
           169,
           1
          ],
          [
           "Other work",
           "The Forty Days of Musa Dagh",
           "Franz Werfel",
           162,
           2
          ],
          [
           "Other work",
           "The Ginger Griffin",
           "Ann Bridge",
           2,
           9
          ],
          [
           "Other work",
           "The Ha-Ha Case",
           "J. J. Connington",
           6,
           2
          ],
          [
           "Other work",
           "The Mystery of Dead Man's Heath",
           "Joseph Jefferson Farjeon",
           2,
           3
          ],
          [
           "Other work",
           "The Narrow Land: Folk Chronicles of Old Cape Cod",
           "Elizabeth Reynard",
           2,
           1
          ],
          [
           "Other work",
           "The Nine Tailors",
           "Dorothy Sayers",
           1308,
           13
          ],
          [
           "Other work",
           "The Portcullis Room",
           "Valentine Williams",
           5,
           2
          ],
          [
           "Other work",
           "The Postman Always Rings Twice",
           "James M. Cain",
           2553,
           2
          ],
          [
           "Other work",
           "The Rock",
           "T. S. Eliot",
           9,
           3
          ],
          [
           "Other work",
           "The Salzburg Tales",
           "Christina Stead",
           9,
           7
          ],
          [
           "Other work",
           "The Thin Man",
           "Dashiell Hammett",
           2233,
           7
          ],
          [
           "Other work",
           "The Woman Who Had Imagination and Other Stories",
           "H. E. Bates",
           4,
           3
          ],
          [
           "Other work",
           "The World as I See It",
           "Albert Einstein",
           566,
           2
          ],
          [
           "Other work",
           "The Young Manhood of Studs Lonigan",
           "James T. Farrell",
           15,
           8
          ],
          [
           "Other work",
           "Tropic of Cancer",
           "Henry Miller",
           3473,
           1
          ],
          [
           "Other work",
           "Unfinished Cathedral",
           "Thomas Sigismund Stribling",
           8,
           4
          ],
          [
           "Other work",
           "While Rome Burns",
           "Alexander Woollcott",
           8,
           3
          ],
          [
           "Other work",
           "Why Didn't They Ask Evans?",
           "Agatha Christie",
           1376,
           3
          ],
          [
           "Other work",
           "Work of Art",
           "Sinclair Lewis",
           7,
           7
          ],
          [
           "Other work",
           "Young Joseph",
           "Thomas Mann",
           15,
           3
          ],
          [
           "Other work",
           "A Century of Love Stories",
           "Gilbert Frankau",
           1,
           2
          ],
          [
           "Other work",
           "Africa Dances",
           "Geoffrey Gorer",
           1,
           3
          ],
          [
           "Other work",
           "An Autobiographical Study",
           "Sigmund Freud",
           26,
           4
          ],
          [
           "Other work",
           "Beany-Eye",
           "David Garnett",
           1,
           4
          ],
          [
           "Other work",
           "Butterfield 8",
           "John O'Hara",
           259,
           10
          ],
          [
           "Other work",
           "Come and Get It",
           "Edna Ferber",
           8,
           9
          ],
          [
           "Other work",
           "Death in the Stocks",
           "Georgette Heyer",
           442,
           3
          ],
          [
           "Other work",
           "Don Fernando",
           "W. Somerset Maugham",
           18,
           3
          ],
          [
           "Other work",
           "Feminine Attitudes in the Nineteenth Century",
           "C. Willett Cunnington",
           1,
           4
          ],
          [
           "Other work",
           "From Death to Morning",
           "Thomas Wolfe",
           15,
           2
          ],
          [
           "Other work",
           "Gaudy Night",
           "Dorothy Sayers",
           1914,
           23
          ],
          [
           "Other work",
           "God Is My Adventure: A Book on Modern Mystics, Masters and Teachers",
           "Rom Landau",
           1,
           4
          ],
          [
           "Other work",
           "Golden Apples",
           "Marjorie Kinnan Rawlings",
           4,
           4
          ],
          [
           "Other work",
           "Green Hills of Africa",
           "Ernest Hemingway",
           682,
           9
          ],
          [
           "Other work",
           "Honey in the Horn",
           "H. L. Davis",
           87,
           12
          ],
          [
           "Other work",
           "I Change Worlds: The Remaking of an American",
           "Anna Louise Strong",
           1,
           4
          ],
          [
           "Other work",
           "Illyrian Spring",
           "Ann Bridge",
           50,
           9
          ],
          [
           "Other work",
           "In Praise of Idleness and Other Essays",
           "Bertrand Russell",
           511,
           3
          ],
          [
           "Other work",
           "It Can't Happen Here",
           "Sinclair Lewis",
           2710,
           18
          ],
          [
           "Other work",
           "Jobber Skald",
           "John Cowper Powys",
           19,
           5
          ],
          [
           "Other work",
           "Land under England",
           "Joseph O'Neill",
           20,
           2
          ],
          [
           "Other work",
           "Lectures in America",
           "Gertrude Stein",
           10,
           3
          ],
          [
           "Other work",
           "Life with Father",
           "Clarence Day",
           125,
           4
          ],
          [
           "Other work",
           "Love in Winter",
           "Storm Jameson",
           8,
           9
          ],
          [
           "Other work",
           "Lucy Gayheart",
           "Willa Cather",
           209,
           10
          ],
          [
           "Other work",
           "Mary, Queen of Scotland and the Isles",
           "Stefan Zweig",
           280,
           4
          ],
          [
           "Other work",
           "Mr. Norris Changes Trains",
           "Christopher Isherwood",
           317,
           36
          ],
          [
           "Other work",
           "Mr. Pinkerton Grows a Beard",
           "Zenith Jones Brown",
           2,
           6
          ],
          [
           "Other work",
           "Mules and Men",
           "Zora Neale Hurston",
           201,
           3
          ],
          [
           "Other work",
           "Murder in the Cathedral",
           "T. S. Eliot",
           447,
           13
          ],
          [
           "Other work",
           "My Country and My People",
           "Yutang Lin",
           34,
           12
          ],
          [
           "Other work",
           "My Next Bride",
           "Kay Boyle",
           7,
           8
          ],
          [
           "Other work",
           "National Velvet",
           "Enid Bagnold",
           288,
           12
          ],
          [
           "Other work",
           "North to the Orient",
           "Anne Morrow Lindbergh",
           68,
           1
          ],
          [
           "Other work",
           "Of Time and the River: A Legend of Man's Hunger in His Youth",
           "Thomas Wolfe",
           76,
           7
          ],
          [
           "Other work",
           "Proletarian Literature in the United States: An Anthology",
           "",
           1,
           5
          ],
          [
           "Other work",
           "Pylon",
           "William Faulkner",
           65,
           10
          ],
          [
           "Other work",
           "Queen Victoria",
           "E. F. Benson",
           1,
           2
          ],
          [
           "Other work",
           "Rats, Lice and History",
           "Hans Zinsser",
           60,
           4
          ],
          [
           "Other work",
           "Salamina",
           "Rockwell Kent",
           5,
           2
          ],
          [
           "Other work",
           "Saraband for Dead Lovers",
           "Helen Simpson",
           1,
           3
          ],
          [
           "Other work",
           "Seven Pillars of Wisdom",
           "T. E. Lawrence",
           742,
           9
          ],
          [
           "Other work",
           "Some Versions of Pastoral: A Study of the Pastoral Form in Literature",
           "William Empson",
           5,
           4
          ],
          [
           "Other work",
           "The Achievement of T. S. Eliot: An Essay on the Nature of Poetry",
           "F. O. Matthiessen",
           2,
           2
          ],
          [
           "Other work",
           "The Art of Happiness",
           "John Cowper Powys",
           4,
           3
          ],
          [
           "Other work",
           "The Asiatics",
           "Frederic Prokosch",
           30,
           10
          ],
          [
           "Other work",
           "The Clergyman's Daughter",
           "George Orwell",
           644,
           1
          ],
          [
           "Other work",
           "The Furys",
           "James Hanley",
           1,
           4
          ],
          [
           "Other work",
           "The Garden Murder Case",
           "S. S. Van Dine",
           17,
           10
          ],
          [
           "Other work",
           "The Harsh Voice: Four Short Novels",
           "Rebecca West",
           9,
           9
          ],
          [
           "Other work",
           "The House in Paris",
           "Elizabeth Bowen",
           278,
           23
          ],
          [
           "Other work",
           "The House of the Four Winds",
           "John Buchan",
           20,
           12
          ],
          [
           "Other work",
           "The Last Puritan: A Memoir in the Form of a Novel",
           "George Santayana",
           20,
           10
          ],
          [
           "Other work",
           "The Poacher",
           "H. E. Bates",
           1,
           1
          ],
          [
           "Other work",
           "The Root and the Flower",
           "L. H. Myers",
           12,
           6
          ],
          [
           "Other work",
           "The Saint in New York",
           "Leslie Charteris",
           44,
           9
          ],
          [
           "Other work",
           "The Scandal of Father Brown",
           "G. K. Chesterton",
           517,
           10
          ],
          [
           "Other work",
           "The Stars Look Down",
           "A. J. Cronin",
           73,
           14
          ],
          [
           "Other work",
           "The Well and the Shallows",
           "G. K. Chesterton",
           16,
           4
          ],
          [
           "Other work",
           "This Was Ivor Trent",
           "Claude Houghton Oldfield",
           3,
           8
          ],
          [
           "Other work",
           "Three Plays",
           "Clifford Odets",
           4,
           5
          ],
          [
           "Other work",
           "Tortilla Flat",
           "John Steinbeck",
           2601,
           5
          ],
          [
           "Other work",
           "Vein of Iron",
           "Ellen Anderson Gholson Glasgow",
           23,
           5
          ],
          [
           "Other work",
           "Virgin Soil Upturned",
           "Mikhail Sholokhov",
           18,
           1
          ],
          [
           "Other work",
           "We Too Are Drifting",
           "Gale Wilhelm",
           6,
           1
          ],
          [
           "Other work",
           "What Are We To Do With Our Lives?",
           "H. G. Wells",
           8,
           2
          ],
          [
           "Other work",
           "What Happens in Hamlet",
           "John Dover Wilson",
           16,
           2
          ],
          [
           "Other work",
           "White Ladies",
           "Francis Brett Young",
           7,
           3
          ],
          [
           "Other work",
           "Young Renny",
           "Mazo De la Roche",
           16,
           11
          ],
          [
           "Other work",
           "A City of Bells",
           "Elizabeth Goudge",
           94,
           4
          ],
          [
           "Other work",
           "A World I Never Made",
           "James T. Farrell",
           6,
           4
          ],
          [
           "Other work",
           "Abinger Harvest",
           "E. M. Forster",
           6,
           16
          ],
          [
           "Other work",
           "Absalom, Absalom!",
           "William Faulkner",
           2276,
           16
          ],
          [
           "Other work",
           "An American Doctor's Odyssey",
           "Victor Heiser",
           7,
           8
          ],
          [
           "Other work",
           "Bird Alone",
           "Seán Ó Faoláin",
           3,
           12
          ],
          [
           "Other work",
           "Cards on the Table",
           "Agatha Christie",
           2384,
           10
          ],
          [
           "Other work",
           "Cosmopolitans",
           "W. Somerset Maugham",
           7,
           7
          ],
          [
           "Other work",
           "Danger in the Dark",
           "Mignon Good Eberhart",
           5,
           7
          ],
          [
           "Other work",
           "Dead Man Control",
           "Helen Reilly",
           2,
           6
          ],
          [
           "Other work",
           "Death of a Man",
           "Kay Boyle",
           7,
           12
          ],
          [
           "Other work",
           "Desert Encounter",
           "Knud Holmboe",
           48,
           2
          ],
          [
           "Other work",
           "Doctor Serocold",
           "Helen Ashton",
           2,
           1
          ],
          [
           "Other work",
           "Drums along the Mohawk",
           "Walter Dumaux Edmonds",
           126,
           6
          ],
          [
           "Other work",
           "Eyeless in Gaza",
           "Aldous Huxley",
           179,
           22
          ],
          [
           "Other work",
           "Fighting Angel",
           "Pearl S. Buck",
           42,
           7
          ],
          [
           "Other work",
           "Flowers for the Judge",
           "Margery Allingham",
           144,
           2
          ],
          [
           "Other work",
           "Flowers of Evil",
           "Charles Baudelaire",
           1635,
           2
          ],
          [
           "Other work",
           "Freedom, Farewell!",
           "Phyllis Eleanor Bentley",
           1,
           3
          ],
          [
           "Other work",
           "From Hegel to Marx",
           "Sidney Hook",
           3,
           1
          ],
          [
           "Other work",
           "Gone with the Wind",
           "Margaret Mitchell",
           20959,
           30
          ],
          [
           "Other work",
           "Herndon's Life of Lincoln",
           "William Henry & Welk Herndon",
           15,
           1
          ],
          [
           "Other work",
           "I Found No Peace",
           "Webb Miller",
           2,
           3
          ],
          [
           "Other work",
           "In Dubious Battle",
           "John Steinbeck",
           810,
           1
          ],
          [
           "Other work",
           "Inhibitions, Symptoms and Anxiety",
           "Sigmund Freud",
           19,
           3
          ],
          [
           "Other work",
           "Inside Europe",
           "John Gunther",
           9,
           10
          ],
          [
           "Other work",
           "Keep the Aspidistra Flying",
           "George Orwell",
           1290,
           16
          ],
          [
           "Other work",
           "Laburnum Grove",
           "J. B. Priestley",
           1,
           3
          ],
          [
           "Other work",
           "Maiden Castle",
           "John Cowper Powys",
           12,
           2
          ],
          [
           "Other work",
           "Mathematics for the Million",
           "Lancelot Thomas Hogben",
           22,
           1
          ],
          [
           "Other work",
           "Men and Brethren",
           "James Gould Cozzens",
           2,
           2
          ],
          [
           "Other work",
           "Mr. Fortune, Please",
           "H. C. Bailey",
           4,
           3
          ],
          [
           "Other work",
           "Murder in Mesopotamia",
           "Agatha Christie",
           2157,
           12
          ],
          [
           "Other work",
           "My Ten Years in a Quandary, and How They Grew",
           "Robert Benchley",
           18,
           3
          ],
          [
           "Other work",
           "Nightwood",
           "Djuna Barnes",
           1075,
           16
          ],
          [
           "Other work",
           "Pale Horse, Pale Rider",
           "Katherine Anne Porter",
           512,
           7
          ],
          [
           "Other work",
           "Poems of Tennyson",
           "Alfred Tennyson",
           154,
           3
          ],
          [
           "Other work",
           "Sherston's Progress",
           "Siegfried Sassoon",
           30,
           4
          ],
          [
           "Other work",
           "South Riding: An English Landscape",
           "Winifred Holtby",
           299,
           17
          ],
          [
           "Other work",
           "Stories of Three Decades",
           "Thomas Mann",
           12,
           3
          ],
          [
           "Other work",
           "The ABC Murders",
           "Agatha Christie",
           6217,
           12
          ],
          [
           "Other work",
           "The Ascent of F6",
           "W. H. & Isherwood Auden",
           6,
           11
          ],
          [
           "Other work",
           "The Autobiography of G. K. Chesterton",
           "G. K. Chesterton",
           44,
           7
          ],
          [
           "Other work",
           "The Case of the Missing Minutes: A Ludovic Travers Mystery",
           "Christopher Bush",
           4,
           5
          ],
          [
           "Other work",
           "The Chinese Written Character as a Medium for Poetry",
           "Ernest & Pound Fenollosa",
           27,
           1
          ],
          [
           "Other work",
           "The Corpse in the Crimson Slippers",
           "R. A. J. Walling",
           3,
           5
          ],
          [
           "Other work",
           "The Croquet Player",
           "H. G. Wells",
           47,
           2
          ],
          [
           "Other work",
           "The Diary of Selma Lagerlöf",
           "Selma Lagerlöf",
           6,
           2
          ],
          [
           "Other work",
           "The Exile",
           "Pearl S. Buck",
           35,
           11
          ],
          [
           "Other work",
           "The Faber Book of Modern Verse",
           "",
           9,
           5
          ],
          [
           "Other work",
           "The Flax of Dream",
           "Henry Williamson",
           3,
           1
          ],
          [
           "Other work",
           "The Flowering of New England",
           "Van Wyck Brooks",
           10,
           7
          ],
          [
           "Other work",
           "The Kidnap Murder Case",
           "S. S. Van Dine",
           14,
           6
          ],
          [
           "Other work",
           "The Loss of the Jane Vosper",
           "Freeman Wills Crofts",
           8,
           7
          ],
          [
           "Other work",
           "The Missing Miniature, or the Adventures of a Sensitive Butcher",
           "Erich Kästner",
           22,
           3
          ],
          [
           "Other work",
           "The Olive Field",
           "Ralph Bates",
           2,
           3
          ],
          [
           "Other work",
           "The Paradoxes of Mr. Pond",
           "G. K. Chesterton",
           34,
           3
          ],
          [
           "Other work",
           "The People, Yes",
           "Carl Sandburg",
           21,
           2
          ],
          [
           "Other work",
           "The Punch and Judy Murders",
           "John Dickson Carr",
           10,
           8
          ],
          [
           "Other work",
           "The Story of a Novel",
           "Thomas Wolfe",
           27,
           1
          ],
          [
           "Other work",
           "The Thinking Reed",
           "Rebecca West",
           20,
           9
          ],
          [
           "Other work",
           "The Way of a Transgressor",
           "Negley Farson",
           6,
           6
          ],
          [
           "Other work",
           "The Weather in the Streets",
           "Rosamond Lehmann",
           99,
           27
          ],
          [
           "Other work",
           "The Whispering Window",
           "Cortland Fitzsimmons",
           2,
           5
          ],
          [
           "Other work",
           "Trent's Own Case",
           "Edmund Clerihew Bentley",
           19,
           9
          ],
          [
           "Other work",
           "Waugh in Abyssinia",
           "Evelyn Waugh",
           11,
           2
          ],
          [
           "Other work",
           "Whiteoak Harvest",
           "Mazo De la Roche",
           9,
           14
          ],
          [
           "Other work",
           "Busman's Honeymoon",
           "Dorothy Sayers",
           896,
           21
          ],
          [
           "Other work",
           "Death on the Nile",
           "Agatha Christie",
           8435,
           10
          ],
          [
           "Other work",
           "Europa in Limbo",
           "Robert Briffault",
           1,
           2
          ],
          [
           "Other work",
           "Everybody's Autobiography",
           "Gertrude Stein",
           25,
           6
          ],
          [
           "Other work",
           "Famine",
           "Liam O'Flaherty",
           31,
           6
          ],
          [
           "Other work",
           "Figure Away: An Asey Mayo Mystery",
           "Phoebe Atwood Taylor",
           5,
           8
          ],
          [
           "Other work",
           "High Sheriff",
           "Henry Wade",
           3,
           4
          ],
          [
           "Other work",
           "I Can Get It for You Wholesale",
           "Jerome Weidman",
           10,
           1
          ],
          [
           "Other work",
           "I Live under a Black Sun",
           "Edith Sitwell",
           2,
           9
          ],
          [
           "Other work",
           "In Parenthesis",
           "David Jones",
           84,
           2
          ],
          [
           "Other work",
           "Invasion 14",
           "Maxence Van der Meersch",
           4,
           1
          ],
          [
           "Other work",
           "It's Perfectly True and Other Stories",
           "Hans Christian Andersen",
           1,
           1
          ],
          [
           "Other work",
           "Let Your Mind Alone!",
           "James Thurber",
           14,
           17
          ],
          [
           "Other work",
           "Letters from Iceland",
           "W. H. & MacNeice Auden",
           37,
           11
          ],
          [
           "Other work",
           "Life and Death of a Spanish Town",
           "Elliot Paul",
           4,
           7
          ],
          [
           "Other work",
           "Lord Emsworth and Others",
           "P. G. Wodehouse",
           116,
           2
          ],
          [
           "Other work",
           "Madame Curie",
           "Eve Curie",
           296,
           4
          ],
          [
           "Other work",
           "Married People",
           "Mary Roberts Rinehart",
           1,
           1
          ],
          [
           "Other work",
           "Midnight on the Desert",
           "J. B. Priestley",
           2,
           2
          ],
          [
           "Other work",
           "More than Somewhat",
           "Damon Runyon",
           15,
           4
          ],
          [
           "Other work",
           "Murder in the Mews",
           "Agatha Christie",
           868,
           8
          ],
          [
           "Other work",
           "Murder Up My Sleeve",
           "Erle Stanley Gardner",
           15,
           7
          ],
          [
           "Other work",
           "Northwest Passage",
           "Kenneth Roberts",
           115,
           15
          ],
          [
           "Other work",
           "Of Mice and Men",
           "John Steinbeck",
           37837,
           12
          ],
          [
           "Other work",
           "Oliver Cromwell",
           "John Buchan",
           6,
           1
          ],
          [
           "Other work",
           "Pepita",
           "Vita Sackville-West",
           22,
           13
          ],
          [
           "Other work",
           "Polite Essays",
           "Ezra Pound",
           2,
           4
          ],
          [
           "Other work",
           "Present Indicative",
           "Noel Coward",
           8,
           9
          ],
          [
           "Other work",
           "Rumbin Galleries",
           "Booth Tarkington",
           1,
           1
          ],
          [
           "Other work",
           "Saint at the Thieves' Picnic",
           "Leslie Charteris",
           8,
           3
          ],
          [
           "Other work",
           "Serenade",
           "James M. Cain",
           100,
           6
          ],
          [
           "Other work",
           "Something of Myself: For My Friends Known and Unknown",
           "Rudyard Kipling",
           21,
           12
          ],
          [
           "Other work",
           "Summer Moonshine",
           "P. G. Wodehouse",
           143,
           5
          ],
          [
           "Other work",
           "T. E. Lawrence by His Friends",
           "A. W. Lawrence",
           5,
           4
          ],
          [
           "Other work",
           "The Ace of Knaves",
           "Leslie Charteris",
           15,
           8
          ],
          [
           "Other work",
           "The Case of the Lame Canary",
           "Erle Stanley Gardner",
           74,
           10
          ],
          [
           "Other work",
           "The Citadel",
           "A. J. Cronin",
           534,
           24
          ],
          [
           "Other work",
           "The Crystal Cabinet",
           "Mary Butts",
           3,
           7
          ],
          [
           "Other work",
           "The D. A. Calls It Murder",
           "Erle Stanley Gardner",
           22,
           10
          ],
          [
           "Other work",
           "The Education of Hyman Kaplan",
           "Leo Rosten",
           116,
           5
          ],
          [
           "Other work",
           "The Late George Apley",
           "John P. Marquand",
           136,
           9
          ],
          [
           "Other work",
           "The Man with the Blue Guitar",
           "Wallace Stevens",
           8,
           1
          ],
          [
           "Other work",
           "The May-Week Murders",
           "Douglas G. Browne",
           3,
           7
          ],
          [
           "Other work",
           "The Novel and the People",
           "Ralph Fox",
           3,
           4
          ],
          [
           "Other work",
           "The Puzzle of the Blue Banderilla",
           "Stuart Palmer",
           7,
           2
          ],
          [
           "Other work",
           "The Rains Came",
           "Louis Bromfield",
           60,
           24
          ],
          [
           "Other work",
           "The Revolution Betrayed: What Is the Soviet Union and Where Is It Going?",
           "Leon Trotsky",
           91,
           1
          ],
          [
           "Other work",
           "The Road to Wigan Pier",
           "George Orwell",
           1309,
           2
          ],
          [
           "Other work",
           "The Seven Who Fled",
           "Frederic Prokosch",
           5,
           9
          ],
          [
           "Other work",
           "The Six Queer Things",
           "Christopher Caudwell",
           16,
           2
          ],
          [
           "Other work",
           "The Stranger Prince",
           "Margaret Irwin",
           3,
           4
          ],
          [
           "Other work",
           "The Street of the Fishing Cat",
           "Jolán Földes",
           8,
           3
          ],
          [
           "Other work",
           "The Years",
           "Virginia Woolf",
           383,
           27
          ],
          [
           "Other work",
           "Theatre",
           "W. Somerset Maugham",
           321,
           13
          ],
          [
           "Other work",
           "Thieves Like Us",
           "Edward Anderson",
           85,
           2
          ],
          [
           "Other work",
           "To Have and Have Not",
           "Ernest Hemingway",
           1702,
           23
          ],
          [
           "Other work",
           "To Wake the Dead",
           "John Dickson Carr",
           35,
           11
          ],
          [
           "Other work",
           "Victoria Four-Thirty",
           "Cecil Roberts",
           33,
           5
          ],
          [
           "Other work",
           "White Mule",
           "William Carlos Williams",
           14,
           8
          ],
          [
           "Other work",
           "Winged Pharaoh",
           "Joan Grant",
           35,
           8
          ],
          [
           "Other work",
           "After the Death of Don Juan",
           "Sylvia Townsend Warner",
           6,
           2
          ],
          [
           "Other work",
           "All This and Heaven Too",
           "Rachel Field",
           56,
           9
          ],
          [
           "Other work",
           "America",
           "Franz Kafka",
           1050,
           3
          ],
          [
           "Other work",
           "Apropos of Dolores",
           "H. G. Wells",
           3,
           8
          ],
          [
           "Other work",
           "Banbury Bog",
           "Phoebe Atwood Taylor",
           11,
           5
          ],
          [
           "Other work",
           "Being Geniuses Together",
           "Robert McAlmon",
           15,
           8
          ],
          [
           "Other work",
           "Brighton Rock",
           "Graham Greene",
           1600,
           10
          ],
          [
           "Other work",
           "Death in Five Boxes",
           "John Dickson Carr",
           18,
           13
          ],
          [
           "Other work",
           "Deep Summer",
           "Gwen Bristow",
           124,
           2
          ],
          [
           "Other work",
           "Dynasty of Death",
           "Taylor Caldwell",
           17,
           2
          ],
          [
           "Other work",
           "Enemies of Promise",
           "Cyril Connolly",
           25,
           15
          ],
          [
           "Other work",
           "Homage to Catalonia",
           "George Orwell",
           2858,
           1
          ],
          [
           "Other work",
           "Hope of Heaven and Other Stories",
           "John O'Hara",
           28,
           6
          ],
          [
           "Other work",
           "House of All Nations",
           "Christina Stead",
           5,
           9
          ],
          [
           "Other work",
           "In Hazard",
           "Richard Hughes",
           72,
           7
          ],
          [
           "Other work",
           "Joseph in Egypt",
           "Thomas Mann",
           19,
           6
          ],
          [
           "Other work",
           "Journeyman",
           "Erskine Preston Caldwell",
           39,
           8
          ],
          [
           "Other work",
           "Lions and Shadows: An Education in the Twenties",
           "Christopher Isherwood",
           44,
           14
          ],
          [
           "Other work",
           "Listen! The Wind",
           "Anne Morrow Lindbergh",
           22,
           6
          ],
          [
           "Other work",
           "Man against Himself",
           "Karl Menninger",
           10,
           10
          ],
          [
           "Other work",
           "Monday Night",
           "Kay Boyle",
           2,
           2
          ],
          [
           "Other work",
           "Mr. Zero",
           "Patricia Wentworth",
           17,
           6
          ],
          [
           "Other work",
           "Murphy",
           "Samuel Beckett",
           370,
           3
          ],
          [
           "Other work",
           "My Sister Eileen",
           "Ruth McKenney",
           28,
           7
          ],
          [
           "Other work",
           "My Son! My Son!",
           "Howard Spring",
           23,
           9
          ],
          [
           "Other work",
           "Nonsense Songs",
           "Edward Lear",
           197,
           2
          ],
          [
           "Other work",
           "Not to Be Taken",
           "Anthony Berkeley",
           12,
           9
          ],
          [
           "Other work",
           "Our Town",
           "Thornton Wilder",
           1826,
           1
          ],
          [
           "Other work",
           "Picasso",
           "Gertrude Stein",
           123,
           1
          ],
          [
           "Other work",
           "Plume: Précédé de lointain intérieur",
           "Henri Michaux",
           15,
           1
          ],
          [
           "Other work",
           "Rebecca",
           "Daphne Du Maurier",
           28584,
           17
          ],
          [
           "Other work",
           "Red Star Over China",
           "Edgar Snow",
           77,
           2
          ],
          [
           "Other work",
           "Scoop",
           "Evelyn Waugh",
           1044,
           10
          ],
          [
           "Other work",
           "Swiss Sonata",
           "Gwethalyn Graham",
           2,
           2
          ],
          [
           "Other work",
           "The Black Jacobins: Toussaint L'Ouverture and the San Domingo Revolution",
           "C. L. R. James",
           339,
           3
          ],
          [
           "Other work",
           "The Case of the Shoplifter's Shoe",
           "Erle Stanley Gardner",
           48,
           9
          ],
          [
           "Other work",
           "The Case of the Substitute Face",
           "Erle Stanley Gardner",
           54,
           8
          ],
          [
           "Other work",
           "The Culture of Cities",
           "Lewis Mumford",
           13,
           2
          ],
          [
           "Other work",
           "The Dead Don't Care",
           "Jonathan Latimer",
           16,
           10
          ],
          [
           "Other work",
           "The Death of the Heart",
           "Elizabeth Bowen",
           561,
           25
          ],
          [
           "Other work",
           "The Doomsday Men",
           "J. B. Priestley",
           4,
           6
          ],
          [
           "Other work",
           "The Fashion in Shrouds",
           "Margery Allingham",
           179,
           7
          ],
          [
           "Other work",
           "The Fathers",
           "Allen Tate",
           16,
           7
          ],
          [
           "Other work",
           "The Judas Window",
           "John Dickson Carr",
           53,
           12
          ],
          [
           "Other work",
           "The Long Valley",
           "John Steinbeck",
           356,
           14
          ],
          [
           "Other work",
           "The Squire",
           "Enid Bagnold",
           22,
           4
          ],
          [
           "Other work",
           "The Summing Up",
           "W. Somerset Maugham",
           132,
           9
          ],
          [
           "Other work",
           "The Unvanquished",
           "William Faulkner",
           392,
           12
          ],
          [
           "Other work",
           "The Wall",
           "Mary Roberts Rinehart",
           57,
           6
          ],
          [
           "Other work",
           "The Yearling",
           "Marjorie Kinnan Rawlings",
           1164,
           15
          ],
          [
           "Other work",
           "This Proud Heart",
           "Pearl S. Buck",
           72,
           9
          ],
          [
           "Other work",
           "Three Guineas",
           "Virginia Woolf",
           265,
           13
          ],
          [
           "Other work",
           "Trent Intervenes",
           "Edmund Clerihew Bentley",
           14,
           5
          ],
          [
           "Other work",
           "Unforgotten Years",
           "Logan Pearsall Smith",
           7,
           6
          ],
          [
           "Other work",
           "Wait until Spring, Bandini",
           "John Fante",
           533,
           3
          ],
          [
           "Other work",
           "Warrant for X",
           "Philip MacDonald",
           19,
           11
          ],
          [
           "Other work",
           "We'll to the Woods No More",
           "Édouard Dujardin",
           22,
           1
          ],
          [
           "Other work",
           "World Brain",
           "H. G. Wells",
           7,
           1
          ],
          [
           "Other work",
           "A Family Reunion",
           "T. S. Eliot",
           61,
           15
          ],
          [
           "Other work",
           "A Political and Cultural History of Modern Europe",
           "Carlton J. H. Hayes",
           1,
           1
          ],
          [
           "Other work",
           "Abe Lincoln in Illinois",
           "Robert E. Sherwood",
           9,
           1
          ],
          [
           "Other work",
           "After Many a Summer",
           "Aldous Huxley",
           206,
           13
          ],
          [
           "Other work",
           "At Swim-Two-Birds",
           "Flann O'Brien",
           933,
           7
          ],
          [
           "Other work",
           "Beware of Pity",
           "Stefan Zweig",
           1152,
           5
          ],
          [
           "Other work",
           "Christmas Holiday",
           "W. Somerset Maugham",
           203,
           15
          ],
          [
           "Other work",
           "Coming Up for Air",
           "George Orwell",
           953,
           8
          ],
          [
           "Other work",
           "Country Notes",
           "Vita Sackville-West",
           4,
           1
          ],
          [
           "Other work",
           "Fighting for Life",
           "S. Josephine Baker",
           49,
           1
          ],
          [
           "Other work",
           "Finnegans Wake",
           "James Joyce",
           1019,
           10
          ],
          [
           "Other work",
           "Goodbye to Berlin",
           "Christopher Isherwood",
           854,
           11
          ],
          [
           "Other work",
           "Here Lies: The Collected Stories",
           "Dorothy Parker",
           19,
           8
          ],
          [
           "Other work",
           "How Green Was My Valley",
           "Richard Llewellyn",
           1464,
           2
          ],
          [
           "Other work",
           "In the Teeth of the Evidence",
           "Dorothy Sayers",
           188,
           3
          ],
          [
           "Other work",
           "Inside Asia",
           "John Gunther",
           5,
           4
          ],
          [
           "Other work",
           "Journey to a War",
           "W. H. & Isherwood Auden",
           10,
           8
          ],
          [
           "Other work",
           "Katia",
           "Marthe Bibesco",
           2,
           2
          ],
          [
           "Other work",
           "Kitty Foyle",
           "Christopher Morley",
           29,
           7
          ],
          [
           "Other work",
           "L'amour et l'occident",
           "Denis de Rougemont",
           45,
           1
          ],
          [
           "Other work",
           "Let the People Sing",
           "J. B. Priestley",
           4,
           9
          ],
          [
           "Other work",
           "My American: A Romance",
           "Stella Gibbons",
           20,
           7
          ],
          [
           "Other work",
           "Night Rider",
           "Robert Penn Warren",
           17,
           2
          ],
          [
           "Other work",
           "Party Going",
           "Henry Green",
           103,
           6
          ],
          [
           "Other work",
           "Poems",
           "Federico García Lorca",
           815,
           1
          ],
          [
           "Other work",
           "Reviewing",
           "Virginia Woolf",
           3,
           2
          ],
          [
           "Other work",
           "Seasoned Timber",
           "Dorothy Canfield Fisher",
           10,
           12
          ],
          [
           "Other work",
           "The Bigger They Come",
           "Erle Stanley Gardner",
           38,
           11
          ],
          [
           "Other work",
           "The Case of the Perjured Parrot",
           "Erle Stanley Gardner",
           97,
           9
          ],
          [
           "Other work",
           "The Chiffon Scarf",
           "Mignon Good Eberhart",
           6,
           5
          ],
          [
           "Other work",
           "The Day of the Locust",
           "Nathanael West",
           889,
           3
          ],
          [
           "Other work",
           "The Grapes of Wrath",
           "John Steinbeck",
           18740,
           23
          ],
          [
           "Other work",
           "The Idea of a Christian Society",
           "T. S. Eliot",
           47,
           4
          ],
          [
           "Other work",
           "The Patriot",
           "Pearl S. Buck",
           26,
           15
          ],
          [
           "Other work",
           "The Problem of the Green Capsule",
           "John Dickson Carr",
           62,
           8
          ],
          [
           "Other work",
           "The Reader Is Warned",
           "John Dickson Carr",
           22,
           5
          ],
          [
           "Other work",
           "The Wild Palms",
           "William Faulkner",
           323,
           14
          ],
          [
           "Other work",
           "Wickford Point",
           "John P. Marquand",
           18,
           10
          ],
          [
           "Other work",
           "Young Man with a Horn",
           "Dorothy Baker",
           69,
           7
          ],
          [
           "Other work",
           "Books and You",
           "W. Somerset Maugham",
           11,
           1
          ],
          [
           "Other work",
           "Death at the Bar",
           "Ngaio Marsh",
           221,
           6
          ],
          [
           "Other work",
           "Eggs, Beans and Crumpets",
           "P. G. Wodehouse",
           98,
           2
          ],
          [
           "Other work",
           "Good-Bye, Mr. Chips",
           "James Hilton",
           816,
           4
          ],
          [
           "Other work",
           "Native Son",
           "Richard Wright",
           4138,
           6
          ],
          [
           "Other work",
           "Portrait of Jennie",
           "Robert Nathan",
           175,
           3
          ],
          [
           "Other work",
           "Portrait of the Artist as a Young Dog",
           "Dylan Thomas",
           140,
           7
          ],
          [
           "Other work",
           "Sad Cypress",
           "Agatha Christie",
           1617,
           4
          ],
          [
           "Other work",
           "Testament of Friendship",
           "Vera Brittain",
           22,
           4
          ],
          [
           "Other work",
           "The Eagles Gather",
           "Taylor Caldwell",
           5,
           4
          ],
          [
           "Other work",
           "The Mixture as Before",
           "W. Somerset Maugham",
           1,
           2
          ],
          [
           "Other work",
           "The Power and the Glory",
           "Graham Greene",
           2314,
           7
          ],
          [
           "Other work",
           "Trouble in July",
           "Erskine Preston Caldwell",
           32,
           4
          ],
          [
           "Other work",
           "Turn on the Heat",
           "Erle Stanley Gardner",
           67,
           6
          ],
          [
           "Other work",
           "The Short Stories of F. Scott Fitzgerald",
           "F. Scott Fitzgerald",
           336,
           2
          ],
          [
           "Other work",
           "A Child's History of England",
           "Charles Dickens",
           84,
           1
          ],
          [
           "Other work",
           "A Room with a View",
           "E. M. Forster",
           6312,
           16
          ],
          [
           "Other work",
           "Byron's Works",
           "George Gordon Byron Byron",
           57,
           5
          ],
          [
           "Other work",
           "Capital: A Critique of Political Economy",
           "Karl Marx",
           589,
           2
          ],
          [
           "Other work",
           "Charlie Chan",
           "Earl Derr Biggers",
           216,
           1
          ],
          [
           "Other work",
           "Clara Hopgood",
           "Mark Rutherford",
           3,
           1
          ],
          [
           "Other work",
           "De Quincey Autobiography",
           "Thomas de Quincey",
           651,
           1
          ],
          [
           "Other work",
           "Elizabeth Barrett Browning's Poetical Works",
           "Elizabeth Barrett Browning",
           9,
           2
          ],
          [
           "Other work",
           "Essays",
           "Ralph Waldo Emerson",
           82,
           5
          ],
          [
           "Other work",
           "Fairy Tales",
           "Hans Christian Andersen",
           1378,
           2
          ],
          [
           "Other work",
           "Faust",
           "Johann Wolfgang von Goethe",
           1674,
           2
          ],
          [
           "Other work",
           "Goethe's Poems",
           "Johann Wolfgang von Goethe",
           13,
           1
          ],
          [
           "Other work",
           "Illustrations of the Book of Job",
           "William Blake",
           17,
           1
          ],
          [
           "Other work",
           "in our time / In Our Time",
           "Ernest Hemingway",
           1150,
           15
          ],
          [
           "Other work",
           "Leaves of Grass",
           "Walt Whitman",
           2687,
           10
          ],
          [
           "Other work",
           "Plays",
           "John Millington Synge",
           12,
           4
          ],
          [
           "Other work",
           "Plays",
           "Anton Chekhov",
           1241,
           1
          ],
          [
           "Other work",
           "Poems",
           "James Elroy Flecker",
           4,
           1
          ],
          [
           "Other work",
           "Poems",
           "T. S. Eliot",
           41,
           17
          ],
          [
           "Other work",
           "Poems",
           "Heinrich Heine",
           16,
           1
          ],
          [
           "Other work",
           "Poems",
           "George Meredith",
           2,
           5
          ],
          [
           "Other work",
           "Poems of Oscar Wilde",
           "Oscar Wilde",
           38,
           1
          ],
          [
           "Other work",
           "Prejudices",
           "H. L. Mencken",
           18,
           3
          ],
          [
           "Other work",
           "Recollections of Dante Gabriel Rossetti",
           "",
           2,
           1
          ],
          [
           "Other work",
           "Reminiscences of the English Lake Poets",
           "Thomas de Quincey",
           5,
           3
          ],
          [
           "Other work",
           "Samuel Taylor Coleridge's Works",
           "Samuel Taylor Coleridge",
           44,
           3
          ],
          [
           "Other work",
           "Shakespeare's England: An Account of His Life and Manners of His Age",
           "",
           1,
           3
          ],
          [
           "Other work",
           "Shaving of Shagpat and Farina",
           "George Meredith",
           12,
           1
          ],
          [
           "Other work",
           "Some Imagist Poets: An Anthology",
           "",
           10,
           1
          ],
          [
           "Other work",
           "T. E. Lawrence, Liddell Hart",
           "",
           9,
           1
          ],
          [
           "Other work",
           "Tales of Mystery and Imagination",
           "Edgar Allan Poe",
           425,
           6
          ],
          [
           "Other work",
           "Tennyson’s Poetical Works",
           "Alfred Tennyson",
           21,
           1
          ],
          [
           "Other work",
           "The Great Hunger",
           "Johan Bojer",
           3,
           2
          ],
          [
           "Other work",
           "The Invasion of Europe by the Barbarians",
           "J. B. Bury",
           44,
           1
          ],
          [
           "Other work",
           "The Logic of Hegel",
           "Georg Wilhelm Friedrich Hegel",
           22,
           1
          ],
          [
           "Other work",
           "The Nō Plays of Japan",
           "Arthur Waley",
           11,
           1
          ],
          [
           "Other work",
           "The Prelude",
           "William Wordsworth",
           147,
           2
          ],
          [
           "Other work",
           "The Short Stories of H.G. Wells",
           "H. G. Wells",
           49,
           1
          ],
          [
           "Other work",
           "Wordsworth's Poetical Works",
           "William Wordsworth",
           34,
           3
          ]
         ],
         "hovertemplate": "<b>%{hovertext}</b><br><br>Author: %{customdata[2]}<br>Publication Year: %{x}<br><br>S&C Borrows: %{customdata[4]}<br>Goodreads Reviews: %{customdata[3]:,.0f}<br><br>log(SC/GR): %{y:,.2f}<extra></extra>",
         "hovertext": [
          "The Poetical Works of William Collins",
          "The Lady of the Lake",
          "Sense and Sensibility",
          "Grimms' Fairy Tales",
          "The Swiss Family Robinson",
          "Waverley",
          "Emma",
          "Headlong Hall",
          "Characters of Shakespeare's Plays",
          "Rob Roy",
          "The Diary of John Evelyn",
          "The Heart of Midlothian",
          "The Bride of Lammermoor",
          "Ivanhoe",
          "Confessions of an English Opium Eater",
          "Table-Talk",
          "The Fortunes of Nigel",
          "Liber Amoris, Or, The New Pygmalion",
          "Quentin Durward",
          "The Essays of Elia",
          "Don Juan",
          "Aids to Reflection",
          "The Misfortunes of Elphin",
          "Count Robert of Paris",
          "The Alhambra",
          "Eugénie Grandet",
          "Peter Simple",
          "Rienzi, the Last of the Roman Tribunes",
          "Sartor Resartus",
          "Oliver Twist",
          "Twice-Told Tales",
          "Nicholas Nickleby",
          "The Charterhouse of Parma",
          "Two Years Before the Mast",
          "Barnaby Rudge",
          "On Heroes, Hero-Worship, and The Heroic in History",
          "The Deerslayer",
          "The Old Curiosity Shop",
          "The Diary and Letters of Madame D'Arblay",
          "History of the Conquest of Mexico",
          "Past and Present",
          "The Life and Adventures of Martin Chuzzlewit",
          "The Memoirs of Barry Lyndon, Esq.",
          "A Naturalist's Voyage Round the World",
          "Sybil: Or, the Two Nations",
          "A Book of Nonsense",
          "Mosses from an Old Manse",
          "Pictures from Italy",
          "Typee",
          "A History of the Conquest of Peru",
          "Agnes Grey",
          "Jane Eyre",
          "Omoo",
          "Vanity Fair",
          "Wuthering Heights",
          "Dombey and Son",
          "The Book of Snobs",
          "The Tenant of Wildfell Hall",
          "Shirley",
          "The English Mail-Coach",
          "David Copperfield",
          "The Scarlet Letter",
          "The Seven Lamps of Architecture",
          "White-Jacket",
          "A Wonder-Book for Girls and Boys",
          "Lavengro: The Scholar, the Gypsy, the Priest",
          "Moby-Dick; Or, the Whale",
          "The House of the Seven Gables",
          "The Snow-Image and Other Twice-Told Tales",
          "The Stones of Venice",
          "Pierre; Or, the Ambiguities",
          "The History of Henry Esmond, Esq., a Colonel in the Service of Her Majesty Queen Anne",
          "Cranford",
          "Tanglewood Tales",
          "Villette",
          "Hard Times",
          "Walden",
          "The Newcomes: Memoirs of a Most Respectable Family",
          "Westward Ho! or, The Voyages and Adventures of Sir Amyas Leigh, Knight, of Burrough, in the County of Devon, in the Reign of Her Most Glorious Majesty Queen Elizabeth",
          "English Traits",
          "Representative Men: Seven Lectures",
          "Barchester Towers",
          "Little Dorrit",
          "Scenes of Clerical Life",
          "The Life of Charlotte Brontë",
          "The Professor",
          "Tom Brown's School Days",
          "Gray's Anatomy",
          "Adam Bede",
          "Dissertations and Discussions: Political, Philosophical, and Historical",
          "Idylls of the King",
          "On Liberty",
          "On the Origin of Species",
          "The Bertrams",
          "The Ordeal of Richard Feverel",
          "Education: Intellectual, Moral and Physical",
          "The Marble Faun / Transformation",
          "The Mill on the Floss",
          "Elsie Venner",
          "Evan Harrington",
          "Framley Parsonage",
          "Great Expectations",
          "The History of England, from the Accession of James II",
          "Orley Farm",
          "The House of the Dead",
          "History of Christian Names",
          "Romola",
          "Roundabout Papers",
          "Sylvia's Lovers",
          "The Water-Babies, a Fairy Tale for a Land Baby",
          "The Small House at Allington",
          "Wives and Daughters",
          "Alice's Adventures in Wonderland",
          "Essays in Criticism",
          "Rhoda Fleming",
          "The Ethics of the Dust",
          "The Belton Estate",
          "The Claverings",
          "The Gambler",
          "The Prince's Progress",
          "The English Constitution",
          "The Last Chronicle of Barset",
          "The Posthumous Papers of the Pickwick Club",
          "War and Peace",
          "The Moonstone",
          "The Ring and the Book",
          "Lorna Doone",
          "Sentimental Education",
          "The Innocents Abroad, or The New Pilgrims' Progress",
          "An Essay in Aid of a Grammar of Assent",
          "Lothair",
          "Put Yourself in His Place",
          "The Mystery of Edwin Drood",
          "Desperate Remedies",
          "Middlemarch",
          "The Adventures of Harry Richmond",
          "The Descent of Man, and Selection in Relation to Sex",
          "The Works of Robert Burns",
          "Through the Looking-Glass, and What Alice Found There",
          "Erewhon",
          "The Golden Lion of Grandpere",
          "The Martyrdom of Man",
          "The Possessed",
          "The Torrents of Spring",
          "Under the Greenwood Tree",
          "A Chance Acquaintance",
          "A Pair of Blue Eyes",
          "Little Women, and Little Women Married",
          "Old Court Life in France",
          "Work: A Story of Experience",
          "A Short History of the English People",
          "Far from the Madding Crowd",
          "The Idiot",
          "Beauchamp's Career",
          "Eight Cousins, or The Aunt-Hill",
          "Queen Mary: A Drama",
          "Roderick Hudson",
          "The Uncommercial Traveler",
          "Daniel Deronda",
          "Poems and Essays of Edgar Allan Poe",
          "Rose in Bloom",
          "The Adventures of Tom Sawyer",
          "The Hand of Ethelberta",
          "The Hunting of the Snark",
          "The Prime Minister",
          "Life of Christ",
          "The American",
          "The Wreck of the Grosvenor",
          "Human, All Too Human",
          "Life and Habit",
          "Shelley",
          "The First Violin",
          "The Leavenworth Case",
          "The Return of the Native",
          "Watch and Ward",
          "Daisy Miller",
          "Progress and Poverty: An Inquiry into the Cause of Industrial Depressions and of Increase of Want with Increase of Wealth: The Remedy",
          "Thackeray",
          "The Egoist",
          "Travels with a Donkey in the Cévennes",
          "Confidence",
          "Locke",
          "Nana",
          "The Brothers Karamazov",
          "The Diary of a Man of Fifty",
          "The Trumpet-Major",
          "The Undiscovered Country",
          "Uncle Remus: His Songs and His Sayings",
          "Washington Square",
          "A Laodicean: A Story of To-day",
          "A Modern Instance",
          "Dr. Breen's Practice",
          "John Inglesant",
          "The Portrait of a Lady",
          "Alps and Sanctuaries of Piedmont and the Canton Ticino",
          "Bevis",
          "Familiar Studies of Men and Books",
          "Frau Frohmann and Other Stories",
          "Kept in the Dark",
          "Mademoiselle Fifi",
          "Marion Fay",
          "New Arabian Nights",
          "Swift",
          "The Merry Men and Other Tales and Fables",
          "Two on a Tower",
          "An Autobiography",
          "English as She Is Spoke: Or, a Jest in Sober Earnest",
          "George Sand",
          "The Story of My Heart: My Autobiography",
          "Thus Spake Zarathustra: A Book for All and None",
          "Travels in Arabia Deserta",
          "Une Vie",
          "Jackanapes",
          "The Adventures of Huckleberry Finn",
          "The Author of Beltraffio",
          "The Wild Duck",
          "Walton's Lives",
          "A Child's Garden of Verses",
          "A Mummer's Wife",
          "Diana of the Crossways",
          "Marius the Epicurean",
          "Prince Otto",
          "The Purple Land",
          "The Rise of Silas Lapham",
          "Cashel Byron's Profession",
          "Demos: A Story of English Socialism",
          "Indian Summer",
          "Kidnapped",
          "Little Lord Fauntleroy",
          "Strange Case of Dr. Jekyll and Mr. Hyde",
          "The Casting Away of Mrs. Lecks and Mrs. Aleshine",
          "The Confessions of a Young Man",
          "The Idle Thoughts of an Idle Fellow",
          "The Mayor of Casterbridge",
          "The Princess Casamassima",
          "A Crystal Age",
          "Memories and Portraits",
          "She: A History of Adventure",
          "Specimen Days in America",
          "The Letters of Robert Burns",
          "The Spectator: Selected Essays",
          "The Woodlanders",
          "Auld Licht Idylls",
          "Chita: A Memory of Last Island",
          "Sara Crewe: Or, What Happened at Miss Minchin's",
          "The American Commonwealth",
          "The Aspern Papers",
          "The Black Arrow: A Tale of Two Roses",
          "The Happy Prince and Other Tales",
          "The Lesson of the Master",
          "The Reverberator",
          "The Secret Doctrine",
          "A Connecticut Yankee in King Arthur's Court",
          "A Doll's House",
          "Sylvie and Bruno",
          "The Kreutzer Sonata",
          "The Master of Ballantrae",
          "The Mystery of Cloomber",
          "The Wrong Box",
          "Three Men in a Boat (To Say Nothing of the Dog)",
          "Twilight of the Idols",
          "A Hazard of New Fortunes",
          "Departmental Ditties and Barrack-Room Ballads",
          "Miriam's Schooling and Other Papers",
          "The Crime of Sylvestre Bonnard",
          "The Gentle Art of Making Enemies",
          "The Golden Bough: A Study in Comparative Religion",
          "The Greatest Thing in the World",
          "The Tragic Muse",
          "A Group of Noble Dames",
          "Diary of a Pilgrimage",
          "Gösta Berlings Saga",
          "Hedda Gabler",
          "Intentions",
          "Life and Letters of Robert Browning",
          "Lord Arthur Savile's Crime and Other Stories",
          "Mine Own People",
          "New Grub Street",
          "Peter Ibbetson",
          "Salomé",
          "Tess of the d'Urbervilles",
          "The Light That Failed",
          "The Monk and the Hangman's Daughter",
          "The Occult Sciences",
          "The Poems and Plays of Oliver Goldsmith",
          "The Quintessence of Ibsenism",
          "The Science of Fairy Tales: An Inquiry into Fairy Mythology",
          "Told after Supper",
          "Across the Plains",
          "Born in Exile",
          "Children of the Ghetto: A Study of a Peculiar People",
          "Complete Prose Works",
          "Degeneration",
          "Imperial Purple",
          "Peer Gynt",
          "The Master Builder",
          "The Poems of Andrew Marvell",
          "Ballads and Barrack-Room Ballads",
          "Can Such Things Be?",
          "Catharine Furze",
          "Catriona",
          "Island Nights' Entertainments",
          "Lady Windermere's Fan: A Play about a Good Woman",
          "Maggie: A Girl of the Streets",
          "Many Inventions",
          "Plato and Platonism",
          "The Celtic Twilight",
          "The Odd Women",
          "A House of Gentlefolk: A Novel",
          "A Woman of No Importance",
          "Esther Waters",
          "Glimpses of Unfamiliar Japan",
          "Life's Little Ironies: A Set of Tales, with Some Colloquial Sketches, Entitled, A Few Crusted Characters",
          "Lord Ormont and His Aminta",
          "Lourdes (Three Cities Trilogy)",
          "The Coming of Cuculain",
          "The Great God Pan",
          "The Jungle Book",
          "The Second Mrs. Tanqueray",
          "Trilby",
          "Yellow Fairy Book",
          "A Sportsman's Sketches",
          "Almayer's Folly",
          "Dilemmas: Stories and Studies in Sentiment",
          "Fathers and Children",
          "Jude the Obscure",
          "On the Eve",
          "Out of the East: Reveries and Studies in New Japan",
          "The Altar of the Dead",
          "The Golden Book of Coleridge",
          "The Gospel of Buddha",
          "The Red Badge of Courage",
          "The Second Jungle Book",
          "Vailima Letters: Correspondence Addressed by Robert Louis Stevenson to Sidney Colvin",
          "A Shropshire Lad",
          "An Outcast of the Islands",
          "Boston Cooking-School Cook Book",
          "Gaston de Latour: An Unfinished Romance",
          "Imaginary Portraits",
          "Kokoro",
          "Mr. Midshipman Easy",
          "Rome (Three Cities Trilogy)",
          "Smoke",
          "The Damnation of Theron Ware",
          "The Figure in the Carpet",
          "The Landlord at Lion's Head: A Novel",
          "The Other House: A Novel",
          "The Wheels of Chance",
          "Whitman: A Study",
          "An Essay on Comedy and the Uses of the Comic Spirit",
          "Captains Courageous",
          "Gleanings in Buddha-Fields: Studies of the Hand and Soul in the Far East",
          "Les Nourritures Terrestres",
          "Liza of Lambeth",
          "Paris (Three Cities Trilogy)",
          "The Authoress of the Odyssey: Where and When She Wrote, Who She Was, the Use She Made of the Iliad, and How the Poem Grew under Her Hands",
          "The Celibates",
          "The Happy Hypocrite",
          "The Last Adventures of Sherlock Holmes",
          "The Nigger of the Narcissus",
          "The Spoils of Poynton",
          "The Well-Beloved: A Sketch of a Temperament",
          "Trooper Peter Halket of Mashonaland",
          "What Maisie Knew",
          "A Fleet in Being",
          "A Lear of the Steppes and Other Stories",
          "A Life of William Shakespeare",
          "A Man from the North",
          "Affirmations",
          "Dream Days",
          "Evelyn Innes",
          "Plays: Pleasant and Unpleasant",
          "Science and Education: Essays",
          "Tales of Unrest",
          "The Actor Manager",
          "The Californians",
          "The Day's Work",
          "The Little Minister",
          "The Perfect Wagnerite",
          "The Town Traveller",
          "The Turn of the Screw",
          "The Works of Robert Herrick",
          "A Child's Primer of Natural History",
          "An Ideal Husband",
          "Fables in Slang",
          "Hunger",
          "Mademoiselle de Maupin",
          "McTeague",
          "Plain Tales from the Hills",
          "Stalky and Co.",
          "The Awkward Age",
          "The Gentleman from Indiana",
          "The Greater Inclination",
          "The Importance of Being Earnest: A Trivial Comedy for Serious People",
          "The Lunatic at Large: A Novel",
          "The Monster and Other Stories",
          "The Story of Lewis Carroll, Told for Young People by the Real Alice in Wonderland",
          "A Little Tour in France",
          "Lord Jim",
          "Love among the Artists",
          "Love and Mr. Lewisham",
          "Sailing Alone Around the World",
          "Sister Carrie",
          "The Cardinal's Snuff Box",
          "The Strenuous Life",
          "Three Men on the Bummel",
          "Erewhon Revisited: Twenty Years Later, Both by the Original Discoverer of the Country and by His Son",
          "Irish Fairy and Folk Tales",
          "Kim",
          "Lives of the Hunted: Containing a True Account of the Doings of Five Quadrupeds & Three Birds, and, in Elucidation of the Same, Over 200 Drawings",
          "Mrs. Wiggs of the Cabbage Patch",
          "The Defendant",
          "The First Men in the Moon",
          "The Life of the Bee",
          "The Sacred Fount",
          "Three Plays for Puritans",
          "A Daughter of the Snows",
          "Anna of the Five Towns",
          "Children of the Frost",
          "Just So Stories",
          "Melomaniacs",
          "Renée Mauperin",
          "The Admirable Crichton",
          "The American Diary of a Japanese Girl",
          "The Dram Shop",
          "The Romance of Leonardo da Vinci: The Forerunner",
          "The Hound of the Baskervilles",
          "The Immoralist",
          "The Little White Bird",
          "The Sea Lady",
          "The Varieties of Religious Experience",
          "The Wings of the Dove",
          "Typhoon",
          "Youth: A Narrative",
          "Emmy Lou: Her Book and Heart",
          "Man and Superman",
          "Man Overboard!",
          "Mankind in the Making",
          "Principia Ethica",
          "Rebecca of Sunnybrook Farm",
          "Sex and Character",
          "The Ambassadors",
          "The Black Monk and Other Stories",
          "The Filigree Ball: Being a Full and True Account of the Solution of the Mystery Concerning the Jeffrey-Moore Affair",
          "The Five Nations",
          "The Life of Charles Dickens",
          "The Light Invisible",
          "The Pit: A Story of Chicago",
          "The Private Papers of Henry Ryecroft",
          "The Untilled Field",
          "The Way of All Flesh",
          "Bab Ballads",
          "Cabbages and Kings",
          "Emperor and Galilean: A World-Historic Drama",
          "Green Mansions: A Romance of the Tropical Forest",
          "Japan: An Attempt at Interpretation",
          "Mont-Saint-Michel and Chartres",
          "Nostromo: A Tale of the Seaboard",
          "Shakespearean Tragedy: Lectures on Hamlet, Othello, King Lear, Macbeth",
          "The Cherry Orchard",
          "The Divine Fire",
          "The Dynasts",
          "The Food of the Gods and How It Came to Earth",
          "The Garden of Allah",
          "The Golden Bowl",
          "The Island Pharisees",
          "The Napoleon of Notting Hill",
          "The Tinker's Wedding",
          "Tommy and Co.",
          "Veranilda",
          "A Little Boy Lost",
          "A Modern Utopia",
          "Creatures That Once Were Men",
          "De Profundis",
          "Growth and Structure of the English Language",
          "Heretics",
          "Kipps: The Story of A Simple Soul",
          "Mozart: The Man and the Artist, as Revealed in His Words",
          "The Club of Queer Trades",
          "The House of Mirth",
          "The Irrational Knot",
          "The Morals of Marcus Ordeyne",
          "The Philanderer",
          "The Well of the Saints: A Play in Three Acts",
          "The Wives of Henry the VIII and the Parts They Played in History",
          "Where Angels Fear to Tread",
          "Bardelys the Magnificent",
          "Charles Dickens: A Critical Study",
          "Love Among the Chickens: A Story of the Haps and Mishaps on an English Chicken Farm",
          "Memoirs of My Dead Life",
          "Pigs Is Pigs",
          "Puck of Pook's Hill",
          "The Aran Islands",
          "The Awakening of Helena Richie",
          "The Beloved Vagabond",
          "The Book of Tea",
          "The Four Million",
          "The House of Souls",
          "The Jungle",
          "The Man of Property (The Forsyte Saga)",
          "The Mirror of the Sea",
          "The Poems and Plays of Robert Browning",
          "Whom God Hath Joined",
          "Between the Dark and the Daylight",
          "Chamber Music",
          "Father and Son: A Study of Two Temperaments",
          "John Bull's Other Island",
          "Pragmatism: A New Name for Some Old Ways of Thinking; Popular Lectures on Philosophy",
          "The Country House",
          "The Education of Henry Adams",
          "The Fruit of the Tree",
          "The Ghost",
          "The Hill of Dreams",
          "The Iron Heel",
          "The Longest Journey",
          "The Note-Books of Samuel Butler",
          "The Playboy of the Western World",
          "The Road",
          "The Secret Agent: A Simple Tale",
          "The Wonderful Adventures of Nils",
          "The Zincali: An Account of the Gypsies of Spain",
          "Waste: A Play in Four Acts",
          "A Set of Six",
          "A Spirit in Prison",
          "All Things Considered",
          "Buried Alive",
          "Chaucer and His England",
          "Mother of Pearl",
          "New Worlds for Old",
          "Orthodoxy",
          "Round the Fire Stories",
          "The Autobiography of a Super-Tramp",
          "The Blue Lagoon",
          "The Bomb",
          "The Complete Poems of Emily Brontë",
          "The Governors",
          "The Human Machine",
          "The Intermediate Sex",
          "The Man Who Was Thursday",
          "The Moneychangers",
          "The Mystery of the Yellow Room",
          "The Old Wives' Tale",
          "Aesthetic: As Science of Expression and General Linguistic",
          "Ann Veronica",
          "Egoists, a Book of Supermen: Stendhal, Baudelaire, Flaubert, Anatole France, Huysmans, Barrès, Nietzsche, Blake, Ibsen, Stirner, and Ernest Hello",
          "Exultations",
          "Fraternity",
          "George Bernard Shaw",
          "Glimpse: An Adventure of the Soul",
          "Literary Taste: How to Form It",
          "Martin Eden",
          "Oxford Lectures on Poetry",
          "Personae",
          "Roads of Destiny",
          "Saint Ignatius Loyola",
          "The Caravaners",
          "The Glory of the Conquered: The Story of a Great Love",
          "The Inner Shrine: A Novel of Today",
          "The Irish Fairy Book",
          "The Medici",
          "The Necromancers",
          "The Power of a Lie",
          "The Story of André Cornélis",
          "The Street of Adventure",
          "The Wooden Horse",
          "Three Lives",
          "Tono-Bungay",
          "Tremendous Trifles",
          "A Shepherd's Life",
          "An Inland Voyage / Travels with a Donkey",
          "Appreciations: With an Essay on Style",
          "Clayhanger",
          "Deirdre of the Sorrows",
          "Helen with the High Hand",
          "Howards End",
          "Justice",
          "Maradick at Forty: A Transition",
          "None Other Gods",
          "Reginald in Russia and Other Sketches",
          "The Dramatic Works of John M. Synge",
          "The Elm-Tree on the Mall: A Chronicle of Our Own Times",
          "The Finer Grain",
          "The History of Mr. Polly",
          "The King of the Dark Chamber",
          "The Missing Delora",
          "The New Machiavelli",
          "The Return",
          "What's Wrong with the World",
          "Wicker Work Woman",
          "A Vagabond in the Caucasus: With Some Notes of His Experiences among the Russians",
          "Appreciations and Criticisms of the Works of Charles Dickens",
          "Creative Evolution",
          "Dan Russel the Fox: An Episode in the Life of Miss Rowan",
          "Dawn O'Hara: The Girl Who Laughed",
          "Denry the Audacious",
          "Hilda Lessways",
          "In a German Pension",
          "Jennie Gerhardt",
          "Just Patty",
          "Ladies Whose Bright Eyes: A Romance",
          "Mr. Perrin and Mr. Traill",
          "Mrs. Rorer's New Cook Book: A Manual of Housekeeping",
          "Riders to the Sea",
          "Siren Land",
          "Tales of the Uneasy",
          "The Card: A Story of Adventure in the Five Towns",
          "The Doctor's Dilemma",
          "The Innocence of Father Brown",
          "The Man-Made World; Or, Our Androcentric Culture",
          "The Patrician",
          "The Strength of the Strong",
          "The White Peacock",
          "Under Western Eyes",
          "What the Public Wants",
          "Zuleika Dobson",
          "'Twixt Land and Sea",
          "A Christmas Garland",
          "A Personal Record",
          "At the Sign of the Reine Pédauque",
          "Buttered Side Down: Stories",
          "Carnival",
          "Financier",
          "Fountains in the Sand: Rambles Among the Oases of Tunisia",
          "Gitanjali",
          "Landmarks in French Literature",
          "Manalive",
          "Plays by August Strindberg: First Series",
          "The Charwoman's Daughter",
          "The Chink in the Armour",
          "The Confession of a Fool",
          "The Crock of Gold",
          "The Life of George Borrow",
          "The Matador of the Five Towns and Other Stories",
          "The Problems of Philosophy",
          "The Psychology of Insanity",
          "The Sea and the Jungle",
          "The Trespasser",
          "A Changed Man",
          "Burning Daylight",
          "Chance",
          "Euripides and His Age",
          "Fortitude",
          "Gold",
          "Jane Austen, Her Life and Letters: A Family Record",
          "John Barleycorn",
          "La mort",
          "My Friend's Book",
          "Plays by August Strindberg: Second Series",
          "Roast Beef Medium: The Business Adventures of Emma McChesney",
          "Sons and Lovers",
          "The Eighteen Nineties",
          "The Gardener",
          "The Interpretation of Dreams",
          "The Life of Francis Thompson",
          "The Little Nugget",
          "The Lodger",
          "The Night-Born",
          "The Opinions of Jérôme Coignard",
          "The Passionate Friends",
          "The Regent: A Five Towns Story of Adventure in London",
          "The Victorian Age in Literature",
          "Totem and Taboo",
          "Winds of Doctrine: Studies in Contemporary Opinion",
          "Dubliners",
          "Five Plays",
          "North of Boston",
          "Notes of a Son and Brother",
          "Pygmalion: A Romance in Five Acts",
          "Reminiscences of Tolstoy by his Son",
          "Selected Prose of Oscar Wilde",
          "Shallow Soil",
          "Sinister Street",
          "Spoon River Anthology",
          "Tender Buttons",
          "Tertium Organum: The Third Canon of Thought: A Key to the Enigmas of the World",
          "The Death of a Nobody",
          "The Flying Inn",
          "The Lay Anthony: A Romance",
          "The Lonely Plough",
          "The Mob",
          "The Pastor's Wife",
          "The Principle of Relativity",
          "The Prussian Officer and Other Stories",
          "The Psychopathology of Everyday Life",
          "The Titan",
          "The Witch",
          "Vandover and the Brute",
          "1914 and Other Poems",
          "A Hilltop on the Marne",
          "Dear Enemy",
          "Fidelity: A Novel",
          "Fifty-One Tales",
          "The Freelands",
          "Guy and Pauline",
          "Jaffery",
          "Muslin",
          "Of Human Bondage",
          "Old Calabria",
          "Pointed Roofs (Pilgrimage 1)",
          "Psmith, Journalist",
          "Reveries over Childhood and Youth",
          "Something Fresh",
          "The \"Genius\"",
          "The Beast in the Jungle",
          "The Collected Poems of Rupert Brooke",
          "The Good Soldier",
          "The Insulted and Injured",
          "The Jacket",
          "The Little Lady of the Big House",
          "The Rainbow",
          "The Rainbow Trail: A Romance",
          "The Rivet in Grandfather's Neck: A Comedy Of Limitations",
          "The Song of the Lark",
          "The Story of Yone Noguchi: Told by Himself",
          "The Voyage Out",
          "These Twain",
          "Victory: An Island Tale",
          "Within the Tides",
          "Women and Economics",
          "A Bed of Roses",
          "A Portrait of the Artist as a Young Man",
          "Ancient Times: A History of the Early World",
          "Androcles and the Lion",
          "Backwater (Pilgrimage 2)",
          "Bindle: Some Chapters in the Life of Joseph Bindle",
          "Buddha and the Gospel of Buddhism",
          "Chicago Poems",
          "Gaudier-Brzeska: A Memoir",
          "Golden Arrow",
          "Greenmantle",
          "Henry James",
          "Inclinations",
          "Limehouse Nights: Tales of Chinatown",
          "Lustra",
          "Mr. Britling Sees It Through",
          "Odette: A Fairy Tale for Weary People",
          "Oscar Wilde: His Life and Confessions",
          "Raymond or Life and Death",
          "Seventeen: A Tale of Youth and Summer Time and the Baxter Family Especially William",
          "Tales of Wonder",
          "The Brook Kerith",
          "The Dark Forest",
          "The Darling and Other Stories",
          "The European Anarchy",
          "The Hungry Stones and Other Stories",
          "The Lion's Share",
          "The Romantic Woman",
          "The Voysey Inheritance",
          "Twilight in Italy",
          "Uneasy Money",
          "Windy McPherson's Son",
          "An Unsocial Socialist",
          "Fanny's First Play",
          "Frenzied Fiction",
          "Gone to Earth",
          "Gullible's Travels, Etc.",
          "Honeycomb (Pilgrimage 3)",
          "Introductory Lectures on Psycho-Analysis",
          "King Coal: A Novel",
          "Marching Men",
          "Married",
          "Nationalism",
          "Nocturne",
          "One Man's Initiation",
          "Renascence and Other Poems",
          "Sonia: Between Two Worlds",
          "South Wind",
          "Step-Sons of France",
          "The Advanced Montessori Method",
          "The Dark Star",
          "The Eternal Husband and Other Stories",
          "The Green Mirror",
          "The Hundredth Chance",
          "The Lady with the Dog",
          "The Loom of Youth",
          "The Sense of the Past",
          "The Shadow Line: A Confession",
          "The Three Black Pennys",
          "The Twilight of the Souls",
          "The Wild Swans at Coole",
          "Trivia",
          "A Hundred and Seventy Chinese Poems",
          "Adolphe",
          "Cheerful by Request",
          "Cornhuskers",
          "Eminent Victorians",
          "Exiles",
          "Far Away and Long Ago",
          "Folklore in the Old Testament: Studies in Comparative Religion",
          "Free and Other Stories",
          "Java Head",
          "Joan and Peter",
          "Married Love; or, Love in Marriage",
          "Men in War",
          "My Antonia",
          "Oriental Encounters: Palestine and Syria",
          "Pavannes and Divisions",
          "Poems of Gerard Manley Hopkins",
          "Tarr",
          "The Early Life and Adventures of Sylvia Scarlett",
          "The Four Horsemen of the Apocalypse",
          "The Return of the Soldier",
          "An Honest Thief",
          "Beyond Life",
          "Donne's Sermons: Selected Passages",
          "First Plays",
          "Free Air",
          "French Ways and Their Meaning",
          "Heartbreak House: A Fantasia in the Russian Manner on English Themes",
          "Introduction to Mathematical Philosophy",
          "Jimmie Higgins",
          "Jurgen: A Comedy of Justice",
          "Kew Gardens",
          "Linda Condon",
          "Living Alone",
          "Mare Nostrum (Our Sea): A Novel",
          "Mary Olivier: A Life",
          "More Translations from the Chinese",
          "Mount Music",
          "My Man Jeeves",
          "Night and Day",
          "Prejudices: First Series",
          "Sinister House",
          "Sylvia & Michael",
          "Tales of Three Hemispheres",
          "Ten Days That Shook the World",
          "The Amazing Quest of Mr. Ernest Bliss",
          "The American Language",
          "The Arrow of Gold",
          "The Book of a Naturalist",
          "The Brass Check",
          "The Caliph's Design",
          "The Economic Consequences of the Peace",
          "The Home and the World",
          "The Journal of a Disappointed Man",
          "The Mark on the Wall",
          "The Moon and Sixpence",
          "The Paliser Case",
          "The Secret City: A Novel in Three Parts",
          "The Strange Case of Mr. Jocelyn Thew",
          "The Tunnel (Pilgrimage 4)",
          "The Undying Fire",
          "The Years Between",
          "Their Mutual Child",
          "Time and Eternity: A Tale Of Three Exiles",
          "Twelve Men",
          "What Not: A Prophetic Comedy",
          "Winesburg Ohio: A Group of Tales of Ohio Small Town Life",
          "A Munster Twilight",
          "A Voyage to Arcturus",
          "And Even Now",
          "Beyond the Horizon",
          "Bliss and Other Stories",
          "Darkwater: Voices from Within the Veil",
          "Dream Psychology: Psychoanalysis for Beginners",
          "Europe and the Faith",
          "From Ritual to Romance",
          "In Chancery (The Forsyte Saga)",
          "In Morocco",
          "Interim (Pilgrimage 5)",
          "Irish Fairy Tales",
          "Jailed for Freedom",
          "Kora in Hell: Improvisations",
          "Leda",
          "Limbo",
          "Main Street: The Story of Carol Kennicott",
          "Miss Lulu Bett",
          "Mitch Miller",
          "Moon-Calf",
          "Nonsense Novels",
          "Open the Door",
          "Painted Veils",
          "Peacock Pie: A Book of Rhymes",
          "The Poems of Wilfred Owen",
          "Poor White",
          "Prejudices: Second Series",
          "Saint's Progress",
          "San Cristobal de la Habana",
          "Scarhaven Keep",
          "The Age of Innocence",
          "The Autobiography of Margot Asquith",
          "The Captives: A Novel in Four Parts",
          "The Cask",
          "The Chorus Girl and Other Stories",
          "The Dream Detective",
          "The Greek View of Life",
          "The House in Dormer Forest",
          "The Letters of William James",
          "The Life of Mrs. Robert Louis Stevenson",
          "The Little Warrior",
          "The Lost Girl",
          "The Lost Mr. Linthwaite",
          "The Outline of History",
          "The Problem Club",
          "The Rescue: A Romance of the Shallows",
          "The Romantic",
          "The Sacred Wood: Essays on Poetry and Criticism",
          "The Schoolmistress and Other Stories",
          "The Story of Doctor Dolittle",
          "The Third Window",
          "The Tiger in the House",
          "This Side of Paradise",
          "Umbra: The Early Poems of Ezra Pound",
          "Winsome Winnie: And Other New Nonsense Novels",
          "Woman and the New Race",
          "Women in Love",
          "Youth and the Bright Medusa",
          "A Bill of Divorcement",
          "A Hasty Bunch",
          "A Parody Outline of History",
          "A Virgin Heart: A Novel",
          "Adam and Eve and Pinch Me",
          "Alice Adams",
          "Ariosto, Shakespeare and Corneille",
          "Back to Methuselah (A Metabiological Pentateuch)",
          "Crome Yellow",
          "Dangerous Ages",
          "Deadlock (Pilgrimage 6)",
          "Ditte, Daughter of Man",
          "East and West: The Collected Short Stories of W. Somerset Maugham",
          "Four Plays for Dancers",
          "From the Vasty Deep",
          "Galusha the Magnificent",
          "Hail and Farewell!",
          "Héloise and Abélard",
          "Joanna Godden",
          "Lords of the Housetops: Thirteen Cat Tales",
          "Memoirs of a Midget",
          "Men, Women, and Boats",
          "Messer Marco Polo",
          "Monday or Tuesday",
          "Notes on Life and Letters",
          "Out of the Air",
          "Plays by August Strindberg: Third Series",
          "Poems 1918 – 21: Including Three Portraits and Four Cantos",
          "Psychoanalysis and the Unconscious",
          "Psychological Types",
          "Rich Relatives",
          "Scaramouche",
          "Sea and Sardinia",
          "Selected Letters of Friedrich Nietzsche",
          "Six Short Plays",
          "Smoke and Steel",
          "Tales from a Rolltop Desk",
          "The Analysis of Mind",
          "The Brimming Cup",
          "The Craft of Fiction",
          "The Emperor Jones",
          "The Hidden Force: A Story of Modern Java",
          "The Narrow House",
          "The Pier-Glass",
          "The Pleasures of Ignorance",
          "The Sheik",
          "The Trembling of a Leaf: Little Stories of the South Sea Islands",
          "The Two Friends and Other Stories",
          "Three Soldiers",
          "Thus to Revisit: Some Reminiscences",
          "To Let (The Forsyte Saga)",
          "Vera",
          "Will Shakespeare: An Invention in Four Acts",
          "A Thousand and One Afternoons in Chicago",
          "Aaron's Rod",
          "Against the Grain",
          "Anne Severn and the Fieldings",
          "Babbitt",
          "Beasts, Men and Gods",
          "Beyond the Pleasure Principle",
          "Book about Myself",
          "Casanova's Homecoming",
          "Crainquebille",
          "Dandelion Days",
          "Dead Souls",
          "December Love",
          "Fantasia of the Unconscious",
          "Gargoyles",
          "Geography and Plays",
          "Hassan",
          "He Who Gets Slapped: A Play in Four Acts",
          "Huntingtower",
          "Jacob's Room",
          "Kai Lung's Golden Hours",
          "Knock Knock Knock and Other Stories",
          "La vie et l'habitude",
          "Lady into Fox",
          "Last Poems",
          "Mortal Coils",
          "Mr. Prohack",
          "Mystery at Geneva: An Improbable Tale of Singular Happenings",
          "Napoleon",
          "Not under Forty",
          "On a Chinese Screen",
          "On English Poetry: Being an Irregular Approach to the Psychology of This Art, from Evidence Mainly Subjective",
          "One of Ours",
          "Pender among the Residents",
          "Pilgrim's Rest",
          "Piracy",
          "Rootabaga Stories",
          "Secret History of the English Occupation of Egypt: Being a Personal Narrative of Events",
          "Seven for a Secret: A Love Story",
          "Since Cézanne",
          "Slabs of the Sunburnt West",
          "Stavrogin's Confession",
          "Swann's Way (À la recherche du temps perdu 1)",
          "The Altar Steps",
          "The Camomile",
          "The Cathedral: A Novel",
          "The Clash",
          "The Diary of a Drug Fiend",
          "The Enchanted April",
          "The Enormous Room",
          "The Forsyte Saga",
          "The Garden Party and Other Stories",
          "The Glimpses of the Moon",
          "The Goose-Man",
          "The Judge",
          "The Life and Death of Harriet Frean",
          "The Life and Letters of Walter H. Page",
          "The Markenmore Mystery",
          "The Negro in Our History",
          "The Poor Man",
          "The Rayner-Slade Amalgamation",
          "The Red House Mystery",
          "The Secret Glory",
          "The Secret Places of the Heart",
          "The Waste Land",
          "Three Plays",
          "Ulysses",
          "Vincent van Gogh: A Biographical Study",
          "Vocations",
          "A Book of Burlesques",
          "A Lost Lady",
          "Antic Hay",
          "Cane",
          "Collected Poems",
          "Escapade",
          "Essays of a Biologist",
          "Fortune's Fool",
          "Harmonium",
          "Horses and Men: Tales, Long and Short, from Our American Life",
          "Isles of Illusion: Letters from the South Seas",
          "Jeremy and Hamlet",
          "Kangaroo",
          "Lummox",
          "Many Marriages",
          "Mastro-don Gesualdo",
          "Men Like Gods",
          "On the Margin",
          "Poems",
          "Revolving Lights (Pilgrimage 7)",
          "Riceyman Steps",
          "Scepticism and Animal Faith: Introduction to a System of Philosophy",
          "St. Francis of Assisi",
          "Streets of Night",
          "Studies in Classic American Literature",
          "Suspense",
          "The Able McLaughlins",
          "The Blind Bow-Boy",
          "The Charing Cross Mystery",
          "The Dance of Life",
          "The Devil in the Flesh",
          "The Doves' Nest and Other Stories",
          "The Eyes of Max Carrados",
          "The Famous Tragedy of the Queen of Cornwall at Tintagel in Lyonnesse",
          "The Florentine Dagger: A Novel for Amateur Detectives",
          "The Great American Novel",
          "The Hairy Ape",
          "The Harp-Weaver and Other Poems",
          "The Kang-He Vase",
          "The Ladies of Lyndon",
          "The Ladybird",
          "The Last of the Valerii, Master Eustace, The Romance of Certain Old Clothes, and Other Tales",
          "The Last of the Vikings",
          "The Meaning of Meaning: A Study of the Influence of Language upon Thought and of the Science of Symbolism",
          "The Overcoat and Other Stories",
          "The Prospects of Industrial Civilization",
          "The Rover",
          "These Charming People",
          "Three Stories and Ten Poems",
          "Through the Wheat",
          "Together",
          "Told by an Idiot",
          "Uncanny Stories",
          "White Nights and Other Stories",
          "Whose Body?",
          "Windows: A Comedy in Three Acts for Idealists and Others",
          "A Nineteenth-Century Childhood",
          "A Passage to India",
          "A Story Teller's Story",
          "A Wanderer in Paris",
          "A. O. Barnabooth: His Diary",
          "All God's Chillun Got Wings",
          "Buddenbrooks",
          "C",
          "Children of the Age",
          "Cold Harbour",
          "Daedalus; Or, Science and the Future",
          "Desire under the Elms: A Play in Three Parts",
          "Doctor Dolittle's Circus",
          "Each in His Own Way",
          "Fraulein Else",
          "Galapagos: World's End",
          "God's Orchid",
          "Grey Face",
          "Heliodora and Other Poems",
          "Mårbacka",
          "Medieval People",
          "Mr. Bennett and Mrs. Brown",
          "Orphan Island",
          "Paul Bunyan",
          "Precious Bane: A Novel",
          "Saint Joan: A Chronicle Play in Six Scenes and an Epilogue",
          "Saint Martin's Summer",
          "Sard Harker",
          "Selected Poems of Emily Dickinson",
          "So Big",
          "Some Do Not...",
          "Something Childish and Other Stories",
          "Strait Is the Gate",
          "Roan Stallion, Tamar, and Other Poems",
          "The Boy in the Bush",
          "The Complete Poems of Emily Dickinson",
          "The Constant Nymph",
          "The Dream: A Novel",
          "The Duchess of Wrexe, Her Decline and Death: A Romantic Commentary",
          "The Face in the Night",
          "The Fire in the Flint",
          "The Green Hat",
          "The Home-Maker",
          "The King of Elfland's Daughter",
          "The Little French Girl",
          "The Locked Book",
          "The London Adventure: An Essay in Wandering",
          "The Magic Mountain",
          "The New Spoon River",
          "The Old Ladies",
          "The Plays of Ivan S. Turgenev",
          "The Terrible Hobby of Sir Joseph Londe",
          "The Third Round",
          "Triple Fugue",
          "Tulips and Chimneys",
          "When the Bough Breaks and Other Stories",
          "The White Monkey (A Modern Comedy)",
          "Within a Budding Grove (À la recherche du temps perdu 2)",
          "Woodsmoke",
          "A Daughter of the Samurai",
          "Along the Road: Notes and Essays of a Tourist",
          "Anatole France Himself",
          "Annette and Sylvie: Being Volume One of the Soul Enchanted",
          "Arrowsmith",
          "Barren Ground",
          "Beau Geste",
          "Cat's Cradle",
          "Christina Alberta's Father",
          "Color",
          "Death in Venice",
          "Dostoevsky",
          "Ducdame",
          "In the American Grain",
          "Jew Süss",
          "Jocasta and the Famished Cat",
          "Lady Susan",
          "Lafcadio's Adventures",
          "Manhattan Transfer",
          "Mr. Tasker's Gods",
          "Mrs. Dalloway",
          "My First Thirty Years",
          "No More Parades",
          "Original Letters from India (1779 – 1815)",
          "Porgy",
          "Portrait of a Man with Red Hair",
          "Red Oleanders",
          "Sam the Sudden",
          "Science and the Modern World",
          "Segelfoss Town",
          "St. Mawr",
          "The ABC of Relativity",
          "The Carolinian",
          "The Common Reader",
          "The Diaboliques",
          "The Diary of a Young Lady of Fashion in the Year 1764 – 1765",
          "The Everlasting Man",
          "The Guermantes Way (À la recherche du temps perdu 3)",
          "The Informer",
          "The Mother's Recompense",
          "The New Negro",
          "The Painted Veil",
          "The Polyglots",
          "The Portrait of Zélide",
          "The Private Life of Helen of Troy",
          "The Professor's House",
          "The Ring of the Löwenskölds",
          "The Romantic '90s",
          "The Shadow of the Gloomy East",
          "The Shining Pyramid",
          "The Sinister Man",
          "Thomas the Impostor",
          "Those Barren Leaves",
          "Thunder on the Left",
          "What's O'Clock",
          "Wild Geese",
          "Women",
          "XLI Poems",
          "A Man Could Stand Up",
          "Adam's Breed",
          "All the Sad Young Men",
          "Anglo-Saxon Poetry",
          "Autobiographies",
          "Before the Bombardment",
          "Bellarion the Fortunate: A Romance",
          "Clouds of Witness",
          "Contemporary Russian Literature: 1881 – 1925",
          "Crewe Train",
          "Crime and Custom in Savage Society",
          "Dark Laughter",
          "Death at Swaythling Court",
          "Dostoevsky Portrayed by His Wife: The Diary and Reminiscences of Mme Dostoevsky",
          "Drums",
          "Education and the Good Life",
          "Evenings on a Farm Near Dikanka",
          "Galahad: Enough of His Life to Explain His Reputation",
          "Goodbye, Stranger",
          "Hangman's House",
          "Her Son's Wife",
          "Hieroglyphics",
          "Inspector French and the Cheyne Mystery",
          "Introduction to Sally",
          "Jesting Pilate: The Diary of a Journey",
          "Joanna Godden Married and Other Stories",
          "King Goshawk and the Birds",
          "Kyra Kyralina",
          "Lolly Willowes",
          "Lord Raingo",
          "Love in Greenwich Village",
          "Mantrap",
          "My Mortal Enemy",
          "Nigger Heaven",
          "Notes on Democracy",
          "On Education: Especially in Early Childhood",
          "On the Trail of Ancient Man",
          "Religion in the Making: Lowell Lectures, 1926",
          "Shoot! The Notebooks of Sarafino Gubbio, Cinematograph Operator",
          "Show Boat",
          "Soldiers' Pay",
          "Sorrell and Son",
          "Tampico",
          "The Art of Being Ruled",
          "The Bat: A Novel from the Play",
          "The Benson Murder Case",
          "The Black Knight",
          "The Cabala",
          "The Case of Mr. Crump",
          "The Casuarina Tree",
          "The Dancing Floor",
          "The Decline of the West",
          "The Eater of Darkness",
          "The Footsteps That Stopped",
          "The Great God Brown",
          "The Hard-Boiled Virgin",
          "The Heart of a Goof",
          "The Heart of Emerson's Journals",
          "The Incredulity of Father Brown",
          "The Mauve Decade",
          "The Murder of Roger Ackroyd",
          "The Outline of Sanity",
          "The Perennial Bachelor",
          "The Plough and the Stars",
          "The Plumed Serpent",
          "The Red and the Black",
          "The Romantic Comedians",
          "The Silver Spoon (A Modern Comedy)",
          "The Silver Stallion",
          "The Sun Also Rises",
          "The Time of Man",
          "The Torrents of Spring",
          "The Weary Blues",
          "The Well of Loneliness",
          "The World of William Clissold",
          "Today and Tomorrow",
          "White Buildings",
          "Yellow Shadows",
          "A Good Woman",
          "A Modern Comedy",
          "An Experiment with Time",
          "Aspects of the Novel",
          "Beethoven: His Spiritual Development",
          "Bismarck: The Trilogy of a Fighter",
          "But Gentlemen Marry Brunettes",
          "By Request",
          "Celibate Lives",
          "Daphne Adeane",
          "Death Comes for the Archbishop",
          "Decadence",
          "Dusty Answer",
          "Elmer Gantry",
          "Genghis Khan: Emperor of All Men",
          "Genius and Character",
          "Go She Must!",
          "Jalna",
          "Jeremy at Crale",
          "John Sargent",
          "Lawrence and the Arabs",
          "Lazarus Laughed",
          "Lost Ecstasy: A Novel",
          "Lud-in-the-Mist",
          "Marco Millions: A Play",
          "Men without Women",
          "Mornings in Mexico",
          "Mr. Fortune's Maggot",
          "Mr. Weston's Good Wine",
          "Murder in the Maze",
          "My Journey to Lhasa",
          "My Life",
          "Oil!",
          "Orient Express",
          "Pomes Penyeach",
          "Possible Worlds and Other Essays",
          "Proper Studies",
          "Revolt in the Desert",
          "Something about Eve: A Comedy of Fig-leaves",
          "Symbolism: Its Meaning and Effect",
          "Tarka the Otter: His Joyful Water-life & Death in the Country of the Two Rivers",
          "The Autobiography of an Ex-Colored Man",
          "The Belief of Catholics",
          "The Bellamy Trial",
          "The Blessing of Pan",
          "The Bridge of San Luis Rey",
          "The Canary Murder Case",
          "The Constant Wife: A Comedy in Three Acts",
          "The Counterfeiters",
          "The Grandmothers: A Family Portrait",
          "The Plutocrat",
          "The Poems and Prophecies of William Blake",
          "The Return of Don Quixote",
          "The Road to Xanadu",
          "The Secret of Father Brown",
          "The Small Bachelor",
          "The Ugly Duchess",
          "The Wild Body",
          "The Woman Who Stole Everything and Other Stories",
          "The Wreck",
          "Time and Western Man",
          "Tinker's Leave",
          "To the Lighthouse",
          "Trader Horn: Being the Life and Works of Aloysius Horn",
          "Trollope: A Commentary",
          "Twilight Sleep",
          "Two Forsyte Interludes (The Forsyte Saga)",
          "Unnatural Death",
          "Vestal Fire",
          "A Voyage to Pagany",
          "All Kneeling",
          "Anarchism Is Not Enough",
          "Armed with Madness",
          "Ashenden: Or the British Agent",
          "Boston",
          "Caspar Hauser",
          "Cavalleria Rusticana and Other Stories",
          "Dead Lovers Are Faithful Lovers",
          "Decline and Fall",
          "Elizabeth and Essex: A Tragic History",
          "Extraordinary Women: Theme and Variations",
          "For Lancelot Andrewes: Essays on Style and Order",
          "Fourteen Great Detective Stories",
          "Good-bye, Wisconsin",
          "Home to Harlem",
          "Inspector French's Case Book",
          "John Brown's Body",
          "Ladies Almanack: Showing Their Signs and Their Tides; Their Moons and Their Changes; the Seasons as It Is with Them; Their Eclipses and Equinoxes; as well as a Full Record of Diurnal and Nocturnal Distempers",
          "Lady Chatterley's Lover",
          "Last Post",
          "Lord Peter Views the Body",
          "Marie Antoinette",
          "Mirgorod",
          "Mr. Blettsworthy on Rampole Island",
          "Mystery at Lynden Sands",
          "Nadja",
          "Orlando: A Biography",
          "Point Counter Point",
          "Ryder",
          "Safar Nameh, Persian Pictures: A Book of Travel",
          "Scarlet Sister Mary",
          "Selected Poems",
          "She Who Sleeps",
          "Skin O' My Tooth: His Memoirs, by His Confidential Clerk",
          "Spider Boy: A Scenario for a Moving Picture",
          "Strange Interlude",
          "Strange Necessity: Essays and Reviews",
          "Swan Song (A Modern Comedy)",
          "Tamerlane the Earth Shaker",
          "The Case of Sergeant Grischa",
          "The Case with Nine Solutions",
          "The Childermass",
          "The Children",
          "The Closed Garden",
          "The Dreadful Night",
          "The Eternal Moment",
          "The Footsteps at the Lock",
          "The Future of an Illusion",
          "The Greene Murder Case",
          "The Gunner",
          "The Harbor",
          "The Hounds of God",
          "The House across the Way",
          "The Intelligent Woman's Guide to Socialism, Capitalism, Sovietism, and Fascism",
          "The Island Within",
          "The Man Who Knew Coolidge: Being the Soul of Lowell Schmaltz, Constructive and Nordic Citizen",
          "The Mystery of the Blue Train",
          "The Old Dark House",
          "The Orator",
          "The Road to Buenos Ayres",
          "The Sea Mystery: An Inspector French Case",
          "The Silver Thorn: A Book of Stories",
          "The Story of the Gypsies",
          "The Strange Case of Miss Annie Spragg",
          "The Strange Vanguard: A Fantasia",
          "The Unpleasantness at the Bellona Club",
          "The Velvet Hand: New Madame Storey Mysteries",
          "The Vicar's Daughter",
          "The Wild Party",
          "The Woman Who Rode Away",
          "The Women at the Pump",
          "Two Flights Up",
          "Undertones of War",
          "What Is Love?",
          "Wintersmoon",
          "A Farewell to Arms",
          "A High Wind in Jamaica",
          "A Room of One's Own",
          "An Elizabethan Journal",
          "Awake and Rehearse: Selected Short Stories of Louis Bromfield",
          "Banjo: A Story without a Plot",
          "Beethoven the Creator",
          "Cimarron",
          "Cross Currents in English Literature of the XVIIth Century; Or, the World, the Flesh & the Spirit, Their Actions and Reactions",
          "Daughter of Earth",
          "Dear Judas",
          "Death of a Hero",
          "Death of My Aunt",
          "Do What You Will: Essays",
          "Dodsworth",
          "Farthing Hall",
          "Goodbye to All That: An Autobiography",
          "Harriet Hume: A London Fantasy",
          "Henry the Eighth",
          "Hudson River Bracketed",
          "Introduction to the Method of Leonardo da Vinci",
          "Kristin Lavransdatter: The Bridal Wreath, The Mistress of Husaby, The Cross",
          "Laughing Boy",
          "Look Homeward, Angel",
          "Marriage and Morals",
          "Memoirs of a Fox-Hunting Man",
          "Moonchild",
          "Music at Midnight",
          "Nemesis at Raynham Parva",
          "Oblomov",
          "Our Exagmination Round His Factification for Incamination of Work in Progress",
          "Paleface: The Philosophy of the \"Melting-Pot\"",
          "Pansies",
          "Partners in Crime",
          "Piccadilly Jim",
          "Pornography and Obscenity",
          "Process and Reality",
          "Red Aces: Being Three Cases of Mr. Reeder",
          "Richelieu: A Study",
          "Sartoris",
          "Seven Brothers",
          "Summer Lightning",
          "The Autobiography of Lord Alfred Douglas",
          "The Bishop Murder Case: A Philo Vance Story",
          "The Box Office Murders",
          "The Christopher Robin Story Book",
          "The Coat without Seam",
          "The Courts of the Morning",
          "The Dark Journey",
          "The Death of the Gods",
          "The Escaped Cock / The Man Who Died",
          "The Eye in the Museum",
          "The Golden Hades",
          "The Good Companions",
          "The Intimate Journal of George Sand",
          "The Magic Island",
          "The Quest for Certainty: A Study of the Relation of Knowledge and Action",
          "The Roman Hat Mystery",
          "The Scarab Murder Case: A Philo Vance Story",
          "The Sound and the Fury",
          "The True Heart",
          "The Twister",
          "The Winding Stair",
          "This Strange Adventure",
          "Walter Rathenau: His Life and Work",
          "War",
          "Whiteoaks",
          "Wolf Solent",
          "A Draft of XXX Cantos",
          "A Moment of Time",
          "A Note in Music",
          "Adamastor: Poems",
          "Al Capone: Biography of a Self-Made Man",
          "Anabasis: A Poem",
          "Angel Pavement",
          "Anna Livia Plurabelle",
          "As I Lay Dying",
          "Bottom Dogs",
          "Brief Candles: Stories",
          "Bystander",
          "Cakes and Ale, or, the Skeleton in the Cupboard",
          "Castle Gay",
          "Confessions of Zeno",
          "Death in the Dark",
          "Diary of a Provincial Lady",
          "East Wind: West Wind",
          "Flowering Judas and Other Stories",
          "His Monkey Wife",
          "Imperial Palace",
          "It Walks by Night",
          "James Joyce's Ulysses: A Study",
          "Laments for the Living",
          "Love among the Haystacks",
          "Lucy Church Amiably",
          "Man in a Black Hat",
          "Memoirs of an Infantry Officer",
          "Mountain City",
          "Not without Laughter",
          "Nothing to Pay",
          "Novels and Novelists",
          "Number: The Language of Science",
          "On Forsyte 'Change (The Forsyte Saga)",
          "Pimpernel and Rosemary",
          "Poet's Pub",
          "Redheap",
          "Rogue Herries",
          "Seven Types of Ambiguity",
          "Strong Poison",
          "The 42nd Parallel",
          "The Apes of God",
          "The Apple Cart: A Political Extravaganza",
          "The Autocracy of Mr. Parham",
          "The Bridge",
          "The Castle",
          "The Conquest of Happiness",
          "The Documents in the Case",
          "The Doorstep Murders: A Kenneth Carlisle Detective Story",
          "The Edwardians",
          "The French Powder Mystery",
          "The Gentleman in the Parlour",
          "The Greenwood Hat",
          "The Lives of A Bengal Lancer",
          "The Maltese Falcon",
          "The Maurizius Case",
          "The Story of San Michele",
          "The Virgin and the Gipsy",
          "The Water Gipsies",
          "The Woman of Andros",
          "Thy Servant a Dog",
          "Tiny Carteret",
          "Twenty-Four Hours",
          "Very Good, Jeeves",
          "Vile Bodies",
          "Wedding Day and Other Stories",
          "Above the Dark Circus",
          "All Passion Spent",
          "Apocalypse",
          "Apropos of Lady Chatterley's Lover",
          "As I Was Going Down Sackville Street",
          "Axel's Castle: A Study in the Imaginative Literature of 1870 – 1930",
          "Back Street",
          "Berlin Alexanderplatz",
          "Bernard Shaw: An Unauthorized Biography Based on Firsthand Information",
          "Boy",
          "Broome Stages",
          "Finch's Fortune",
          "First Person Singular",
          "Grand Hotel",
          "Guests of the Nation",
          "How to Read",
          "How to Write",
          "In Defense of Sensuality",
          "Juan in America",
          "Judith Paris",
          "Lincoln the Man",
          "Mahatma Gandhi: His Own Story",
          "Maid in Waiting (End of Chapter)",
          "Mourning Becomes Electra",
          "Music at Night and Other Stories",
          "My Fight for Birth Control",
          "Plagued by the Nightingale",
          "Police at the Funeral",
          "Portraits in Miniature and Other Essays",
          "Results of an Accident",
          "S. S. San Pedro",
          "Sanctuary",
          "Savage Messiah",
          "Shadows on the Rock",
          "Simpson: A Life",
          "The Autobiography of Lincoln Steffens",
          "The Boat-House Riddle",
          "The Corn King and the Spring Queen",
          "The Daughter of Fu Manchu",
          "The Five Red Herrings: Suspicious Characters",
          "The Fortunes of Richard Mahony",
          "The Glass Key",
          "The Good Earth",
          "The Hamlet",
          "The Letters of Emily Dickinson",
          "The Long Christmas Dinner: And Other Plays in One Act",
          "The Loving Spirit",
          "The Norwich Victims",
          "The Road",
          "The Scientific Outlook",
          "The Waves",
          "The Wild Orchid",
          "Unclay",
          "What Life Should Mean to You",
          "Without My Cloak",
          "1919",
          "A Glastonbury Romance",
          "A Long Time Ago",
          "A Richer Dust",
          "A Superficial Journey Through Tokyo and Peking",
          "American Outpost: A Book of Reminiscences",
          "Beyond Desire",
          "Black Mischief",
          "Boomerang",
          "Brave New World",
          "Chaucer",
          "Collected Poems of Elinor Wylie",
          "Death in the Afternoon",
          "Death in the Thicket",
          "Earth Horizon",
          "Education and the Social Order",
          "Essays Ancient and Modern",
          "Etruscan Places",
          "Family History",
          "Faraway",
          "Fiction and the Reading Public",
          "Flowering Wilderness (End of Chapter)",
          "Have His Carcase",
          "Helene",
          "Hindoo Holiday",
          "History of the Russian Revolution",
          "Hot Water",
          "I'll Never Be Young Again",
          "Inheritance",
          "Invitation to the Waltz",
          "Louder and Funnier",
          "Marie Antoinette: The Portrait of an Average Woman",
          "Memoirs of a British Agent",
          "Mental Healers: Franz Anton Mesmer, Mary Baker Eddy, Sigmund Freud",
          "Murder in the Squire's Pew",
          "Obscure Destinies",
          "Once a Grand Duke",
          "Peking Picnic",
          "Royal Flush: The Story of Minette",
          "Satires and Personal Writings",
          "Save Me the Waltz",
          "Song and Its Fountains",
          "Sons",
          "Stories of God",
          "Studs Lonigan",
          "Thank Heaven Fasting",
          "The Adventures of the Black Girl in Her Search for God",
          "The Bulpington of Blup",
          "The Burning Bush",
          "The Common Reader: Second Series",
          "The Fortress",
          "The Fountain",
          "The Gap in the Curtain",
          "The Gods Arrive",
          "The Greek Coffin Mystery",
          "The Men of Ness",
          "The Narrow Corner",
          "The Orators",
          "The Return of Bulldog Drummond",
          "The Savage Pilgrimage: A Narrative of D. H. Lawrence",
          "The Sheltered Life",
          "The Soldier and the Gentlewoman",
          "The Thirteen Problems",
          "The Waxworks Murders",
          "They Were Defeated",
          "To Make My Bread",
          "To the North",
          "Tobacco Road",
          "Virginia Woolf: A Critical Memoir",
          "Wild Decembers",
          "Year before Last",
          "A Cure of Flesh",
          "A Prince of the Captivity",
          "A Thatched Roof",
          "Adventures of Ideas",
          "After Such Pleasures",
          "Ah King",
          "Ah, Wilderness!",
          "All Men Are Enemies",
          "All Souls' Night",
          "All the Mowgli Stories",
          "An Oxford Tragedy",
          "Anthony Adverse",
          "As the Earth Turns",
          "Before the Fact: A Murder Story for Ladies",
          "Brazilian Adventure",
          "Comedy, American Style",
          "Crowded Hours",
          "Democracy in Crisis",
          "England, Their England",
          "Farewell Victoria",
          "Flush: A Biography",
          "God's Little Acre",
          "Grand Canary",
          "Imitation of Life",
          "It Was the Nightingale",
          "Lamb in His Bosom",
          "Last Poems",
          "Little Man, What Now?",
          "Looking Back: An Autobiographical Excursion",
          "Looking Forward",
          "Lost Horizon",
          "Mandoa, Mandoa!",
          "Miss Lonelyhearts",
          "Murder at Monte Carlo",
          "Murder Must Advertise",
          "No Nice Girl Swears",
          "Over the River (End of Chapter)",
          "Peter Abelard: A Novel",
          "Pity Is Not Enough",
          "Talks with Mussolini",
          "Testament of Youth",
          "The Autobiography of Alice B. Toklas",
          "The Barbary Coast: An Informal History of the San Francisco Underworld",
          "The Bird of Dawning",
          "The Case of the Velvet Claws",
          "The Curse of the Wise Woman",
          "The Delicate Fire",
          "The Dragon Murder Case",
          "The Farm",
          "The First Wife and Other Stories",
          "The House of Exile",
          "The Master of Jalna",
          "The Name and Nature of Poetry",
          "The Rash Act",
          "The Shakespeare Murders",
          "The Tuesday Club Murders",
          "The Way of the Scarlet Pimpernel",
          "The White Cockatoo",
          "The Young and the Evil",
          "Thirteen at Dinner",
          "Three Cities: A Trilogy",
          "Towards the Understanding of Karl Marx: A Revolutionary Interpretation",
          "Twenty Years A-Growing",
          "Ultramarine",
          "Untouchable",
          "Vanessa",
          "Water on the Brain",
          "Winner Take Nothing",
          "Women against Men",
          "A Backward Glance",
          "A Handful of Dust",
          "A Pin to See the Peepshow",
          "ABC of Reading",
          "After Strange Gods",
          "Alice James: Her Brothers, Her Journal",
          "And Quiet Flows the Don",
          "Appointment in Samarra",
          "Autobiography",
          "Beyond the Mexique Bay",
          "Burmese Days",
          "Captain Nicholas",
          "Dew on the Grass",
          "Elizabethan Essays",
          "English Journey",
          "Erasmus of Rotterdam",
          "Experiment in Autobiography: Discoveries and Conclusions of a Very Ordinary Brain (Since 1866)",
          "For the Defence; Dr. Thorndyke",
          "Gerald: A Portrait",
          "Heaven's My Destination",
          "Holy Deadlock",
          "I, Claudius",
          "It's a Battlefield",
          "Jonah's Gourd Vine",
          "Men without Art",
          "Miss Ogilvy Finds Herself",
          "More Pricks Than Kicks",
          "Now in November",
          "One's Company: A Journey to China",
          "Queen Elizabeth",
          "Right Ho, Jeeves",
          "Scarweather",
          "Shadow on the Wall",
          "So Red the Rose",
          "Tender Is the Night",
          "The 12:30 from Croydon",
          "The Ante-Room",
          "The Art of the Novel: Critical Prefaces",
          "The Cadaver of Gideon Wyck",
          "The Case of the Howling Dog",
          "The Case of the Lucky Legs",
          "The Casino Murder Case: A Philo Vance Mystery",
          "The Daring Young Man on the Flying Trapeze",
          "The Death-Ship: The Story of an American Sailor",
          "The Forty Days of Musa Dagh",
          "The Ginger Griffin",
          "The Ha-Ha Case",
          "The Mystery of Dead Man's Heath",
          "The Narrow Land: Folk Chronicles of Old Cape Cod",
          "The Nine Tailors",
          "The Portcullis Room",
          "The Postman Always Rings Twice",
          "The Rock",
          "The Salzburg Tales",
          "The Thin Man",
          "The Woman Who Had Imagination and Other Stories",
          "The World as I See It",
          "The Young Manhood of Studs Lonigan",
          "Tropic of Cancer",
          "Unfinished Cathedral",
          "While Rome Burns",
          "Why Didn't They Ask Evans?",
          "Work of Art",
          "Young Joseph",
          "A Century of Love Stories",
          "Africa Dances",
          "An Autobiographical Study",
          "Beany-Eye",
          "Butterfield 8",
          "Come and Get It",
          "Death in the Stocks",
          "Don Fernando",
          "Feminine Attitudes in the Nineteenth Century",
          "From Death to Morning",
          "Gaudy Night",
          "God Is My Adventure: A Book on Modern Mystics, Masters and Teachers",
          "Golden Apples",
          "Green Hills of Africa",
          "Honey in the Horn",
          "I Change Worlds: The Remaking of an American",
          "Illyrian Spring",
          "In Praise of Idleness and Other Essays",
          "It Can't Happen Here",
          "Jobber Skald",
          "Land under England",
          "Lectures in America",
          "Life with Father",
          "Love in Winter",
          "Lucy Gayheart",
          "Mary, Queen of Scotland and the Isles",
          "Mr. Norris Changes Trains",
          "Mr. Pinkerton Grows a Beard",
          "Mules and Men",
          "Murder in the Cathedral",
          "My Country and My People",
          "My Next Bride",
          "National Velvet",
          "North to the Orient",
          "Of Time and the River: A Legend of Man's Hunger in His Youth",
          "Proletarian Literature in the United States: An Anthology",
          "Pylon",
          "Queen Victoria",
          "Rats, Lice and History",
          "Salamina",
          "Saraband for Dead Lovers",
          "Seven Pillars of Wisdom",
          "Some Versions of Pastoral: A Study of the Pastoral Form in Literature",
          "The Achievement of T. S. Eliot: An Essay on the Nature of Poetry",
          "The Art of Happiness",
          "The Asiatics",
          "The Clergyman's Daughter",
          "The Furys",
          "The Garden Murder Case",
          "The Harsh Voice: Four Short Novels",
          "The House in Paris",
          "The House of the Four Winds",
          "The Last Puritan: A Memoir in the Form of a Novel",
          "The Poacher",
          "The Root and the Flower",
          "The Saint in New York",
          "The Scandal of Father Brown",
          "The Stars Look Down",
          "The Well and the Shallows",
          "This Was Ivor Trent",
          "Three Plays",
          "Tortilla Flat",
          "Vein of Iron",
          "Virgin Soil Upturned",
          "We Too Are Drifting",
          "What Are We To Do With Our Lives?",
          "What Happens in Hamlet",
          "White Ladies",
          "Young Renny",
          "A City of Bells",
          "A World I Never Made",
          "Abinger Harvest",
          "Absalom, Absalom!",
          "An American Doctor's Odyssey",
          "Bird Alone",
          "Cards on the Table",
          "Cosmopolitans",
          "Danger in the Dark",
          "Dead Man Control",
          "Death of a Man",
          "Desert Encounter",
          "Doctor Serocold",
          "Drums along the Mohawk",
          "Eyeless in Gaza",
          "Fighting Angel",
          "Flowers for the Judge",
          "Flowers of Evil",
          "Freedom, Farewell!",
          "From Hegel to Marx",
          "Gone with the Wind",
          "Herndon's Life of Lincoln",
          "I Found No Peace",
          "In Dubious Battle",
          "Inhibitions, Symptoms and Anxiety",
          "Inside Europe",
          "Keep the Aspidistra Flying",
          "Laburnum Grove",
          "Maiden Castle",
          "Mathematics for the Million",
          "Men and Brethren",
          "Mr. Fortune, Please",
          "Murder in Mesopotamia",
          "My Ten Years in a Quandary, and How They Grew",
          "Nightwood",
          "Pale Horse, Pale Rider",
          "Poems of Tennyson",
          "Sherston's Progress",
          "South Riding: An English Landscape",
          "Stories of Three Decades",
          "The ABC Murders",
          "The Ascent of F6",
          "The Autobiography of G. K. Chesterton",
          "The Case of the Missing Minutes: A Ludovic Travers Mystery",
          "The Chinese Written Character as a Medium for Poetry",
          "The Corpse in the Crimson Slippers",
          "The Croquet Player",
          "The Diary of Selma Lagerlöf",
          "The Exile",
          "The Faber Book of Modern Verse",
          "The Flax of Dream",
          "The Flowering of New England",
          "The Kidnap Murder Case",
          "The Loss of the Jane Vosper",
          "The Missing Miniature, or the Adventures of a Sensitive Butcher",
          "The Olive Field",
          "The Paradoxes of Mr. Pond",
          "The People, Yes",
          "The Punch and Judy Murders",
          "The Story of a Novel",
          "The Thinking Reed",
          "The Way of a Transgressor",
          "The Weather in the Streets",
          "The Whispering Window",
          "Trent's Own Case",
          "Waugh in Abyssinia",
          "Whiteoak Harvest",
          "Busman's Honeymoon",
          "Death on the Nile",
          "Europa in Limbo",
          "Everybody's Autobiography",
          "Famine",
          "Figure Away: An Asey Mayo Mystery",
          "High Sheriff",
          "I Can Get It for You Wholesale",
          "I Live under a Black Sun",
          "In Parenthesis",
          "Invasion 14",
          "It's Perfectly True and Other Stories",
          "Let Your Mind Alone!",
          "Letters from Iceland",
          "Life and Death of a Spanish Town",
          "Lord Emsworth and Others",
          "Madame Curie",
          "Married People",
          "Midnight on the Desert",
          "More than Somewhat",
          "Murder in the Mews",
          "Murder Up My Sleeve",
          "Northwest Passage",
          "Of Mice and Men",
          "Oliver Cromwell",
          "Pepita",
          "Polite Essays",
          "Present Indicative",
          "Rumbin Galleries",
          "Saint at the Thieves' Picnic",
          "Serenade",
          "Something of Myself: For My Friends Known and Unknown",
          "Summer Moonshine",
          "T. E. Lawrence by His Friends",
          "The Ace of Knaves",
          "The Case of the Lame Canary",
          "The Citadel",
          "The Crystal Cabinet",
          "The D. A. Calls It Murder",
          "The Education of Hyman Kaplan",
          "The Late George Apley",
          "The Man with the Blue Guitar",
          "The May-Week Murders",
          "The Novel and the People",
          "The Puzzle of the Blue Banderilla",
          "The Rains Came",
          "The Revolution Betrayed: What Is the Soviet Union and Where Is It Going?",
          "The Road to Wigan Pier",
          "The Seven Who Fled",
          "The Six Queer Things",
          "The Stranger Prince",
          "The Street of the Fishing Cat",
          "The Years",
          "Theatre",
          "Thieves Like Us",
          "To Have and Have Not",
          "To Wake the Dead",
          "Victoria Four-Thirty",
          "White Mule",
          "Winged Pharaoh",
          "After the Death of Don Juan",
          "All This and Heaven Too",
          "America",
          "Apropos of Dolores",
          "Banbury Bog",
          "Being Geniuses Together",
          "Brighton Rock",
          "Death in Five Boxes",
          "Deep Summer",
          "Dynasty of Death",
          "Enemies of Promise",
          "Homage to Catalonia",
          "Hope of Heaven and Other Stories",
          "House of All Nations",
          "In Hazard",
          "Joseph in Egypt",
          "Journeyman",
          "Lions and Shadows: An Education in the Twenties",
          "Listen! The Wind",
          "Man against Himself",
          "Monday Night",
          "Mr. Zero",
          "Murphy",
          "My Sister Eileen",
          "My Son! My Son!",
          "Nonsense Songs",
          "Not to Be Taken",
          "Our Town",
          "Picasso",
          "Plume: Précédé de lointain intérieur",
          "Rebecca",
          "Red Star Over China",
          "Scoop",
          "Swiss Sonata",
          "The Black Jacobins: Toussaint L'Ouverture and the San Domingo Revolution",
          "The Case of the Shoplifter's Shoe",
          "The Case of the Substitute Face",
          "The Culture of Cities",
          "The Dead Don't Care",
          "The Death of the Heart",
          "The Doomsday Men",
          "The Fashion in Shrouds",
          "The Fathers",
          "The Judas Window",
          "The Long Valley",
          "The Squire",
          "The Summing Up",
          "The Unvanquished",
          "The Wall",
          "The Yearling",
          "This Proud Heart",
          "Three Guineas",
          "Trent Intervenes",
          "Unforgotten Years",
          "Wait until Spring, Bandini",
          "Warrant for X",
          "We'll to the Woods No More",
          "World Brain",
          "A Family Reunion",
          "A Political and Cultural History of Modern Europe",
          "Abe Lincoln in Illinois",
          "After Many a Summer",
          "At Swim-Two-Birds",
          "Beware of Pity",
          "Christmas Holiday",
          "Coming Up for Air",
          "Country Notes",
          "Fighting for Life",
          "Finnegans Wake",
          "Goodbye to Berlin",
          "Here Lies: The Collected Stories",
          "How Green Was My Valley",
          "In the Teeth of the Evidence",
          "Inside Asia",
          "Journey to a War",
          "Katia",
          "Kitty Foyle",
          "L'amour et l'occident",
          "Let the People Sing",
          "My American: A Romance",
          "Night Rider",
          "Party Going",
          "Poems",
          "Reviewing",
          "Seasoned Timber",
          "The Bigger They Come",
          "The Case of the Perjured Parrot",
          "The Chiffon Scarf",
          "The Day of the Locust",
          "The Grapes of Wrath",
          "The Idea of a Christian Society",
          "The Patriot",
          "The Problem of the Green Capsule",
          "The Reader Is Warned",
          "The Wild Palms",
          "Wickford Point",
          "Young Man with a Horn",
          "Books and You",
          "Death at the Bar",
          "Eggs, Beans and Crumpets",
          "Good-Bye, Mr. Chips",
          "Native Son",
          "Portrait of Jennie",
          "Portrait of the Artist as a Young Dog",
          "Sad Cypress",
          "Testament of Friendship",
          "The Eagles Gather",
          "The Mixture as Before",
          "The Power and the Glory",
          "Trouble in July",
          "Turn on the Heat",
          "The Short Stories of F. Scott Fitzgerald",
          "A Child's History of England",
          "A Room with a View",
          "Byron's Works",
          "Capital: A Critique of Political Economy",
          "Charlie Chan",
          "Clara Hopgood",
          "De Quincey Autobiography",
          "Elizabeth Barrett Browning's Poetical Works",
          "Essays",
          "Fairy Tales",
          "Faust",
          "Goethe's Poems",
          "Illustrations of the Book of Job",
          "in our time / In Our Time",
          "Leaves of Grass",
          "Plays",
          "Plays",
          "Poems",
          "Poems",
          "Poems",
          "Poems",
          "Poems of Oscar Wilde",
          "Prejudices",
          "Recollections of Dante Gabriel Rossetti",
          "Reminiscences of the English Lake Poets",
          "Samuel Taylor Coleridge's Works",
          "Shakespeare's England: An Account of His Life and Manners of His Age",
          "Shaving of Shagpat and Farina",
          "Some Imagist Poets: An Anthology",
          "T. E. Lawrence, Liddell Hart",
          "Tales of Mystery and Imagination",
          "Tennyson’s Poetical Works",
          "The Great Hunger",
          "The Invasion of Europe by the Barbarians",
          "The Logic of Hegel",
          "The Nō Plays of Japan",
          "The Prelude",
          "The Short Stories of H.G. Wells",
          "Wordsworth's Poetical Works"
         ],
         "legendgroup": "Other work",
         "marker": {
          "color": "#b3cde3",
          "size": 7.5,
          "symbol": "circle"
         },
         "mode": "markers",
         "name": "Other work",
         "showlegend": true,
         "type": "scattergl",
         "x": [
          1918,
          1810,
          1811,
          1812,
          1812,
          1814,
          1815,
          1816,
          1817,
          1817,
          1818,
          1818,
          1819,
          1819,
          1821,
          1822,
          1893,
          1823,
          1823,
          1823,
          1819,
          1825,
          1829,
          1832,
          1832,
          1833,
          1834,
          1835,
          1834,
          1838,
          1837,
          1839,
          1839,
          1840,
          1841,
          1841,
          1841,
          1840,
          1904,
          1843,
          1897,
          1844,
          1844,
          1839,
          1845,
          1846,
          1846,
          1846,
          1846,
          1847,
          1847,
          1846,
          1847,
          1848,
          1847,
          1848,
          1848,
          1848,
          1849,
          1849,
          1850,
          1850,
          1849,
          1850,
          1851,
          1851,
          1851,
          1851,
          1852,
          1853,
          1852,
          1852,
          1853,
          1851,
          1853,
          1854,
          1854,
          1855,
          1855,
          1883,
          1850,
          1857,
          1855,
          1857,
          1857,
          1857,
          1857,
          1858,
          1859,
          1911,
          1885,
          1859,
          1859,
          1859,
          1859,
          1859,
          1860,
          1860,
          1861,
          1861,
          1860,
          1860,
          1848,
          1861,
          1861,
          1863,
          1863,
          1863,
          1863,
          1863,
          1864,
          1866,
          1871,
          1869,
          1910,
          1866,
          1866,
          1867,
          1866,
          1862,
          1867,
          1867,
          1837,
          1865,
          1868,
          1869,
          1869,
          1869,
          1869,
          1870,
          1870,
          1870,
          1870,
          1871,
          1871,
          1871,
          1871,
          1884,
          1871,
          1872,
          1871,
          1872,
          1872,
          1872,
          1872,
          1874,
          1873,
          1869,
          1872,
          1873,
          1874,
          1874,
          1869,
          1875,
          1874,
          1875,
          1875,
          1869,
          1876,
          1849,
          1876,
          1876,
          1876,
          1876,
          1876,
          1896,
          1877,
          1877,
          1878,
          1878,
          1878,
          1877,
          1878,
          1878,
          1871,
          1878,
          1879,
          1879,
          1879,
          1879,
          1879,
          1880,
          1880,
          1879,
          1879,
          1880,
          1880,
          1881,
          1880,
          1881,
          1882,
          1881,
          1881,
          1881,
          1913,
          1882,
          1882,
          1882,
          1882,
          1882,
          1882,
          1882,
          1882,
          1887,
          1882,
          1883,
          1855,
          1833,
          1883,
          1883,
          1908,
          1883,
          1895,
          1884,
          1884,
          1884,
          1927,
          1885,
          1885,
          1885,
          1885,
          1885,
          1885,
          1885,
          1886,
          1886,
          1886,
          1886,
          1886,
          1886,
          1886,
          1886,
          1886,
          1886,
          1885,
          1887,
          1887,
          1886,
          1882,
          1835,
          1876,
          1887,
          1888,
          1886,
          1888,
          1888,
          1888,
          1883,
          1888,
          1888,
          1888,
          1888,
          1889,
          1879,
          1889,
          1889,
          1889,
          1888,
          1889,
          1889,
          1888,
          1890,
          1892,
          1890,
          1881,
          1890,
          1890,
          1874,
          1890,
          1891,
          1891,
          1891,
          1890,
          1891,
          1908,
          1891,
          1915,
          1891,
          1891,
          1891,
          1891,
          1890,
          1892,
          1891,
          1939,
          1913,
          1891,
          1891,
          1892,
          1891,
          1892,
          1872,
          1892,
          1892,
          1867,
          1892,
          1898,
          1892,
          1893,
          1893,
          1894,
          1885,
          1892,
          1893,
          1899,
          1893,
          1893,
          1893,
          1859,
          1893,
          1894,
          1894,
          1894,
          1894,
          1894,
          1894,
          1890,
          1894,
          1893,
          1894,
          1894,
          1852,
          1892,
          1895,
          1862,
          1895,
          1860,
          1895,
          1895,
          1906,
          1894,
          1894,
          1895,
          1895,
          1896,
          1896,
          1896,
          1896,
          1887,
          1896,
          1836,
          1896,
          1867,
          1896,
          1896,
          1897,
          1896,
          1896,
          1896,
          1897,
          1897,
          1897,
          1897,
          1897,
          1898,
          1897,
          1842,
          1896,
          1917,
          1897,
          1896,
          1892,
          1897,
          1897,
          1914,
          1870,
          1898,
          1898,
          1898,
          1898,
          1898,
          1898,
          1896,
          1898,
          1919,
          1898,
          1898,
          1891,
          1931,
          1898,
          1898,
          1905,
          1899,
          1893,
          1899,
          1890,
          1835,
          1899,
          1888,
          1897,
          1899,
          1899,
          1899,
          1895,
          1899,
          1898,
          1899,
          1884,
          1900,
          1900,
          1899,
          1899,
          1900,
          1900,
          1899,
          1900,
          1901,
          1888,
          1901,
          1901,
          1901,
          1901,
          1901,
          1901,
          1901,
          1901,
          1902,
          1902,
          1902,
          1902,
          1902,
          1864,
          1902,
          1902,
          1876,
          1899,
          1902,
          1902,
          1902,
          1902,
          1901,
          1902,
          1902,
          1898,
          1901,
          1903,
          1903,
          1903,
          1903,
          1903,
          1903,
          1903,
          1915,
          1903,
          1903,
          1874,
          1903,
          1903,
          1902,
          1903,
          1903,
          1884,
          1904,
          1873,
          1904,
          1904,
          1905,
          1904,
          1904,
          1903,
          1904,
          1904,
          1904,
          1904,
          1904,
          1904,
          1904,
          1911,
          1904,
          1904,
          1905,
          1905,
          1897,
          1905,
          1905,
          1905,
          1905,
          1905,
          1905,
          1905,
          1880,
          1906,
          1913,
          1905,
          1905,
          1905,
          1905,
          1906,
          1906,
          1906,
          1905,
          1906,
          1907,
          1906,
          1906,
          1906,
          1906,
          1906,
          1905,
          1906,
          1906,
          1926,
          1906,
          1907,
          1905,
          1907,
          1904,
          1907,
          1907,
          1918,
          1907,
          1907,
          1907,
          1908,
          1907,
          1912,
          1907,
          1907,
          1907,
          1906,
          1841,
          1907,
          1908,
          1908,
          1908,
          1908,
          1908,
          1892,
          1908,
          1908,
          1908,
          1908,
          1908,
          1908,
          1846,
          1908,
          1908,
          1908,
          1908,
          1908,
          1907,
          1908,
          1902,
          1909,
          1909,
          1909,
          1909,
          1935,
          1909,
          1909,
          1908,
          1909,
          1926,
          1902,
          1909,
          1909,
          1909,
          1909,
          1909,
          1910,
          1909,
          1903,
          1886,
          1910,
          1909,
          1909,
          1909,
          1909,
          1910,
          1878,
          1890,
          1910,
          1910,
          1910,
          1910,
          1910,
          1910,
          1911,
          1910,
          1935,
          1897,
          1910,
          1910,
          1914,
          1910,
          1910,
          1910,
          1910,
          1897,
          1911,
          1911,
          1907,
          1911,
          1911,
          1911,
          1911,
          1911,
          1911,
          1911,
          1911,
          1911,
          1886,
          1904,
          1911,
          1911,
          1911,
          1906,
          1911,
          1911,
          1911,
          1909,
          1911,
          1911,
          1910,
          1911,
          1912,
          1912,
          1912,
          1892,
          1912,
          1912,
          1912,
          1912,
          1910,
          1912,
          1912,
          1912,
          1912,
          1912,
          1893,
          1912,
          1912,
          1912,
          1912,
          1929,
          1912,
          1912,
          1900,
          1902,
          1913,
          1913,
          1913,
          1913,
          1913,
          1913,
          1911,
          1885,
          1913,
          1913,
          1913,
          1913,
          1913,
          1899,
          1913,
          1913,
          1913,
          1913,
          1893,
          1913,
          1913,
          1913,
          1913,
          1913,
          1914,
          1914,
          1914,
          1914,
          1913,
          1914,
          1900,
          1893,
          1917,
          1915,
          1914,
          1921,
          1911,
          1914,
          1914,
          1914,
          1914,
          1914,
          1914,
          1914,
          1901,
          1914,
          1914,
          1914,
          1915,
          1915,
          1915,
          1915,
          1915,
          1915,
          1915,
          1915,
          1886,
          1915,
          1914,
          1915,
          1915,
          1916,
          1915,
          1915,
          1903,
          1916,
          1915,
          1861,
          1914,
          1916,
          1915,
          1915,
          1915,
          1915,
          1914,
          1915,
          1915,
          1915,
          1911,
          1898,
          1911,
          1916,
          1916,
          1912,
          1916,
          1916,
          1916,
          1916,
          1916,
          1916,
          1916,
          1916,
          1916,
          1917,
          1916,
          1916,
          1916,
          1912,
          1916,
          1915,
          1916,
          1916,
          1916,
          1899,
          1916,
          1895,
          1916,
          1916,
          1916,
          1916,
          1917,
          1916,
          1887,
          1912,
          1917,
          1917,
          1917,
          1916,
          1917,
          1917,
          1917,
          1884,
          1917,
          1917,
          1920,
          1917,
          1917,
          1917,
          1917,
          1917,
          1917,
          1890,
          1917,
          1917,
          1888,
          1917,
          1917,
          1916,
          1917,
          1902,
          1919,
          1902,
          1918,
          1816,
          1913,
          1918,
          1918,
          1914,
          1918,
          1919,
          1918,
          1919,
          1918,
          1918,
          1917,
          1918,
          1918,
          1918,
          1937,
          1918,
          1918,
          1916,
          1918,
          1848,
          1919,
          1919,
          1922,
          1919,
          1919,
          1919,
          1918,
          1919,
          1919,
          1919,
          1919,
          1919,
          1918,
          1919,
          1918,
          1919,
          1919,
          1919,
          1927,
          1919,
          1919,
          1919,
          1919,
          1919,
          1919,
          1919,
          1919,
          1919,
          1919,
          1919,
          1916,
          1919,
          1917,
          1919,
          1919,
          1919,
          1919,
          1919,
          1919,
          1919,
          1919,
          1919,
          1919,
          1918,
          1919,
          1916,
          1920,
          1921,
          1920,
          1920,
          1920,
          1920,
          1920,
          1920,
          1920,
          1919,
          1919,
          1920,
          1920,
          1920,
          1920,
          1920,
          1920,
          1920,
          1920,
          1920,
          1911,
          1920,
          1920,
          1913,
          1918,
          1920,
          1919,
          1919,
          1920,
          1920,
          1920,
          1920,
          1920,
          1920,
          1916,
          1920,
          1898,
          1920,
          1920,
          1920,
          1920,
          1920,
          1923,
          1919,
          1919,
          1920,
          1920,
          1920,
          1921,
          1920,
          1920,
          1920,
          1920,
          1920,
          1920,
          1920,
          1920,
          1920,
          1921,
          1922,
          1921,
          1907,
          1911,
          1921,
          1920,
          1921,
          1921,
          1921,
          1921,
          1917,
          1921,
          1921,
          1920,
          1921,
          1911,
          1921,
          1921,
          1921,
          1921,
          1921,
          1921,
          1921,
          1921,
          1921,
          1913,
          1921,
          1923,
          1921,
          1921,
          1921,
          1921,
          1921,
          1921,
          1920,
          1918,
          1921,
          1919,
          1931,
          1920,
          1900,
          1921,
          1921,
          1921,
          1919,
          1921,
          1900,
          1921,
          1912,
          1921,
          1921,
          1921,
          1922,
          1921,
          1884,
          1922,
          1922,
          1922,
          1920,
          1922,
          1917,
          1907,
          1922,
          1842,
          1922,
          1922,
          1922,
          1922,
          1922,
          1922,
          1922,
          1922,
          1922,
          1870,
          1878,
          1922,
          1922,
          1920,
          1922,
          1922,
          1924,
          1936,
          1922,
          1922,
          1922,
          1923,
          1922,
          1922,
          1922,
          1871,
          1922,
          1922,
          1922,
          1925,
          1913,
          1922,
          1922,
          1922,
          1922,
          1922,
          1922,
          1922,
          1921,
          1922,
          1922,
          1915,
          1922,
          1922,
          1922,
          1922,
          1922,
          1922,
          1917,
          1922,
          1922,
          1922,
          1922,
          1921,
          1922,
          1933,
          1921,
          1916,
          1923,
          1923,
          1923,
          1923,
          1923,
          1923,
          1922,
          1923,
          1923,
          1923,
          1923,
          1923,
          1923,
          1922,
          1888,
          1923,
          1923,
          1923,
          1923,
          1923,
          1923,
          1923,
          1923,
          1923,
          1925,
          1923,
          1923,
          1923,
          1923,
          1923,
          1930,
          1923,
          1923,
          1923,
          1923,
          1922,
          1920,
          1926,
          1923,
          1923,
          1874,
          1921,
          1923,
          1836,
          1923,
          1923,
          1923,
          1923,
          1923,
          1923,
          1923,
          1923,
          1876,
          1923,
          1922,
          1924,
          1924,
          1924,
          1909,
          1913,
          1924,
          1901,
          1924,
          1913,
          1925,
          1923,
          1924,
          1924,
          1924,
          1924,
          1924,
          1919,
          1924,
          1922,
          1922,
          1924,
          1929,
          1924,
          1924,
          1924,
          1923,
          1909,
          1924,
          1890,
          1924,
          1924,
          1924,
          1909,
          1925,
          1930,
          1890,
          1924,
          1924,
          1914,
          1924,
          1924,
          1924,
          1924,
          1924,
          1924,
          1924,
          1924,
          1924,
          1924,
          1924,
          1924,
          1924,
          1924,
          1924,
          1923,
          1924,
          1924,
          1913,
          1924,
          1933,
          1925,
          1925,
          1922,
          1925,
          1925,
          1924,
          1925,
          1925,
          1925,
          1911,
          1923,
          1925,
          1925,
          1925,
          1879,
          1871,
          1914,
          1925,
          1924,
          1925,
          1925,
          1925,
          1817,
          1925,
          1925,
          1926,
          1925,
          1926,
          1915,
          1929,
          1925,
          1925,
          1925,
          1874,
          1924,
          1925,
          1920,
          1925,
          1925,
          1925,
          1925,
          1925,
          1925,
          1925,
          1925,
          1925,
          1925,
          1923,
          1895,
          1924,
          1923,
          1925,
          1925,
          1925,
          1925,
          1925,
          1925,
          1926,
          1926,
          1926,
          1926,
          1926,
          1926,
          1926,
          1926,
          1926,
          1926,
          1926,
          1925,
          1926,
          1925,
          1928,
          1926,
          1831,
          1926,
          1926,
          1926,
          1926,
          1902,
          1926,
          1926,
          1926,
          1926,
          1926,
          1924,
          1926,
          1926,
          1926,
          1926,
          1926,
          1926,
          1927,
          1926,
          1926,
          1926,
          1925,
          1926,
          1926,
          1928,
          1926,
          1926,
          1926,
          1926,
          1917,
          1926,
          1926,
          1926,
          1926,
          1918,
          1926,
          1926,
          1926,
          1926,
          1926,
          1926,
          1923,
          1926,
          1926,
          1925,
          1925,
          1926,
          1926,
          1830,
          1926,
          1926,
          1926,
          1926,
          1926,
          1926,
          1925,
          1928,
          1926,
          1926,
          1926,
          1925,
          1927,
          1920,
          1927,
          1927,
          1927,
          1926,
          1927,
          1928,
          1927,
          1926,
          1927,
          1924,
          1927,
          1927,
          1927,
          1925,
          1927,
          1935,
          1927,
          1927,
          1927,
          1927,
          1927,
          1926,
          1925,
          1927,
          1902,
          1927,
          1927,
          1927,
          1927,
          1927,
          1926,
          1922,
          1927,
          1928,
          1927,
          1919,
          1927,
          1927,
          1927,
          1912,
          1927,
          1927,
          1927,
          1927,
          1927,
          1927,
          1925,
          1927,
          1927,
          1827,
          1927,
          1927,
          1927,
          1927,
          1923,
          1927,
          1927,
          1906,
          1927,
          1928,
          1927,
          1928,
          1927,
          1927,
          1928,
          1927,
          1927,
          1928,
          1928,
          1928,
          1928,
          1927,
          1928,
          1908,
          1896,
          1928,
          1928,
          1928,
          1928,
          1928,
          1928,
          1928,
          1928,
          1924,
          1928,
          1928,
          1923,
          1928,
          1928,
          1909,
          1835,
          1928,
          1928,
          1928,
          1928,
          1928,
          1928,
          1894,
          1928,
          1928,
          1928,
          1928,
          1928,
          1928,
          1928,
          1928,
          1928,
          1927,
          1928,
          1928,
          1928,
          1927,
          1928,
          1928,
          1928,
          1927,
          1928,
          1928,
          1915,
          1928,
          1928,
          1928,
          1928,
          1928,
          1928,
          1927,
          1928,
          1927,
          1928,
          1928,
          1928,
          1928,
          1928,
          1928,
          1928,
          1927,
          1928,
          1928,
          1920,
          1928,
          1928,
          1928,
          1928,
          1929,
          1929,
          1929,
          1928,
          1929,
          1929,
          1903,
          1929,
          1929,
          1929,
          1929,
          1929,
          1929,
          1929,
          1929,
          1929,
          1929,
          1929,
          1929,
          1929,
          1919,
          1920,
          1929,
          1929,
          1929,
          1928,
          1917,
          1929,
          1929,
          1859,
          1929,
          1929,
          1929,
          1929,
          1917,
          1928,
          1929,
          1929,
          1937,
          1929,
          1870,
          1929,
          1929,
          1928,
          1929,
          1929,
          1929,
          1929,
          1929,
          1895,
          1929,
          1929,
          1929,
          1929,
          1926,
          1929,
          1929,
          1929,
          1929,
          1929,
          1929,
          1929,
          1933,
          1929,
          1930,
          1929,
          1935,
          1929,
          1926,
          1926,
          1930,
          1930,
          1930,
          1924,
          1930,
          1930,
          1930,
          1930,
          1930,
          1925,
          1930,
          1930,
          1923,
          1930,
          1930,
          1930,
          1930,
          1930,
          1930,
          1930,
          1932,
          1930,
          1926,
          1930,
          1931,
          1930,
          1930,
          1930,
          1930,
          1930,
          1930,
          1930,
          1924,
          1929,
          1930,
          1930,
          1930,
          1930,
          1930,
          1930,
          1929,
          1930,
          1930,
          1926,
          1930,
          1930,
          1930,
          1930,
          1930,
          1930,
          1937,
          1930,
          1929,
          1928,
          1929,
          1930,
          1930,
          1930,
          1930,
          1930,
          1930,
          1930,
          1930,
          1930,
          1931,
          1931,
          1931,
          1932,
          1937,
          1931,
          1931,
          1929,
          1931,
          1931,
          1931,
          1931,
          1931,
          1929,
          1931,
          1931,
          1931,
          1930,
          1931,
          1931,
          1931,
          1927,
          1931,
          1931,
          1931,
          1931,
          1930,
          1931,
          1931,
          1930,
          1930,
          1931,
          1931,
          1931,
          1931,
          1931,
          1931,
          1931,
          1931,
          1931,
          1930,
          1931,
          1931,
          1940,
          1894,
          1931,
          1931,
          1935,
          1901,
          1931,
          1931,
          1929,
          1931,
          1933,
          1931,
          1932,
          1932,
          1932,
          1931,
          1932,
          1932,
          1932,
          1932,
          1932,
          1932,
          1932,
          1932,
          1932,
          1932,
          1932,
          1932,
          1928,
          1932,
          1932,
          1932,
          1932,
          1932,
          1932,
          1928,
          1932,
          1931,
          1932,
          1932,
          1932,
          1932,
          1932,
          1932,
          1932,
          1931,
          1932,
          1932,
          1923,
          1932,
          1932,
          1932,
          1932,
          1932,
          1932,
          1900,
          1935,
          1933,
          1932,
          1932,
          1930,
          1925,
          1932,
          1932,
          1932,
          1932,
          1930,
          1932,
          1932,
          1932,
          1932,
          1932,
          1932,
          1932,
          1932,
          1932,
          1932,
          1932,
          1932,
          1932,
          1932,
          1933,
          1932,
          1933,
          1933,
          1932,
          1933,
          1933,
          1933,
          1934,
          1933,
          1933,
          1894,
          1933,
          1933,
          1933,
          1932,
          1933,
          1932,
          1933,
          1933,
          1933,
          1933,
          1933,
          1933,
          1933,
          1932,
          1933,
          1933,
          1932,
          1932,
          1933,
          1933,
          1933,
          1933,
          1933,
          1940,
          1933,
          1933,
          1933,
          1933,
          1933,
          1932,
          1933,
          1933,
          1933,
          1933,
          1933,
          1933,
          1933,
          1934,
          1933,
          1933,
          1933,
          1933,
          1933,
          1933,
          1933,
          1932,
          1933,
          1933,
          1933,
          1933,
          1931,
          1933,
          1933,
          1933,
          1935,
          1933,
          1933,
          1933,
          1933,
          1934,
          1934,
          1934,
          1934,
          1934,
          1934,
          1928,
          1934,
          1934,
          1934,
          1934,
          1934,
          1934,
          1932,
          1934,
          1934,
          1934,
          1934,
          1934,
          1935,
          1934,
          1934,
          1934,
          1934,
          1934,
          1934,
          1934,
          1934,
          1934,
          1934,
          1934,
          1934,
          1934,
          1934,
          1934,
          1934,
          1934,
          1909,
          1934,
          1934,
          1934,
          1934,
          1934,
          1926,
          1933,
          1934,
          1934,
          1933,
          1934,
          1934,
          1934,
          1934,
          1934,
          1934,
          1934,
          1934,
          1934,
          1934,
          1934,
          1934,
          1934,
          1934,
          1934,
          1933,
          1922,
          1935,
          1926,
          1925,
          1935,
          1934,
          1935,
          1935,
          1935,
          1935,
          1935,
          1936,
          1935,
          1935,
          1935,
          1935,
          1935,
          1935,
          1935,
          1934,
          1935,
          1935,
          1935,
          1935,
          1935,
          1935,
          1935,
          1934,
          1935,
          1936,
          1935,
          1934,
          1935,
          1935,
          1935,
          1935,
          1935,
          1938,
          1935,
          1935,
          1935,
          1935,
          1935,
          1935,
          1935,
          1935,
          1935,
          1935,
          1935,
          1935,
          1935,
          1935,
          1936,
          1935,
          1935,
          1934,
          1929,
          1935,
          1935,
          1935,
          1935,
          1935,
          1935,
          1932,
          1935,
          1928,
          1935,
          1923,
          1935,
          1936,
          1936,
          1936,
          1936,
          1937,
          1936,
          1936,
          1936,
          1937,
          1936,
          1936,
          1931,
          1930,
          1936,
          1936,
          1936,
          1936,
          1857,
          1936,
          1936,
          1936,
          1888,
          1936,
          1936,
          1925,
          1933,
          1936,
          1935,
          1936,
          1937,
          1936,
          1927,
          1936,
          1936,
          1936,
          1939,
          1850,
          1936,
          1936,
          1936,
          1936,
          1936,
          1936,
          1937,
          1919,
          1938,
          1936,
          1932,
          1936,
          1936,
          1922,
          1936,
          1936,
          1936,
          1935,
          1936,
          1936,
          1936,
          1936,
          1936,
          1936,
          1930,
          1936,
          1936,
          1936,
          1936,
          1936,
          1937,
          1937,
          1936,
          1937,
          1937,
          1937,
          1937,
          1937,
          1937,
          1937,
          1935,
          1852,
          1937,
          1937,
          1937,
          1937,
          1937,
          1937,
          1937,
          1937,
          1937,
          1937,
          1937,
          1937,
          1934,
          1937,
          1937,
          1937,
          1937,
          1937,
          1937,
          1937,
          1937,
          1937,
          1937,
          1937,
          1937,
          1937,
          1937,
          1937,
          1937,
          1937,
          1937,
          1937,
          1937,
          1937,
          1937,
          1937,
          1937,
          1937,
          1937,
          1936,
          1937,
          1937,
          1937,
          1937,
          1938,
          1937,
          1937,
          1938,
          1938,
          1938,
          1927,
          1937,
          1938,
          1938,
          1938,
          1938,
          1937,
          1938,
          1938,
          1938,
          1938,
          1938,
          1938,
          1936,
          1935,
          1938,
          1938,
          1938,
          1938,
          1938,
          1938,
          1938,
          1938,
          1846,
          1938,
          1938,
          1938,
          1930,
          1938,
          1937,
          1938,
          1938,
          1938,
          1938,
          1938,
          1938,
          1938,
          1938,
          1938,
          1938,
          1938,
          1938,
          1938,
          1938,
          1938,
          1938,
          1938,
          1938,
          1937,
          1938,
          1938,
          1938,
          1938,
          1938,
          1887,
          1938,
          1939,
          1916,
          1938,
          1939,
          1939,
          1939,
          1939,
          1939,
          1939,
          1939,
          1939,
          1939,
          1939,
          1939,
          1933,
          1939,
          1939,
          1938,
          1939,
          1939,
          1940,
          1939,
          1939,
          1939,
          1932,
          1939,
          1939,
          1938,
          1939,
          1939,
          1939,
          1939,
          1939,
          1939,
          1939,
          1939,
          1939,
          1939,
          1938,
          1940,
          1940,
          1940,
          1934,
          1940,
          1940,
          1940,
          1940,
          1940,
          1940,
          1940,
          1940,
          1940,
          1940,
          1920,
          1854,
          1908,
          1816,
          1867,
          1925,
          1896,
          1821,
          1875,
          1856,
          1913,
          1832,
          1920,
          1826,
          1925,
          1855,
          1912,
          1903,
          1911,
          1919,
          1821,
          1912,
          1909,
          1927,
          1882,
          1834,
          1834,
          1907,
          1856,
          1931,
          1934,
          1842,
          1892,
          1925,
          1928,
          1812,
          1921,
          1850,
          1927,
          1802
         ],
         "xaxis": "x",
         "y": [
          2.5814168622145526,
          0.038690641537725876,
          -3.5379905742155437,
          -2.2672595696066336,
          -3.339011911776678,
          -1.2656865971142781,
          -3.660204035453708,
          1.7547382890300844,
          3.716396795053537,
          -0.2489914309140552,
          2.6555248343682742,
          0.7661268955763033,
          0.12672399102304868,
          -2.2276655131598613,
          0.24604194639751562,
          3.141032650149975,
          1.1951225010946618,
          2.853350577698194,
          1.2692304732483837,
          0.432982449047765,
          -0.015967771000138246,
          4.527327011269866,
          2.44788546959003,
          1.9623776538083288,
          -1.5571724018053057,
          -2.222604182518704,
          2.129431738471495,
          2.44788546959003,
          0.925458934145559,
          -2.891573840289182,
          -0.39265391455825926,
          -1.5003489178006884,
          -0.5966369681333933,
          -1.39425140837395,
          -1.9072195075175875,
          0.13287785659742693,
          -1.6731821627728245,
          -1.5767218965852623,
          4.93279211937803,
          0.9577943147884955,
          3.428714722601756,
          -0.22626317983649905,
          -0.7301683607579159,
          -1.6082378798118733,
          1.3810218792365003,
          -0.0627295369081775,
          1.6095562791855864,
          0.2232619180656959,
          -1.5929704076810849,
          0.8897408515434799,
          -2.6283294701522077,
          -3.5944716219731174,
          0.9577943147884955,
          -1.4945050724545126,
          -2.992153166235018,
          -0.7634620888573794,
          0.6153040058417196,
          -2.423104541992708,
          -1.882025163944838,
          3.2745640427744975,
          -2.286392275785677,
          -3.0519686945181577,
          1.1951225010946618,
          1.60416543055071,
          0.3078193060937589,
          3.2280440271396045,
          -2.009074689232875,
          -2.5438218146207072,
          3.428714722601756,
          2.4732032775743193,
          1.6867876271215767,
          1.3774440578886165,
          -1.3811440503271861,
          -0.06779283886472424,
          -1.6079973506465526,
          -2.8634715104658106,
          -2.370546267857821,
          3.662329573783261,
          1.937059845824039,
          3.83417983070992,
          2.5814168622145526,
          -0.5806366267869523,
          -2.2423149655826373,
          1.4907727431956193,
          0.2471946842773242,
          -2.6311869860594546,
          -0.6766796758069298,
          -0.2848573441025519,
          -1.685279084481653,
          1.9623776538083288,
          0.04620947395175286,
          -2.475738447516596,
          -2.648927520747278,
          2.4732032775743193,
          3.83417983070992,
          2.22474191827582,
          0.3580811408746472,
          -0.9730237581962582,
          3.1410326501499752,
          4.527327011269866,
          -0.7064518341406,
          -2.9424981846652734,
          2.129431738471495,
          1.802747508216445,
          -2.150385974706905,
          3.83417983070992,
          -0.2969787046348966,
          4.527327011269866,
          -0.10253578730859714,
          -1.1321552044897554,
          0.23686757012147439,
          -2.6515997880370628,
          -2.8934229659059576,
          1.0009664866537042,
          3.83417983070992,
          3.83417983070992,
          1.1951225010946618,
          1.937059845824039,
          -2.513792979779695,
          -0.8197805194476031,
          1.0615911084701393,
          0.50794548752122,
          -1.6076966078094836,
          -3.1534642979563734,
          -2.5790741874260807,
          1.6941136672136494,
          -0.8917319729742998,
          -1.5594477156424411,
          -1.7265018003056074,
          1.7547382890300844,
          3.83417983070992,
          4.527327011269866,
          -2.23424575753419,
          -0.17315335452255054,
          -3.4157457060080674,
          3.1410326501499752,
          -0.30895489568161244,
          0.48427574343531554,
          -3.6541136844495075,
          1.34927318092192,
          1.1600311812833917,
          2.512423990727601,
          -1.239951774945463,
          0.06911123823843736,
          -1.3016186063403414,
          3.83417983070992,
          -1.5617178641769804,
          -2.8199726894732984,
          4.527327011269866,
          -0.10740197695977002,
          6.136764923703966,
          -2.3089322660072016,
          -2.2036910892122172,
          4.121861903161701,
          -2.5305709261419906,
          4.527327011269866,
          1.2222734901606127,
          1.0933398067847193,
          -1.7398735372714966,
          -2.5352929782731866,
          -1.8894052712424603,
          -3.3886598732847837,
          0.5857452036001752,
          -0.48330828282639016,
          0.967228347021854,
          1.0009664866537042,
          0.32762193338993856,
          2.44788546959003,
          -1.404918176178145,
          5.220474191829811,
          4.121861903161701,
          1.34927318092192,
          0.4960405850149017,
          -1.4747064871873505,
          0.635506713159239,
          -1.3829274804125733,
          0.38419228487833285,
          5.625939299937976,
          2.906193059072574,
          0.4246836462330698,
          1.0933398067847193,
          4.527327011269866,
          -1.4167838394546461,
          -3.526321645961375,
          1.6941136672136494,
          1.7239666303633305,
          3.428714722601756,
          0.3529397413742286,
          -1.4413805487155,
          0.2788317692205067,
          0.971978949780452,
          3.83417983070992,
          3.6110362793957105,
          -0.7275607973508349,
          5.625939299937976,
          3.0609899424764384,
          3.1410326501499752,
          3.1410326501499752,
          2.44788546959003,
          1.6941136672136494,
          1.4362845579115497,
          2.1477808771396916,
          3.83417983070992,
          2.22474191827582,
          -0.35925563415641143,
          0.5019753205347164,
          0.09651021242655199,
          3.83417983070992,
          3.010979521901777,
          -2.661085725227088,
          3.8767394451287163,
          -1.5729919407501984,
          3.428714722601756,
          -2.989589792199124,
          3.2745640427744975,
          -0.44940673115070867,
          4.527327011269866,
          -1.9618779200554517,
          5.338257227486195,
          3.83417983070992,
          2.62308955861512,
          1.7239666303633308,
          2.22474191827582,
          -0.8386490037519859,
          4.085494258990826,
          4.121861903161701,
          1.2501822782776892,
          -1.7065933981846988,
          -2.462929489224015,
          -3.298916583129914,
          2.129431738471495,
          4.190854774648653,
          -0.2929545543351713,
          -1.462052029347095,
          2.4904450840088255,
          2.330102433933646,
          3.6110362793957105,
          -1.6741958476036707,
          1.5828880321034253,
          2.22474191827582,
          3.83417983070992,
          -0.5257289987103423,
          3.1410326501499752,
          1.5315947377158747,
          0.9300147506814199,
          4.93279211937803,
          1.0973802163217243,
          -0.8464069945629253,
          -1.4241832203310838,
          1.1261296296077103,
          2.6177845063854273,
          1.932072304313,
          -3.5682716901083236,
          -3.1786109111060976,
          1.3774440578886165,
          -2.7554341683357273,
          -1.2188761792702876,
          1.2439126652640935,
          -0.12663333888765774,
          -1.7062990929880881,
          -1.8910379246663458,
          1.4988049148928837,
          2.129431738471495,
          5.220474191829811,
          0.5199938260373947,
          2.4904450840088255,
          1.173382514458256,
          0.038690641537725876,
          2.5463255424032822,
          1.7239666303633308,
          1.3286538937191843,
          -1.0894440863967056,
          -1.4349661585378366,
          1.391832795340716,
          5.220474191829811,
          0.20540430066568927,
          4.527327011269866,
          0.5889866975243461,
          1.5315947377158747,
          -0.7157418810476925,
          -1.7904745505652864,
          1.2692304732483837,
          0.6153040058417196,
          4.527327011269866,
          5.625939299937976,
          2.330102433933646,
          4.121861903161701,
          0.7318378220976712,
          2.917889098835765,
          1.34927318092192,
          3.83417983070992,
          4.239644938818085,
          3.1410326501499752,
          2.7355675420418106,
          -1.1528455977472016,
          -0.5225289959796714,
          2.5814168622145526,
          2.22474191827582,
          1.876435224007604,
          4.527327011269866,
          0.3452768686286595,
          1.0308194498033856,
          -1.0236927088339252,
          0.5617632389136897,
          4.239644938818085,
          4.121861903161701,
          0.50794548752122,
          -0.6055259155506393,
          -0.8150072406949453,
          -2.020892091492507,
          3.5074956004548703,
          2.681500320771535,
          1.1715920036844676,
          5.508156264281592,
          1.2692304732483837,
          5.220474191829811,
          -2.373403652775307,
          -3.0564292894372462,
          2.6555248343682742,
          -0.5478468039639612,
          1.0615911084701393,
          0.10048636080619147,
          1.4138117020594911,
          4.527327011269866,
          -2.6945088140185836,
          -0.7226167709939553,
          0.4329824490477649,
          3.428714722601756,
          1.4362845579115497,
          5.625939299937976,
          1.391832795340716,
          -2.6017034079664536,
          -0.7507876479606516,
          4.527327011269866,
          1.0720624083374344,
          1.8705701045552061,
          1.4828045735464426,
          4.527327011269866,
          4.750470562584075,
          0.9164090986256412,
          0.2232619180656959,
          2.44788546959003,
          0.32263439187889964,
          0.5760832926884383,
          -0.2848573441025519,
          3.83417983070992,
          1.7547382890300842,
          0.432982449047765,
          4.527327011269866,
          4.527327011269866,
          -2.2400161139955266,
          2.5814168622145526,
          -0.6821591415715552,
          0.7488353984662424,
          2.44788546959003,
          2.7355675420418106,
          5.913621372389756,
          2.512423990727601,
          -1.321036692197443,
          1.3199455658274,
          1.9936301973124333,
          -0.30895489568161244,
          3.83417983070992,
          0.6955848371025223,
          3.1410326501499752,
          0.8637653651402192,
          4.527327011269866,
          2.22474191827582,
          4.527327011269866,
          1.4138117020594911,
          5.826609995400126,
          4.627410469826848,
          3.83417983070992,
          1.888269681654607,
          4.527327011269866,
          3.428714722601756,
          1.888269681654607,
          2.2000493056854484,
          1.1951225010946618,
          4.93279211937803,
          -3.5436832387596486,
          4.93279211937803,
          4.527327011269866,
          -1.2370800852027704,
          1.9623776538083288,
          -2.8911538864779285,
          0.7778229353394945,
          -0.7037816055847212,
          0.28600025869911927,
          0.9438080728137556,
          1.9883531402115895,
          1.5315947377158747,
          1.5315947377158747,
          -3.09543478262511,
          3.716396795053537,
          1.308451186401665,
          2.5814168622145526,
          1.7547382890300844,
          0.18568843750127215,
          1.5315947377158747,
          1.8192768101676555,
          -1.2394302625477238,
          0.41776548324290463,
          2.917889098835765,
          0.1835215894161818,
          -0.06526439251136563,
          2.804560413528762,
          -0.8798447601902532,
          -0.9496594164905514,
          2.917889098835765,
          0.5383429647055913,
          0.5570350977177438,
          -2.0793231749283496,
          0.971978949780452,
          0.7896573929864973,
          4.075341887526808,
          0.9438080728137556,
          1.0308194498033856,
          1.0009664866537042,
          -2.047051235998361,
          4.527327011269866,
          3.83417983070992,
          1.9172572185278591,
          2.330102433933646,
          -1.9023924667692715,
          2.7355675420418106,
          -3.200097960982001,
          -1.3793963073830258,
          -0.154804215854354,
          0.8637653651402192,
          -0.30298472869510856,
          -0.12663333888765774,
          0.8822501798143222,
          1.134497879278227,
          2.7355675420418106,
          0.6644942500324912,
          4.016501387503875,
          4.527327011269866,
          1.0009664866537042,
          -2.1953027835855825,
          1.6095562791855864,
          0.46063398037827497,
          2.6302070263839843,
          3.3233542069439297,
          4.93279211937803,
          2.44788546959003,
          1.8192768101676557,
          1.177422923995261,
          2.853350577698194,
          4.527327011269866,
          1.541645073569376,
          3.83417983070992,
          1.4828045735464426,
          1.8192768101676557,
          1.2976011703775991,
          2.22474191827582,
          2.1691720671210093,
          -0.06345443726612622,
          1.3286538937191843,
          -1.210051412814851,
          4.016501387503875,
          4.016501387503875,
          -1.1390996768425665,
          2.0424203614818652,
          0.9743627411357281,
          3.428714722601756,
          -0.4998375847776007,
          4.121861903161701,
          3.6110362793957105,
          4.527327011269866,
          4.815009083721646,
          0.3376722692434402,
          1.1600311812833917,
          -0.48580516302497734,
          5.038152635035856,
          -0.02917800273694468,
          1.47097011589944,
          1.7547382890300844,
          0.7206645214995459,
          -2.0507330153700822,
          4.527327011269866,
          2.22474191827582,
          1.6941136672136494,
          3.1410326501499752,
          1.5315947377158747,
          -0.32567933862280707,
          2.0424203614818652,
          1.1600311812833917,
          -0.8617447185466351,
          4.681477691097124,
          0.5570350977177438,
          0.7778229353394945,
          2.0912105256512974,
          4.527327011269866,
          2.129431738471495,
          -1.8795529747994488,
          1.9623776538083288,
          2.4070634750697746,
          -3.095989043109117,
          0.8822501798143222,
          2.0424203614818652,
          5.625939299937976,
          3.1410326501499752,
          3.1410326501499752,
          2.467303555447131,
          1.4923740245625932,
          2.878668385682484,
          0.3151994133913814,
          4.179020317001649,
          -0.29026276266946,
          2.286617321993907,
          2.840928057699637,
          0.7896573929864971,
          -2.0449555314241423,
          1.7451688380139336,
          5.625939299937976,
          1.3199455658274,
          -0.34020743918571666,
          -1.34970824508708,
          -1.5684975511623591,
          4.527327011269866,
          3.83417983070992,
          2.387260847773595,
          4.527327011269866,
          0.9164090986256412,
          2.3163091118013104,
          4.527327011269866,
          3.428714722601756,
          4.527327011269866,
          -1.4535820218985998,
          2.22474191827582,
          2.208212616324609,
          -0.5846607770866775,
          1.5315947377158747,
          -0.07784317471822567,
          4.527327011269866,
          1.5569125457001645,
          4.121861903161701,
          -2.201002514030342,
          0.6561260003619747,
          -0.9901258851948421,
          1.5174101027239182,
          4.016501387503875,
          0.1390698268453481,
          4.527327011269866,
          2.7355675420418106,
          4.815009083721646,
          3.141032650149975,
          4.527327011269866,
          0.13287785659742693,
          -2.952537119895161,
          5.220474191829811,
          1.2314901452655367,
          1.7547382890300844,
          5.625939299937976,
          2.0015983669616104,
          5.913621372389756,
          4.527327011269866,
          2.7355675420418106,
          2.129431738471495,
          1.2692304732483837,
          3.83417983070992,
          4.527327011269866,
          5.625939299937976,
          4.527327011269866,
          1.65659122789056,
          1.3257426835117259,
          -0.2348469235278905,
          3.4858731364417044,
          3.2745640427744975,
          4.121861903161701,
          1.937059845824039,
          3.5464977582581394,
          2.129431738471495,
          -0.20799385918327087,
          3.3233542069439297,
          4.527327011269866,
          2.5814168622145526,
          1.6369552533737008,
          4.815009083721646,
          2.7355675420418106,
          5.220474191829811,
          0.7262355665490013,
          2.917889098835765,
          5.220474191829811,
          3.382194706966863,
          2.5532459852478557,
          -0.9616107148868208,
          2.44788546959003,
          3.1410326501499752,
          2.129431738471495,
          0.3376722692434402,
          4.527327011269866,
          2.0424203614818652,
          0.17061818458027386,
          3.2745640427744975,
          1.8109780073529604,
          0.8637653651402192,
          0.10848640347326777,
          3.83417983070992,
          3.1410326501499752,
          4.527327011269866,
          -0.0877935055713938,
          4.3731763314426075,
          4.527327011269866,
          0.8637653651402192,
          1.8531783618433368,
          -0.3723767221191084,
          2.44788546959003,
          3.428714722601756,
          2.44788546959003,
          3.2280440271396045,
          1.4037613662059896,
          4.527327011269866,
          1.128911272569587,
          1.308451186401665,
          3.1410326501499752,
          2.129431738471495,
          1.7547382890300844,
          2.0424203614818652,
          2.917889098835765,
          0.4371578204582457,
          1.9623776538083288,
          -0.22769893026260346,
          4.815009083721646,
          0.5889866975243461,
          4.93279211937803,
          3.9142225383834566,
          3.7388696509055954,
          1.3703265901197523,
          3.0184303280576428,
          4.527327011269866,
          4.815009083721646,
          -1.2778079576466228,
          3.428714722601756,
          3.0012707077748164,
          2.4904450840088255,
          1.8192768101676557,
          0.23686757012147455,
          1.7864869873446647,
          2.7355675420418106,
          4.05732338202413,
          4.815009083721646,
          1.2886485591054853,
          -0.9407331298652656,
          2.5814168622145526,
          1.6941136672136494,
          4.527327011269866,
          0.9164090986256412,
          0.20793594758746897,
          6.03140440804614,
          0.8384475571559293,
          -2.453678729451864,
          6.136764923703966,
          0.9438080728137556,
          0.11452871792923026,
          3.1410326501499752,
          5.220474191829811,
          2.9691823932233157,
          3.1410326501499752,
          2.5463255424032822,
          1.0009664866537042,
          5.220474191829811,
          -0.35470157588240325,
          4.3731763314426075,
          0.07297971501635797,
          3.428714722601756,
          -3.3328580462022996,
          3.1410326501499752,
          2.5814168622145526,
          1.9623776538083288,
          4.190854774648653,
          -0.7183804050058737,
          -1.5796958764723887,
          2.6555248343682742,
          3.6110362793957105,
          0.9577943147884955,
          4.527327011269866,
          4.93279211937803,
          5.038152635035856,
          1.4988049148928837,
          4.527327011269866,
          1.9246373258254819,
          0.5109439905174769,
          1.2192200526737222,
          3.428714722601756,
          2.44788546959003,
          1.6941136672136494,
          1.9623776538083288,
          -2.463849875851344,
          1.6941136672136494,
          1.2501822782776892,
          3.83417983070992,
          3.83417983070992,
          3.428714722601756,
          3.4977075940887072,
          -0.4317225480214901,
          4.075341887526808,
          4.4654516075517785,
          -0.13611208284220147,
          3.967711223334443,
          -2.1319669084137716,
          2.550164318710448,
          -1.4022621321200288,
          1.7864869873446647,
          -1.8112670669333173,
          -1.8527955256298996,
          -1.6892790898149992,
          1.015781572438845,
          0.6240925118747989,
          -0.3853278744661864,
          3.428714722601756,
          -0.617256255336129,
          5.220474191829811,
          0.5597341546869089,
          3.141032650149975,
          0.5987747038905089,
          1.6369552533737008,
          1.5315947377158747,
          5.220474191829811,
          -0.028101738560901496,
          4.527327011269866,
          2.0424203614818652,
          5.7437223355943585,
          2.917889098835765,
          3.6110362793957105,
          0.3762871053712195,
          3.1410326501499752,
          3.6518582739159657,
          -0.29563911970584034,
          3.83417983070992,
          3.1410326501499752,
          1.9623776538083288,
          2.129431738471495,
          0.6986856147807706,
          3.1410326501499752,
          3.629385418063907,
          4.016501387503875,
          0.8260250371573722,
          3.765186959222969,
          5.443617743144021,
          3.967711223334443,
          0.03308838598905603,
          3.83417983070992,
          0.8897408515434799,
          4.527327011269866,
          5.625939299937976,
          2.129431738471495,
          2.387260847773595,
          0.08467575477954924,
          3.141032650149975,
          2.8850992760127743,
          2.44788546959003,
          1.9623776538083288,
          1.888269681654607,
          1.888269681654607,
          4.563694655440741,
          0.541434157275264,
          1.1429367479240915,
          3.680029150882662,
          1.308451186401665,
          0.3226343918788995,
          5.315784371634136,
          1.730045676439713,
          -0.21760511709338445,
          4.750470562584075,
          4.09200894001202,
          3.83417983070992,
          4.527327011269866,
          4.016501387503875,
          1.2821338780842915,
          4.93279211937803,
          3.428714722601756,
          -0.8730955782153248,
          2.840928057699637,
          3.6110362793957105,
          1.0678607214837343,
          5.443617743144021,
          3.83417983070992,
          1.0308194498033856,
          5.086942799205288,
          3.9395403463677465,
          -0.9237114422958349,
          2.8225789190314403,
          2.22474191827582,
          2.305710980809487,
          3.3017150318404487,
          2.613677724432774,
          4.27601258298896,
          5.625939299937976,
          4.3731763314426075,
          2.5814168622145526,
          1.8192768101676557,
          1.888269681654607,
          -1.668862501628308,
          2.22474191827582,
          5.220474191829811,
          2.1477808771396916,
          3.4594863812685097,
          4.614338388259495,
          -0.3168600751887258,
          -2.0251808757647245,
          0.27171430145164277,
          3.3233542069439297,
          3.83417983070992,
          2.917889098835765,
          1.2501822782776892,
          1.1951225010946618,
          2.1094310717648255,
          1.0009664866537042,
          4.121861903161701,
          1.3084511864016648,
          0.48427574343531554,
          4.527327011269866,
          0.635506713159239,
          2.7355675420418106,
          3.885473125097471,
          2.330102433933646,
          4.527327011269866,
          -3.2773322857862364,
          1.114433589844519,
          4.304183459955656,
          3.428714722601756,
          5.826609995400126,
          1.9623776538083288,
          -0.8292592634021467,
          4.409543975613482,
          2.7355675420418106,
          2.330102433933646,
          4.527327011269866,
          2.681500320771535,
          4.527327011269866,
          0.4930863731174704,
          -0.27395805364451625,
          0.9164090986256412,
          -0.9237114422958349,
          -0.8761008396807882,
          5.220474191829811,
          3.6110362793957105,
          3.1410326501499752,
          5.348307563339696,
          2.22474191827582,
          2.917889098835765,
          0.07297971501635797,
          4.527327011269866,
          4.979312135012923,
          3.2055711712875463,
          -0.9673791692835612,
          5.625939299937976,
          -1.4464826005993956,
          4.05732338202413,
          2.943206906820055,
          3.2035530071313087,
          1.7341190018273487,
          0.9577943147884955,
          1.1600311812833917,
          2.111413232968817,
          0.7096146853129609,
          -0.2348469235278905,
          5.220474191829811,
          2.393818248319754,
          1.1951225010946618,
          3.5157260995913857,
          3.1410326501499752,
          4.409543975613482,
          0.5861674117550643,
          2.5814168622145526,
          4.527327011269866,
          5.086942799205288,
          2.0763219131575466,
          3.141032650149975,
          5.913621372389756,
          2.330102433933646,
          1.0083465939513268,
          2.754259675053963,
          3.428714722601756,
          5.086942799205288,
          4.527327011269866,
          2.4070634750697746,
          -2.6149732417509237,
          6.03140440804614,
          4.681477691097124,
          0.13287785659742693,
          2.387260847773595,
          1.8192768101676557,
          3.83417983070992,
          3.2280440271396045,
          3.428714722601756,
          3.428714722601756,
          -0.3554749113165051,
          2.661459569888089,
          4.527327011269866,
          2.2835824182987534,
          3.83417983070992,
          3.141032650149975,
          3.83417983070992,
          3.6944178883347614,
          1.9623776538083288,
          -1.7889347408788259,
          3.428714722601756,
          1.0933398067847193,
          -2.338824717857196,
          5.220474191829811,
          2.7355675420418106,
          1.9623776538083288,
          0.9824229089415353,
          2.6555248343682742,
          6.03140440804614,
          5.913621372389756,
          3.83417983070992,
          4.527327011269866,
          2.917889098835765,
          0.3653238005739501,
          4.527327011269866,
          3.428714722601756,
          1.0512283214345925,
          3.1410326501499752,
          5.066323512002553,
          4.527327011269866,
          1.5828880321034253,
          4.527327011269866,
          3.428714722601756,
          3.1410326501499752,
          4.527327011269866,
          5.826609995400126,
          3.716396795053537,
          2.129431738471495,
          2.6055144137936126,
          5.625939299937976,
          2.7355675420418106,
          -0.14238169585579707,
          5.038152635035856,
          4.527327011269866,
          5.913621372389756,
          5.220474191829811,
          3.2745640427744975,
          0.8260250371573722,
          4.93279211937803,
          -2.0657175228725713,
          2.8378463911622287,
          2.5814168622145526,
          4.527327011269866,
          5.038152635035856,
          4.815009083721646,
          1.9883531402115895,
          2.44788546959003,
          1.5315947377158747,
          2.649625112241086,
          -0.19117186002522887,
          3.967711223334443,
          4.527327011269866,
          4.527327011269866,
          -0.2433576131957991,
          1.3492731809219198,
          4.527327011269866,
          2.6275789039777147,
          1.4362845579115497,
          1.541645073569376,
          -0.07283063289468139,
          3.83417983070992,
          2.5463255424032822,
          2.801816927583011,
          -2.1928931438654296,
          5.038152635035856,
          0.4292017262078589,
          0.2932205066726062,
          0.14530037659598405,
          5.220474191829811,
          1.4362845579115497,
          2.917889098835765,
          3.428714722601756,
          -1.1060329990897895,
          4.527327011269866,
          3.141032650149975,
          5.625939299937976,
          4.121861903161701,
          3.7388696509055954,
          2.7355675420418106,
          0.9029860782935006,
          1.0576924680544817,
          1.2692304732483837,
          4.527327011269866,
          4.527327011269866,
          2.0995787753218136,
          3.83417983070992,
          1.6941136672136494,
          4.016501387503875,
          3.6518582739159657,
          0.5570350977177438,
          1.9246373258254819,
          2.853350577698194,
          5.220474191829811,
          -0.4685329972442358,
          4.527327011269866,
          5.625939299937976,
          5.220474191829811,
          1.1600311812833917,
          2.5814168622145526,
          3.6110362793957105,
          5.913621372389756,
          3.6110362793957105,
          2.44788546959003,
          -1.3612990896129997,
          4.527327011269866,
          3.6110362793957105,
          4.304183459955656,
          5.625939299937976,
          0.6701122423367145,
          -1.521395151106647,
          1.7773126110686235,
          0.7442743871386795,
          1.5523208682329916,
          0.9382678924381402,
          4.121861903161701,
          3.6110362793957105,
          0.5955013785455399,
          4.527327011269866,
          2.7355675420418106,
          3.83417983070992,
          4.527327011269866,
          1.9623776538083288,
          -0.9973287974889001,
          2.917889098835765,
          2.129431738471495,
          -1.9160090167604364,
          1.4064315947618684,
          -0.7382224620392864,
          1.6369552533737008,
          4.527327011269866,
          4.239644938818085,
          -0.24505109370213218,
          2.4659039750927083,
          -0.7858789677719219,
          4.527327011269866,
          5.443617743144021,
          3.83417983070992,
          3.1410326501499752,
          2.208212616324609,
          3.680029150882662,
          3.83417983070992,
          4.93279211937803,
          2.6911157794709766,
          4.121861903161701,
          4.05732338202413,
          1.2692304732483835,
          1.9172572185278591,
          4.93279211937803,
          3.3233542069439297,
          5.913621372389756,
          2.529231109043982,
          2.7355675420418106,
          -1.3834696327706615,
          4.750470562584075,
          1.1096003276564996,
          4.815009083721646,
          -0.13611208284220147,
          4.345005454475911,
          1.6369552533737008,
          5.625939299937976,
          -0.311596905144451,
          4.768489068086754,
          3.2745640427744975,
          3.428714722601756,
          4.527327011269866,
          4.345005454475911,
          2.3623632961518677,
          3.30355157964775,
          4.239644938818085,
          3.885473125097471,
          1.1951225010946618,
          3.0232496144935914,
          2.129431738471495,
          3.6518582739159657,
          0.3762871053712197,
          4.121861903161701,
          1.1951225010946618,
          4.121861903161701,
          0.5760832926884383,
          1.888269681654607,
          4.815009083721646,
          3.183592264568771,
          2.5814168622145526,
          0.1835215894161818,
          -1.6802564722153617,
          5.220474191829811,
          3.83417983070992,
          -0.05472075729737154,
          4.190854774648653,
          4.815009083721646,
          2.5814168622145526,
          3.1410326501499752,
          -0.36527521591479756,
          4.527327011269866,
          4.121861903161701,
          2.330102433933646,
          3.1410326501499752,
          1.9752810586442366,
          1.8531783618433368,
          3.83417983070992,
          0.4164531470965544,
          2.44788546959003,
          1.8192768101676557,
          3.1410326501499752,
          3.428714722601756,
          2.9868819703227167,
          1.4064315947618684,
          1.7547382890300842,
          4.27601258298896,
          2.5814168622145526,
          0.9598084141601968,
          1.3582418509046805,
          1.5315947377158747,
          4.8637992478910785,
          -0.3089548956816123,
          -1.5885651142131685,
          1.937059845824039,
          3.0750746823581774,
          -0.010634425024775667,
          4.7096485680638205,
          4.016501387503875,
          -1.9128217630662572,
          3.2174056289345487,
          3.2055711712875463,
          4.527327011269866,
          3.716396795053537,
          4.121861903161701,
          2.7781271564606067,
          0.3478246407074581,
          -0.8229500942088822,
          4.93279211937803,
          3.83417983070992,
          2.5814168622145526,
          -0.8169988764857263,
          2.22474191827582,
          4.208873280151331,
          4.527327011269866,
          4.527327011269866,
          1.5315947377158747,
          4.527327011269866,
          1.7704866459982236,
          4.527327011269866,
          2.917889098835765,
          -0.9951334069254644,
          4.527327011269866,
          2.44788546959003,
          3.2280440271396045,
          4.527327011269866,
          1.6941136672136494,
          0.6878746986765549,
          2.2760352126633707,
          0.33767226924344,
          5.374624871657069,
          3.716396795053537,
          4.527327011269866,
          -1.6580582284754228,
          2.129431738471495,
          4.681477691097124,
          2.7355675420418106,
          3.6518582739159657,
          3.428714722601756,
          -2.934600695981628,
          1.1832880434476587,
          1.58499551444299,
          4.527327011269866,
          -1.270466097848575,
          3.2745640427744975,
          1.5069021251255033,
          3.428714722601756,
          1.864739184244413,
          3.5464977582581394,
          1.2692304732483837,
          2.666574670554859,
          1.0933398067847193,
          4.121861903161701,
          2.4323812830540645,
          1.2070986921413773,
          2.22474191827582,
          2.438316018573879,
          1.6824176274504583,
          2.22474191827582,
          -0.8386490037519859,
          -0.4285000463313951,
          1.21314100659734,
          0.12060776400561254,
          2.7781271564606067,
          -0.7585448086987148,
          2.258643469951501,
          4.527327011269866,
          3.5287981811587383,
          -0.3853278744661864,
          0.4164531470965544,
          5.220474191829811,
          3.428714722601756,
          2.44788546959003,
          2.44788546959003,
          2.9587110933560203,
          3.5287981811587383,
          3.83417983070992,
          4.527327011269866,
          1.600587609202826,
          5.038152635035856,
          5.220474191829811,
          2.2000493056854484,
          3.6110362793957105,
          2.581416862214552,
          4.527327011269866,
          4.453219039116144,
          4.815009083721646,
          1.2692304732483837,
          -1.2299962303143652,
          4.527327011269866,
          3.169203527116671,
          1.6369552533737008,
          3.382194706966863,
          2.917889098835765,
          0.14218024925974043,
          1.888269681654607,
          3.6110362793957105,
          0.6665973002292701,
          5.220474191829811,
          6.136764923703966,
          5.913621372389756,
          3.83417983070992,
          2.8225789190314403,
          3.0609899424764384,
          3.1923259445375254,
          3.5890573726769355,
          5.220474191829811,
          4.121861903161701,
          0.7431373773516045,
          -0.027718787535657204,
          4.527327011269866,
          4.527327011269866,
          4.815009083721646,
          -0.4732579469728886,
          2.5348968465796595,
          1.5315947377158747,
          1.2692304732483837,
          3.1410326501499752,
          2.367842761916493,
          0.9438080728137556,
          -0.02654988033067516,
          1.9471101816775405,
          3.3746475013314803,
          5.625939299937976,
          3.83417983070992,
          -0.3779477671685639,
          1.3703265901197523,
          3.83417983070992,
          4.0283358451508775,
          3.9082878028636423,
          3.662329573783261,
          2.4070634750697746,
          0.39216045452750986,
          2.44788546959003,
          5.625939299937976,
          4.159602231144548,
          4.121861903161701,
          1.0512283214345925,
          3.1410326501499752,
          1.2692304732483837,
          3.428714722601756,
          -3.015340825274785,
          1.2692304732483837,
          5.625939299937976,
          2.44788546959003,
          2.0705912384485616,
          -1.4180935973367095,
          2.5814168622145526,
          3.141032650149975,
          3.1410326501499752,
          -1.7201425919939133,
          3.08040802833354,
          -0.20006080744247495,
          1.21314100659734,
          0.4593692042209599,
          5.220474191829811,
          2.853350577698194,
          2.8690989346663334,
          4.121861903161701,
          4.815009083721646,
          0.01646750475301554,
          2.015021387293751,
          0.9956331406783416,
          1.4828045735464426,
          2.7355675420418106,
          1.9246373258254819,
          3.83417983070992,
          5.913621372389756,
          6.136764923703966,
          -1.1596483450699544,
          1.5828880321034253,
          2.9868819703227167,
          0.8637653651402194,
          1.8531783618433368,
          4.93279211937803,
          5.625939299937976,
          2.8225789190314403,
          5.913621372389756,
          3.83417983070992,
          3.215140622303697,
          3.2745640427744975,
          5.913621372389756,
          -1.39425140837395,
          3.83417983070992,
          1.1560602958538988,
          2.387260847773595,
          1.4828045735464426,
          1.0009664866537042,
          1.6651261303403972,
          1.2253362796911582,
          2.725811367096446,
          -0.34787031193128604,
          2.7355675420418106,
          2.47963416790461,
          2.917889098835765,
          4.016501387503875,
          2.2937347897627713,
          3.83417983070992,
          3.680029150882662,
          -0.5225289959796714,
          -1.1680872137158187,
          2.44788546959003,
          1.308451186401665,
          2.330102433933646,
          -0.4503258488624717,
          2.1165283336355873,
          1.2886485591054853,
          0.2731337481058689,
          3.428714722601756,
          4.016501387503875,
          -1.0524028147163567,
          2.7781271564606067,
          5.625939299937976,
          1.308451186401665,
          -0.3779477671685639,
          2.6177845063854273,
          4.527327011269866,
          5.374624871657069,
          0.5019753205347164,
          6.03140440804614,
          6.136764923703966,
          -1.285194879509698,
          2.917889098835765,
          5.220474191829811,
          0.5476453573679048,
          3.428714722601756,
          0.10447838207572867,
          5.220474191829811,
          4.121861903161701,
          3.428714722601756,
          2.7355675420418106,
          4.05732338202413,
          0.22664601604993645,
          3.428714722601756,
          1.6369552533737008,
          1.9623776538083288,
          5.625939299937976,
          -2.2559981893340946,
          4.330616717023811,
          4.527327011269866,
          5.374624871657069,
          5.443617743144021,
          3.428714722601756,
          1.8600988046879106,
          2.166473010151844,
          0.8137549445655579,
          1.7864869873446647,
          -1.0847056047767678,
          2.191952095452829,
          0.6692323478672754,
          2.917889098835765,
          1.391832795340716,
          2.22474191827582,
          3.428714722601756,
          -1.8041748386238254,
          -1.0228293373147217,
          2.19005636028793,
          1.6941136672136494,
          4.527327011269866,
          1.1951225010946616,
          1.5232959349011794,
          4.527327011269866,
          4.527327011269866,
          4.121861903161701,
          3.392347078430881,
          5.625939299937976,
          3.428714722601756,
          1.0615911084701393,
          1.4362845579115497,
          4.393795618645343,
          3.680029150882662,
          1.0108187830967157,
          3.0609899424764384,
          4.527327011269866,
          3.5157260995913857,
          1.9246373258254819,
          -1.3615509470630152,
          1.515065435764664,
          3.83417983070992,
          1.5828880321034253,
          3.1410326501499752,
          3.428714722601756,
          2.853350577698194,
          4.304183459955656,
          4.239644938818085,
          -0.9276055282135081,
          1.1429367479240915,
          3.1410326501499752,
          3.83417983070992,
          2.5814168622145526,
          4.121861903161701,
          3.83417983070992,
          3.6110362793957105,
          4.121861903161701,
          -1.34619823797343,
          3.428714722601756,
          2.22474191827582,
          0.608659463123051,
          2.6177845063854273,
          1.5315947377158747,
          4.016501387503875,
          0.5383429647055913,
          5.220474191829811,
          4.7096485680638205,
          -1.409172093828028,
          0.6506585181798412,
          -1.6923209970224147,
          5.220474191829811,
          4.121861903161701,
          2.804560413528762,
          0.8637653651402192,
          0.801633584033213,
          5.625939299937976,
          2.1069588826194363,
          3.83417983070992,
          3.357255758619611,
          2.44788546959003,
          4.815009083721646,
          2.512423990727601,
          5.220474191829811,
          -0.41288581852984424,
          2.3755648080104037,
          4.3731763314426075,
          2.6302070263839843,
          2.7355675420418106,
          -1.551843116257222,
          -0.30895489568161244,
          -0.4880588855849879,
          0.6561260003619747,
          1.8581166434839194,
          0.8637653651402192,
          4.527327011269866,
          5.625939299937976,
          -0.829259263402147,
          4.527327011269866,
          5.443617743144021,
          3.428714722601756,
          -1.3476037195821648,
          -0.25179648184166376,
          3.716396795053537,
          1.4138117020594911,
          2.5814168622145526,
          5.220474191829811,
          0.15787915880284417,
          1.4988049148928837,
          0.3201499185512376,
          3.967711223334443,
          2.0015983669616104,
          3.3233542069439297,
          1.9623776538083288,
          4.121861903161701,
          1.0308194498033856,
          1.1261296296077103,
          3.141032650149975,
          1.5315947377158747,
          4.121861903161701,
          5.220474191829811,
          2.0995787753218136,
          2.330102433933646,
          4.466702389453431,
          1.8192768101676557,
          0.971978949780452,
          2.9517906505114464,
          -1.368386782805182,
          2.512423990727601,
          2.917889098835765,
          3.0232496144935914,
          3.1410326501499752,
          4.527327011269866,
          2.917889098835765,
          2.614939554253196,
          1.9936301973124333,
          2.330102433933646,
          4.527327011269866,
          4.571778773840699,
          4.527327011269866,
          5.220474191829811,
          1.6941136672136494,
          3.428714722601756,
          4.409543975613482,
          -1.2141957913691825,
          5.508156264281592,
          5.220474191829811,
          2.129431738471495,
          0.8260250371573721,
          1.5828880321034253,
          -1.5410985769742447,
          4.239644938818085,
          0.5760832926884383,
          -0.1361120828422016,
          4.085494258990826,
          1.34927318092192,
          4.8637992478910785,
          0.9029860782935006,
          2.387260847773595,
          1.5315947377158747,
          1.3703265901197523,
          4.121861903161701,
          5.780089979765234,
          0.12060776400561254,
          5.443617743144021,
          0.3263727139895068,
          3.428714722601756,
          5.913621372389756,
          0.5760832926884383,
          4.527327011269866,
          2.8225789190314403,
          1.391832795340716,
          4.527327011269866,
          3.1136336759618604,
          1.937059845824039,
          -1.439460548125676,
          1.271369511497133,
          4.121861903161701,
          2.9868819703227167,
          4.304183459955656,
          2.367842761916493,
          -3.233566184581158,
          -1.1897006901363563,
          1.0987306554195957,
          6.136764923703966,
          1.802747508216445,
          1.4454170414748224,
          2.6555248343682742,
          4.93279211937803,
          2.6555248343682742,
          -2.2663259498954607,
          2.8225789190314403,
          1.175475503710865,
          1.5569125457001645,
          5.751102442891981,
          1.9623776538083288,
          3.0232496144935914,
          4.121861903161701,
          4.121861903161701,
          -1.916804245430575,
          -0.4766192946755936,
          4.93279211937803,
          2.44788546959003,
          0.6483438599199198,
          2.387260847773595,
          3.1410326501499752,
          5.5389279229483455,
          4.016501387503875,
          3.428714722601756,
          0.00011836675148610125,
          5.780089979765234,
          2.7355675420418106,
          5.038152635035856,
          3.9883305105371787,
          4.05732338202413,
          0.8701962554705096,
          1.6941136672136494,
          4.121861903161701,
          1.6941136672136494,
          4.815009083721646,
          5.281098813646246,
          3.5718155662424294,
          3.428714722601756,
          -3.1560766697839604,
          3.5157260995913857,
          2.330102433933646,
          4.208873280151331,
          4.527327011269866,
          4.721483025710823,
          -0.9279941040878358,
          5.038152635035856,
          3.83417983070992,
          3.1410326501499752,
          1.2350808133962652,
          3.83417983070992,
          1.1790190935280829,
          5.220474191829811,
          3.428714722601756,
          5.038152635035856,
          2.6710290209042395,
          2.0705912384485616,
          -0.22872320567736143,
          1.7239666303633308,
          -1.8828478706963012,
          -1.22264484585571,
          -0.46650116451000884,
          2.6749429202253756,
          1.9623776538083288,
          1.7972979034488803,
          3.967711223334443,
          4.527327011269866,
          0.4497895673641462,
          -0.4609550370456421,
          3.83417983070992,
          2.804560413528762,
          0.781752213479384,
          2.7355675420418106,
          1.308451186401665,
          0.5199938260373947,
          5.625939299937976,
          4.527327011269866,
          4.121861903161701,
          6.136764923703966,
          4.997330640515601,
          1.602212304929828,
          4.93279211937803,
          -2.8326323757409826,
          3.1410326501499752,
          4.93279211937803,
          1.5294231842023667,
          6.136764923703966,
          3.83417983070992,
          3.7388696509055954,
          4.527327011269866,
          2.976729598858699,
          2.8690989346663334,
          5.913621372389756,
          3.9395403463677465,
          3.172781348464555,
          0.20983889773355513,
          3.83417983070992,
          2.502945246773057,
          1.9062881871572854,
          0.9606151911301367,
          1.1261296296077103,
          5.625939299937976,
          2.6555248343682742,
          2.7781271564606067,
          -0.4214328791083027,
          2.0849799759006613,
          3.0232496144935914,
          4.527327011269866,
          2.2000493056854484,
          2.917889098835765,
          3.7897280681390866,
          3.680029150882662,
          5.220474191829811,
          -1.3504087705097734,
          5.625939299937976,
          0.9791474392590644,
          0.7661268955763033,
          1.1429367479240915,
          3.30355157964775,
          2.1759517541063875,
          4.527327011269866,
          2.44788546959003,
          1.9528082027921783,
          3.83417983070992,
          5.66676129445823,
          3.246393165807801,
          3.4977075940887072,
          -0.4285000463313951,
          5.913621372389756,
          1.582888032103425,
          4.527327011269866,
          3.680029150882662,
          5.220474191829811,
          3.30355157964775,
          4.527327011269866,
          -1.3086526329977215,
          1.8192768101676557,
          3.83417983070992,
          4.7096485680638205,
          2.512423990727601,
          0.21713820021516686,
          2.7355675420418106,
          5.220474191829811,
          3.9395403463677465,
          5.625939299937976,
          2.44788546959003,
          0.8637653651402192,
          3.428714722601756,
          5.443617743144021,
          4.3731763314426075,
          1.9883531402115895,
          4.527327011269866,
          1.6095562791855864,
          -0.3009867260324355,
          1.4828045735464426,
          3.0720397786630236,
          4.208873280151331,
          0.48427574343531554,
          3.066924677996253,
          3.0232496144935914,
          2.330102433933646,
          5.625939299937976,
          2.1446992106022833,
          3.428714722601756,
          0.7051000049584341,
          1.7414343234037215,
          2.7355675420418106,
          2.152421256696194,
          4.304183459955656,
          1.992409940907204,
          3.83417983070992,
          -0.29831649747655675,
          4.7096485680638205,
          3.0232496144935914,
          -2.209046650956651,
          4.527327011269866,
          0.5486843185003237,
          2.5814168622145526,
          -0.10934184177759669,
          1.9623776538083288,
          2.9517906505114464,
          4.016501387503875,
          4.93279211937803,
          4.239644938818085,
          -0.3779477671685639,
          0.5889866975243461,
          -0.04738396723351705,
          3.2745640427744975,
          0.7123657186848508,
          4.016501387503875,
          3.83417983070992,
          3.1981910639899236,
          4.727997706732017,
          4.750470562584075,
          4.190854774648653,
          4.3602729266067,
          4.121861903161701,
          3.428714722601756,
          3.2745640427744975,
          -1.1263310762037668,
          1.8192768101676557,
          5.086942799205288,
          2.22474191827582,
          -1.5014333205818133,
          4.750470562584075,
          3.83417983070992,
          2.2415490365922013,
          3.582865402429014,
          -0.14550182319204058,
          4.121861903161701,
          5.780089979765234,
          2.3990953054205977,
          4.239644938818085,
          1.6259054171871157,
          -0.3622699544493341,
          3.0012707077748164,
          0.8468158068264459,
          4.979312135012923,
          5.220474191829811,
          -1.7398735372714966,
          0.28121556057578273,
          3.428714722601756,
          3.785389666540488,
          0.26063106457366036,
          4.527327011269866,
          3.428714722601756,
          4.527327011269866,
          3.3109316869453727,
          1.473325829591899,
          5.954443366910011,
          3.0232496144935914,
          4.345005454475911,
          3.5464977582581394,
          5.780089979765234,
          -2.709732014854872,
          2.8125285831779387,
          1.763706959012845,
          4.750470562584075,
          5.038152635035856,
          1.308451186401665,
          0.677179409559807,
          3.4858731364417044,
          2.330102433933646,
          -1.125746793394273,
          1.177422923995261,
          2.917889098835765,
          4.527327011269866,
          -2.0940786404942693,
          1.6746955813565478,
          2.853350577698194,
          4.3731763314426075,
          3.04572247034565,
          1.806031583417635,
          1.7283050319619289,
          2.9868819703227167,
          3.364176201464185,
          -0.6025717036532079,
          0.13287785659742693,
          6.03140440804614,
          3.428714722601756,
          4.93279211937803,
          3.83417983070992,
          -0.0839781632857417,
          3.6110362793957105,
          -2.624550225411673,
          3.428714722601756,
          4.27601258298896,
          -1.237864091514979,
          4.239644938818085,
          -1.1181198863733721,
          3.8987183518474917,
          -3.6254470414742084,
          3.83417983070992,
          3.5464977582581394,
          -1.6009967185553136,
          4.527327011269866,
          2.917889098835765,
          5.220474191829811,
          5.625939299937976,
          2.6555248343682742,
          5.913621372389756,
          1.2730840425643735,
          4.645110046926249,
          -0.4653705821397229,
          2.7355675420418106,
          5.913621372389756,
          2.512423990727601,
          0.10587065518611571,
          5.913621372389756,
          4.527327011269866,
          0.19952193076262284,
          2.5463255424032822,
          5.913621372389756,
          2.8125285831779387,
          -0.6104302902657291,
          -0.48700514470771633,
          3.1923259445375254,
          2.22474191827582,
          3.3233542069439297,
          1.085307635087455,
          4.645110046926249,
          1.4875778522991003,
          0.2788317692205067,
          2.3519441758486948,
          5.625939299937976,
          0.3226343918788995,
          0.9897177741178336,
          3.4858731364417044,
          4.660858403894388,
          1.3492731809219198,
          0.3078193060937589,
          2.142503820038848,
          6.136764923703966,
          2.6555248343682742,
          5.220474191829811,
          1.8192768101676557,
          3.6110362793957105,
          5.625939299937976,
          0.11520234543870449,
          4.304183459955656,
          4.527327011269866,
          4.239644938818085,
          3.428714722601756,
          -1.940371714834488,
          5.913621372389756,
          3.9966987602076953,
          4.527327011269866,
          2.0352001135083784,
          4.016501387503875,
          3.83417983070992,
          4.527327011269866,
          3.83417983070992,
          2.9403619546878237,
          0.581869229755482,
          2.875924899736733,
          3.1410326501499752,
          5.508156264281592,
          4.750470562584075,
          -1.7268863417446856,
          3.0012707077748164,
          1.6369552533737008,
          2.7355675420418106,
          3.1410326501499752,
          2.44788546959003,
          3.680029150882662,
          4.152633561828455,
          1.3703265901197523,
          4.121861903161701,
          5.508156264281592,
          -0.4302590617365746,
          4.660858403894388,
          5.913621372389756,
          -0.9466229239213292,
          4.527327011269866,
          4.8637992478910785,
          5.625939299937976,
          5.066323512002553,
          1.34927318092192,
          3.83417983070992,
          1.4828045735464424,
          2.4309836587874263,
          2.7355675420418106,
          0.2506608922538103,
          -2.178923891501543,
          5.625939299937976,
          3.428714722601756,
          -2.021799034441139,
          1.8192768101676557,
          4.93279211937803,
          -2.169707236396619,
          2.681500320771535,
          4.6326875269276915,
          0.13751823615392905,
          5.625939299937976,
          2.7355675420418106,
          1.4362845579115497,
          4.527327011269866,
          4.239644938818085,
          -0.6642399853312906,
          2.7355675420418106,
          0.3198397929478838,
          0.23491253528567121,
          0.5889866975243461,
          2.512423990727601,
          1.6600967819353951,
          3.141032650149975,
          -1.7228090932114717,
          5.133462814840181,
          2.689047526406918,
          4.750470562584075,
          1.2314901452655367,
          5.038152635035856,
          1.3703265901197523,
          3.428714722601756,
          3.3698742225788227,
          3.9395403463677465,
          3.428714722601756,
          4.170652067331133,
          3.680029150882662,
          4.393795618645343,
          2.5348968465796595,
          4.93279211937803,
          2.0995787753218136,
          2.175951754106388,
          4.304183459955656,
          1.2314901452655367,
          3.728819315052094,
          4.527327011269866,
          3.228044027139605,
          5.443617743144021,
          3.7801126094396444,
          2.8225789190314403,
          4.969159763548904,
          0.7739090360183583,
          -2.2102328907161573,
          5.220474191829811,
          3.10021065562972,
          2.8850992760127743,
          4.997330640515601,
          4.815009083721646,
          2.22474191827582,
          6.03140440804614,
          0.7896573929864973,
          3.1410326501499752,
          4.527327011269866,
          4.721483025710823,
          3.3143043714240115,
          5.086942799205288,
          0.46688400072344627,
          0.2232619180656959,
          4.527327011269866,
          4.527327011269866,
          3.2055711712875463,
          -0.1594231617106486,
          3.765186959222969,
          2.4904450840088255,
          -3.528809077781097,
          2.7355675420418106,
          4.001233915373087,
          5.220474191829811,
          4.645110046926249,
          4.527327011269866,
          3.5464977582581394,
          1.7139162945098292,
          3.967711223334443,
          1.1739202934440587,
          4.304183459955656,
          3.8987183518474917,
          2.5258470110597413,
          1.4249850026576165,
          5.374624871657069,
          3.7388696509055954,
          1.3831747325976014,
          1.8118967028700328,
          2.44788546959003,
          5.374624871657069,
          4.815009083721646,
          3.2745640427744975,
          3.6110362793957105,
          0.01646750475301554,
          -1.956544574080089,
          5.115113676171984,
          2.44788546959003,
          4.815009083721646,
          3.5464977582581394,
          1.8751288880935488,
          1.3208352456013865,
          0.7778229353394945,
          0.22326191806569573,
          3.3698742225788227,
          2.640257362237486,
          3.967711223334443,
          3.051420491460288,
          3.428714722601756,
          2.6991998978709355,
          -1.3306061432135938,
          5.508156264281592,
          3.7388696509055954,
          3.8987183518474917,
          -0.5478468039639612,
          4.201904610835237,
          0.40019262622477403,
          2.387260847773595,
          4.016501387503875,
          -3.4305503472199472,
          2.9868819703227167,
          5.115113676171984,
          2.1965710413091237,
          3.3746475013314803,
          2.943206906820055,
          3.382194706966863,
          3.2280440271396045,
          4.527327011269866,
          4.527327011269866,
          3.4858731364417044,
          -0.2875637057002949,
          3.141032650149975,
          3.5890573726769355,
          -0.0627295369081775,
          4.239644938818085,
          -2.9825560498850483,
          -0.2848573441025519,
          1.8192768101676557,
          -2.9000620443771643,
          0.8766687699761271,
          -0.12090266417867285,
          4.527327011269866,
          -0.20006080744247495,
          2.853350577698194,
          2.6177845063854273,
          2.6555248343682742,
          4.05732338202413,
          1.41648193061537,
          4.93279211937803,
          1.285851354484424,
          3.700648438085398,
          3.041941747505744,
          1.2914536100330938,
          2.8225789190314403,
          1.8417496660197141,
          1.0409718212674035,
          2.2760352126633703,
          0.1757595840806926,
          2.44788546959003,
          1.51254654274518,
          3.4977075940887072,
          4.3731763314426075,
          -0.6525821242278693,
          3.980783304901796,
          1.4362845579115497,
          2.5814168622145526,
          3.1245033481987643,
          4.527327011269866,
          2.330102433933646,
          1.7644001999418213,
          -0.36516804052216495,
          -0.9124899175518706,
          1.9221712333302883,
          -0.25284635070450057,
          3.1410326501499752,
          0.635506713159239,
          -0.09666492895881351,
          0.17529109027966638,
          3.662329573783261,
          -2.0684535026914457,
          0.3894973371080261,
          4.304183459955656,
          4.304183459955656,
          4.527327011269866,
          3.105941330338705,
          0.7206645214995459,
          5.338257227486195,
          3.4775048867711877,
          2.387260847773595,
          1.6843574922682847,
          -2.175861101970997,
          4.121861903161701,
          4.7096485680638205,
          3.2876361243418506,
          2.1498406101027023,
          4.345005454475911,
          -1.1641579355759293,
          -2.175594328593398,
          2.0634737706796975,
          3.9772806743505935,
          2.47963416790461,
          3.04572247034565,
          1.3887320176624676,
          3.9395403463677465,
          2.2391306557279194,
          2.129431738471495,
          0.9209237789801678,
          0.635506713159239,
          -0.7907929825743507,
          -2.0088813778075676,
          0.46115332601446124,
          1.5315947377158747,
          -1.4747064871873505,
          2.8225789190314403,
          4.304183459955656,
          5.220474191829811,
          -1.2734957474284432,
          2.44788546959003,
          2.1143938611069544,
          -0.5966369681333933,
          0.09651021242655199,
          -1.4502921290160633,
          2.093713655869416,
          -1.1579519918217758,
          -0.8479513964142993,
          3.428714722601756,
          -1.9511826309387037,
          3.0232496144935914,
          1.730045676439713,
          -2.007914259743793,
          -2.20249705921961,
          1.9623776538083288,
          1.6941136672136494,
          0.18785999101477974,
          -1.0662685043515798,
          3.428714722601756,
          -2.5963457739347415,
          3.1410326501499752,
          3.646968288621774,
          1.7547382890300844,
          5.443617743144021,
          0.8897408515434799,
          2.7355675420418106,
          3.83417983070992,
          4.016501387503875,
          1.8417496660197141,
          5.625939299937976,
          2.0424203614818652,
          2.22474191827582,
          2.330102433933646,
          0.2669973115735037,
          1.4828045735464426,
          4.121861903161701,
          0.7431373773516045,
          1.4362845579115497,
          2.129431738471495,
          0.23004160505107454,
          0.635506713159239,
          2.0995787753218136
         ],
         "yaxis": "y"
        },
        {
         "customdata": [
          [
           "Much more popular on<br>Goodreads",
           "Pride and Prejudice",
           "Jane Austen",
           77817,
           11
          ],
          [
           "Much more popular on<br>Goodreads",
           "Mansfield Park",
           "Jane Austen",
           10961,
           1
          ],
          [
           "Much more popular on<br>Goodreads",
           "Northanger Abbey",
           "Jane Austen",
           14623,
           2
          ],
          [
           "Much more popular on<br>Goodreads",
           "Persuasion",
           "Jane Austen",
           20957,
           3
          ],
          [
           "Much more popular on<br>Goodreads",
           "Notre-Dame de Paris",
           "Victor Hugo",
           5529,
           1
          ],
          [
           "Much more popular on<br>Goodreads",
           "Uncle Tom's Cabin",
           "Harriet Beecher Stowe",
           8381,
           1
          ],
          [
           "Much more popular on<br>Goodreads",
           "Bleak House",
           "Charles Dickens",
           4531,
           1
          ],
          [
           "Much more popular on<br>Goodreads",
           "Madame Bovary",
           "Gustave Flaubert",
           11836,
           1
          ],
          [
           "Much more popular on<br>Goodreads",
           "A Tale of Two Cities",
           "Charles Dickens",
           18918,
           4
          ],
          [
           "Much more popular on<br>Goodreads",
           "The Woman in White",
           "Wilkie Collins",
           8217,
           2
          ],
          [
           "Much more popular on<br>Goodreads",
           "Silas Marner",
           "George Eliot",
           3892,
           1
          ],
          [
           "Much more popular on<br>Goodreads",
           "Little Women",
           "Louisa May Alcott",
           34878,
           1
          ],
          [
           "Much more popular on<br>Goodreads",
           "Anna Karenina",
           "Leo Tolstoy",
           26898,
           1
          ],
          [
           "Much more popular on<br>Goodreads",
           "Treasure Island",
           "Robert Louis Stevenson",
           12925,
           3
          ],
          [
           "Much more popular on<br>Goodreads",
           "The Picture of Dorian Grey",
           "Oscar Wilde",
           37248,
           6
          ],
          [
           "Much more popular on<br>Goodreads",
           "The Sign of Four",
           "Arthur Conan Doyle",
           5633,
           1
          ],
          [
           "Much more popular on<br>Goodreads",
           "The Adventures of Sherlock Holmes",
           "Arthur Conan Doyle",
           7370,
           1
          ],
          [
           "Much more popular on<br>Goodreads",
           "Dracula",
           "Bram Stoker",
           29583,
           1
          ],
          [
           "Much more popular on<br>Goodreads",
           "The Invisible Man",
           "H. G. Wells",
           6973,
           1
          ],
          [
           "Much more popular on<br>Goodreads",
           "The Wonderful Wizard of Oz",
           "L. Frank Baum",
           13818,
           1
          ],
          [
           "Much more popular on<br>Goodreads",
           "The Call of the Wild",
           "Jack London",
           12206,
           2
          ],
          [
           "Much more popular on<br>Goodreads",
           "White Fang",
           "Jack London",
           5104,
           1
          ],
          [
           "Much more popular on<br>Goodreads",
           "The Wind in the Willows",
           "Kenneth Grahame",
           6754,
           1
          ],
          [
           "Much more popular on<br>Goodreads",
           "Ethan Frome",
           "Edith Wharton",
           5838,
           1
          ],
          [
           "Much more popular on<br>Goodreads",
           "Peter Pan: The Story of Peter and Wendy",
           "J. M. Barrie",
           12616,
           3
          ],
          [
           "Much more popular on<br>Goodreads",
           "Crime and Punishment",
           "Fyodor Dostoyevsky",
           22340,
           6
          ],
          [
           "Much more popular on<br>Goodreads",
           "The Mysterious Affair at Styles",
           "Agatha Christie",
           10015,
           2
          ],
          [
           "Much more popular on<br>Goodreads",
           "The Great Gatsby",
           "F. Scott Fitzgerald",
           75296,
           10
          ],
          [
           "Much more popular on<br>Goodreads",
           "The Trial",
           "Franz Kafka",
           8713,
           1
          ],
          [
           "Much more popular on<br>Goodreads",
           "All Quiet on the Western Front",
           "Erich Maria Remarque",
           11568,
           1
          ]
         ],
         "hovertemplate": "<b>%{hovertext}</b><br><br>Author: %{customdata[2]}<br>Publication Year: %{x}<br><br>S&C Borrows: %{customdata[4]}<br>Goodreads Reviews: %{customdata[3]:,.0f}<br><br>log(SC/GR): %{y:,.2f}<extra></extra>",
         "hovertext": [
          "Pride and Prejudice",
          "Mansfield Park",
          "Northanger Abbey",
          "Persuasion",
          "Notre-Dame de Paris",
          "Uncle Tom's Cabin",
          "Bleak House",
          "Madame Bovary",
          "A Tale of Two Cities",
          "The Woman in White",
          "Silas Marner",
          "Little Women",
          "Anna Karenina",
          "Treasure Island",
          "The Picture of Dorian Grey",
          "The Sign of Four",
          "The Adventures of Sherlock Holmes",
          "Dracula",
          "The Invisible Man",
          "The Wonderful Wizard of Oz",
          "The Call of the Wild",
          "White Fang",
          "The Wind in the Willows",
          "Ethan Frome",
          "Peter Pan: The Story of Peter and Wendy",
          "Crime and Punishment",
          "The Mysterious Affair at Styles",
          "The Great Gatsby",
          "The Trial",
          "All Quiet on the Western Front"
         ],
         "legendgroup": "Much more popular on<br>Goodreads",
         "marker": {
          "color": "#13c28d",
          "size": 7.5,
          "symbol": "square"
         },
         "mode": "markers",
         "name": "Much more popular on<br>Goodreads",
         "showlegend": true,
         "type": "scattergl",
         "x": [
          1813,
          1814,
          1818,
          1817,
          1831,
          1851,
          1853,
          1857,
          1859,
          1859,
          1861,
          1880,
          1877,
          1883,
          1890,
          1890,
          1892,
          1897,
          1897,
          1900,
          1903,
          1906,
          1908,
          1911,
          1904,
          1866,
          1920,
          1925,
          1925,
          1929
         ],
         "xaxis": "x",
         "y": [
          -4.336892911226062,
          -4.774771785945858,
          -4.369876718782068,
          -4.3242886984819675,
          -4.0904352350680675,
          -4.50639550682904,
          -3.8913709333972726,
          -4.851574002250235,
          -3.9342477563833596,
          -3.793486266101377,
          -3.73935143203603,
          -5.93228452565954,
          -5.672480202113629,
          -3.8409793994386545,
          -4.206267050593189,
          -4.109070427624848,
          -4.377845973913517,
          -5.767628139730573,
          -4.322473815951145,
          -5.006400357778874,
          -4.189208721274629,
          -4.01045281375476,
          -4.290563189675647,
          -4.144816540144194,
          -3.816781828704899,
          -3.6950475921252712,
          -3.9913650562701077,
          -4.399270187263178,
          -4.5452444309614215,
          -4.82867093312868
         ],
         "yaxis": "y"
        },
        {
         "customdata": [
          [
           "Much more popular in<br> Shakespeare & Company",
           "A History of Elizabethan Literature (History of English Literature 1)",
           "George Saintsbury",
           1,
           6
          ],
          [
           "Much more popular in<br> Shakespeare & Company",
           "Studies in the Psychology of Sex",
           "Havelock Ellis",
           4,
           25
          ],
          [
           "Much more popular in<br> Shakespeare & Company",
           "The Mediaeval Mind: A History of the Development of Thought and Emotion in the Middle Ages",
           "Henry Osborn Taylor",
           1,
           6
          ],
          [
           "Much more popular in<br> Shakespeare & Company",
           "Contemporary Portraits",
           "Frank Harris",
           1,
           6
          ],
          [
           "Much more popular in<br> Shakespeare & Company",
           "The Psychology of the Unconscious",
           "Carl Gustav Jung",
           1,
           9
          ],
          [
           "Much more popular in<br> Shakespeare & Company",
           "Legend",
           "Clemence Dane",
           1,
           8
          ],
          [
           "Much more popular in<br> Shakespeare & Company",
           "Poor Relations",
           "Compton Mackenzie",
           1,
           6
          ],
          [
           "Much more popular in<br> Shakespeare & Company",
           "Alone",
           "Norman Douglas",
           1,
           8
          ],
          [
           "Much more popular in<br> Shakespeare & Company",
           "Lillian",
           "Arnold Bennett",
           1,
           7
          ],
          [
           "Much more popular in<br> Shakespeare & Company",
           "Elsie and the Child and Other Stories",
           "Arnold Bennett",
           1,
           6
          ],
          [
           "Much more popular in<br> Shakespeare & Company",
           "Gallions Reach",
           "H. M. Tomlinson",
           1,
           6
          ],
          [
           "Much more popular in<br> Shakespeare & Company",
           "The Babyons: The Chronicle of a Family",
           "Clemence Dane",
           1,
           8
          ],
          [
           "Much more popular in<br> Shakespeare & Company",
           "Sketch of a Sinner",
           "Frank Swinnerton",
           1,
           6
          ],
          [
           "Much more popular in<br> Shakespeare & Company",
           "The Fool of the Family",
           "Margaret Kennedy",
           2,
           12
          ],
          [
           "Much more popular in<br> Shakespeare & Company",
           "The White Paternoster and Other Stories",
           "Theodore Francis Powys",
           1,
           6
          ],
          [
           "Much more popular in<br> Shakespeare & Company",
           "Tobit Transplanted",
           "Stella Benson",
           2,
           17
          ],
          [
           "Much more popular in<br> Shakespeare & Company",
           "The Case Is Altered",
           "William Charles Franklyn Plomer",
           1,
           8
          ],
          [
           "Much more popular in<br> Shakespeare & Company",
           "A Nest of Simple Folk",
           "Seán Ó Faoláin",
           1,
           8
          ],
          [
           "Much more popular in<br> Shakespeare & Company",
           "A Century of Humour",
           "",
           1,
           6
          ],
          [
           "Much more popular in<br> Shakespeare & Company",
           "Ripeness Is All",
           "Eric Linklater",
           1,
           14
          ],
          [
           "Much more popular in<br> Shakespeare & Company",
           "The Washington Legation Murders",
           "F. Van Wyck Mason",
           1,
           9
          ],
          [
           "Much more popular in<br> Shakespeare & Company",
           "Sparkenbroke",
           "Charles Morgan",
           5,
           31
          ],
          [
           "Much more popular in<br> Shakespeare & Company",
           "The White Horses of Vienna",
           "Kay Boyle",
           1,
           11
          ],
          [
           "Much more popular in<br> Shakespeare & Company",
           "Enchanter's Nightshade",
           "Ann Bridge",
           3,
           19
          ],
          [
           "Much more popular in<br> Shakespeare & Company",
           "The Joyful Delaneys: A Novel",
           "Hugh Walpole",
           1,
           5
          ],
          [
           "Much more popular in<br> Shakespeare & Company",
           "The Midas Touch",
           "Margaret Kennedy",
           1,
           15
          ],
          [
           "Much more popular in<br> Shakespeare & Company",
           "This Is Mr. Fortune",
           "H. C. Bailey",
           1,
           11
          ],
          [
           "Much more popular in<br> Shakespeare & Company",
           "Four-Part Setting",
           "Ann Bridge",
           1,
           7
          ],
          [
           "Much more popular in<br> Shakespeare & Company",
           "The Fox Prowls",
           "Valentine Williams",
           1,
           7
          ],
          [
           "Much more popular in<br> Shakespeare & Company",
           "The Death Coins",
           "Walter Sydney Masterman",
           1,
           5
          ]
         ],
         "hovertemplate": "<b>%{hovertext}</b><br><br>Author: %{customdata[2]}<br>Publication Year: %{x}<br><br>S&C Borrows: %{customdata[4]}<br>Goodreads Reviews: %{customdata[3]:,.0f}<br><br>log(SC/GR): %{y:,.2f}<extra></extra>",
         "hovertext": [
          "A History of Elizabethan Literature (History of English Literature 1)",
          "Studies in the Psychology of Sex",
          "The Mediaeval Mind: A History of the Development of Thought and Emotion in the Middle Ages",
          "Contemporary Portraits",
          "The Psychology of the Unconscious",
          "Legend",
          "Poor Relations",
          "Alone",
          "Lillian",
          "Elsie and the Child and Other Stories",
          "Gallions Reach",
          "The Babyons: The Chronicle of a Family",
          "Sketch of a Sinner",
          "The Fool of the Family",
          "The White Paternoster and Other Stories",
          "Tobit Transplanted",
          "The Case Is Altered",
          "A Nest of Simple Folk",
          "A Century of Humour",
          "Ripeness Is All",
          "The Washington Legation Murders",
          "Sparkenbroke",
          "The White Horses of Vienna",
          "Enchanter's Nightshade",
          "The Joyful Delaneys: A Novel",
          "The Midas Touch",
          "This Is Mr. Fortune",
          "Four-Part Setting",
          "The Fox Prowls",
          "The Death Coins"
         ],
         "legendgroup": "Much more popular in<br> Shakespeare & Company",
         "marker": {
          "color": "#fc6b32",
          "size": 7.5,
          "symbol": "diamond"
         },
         "mode": "markers",
         "name": "Much more popular in<br> Shakespeare & Company",
         "showlegend": true,
         "type": "scattergl",
         "x": [
          1928,
          1910,
          1911,
          1919,
          1917,
          1919,
          1919,
          1921,
          1922,
          1924,
          1927,
          1927,
          1929,
          1929,
          1930,
          1930,
          1932,
          1934,
          1934,
          1935,
          1935,
          1936,
          1937,
          1937,
          1938,
          1938,
          1938,
          1939,
          1939,
          1940
         ],
         "xaxis": "x",
         "y": [
          6.319086480497921,
          6.359908475018176,
          6.319086480497921,
          6.319086480497921,
          6.724551588606085,
          6.606768552949702,
          6.319086480497921,
          6.606768552949702,
          6.473237160325179,
          6.319086480497921,
          6.319086480497921,
          6.606768552949702,
          6.319086480497921,
          6.319086480497921,
          6.319086480497921,
          6.667393174766136,
          6.606768552949702,
          6.606768552949702,
          6.319086480497921,
          7.166384340885124,
          6.724551588606085,
          6.351876303320911,
          6.925222284068236,
          6.373153701768197,
          6.136764923703966,
          7.235377212372076,
          6.925222284068236,
          6.473237160325179,
          6.473237160325179,
          6.136764923703966
         ],
         "yaxis": "y"
        }
       ],
       "layout": {
        "dragmode": "pan",
        "font": {
         "color": "black",
         "size": 15
        },
        "hoverlabel": {
         "font": {
          "size": 16
         }
        },
        "legend": {
         "title": {
          "text": ""
         },
         "tracegroupgap": 0,
         "traceorder": "reversed"
        },
        "template": {
         "data": {
          "bar": [
           {
            "error_x": {
             "color": "#2a3f5f"
            },
            "error_y": {
             "color": "#2a3f5f"
            },
            "marker": {
             "line": {
              "color": "#E5ECF6",
              "width": 0.5
             },
             "pattern": {
              "fillmode": "overlay",
              "size": 10,
              "solidity": 0.2
             }
            },
            "type": "bar"
           }
          ],
          "barpolar": [
           {
            "marker": {
             "line": {
              "color": "#E5ECF6",
              "width": 0.5
             },
             "pattern": {
              "fillmode": "overlay",
              "size": 10,
              "solidity": 0.2
             }
            },
            "type": "barpolar"
           }
          ],
          "carpet": [
           {
            "aaxis": {
             "endlinecolor": "#2a3f5f",
             "gridcolor": "white",
             "linecolor": "white",
             "minorgridcolor": "white",
             "startlinecolor": "#2a3f5f"
            },
            "baxis": {
             "endlinecolor": "#2a3f5f",
             "gridcolor": "white",
             "linecolor": "white",
             "minorgridcolor": "white",
             "startlinecolor": "#2a3f5f"
            },
            "type": "carpet"
           }
          ],
          "choropleth": [
           {
            "colorbar": {
             "outlinewidth": 0,
             "ticks": ""
            },
            "type": "choropleth"
           }
          ],
          "contour": [
           {
            "colorbar": {
             "outlinewidth": 0,
             "ticks": ""
            },
            "colorscale": [
             [
              0,
              "#0d0887"
             ],
             [
              0.1111111111111111,
              "#46039f"
             ],
             [
              0.2222222222222222,
              "#7201a8"
             ],
             [
              0.3333333333333333,
              "#9c179e"
             ],
             [
              0.4444444444444444,
              "#bd3786"
             ],
             [
              0.5555555555555556,
              "#d8576b"
             ],
             [
              0.6666666666666666,
              "#ed7953"
             ],
             [
              0.7777777777777778,
              "#fb9f3a"
             ],
             [
              0.8888888888888888,
              "#fdca26"
             ],
             [
              1,
              "#f0f921"
             ]
            ],
            "type": "contour"
           }
          ],
          "contourcarpet": [
           {
            "colorbar": {
             "outlinewidth": 0,
             "ticks": ""
            },
            "type": "contourcarpet"
           }
          ],
          "heatmap": [
           {
            "colorbar": {
             "outlinewidth": 0,
             "ticks": ""
            },
            "colorscale": [
             [
              0,
              "#0d0887"
             ],
             [
              0.1111111111111111,
              "#46039f"
             ],
             [
              0.2222222222222222,
              "#7201a8"
             ],
             [
              0.3333333333333333,
              "#9c179e"
             ],
             [
              0.4444444444444444,
              "#bd3786"
             ],
             [
              0.5555555555555556,
              "#d8576b"
             ],
             [
              0.6666666666666666,
              "#ed7953"
             ],
             [
              0.7777777777777778,
              "#fb9f3a"
             ],
             [
              0.8888888888888888,
              "#fdca26"
             ],
             [
              1,
              "#f0f921"
             ]
            ],
            "type": "heatmap"
           }
          ],
          "heatmapgl": [
           {
            "colorbar": {
             "outlinewidth": 0,
             "ticks": ""
            },
            "colorscale": [
             [
              0,
              "#0d0887"
             ],
             [
              0.1111111111111111,
              "#46039f"
             ],
             [
              0.2222222222222222,
              "#7201a8"
             ],
             [
              0.3333333333333333,
              "#9c179e"
             ],
             [
              0.4444444444444444,
              "#bd3786"
             ],
             [
              0.5555555555555556,
              "#d8576b"
             ],
             [
              0.6666666666666666,
              "#ed7953"
             ],
             [
              0.7777777777777778,
              "#fb9f3a"
             ],
             [
              0.8888888888888888,
              "#fdca26"
             ],
             [
              1,
              "#f0f921"
             ]
            ],
            "type": "heatmapgl"
           }
          ],
          "histogram": [
           {
            "marker": {
             "pattern": {
              "fillmode": "overlay",
              "size": 10,
              "solidity": 0.2
             }
            },
            "type": "histogram"
           }
          ],
          "histogram2d": [
           {
            "colorbar": {
             "outlinewidth": 0,
             "ticks": ""
            },
            "colorscale": [
             [
              0,
              "#0d0887"
             ],
             [
              0.1111111111111111,
              "#46039f"
             ],
             [
              0.2222222222222222,
              "#7201a8"
             ],
             [
              0.3333333333333333,
              "#9c179e"
             ],
             [
              0.4444444444444444,
              "#bd3786"
             ],
             [
              0.5555555555555556,
              "#d8576b"
             ],
             [
              0.6666666666666666,
              "#ed7953"
             ],
             [
              0.7777777777777778,
              "#fb9f3a"
             ],
             [
              0.8888888888888888,
              "#fdca26"
             ],
             [
              1,
              "#f0f921"
             ]
            ],
            "type": "histogram2d"
           }
          ],
          "histogram2dcontour": [
           {
            "colorbar": {
             "outlinewidth": 0,
             "ticks": ""
            },
            "colorscale": [
             [
              0,
              "#0d0887"
             ],
             [
              0.1111111111111111,
              "#46039f"
             ],
             [
              0.2222222222222222,
              "#7201a8"
             ],
             [
              0.3333333333333333,
              "#9c179e"
             ],
             [
              0.4444444444444444,
              "#bd3786"
             ],
             [
              0.5555555555555556,
              "#d8576b"
             ],
             [
              0.6666666666666666,
              "#ed7953"
             ],
             [
              0.7777777777777778,
              "#fb9f3a"
             ],
             [
              0.8888888888888888,
              "#fdca26"
             ],
             [
              1,
              "#f0f921"
             ]
            ],
            "type": "histogram2dcontour"
           }
          ],
          "mesh3d": [
           {
            "colorbar": {
             "outlinewidth": 0,
             "ticks": ""
            },
            "type": "mesh3d"
           }
          ],
          "parcoords": [
           {
            "line": {
             "colorbar": {
              "outlinewidth": 0,
              "ticks": ""
             }
            },
            "type": "parcoords"
           }
          ],
          "pie": [
           {
            "automargin": true,
            "type": "pie"
           }
          ],
          "scatter": [
           {
            "fillpattern": {
             "fillmode": "overlay",
             "size": 10,
             "solidity": 0.2
            },
            "type": "scatter"
           }
          ],
          "scatter3d": [
           {
            "line": {
             "colorbar": {
              "outlinewidth": 0,
              "ticks": ""
             }
            },
            "marker": {
             "colorbar": {
              "outlinewidth": 0,
              "ticks": ""
             }
            },
            "type": "scatter3d"
           }
          ],
          "scattercarpet": [
           {
            "marker": {
             "colorbar": {
              "outlinewidth": 0,
              "ticks": ""
             }
            },
            "type": "scattercarpet"
           }
          ],
          "scattergeo": [
           {
            "marker": {
             "colorbar": {
              "outlinewidth": 0,
              "ticks": ""
             }
            },
            "type": "scattergeo"
           }
          ],
          "scattergl": [
           {
            "marker": {
             "colorbar": {
              "outlinewidth": 0,
              "ticks": ""
             }
            },
            "type": "scattergl"
           }
          ],
          "scattermapbox": [
           {
            "marker": {
             "colorbar": {
              "outlinewidth": 0,
              "ticks": ""
             }
            },
            "type": "scattermapbox"
           }
          ],
          "scatterpolar": [
           {
            "marker": {
             "colorbar": {
              "outlinewidth": 0,
              "ticks": ""
             }
            },
            "type": "scatterpolar"
           }
          ],
          "scatterpolargl": [
           {
            "marker": {
             "colorbar": {
              "outlinewidth": 0,
              "ticks": ""
             }
            },
            "type": "scatterpolargl"
           }
          ],
          "scatterternary": [
           {
            "marker": {
             "colorbar": {
              "outlinewidth": 0,
              "ticks": ""
             }
            },
            "type": "scatterternary"
           }
          ],
          "surface": [
           {
            "colorbar": {
             "outlinewidth": 0,
             "ticks": ""
            },
            "colorscale": [
             [
              0,
              "#0d0887"
             ],
             [
              0.1111111111111111,
              "#46039f"
             ],
             [
              0.2222222222222222,
              "#7201a8"
             ],
             [
              0.3333333333333333,
              "#9c179e"
             ],
             [
              0.4444444444444444,
              "#bd3786"
             ],
             [
              0.5555555555555556,
              "#d8576b"
             ],
             [
              0.6666666666666666,
              "#ed7953"
             ],
             [
              0.7777777777777778,
              "#fb9f3a"
             ],
             [
              0.8888888888888888,
              "#fdca26"
             ],
             [
              1,
              "#f0f921"
             ]
            ],
            "type": "surface"
           }
          ],
          "table": [
           {
            "cells": {
             "fill": {
              "color": "#EBF0F8"
             },
             "line": {
              "color": "white"
             }
            },
            "header": {
             "fill": {
              "color": "#C8D4E3"
             },
             "line": {
              "color": "white"
             }
            },
            "type": "table"
           }
          ]
         },
         "layout": {
          "annotationdefaults": {
           "arrowcolor": "#2a3f5f",
           "arrowhead": 0,
           "arrowwidth": 1
          },
          "autotypenumbers": "strict",
          "coloraxis": {
           "colorbar": {
            "outlinewidth": 0,
            "ticks": ""
           }
          },
          "colorscale": {
           "diverging": [
            [
             0,
             "#8e0152"
            ],
            [
             0.1,
             "#c51b7d"
            ],
            [
             0.2,
             "#de77ae"
            ],
            [
             0.3,
             "#f1b6da"
            ],
            [
             0.4,
             "#fde0ef"
            ],
            [
             0.5,
             "#f7f7f7"
            ],
            [
             0.6,
             "#e6f5d0"
            ],
            [
             0.7,
             "#b8e186"
            ],
            [
             0.8,
             "#7fbc41"
            ],
            [
             0.9,
             "#4d9221"
            ],
            [
             1,
             "#276419"
            ]
           ],
           "sequential": [
            [
             0,
             "#0d0887"
            ],
            [
             0.1111111111111111,
             "#46039f"
            ],
            [
             0.2222222222222222,
             "#7201a8"
            ],
            [
             0.3333333333333333,
             "#9c179e"
            ],
            [
             0.4444444444444444,
             "#bd3786"
            ],
            [
             0.5555555555555556,
             "#d8576b"
            ],
            [
             0.6666666666666666,
             "#ed7953"
            ],
            [
             0.7777777777777778,
             "#fb9f3a"
            ],
            [
             0.8888888888888888,
             "#fdca26"
            ],
            [
             1,
             "#f0f921"
            ]
           ],
           "sequentialminus": [
            [
             0,
             "#0d0887"
            ],
            [
             0.1111111111111111,
             "#46039f"
            ],
            [
             0.2222222222222222,
             "#7201a8"
            ],
            [
             0.3333333333333333,
             "#9c179e"
            ],
            [
             0.4444444444444444,
             "#bd3786"
            ],
            [
             0.5555555555555556,
             "#d8576b"
            ],
            [
             0.6666666666666666,
             "#ed7953"
            ],
            [
             0.7777777777777778,
             "#fb9f3a"
            ],
            [
             0.8888888888888888,
             "#fdca26"
            ],
            [
             1,
             "#f0f921"
            ]
           ]
          },
          "colorway": [
           "#636efa",
           "#EF553B",
           "#00cc96",
           "#ab63fa",
           "#FFA15A",
           "#19d3f3",
           "#FF6692",
           "#B6E880",
           "#FF97FF",
           "#FECB52"
          ],
          "font": {
           "color": "#2a3f5f"
          },
          "geo": {
           "bgcolor": "white",
           "lakecolor": "white",
           "landcolor": "#E5ECF6",
           "showlakes": true,
           "showland": true,
           "subunitcolor": "white"
          },
          "hoverlabel": {
           "align": "left"
          },
          "hovermode": "closest",
          "mapbox": {
           "style": "light"
          },
          "paper_bgcolor": "white",
          "plot_bgcolor": "#E5ECF6",
          "polar": {
           "angularaxis": {
            "gridcolor": "white",
            "linecolor": "white",
            "ticks": ""
           },
           "bgcolor": "#E5ECF6",
           "radialaxis": {
            "gridcolor": "white",
            "linecolor": "white",
            "ticks": ""
           }
          },
          "scene": {
           "xaxis": {
            "backgroundcolor": "#E5ECF6",
            "gridcolor": "white",
            "gridwidth": 2,
            "linecolor": "white",
            "showbackground": true,
            "ticks": "",
            "zerolinecolor": "white"
           },
           "yaxis": {
            "backgroundcolor": "#E5ECF6",
            "gridcolor": "white",
            "gridwidth": 2,
            "linecolor": "white",
            "showbackground": true,
            "ticks": "",
            "zerolinecolor": "white"
           },
           "zaxis": {
            "backgroundcolor": "#E5ECF6",
            "gridcolor": "white",
            "gridwidth": 2,
            "linecolor": "white",
            "showbackground": true,
            "ticks": "",
            "zerolinecolor": "white"
           }
          },
          "shapedefaults": {
           "line": {
            "color": "#2a3f5f"
           }
          },
          "ternary": {
           "aaxis": {
            "gridcolor": "white",
            "linecolor": "white",
            "ticks": ""
           },
           "baxis": {
            "gridcolor": "white",
            "linecolor": "white",
            "ticks": ""
           },
           "bgcolor": "#E5ECF6",
           "caxis": {
            "gridcolor": "white",
            "linecolor": "white",
            "ticks": ""
           }
          },
          "title": {
           "x": 0.05
          },
          "xaxis": {
           "automargin": true,
           "gridcolor": "white",
           "linecolor": "white",
           "ticks": "",
           "title": {
            "standoff": 15
           },
           "zerolinecolor": "white",
           "zerolinewidth": 2
          },
          "yaxis": {
           "automargin": true,
           "gridcolor": "white",
           "linecolor": "white",
           "ticks": "",
           "title": {
            "standoff": 15
           },
           "zerolinecolor": "white",
           "zerolinewidth": 2
          }
         }
        },
        "title": {
         "font": {
          "color": "black",
          "size": 20
         },
         "text": "<br>Relative Popularity of Work by Publication Year</br>",
         "x": 0.45
        },
        "xaxis": {
         "anchor": "y",
         "domain": [
          0,
          1
         ],
         "dtick": 20,
         "tick0": 1800,
         "tickmode": "linear",
         "title": {
          "text": "Publication Year"
         }
        },
        "yaxis": {
         "anchor": "x",
         "domain": [
          0,
          1
         ],
         "title": {
          "text": "<br><--- More Popular GR   &nbsp; &nbsp; &nbsp; &nbsp; &nbsp; &nbsp; &nbsp;   More Popular SC ---><br><br> SC Borrows / GR Reviews* <br> (log scale)"
         }
        }
       }
      }
     },
     "metadata": {},
     "output_type": "display_data"
    },
    {
     "name": "stdout",
     "output_type": "stream",
     "text": [
      "Most relatively popular in Goodreads:\n",
      "\t1\t1880\tLittle Women\tLouisa May Alcott\n",
      "\t2\t1897\tDracula\tBram Stoker\n",
      "\t3\t1877\tAnna Karenina\tLeo Tolstoy\n",
      "\t4\t1900\tThe Wonderful Wizard of Oz\tL. Frank Baum\n",
      "\t5\t1857\tMadame Bovary\tGustave Flaubert\n",
      "\t6\t1929\tAll Quiet on the Western Front\tErich Maria Remarque\n",
      "\t7\t1814\tMansfield Park\tJane Austen\n",
      "\t8\t1925\tThe Trial\tFranz Kafka\n",
      "\t9\t1851\tUncle Tom's Cabin\tHarriet Beecher Stowe\n",
      "\t10\t1925\tThe Great Gatsby\tF. Scott Fitzgerald\n",
      "\t11\t1892\tThe Adventures of Sherlock Holmes\tArthur Conan Doyle\n",
      "\t12\t1818\tNorthanger Abbey\tJane Austen\n",
      "\t13\t1813\tPride and Prejudice\tJane Austen\n",
      "\t14\t1817\tPersuasion\tJane Austen\n",
      "\t15\t1897\tThe Invisible Man\tH. G. Wells\n",
      "\t16\t1908\tThe Wind in the Willows\tKenneth Grahame\n",
      "\t17\t1890\tThe Picture of Dorian Grey\tOscar Wilde\n",
      "\t18\t1903\tThe Call of the Wild\tJack London\n",
      "\t19\t1911\tEthan Frome\tEdith Wharton\n",
      "\t20\t1890\tThe Sign of Four\tArthur Conan Doyle\n",
      "Most relatively popular in Shakespeare and Company:\n",
      "\t1\t1938\tThe Midas Touch\tMargaret Kennedy\n",
      "\t2\t1935\tRipeness Is All\tEric Linklater\n",
      "\t3\t1938\tThis Is Mr. Fortune\tH. C. Bailey\n",
      "\t4\t1937\tThe White Horses of Vienna\tKay Boyle\n",
      "\t5\t1935\tThe Washington Legation Murders\tF. Van Wyck Mason\n",
      "\t6\t1917\tThe Psychology of the Unconscious\tCarl Gustav Jung\n",
      "\t7\t1930\tTobit Transplanted\tStella Benson\n",
      "\t8\t1934\tA Nest of Simple Folk\tSeán Ó Faoláin\n",
      "\t9\t1932\tThe Case Is Altered\tWilliam Charles Franklyn Plomer\n",
      "\t10\t1927\tThe Babyons: The Chronicle of a Family\tClemence Dane\n",
      "\t11\t1921\tAlone\tNorman Douglas\n",
      "\t12\t1919\tLegend\tClemence Dane\n",
      "\t13\t1939\tThe Fox Prowls\tValentine Williams\n",
      "\t14\t1939\tFour-Part Setting\tAnn Bridge\n",
      "\t15\t1922\tLillian\tArnold Bennett\n",
      "\t16\t1937\tEnchanter's Nightshade\tAnn Bridge\n",
      "\t17\t1910\tStudies in the Psychology of Sex\tHavelock Ellis\n",
      "\t18\t1936\tSparkenbroke\tCharles Morgan\n",
      "\t19\t1934\tA Century of Humour\t\n",
      "\t20\t1930\tThe White Paternoster and Other Stories\tTheodore Francis Powys\n"
     ]
    }
   ],
   "source": [
    "from graph import get_goodreads_graph, get_sc_graph\n",
    "import json\n",
    "import numpy as np\n",
    "import math\n",
    "import os\n",
    "\n",
    "# don't let matplotlib use xwindows\n",
    "import matplotlib\n",
    "#matplotlib.use('Agg')\n",
    "import matplotlib.pyplot as plt\n",
    "from matplotlib.pylab import savefig\n",
    "import seaborn as sns\n",
    "sns.set_style(\"ticks\")\n",
    "import pandas as pd\n",
    "\n",
    "output_directory_path = './figures'\n",
    "if not os.path.exists(output_directory_path):\n",
    "    os.makedirs(output_directory_path)\n",
    "\n",
    "def plot_relative_popularity_by_year():\n",
    "\n",
    "    # get the shakespeare and company graph\n",
    "    sc_books_in_vertex_order, sc_book_to_vertex_index, sc_edge_to_weight, sc_vertex_to_neighbors, sc_n, sc_book_uri_to_num_events, sc_book_uri_to_text, sc_book_uri_to_year, sc_book_uri_to_title, sc_book_uri_to_author = get_sc_graph()\n",
    "\n",
    "    # and now get the goodreads graph\n",
    "    gr_books_in_vertex_order, gr_book_to_vertex_index, gr_edge_to_weight, gr_vertex_to_neighbors, gr_n, gr_book_id_to_num_ratings, gr_book_id_to_text = get_goodreads_graph()\n",
    "\n",
    "    with open('data/goodreads-book-id-to-sc-uri_full-matching.json', 'r') as f:\n",
    "        goodreads_book_id_to_sc_uri = json.load(f)\n",
    "\n",
    "    # load newly scraped data\n",
    "    df = pd.read_json('data/matched-goodreads-metadata.json')\n",
    "    gr_book_id_to_scraped_num_reviews = {str(gr_id): num_reviews for gr_id, num_reviews in zip(df['bookID'], df['numReviews'])}\n",
    "    gr_book_id_to_scraped_year = {str(gr_id): year for gr_id, year in zip(df['bookID'], df['yearFirstPublished'])}\n",
    "    gr_book_id_to_scraped_title = {str(gr_id): title for gr_id, title in zip(df['bookID'], df['title'])}\n",
    "    gr_book_id_to_scraped_author = {str(gr_id): author for gr_id, author in zip(df['bookID'], df['author'])}\n",
    "    \n",
    "    years = []\n",
    "    titles = []\n",
    "    authors = []\n",
    "    gr_popularity_ratios = []\n",
    "    sc_popularity_ratios = []\n",
    "    gr_reviews = []\n",
    "    sc_borrows = []\n",
    "    gr_total_reviews = sum(gr_book_id_to_scraped_num_reviews.values())\n",
    "    sc_total_borrows = sum(sc_book_uri_to_num_events.values())\n",
    "    sc_texts = []\n",
    "    for gr_book_id, sc_uri in goodreads_book_id_to_sc_uri.items():\n",
    "\n",
    "        # some matched books don't have years in the dataset!!\n",
    "        if gr_book_id not in gr_book_id_to_scraped_year:\n",
    "            continue\n",
    "        if math.isnan(gr_book_id_to_scraped_year[gr_book_id]):\n",
    "            continue\n",
    "\n",
    "        year = int(gr_book_id_to_scraped_year[gr_book_id])\n",
    "        title = sc_book_uri_to_title[sc_uri]\n",
    "        author = sc_book_uri_to_author[sc_uri]\n",
    "\n",
    "        # skip super old books\n",
    "        if year < 1800 or year > 1940:\n",
    "            continue\n",
    "\n",
    "        # sometimes popularity is zero--skip!!!\n",
    "        if gr_book_id_to_scraped_num_reviews[gr_book_id] == 0:\n",
    "            continue\n",
    "        if sc_book_uri_to_num_events[sc_uri] == 0:\n",
    "            continue\n",
    "\n",
    "        #gr_text = gr_book_id_to_text[gr_book_id]\n",
    "        #sc_text = sc_book_uri_to_text[sc_uri]\n",
    "        sc_text = '{}\\t{}'.format(gr_book_id_to_scraped_title[gr_book_id], gr_book_id_to_scraped_author[gr_book_id])\n",
    "\n",
    "        # get relative popularity ratios\n",
    "        gr_popularity_ratios.append(gr_book_id_to_scraped_num_reviews[gr_book_id] / gr_total_reviews)\n",
    "        sc_popularity_ratios.append(sc_book_uri_to_num_events[sc_uri] / sc_total_borrows)\n",
    "\n",
    "        # add in Goodreads reviews and SC borrows\n",
    "        gr_reviews.append(gr_book_id_to_scraped_num_reviews[gr_book_id])\n",
    "        sc_borrows.append(sc_book_uri_to_num_events[sc_uri])\n",
    "        years.append(year)\n",
    "        titles.append(title)\n",
    "\n",
    "        # add convert string to author\n",
    "        authors.append(convert_string_to_author(author))\n",
    "\n",
    "        sc_texts.append(sc_text)\n",
    "\n",
    "    # now plot!\n",
    "    log_ratios = [np.log(s / g) for s, g in zip(sc_popularity_ratios, gr_popularity_ratios)]\n",
    "\n",
    "    point_types = []\n",
    "    most_gr_examples = sorted(zip(log_ratios, years, sc_texts, [i for i in range(len(years))]), reverse=False)[:30]\n",
    "    most_gr_idxs = [i for _, _, _, i in most_gr_examples]\n",
    "    most_sc_examples = sorted(zip(log_ratios, years, sc_texts, [i for i in range(len(years))]), reverse=True)[:30]\n",
    "    most_sc_idxs = [i for _, _, _, i in most_sc_examples]\n",
    "    for i in range(len(log_ratios)):\n",
    "        if i in most_gr_idxs:\n",
    "            point_types.append('Much more popular on<br>Goodreads')\n",
    "        elif i in most_sc_idxs:\n",
    "            point_types.append('Much more popular in<br> Shakespeare & Company')\n",
    "        else:\n",
    "            point_types.append('Other work')\n",
    "\n",
    "    # '#86ceeb'\n",
    "    color_dict = {'Other work': '#b3cde3', 'Much more popular in<br> Shakespeare & Company': '#fc6b32', 'Much more popular on<br>Goodreads': '#13c28d'}\n",
    "    marker_dict = {'normal': 'o', 'sc': 's', 'gr': 'D'}\n",
    "\n",
    "    results = pd.DataFrame({'Year': years,\n",
    "                        'log(SC/GR)': log_ratios,\n",
    "                        'point_types': point_types,\n",
    "                        'titles': titles,\n",
    "                        'authors': authors,\n",
    "                        'Goodreads reviews': gr_reviews,\n",
    "                        'SC borrows': sc_borrows\n",
    "                       })\n",
    "    \n",
    "    # Add in interactivity\n",
    "\n",
    "    config = {'scrollZoom': True,\n",
    "              'displaylogo': False,  \n",
    "              'displayModeBar': True,\n",
    "              'modeBarButtonsToRemove': ['lasso2d',\n",
    "                                         'zoom2d', \n",
    "                                         'hoverCompareCartesian', \n",
    "                                         'hoverClosestCartesian', \n",
    "                                         'toggleSpikelines',\n",
    "                                          'autoScale2d',\n",
    "                                          'select2d']\n",
    "              }\n",
    "\n",
    "    fig = px.scatter(data_frame=results,\n",
    "                    hover_data = ['Year', 'log(SC/GR)', 'point_types', 'titles', 'authors', 'Goodreads reviews', 'SC borrows'], \n",
    "                    x='Year',\n",
    "                    y='log(SC/GR)',\n",
    "                     color='point_types', color_discrete_map=color_dict,\n",
    "                         symbol='point_types', symbol_sequence=['circle', 'square', 'diamond'],\n",
    "\n",
    "                    hover_name = 'titles',\n",
    "                    labels = {'log(SC/GR)': '<br><--- More Popular GR   &nbsp; &nbsp; &nbsp; &nbsp; &nbsp; &nbsp; &nbsp;   More Popular SC ---><br><br> SC Borrows / GR Reviews* <br> (log scale)',\n",
    "                            'Year': 'Publication Year',\n",
    "                            },\n",
    "                    title = '<br>Relative Popularity of Work by Publication Year</br>'\n",
    "                    )\n",
    "    \n",
    "    # customize hover text\n",
    "\n",
    "    fig.update_traces(hovertemplate='<b>%{hovertext}</b><br><br>Author: %{customdata[2]}<br>Publication Year: %{x}<br><br>S&C Borrows: %{customdata[4]}<br>Goodreads Reviews: %{customdata[3]:,.0f}<br><br>log(SC/GR): %{y:,.2f}<extra></extra>'\n",
    "    ) \n",
    "\n",
    "    # customize x ticks\n",
    "\n",
    "    fig.update_layout(\n",
    "        xaxis = dict(\n",
    "            tickmode = 'linear',\n",
    "            tick0 = 1800,\n",
    "            dtick = 20\n",
    "        )\n",
    "    )\n",
    "    # set font color and size\n",
    "    fig.update_layout(\n",
    "        #font_family=\"Liberation Sans\",\n",
    "        font_color=\"black\",\n",
    "        font_size = 15,\n",
    "        # title_font_family=\"Overpass\",\n",
    "        title_font_color=\"black\",\n",
    "        title_font_size = 20,\n",
    "        #legend_title_font_color=\"green\"\n",
    "    )\n",
    "\n",
    "    # set font size -- hover text\n",
    "\n",
    "    fig.update_layout(\n",
    "    hoverlabel=dict(\n",
    "      \n",
    "        font_size=16,\n",
    "     \n",
    "    )\n",
    ")\n",
    "    # set drag to pan \n",
    "    fig.update_layout(dragmode='pan')\n",
    "    \n",
    "    # Set legend\n",
    "\n",
    "    fig.update_layout(legend_title_text='', legend_traceorder=\"reversed\")\n",
    "    \n",
    "    # Center title\n",
    "    fig.update_layout(title_x=0.45)\n",
    "\n",
    "    # increase size of points\n",
    "    fig.update_traces(marker=dict(size=7.5))\n",
    "\n",
    "    #Write to HTML\n",
    "    fig.write_html(\"relative-popularity-interactive.html\", config = config)\n",
    "\n",
    "    fig.show(config = config)\n",
    "\n",
    "    # send plot to Chart Studio\n",
    "    py.plot(fig, filename=\"relative_popularity-interactive-v2\", auto_open = True, config = config)\n",
    "\n",
    "    # print extreme books\n",
    "    print('Most relatively popular in Goodreads:')\n",
    "    for i, (ratio, year, title, author, text) in enumerate(sorted(zip(log_ratios, years, titles, authors, sc_texts), reverse=False)[:20]):\n",
    "        print('\\t{}\\t{}\\t{}\\t{}'.format(i+1, year, title, author))\n",
    "    print('Most relatively popular in Shakespeare and Company:')\n",
    "    for i, (ratio, year, title, author, text) in enumerate(sorted(zip(log_ratios, years, titles, authors, sc_texts), reverse=True)[:20]):\n",
    "        print('\\t{}\\t{}\\t{}\\t{}'.format(i+1, year, title, author))\n",
    "\n",
    "\n",
    "plot_relative_popularity_by_year()\n"
   ]
  },
  {
   "cell_type": "markdown",
   "metadata": {},
   "source": []
  }
 ],
 "metadata": {
  "kernelspec": {
   "display_name": "base",
   "language": "python",
   "name": "python3"
  },
  "language_info": {
   "codemirror_mode": {
    "name": "ipython",
    "version": 3
   },
   "file_extension": ".py",
   "mimetype": "text/x-python",
   "name": "python",
   "nbconvert_exporter": "python",
   "pygments_lexer": "ipython3",
   "version": "3.11.5"
  }
 },
 "nbformat": 4,
 "nbformat_minor": 2
}
